{
 "cells": [
  {
   "cell_type": "code",
   "execution_count": 13,
   "metadata": {
    "scrolled": true
   },
   "outputs": [],
   "source": [
    "from codebase.classesmcmc import Data, MCMC\n",
    "import  pystan\n",
    "import argparse\n",
    "import numpy as np\n",
    "from codebase.file_utils import (\n",
    "    save_obj,\n",
    "    load_obj,\n",
    "    make_folder,\n",
    "    path_backslash\n",
    ")\n",
    "import altair as alt \n",
    "import pandas as pd"
   ]
  },
  {
   "cell_type": "markdown",
   "metadata": {},
   "source": [
    "##"
   ]
  },
  {
   "cell_type": "code",
   "execution_count": 14,
   "metadata": {},
   "outputs": [],
   "source": [
    "def compile_model(model_num, log_dir, save=True):\n",
    "    path_to_stan = './codebase/stancode/models/1factor/'\n",
    "\n",
    "    with open('%smodel_%s.stan'%(\n",
    "    path_to_stan,\n",
    "    model_num\n",
    "    ), 'r') as file:\n",
    "        model_code = file.read()\n",
    "\n",
    "    sm = pystan.StanModel(model_code=model_code, verbose=False)\n",
    "    \n",
    "    if save:\n",
    "        save_obj(sm, 'sm', log_dir)\n",
    "    return sm\n",
    "\n",
    "\n",
    "def run_stan_model(\n",
    "    data,\n",
    "    compiled_model,\n",
    "    num_samples, \n",
    "    num_warmup,\n",
    "    num_chains,\n",
    "    ):\n",
    "\n",
    "    control={\n",
    "        \"metric\" : \"diag_e\", # diag_e/dense_e\n",
    "        \"adapt_delta\" : 0.999,\n",
    "        \"max_treedepth\" : 25,\n",
    "        \"adapt_engaged\" : True\n",
    "        }\n",
    "\n",
    "    fit_run = compiled_model.sampling(\n",
    "        data = data,\n",
    "        iter=num_samples + num_warmup,\n",
    "        warmup=num_warmup,\n",
    "        chains=num_chains,\n",
    "#         init=0,\n",
    "        control=control,\n",
    "        n_jobs=1\n",
    "    )\n",
    "\n",
    "    return fit_run\n",
    "\n",
    "def flatten_corr(a, offset = 0):\n",
    "    \"\"\"\n",
    "    Flatten a [K, K ] correlation\n",
    "    matrix to [M,] array where\n",
    "    M is the number of of elements above the\n",
    "    diagonal for a K by K matrix.\n",
    "\n",
    "    Inputs\n",
    "    ============\n",
    "    - R : matrix to flattent out, should be\n",
    "        of dimension [K,K]\n",
    "    Output\n",
    "    ============\n",
    "    -  an array of size [M,]\n",
    "    \"\"\"\n",
    "    return a[np.triu_indices(a.shape[0], k=offset)]\n"
   ]
  },
  {
   "cell_type": "code",
   "execution_count": 15,
   "metadata": {},
   "outputs": [],
   "source": [
    "log_dir = './log/20201120_193025_standebug/'\n",
    "# existing_directory = None\n",
    "# task_handle  = 'standebug'\n",
    "# if existing_directory is None:\n",
    "#     log_dir = make_folder(task_handle)  \n",
    "#     print(\"\\n\\nCreating new directory: %s\" % log_dir)\n",
    "\n",
    "# else:\n",
    "#     log_dir = args.existing_directory\n",
    "#     log_dir = path_backslash(log_dir)\n",
    "#     print(\"\\n\\nReading from existing directory: %s\" % log_dir)\n"
   ]
  },
  {
   "cell_type": "code",
   "execution_count": 16,
   "metadata": {},
   "outputs": [],
   "source": [
    "data_sim = 1000\n",
    "expdata = Data(\"1factor\", 1, data_sim, random_seed=4)\n",
    "expdata.generate()\n",
    "save_obj(expdata, 'data', log_dir)"
   ]
  },
  {
   "cell_type": "code",
   "execution_count": 17,
   "metadata": {},
   "outputs": [],
   "source": [
    "# expdata = load_obj('data', log_dir)"
   ]
  },
  {
   "cell_type": "code",
   "execution_count": 18,
   "metadata": {},
   "outputs": [],
   "source": [
    "# compile_model(0, log_dir)"
   ]
  },
  {
   "cell_type": "code",
   "execution_count": 19,
   "metadata": {},
   "outputs": [],
   "source": [
    "sm = load_obj('sm', log_dir)"
   ]
  },
  {
   "cell_type": "code",
   "execution_count": 20,
   "metadata": {},
   "outputs": [
    {
     "name": "stderr",
     "output_type": "stream",
     "text": [
      "WARNING:pystan:Maximum (flat) parameter count (1000) exceeded: skipping diagnostic tests for n_eff and Rhat.\n",
      "To run all diagnostics call pystan.check_hmc_diagnostics(fit)\n",
      "WARNING:pystan:Chain 1: E-BFMI = 0.0275\n",
      "WARNING:pystan:E-BFMI below 0.2 indicates you may need to reparameterize your model\n"
     ]
    }
   ],
   "source": [
    "fit_run = run_stan_model(\n",
    "    data = expdata.get_stan_data(),\n",
    "    compiled_model = sm,\n",
    "    num_samples = 5000, \n",
    "    num_warmup = 5000,\n",
    "    num_chains = 1\n",
    "    )"
   ]
  },
  {
   "cell_type": "code",
   "execution_count": 21,
   "metadata": {},
   "outputs": [],
   "source": [
    "param_names = ['beta', 'alpha', 'zz', 'betabeta']\n",
    "\n",
    "ps = fit_run.extract(\n",
    "        permuted=False, pars=param_names)"
   ]
  },
  {
   "cell_type": "code",
   "execution_count": 22,
   "metadata": {},
   "outputs": [],
   "source": [
    "b = np.squeeze(ps['betabeta'])\n",
    "estb = flatten_corr(np.mean(b, 0))\n",
    "quantb = np.quantile(b, q=[0.025, 0.975], axis=0)\n",
    "qb1 = flatten_corr(quantb[0])\n",
    "qb2 = flatten_corr(quantb[1])\n"
   ]
  },
  {
   "cell_type": "code",
   "execution_count": 23,
   "metadata": {
    "scrolled": true
   },
   "outputs": [
    {
     "data": {
      "text/html": [
       "<div>\n",
       "<style scoped>\n",
       "    .dataframe tbody tr th:only-of-type {\n",
       "        vertical-align: middle;\n",
       "    }\n",
       "\n",
       "    .dataframe tbody tr th {\n",
       "        vertical-align: top;\n",
       "    }\n",
       "\n",
       "    .dataframe thead th {\n",
       "        text-align: right;\n",
       "    }\n",
       "</style>\n",
       "<table border=\"1\" class=\"dataframe\">\n",
       "  <thead>\n",
       "    <tr style=\"text-align: right;\">\n",
       "      <th></th>\n",
       "      <th>index</th>\n",
       "      <th>estimate</th>\n",
       "      <th>q1</th>\n",
       "      <th>q2</th>\n",
       "      <th>realdata</th>\n",
       "    </tr>\n",
       "  </thead>\n",
       "  <tbody>\n",
       "    <tr>\n",
       "      <td>0</td>\n",
       "      <td>0</td>\n",
       "      <td>1.000000</td>\n",
       "      <td>1.000000</td>\n",
       "      <td>1.000000</td>\n",
       "      <td>1.0</td>\n",
       "    </tr>\n",
       "    <tr>\n",
       "      <td>1</td>\n",
       "      <td>1</td>\n",
       "      <td>0.386703</td>\n",
       "      <td>0.153222</td>\n",
       "      <td>0.740604</td>\n",
       "      <td>0.7</td>\n",
       "    </tr>\n",
       "    <tr>\n",
       "      <td>2</td>\n",
       "      <td>2</td>\n",
       "      <td>0.659457</td>\n",
       "      <td>0.305369</td>\n",
       "      <td>1.218804</td>\n",
       "      <td>0.8</td>\n",
       "    </tr>\n",
       "    <tr>\n",
       "      <td>3</td>\n",
       "      <td>3</td>\n",
       "      <td>0.433100</td>\n",
       "      <td>0.162042</td>\n",
       "      <td>0.826646</td>\n",
       "      <td>0.5</td>\n",
       "    </tr>\n",
       "    <tr>\n",
       "      <td>4</td>\n",
       "      <td>4</td>\n",
       "      <td>0.781381</td>\n",
       "      <td>0.400535</td>\n",
       "      <td>1.361392</td>\n",
       "      <td>0.9</td>\n",
       "    </tr>\n",
       "  </tbody>\n",
       "</table>\n",
       "</div>"
      ],
      "text/plain": [
       "   index  estimate        q1        q2  realdata\n",
       "0      0  1.000000  1.000000  1.000000       1.0\n",
       "1      1  0.386703  0.153222  0.740604       0.7\n",
       "2      2  0.659457  0.305369  1.218804       0.8\n",
       "3      3  0.433100  0.162042  0.826646       0.5\n",
       "4      4  0.781381  0.400535  1.361392       0.9"
      ]
     },
     "execution_count": 23,
     "metadata": {},
     "output_type": "execute_result"
    }
   ],
   "source": [
    "df = pd.DataFrame(estb, columns=['estimate'])\n",
    "df['q1'] = qb1\n",
    "df['q2'] = qb2\n",
    "df['realdata'] = flatten_corr(\n",
    "    np.outer(\n",
    "        expdata.raw_data['beta'],\n",
    "        expdata.raw_data['beta']\n",
    "    ))\n",
    "df = df.reset_index()\n",
    "df.head()"
   ]
  },
  {
   "cell_type": "code",
   "execution_count": 24,
   "metadata": {},
   "outputs": [
    {
     "data": {
      "text/html": [
       "\n",
       "<div id=\"altair-viz-f8cf33569d6e4ae08cf2df92a4a6d26b\"></div>\n",
       "<script type=\"text/javascript\">\n",
       "  (function(spec, embedOpt){\n",
       "    let outputDiv = document.currentScript.previousElementSibling;\n",
       "    if (outputDiv.id !== \"altair-viz-f8cf33569d6e4ae08cf2df92a4a6d26b\") {\n",
       "      outputDiv = document.getElementById(\"altair-viz-f8cf33569d6e4ae08cf2df92a4a6d26b\");\n",
       "    }\n",
       "    const paths = {\n",
       "      \"vega\": \"https://cdn.jsdelivr.net/npm//vega@5?noext\",\n",
       "      \"vega-lib\": \"https://cdn.jsdelivr.net/npm//vega-lib?noext\",\n",
       "      \"vega-lite\": \"https://cdn.jsdelivr.net/npm//vega-lite@4.8.1?noext\",\n",
       "      \"vega-embed\": \"https://cdn.jsdelivr.net/npm//vega-embed@6?noext\",\n",
       "    };\n",
       "\n",
       "    function loadScript(lib) {\n",
       "      return new Promise(function(resolve, reject) {\n",
       "        var s = document.createElement('script');\n",
       "        s.src = paths[lib];\n",
       "        s.async = true;\n",
       "        s.onload = () => resolve(paths[lib]);\n",
       "        s.onerror = () => reject(`Error loading script: ${paths[lib]}`);\n",
       "        document.getElementsByTagName(\"head\")[0].appendChild(s);\n",
       "      });\n",
       "    }\n",
       "\n",
       "    function showError(err) {\n",
       "      outputDiv.innerHTML = `<div class=\"error\" style=\"color:red;\">${err}</div>`;\n",
       "      throw err;\n",
       "    }\n",
       "\n",
       "    function displayChart(vegaEmbed) {\n",
       "      vegaEmbed(outputDiv, spec, embedOpt)\n",
       "        .catch(err => showError(`Javascript Error: ${err.message}<br>This usually means there's a typo in your chart specification. See the javascript console for the full traceback.`));\n",
       "    }\n",
       "\n",
       "    if(typeof define === \"function\" && define.amd) {\n",
       "      requirejs.config({paths});\n",
       "      require([\"vega-embed\"], displayChart, err => showError(`Error loading script: ${err.message}`));\n",
       "    } else if (typeof vegaEmbed === \"function\") {\n",
       "      displayChart(vegaEmbed);\n",
       "    } else {\n",
       "      loadScript(\"vega\")\n",
       "        .then(() => loadScript(\"vega-lite\"))\n",
       "        .then(() => loadScript(\"vega-embed\"))\n",
       "        .catch(showError)\n",
       "        .then(() => displayChart(vegaEmbed));\n",
       "    }\n",
       "  })({\"config\": {\"view\": {\"continuousWidth\": 400, \"continuousHeight\": 300}}, \"layer\": [{\"mark\": {\"type\": \"bar\", \"opacity\": 0.6}, \"encoding\": {\"x\": {\"type\": \"quantitative\", \"field\": \"q1\"}, \"x2\": {\"field\": \"q2\"}, \"y\": {\"type\": \"nominal\", \"field\": \"index\"}}}, {\"mark\": {\"type\": \"point\", \"color\": \"blue\", \"opacity\": 1}, \"encoding\": {\"x\": {\"type\": \"quantitative\", \"field\": \"estimate\"}, \"y\": {\"type\": \"nominal\", \"field\": \"index\"}}}, {\"mark\": {\"type\": \"point\", \"color\": \"red\", \"opacity\": 1}, \"encoding\": {\"x\": {\"type\": \"quantitative\", \"field\": \"realdata\"}, \"y\": {\"type\": \"nominal\", \"field\": \"index\"}}}], \"data\": {\"name\": \"data-2a740b23cf23320763ee9d7d1631f84f\"}, \"$schema\": \"https://vega.github.io/schema/vega-lite/v4.8.1.json\", \"datasets\": {\"data-2a740b23cf23320763ee9d7d1631f84f\": [{\"index\": 0, \"estimate\": 1.0, \"q1\": 1.0, \"q2\": 1.0, \"realdata\": 1.0}, {\"index\": 1, \"estimate\": 0.38670296089648837, \"q1\": 0.1532222806657248, \"q2\": 0.7406035551715187, \"realdata\": 0.7}, {\"index\": 2, \"estimate\": 0.6594573822413035, \"q1\": 0.3053687786573478, \"q2\": 1.2188043911611495, \"realdata\": 0.8}, {\"index\": 3, \"estimate\": 0.4330999535014479, \"q1\": 0.16204197856596447, \"q2\": 0.8266458200170744, \"realdata\": 0.5}, {\"index\": 4, \"estimate\": 0.7813805519985318, \"q1\": 0.40053502528188145, \"q2\": 1.3613922393930635, \"realdata\": 0.9}, {\"index\": 5, \"estimate\": 0.5746655428695181, \"q1\": 0.22285110895743535, \"q2\": 1.0570962683221918, \"realdata\": 0.6}, {\"index\": 6, \"estimate\": 0.17324679304653223, \"q1\": 0.023477080645859984, \"q2\": 0.5484936328594746, \"realdata\": 0.48999999999999994}, {\"index\": 7, \"estimate\": 0.27311675443310107, \"q1\": 0.05825665202522777, \"q2\": 0.75148863369023, \"realdata\": 0.5599999999999999}, {\"index\": 8, \"estimate\": 0.17657741698634002, \"q1\": 0.03366020336329625, \"q2\": 0.48955950939977966, \"realdata\": 0.35}, {\"index\": 9, \"estimate\": 0.3167514471158771, \"q1\": 0.07648629260239073, \"q2\": 0.7976877242543171, \"realdata\": 0.63}, {\"index\": 10, \"estimate\": 0.23286691459604714, \"q1\": 0.04961591816065018, \"q2\": 0.6258928367740384, \"realdata\": 0.42}, {\"index\": 11, \"estimate\": 0.4894643044420568, \"q1\": 0.093250110177549, \"q2\": 1.4854841794944498, \"realdata\": 0.6400000000000001}, {\"index\": 12, \"estimate\": 0.30357535206375186, \"q1\": 0.0645581932961088, \"q2\": 0.8399183571151487, \"realdata\": 0.4}, {\"index\": 13, \"estimate\": 0.5394537622548788, \"q1\": 0.15027588957369584, \"q2\": 1.3415430270404778, \"realdata\": 0.7200000000000001}, {\"index\": 14, \"estimate\": 0.39753974707825573, \"q1\": 0.093800204334105, \"q2\": 1.0715951864047204, \"realdata\": 0.48}, {\"index\": 15, \"estimate\": 0.21611167776303236, \"q1\": 0.026257648716444152, \"q2\": 0.6833433146272838, \"realdata\": 0.25}, {\"index\": 16, \"estimate\": 0.3547010259086302, \"q1\": 0.08285515232250794, \"q2\": 0.8893474686617795, \"realdata\": 0.45}, {\"index\": 17, \"estimate\": 0.25952993843633737, \"q1\": 0.053530220950100196, \"q2\": 0.683543444147856, \"realdata\": 0.3}, {\"index\": 18, \"estimate\": 0.6728240019742209, \"q1\": 0.16042830650186626, \"q2\": 1.8533888296481542, \"realdata\": 0.81}, {\"index\": 19, \"estimate\": 0.4662483403645153, \"q1\": 0.12374879640705909, \"q2\": 1.1167622124664525, \"realdata\": 0.54}, {\"index\": 20, \"estimate\": 0.3756212796017912, \"q1\": 0.04966261870320754, \"q2\": 1.1174526179122708, \"realdata\": 0.36}]}}, {\"mode\": \"vega-lite\"});\n",
       "</script>"
      ],
      "text/plain": [
       "alt.LayerChart(...)"
      ]
     },
     "execution_count": 24,
     "metadata": {},
     "output_type": "execute_result"
    }
   ],
   "source": [
    "c1 = alt.Chart(df).mark_bar(\n",
    "opacity=0.6).encode(\n",
    "    x='q1',\n",
    "    x2='q2',\n",
    "    y='index:N'\n",
    ")\n",
    "c2 = alt.Chart(df).mark_point(\n",
    "opacity=1,\n",
    "color='blue').encode(\n",
    "    x='estimate',\n",
    "    y='index:N'\n",
    ")\n",
    "c3 = alt.Chart(df).mark_point(\n",
    "opacity=1,\n",
    "color='red').encode(\n",
    "    x='realdata',\n",
    "    y='index:N'\n",
    ")\n",
    "c1+c2+c3\n",
    "\n",
    "# red real data\n",
    "# blue MCMC samples"
   ]
  }
 ],
 "metadata": {
  "kernelspec": {
   "display_name": "Python 3",
   "language": "python",
   "name": "python3"
  },
  "language_info": {
   "codemirror_mode": {
    "name": "ipython",
    "version": 3
   },
   "file_extension": ".py",
   "mimetype": "text/x-python",
   "name": "python",
   "nbconvert_exporter": "python",
   "pygments_lexer": "ipython3",
   "version": "3.7.4"
  }
 },
 "nbformat": 4,
 "nbformat_minor": 2
}
