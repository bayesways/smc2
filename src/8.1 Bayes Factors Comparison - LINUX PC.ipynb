{
 "cells": [
  {
   "cell_type": "code",
   "execution_count": 1,
   "metadata": {},
   "outputs": [
    {
     "data": {
      "text/plain": [
       "DataTransformerRegistry.enable('default')"
      ]
     },
     "execution_count": 1,
     "metadata": {},
     "output_type": "execute_result"
    }
   ],
   "source": [
    "import pandas as pd\n",
    "import numpy as np\n",
    "from codebase.file_utils import (\n",
    "    save_obj,\n",
    "    load_obj,\n",
    ")\n",
    "from codebase.plot import plot_density, plot_histogram, plot_line, get_post_df\n",
    "from codebase.ibis import post_process_sign, exp_and_normalise\n",
    "import altair as alt\n",
    "from codebase.classes_data import Data\n",
    "from codebase.file_utils import (\n",
    "    save_obj,\n",
    "    load_obj,\n",
    "    make_folder,\n",
    "    path_backslash\n",
    ")\n",
    "from pdb import set_trace\n",
    "from scipy.special import logsumexp\n",
    "\n",
    "alt.data_transformers.disable_max_rows()\n"
   ]
  },
  {
   "cell_type": "code",
   "execution_count": 2,
   "metadata": {},
   "outputs": [],
   "source": [
    "def get_model_evidence(log_dir):\n",
    "    particles = load_obj('particles', log_dir)\n",
    "    log_lklhds = load_obj('log_lklhds', log_dir)[30:]\n",
    "    model_evidence = np.empty_like(log_lklhds)\n",
    "    for i in range(log_lklhds.shape[0]):\n",
    "        model_evidence[i] = np.exp(logsumexp(log_lklhds[:(i+1)]))\n",
    "    return model_evidence\n",
    "\n",
    "def plot_bf(df, width=500, height=200):\n",
    "    return alt.Chart(df.melt(id_vars = 'idx')).mark_line(\n",
    "        strokeWidth = 4,\n",
    "        opacity=0.9\n",
    "        ).encode(\n",
    "        alt.X('idx:Q', title=None),\n",
    "        alt.Y('value:Q'),\n",
    "        alt.Color('variable')\n",
    "        ).properties(\n",
    "        width=width, height=height\n",
    "        ).configure_axis(\n",
    "        labelFontSize=14,\n",
    "        titleFontSize=16).configure_legend(\n",
    "        titleFontSize=16,\n",
    "        labelFontSize=14,\n",
    "        symbolStrokeWidth=10\n",
    "        ).interactive()"
   ]
  },
  {
   "cell_type": "code",
   "execution_count": null,
   "metadata": {},
   "outputs": [],
   "source": []
  },
  {
   "cell_type": "markdown",
   "metadata": {},
   "source": [
    "### Particle Size = 100"
   ]
  },
  {
   "cell_type": "code",
   "execution_count": 3,
   "metadata": {},
   "outputs": [
    {
     "data": {
      "text/plain": [
       "array([[1. , 0. ],\n",
       "       [0.8, 0. ],\n",
       "       [0.8, 0. ],\n",
       "       [0. , 1. ],\n",
       "       [0. , 0.8],\n",
       "       [0. , 0.8]])"
      ]
     },
     "execution_count": 3,
     "metadata": {},
     "output_type": "execute_result"
    }
   ],
   "source": [
    "data = load_obj('data','log/ez_data/20210726_211108_ez/')\n",
    "data.raw_data['beta']"
   ]
  },
  {
   "cell_type": "code",
   "execution_count": 4,
   "metadata": {},
   "outputs": [
    {
     "name": "stderr",
     "output_type": "stream",
     "text": [
      "INFO:numexpr.utils:Note: NumExpr detected 24 cores but \"NUMEXPR_MAX_THREADS\" not set, so enforcing safe limit of 8.\n",
      "INFO:numexpr.utils:NumExpr defaulting to 8 threads.\n"
     ]
    },
    {
     "data": {
      "text/html": [
       "\n",
       "<div id=\"altair-viz-60f6a321b2204d17aa13c5c20c48b262\"></div>\n",
       "<script type=\"text/javascript\">\n",
       "  (function(spec, embedOpt){\n",
       "    let outputDiv = document.currentScript.previousElementSibling;\n",
       "    if (outputDiv.id !== \"altair-viz-60f6a321b2204d17aa13c5c20c48b262\") {\n",
       "      outputDiv = document.getElementById(\"altair-viz-60f6a321b2204d17aa13c5c20c48b262\");\n",
       "    }\n",
       "    const paths = {\n",
       "      \"vega\": \"https://cdn.jsdelivr.net/npm//vega@5?noext\",\n",
       "      \"vega-lib\": \"https://cdn.jsdelivr.net/npm//vega-lib?noext\",\n",
       "      \"vega-lite\": \"https://cdn.jsdelivr.net/npm//vega-lite@4.8.1?noext\",\n",
       "      \"vega-embed\": \"https://cdn.jsdelivr.net/npm//vega-embed@6?noext\",\n",
       "    };\n",
       "\n",
       "    function loadScript(lib) {\n",
       "      return new Promise(function(resolve, reject) {\n",
       "        var s = document.createElement('script');\n",
       "        s.src = paths[lib];\n",
       "        s.async = true;\n",
       "        s.onload = () => resolve(paths[lib]);\n",
       "        s.onerror = () => reject(`Error loading script: ${paths[lib]}`);\n",
       "        document.getElementsByTagName(\"head\")[0].appendChild(s);\n",
       "      });\n",
       "    }\n",
       "\n",
       "    function showError(err) {\n",
       "      outputDiv.innerHTML = `<div class=\"error\" style=\"color:red;\">${err}</div>`;\n",
       "      throw err;\n",
       "    }\n",
       "\n",
       "    function displayChart(vegaEmbed) {\n",
       "      vegaEmbed(outputDiv, spec, embedOpt)\n",
       "        .catch(err => showError(`Javascript Error: ${err.message}<br>This usually means there's a typo in your chart specification. See the javascript console for the full traceback.`));\n",
       "    }\n",
       "\n",
       "    if(typeof define === \"function\" && define.amd) {\n",
       "      requirejs.config({paths});\n",
       "      require([\"vega-embed\"], displayChart, err => showError(`Error loading script: ${err.message}`));\n",
       "    } else if (typeof vegaEmbed === \"function\") {\n",
       "      displayChart(vegaEmbed);\n",
       "    } else {\n",
       "      loadScript(\"vega\")\n",
       "        .then(() => loadScript(\"vega-lite\"))\n",
       "        .then(() => loadScript(\"vega-embed\"))\n",
       "        .catch(showError)\n",
       "        .then(() => displayChart(vegaEmbed));\n",
       "    }\n",
       "  })({\"config\": {\"view\": {\"continuousWidth\": 400, \"continuousHeight\": 300}, \"axis\": {\"labelFontSize\": 14, \"titleFontSize\": 16}, \"legend\": {\"labelFontSize\": 14, \"symbolStrokeWidth\": 10, \"titleFontSize\": 16}}, \"data\": {\"name\": \"data-e1fa7fac7b448e24e1a2a39ae7db99d9\"}, \"mark\": {\"type\": \"line\", \"opacity\": 0.9, \"strokeWidth\": 4}, \"encoding\": {\"color\": {\"type\": \"nominal\", \"field\": \"variable\"}, \"x\": {\"type\": \"quantitative\", \"field\": \"idx\", \"title\": null}, \"y\": {\"type\": \"quantitative\", \"field\": \"value\"}}, \"height\": 400, \"selection\": {\"selector001\": {\"type\": \"interval\", \"bind\": \"scales\", \"encodings\": [\"x\", \"y\"]}}, \"width\": 800, \"$schema\": \"https://vega.github.io/schema/vega-lite/v4.8.1.json\", \"datasets\": {\"data-e1fa7fac7b448e24e1a2a39ae7db99d9\": [{\"idx\": 30, \"variable\": \"EZ\", \"value\": 3.168760633136567e-07}, {\"idx\": 31, \"variable\": \"EZ\", \"value\": 0.00017512530054275078}, {\"idx\": 32, \"variable\": \"EZ\", \"value\": 0.0008020864146087359}, {\"idx\": 33, \"variable\": \"EZ\", \"value\": 0.0009848736401818956}, {\"idx\": 34, \"variable\": \"EZ\", \"value\": 0.001509055166709394}, {\"idx\": 35, \"variable\": \"EZ\", \"value\": 0.0027647201945935644}, {\"idx\": 36, \"variable\": \"EZ\", \"value\": 0.002884120720356984}, {\"idx\": 37, \"variable\": \"EZ\", \"value\": 0.004941926852996091}, {\"idx\": 38, \"variable\": \"EZ\", \"value\": 0.006535780765805209}, {\"idx\": 39, \"variable\": \"EZ\", \"value\": 0.006546933200431782}, {\"idx\": 40, \"variable\": \"EZ\", \"value\": 0.0074878137417244365}, {\"idx\": 41, \"variable\": \"EZ\", \"value\": 0.008073076040665093}, {\"idx\": 42, \"variable\": \"EZ\", \"value\": 0.009066480098564337}, {\"idx\": 43, \"variable\": \"EZ\", \"value\": 0.009885743058756655}, {\"idx\": 44, \"variable\": \"EZ\", \"value\": 0.010358294766215944}, {\"idx\": 45, \"variable\": \"EZ\", \"value\": 0.010360060109105404}, {\"idx\": 46, \"variable\": \"EZ\", \"value\": 0.010415531595493488}, {\"idx\": 47, \"variable\": \"EZ\", \"value\": 0.010772307972579205}, {\"idx\": 48, \"variable\": \"EZ\", \"value\": 0.010898358383238098}, {\"idx\": 49, \"variable\": \"EZ\", \"value\": 0.014050660065950318}, {\"idx\": 50, \"variable\": \"EZ\", \"value\": 0.014570049888247746}, {\"idx\": 51, \"variable\": \"EZ\", \"value\": 0.014773436112741388}, {\"idx\": 52, \"variable\": \"EZ\", \"value\": 0.01682539560237567}, {\"idx\": 53, \"variable\": \"EZ\", \"value\": 0.019842150116204906}, {\"idx\": 54, \"variable\": \"EZ\", \"value\": 0.01995519293780422}, {\"idx\": 55, \"variable\": \"EZ\", \"value\": 0.019969085540676203}, {\"idx\": 56, \"variable\": \"EZ\", \"value\": 0.02009514290435273}, {\"idx\": 57, \"variable\": \"EZ\", \"value\": 0.02178582205376678}, {\"idx\": 58, \"variable\": \"EZ\", \"value\": 0.022282522098324063}, {\"idx\": 59, \"variable\": \"EZ\", \"value\": 0.023041630020592833}, {\"idx\": 60, \"variable\": \"EZ\", \"value\": 0.026312366168321444}, {\"idx\": 61, \"variable\": \"EZ\", \"value\": 0.0280582632996986}, {\"idx\": 62, \"variable\": \"EZ\", \"value\": 0.029526336065501552}, {\"idx\": 63, \"variable\": \"EZ\", \"value\": 0.029610725389634447}, {\"idx\": 64, \"variable\": \"EZ\", \"value\": 0.029659235265654064}, {\"idx\": 65, \"variable\": \"EZ\", \"value\": 0.030733588519142853}, {\"idx\": 66, \"variable\": \"EZ\", \"value\": 0.030997289734273268}, {\"idx\": 67, \"variable\": \"EZ\", \"value\": 0.032156864351968704}, {\"idx\": 68, \"variable\": \"EZ\", \"value\": 0.033777827155750055}, {\"idx\": 69, \"variable\": \"EZ\", \"value\": 0.03384717620090483}, {\"idx\": 70, \"variable\": \"EZ\", \"value\": 0.034535852229222}, {\"idx\": 71, \"variable\": \"EZ\", \"value\": 0.034544729328039786}, {\"idx\": 72, \"variable\": \"EZ\", \"value\": 0.03793600958500545}, {\"idx\": 73, \"variable\": \"EZ\", \"value\": 0.040958032058977}, {\"idx\": 74, \"variable\": \"EZ\", \"value\": 0.043031121633841665}, {\"idx\": 75, \"variable\": \"EZ\", \"value\": 0.04319254457289933}, {\"idx\": 76, \"variable\": \"EZ\", \"value\": 0.04337053262950793}, {\"idx\": 77, \"variable\": \"EZ\", \"value\": 0.04353862235189099}, {\"idx\": 78, \"variable\": \"EZ\", \"value\": 0.04359953510455478}, {\"idx\": 79, \"variable\": \"EZ\", \"value\": 0.04371932195680258}, {\"idx\": 80, \"variable\": \"EZ\", \"value\": 0.04381469791277473}, {\"idx\": 81, \"variable\": \"EZ\", \"value\": 0.044949997454972426}, {\"idx\": 82, \"variable\": \"EZ\", \"value\": 0.044969873260664386}, {\"idx\": 83, \"variable\": \"EZ\", \"value\": 0.04620586327114836}, {\"idx\": 84, \"variable\": \"EZ\", \"value\": 0.046320749986500875}, {\"idx\": 85, \"variable\": \"EZ\", \"value\": 0.046477901166820705}, {\"idx\": 86, \"variable\": \"EZ\", \"value\": 0.04705387130578367}, {\"idx\": 87, \"variable\": \"EZ\", \"value\": 0.04712061025356623}, {\"idx\": 88, \"variable\": \"EZ\", \"value\": 0.047137536097547374}, {\"idx\": 89, \"variable\": \"EZ\", \"value\": 0.049633095837216624}, {\"idx\": 90, \"variable\": \"EZ\", \"value\": 0.050505292485823104}, {\"idx\": 91, \"variable\": \"EZ\", \"value\": 0.050543933636566375}, {\"idx\": 92, \"variable\": \"EZ\", \"value\": 0.05061988748983174}, {\"idx\": 93, \"variable\": \"EZ\", \"value\": 0.050644668648499945}, {\"idx\": 94, \"variable\": \"EZ\", \"value\": 0.05346254522390557}, {\"idx\": 95, \"variable\": \"EZ\", \"value\": 0.054246339538720406}, {\"idx\": 96, \"variable\": \"EZ\", \"value\": 0.0544634011285306}, {\"idx\": 97, \"variable\": \"EZ\", \"value\": 0.056685810401488}, {\"idx\": 98, \"variable\": \"EZ\", \"value\": 0.0567161925735844}, {\"idx\": 99, \"variable\": \"EZ\", \"value\": 0.06113774545548871}, {\"idx\": 30, \"variable\": \"AZ\", \"value\": 6.065315052980823e-07}, {\"idx\": 31, \"variable\": \"AZ\", \"value\": 0.00011727019661622015}, {\"idx\": 32, \"variable\": \"AZ\", \"value\": 0.0005545274125146227}, {\"idx\": 33, \"variable\": \"AZ\", \"value\": 0.0006295144209349703}, {\"idx\": 34, \"variable\": \"AZ\", \"value\": 0.0011416809236887457}, {\"idx\": 35, \"variable\": \"AZ\", \"value\": 0.0025244888181517435}, {\"idx\": 36, \"variable\": \"AZ\", \"value\": 0.002651073150331951}, {\"idx\": 37, \"variable\": \"AZ\", \"value\": 0.004605885604861486}, {\"idx\": 38, \"variable\": \"AZ\", \"value\": 0.006306798323590857}, {\"idx\": 39, \"variable\": \"AZ\", \"value\": 0.006324729729508925}, {\"idx\": 40, \"variable\": \"AZ\", \"value\": 0.007300322783678069}, {\"idx\": 41, \"variable\": \"AZ\", \"value\": 0.0076389313959978914}, {\"idx\": 42, \"variable\": \"AZ\", \"value\": 0.008419050739989905}, {\"idx\": 43, \"variable\": \"AZ\", \"value\": 0.009270738382986926}, {\"idx\": 44, \"variable\": \"AZ\", \"value\": 0.009658959244408499}, {\"idx\": 45, \"variable\": \"AZ\", \"value\": 0.009660237732015093}, {\"idx\": 46, \"variable\": \"AZ\", \"value\": 0.009734289827036235}, {\"idx\": 47, \"variable\": \"AZ\", \"value\": 0.010160391187733004}, {\"idx\": 48, \"variable\": \"AZ\", \"value\": 0.01027526876381344}, {\"idx\": 49, \"variable\": \"AZ\", \"value\": 0.013645625984976302}, {\"idx\": 50, \"variable\": \"AZ\", \"value\": 0.014093852424994849}, {\"idx\": 51, \"variable\": \"AZ\", \"value\": 0.014233089505748224}, {\"idx\": 52, \"variable\": \"AZ\", \"value\": 0.016166737355961157}, {\"idx\": 53, \"variable\": \"AZ\", \"value\": 0.019191937243175}, {\"idx\": 54, \"variable\": \"AZ\", \"value\": 0.019299769928124936}, {\"idx\": 55, \"variable\": \"AZ\", \"value\": 0.019314315200458516}, {\"idx\": 56, \"variable\": \"AZ\", \"value\": 0.01946245731832079}, {\"idx\": 57, \"variable\": \"AZ\", \"value\": 0.021111521463438167}, {\"idx\": 58, \"variable\": \"AZ\", \"value\": 0.021656267514971635}, {\"idx\": 59, \"variable\": \"AZ\", \"value\": 0.02240659576268597}, {\"idx\": 60, \"variable\": \"AZ\", \"value\": 0.0255883221226794}, {\"idx\": 61, \"variable\": \"AZ\", \"value\": 0.0275875476264088}, {\"idx\": 62, \"variable\": \"AZ\", \"value\": 0.02880668406215381}, {\"idx\": 63, \"variable\": \"AZ\", \"value\": 0.028883065403360306}, {\"idx\": 64, \"variable\": \"AZ\", \"value\": 0.02897335732204714}, {\"idx\": 65, \"variable\": \"AZ\", \"value\": 0.030119166666912806}, {\"idx\": 66, \"variable\": \"AZ\", \"value\": 0.030405646239499477}, {\"idx\": 67, \"variable\": \"AZ\", \"value\": 0.031373979757254075}, {\"idx\": 68, \"variable\": \"AZ\", \"value\": 0.032976796129033925}, {\"idx\": 69, \"variable\": \"AZ\", \"value\": 0.03306868649717687}, {\"idx\": 70, \"variable\": \"AZ\", \"value\": 0.03357325247255564}, {\"idx\": 71, \"variable\": \"AZ\", \"value\": 0.03358700342479072}, {\"idx\": 72, \"variable\": \"AZ\", \"value\": 0.03648344609764791}, {\"idx\": 73, \"variable\": \"AZ\", \"value\": 0.03917519942493534}, {\"idx\": 74, \"variable\": \"AZ\", \"value\": 0.04121386688942725}, {\"idx\": 75, \"variable\": \"AZ\", \"value\": 0.041387614826080915}, {\"idx\": 76, \"variable\": \"AZ\", \"value\": 0.041577812301708685}, {\"idx\": 77, \"variable\": \"AZ\", \"value\": 0.04178916868797819}, {\"idx\": 78, \"variable\": \"AZ\", \"value\": 0.04187444726688093}, {\"idx\": 79, \"variable\": \"AZ\", \"value\": 0.04203629313011235}, {\"idx\": 80, \"variable\": \"AZ\", \"value\": 0.04212368592106615}, {\"idx\": 81, \"variable\": \"AZ\", \"value\": 0.043135571791466897}, {\"idx\": 82, \"variable\": \"AZ\", \"value\": 0.04317350330211814}, {\"idx\": 83, \"variable\": \"AZ\", \"value\": 0.04428579976770895}, {\"idx\": 84, \"variable\": \"AZ\", \"value\": 0.044381108386364755}, {\"idx\": 85, \"variable\": \"AZ\", \"value\": 0.044460412918435145}, {\"idx\": 86, \"variable\": \"AZ\", \"value\": 0.04516161421099161}, {\"idx\": 87, \"variable\": \"AZ\", \"value\": 0.04522341242696594}, {\"idx\": 88, \"variable\": \"AZ\", \"value\": 0.0452454307683705}, {\"idx\": 89, \"variable\": \"AZ\", \"value\": 0.0474388891136485}, {\"idx\": 90, \"variable\": \"AZ\", \"value\": 0.048117958073401204}, {\"idx\": 91, \"variable\": \"AZ\", \"value\": 0.04815271792483588}, {\"idx\": 92, \"variable\": \"AZ\", \"value\": 0.04823380637362083}, {\"idx\": 93, \"variable\": \"AZ\", \"value\": 0.04824698108822762}, {\"idx\": 94, \"variable\": \"AZ\", \"value\": 0.050953676353264726}, {\"idx\": 95, \"variable\": \"AZ\", \"value\": 0.05152125468784136}, {\"idx\": 96, \"variable\": \"AZ\", \"value\": 0.05175562457690893}, {\"idx\": 97, \"variable\": \"AZ\", \"value\": 0.05379260104499735}, {\"idx\": 98, \"variable\": \"AZ\", \"value\": 0.05381792119174049}, {\"idx\": 99, \"variable\": \"AZ\", \"value\": 0.057873216547990325}, {\"idx\": 30, \"variable\": \"EFA\", \"value\": 2.586302996448633e-07}, {\"idx\": 31, \"variable\": \"EFA\", \"value\": 0.00010839084863560367}, {\"idx\": 32, \"variable\": \"EFA\", \"value\": 0.0005475765591808541}, {\"idx\": 33, \"variable\": \"EFA\", \"value\": 0.0006596998561634945}, {\"idx\": 34, \"variable\": \"EFA\", \"value\": 0.00148886489282591}, {\"idx\": 35, \"variable\": \"EFA\", \"value\": 0.0028526376795748308}, {\"idx\": 36, \"variable\": \"EFA\", \"value\": 0.0029364245130083216}, {\"idx\": 37, \"variable\": \"EFA\", \"value\": 0.0048204646381835746}, {\"idx\": 38, \"variable\": \"EFA\", \"value\": 0.00658061851891818}, {\"idx\": 39, \"variable\": \"EFA\", \"value\": 0.006595891794739775}, {\"idx\": 40, \"variable\": \"EFA\", \"value\": 0.0074693229723534}, {\"idx\": 41, \"variable\": \"EFA\", \"value\": 0.007668693396952954}, {\"idx\": 42, \"variable\": \"EFA\", \"value\": 0.008196747308647867}, {\"idx\": 43, \"variable\": \"EFA\", \"value\": 0.009348188711444803}, {\"idx\": 44, \"variable\": \"EFA\", \"value\": 0.00985507484560976}, {\"idx\": 45, \"variable\": \"EFA\", \"value\": 0.009856611696172095}, {\"idx\": 46, \"variable\": \"EFA\", \"value\": 0.009904585711165086}, {\"idx\": 47, \"variable\": \"EFA\", \"value\": 0.010463454563878398}, {\"idx\": 48, \"variable\": \"EFA\", \"value\": 0.0105207080203622}, {\"idx\": 49, \"variable\": \"EFA\", \"value\": 0.013901176897360389}, {\"idx\": 50, \"variable\": \"EFA\", \"value\": 0.014531587488944623}, {\"idx\": 51, \"variable\": \"EFA\", \"value\": 0.014670616019146012}, {\"idx\": 52, \"variable\": \"EFA\", \"value\": 0.016950634724837016}, {\"idx\": 53, \"variable\": \"EFA\", \"value\": 0.019571873086391568}, {\"idx\": 54, \"variable\": \"EFA\", \"value\": 0.0196500397625732}, {\"idx\": 55, \"variable\": \"EFA\", \"value\": 0.0196616109166048}, {\"idx\": 56, \"variable\": \"EFA\", \"value\": 0.019863733090912473}, {\"idx\": 57, \"variable\": \"EFA\", \"value\": 0.02180676176662224}, {\"idx\": 58, \"variable\": \"EFA\", \"value\": 0.022177726189067742}, {\"idx\": 59, \"variable\": \"EFA\", \"value\": 0.022999548123580262}, {\"idx\": 60, \"variable\": \"EFA\", \"value\": 0.026072658376534212}, {\"idx\": 61, \"variable\": \"EFA\", \"value\": 0.02800822135552216}, {\"idx\": 62, \"variable\": \"EFA\", \"value\": 0.029042344413115838}, {\"idx\": 63, \"variable\": \"EFA\", \"value\": 0.029088766790311225}, {\"idx\": 64, \"variable\": \"EFA\", \"value\": 0.029170230924259234}, {\"idx\": 65, \"variable\": \"EFA\", \"value\": 0.03028616411175363}, {\"idx\": 66, \"variable\": \"EFA\", \"value\": 0.030572690045035593}, {\"idx\": 67, \"variable\": \"EFA\", \"value\": 0.03147511394314693}, {\"idx\": 68, \"variable\": \"EFA\", \"value\": 0.033186350236614995}, {\"idx\": 69, \"variable\": \"EFA\", \"value\": 0.03326378927427141}, {\"idx\": 70, \"variable\": \"EFA\", \"value\": 0.033801607025405016}, {\"idx\": 71, \"variable\": \"EFA\", \"value\": 0.03383585937996653}, {\"idx\": 72, \"variable\": \"EFA\", \"value\": 0.03635467870008679}, {\"idx\": 73, \"variable\": \"EFA\", \"value\": 0.038787004611728425}, {\"idx\": 74, \"variable\": \"EFA\", \"value\": 0.04078259106000072}, {\"idx\": 75, \"variable\": \"EFA\", \"value\": 0.04097980916736446}, {\"idx\": 76, \"variable\": \"EFA\", \"value\": 0.04127127442891607}, {\"idx\": 77, \"variable\": \"EFA\", \"value\": 0.041428833560559784}, {\"idx\": 78, \"variable\": \"EFA\", \"value\": 0.04158640634964146}, {\"idx\": 79, \"variable\": \"EFA\", \"value\": 0.0418040752309759}, {\"idx\": 80, \"variable\": \"EFA\", \"value\": 0.04185128740229777}, {\"idx\": 81, \"variable\": \"EFA\", \"value\": 0.042998436296384564}, {\"idx\": 82, \"variable\": \"EFA\", \"value\": 0.04303863027906669}, {\"idx\": 83, \"variable\": \"EFA\", \"value\": 0.04416551205974468}, {\"idx\": 84, \"variable\": \"EFA\", \"value\": 0.04427483039366551}, {\"idx\": 85, \"variable\": \"EFA\", \"value\": 0.044348986196033224}, {\"idx\": 86, \"variable\": \"EFA\", \"value\": 0.04497696050478498}, {\"idx\": 87, \"variable\": \"EFA\", \"value\": 0.04503607461012233}, {\"idx\": 88, \"variable\": \"EFA\", \"value\": 0.04507557929566456}, {\"idx\": 89, \"variable\": \"EFA\", \"value\": 0.04751259614231639}, {\"idx\": 90, \"variable\": \"EFA\", \"value\": 0.04819824346416279}, {\"idx\": 91, \"variable\": \"EFA\", \"value\": 0.04825389049307392}, {\"idx\": 92, \"variable\": \"EFA\", \"value\": 0.04831790526162744}, {\"idx\": 93, \"variable\": \"EFA\", \"value\": 0.04833404576985871}, {\"idx\": 94, \"variable\": \"EFA\", \"value\": 0.05096428616492524}, {\"idx\": 95, \"variable\": \"EFA\", \"value\": 0.05160782417649643}, {\"idx\": 96, \"variable\": \"EFA\", \"value\": 0.05178483936239895}, {\"idx\": 97, \"variable\": \"EFA\", \"value\": 0.05391742981998097}, {\"idx\": 98, \"variable\": \"EFA\", \"value\": 0.05396609608405624}, {\"idx\": 99, \"variable\": \"EFA\", \"value\": 0.05745477753168241}, {\"idx\": 30, \"variable\": \"EFA-C\", \"value\": 8.382464480921208e-07}, {\"idx\": 31, \"variable\": \"EFA-C\", \"value\": 0.00013065088538261564}, {\"idx\": 32, \"variable\": \"EFA-C\", \"value\": 0.0004778161010837041}, {\"idx\": 33, \"variable\": \"EFA-C\", \"value\": 0.0005756180433050245}, {\"idx\": 34, \"variable\": \"EFA-C\", \"value\": 0.001257533585510118}, {\"idx\": 35, \"variable\": \"EFA-C\", \"value\": 0.002440480070067401}, {\"idx\": 36, \"variable\": \"EFA-C\", \"value\": 0.0025172024726501613}, {\"idx\": 37, \"variable\": \"EFA-C\", \"value\": 0.004349989808279284}, {\"idx\": 38, \"variable\": \"EFA-C\", \"value\": 0.005942193660222509}, {\"idx\": 39, \"variable\": \"EFA-C\", \"value\": 0.005959517821113663}, {\"idx\": 40, \"variable\": \"EFA-C\", \"value\": 0.006798209779470834}, {\"idx\": 41, \"variable\": \"EFA-C\", \"value\": 0.007010831382843598}, {\"idx\": 42, \"variable\": \"EFA-C\", \"value\": 0.007604080540437621}, {\"idx\": 43, \"variable\": \"EFA-C\", \"value\": 0.008570618915589922}, {\"idx\": 44, \"variable\": \"EFA-C\", \"value\": 0.008997758644943564}, {\"idx\": 45, \"variable\": \"EFA-C\", \"value\": 0.009000410434873287}, {\"idx\": 46, \"variable\": \"EFA-C\", \"value\": 0.009050742980917677}, {\"idx\": 47, \"variable\": \"EFA-C\", \"value\": 0.00960313726089377}, {\"idx\": 48, \"variable\": \"EFA-C\", \"value\": 0.009682416773572558}, {\"idx\": 49, \"variable\": \"EFA-C\", \"value\": 0.012559410969520285}, {\"idx\": 50, \"variable\": \"EFA-C\", \"value\": 0.013202310311577002}, {\"idx\": 51, \"variable\": \"EFA-C\", \"value\": 0.013325183255034826}, {\"idx\": 52, \"variable\": \"EFA-C\", \"value\": 0.015110194212154468}, {\"idx\": 53, \"variable\": \"EFA-C\", \"value\": 0.01768894891903969}, {\"idx\": 54, \"variable\": \"EFA-C\", \"value\": 0.01777101681987744}, {\"idx\": 55, \"variable\": \"EFA-C\", \"value\": 0.017787262633204546}, {\"idx\": 56, \"variable\": \"EFA-C\", \"value\": 0.017959886470657337}, {\"idx\": 57, \"variable\": \"EFA-C\", \"value\": 0.01964381832223295}, {\"idx\": 58, \"variable\": \"EFA-C\", \"value\": 0.020112132745599868}, {\"idx\": 59, \"variable\": \"EFA-C\", \"value\": 0.020790394223280516}, {\"idx\": 60, \"variable\": \"EFA-C\", \"value\": 0.023763213152418836}, {\"idx\": 61, \"variable\": \"EFA-C\", \"value\": 0.025652889549588113}, {\"idx\": 62, \"variable\": \"EFA-C\", \"value\": 0.026678730395515757}, {\"idx\": 63, \"variable\": \"EFA-C\", \"value\": 0.026733449374744204}, {\"idx\": 64, \"variable\": \"EFA-C\", \"value\": 0.026823579909481223}, {\"idx\": 65, \"variable\": \"EFA-C\", \"value\": 0.027965784793823525}, {\"idx\": 66, \"variable\": \"EFA-C\", \"value\": 0.028279608608344612}, {\"idx\": 67, \"variable\": \"EFA-C\", \"value\": 0.0291088856127987}, {\"idx\": 68, \"variable\": \"EFA-C\", \"value\": 0.03068324553972065}, {\"idx\": 69, \"variable\": \"EFA-C\", \"value\": 0.030765929702261795}, {\"idx\": 70, \"variable\": \"EFA-C\", \"value\": 0.031264194748188305}, {\"idx\": 71, \"variable\": \"EFA-C\", \"value\": 0.03129360969124149}, {\"idx\": 72, \"variable\": \"EFA-C\", \"value\": 0.033687808113911304}, {\"idx\": 73, \"variable\": \"EFA-C\", \"value\": 0.03600697756583499}, {\"idx\": 74, \"variable\": \"EFA-C\", \"value\": 0.037853195987715346}, {\"idx\": 75, \"variable\": \"EFA-C\", \"value\": 0.038006086978020145}, {\"idx\": 76, \"variable\": \"EFA-C\", \"value\": 0.03829574774725663}, {\"idx\": 77, \"variable\": \"EFA-C\", \"value\": 0.038473235676696915}, {\"idx\": 78, \"variable\": \"EFA-C\", \"value\": 0.03861690616891488}, {\"idx\": 79, \"variable\": \"EFA-C\", \"value\": 0.038804565681291626}, {\"idx\": 80, \"variable\": \"EFA-C\", \"value\": 0.03885821769749217}, {\"idx\": 81, \"variable\": \"EFA-C\", \"value\": 0.03989576648455696}, {\"idx\": 82, \"variable\": \"EFA-C\", \"value\": 0.03994968675451397}, {\"idx\": 83, \"variable\": \"EFA-C\", \"value\": 0.0409717479671175}, {\"idx\": 84, \"variable\": \"EFA-C\", \"value\": 0.04107833133743997}, {\"idx\": 85, \"variable\": \"EFA-C\", \"value\": 0.04115245538880026}, {\"idx\": 86, \"variable\": \"EFA-C\", \"value\": 0.04177235512111378}, {\"idx\": 87, \"variable\": \"EFA-C\", \"value\": 0.041835135000593444}, {\"idx\": 88, \"variable\": \"EFA-C\", \"value\": 0.04187820911868444}, {\"idx\": 89, \"variable\": \"EFA-C\", \"value\": 0.04414091960169257}, {\"idx\": 90, \"variable\": \"EFA-C\", \"value\": 0.044861511403646956}, {\"idx\": 91, \"variable\": \"EFA-C\", \"value\": 0.044915501335458144}, {\"idx\": 92, \"variable\": \"EFA-C\", \"value\": 0.044990339775522865}, {\"idx\": 93, \"variable\": \"EFA-C\", \"value\": 0.04500400773324671}, {\"idx\": 94, \"variable\": \"EFA-C\", \"value\": 0.047541497574173384}, {\"idx\": 95, \"variable\": \"EFA-C\", \"value\": 0.0481530676841178}, {\"idx\": 96, \"variable\": \"EFA-C\", \"value\": 0.04835082321413179}, {\"idx\": 97, \"variable\": \"EFA-C\", \"value\": 0.050395611834335156}, {\"idx\": 98, \"variable\": \"EFA-C\", \"value\": 0.05043890077123743}, {\"idx\": 99, \"variable\": \"EFA-C\", \"value\": 0.05403340695076903}]}}, {\"mode\": \"vega-lite\"});\n",
       "</script>"
      ],
      "text/plain": [
       "alt.Chart(...)"
      ]
     },
     "execution_count": 4,
     "metadata": {},
     "output_type": "execute_result"
    }
   ],
   "source": [
    "model_evidence = get_model_evidence('log/ez_data/20210726_211108_ez/')\n",
    "bf = pd.DataFrame(model_evidence, columns=['EZ'])\n",
    "bf['idx'] = np.arange(bf.shape[0])+30\n",
    "bf['AZ'] = get_model_evidence('log/ez_data/20210726_211815_az/')\n",
    "bf['EFA'] = get_model_evidence('log/ez_data/20210726_212141_efa/')\n",
    "bf['EFA-C'] = get_model_evidence('log/ez_data/20210726_212707_efa_c/')\n",
    "plot_bf(bf, 800, 400)"
   ]
  },
  {
   "cell_type": "code",
   "execution_count": 5,
   "metadata": {},
   "outputs": [
    {
     "data": {
      "text/plain": [
       "array([[1. , 0. ],\n",
       "       [0.8, 0.3],\n",
       "       [0.8, 0. ],\n",
       "       [0. , 1. ],\n",
       "       [0.3, 0.8],\n",
       "       [0.3, 0.8]])"
      ]
     },
     "execution_count": 5,
     "metadata": {},
     "output_type": "execute_result"
    }
   ],
   "source": [
    "data = load_obj('data','log/CL_data/20210726_213147_ez//')\n",
    "data.raw_data['beta']"
   ]
  },
  {
   "cell_type": "code",
   "execution_count": 6,
   "metadata": {},
   "outputs": [
    {
     "data": {
      "text/html": [
       "\n",
       "<div id=\"altair-viz-cc2078cea2be40818c1f47dcabf95abb\"></div>\n",
       "<script type=\"text/javascript\">\n",
       "  (function(spec, embedOpt){\n",
       "    let outputDiv = document.currentScript.previousElementSibling;\n",
       "    if (outputDiv.id !== \"altair-viz-cc2078cea2be40818c1f47dcabf95abb\") {\n",
       "      outputDiv = document.getElementById(\"altair-viz-cc2078cea2be40818c1f47dcabf95abb\");\n",
       "    }\n",
       "    const paths = {\n",
       "      \"vega\": \"https://cdn.jsdelivr.net/npm//vega@5?noext\",\n",
       "      \"vega-lib\": \"https://cdn.jsdelivr.net/npm//vega-lib?noext\",\n",
       "      \"vega-lite\": \"https://cdn.jsdelivr.net/npm//vega-lite@4.8.1?noext\",\n",
       "      \"vega-embed\": \"https://cdn.jsdelivr.net/npm//vega-embed@6?noext\",\n",
       "    };\n",
       "\n",
       "    function loadScript(lib) {\n",
       "      return new Promise(function(resolve, reject) {\n",
       "        var s = document.createElement('script');\n",
       "        s.src = paths[lib];\n",
       "        s.async = true;\n",
       "        s.onload = () => resolve(paths[lib]);\n",
       "        s.onerror = () => reject(`Error loading script: ${paths[lib]}`);\n",
       "        document.getElementsByTagName(\"head\")[0].appendChild(s);\n",
       "      });\n",
       "    }\n",
       "\n",
       "    function showError(err) {\n",
       "      outputDiv.innerHTML = `<div class=\"error\" style=\"color:red;\">${err}</div>`;\n",
       "      throw err;\n",
       "    }\n",
       "\n",
       "    function displayChart(vegaEmbed) {\n",
       "      vegaEmbed(outputDiv, spec, embedOpt)\n",
       "        .catch(err => showError(`Javascript Error: ${err.message}<br>This usually means there's a typo in your chart specification. See the javascript console for the full traceback.`));\n",
       "    }\n",
       "\n",
       "    if(typeof define === \"function\" && define.amd) {\n",
       "      requirejs.config({paths});\n",
       "      require([\"vega-embed\"], displayChart, err => showError(`Error loading script: ${err.message}`));\n",
       "    } else if (typeof vegaEmbed === \"function\") {\n",
       "      displayChart(vegaEmbed);\n",
       "    } else {\n",
       "      loadScript(\"vega\")\n",
       "        .then(() => loadScript(\"vega-lite\"))\n",
       "        .then(() => loadScript(\"vega-embed\"))\n",
       "        .catch(showError)\n",
       "        .then(() => displayChart(vegaEmbed));\n",
       "    }\n",
       "  })({\"config\": {\"view\": {\"continuousWidth\": 400, \"continuousHeight\": 300}, \"axis\": {\"labelFontSize\": 14, \"titleFontSize\": 16}, \"legend\": {\"labelFontSize\": 14, \"symbolStrokeWidth\": 10, \"titleFontSize\": 16}}, \"data\": {\"name\": \"data-a4f84fbb2e0383d47a6fd7c5e68e3e09\"}, \"mark\": {\"type\": \"line\", \"opacity\": 0.9, \"strokeWidth\": 4}, \"encoding\": {\"color\": {\"type\": \"nominal\", \"field\": \"variable\"}, \"x\": {\"type\": \"quantitative\", \"field\": \"idx\", \"title\": null}, \"y\": {\"type\": \"quantitative\", \"field\": \"value\"}}, \"height\": 400, \"selection\": {\"selector002\": {\"type\": \"interval\", \"bind\": \"scales\", \"encodings\": [\"x\", \"y\"]}}, \"width\": 800, \"$schema\": \"https://vega.github.io/schema/vega-lite/v4.8.1.json\", \"datasets\": {\"data-a4f84fbb2e0383d47a6fd7c5e68e3e09\": [{\"idx\": 0, \"variable\": \"EZ\", \"value\": 2.237553927938661e-07}, {\"idx\": 1, \"variable\": \"EZ\", \"value\": 3.652774581156253e-05}, {\"idx\": 2, \"variable\": \"EZ\", \"value\": 0.0005374455759957627}, {\"idx\": 3, \"variable\": \"EZ\", \"value\": 0.0006221981917269904}, {\"idx\": 4, \"variable\": \"EZ\", \"value\": 0.0011051131241115442}, {\"idx\": 5, \"variable\": \"EZ\", \"value\": 0.0028996950027059317}, {\"idx\": 6, \"variable\": \"EZ\", \"value\": 0.0032022844743714416}, {\"idx\": 7, \"variable\": \"EZ\", \"value\": 0.006642302178185848}, {\"idx\": 8, \"variable\": \"EZ\", \"value\": 0.008848908816802545}, {\"idx\": 9, \"variable\": \"EZ\", \"value\": 0.00888515729821456}, {\"idx\": 10, \"variable\": \"EZ\", \"value\": 0.010242294710108854}, {\"idx\": 11, \"variable\": \"EZ\", \"value\": 0.010596772847417384}, {\"idx\": 12, \"variable\": \"EZ\", \"value\": 0.011833659292697772}, {\"idx\": 13, \"variable\": \"EZ\", \"value\": 0.012936658648797875}, {\"idx\": 14, \"variable\": \"EZ\", \"value\": 0.013477029398931514}, {\"idx\": 15, \"variable\": \"EZ\", \"value\": 0.013477770167930664}, {\"idx\": 16, \"variable\": \"EZ\", \"value\": 0.013584532864001048}, {\"idx\": 17, \"variable\": \"EZ\", \"value\": 0.014213898770156493}, {\"idx\": 18, \"variable\": \"EZ\", \"value\": 0.014267885458089895}, {\"idx\": 19, \"variable\": \"EZ\", \"value\": 0.01858053688617901}, {\"idx\": 20, \"variable\": \"EZ\", \"value\": 0.019008094994863695}, {\"idx\": 21, \"variable\": \"EZ\", \"value\": 0.019165067476702935}, {\"idx\": 22, \"variable\": \"EZ\", \"value\": 0.021266585630556913}, {\"idx\": 23, \"variable\": \"EZ\", \"value\": 0.025234071336324854}, {\"idx\": 24, \"variable\": \"EZ\", \"value\": 0.0253405154944396}, {\"idx\": 25, \"variable\": \"EZ\", \"value\": 0.0253479347826309}, {\"idx\": 26, \"variable\": \"EZ\", \"value\": 0.025497749463087995}, {\"idx\": 27, \"variable\": \"EZ\", \"value\": 0.02691848330705075}, {\"idx\": 28, \"variable\": \"EZ\", \"value\": 0.027677644967851262}, {\"idx\": 29, \"variable\": \"EZ\", \"value\": 0.02860309089804834}, {\"idx\": 30, \"variable\": \"EZ\", \"value\": 0.032725154991898965}, {\"idx\": 31, \"variable\": \"EZ\", \"value\": 0.035445016494973634}, {\"idx\": 32, \"variable\": \"EZ\", \"value\": 0.03743159736393048}, {\"idx\": 33, \"variable\": \"EZ\", \"value\": 0.037547269004274256}, {\"idx\": 34, \"variable\": \"EZ\", \"value\": 0.037679201893375064}, {\"idx\": 35, \"variable\": \"EZ\", \"value\": 0.039099446142930906}, {\"idx\": 36, \"variable\": \"EZ\", \"value\": 0.03948880738912122}, {\"idx\": 37, \"variable\": \"EZ\", \"value\": 0.04109909877549626}, {\"idx\": 38, \"variable\": \"EZ\", \"value\": 0.04274580454558687}, {\"idx\": 39, \"variable\": \"EZ\", \"value\": 0.04283020360329235}, {\"idx\": 40, \"variable\": \"EZ\", \"value\": 0.043976370664010535}, {\"idx\": 41, \"variable\": \"EZ\", \"value\": 0.04398125624943009}, {\"idx\": 42, \"variable\": \"EZ\", \"value\": 0.04798148038634585}, {\"idx\": 43, \"variable\": \"EZ\", \"value\": 0.05111527076906255}, {\"idx\": 44, \"variable\": \"EZ\", \"value\": 0.05346664045577937}, {\"idx\": 45, \"variable\": \"EZ\", \"value\": 0.053718073868045405}, {\"idx\": 46, \"variable\": \"EZ\", \"value\": 0.053834764311276886}, {\"idx\": 47, \"variable\": \"EZ\", \"value\": 0.054020280497235056}, {\"idx\": 48, \"variable\": \"EZ\", \"value\": 0.054141082539192885}, {\"idx\": 49, \"variable\": \"EZ\", \"value\": 0.05425384252459249}, {\"idx\": 50, \"variable\": \"EZ\", \"value\": 0.05437346212745872}, {\"idx\": 51, \"variable\": \"EZ\", \"value\": 0.056035749540702805}, {\"idx\": 52, \"variable\": \"EZ\", \"value\": 0.056099577560390974}, {\"idx\": 53, \"variable\": \"EZ\", \"value\": 0.05786258586841078}, {\"idx\": 54, \"variable\": \"EZ\", \"value\": 0.05797066529255111}, {\"idx\": 55, \"variable\": \"EZ\", \"value\": 0.058106681225491376}, {\"idx\": 56, \"variable\": \"EZ\", \"value\": 0.058692251029128034}, {\"idx\": 57, \"variable\": \"EZ\", \"value\": 0.05879947239497636}, {\"idx\": 58, \"variable\": \"EZ\", \"value\": 0.05883606336405132}, {\"idx\": 59, \"variable\": \"EZ\", \"value\": 0.06162754366421349}, {\"idx\": 60, \"variable\": \"EZ\", \"value\": 0.06223432886443557}, {\"idx\": 61, \"variable\": \"EZ\", \"value\": 0.06225967545887836}, {\"idx\": 62, \"variable\": \"EZ\", \"value\": 0.06235698177848131}, {\"idx\": 63, \"variable\": \"EZ\", \"value\": 0.06244253799022178}, {\"idx\": 64, \"variable\": \"EZ\", \"value\": 0.06615241030030804}, {\"idx\": 65, \"variable\": \"EZ\", \"value\": 0.06678443553069598}, {\"idx\": 66, \"variable\": \"EZ\", \"value\": 0.06692604507919292}, {\"idx\": 67, \"variable\": \"EZ\", \"value\": 0.06959237867372373}, {\"idx\": 68, \"variable\": \"EZ\", \"value\": 0.0696048953573554}, {\"idx\": 69, \"variable\": \"EZ\", \"value\": 0.07503365799008561}, {\"idx\": 0, \"variable\": \"AZ\", \"value\": 9.179248609604329e-07}, {\"idx\": 1, \"variable\": \"AZ\", \"value\": 0.00012032525295221917}, {\"idx\": 2, \"variable\": \"AZ\", \"value\": 0.0007600622484004994}, {\"idx\": 3, \"variable\": \"AZ\", \"value\": 0.0008728359612970215}, {\"idx\": 4, \"variable\": \"AZ\", \"value\": 0.0015792861118698656}, {\"idx\": 5, \"variable\": \"AZ\", \"value\": 0.0032232112400373994}, {\"idx\": 6, \"variable\": \"AZ\", \"value\": 0.0033674092966834435}, {\"idx\": 7, \"variable\": \"AZ\", \"value\": 0.00592810307995235}, {\"idx\": 8, \"variable\": \"AZ\", \"value\": 0.008065061647918557}, {\"idx\": 9, \"variable\": \"AZ\", \"value\": 0.008111575257628074}, {\"idx\": 10, \"variable\": \"AZ\", \"value\": 0.009404026585617255}, {\"idx\": 11, \"variable\": \"AZ\", \"value\": 0.00973936192096048}, {\"idx\": 12, \"variable\": \"AZ\", \"value\": 0.010677514809509266}, {\"idx\": 13, \"variable\": \"AZ\", \"value\": 0.011958129163832754}, {\"idx\": 14, \"variable\": \"AZ\", \"value\": 0.012415465494775391}, {\"idx\": 15, \"variable\": \"AZ\", \"value\": 0.012416197546050934}, {\"idx\": 16, \"variable\": \"AZ\", \"value\": 0.01253452303774515}, {\"idx\": 17, \"variable\": \"AZ\", \"value\": 0.013218275131968084}, {\"idx\": 18, \"variable\": \"AZ\", \"value\": 0.013297851444453865}, {\"idx\": 19, \"variable\": \"AZ\", \"value\": 0.017721727150469303}, {\"idx\": 20, \"variable\": \"AZ\", \"value\": 0.01827347325968295}, {\"idx\": 21, \"variable\": \"AZ\", \"value\": 0.0184467413687908}, {\"idx\": 22, \"variable\": \"AZ\", \"value\": 0.02102485554799143}, {\"idx\": 23, \"variable\": \"AZ\", \"value\": 0.02512320263912156}, {\"idx\": 24, \"variable\": \"AZ\", \"value\": 0.02525504249068277}, {\"idx\": 25, \"variable\": \"AZ\", \"value\": 0.025266289064614846}, {\"idx\": 26, \"variable\": \"AZ\", \"value\": 0.025454839796356977}, {\"idx\": 27, \"variable\": \"AZ\", \"value\": 0.027361250068861136}, {\"idx\": 28, \"variable\": \"AZ\", \"value\": 0.028094207047136055}, {\"idx\": 29, \"variable\": \"AZ\", \"value\": 0.02911644580628632}, {\"idx\": 30, \"variable\": \"AZ\", \"value\": 0.03312855324851066}, {\"idx\": 31, \"variable\": \"AZ\", \"value\": 0.036071176628398226}, {\"idx\": 32, \"variable\": \"AZ\", \"value\": 0.037654258093366845}, {\"idx\": 33, \"variable\": \"AZ\", \"value\": 0.03775475537521848}, {\"idx\": 34, \"variable\": \"AZ\", \"value\": 0.0378963660776126}, {\"idx\": 35, \"variable\": \"AZ\", \"value\": 0.03945871179633963}, {\"idx\": 36, \"variable\": \"AZ\", \"value\": 0.039818375042561825}, {\"idx\": 37, \"variable\": \"AZ\", \"value\": 0.041018185875954065}, {\"idx\": 38, \"variable\": \"AZ\", \"value\": 0.04297214952413408}, {\"idx\": 39, \"variable\": \"AZ\", \"value\": 0.04307813300527673}, {\"idx\": 40, \"variable\": \"AZ\", \"value\": 0.04392925365667141}, {\"idx\": 41, \"variable\": \"AZ\", \"value\": 0.04394583305003403}, {\"idx\": 42, \"variable\": \"AZ\", \"value\": 0.04770516750503497}, {\"idx\": 43, \"variable\": \"AZ\", \"value\": 0.050970218264246414}, {\"idx\": 44, \"variable\": \"AZ\", \"value\": 0.053393628999123824}, {\"idx\": 45, \"variable\": \"AZ\", \"value\": 0.05361112524818678}, {\"idx\": 46, \"variable\": \"AZ\", \"value\": 0.05383858431543784}, {\"idx\": 47, \"variable\": \"AZ\", \"value\": 0.05407200382066644}, {\"idx\": 48, \"variable\": \"AZ\", \"value\": 0.054174638971998264}, {\"idx\": 49, \"variable\": \"AZ\", \"value\": 0.054386878775594005}, {\"idx\": 50, \"variable\": \"AZ\", \"value\": 0.05447358341439108}, {\"idx\": 51, \"variable\": \"AZ\", \"value\": 0.05585183047952633}, {\"idx\": 52, \"variable\": \"AZ\", \"value\": 0.05590825245936027}, {\"idx\": 53, \"variable\": \"AZ\", \"value\": 0.05746462183808373}, {\"idx\": 54, \"variable\": \"AZ\", \"value\": 0.05759034061212457}, {\"idx\": 55, \"variable\": \"AZ\", \"value\": 0.057693310698726706}, {\"idx\": 56, \"variable\": \"AZ\", \"value\": 0.05848589963286957}, {\"idx\": 57, \"variable\": \"AZ\", \"value\": 0.05856320079214705}, {\"idx\": 58, \"variable\": \"AZ\", \"value\": 0.05858858058028777}, {\"idx\": 59, \"variable\": \"AZ\", \"value\": 0.061439721114355916}, {\"idx\": 60, \"variable\": \"AZ\", \"value\": 0.06227906559571293}, {\"idx\": 61, \"variable\": \"AZ\", \"value\": 0.062320947859040146}, {\"idx\": 62, \"variable\": \"AZ\", \"value\": 0.062432558806869064}, {\"idx\": 63, \"variable\": \"AZ\", \"value\": 0.062462248652709704}, {\"idx\": 64, \"variable\": \"AZ\", \"value\": 0.06599355479997436}, {\"idx\": 65, \"variable\": \"AZ\", \"value\": 0.06673886271439929}, {\"idx\": 66, \"variable\": \"AZ\", \"value\": 0.06696614627969069}, {\"idx\": 67, \"variable\": \"AZ\", \"value\": 0.06951713262992247}, {\"idx\": 68, \"variable\": \"AZ\", \"value\": 0.06955052059721642}, {\"idx\": 69, \"variable\": \"AZ\", \"value\": 0.07462168434645955}, {\"idx\": 0, \"variable\": \"EFA\", \"value\": 9.119066220930094e-07}, {\"idx\": 1, \"variable\": \"EFA\", \"value\": 0.0002006349301241708}, {\"idx\": 2, \"variable\": \"EFA\", \"value\": 0.0006582713616103253}, {\"idx\": 3, \"variable\": \"EFA\", \"value\": 0.0007797205891279775}, {\"idx\": 4, \"variable\": \"EFA\", \"value\": 0.0017395009014760023}, {\"idx\": 5, \"variable\": \"EFA\", \"value\": 0.0030328088739371736}, {\"idx\": 6, \"variable\": \"EFA\", \"value\": 0.003098471986944916}, {\"idx\": 7, \"variable\": \"EFA\", \"value\": 0.005663258660300167}, {\"idx\": 8, \"variable\": \"EFA\", \"value\": 0.008194115038909103}, {\"idx\": 9, \"variable\": \"EFA\", \"value\": 0.008212737316940921}, {\"idx\": 10, \"variable\": \"EFA\", \"value\": 0.009357657796055987}, {\"idx\": 11, \"variable\": \"EFA\", \"value\": 0.009674383733645944}, {\"idx\": 12, \"variable\": \"EFA\", \"value\": 0.010423572594817049}, {\"idx\": 13, \"variable\": \"EFA\", \"value\": 0.011923530013863988}, {\"idx\": 14, \"variable\": \"EFA\", \"value\": 0.0124405224451534}, {\"idx\": 15, \"variable\": \"EFA\", \"value\": 0.012441549966270688}, {\"idx\": 16, \"variable\": \"EFA\", \"value\": 0.012521047234204085}, {\"idx\": 17, \"variable\": \"EFA\", \"value\": 0.013191113273362004}, {\"idx\": 18, \"variable\": \"EFA\", \"value\": 0.013253802190010018}, {\"idx\": 19, \"variable\": \"EFA\", \"value\": 0.01745520355639746}, {\"idx\": 20, \"variable\": \"EFA\", \"value\": 0.018276799072939283}, {\"idx\": 21, \"variable\": \"EFA\", \"value\": 0.01842225101423125}, {\"idx\": 22, \"variable\": \"EFA\", \"value\": 0.0211685064459114}, {\"idx\": 23, \"variable\": \"EFA\", \"value\": 0.024746034250809158}, {\"idx\": 24, \"variable\": \"EFA\", \"value\": 0.024892617521144387}, {\"idx\": 25, \"variable\": \"EFA\", \"value\": 0.0249028005630657}, {\"idx\": 26, \"variable\": \"EFA\", \"value\": 0.025122190732281627}, {\"idx\": 27, \"variable\": \"EFA\", \"value\": 0.027729172716606968}, {\"idx\": 28, \"variable\": \"EFA\", \"value\": 0.028350359156607767}, {\"idx\": 29, \"variable\": \"EFA\", \"value\": 0.029367507616932197}, {\"idx\": 30, \"variable\": \"EFA\", \"value\": 0.03325603955072195}, {\"idx\": 31, \"variable\": \"EFA\", \"value\": 0.036167963967150246}, {\"idx\": 32, \"variable\": \"EFA\", \"value\": 0.037562683377362426}, {\"idx\": 33, \"variable\": \"EFA\", \"value\": 0.03761207411096375}, {\"idx\": 34, \"variable\": \"EFA\", \"value\": 0.03773662754570285}, {\"idx\": 35, \"variable\": \"EFA\", \"value\": 0.039226496646999495}, {\"idx\": 36, \"variable\": \"EFA\", \"value\": 0.039658644511259264}, {\"idx\": 37, \"variable\": \"EFA\", \"value\": 0.040764788966683854}, {\"idx\": 38, \"variable\": \"EFA\", \"value\": 0.04278456956878007}, {\"idx\": 39, \"variable\": \"EFA\", \"value\": 0.04288150160644385}, {\"idx\": 40, \"variable\": \"EFA\", \"value\": 0.043621240957986564}, {\"idx\": 41, \"variable\": \"EFA\", \"value\": 0.043654928616428806}, {\"idx\": 42, \"variable\": \"EFA\", \"value\": 0.047151587002354174}, {\"idx\": 43, \"variable\": \"EFA\", \"value\": 0.050100442025320956}, {\"idx\": 44, \"variable\": \"EFA\", \"value\": 0.05245091963761202}, {\"idx\": 45, \"variable\": \"EFA\", \"value\": 0.05260664962822173}, {\"idx\": 46, \"variable\": \"EFA\", \"value\": 0.05295428617809846}, {\"idx\": 47, \"variable\": \"EFA\", \"value\": 0.05313075577243182}, {\"idx\": 48, \"variable\": \"EFA\", \"value\": 0.05331077862626618}, {\"idx\": 49, \"variable\": \"EFA\", \"value\": 0.05351769231159409}, {\"idx\": 50, \"variable\": \"EFA\", \"value\": 0.053598159066473236}, {\"idx\": 51, \"variable\": \"EFA\", \"value\": 0.055082177713726074}, {\"idx\": 52, \"variable\": \"EFA\", \"value\": 0.05514058673881932}, {\"idx\": 53, \"variable\": \"EFA\", \"value\": 0.056515809241284465}, {\"idx\": 54, \"variable\": \"EFA\", \"value\": 0.05663168793198723}, {\"idx\": 55, \"variable\": \"EFA\", \"value\": 0.056731491216255196}, {\"idx\": 56, \"variable\": \"EFA\", \"value\": 0.057510694704169564}, {\"idx\": 57, \"variable\": \"EFA\", \"value\": 0.057590619740832405}, {\"idx\": 58, \"variable\": \"EFA\", \"value\": 0.05763923730815485}, {\"idx\": 59, \"variable\": \"EFA\", \"value\": 0.06086406833333543}, {\"idx\": 60, \"variable\": \"EFA\", \"value\": 0.06176598621887655}, {\"idx\": 61, \"variable\": \"EFA\", \"value\": 0.061849633555453594}, {\"idx\": 62, \"variable\": \"EFA\", \"value\": 0.061945838848316545}, {\"idx\": 63, \"variable\": \"EFA\", \"value\": 0.061966363465494056}, {\"idx\": 64, \"variable\": \"EFA\", \"value\": 0.06536413912996407}, {\"idx\": 65, \"variable\": \"EFA\", \"value\": 0.06619845671746133}, {\"idx\": 66, \"variable\": \"EFA\", \"value\": 0.06643998152341937}, {\"idx\": 67, \"variable\": \"EFA\", \"value\": 0.06925551255821624}, {\"idx\": 68, \"variable\": \"EFA\", \"value\": 0.06932062528185293}, {\"idx\": 69, \"variable\": \"EFA\", \"value\": 0.07418084882090856}, {\"idx\": 0, \"variable\": \"EFA-C\", \"value\": 1.474473491309792e-06}, {\"idx\": 1, \"variable\": \"EFA-C\", \"value\": 0.0001759136400230496}, {\"idx\": 2, \"variable\": \"EFA-C\", \"value\": 0.0006421792306864293}, {\"idx\": 3, \"variable\": \"EFA-C\", \"value\": 0.000789920957497632}, {\"idx\": 4, \"variable\": \"EFA-C\", \"value\": 0.001550348026275199}, {\"idx\": 5, \"variable\": \"EFA-C\", \"value\": 0.0028602388447941172}, {\"idx\": 6, \"variable\": \"EFA-C\", \"value\": 0.0029527601157879352}, {\"idx\": 7, \"variable\": \"EFA-C\", \"value\": 0.005143434768181706}, {\"idx\": 8, \"variable\": \"EFA-C\", \"value\": 0.007299842703950095}, {\"idx\": 9, \"variable\": \"EFA-C\", \"value\": 0.007333356547831713}, {\"idx\": 10, \"variable\": \"EFA-C\", \"value\": 0.008536853865241613}, {\"idx\": 11, \"variable\": \"EFA-C\", \"value\": 0.008845641842727231}, {\"idx\": 12, \"variable\": \"EFA-C\", \"value\": 0.009712267630383764}, {\"idx\": 13, \"variable\": \"EFA-C\", \"value\": 0.011011483085822952}, {\"idx\": 14, \"variable\": \"EFA-C\", \"value\": 0.01150610236824506}, {\"idx\": 15, \"variable\": \"EFA-C\", \"value\": 0.01150857293117177}, {\"idx\": 16, \"variable\": \"EFA-C\", \"value\": 0.011610168540021396}, {\"idx\": 17, \"variable\": \"EFA-C\", \"value\": 0.012259589072808734}, {\"idx\": 18, \"variable\": \"EFA-C\", \"value\": 0.012334890633147078}, {\"idx\": 19, \"variable\": \"EFA-C\", \"value\": 0.0164299021436638}, {\"idx\": 20, \"variable\": \"EFA-C\", \"value\": 0.017192067270930037}, {\"idx\": 21, \"variable\": \"EFA-C\", \"value\": 0.01736579862311803}, {\"idx\": 22, \"variable\": \"EFA-C\", \"value\": 0.01978440988718133}, {\"idx\": 23, \"variable\": \"EFA-C\", \"value\": 0.022911916423110076}, {\"idx\": 24, \"variable\": \"EFA-C\", \"value\": 0.023039262611084917}, {\"idx\": 25, \"variable\": \"EFA-C\", \"value\": 0.023052577353729283}, {\"idx\": 26, \"variable\": \"EFA-C\", \"value\": 0.023256371011284447}, {\"idx\": 27, \"variable\": \"EFA-C\", \"value\": 0.025540461668445803}, {\"idx\": 28, \"variable\": \"EFA-C\", \"value\": 0.026163267390980013}, {\"idx\": 29, \"variable\": \"EFA-C\", \"value\": 0.02701440420310088}, {\"idx\": 30, \"variable\": \"EFA-C\", \"value\": 0.030629246685197595}, {\"idx\": 31, \"variable\": \"EFA-C\", \"value\": 0.03306700061255566}, {\"idx\": 32, \"variable\": \"EFA-C\", \"value\": 0.03431308152525867}, {\"idx\": 33, \"variable\": \"EFA-C\", \"value\": 0.03436693850422751}, {\"idx\": 34, \"variable\": \"EFA-C\", \"value\": 0.034504282472376684}, {\"idx\": 35, \"variable\": \"EFA-C\", \"value\": 0.03597815822887156}, {\"idx\": 36, \"variable\": \"EFA-C\", \"value\": 0.03640787035859963}, {\"idx\": 37, \"variable\": \"EFA-C\", \"value\": 0.037524935688563625}, {\"idx\": 38, \"variable\": \"EFA-C\", \"value\": 0.03945363070639191}, {\"idx\": 39, \"variable\": \"EFA-C\", \"value\": 0.03957701319136642}, {\"idx\": 40, \"variable\": \"EFA-C\", \"value\": 0.040283856234414384}, {\"idx\": 41, \"variable\": \"EFA-C\", \"value\": 0.04031687603456696}, {\"idx\": 42, \"variable\": \"EFA-C\", \"value\": 0.043551578405074315}, {\"idx\": 43, \"variable\": \"EFA-C\", \"value\": 0.04657339303104455}, {\"idx\": 44, \"variable\": \"EFA-C\", \"value\": 0.04887133377271569}, {\"idx\": 45, \"variable\": \"EFA-C\", \"value\": 0.049080941404337136}, {\"idx\": 46, \"variable\": \"EFA-C\", \"value\": 0.049430531983874086}, {\"idx\": 47, \"variable\": \"EFA-C\", \"value\": 0.049659376757772045}, {\"idx\": 48, \"variable\": \"EFA-C\", \"value\": 0.049867474514927394}, {\"idx\": 49, \"variable\": \"EFA-C\", \"value\": 0.050141829335231564}, {\"idx\": 50, \"variable\": \"EFA-C\", \"value\": 0.05021816397666014}, {\"idx\": 51, \"variable\": \"EFA-C\", \"value\": 0.05160728115792296}, {\"idx\": 52, \"variable\": \"EFA-C\", \"value\": 0.05166511543979218}, {\"idx\": 53, \"variable\": \"EFA-C\", \"value\": 0.05289882940767933}, {\"idx\": 54, \"variable\": \"EFA-C\", \"value\": 0.053022210890787166}, {\"idx\": 55, \"variable\": \"EFA-C\", \"value\": 0.0531109272863568}, {\"idx\": 56, \"variable\": \"EFA-C\", \"value\": 0.053916118361622196}, {\"idx\": 57, \"variable\": \"EFA-C\", \"value\": 0.05399839025058196}, {\"idx\": 58, \"variable\": \"EFA-C\", \"value\": 0.05405296722615033}, {\"idx\": 59, \"variable\": \"EFA-C\", \"value\": 0.0569901240770687}, {\"idx\": 60, \"variable\": \"EFA-C\", \"value\": 0.05792829478445972}, {\"idx\": 61, \"variable\": \"EFA-C\", \"value\": 0.05800174264140887}, {\"idx\": 62, \"variable\": \"EFA-C\", \"value\": 0.05810830817452766}, {\"idx\": 63, \"variable\": \"EFA-C\", \"value\": 0.05812778029639963}, {\"idx\": 64, \"variable\": \"EFA-C\", \"value\": 0.061389384692277116}, {\"idx\": 65, \"variable\": \"EFA-C\", \"value\": 0.062175068300522995}, {\"idx\": 66, \"variable\": \"EFA-C\", \"value\": 0.062427684399923834}, {\"idx\": 67, \"variable\": \"EFA-C\", \"value\": 0.06498297706342906}, {\"idx\": 68, \"variable\": \"EFA-C\", \"value\": 0.06503694793977323}, {\"idx\": 69, \"variable\": \"EFA-C\", \"value\": 0.06963388164554449}]}}, {\"mode\": \"vega-lite\"});\n",
       "</script>"
      ],
      "text/plain": [
       "alt.Chart(...)"
      ]
     },
     "execution_count": 6,
     "metadata": {},
     "output_type": "execute_result"
    }
   ],
   "source": [
    "model_evidence = get_model_evidence('log/CL_data/20210726_213147_ez/')\n",
    "bf = pd.DataFrame(model_evidence, columns=['EZ'])\n",
    "bf['idx'] = np.arange(bf.shape[0])\n",
    "bf['AZ'] = get_model_evidence('log/CL_data/20210726_213343_az/')\n",
    "bf['EFA'] = get_model_evidence('log/CL_data/20210726_213814_efa/')\n",
    "bf['EFA-C'] = get_model_evidence('log/CL_data/20210726_214548_efa_c/')\n",
    "plot_bf(bf, 800, 400)"
   ]
  },
  {
   "cell_type": "code",
   "execution_count": 7,
   "metadata": {},
   "outputs": [
    {
     "data": {
      "text/html": [
       "\n",
       "<div id=\"altair-viz-dbf1d89ac23346bb8a5a39740a1ea890\"></div>\n",
       "<script type=\"text/javascript\">\n",
       "  (function(spec, embedOpt){\n",
       "    let outputDiv = document.currentScript.previousElementSibling;\n",
       "    if (outputDiv.id !== \"altair-viz-dbf1d89ac23346bb8a5a39740a1ea890\") {\n",
       "      outputDiv = document.getElementById(\"altair-viz-dbf1d89ac23346bb8a5a39740a1ea890\");\n",
       "    }\n",
       "    const paths = {\n",
       "      \"vega\": \"https://cdn.jsdelivr.net/npm//vega@5?noext\",\n",
       "      \"vega-lib\": \"https://cdn.jsdelivr.net/npm//vega-lib?noext\",\n",
       "      \"vega-lite\": \"https://cdn.jsdelivr.net/npm//vega-lite@4.8.1?noext\",\n",
       "      \"vega-embed\": \"https://cdn.jsdelivr.net/npm//vega-embed@6?noext\",\n",
       "    };\n",
       "\n",
       "    function loadScript(lib) {\n",
       "      return new Promise(function(resolve, reject) {\n",
       "        var s = document.createElement('script');\n",
       "        s.src = paths[lib];\n",
       "        s.async = true;\n",
       "        s.onload = () => resolve(paths[lib]);\n",
       "        s.onerror = () => reject(`Error loading script: ${paths[lib]}`);\n",
       "        document.getElementsByTagName(\"head\")[0].appendChild(s);\n",
       "      });\n",
       "    }\n",
       "\n",
       "    function showError(err) {\n",
       "      outputDiv.innerHTML = `<div class=\"error\" style=\"color:red;\">${err}</div>`;\n",
       "      throw err;\n",
       "    }\n",
       "\n",
       "    function displayChart(vegaEmbed) {\n",
       "      vegaEmbed(outputDiv, spec, embedOpt)\n",
       "        .catch(err => showError(`Javascript Error: ${err.message}<br>This usually means there's a typo in your chart specification. See the javascript console for the full traceback.`));\n",
       "    }\n",
       "\n",
       "    if(typeof define === \"function\" && define.amd) {\n",
       "      requirejs.config({paths});\n",
       "      require([\"vega-embed\"], displayChart, err => showError(`Error loading script: ${err.message}`));\n",
       "    } else if (typeof vegaEmbed === \"function\") {\n",
       "      displayChart(vegaEmbed);\n",
       "    } else {\n",
       "      loadScript(\"vega\")\n",
       "        .then(() => loadScript(\"vega-lite\"))\n",
       "        .then(() => loadScript(\"vega-embed\"))\n",
       "        .catch(showError)\n",
       "        .then(() => displayChart(vegaEmbed));\n",
       "    }\n",
       "  })({\"config\": {\"view\": {\"continuousWidth\": 400, \"continuousHeight\": 300}, \"axis\": {\"labelFontSize\": 14, \"titleFontSize\": 16}, \"legend\": {\"labelFontSize\": 14, \"symbolStrokeWidth\": 10, \"titleFontSize\": 16}}, \"data\": {\"name\": \"data-eff258b58bce5c214ff8ced0dd337f06\"}, \"mark\": {\"type\": \"line\", \"opacity\": 0.9, \"strokeWidth\": 4}, \"encoding\": {\"color\": {\"type\": \"nominal\", \"field\": \"variable\"}, \"x\": {\"type\": \"quantitative\", \"field\": \"idx\", \"title\": null}, \"y\": {\"type\": \"quantitative\", \"field\": \"value\"}}, \"height\": 400, \"selection\": {\"selector003\": {\"type\": \"interval\", \"bind\": \"scales\", \"encodings\": [\"x\", \"y\"]}}, \"width\": 800, \"$schema\": \"https://vega.github.io/schema/vega-lite/v4.8.1.json\", \"datasets\": {\"data-eff258b58bce5c214ff8ced0dd337f06\": [{\"idx\": 0, \"variable\": \"AZ/EZ\", \"value\": 4.102358604630674}, {\"idx\": 1, \"variable\": \"AZ/EZ\", \"value\": 3.294078248708446}, {\"idx\": 2, \"variable\": \"AZ/EZ\", \"value\": 1.414212493967002}, {\"idx\": 3, \"variable\": \"AZ/EZ\", \"value\": 1.4028262584215392}, {\"idx\": 4, \"variable\": \"AZ/EZ\", \"value\": 1.4290718998921788}, {\"idx\": 5, \"variable\": \"AZ/EZ\", \"value\": 1.1115690571006844}, {\"idx\": 6, \"variable\": \"AZ/EZ\", \"value\": 1.051564695027419}, {\"idx\": 7, \"variable\": \"AZ/EZ\", \"value\": 0.8924771744683617}, {\"idx\": 8, \"variable\": \"AZ/EZ\", \"value\": 0.9114187765845663}, {\"idx\": 9, \"variable\": \"AZ/EZ\", \"value\": 0.9129354704005146}, {\"idx\": 10, \"variable\": \"AZ/EZ\", \"value\": 0.9181562190683449}, {\"idx\": 11, \"variable\": \"AZ/EZ\", \"value\": 0.9190875430847921}, {\"idx\": 12, \"variable\": \"AZ/EZ\", \"value\": 0.9023003405293296}, {\"idx\": 13, \"variable\": \"AZ/EZ\", \"value\": 0.9243599517054545}, {\"idx\": 14, \"variable\": \"AZ/EZ\", \"value\": 0.9212316102656654}, {\"idx\": 15, \"variable\": \"AZ/EZ\", \"value\": 0.9212352927336851}, {\"idx\": 16, \"variable\": \"AZ/EZ\", \"value\": 0.9227054888991862}, {\"idx\": 17, \"variable\": \"AZ/EZ\", \"value\": 0.9299542191563358}, {\"idx\": 18, \"variable\": \"AZ/EZ\", \"value\": 0.932012769762879}, {\"idx\": 19, \"variable\": \"AZ/EZ\", \"value\": 0.9537790677970922}, {\"idx\": 20, \"variable\": \"AZ/EZ\", \"value\": 0.9613521641501028}, {\"idx\": 21, \"variable\": \"AZ/EZ\", \"value\": 0.9625189888433561}, {\"idx\": 22, \"variable\": \"AZ/EZ\", \"value\": 0.9886333383851635}, {\"idx\": 23, \"variable\": \"AZ/EZ\", \"value\": 0.9956063888492026}, {\"idx\": 24, \"variable\": \"AZ/EZ\", \"value\": 0.9966270219019189}, {\"idx\": 25, \"variable\": \"AZ/EZ\", \"value\": 0.9967789992077777}, {\"idx\": 26, \"variable\": \"AZ/EZ\", \"value\": 0.9983171194464383}, {\"idx\": 27, \"variable\": \"AZ/EZ\", \"value\": 1.0164484290128788}, {\"idx\": 28, \"variable\": \"AZ/EZ\", \"value\": 1.0150504885718654}, {\"idx\": 29, \"variable\": \"AZ/EZ\", \"value\": 1.0179475326658842}, {\"idx\": 30, \"variable\": \"AZ/EZ\", \"value\": 1.0123268554942384}, {\"idx\": 31, \"variable\": \"AZ/EZ\", \"value\": 1.0176656747645578}, {\"idx\": 32, \"variable\": \"AZ/EZ\", \"value\": 1.0059484698788441}, {\"idx\": 33, \"variable\": \"AZ/EZ\", \"value\": 1.0055260043259233}, {\"idx\": 34, \"variable\": \"AZ/EZ\", \"value\": 1.0057635027634626}, {\"idx\": 35, \"variable\": \"AZ/EZ\", \"value\": 1.0091885100391293}, {\"idx\": 36, \"variable\": \"AZ/EZ\", \"value\": 1.0083458497541609}, {\"idx\": 37, \"variable\": \"AZ/EZ\", \"value\": 0.9980312731433801}, {\"idx\": 38, \"variable\": \"AZ/EZ\", \"value\": 1.005295139042378}, {\"idx\": 39, \"variable\": \"AZ/EZ\", \"value\": 1.0057886580292912}, {\"idx\": 40, \"variable\": \"AZ/EZ\", \"value\": 0.9989285835409405}, {\"idx\": 41, \"variable\": \"AZ/EZ\", \"value\": 0.9991945841838813}, {\"idx\": 42, \"variable\": \"AZ/EZ\", \"value\": 0.99424125977177}, {\"idx\": 43, \"variable\": \"AZ/EZ\", \"value\": 0.9971622471595333}, {\"idx\": 44, \"variable\": \"AZ/EZ\", \"value\": 0.9986344483956135}, {\"idx\": 45, \"variable\": \"AZ/EZ\", \"value\": 0.9980090756768134}, {\"idx\": 46, \"variable\": \"AZ/EZ\", \"value\": 1.000070957943437}, {\"idx\": 47, \"variable\": \"AZ/EZ\", \"value\": 1.0009574797271559}, {\"idx\": 48, \"variable\": \"AZ/EZ\", \"value\": 1.0006197961184298}, {\"idx\": 49, \"variable\": \"AZ/EZ\", \"value\": 1.0024521074418131}, {\"idx\": 50, \"variable\": \"AZ/EZ\", \"value\": 1.0018413631027883}, {\"idx\": 51, \"variable\": \"AZ/EZ\", \"value\": 0.9967178263397213}, {\"idx\": 52, \"variable\": \"AZ/EZ\", \"value\": 0.9965895447104794}, {\"idx\": 53, \"variable\": \"AZ/EZ\", \"value\": 0.9931222563880555}, {\"idx\": 54, \"variable\": \"AZ/EZ\", \"value\": 0.9934393597432905}, {\"idx\": 55, \"variable\": \"AZ/EZ\", \"value\": 0.9928860069436676}, {\"idx\": 56, \"variable\": \"AZ/EZ\", \"value\": 0.9964841798935935}, {\"idx\": 57, \"variable\": \"AZ/EZ\", \"value\": 0.9959817394067383}, {\"idx\": 58, \"variable\": \"AZ/EZ\", \"value\": 0.9957936889449548}, {\"idx\": 59, \"variable\": \"AZ/EZ\", \"value\": 0.9969522953749228}, {\"idx\": 60, \"variable\": \"AZ/EZ\", \"value\": 1.000718843315155}, {\"idx\": 61, \"variable\": \"AZ/EZ\", \"value\": 1.0009841426205677}, {\"idx\": 62, \"variable\": \"AZ/EZ\", \"value\": 1.001212005877004}, {\"idx\": 63, \"variable\": \"AZ/EZ\", \"value\": 1.000315660815885}, {\"idx\": 64, \"variable\": \"AZ/EZ\", \"value\": 0.9975986438043221}, {\"idx\": 65, \"variable\": \"AZ/EZ\", \"value\": 0.9993176132142984}, {\"idx\": 66, \"variable\": \"AZ/EZ\", \"value\": 1.0005991867657849}, {\"idx\": 67, \"variable\": \"AZ/EZ\", \"value\": 0.9989187602833057}, {\"idx\": 68, \"variable\": \"AZ/EZ\", \"value\": 0.9992188083918551}, {\"idx\": 69, \"variable\": \"AZ/EZ\", \"value\": 0.9945094820822876}, {\"idx\": 0, \"variable\": \"AZ/EFA\", \"value\": 1.0065996218490116}, {\"idx\": 1, \"variable\": \"AZ/EFA\", \"value\": 0.5997223558118777}, {\"idx\": 2, \"variable\": \"AZ/EFA\", \"value\": 1.1546336248643168}, {\"idx\": 3, \"variable\": \"AZ/EFA\", \"value\": 1.1194214613124198}, {\"idx\": 4, \"variable\": \"AZ/EFA\", \"value\": 0.907896115793794}, {\"idx\": 5, \"variable\": \"AZ/EFA\", \"value\": 1.0627808655324351}, {\"idx\": 6, \"variable\": \"AZ/EFA\", \"value\": 1.0867967536487877}, {\"idx\": 7, \"variable\": \"AZ/EFA\", \"value\": 1.0467653758265998}, {\"idx\": 8, \"variable\": \"AZ/EFA\", \"value\": 0.9842504784985632}, {\"idx\": 9, \"variable\": \"AZ/EFA\", \"value\": 0.9876822969725121}, {\"idx\": 10, \"variable\": \"AZ/EFA\", \"value\": 1.0049551704680644}, {\"idx\": 11, \"variable\": \"AZ/EFA\", \"value\": 1.006716519532769}, {\"idx\": 12, \"variable\": \"AZ/EFA\", \"value\": 1.0243623011575211}, {\"idx\": 13, \"variable\": \"AZ/EFA\", \"value\": 1.0029017539209057}, {\"idx\": 14, \"variable\": \"AZ/EFA\", \"value\": 0.9979858602813124}, {\"idx\": 15, \"variable\": \"AZ/EFA\", \"value\": 0.9979622779887968}, {\"idx\": 16, \"variable\": \"AZ/EFA\", \"value\": 1.0010762521128627}, {\"idx\": 17, \"variable\": \"AZ/EFA\", \"value\": 1.0020591028250003}, {\"idx\": 18, \"variable\": \"AZ/EFA\", \"value\": 1.003323518324202}, {\"idx\": 19, \"variable\": \"AZ/EFA\", \"value\": 1.0152690052115814}, {\"idx\": 20, \"variable\": \"AZ/EFA\", \"value\": 0.9998180308683671}, {\"idx\": 21, \"variable\": \"AZ/EFA\", \"value\": 1.0013293899068378}, {\"idx\": 22, \"variable\": \"AZ/EFA\", \"value\": 0.9932139332414868}, {\"idx\": 23, \"variable\": \"AZ/EFA\", \"value\": 1.015241568992012}, {\"idx\": 24, \"variable\": \"AZ/EFA\", \"value\": 1.014559536345687}, {\"idx\": 25, \"variable\": \"AZ/EFA\", \"value\": 1.0145962901091634}, {\"idx\": 26, \"variable\": \"AZ/EFA\", \"value\": 1.0132412442696688}, {\"idx\": 27, \"variable\": \"AZ/EFA\", \"value\": 0.9867315678146618}, {\"idx\": 28, \"variable\": \"AZ/EFA\", \"value\": 0.9909647666875497}, {\"idx\": 29, \"variable\": \"AZ/EFA\", \"value\": 0.9914510344588751}, {\"idx\": 30, \"variable\": \"AZ/EFA\", \"value\": 0.9961665218127719}, {\"idx\": 31, \"variable\": \"AZ/EFA\", \"value\": 0.9973239483748677}, {\"idx\": 32, \"variable\": \"AZ/EFA\", \"value\": 1.0024379173096991}, {\"idx\": 33, \"variable\": \"AZ/EFA\", \"value\": 1.0037934963074302}, {\"idx\": 34, \"variable\": \"AZ/EFA\", \"value\": 1.0042329837693176}, {\"idx\": 35, \"variable\": \"AZ/EFA\", \"value\": 1.0059198544144752}, {\"idx\": 36, \"variable\": \"AZ/EFA\", \"value\": 1.0040276346625314}, {\"idx\": 37, \"variable\": \"AZ/EFA\", \"value\": 1.0062160731281427}, {\"idx\": 38, \"variable\": \"AZ/EFA\", \"value\": 1.0043842898793793}, {\"idx\": 39, \"variable\": \"AZ/EFA\", \"value\": 1.0045854597312733}, {\"idx\": 40, \"variable\": \"AZ/EFA\", \"value\": 1.0070610714395198}, {\"idx\": 41, \"variable\": \"AZ/EFA\", \"value\": 1.0066637248719665}, {\"idx\": 42, \"variable\": \"AZ/EFA\", \"value\": 1.0117404426420082}, {\"idx\": 43, \"variable\": \"AZ/EFA\", \"value\": 1.0173606500015682}, {\"idx\": 44, \"variable\": \"AZ/EFA\", \"value\": 1.0179731712622975}, {\"idx\": 45, \"variable\": \"AZ/EFA\", \"value\": 1.0190940808255955}, {\"idx\": 46, \"variable\": \"AZ/EFA\", \"value\": 1.0166992740562164}, {\"idx\": 47, \"variable\": \"AZ/EFA\", \"value\": 1.0177156909317486}, {\"idx\": 48, \"variable\": \"AZ/EFA\", \"value\": 1.0162042342654223}, {\"idx\": 49, \"variable\": \"AZ/EFA\", \"value\": 1.0162411050711844}, {\"idx\": 50, \"variable\": \"AZ/EFA\", \"value\": 1.0163331047775752}, {\"idx\": 51, \"variable\": \"AZ/EFA\", \"value\": 1.013972809314118}, {\"idx\": 52, \"variable\": \"AZ/EFA\", \"value\": 1.0139219722883455}, {\"idx\": 53, \"variable\": \"AZ/EFA\", \"value\": 1.0167884457382266}, {\"idx\": 54, \"variable\": \"AZ/EFA\", \"value\": 1.0169278493215432}, {\"idx\": 55, \"variable\": \"AZ/EFA\", \"value\": 1.0169538903676116}, {\"idx\": 56, \"variable\": \"AZ/EFA\", \"value\": 1.0169569318144458}, {\"idx\": 57, \"variable\": \"AZ/EFA\", \"value\": 1.0168878379099136}, {\"idx\": 58, \"variable\": \"AZ/EFA\", \"value\": 1.016470434316427}, {\"idx\": 59, \"variable\": \"AZ/EFA\", \"value\": 1.0094580069453754}, {\"idx\": 60, \"variable\": \"AZ/EFA\", \"value\": 1.0083068272401288}, {\"idx\": 61, \"variable\": \"AZ/EFA\", \"value\": 1.0076203249153284}, {\"idx\": 62, \"variable\": \"AZ/EFA\", \"value\": 1.0078571856899754}, {\"idx\": 63, \"variable\": \"AZ/EFA\", \"value\": 1.0080024897296382}, {\"idx\": 64, \"variable\": \"AZ/EFA\", \"value\": 1.0096293729006178}, {\"idx\": 65, \"variable\": \"AZ/EFA\", \"value\": 1.0081634228913288}, {\"idx\": 66, \"variable\": \"AZ/EFA\", \"value\": 1.0079193994972115}, {\"idx\": 67, \"variable\": \"AZ/EFA\", \"value\": 1.003777606461093}, {\"idx\": 68, \"variable\": \"AZ/EFA\", \"value\": 1.0033164056791}, {\"idx\": 69, \"variable\": \"AZ/EFA\", \"value\": 1.0059427134167105}, {\"idx\": 0, \"variable\": \"AZ/EFA-C\", \"value\": 0.6225441599123152}, {\"idx\": 1, \"variable\": \"AZ/EFA-C\", \"value\": 0.6840018371312947}, {\"idx\": 2, \"variable\": \"AZ/EFA-C\", \"value\": 1.183567160196172}, {\"idx\": 3, \"variable\": \"AZ/EFA-C\", \"value\": 1.1049662032794438}, {\"idx\": 4, \"variable\": \"AZ/EFA-C\", \"value\": 1.0186655416101584}, {\"idx\": 5, \"variable\": \"AZ/EFA-C\", \"value\": 1.1269028269803143}, {\"idx\": 6, \"variable\": \"AZ/EFA-C\", \"value\": 1.1404276556969344}, {\"idx\": 7, \"variable\": \"AZ/EFA-C\", \"value\": 1.152557259328874}, {\"idx\": 8, \"variable\": \"AZ/EFA-C\", \"value\": 1.1048267716172002}, {\"idx\": 9, \"variable\": \"AZ/EFA-C\", \"value\": 1.1061203972178961}, {\"idx\": 10, \"variable\": \"AZ/EFA-C\", \"value\": 1.1015798951304996}, {\"idx\": 11, \"variable\": \"AZ/EFA-C\", \"value\": 1.10103507400857}, {\"idx\": 12, \"variable\": \"AZ/EFA-C\", \"value\": 1.0993843266948113}, {\"idx\": 13, \"variable\": \"AZ/EFA-C\", \"value\": 1.0859689898837142}, {\"idx\": 14, \"variable\": \"AZ/EFA-C\", \"value\": 1.0790331162914057}, {\"idx\": 15, \"variable\": \"AZ/EFA-C\", \"value\": 1.0788650878182124}, {\"idx\": 16, \"variable\": \"AZ/EFA-C\", \"value\": 1.0796159413653137}, {\"idx\": 17, \"variable\": \"AZ/EFA-C\", \"value\": 1.0781988738338446}, {\"idx\": 18, \"variable\": \"AZ/EFA-C\", \"value\": 1.0780680461583552}, {\"idx\": 19, \"variable\": \"AZ/EFA-C\", \"value\": 1.078626457754266}, {\"idx\": 20, \"variable\": \"AZ/EFA-C\", \"value\": 1.0629014516818147}, {\"idx\": 21, \"variable\": \"AZ/EFA-C\", \"value\": 1.06224549582383}, {\"idx\": 22, \"variable\": \"AZ/EFA-C\", \"value\": 1.062698137972455}, {\"idx\": 23, \"variable\": \"AZ/EFA-C\", \"value\": 1.0965124948597085}, {\"idx\": 24, \"variable\": \"AZ/EFA-C\", \"value\": 1.0961740797438444}, {\"idx\": 25, \"variable\": \"AZ/EFA-C\", \"value\": 1.096028816080621}, {\"idx\": 26, \"variable\": \"AZ/EFA-C\", \"value\": 1.0945318933898065}, {\"idx\": 27, \"variable\": \"AZ/EFA-C\", \"value\": 1.0712903479996543}, {\"idx\": 28, \"variable\": \"AZ/EFA-C\", \"value\": 1.0738034599157806}, {\"idx\": 29, \"variable\": \"AZ/EFA-C\", \"value\": 1.0778118809277368}, {\"idx\": 30, \"variable\": \"AZ/EFA-C\", \"value\": 1.0815986951621936}, {\"idx\": 31, \"variable\": \"AZ/EFA-C\", \"value\": 1.090851179731792}, {\"idx\": 32, \"variable\": \"AZ/EFA-C\", \"value\": 1.0973732588152614}, {\"idx\": 33, \"variable\": \"AZ/EFA-C\", \"value\": 1.0985777907035343}, {\"idx\": 34, \"variable\": \"AZ/EFA-C\", \"value\": 1.0983090608521286}, {\"idx\": 35, \"variable\": \"AZ/EFA-C\", \"value\": 1.0967407376810916}, {\"idx\": 36, \"variable\": \"AZ/EFA-C\", \"value\": 1.0936749293592403}, {\"idx\": 37, \"variable\": \"AZ/EFA-C\", \"value\": 1.0930914370215714}, {\"idx\": 38, \"variable\": \"AZ/EFA-C\", \"value\": 1.0891811160277356}, {\"idx\": 39, \"variable\": \"AZ/EFA-C\", \"value\": 1.088463467341039}, {\"idx\": 40, \"variable\": \"AZ/EFA-C\", \"value\": 1.090492762188511}, {\"idx\": 41, \"variable\": \"AZ/EFA-C\", \"value\": 1.0900108682120029}, {\"idx\": 42, \"variable\": \"AZ/EFA-C\", \"value\": 1.0953717236451919}, {\"idx\": 43, \"variable\": \"AZ/EFA-C\", \"value\": 1.0944063755516173}, {\"idx\": 44, \"variable\": \"AZ/EFA-C\", \"value\": 1.0925347208128147}, {\"idx\": 45, \"variable\": \"AZ/EFA-C\", \"value\": 1.0923002638952912}, {\"idx\": 46, \"variable\": \"AZ/EFA-C\", \"value\": 1.0891767123404985}, {\"idx\": 47, \"variable\": \"AZ/EFA-C\", \"value\": 1.088857882458297}, {\"idx\": 48, \"variable\": \"AZ/EFA-C\", \"value\": 1.0863722195472634}, {\"idx\": 49, \"variable\": \"AZ/EFA-C\", \"value\": 1.0846608409912901}, {\"idx\": 50, \"variable\": \"AZ/EFA-C\", \"value\": 1.0847386503359369}, {\"idx\": 51, \"variable\": \"AZ/EFA-C\", \"value\": 1.0822471020826436}, {\"idx\": 52, \"variable\": \"AZ/EFA-C\", \"value\": 1.082127698417955}, {\"idx\": 53, \"variable\": \"AZ/EFA-C\", \"value\": 1.086311785752703}, {\"idx\": 54, \"variable\": \"AZ/EFA-C\", \"value\": 1.086155021538929}, {\"idx\": 55, \"variable\": \"AZ/EFA-C\", \"value\": 1.086279484213544}, {\"idx\": 56, \"variable\": \"AZ/EFA-C\", \"value\": 1.0847572379116255}, {\"idx\": 57, \"variable\": \"AZ/EFA-C\", \"value\": 1.0845360485818538}, {\"idx\": 58, \"variable\": \"AZ/EFA-C\", \"value\": 1.083910534183277}, {\"idx\": 59, \"variable\": \"AZ/EFA-C\", \"value\": 1.0780766336158516}, {\"idx\": 60, \"variable\": \"AZ/EFA-C\", \"value\": 1.0751061433353357}, {\"idx\": 61, \"variable\": \"AZ/EFA-C\", \"value\": 1.074466818080526}, {\"idx\": 62, \"variable\": \"AZ/EFA-C\", \"value\": 1.074417080245282}, {\"idx\": 63, \"variable\": \"AZ/EFA-C\", \"value\": 1.0745679317911017}, {\"idx\": 64, \"variable\": \"AZ/EFA-C\", \"value\": 1.07499945032478}, {\"idx\": 65, \"variable\": \"AZ/EFA-C\", \"value\": 1.0734023224842666}, {\"idx\": 66, \"variable\": \"AZ/EFA-C\", \"value\": 1.0726995070118666}, {\"idx\": 67, \"variable\": \"AZ/EFA-C\", \"value\": 1.0697745128246074}, {\"idx\": 68, \"variable\": \"AZ/EFA-C\", \"value\": 1.0694001302401666}, {\"idx\": 69, \"variable\": \"AZ/EFA-C\", \"value\": 1.0716289625545268}]}}, {\"mode\": \"vega-lite\"});\n",
       "</script>"
      ],
      "text/plain": [
       "alt.Chart(...)"
      ]
     },
     "execution_count": 7,
     "metadata": {},
     "output_type": "execute_result"
    }
   ],
   "source": [
    "model_evidence = get_model_evidence('log/CL_data/20210726_213343_az/')/get_model_evidence('log/CL_data/20210726_213147_ez/')\n",
    "bf = pd.DataFrame(model_evidence, columns=['AZ/EZ'])\n",
    "bf['idx'] = np.arange(bf.shape[0])\n",
    "bf['AZ/EFA'] =  get_model_evidence('log/CL_data/20210726_213343_az/')/ get_model_evidence('log/CL_data/20210726_213814_efa/')\n",
    "bf['AZ/EFA-C'] =  get_model_evidence('log/CL_data/20210726_213343_az/')/ get_model_evidence('log/CL_data/20210726_214548_efa_c//')\n",
    "plot_bf(bf, 800, 400)"
   ]
  },
  {
   "cell_type": "markdown",
   "metadata": {},
   "source": [
    "### Got 100 people from the Big5 data set"
   ]
  },
  {
   "cell_type": "code",
   "execution_count": 8,
   "metadata": {},
   "outputs": [
    {
     "data": {
      "text/html": [
       "\n",
       "<div id=\"altair-viz-df90a0abc82745318d6a92178823780c\"></div>\n",
       "<script type=\"text/javascript\">\n",
       "  (function(spec, embedOpt){\n",
       "    let outputDiv = document.currentScript.previousElementSibling;\n",
       "    if (outputDiv.id !== \"altair-viz-df90a0abc82745318d6a92178823780c\") {\n",
       "      outputDiv = document.getElementById(\"altair-viz-df90a0abc82745318d6a92178823780c\");\n",
       "    }\n",
       "    const paths = {\n",
       "      \"vega\": \"https://cdn.jsdelivr.net/npm//vega@5?noext\",\n",
       "      \"vega-lib\": \"https://cdn.jsdelivr.net/npm//vega-lib?noext\",\n",
       "      \"vega-lite\": \"https://cdn.jsdelivr.net/npm//vega-lite@4.8.1?noext\",\n",
       "      \"vega-embed\": \"https://cdn.jsdelivr.net/npm//vega-embed@6?noext\",\n",
       "    };\n",
       "\n",
       "    function loadScript(lib) {\n",
       "      return new Promise(function(resolve, reject) {\n",
       "        var s = document.createElement('script');\n",
       "        s.src = paths[lib];\n",
       "        s.async = true;\n",
       "        s.onload = () => resolve(paths[lib]);\n",
       "        s.onerror = () => reject(`Error loading script: ${paths[lib]}`);\n",
       "        document.getElementsByTagName(\"head\")[0].appendChild(s);\n",
       "      });\n",
       "    }\n",
       "\n",
       "    function showError(err) {\n",
       "      outputDiv.innerHTML = `<div class=\"error\" style=\"color:red;\">${err}</div>`;\n",
       "      throw err;\n",
       "    }\n",
       "\n",
       "    function displayChart(vegaEmbed) {\n",
       "      vegaEmbed(outputDiv, spec, embedOpt)\n",
       "        .catch(err => showError(`Javascript Error: ${err.message}<br>This usually means there's a typo in your chart specification. See the javascript console for the full traceback.`));\n",
       "    }\n",
       "\n",
       "    if(typeof define === \"function\" && define.amd) {\n",
       "      requirejs.config({paths});\n",
       "      require([\"vega-embed\"], displayChart, err => showError(`Error loading script: ${err.message}`));\n",
       "    } else if (typeof vegaEmbed === \"function\") {\n",
       "      displayChart(vegaEmbed);\n",
       "    } else {\n",
       "      loadScript(\"vega\")\n",
       "        .then(() => loadScript(\"vega-lite\"))\n",
       "        .then(() => loadScript(\"vega-embed\"))\n",
       "        .catch(showError)\n",
       "        .then(() => displayChart(vegaEmbed));\n",
       "    }\n",
       "  })({\"config\": {\"view\": {\"continuousWidth\": 400, \"continuousHeight\": 300}, \"axis\": {\"labelFontSize\": 14, \"titleFontSize\": 16}, \"legend\": {\"labelFontSize\": 14, \"symbolStrokeWidth\": 10, \"titleFontSize\": 16}}, \"data\": {\"name\": \"data-435e02a00f5bab17cfba6afb9e2a5997\"}, \"mark\": {\"type\": \"line\", \"opacity\": 0.9, \"strokeWidth\": 4}, \"encoding\": {\"color\": {\"type\": \"nominal\", \"field\": \"variable\"}, \"x\": {\"type\": \"quantitative\", \"field\": \"idx\", \"title\": null}, \"y\": {\"type\": \"quantitative\", \"field\": \"value\"}}, \"height\": 400, \"selection\": {\"selector004\": {\"type\": \"interval\", \"bind\": \"scales\", \"encodings\": [\"x\", \"y\"]}}, \"width\": 800, \"$schema\": \"https://vega.github.io/schema/vega-lite/v4.8.1.json\", \"datasets\": {\"data-435e02a00f5bab17cfba6afb9e2a5997\": [{\"idx\": 0, \"variable\": \"EZ\", \"value\": 4.53512262547913e-13}, {\"idx\": 1, \"variable\": \"EZ\", \"value\": 4.5371063994018095e-13}, {\"idx\": 2, \"variable\": \"EZ\", \"value\": 3.2404568428317294e-09}, {\"idx\": 3, \"variable\": \"EZ\", \"value\": 1.1324438905722747e-08}, {\"idx\": 4, \"variable\": \"EZ\", \"value\": 1.099142724642157e-07}, {\"idx\": 5, \"variable\": \"EZ\", \"value\": 1.3318390691715022e-07}, {\"idx\": 6, \"variable\": \"EZ\", \"value\": 1.3318720488946007e-07}, {\"idx\": 7, \"variable\": \"EZ\", \"value\": 2.438734210665078e-07}, {\"idx\": 8, \"variable\": \"EZ\", \"value\": 2.438736054889979e-07}, {\"idx\": 9, \"variable\": \"EZ\", \"value\": 2.502478975754649e-07}, {\"idx\": 10, \"variable\": \"EZ\", \"value\": 4.256483755865519e-07}, {\"idx\": 11, \"variable\": \"EZ\", \"value\": 4.262025877173842e-07}, {\"idx\": 12, \"variable\": \"EZ\", \"value\": 4.3127217900761524e-07}, {\"idx\": 13, \"variable\": \"EZ\", \"value\": 4.403777480718502e-07}, {\"idx\": 14, \"variable\": \"EZ\", \"value\": 4.5481718235292013e-07}, {\"idx\": 15, \"variable\": \"EZ\", \"value\": 4.559153207691767e-07}, {\"idx\": 16, \"variable\": \"EZ\", \"value\": 4.5954942966936345e-07}, {\"idx\": 17, \"variable\": \"EZ\", \"value\": 4.596901620143818e-07}, {\"idx\": 18, \"variable\": \"EZ\", \"value\": 1.098656218145329e-06}, {\"idx\": 19, \"variable\": \"EZ\", \"value\": 1.098765143647311e-06}, {\"idx\": 20, \"variable\": \"EZ\", \"value\": 1.1014992913991453e-06}, {\"idx\": 21, \"variable\": \"EZ\", \"value\": 1.1038782926959936e-06}, {\"idx\": 22, \"variable\": \"EZ\", \"value\": 1.1054489573634151e-06}, {\"idx\": 23, \"variable\": \"EZ\", \"value\": 1.1590925523428911e-06}, {\"idx\": 24, \"variable\": \"EZ\", \"value\": 1.1592000971360495e-06}, {\"idx\": 25, \"variable\": \"EZ\", \"value\": 1.1654039440198784e-06}, {\"idx\": 26, \"variable\": \"EZ\", \"value\": 1.1666675114870899e-06}, {\"idx\": 27, \"variable\": \"EZ\", \"value\": 1.3584712590874816e-06}, {\"idx\": 28, \"variable\": \"EZ\", \"value\": 1.6040374575676178e-06}, {\"idx\": 29, \"variable\": \"EZ\", \"value\": 1.9654332248170705e-06}, {\"idx\": 30, \"variable\": \"EZ\", \"value\": 2.039152192689164e-06}, {\"idx\": 31, \"variable\": \"EZ\", \"value\": 3.2495058705247453e-06}, {\"idx\": 32, \"variable\": \"EZ\", \"value\": 3.2503467283569377e-06}, {\"idx\": 33, \"variable\": \"EZ\", \"value\": 3.2510495893754068e-06}, {\"idx\": 34, \"variable\": \"EZ\", \"value\": 3.2510795210972375e-06}, {\"idx\": 35, \"variable\": \"EZ\", \"value\": 3.3623727289802924e-06}, {\"idx\": 36, \"variable\": \"EZ\", \"value\": 3.3652186763498813e-06}, {\"idx\": 37, \"variable\": \"EZ\", \"value\": 4.827021493943976e-06}, {\"idx\": 38, \"variable\": \"EZ\", \"value\": 5.4911749970801444e-06}, {\"idx\": 39, \"variable\": \"EZ\", \"value\": 5.504960363613296e-06}, {\"idx\": 40, \"variable\": \"EZ\", \"value\": 5.505988574961011e-06}, {\"idx\": 41, \"variable\": \"EZ\", \"value\": 5.506002769766094e-06}, {\"idx\": 42, \"variable\": \"EZ\", \"value\": 6.5524418496532265e-06}, {\"idx\": 43, \"variable\": \"EZ\", \"value\": 6.58634830589455e-06}, {\"idx\": 44, \"variable\": \"EZ\", \"value\": 6.598831453855123e-06}, {\"idx\": 45, \"variable\": \"EZ\", \"value\": 6.611190686241962e-06}, {\"idx\": 46, \"variable\": \"EZ\", \"value\": 6.614704252192524e-06}, {\"idx\": 47, \"variable\": \"EZ\", \"value\": 6.765247376602153e-06}, {\"idx\": 48, \"variable\": \"EZ\", \"value\": 6.766823267310343e-06}, {\"idx\": 49, \"variable\": \"EZ\", \"value\": 6.779533591307659e-06}, {\"idx\": 50, \"variable\": \"EZ\", \"value\": 7.725409924739855e-06}, {\"idx\": 51, \"variable\": \"EZ\", \"value\": 8.980631765153811e-06}, {\"idx\": 52, \"variable\": \"EZ\", \"value\": 1.0301411159541106e-05}, {\"idx\": 53, \"variable\": \"EZ\", \"value\": 1.0345785725806379e-05}, {\"idx\": 54, \"variable\": \"EZ\", \"value\": 1.0345788553379962e-05}, {\"idx\": 55, \"variable\": \"EZ\", \"value\": 1.0462435930699395e-05}, {\"idx\": 56, \"variable\": \"EZ\", \"value\": 1.046267976707042e-05}, {\"idx\": 57, \"variable\": \"EZ\", \"value\": 1.0462888587072462e-05}, {\"idx\": 58, \"variable\": \"EZ\", \"value\": 1.0549157616809907e-05}, {\"idx\": 59, \"variable\": \"EZ\", \"value\": 1.0940130056551309e-05}, {\"idx\": 60, \"variable\": \"EZ\", \"value\": 1.0966847483764394e-05}, {\"idx\": 61, \"variable\": \"EZ\", \"value\": 1.0969109725991312e-05}, {\"idx\": 62, \"variable\": \"EZ\", \"value\": 1.0969123669744099e-05}, {\"idx\": 63, \"variable\": \"EZ\", \"value\": 1.0978275483422004e-05}, {\"idx\": 64, \"variable\": \"EZ\", \"value\": 1.0997791408381369e-05}, {\"idx\": 65, \"variable\": \"EZ\", \"value\": 1.1071690571037523e-05}, {\"idx\": 66, \"variable\": \"EZ\", \"value\": 1.1071697673933502e-05}, {\"idx\": 67, \"variable\": \"EZ\", \"value\": 1.1071697694908013e-05}, {\"idx\": 68, \"variable\": \"EZ\", \"value\": 1.1072474969647167e-05}, {\"idx\": 69, \"variable\": \"EZ\", \"value\": 1.1131994139425985e-05}, {\"idx\": 0, \"variable\": \"AZ\", \"value\": 9.091048384500552e-12}, {\"idx\": 1, \"variable\": \"AZ\", \"value\": 9.093126593988935e-12}, {\"idx\": 2, \"variable\": \"AZ\", \"value\": 8.727168198955373e-09}, {\"idx\": 3, \"variable\": \"AZ\", \"value\": 1.3514228392005848e-08}, {\"idx\": 4, \"variable\": \"AZ\", \"value\": 9.367093007143471e-08}, {\"idx\": 5, \"variable\": \"AZ\", \"value\": 1.1910239769134007e-07}, {\"idx\": 6, \"variable\": \"AZ\", \"value\": 1.1910343536187816e-07}, {\"idx\": 7, \"variable\": \"AZ\", \"value\": 2.4196950497675926e-07}, {\"idx\": 8, \"variable\": \"AZ\", \"value\": 2.419697750807709e-07}, {\"idx\": 9, \"variable\": \"AZ\", \"value\": 2.5286981404490776e-07}, {\"idx\": 10, \"variable\": \"AZ\", \"value\": 4.2797990770031544e-07}, {\"idx\": 11, \"variable\": \"AZ\", \"value\": 4.288368274446372e-07}, {\"idx\": 12, \"variable\": \"AZ\", \"value\": 4.3423270493783007e-07}, {\"idx\": 13, \"variable\": \"AZ\", \"value\": 4.4460940945260854e-07}, {\"idx\": 14, \"variable\": \"AZ\", \"value\": 4.5736757322679456e-07}, {\"idx\": 15, \"variable\": \"AZ\", \"value\": 4.5844282223860557e-07}, {\"idx\": 16, \"variable\": \"AZ\", \"value\": 4.6398610376132365e-07}, {\"idx\": 17, \"variable\": \"AZ\", \"value\": 4.642096102468408e-07}, {\"idx\": 18, \"variable\": \"AZ\", \"value\": 1.293214590902998e-06}, {\"idx\": 19, \"variable\": \"AZ\", \"value\": 1.29337159402317e-06}, {\"idx\": 20, \"variable\": \"AZ\", \"value\": 1.2958122576039682e-06}, {\"idx\": 21, \"variable\": \"AZ\", \"value\": 1.2989710379463978e-06}, {\"idx\": 22, \"variable\": \"AZ\", \"value\": 1.3019876589507283e-06}, {\"idx\": 23, \"variable\": \"AZ\", \"value\": 1.3647231982479205e-06}, {\"idx\": 24, \"variable\": \"AZ\", \"value\": 1.364972506865134e-06}, {\"idx\": 25, \"variable\": \"AZ\", \"value\": 1.3756295734108652e-06}, {\"idx\": 26, \"variable\": \"AZ\", \"value\": 1.376310172117252e-06}, {\"idx\": 27, \"variable\": \"AZ\", \"value\": 1.5277821368201596e-06}, {\"idx\": 28, \"variable\": \"AZ\", \"value\": 1.7233328340857422e-06}, {\"idx\": 29, \"variable\": \"AZ\", \"value\": 2.094307749679671e-06}, {\"idx\": 30, \"variable\": \"AZ\", \"value\": 2.1824354078728686e-06}, {\"idx\": 31, \"variable\": \"AZ\", \"value\": 3.865403007962418e-06}, {\"idx\": 32, \"variable\": \"AZ\", \"value\": 3.872872430254062e-06}, {\"idx\": 33, \"variable\": \"AZ\", \"value\": 3.8736903043773755e-06}, {\"idx\": 34, \"variable\": \"AZ\", \"value\": 3.87370405505132e-06}, {\"idx\": 35, \"variable\": \"AZ\", \"value\": 4.0092904630256995e-06}, {\"idx\": 36, \"variable\": \"AZ\", \"value\": 4.011418351030716e-06}, {\"idx\": 37, \"variable\": \"AZ\", \"value\": 5.227908963223581e-06}, {\"idx\": 38, \"variable\": \"AZ\", \"value\": 5.96052799175242e-06}, {\"idx\": 39, \"variable\": \"AZ\", \"value\": 5.9729823606583434e-06}, {\"idx\": 40, \"variable\": \"AZ\", \"value\": 5.9734697544607764e-06}, {\"idx\": 41, \"variable\": \"AZ\", \"value\": 5.973473710777456e-06}, {\"idx\": 42, \"variable\": \"AZ\", \"value\": 6.9801309820357645e-06}, {\"idx\": 43, \"variable\": \"AZ\", \"value\": 7.004405463207659e-06}, {\"idx\": 44, \"variable\": \"AZ\", \"value\": 7.020149924402908e-06}, {\"idx\": 45, \"variable\": \"AZ\", \"value\": 7.03274909600371e-06}, {\"idx\": 46, \"variable\": \"AZ\", \"value\": 7.0364908035062005e-06}, {\"idx\": 47, \"variable\": \"AZ\", \"value\": 7.375198064702334e-06}, {\"idx\": 48, \"variable\": \"AZ\", \"value\": 7.379072065243149e-06}, {\"idx\": 49, \"variable\": \"AZ\", \"value\": 7.393812784109915e-06}, {\"idx\": 50, \"variable\": \"AZ\", \"value\": 8.353958225836363e-06}, {\"idx\": 51, \"variable\": \"AZ\", \"value\": 9.506025650064651e-06}, {\"idx\": 52, \"variable\": \"AZ\", \"value\": 1.0943302195249534e-05}, {\"idx\": 53, \"variable\": \"AZ\", \"value\": 1.097780058414406e-05}, {\"idx\": 54, \"variable\": \"AZ\", \"value\": 1.097780381992363e-05}, {\"idx\": 55, \"variable\": \"AZ\", \"value\": 1.1110824156007119e-05}, {\"idx\": 56, \"variable\": \"AZ\", \"value\": 1.111095290159144e-05}, {\"idx\": 57, \"variable\": \"AZ\", \"value\": 1.1111063256149546e-05}, {\"idx\": 58, \"variable\": \"AZ\", \"value\": 1.1148588696605563e-05}, {\"idx\": 59, \"variable\": \"AZ\", \"value\": 1.1428452121648522e-05}, {\"idx\": 60, \"variable\": \"AZ\", \"value\": 1.1454791228825967e-05}, {\"idx\": 61, \"variable\": \"AZ\", \"value\": 1.1457022519798342e-05}, {\"idx\": 62, \"variable\": \"AZ\", \"value\": 1.1457060606346707e-05}, {\"idx\": 63, \"variable\": \"AZ\", \"value\": 1.148154663447456e-05}, {\"idx\": 64, \"variable\": \"AZ\", \"value\": 1.150723360281301e-05}, {\"idx\": 65, \"variable\": \"AZ\", \"value\": 1.1593870658065893e-05}, {\"idx\": 66, \"variable\": \"AZ\", \"value\": 1.1593967380493245e-05}, {\"idx\": 67, \"variable\": \"AZ\", \"value\": 1.1593967395078641e-05}, {\"idx\": 68, \"variable\": \"AZ\", \"value\": 1.159451445692767e-05}, {\"idx\": 69, \"variable\": \"AZ\", \"value\": 1.166566027843307e-05}]}}, {\"mode\": \"vega-lite\"});\n",
       "</script>"
      ],
      "text/plain": [
       "alt.Chart(...)"
      ]
     },
     "execution_count": 8,
     "metadata": {},
     "output_type": "execute_result"
    }
   ],
   "source": [
    "model_evidence = get_model_evidence('log/big5_exp//20210726_215914_ez/')\n",
    "bf = pd.DataFrame(model_evidence, columns=['EZ'])\n",
    "bf['idx'] = np.arange(bf.shape[0])\n",
    "bf['AZ'] = get_model_evidence('log/big5_exp//20210726_220229_big5az/')\n",
    "bf['AZ'] = get_model_evidence('log/big5_exp//20210726_220229_big5az/')\n",
    "\n",
    "# bf['EFA'] = get_model_evidence('log/CL_data/20210726_213814_efa/')\n",
    "# bf['EFA-C'] = get_model_evidence('log/CL_data/20210726_214548_efa_c/')\n",
    "plot_bf(bf, 800, 400)"
   ]
  },
  {
   "cell_type": "code",
   "execution_count": 9,
   "metadata": {},
   "outputs": [
    {
     "data": {
      "text/html": [
       "\n",
       "<div id=\"altair-viz-53d87adab3b043c1b41c5a134dba879c\"></div>\n",
       "<script type=\"text/javascript\">\n",
       "  (function(spec, embedOpt){\n",
       "    let outputDiv = document.currentScript.previousElementSibling;\n",
       "    if (outputDiv.id !== \"altair-viz-53d87adab3b043c1b41c5a134dba879c\") {\n",
       "      outputDiv = document.getElementById(\"altair-viz-53d87adab3b043c1b41c5a134dba879c\");\n",
       "    }\n",
       "    const paths = {\n",
       "      \"vega\": \"https://cdn.jsdelivr.net/npm//vega@5?noext\",\n",
       "      \"vega-lib\": \"https://cdn.jsdelivr.net/npm//vega-lib?noext\",\n",
       "      \"vega-lite\": \"https://cdn.jsdelivr.net/npm//vega-lite@4.8.1?noext\",\n",
       "      \"vega-embed\": \"https://cdn.jsdelivr.net/npm//vega-embed@6?noext\",\n",
       "    };\n",
       "\n",
       "    function loadScript(lib) {\n",
       "      return new Promise(function(resolve, reject) {\n",
       "        var s = document.createElement('script');\n",
       "        s.src = paths[lib];\n",
       "        s.async = true;\n",
       "        s.onload = () => resolve(paths[lib]);\n",
       "        s.onerror = () => reject(`Error loading script: ${paths[lib]}`);\n",
       "        document.getElementsByTagName(\"head\")[0].appendChild(s);\n",
       "      });\n",
       "    }\n",
       "\n",
       "    function showError(err) {\n",
       "      outputDiv.innerHTML = `<div class=\"error\" style=\"color:red;\">${err}</div>`;\n",
       "      throw err;\n",
       "    }\n",
       "\n",
       "    function displayChart(vegaEmbed) {\n",
       "      vegaEmbed(outputDiv, spec, embedOpt)\n",
       "        .catch(err => showError(`Javascript Error: ${err.message}<br>This usually means there's a typo in your chart specification. See the javascript console for the full traceback.`));\n",
       "    }\n",
       "\n",
       "    if(typeof define === \"function\" && define.amd) {\n",
       "      requirejs.config({paths});\n",
       "      require([\"vega-embed\"], displayChart, err => showError(`Error loading script: ${err.message}`));\n",
       "    } else if (typeof vegaEmbed === \"function\") {\n",
       "      displayChart(vegaEmbed);\n",
       "    } else {\n",
       "      loadScript(\"vega\")\n",
       "        .then(() => loadScript(\"vega-lite\"))\n",
       "        .then(() => loadScript(\"vega-embed\"))\n",
       "        .catch(showError)\n",
       "        .then(() => displayChart(vegaEmbed));\n",
       "    }\n",
       "  })({\"config\": {\"view\": {\"continuousWidth\": 400, \"continuousHeight\": 300}, \"axis\": {\"labelFontSize\": 14, \"titleFontSize\": 16}, \"legend\": {\"labelFontSize\": 14, \"symbolStrokeWidth\": 10, \"titleFontSize\": 16}}, \"data\": {\"name\": \"data-0f670eac549c0b0f04c86cfb4afcc1cf\"}, \"mark\": {\"type\": \"line\", \"opacity\": 0.9, \"strokeWidth\": 4}, \"encoding\": {\"color\": {\"type\": \"nominal\", \"field\": \"variable\"}, \"x\": {\"type\": \"quantitative\", \"field\": \"idx\", \"title\": null}, \"y\": {\"type\": \"quantitative\", \"field\": \"value\"}}, \"height\": 400, \"selection\": {\"selector005\": {\"type\": \"interval\", \"bind\": \"scales\", \"encodings\": [\"x\", \"y\"]}}, \"width\": 800, \"$schema\": \"https://vega.github.io/schema/vega-lite/v4.8.1.json\", \"datasets\": {\"data-0f670eac549c0b0f04c86cfb4afcc1cf\": [{\"idx\": 0, \"variable\": \"AZ/EZ\", \"value\": 20.04587115996691}, {\"idx\": 1, \"variable\": \"AZ/EZ\", \"value\": 20.041686911260907}, {\"idx\": 2, \"variable\": \"AZ/EZ\", \"value\": 2.693190689535302}, {\"idx\": 3, \"variable\": \"AZ/EZ\", \"value\": 1.1933684754285268}, {\"idx\": 4, \"variable\": \"AZ/EZ\", \"value\": 0.8522180784295391}, {\"idx\": 5, \"variable\": \"AZ/EZ\", \"value\": 0.8942701896065428}, {\"idx\": 6, \"variable\": \"AZ/EZ\", \"value\": 0.8942558368180272}, {\"idx\": 7, \"variable\": \"AZ/EZ\", \"value\": 0.9921930152067318}, {\"idx\": 8, \"variable\": \"AZ/EZ\", \"value\": 0.9921933724463147}, {\"idx\": 9, \"variable\": \"AZ/EZ\", \"value\": 1.010477276711794}, {\"idx\": 10, \"variable\": \"AZ/EZ\", \"value\": 1.0054776013430116}, {\"idx\": 11, \"variable\": \"AZ/EZ\", \"value\": 1.006180722039632}, {\"idx\": 12, \"variable\": \"AZ/EZ\", \"value\": 1.0068646346189711}, {\"idx\": 13, \"variable\": \"AZ/EZ\", \"value\": 1.0096091625866344}, {\"idx\": 14, \"variable\": \"AZ/EZ\", \"value\": 1.0056075077477953}, {\"idx\": 15, \"variable\": \"AZ/EZ\", \"value\": 1.005543795863593}, {\"idx\": 16, \"variable\": \"AZ/EZ\", \"value\": 1.0096544001700802}, {\"idx\": 17, \"variable\": \"AZ/EZ\", \"value\": 1.009831509581703}, {\"idx\": 18, \"variable\": \"AZ/EZ\", \"value\": 1.1770875816696402}, {\"idx\": 19, \"variable\": \"AZ/EZ\", \"value\": 1.1771137822318152}, {\"idx\": 20, \"variable\": \"AZ/EZ\", \"value\": 1.176407708767568}, {\"idx\": 21, \"variable\": \"AZ/EZ\", \"value\": 1.1767339266849162}, {\"idx\": 22, \"variable\": \"AZ/EZ\", \"value\": 1.1777908426057715}, {\"idx\": 23, \"variable\": \"AZ/EZ\", \"value\": 1.177406580250546}, {\"idx\": 24, \"variable\": \"AZ/EZ\", \"value\": 1.17751241587839}, {\"idx\": 25, \"variable\": \"AZ/EZ\", \"value\": 1.1803886373216195}, {\"idx\": 26, \"variable\": \"AZ/EZ\", \"value\": 1.1796935789897343}, {\"idx\": 27, \"variable\": \"AZ/EZ\", \"value\": 1.1246333896282856}, {\"idx\": 28, \"variable\": \"AZ/EZ\", \"value\": 1.074371939355472}, {\"idx\": 29, \"variable\": \"AZ/EZ\", \"value\": 1.065570543550059}, {\"idx\": 30, \"variable\": \"AZ/EZ\", \"value\": 1.0702660721928499}, {\"idx\": 31, \"variable\": \"AZ/EZ\", \"value\": 1.1895356284856364}, {\"idx\": 32, \"variable\": \"AZ/EZ\", \"value\": 1.1915259367457742}, {\"idx\": 33, \"variable\": \"AZ/EZ\", \"value\": 1.1915199069976632}, {\"idx\": 34, \"variable\": \"AZ/EZ\", \"value\": 1.1915131666001042}, {\"idx\": 35, \"variable\": \"AZ/EZ\", \"value\": 1.1923991734972221}, {\"idx\": 36, \"variable\": \"AZ/EZ\", \"value\": 1.1920230858167418}, {\"idx\": 37, \"variable\": \"AZ/EZ\", \"value\": 1.0830506907380797}, {\"idx\": 38, \"variable\": \"AZ/EZ\", \"value\": 1.08547405517432}, {\"idx\": 39, \"variable\": \"AZ/EZ\", \"value\": 1.0850182319456068}, {\"idx\": 40, \"variable\": \"AZ/EZ\", \"value\": 1.0849041317713006}, {\"idx\": 41, \"variable\": \"AZ/EZ\", \"value\": 1.084902053369512}, {\"idx\": 42, \"variable\": \"AZ/EZ\", \"value\": 1.0652717173530006}, {\"idx\": 43, \"variable\": \"AZ/EZ\", \"value\": 1.0634732841169305}, {\"idx\": 44, \"variable\": \"AZ/EZ\", \"value\": 1.0638474362459502}, {\"idx\": 45, \"variable\": \"AZ/EZ\", \"value\": 1.0637643701064348}, {\"idx\": 46, \"variable\": \"AZ/EZ\", \"value\": 1.0637649901239152}, {\"idx\": 47, \"variable\": \"AZ/EZ\", \"value\": 1.0901594064704443}, {\"idx\": 48, \"variable\": \"AZ/EZ\", \"value\": 1.0904780239925138}, {\"idx\": 49, \"variable\": \"AZ/EZ\", \"value\": 1.0906078839390738}, {\"idx\": 50, \"variable\": \"AZ/EZ\", \"value\": 1.081361158465345}, {\"idx\": 51, \"variable\": \"AZ/EZ\", \"value\": 1.0585029983023517}, {\"idx\": 52, \"variable\": \"AZ/EZ\", \"value\": 1.062310981065338}, {\"idx\": 53, \"variable\": \"AZ/EZ\", \"value\": 1.0610891115559442}, {\"idx\": 54, \"variable\": \"AZ/EZ\", \"value\": 1.0610891343161262}, {\"idx\": 55, \"variable\": \"AZ/EZ\", \"value\": 1.0619729697369225}, {\"idx\": 56, \"variable\": \"AZ/EZ\", \"value\": 1.0619605253102895}, {\"idx\": 57, \"variable\": \"AZ/EZ\", \"value\": 1.06194987776874}, {\"idx\": 58, \"variable\": \"AZ/EZ\", \"value\": 1.056822648932695}, {\"idx\": 59, \"variable\": \"AZ/EZ\", \"value\": 1.0446358555678037}, {\"idx\": 60, \"variable\": \"AZ/EZ\", \"value\": 1.0444926170245312}, {\"idx\": 61, \"variable\": \"AZ/EZ\", \"value\": 1.044480619302305}, {\"idx\": 62, \"variable\": \"AZ/EZ\", \"value\": 1.0444827637369496}, {\"idx\": 63, \"variable\": \"AZ/EZ\", \"value\": 1.0458424596661409}, {\"idx\": 64, \"variable\": \"AZ/EZ\", \"value\": 1.046322227392256}, {\"idx\": 65, \"variable\": \"AZ/EZ\", \"value\": 1.047163536921303}, {\"idx\": 66, \"variable\": \"AZ/EZ\", \"value\": 1.0471716011347874}, {\"idx\": 67, \"variable\": \"AZ/EZ\", \"value\": 1.047171600468357}, {\"idx\": 68, \"variable\": \"AZ/EZ\", \"value\": 1.0471474976201403}, {\"idx\": 69, \"variable\": \"AZ/EZ\", \"value\": 1.047939850876943}]}}, {\"mode\": \"vega-lite\"});\n",
       "</script>"
      ],
      "text/plain": [
       "alt.Chart(...)"
      ]
     },
     "execution_count": 9,
     "metadata": {},
     "output_type": "execute_result"
    }
   ],
   "source": [
    "model_evidence = get_model_evidence('log/big5_exp//20210726_220229_big5az/')/get_model_evidence('log/big5_exp//20210726_215914_ez/')\n",
    "bf = pd.DataFrame(model_evidence, columns=['AZ/EZ'])\n",
    "bf['idx'] = np.arange(bf.shape[0])\n",
    "# bf['EFA'] = get_model_evidence('log/CL_data/20210726_213814_efa/')\n",
    "# bf['EFA-C'] = get_model_evidence('log/CL_data/20210726_214548_efa_c/')\n",
    "plot_bf(bf, 800, 400)"
   ]
  },
  {
   "cell_type": "code",
   "execution_count": 11,
   "metadata": {},
   "outputs": [
    {
     "ename": "ValueError",
     "evalue": "Length of values does not match length of index",
     "output_type": "error",
     "traceback": [
      "\u001b[0;31m---------------------------------------------------------------------\u001b[0m",
      "\u001b[0;31mValueError\u001b[0m                          Traceback (most recent call last)",
      "\u001b[0;32m<ipython-input-11-5a698410e551>\u001b[0m in \u001b[0;36m<module>\u001b[0;34m\u001b[0m\n\u001b[1;32m      2\u001b[0m \u001b[0mbf\u001b[0m \u001b[0;34m=\u001b[0m \u001b[0mpd\u001b[0m\u001b[0;34m.\u001b[0m\u001b[0mDataFrame\u001b[0m\u001b[0;34m(\u001b[0m\u001b[0mmodel_evidence\u001b[0m\u001b[0;34m,\u001b[0m \u001b[0mcolumns\u001b[0m\u001b[0;34m=\u001b[0m\u001b[0;34m[\u001b[0m\u001b[0;34m'EZ'\u001b[0m\u001b[0;34m]\u001b[0m\u001b[0;34m)\u001b[0m\u001b[0;34m\u001b[0m\u001b[0;34m\u001b[0m\u001b[0m\n\u001b[1;32m      3\u001b[0m \u001b[0mbf\u001b[0m\u001b[0;34m[\u001b[0m\u001b[0;34m'idx'\u001b[0m\u001b[0;34m]\u001b[0m \u001b[0;34m=\u001b[0m \u001b[0mnp\u001b[0m\u001b[0;34m.\u001b[0m\u001b[0marange\u001b[0m\u001b[0;34m(\u001b[0m\u001b[0mbf\u001b[0m\u001b[0;34m.\u001b[0m\u001b[0mshape\u001b[0m\u001b[0;34m[\u001b[0m\u001b[0;36m0\u001b[0m\u001b[0;34m]\u001b[0m\u001b[0;34m)\u001b[0m\u001b[0;34m\u001b[0m\u001b[0;34m\u001b[0m\u001b[0m\n\u001b[0;32m----> 4\u001b[0;31m \u001b[0mbf\u001b[0m\u001b[0;34m[\u001b[0m\u001b[0;34m'AZ'\u001b[0m\u001b[0;34m]\u001b[0m \u001b[0;34m=\u001b[0m \u001b[0mget_model_evidence\u001b[0m\u001b[0;34m(\u001b[0m\u001b[0;34m'log/big5_exp//20210726_220229_big5az/'\u001b[0m\u001b[0;34m)\u001b[0m\u001b[0;34m\u001b[0m\u001b[0;34m\u001b[0m\u001b[0m\n\u001b[0m\u001b[1;32m      5\u001b[0m \u001b[0;34m\u001b[0m\u001b[0m\n\u001b[1;32m      6\u001b[0m \u001b[0mbf\u001b[0m\u001b[0;34m[\u001b[0m\u001b[0;34m'EFA'\u001b[0m\u001b[0;34m]\u001b[0m \u001b[0;34m=\u001b[0m \u001b[0mget_model_evidence\u001b[0m\u001b[0;34m(\u001b[0m\u001b[0;34m'log/CL_data/20210726_213814_efa/'\u001b[0m\u001b[0;34m)\u001b[0m\u001b[0;34m\u001b[0m\u001b[0;34m\u001b[0m\u001b[0m\n",
      "\u001b[0;32m~/anaconda3/envs/pystan-dev/lib/python3.7/site-packages/pandas/core/frame.py\u001b[0m in \u001b[0;36m__setitem__\u001b[0;34m(self, key, value)\u001b[0m\n\u001b[1;32m   3470\u001b[0m         \u001b[0;32melse\u001b[0m\u001b[0;34m:\u001b[0m\u001b[0;34m\u001b[0m\u001b[0;34m\u001b[0m\u001b[0m\n\u001b[1;32m   3471\u001b[0m             \u001b[0;31m# set column\u001b[0m\u001b[0;34m\u001b[0m\u001b[0;34m\u001b[0m\u001b[0;34m\u001b[0m\u001b[0m\n\u001b[0;32m-> 3472\u001b[0;31m             \u001b[0mself\u001b[0m\u001b[0;34m.\u001b[0m\u001b[0m_set_item\u001b[0m\u001b[0;34m(\u001b[0m\u001b[0mkey\u001b[0m\u001b[0;34m,\u001b[0m \u001b[0mvalue\u001b[0m\u001b[0;34m)\u001b[0m\u001b[0;34m\u001b[0m\u001b[0;34m\u001b[0m\u001b[0m\n\u001b[0m\u001b[1;32m   3473\u001b[0m \u001b[0;34m\u001b[0m\u001b[0m\n\u001b[1;32m   3474\u001b[0m     \u001b[0;32mdef\u001b[0m \u001b[0m_setitem_slice\u001b[0m\u001b[0;34m(\u001b[0m\u001b[0mself\u001b[0m\u001b[0;34m,\u001b[0m \u001b[0mkey\u001b[0m\u001b[0;34m,\u001b[0m \u001b[0mvalue\u001b[0m\u001b[0;34m)\u001b[0m\u001b[0;34m:\u001b[0m\u001b[0;34m\u001b[0m\u001b[0;34m\u001b[0m\u001b[0m\n",
      "\u001b[0;32m~/anaconda3/envs/pystan-dev/lib/python3.7/site-packages/pandas/core/frame.py\u001b[0m in \u001b[0;36m_set_item\u001b[0;34m(self, key, value)\u001b[0m\n\u001b[1;32m   3547\u001b[0m \u001b[0;34m\u001b[0m\u001b[0m\n\u001b[1;32m   3548\u001b[0m         \u001b[0mself\u001b[0m\u001b[0;34m.\u001b[0m\u001b[0m_ensure_valid_index\u001b[0m\u001b[0;34m(\u001b[0m\u001b[0mvalue\u001b[0m\u001b[0;34m)\u001b[0m\u001b[0;34m\u001b[0m\u001b[0;34m\u001b[0m\u001b[0m\n\u001b[0;32m-> 3549\u001b[0;31m         \u001b[0mvalue\u001b[0m \u001b[0;34m=\u001b[0m \u001b[0mself\u001b[0m\u001b[0;34m.\u001b[0m\u001b[0m_sanitize_column\u001b[0m\u001b[0;34m(\u001b[0m\u001b[0mkey\u001b[0m\u001b[0;34m,\u001b[0m \u001b[0mvalue\u001b[0m\u001b[0;34m)\u001b[0m\u001b[0;34m\u001b[0m\u001b[0;34m\u001b[0m\u001b[0m\n\u001b[0m\u001b[1;32m   3550\u001b[0m         \u001b[0mNDFrame\u001b[0m\u001b[0;34m.\u001b[0m\u001b[0m_set_item\u001b[0m\u001b[0;34m(\u001b[0m\u001b[0mself\u001b[0m\u001b[0;34m,\u001b[0m \u001b[0mkey\u001b[0m\u001b[0;34m,\u001b[0m \u001b[0mvalue\u001b[0m\u001b[0;34m)\u001b[0m\u001b[0;34m\u001b[0m\u001b[0;34m\u001b[0m\u001b[0m\n\u001b[1;32m   3551\u001b[0m \u001b[0;34m\u001b[0m\u001b[0m\n",
      "\u001b[0;32m~/anaconda3/envs/pystan-dev/lib/python3.7/site-packages/pandas/core/frame.py\u001b[0m in \u001b[0;36m_sanitize_column\u001b[0;34m(self, key, value, broadcast)\u001b[0m\n\u001b[1;32m   3732\u001b[0m \u001b[0;34m\u001b[0m\u001b[0m\n\u001b[1;32m   3733\u001b[0m             \u001b[0;31m# turn me into an ndarray\u001b[0m\u001b[0;34m\u001b[0m\u001b[0;34m\u001b[0m\u001b[0;34m\u001b[0m\u001b[0m\n\u001b[0;32m-> 3734\u001b[0;31m             \u001b[0mvalue\u001b[0m \u001b[0;34m=\u001b[0m \u001b[0msanitize_index\u001b[0m\u001b[0;34m(\u001b[0m\u001b[0mvalue\u001b[0m\u001b[0;34m,\u001b[0m \u001b[0mself\u001b[0m\u001b[0;34m.\u001b[0m\u001b[0mindex\u001b[0m\u001b[0;34m,\u001b[0m \u001b[0mcopy\u001b[0m\u001b[0;34m=\u001b[0m\u001b[0;32mFalse\u001b[0m\u001b[0;34m)\u001b[0m\u001b[0;34m\u001b[0m\u001b[0;34m\u001b[0m\u001b[0m\n\u001b[0m\u001b[1;32m   3735\u001b[0m             \u001b[0;32mif\u001b[0m \u001b[0;32mnot\u001b[0m \u001b[0misinstance\u001b[0m\u001b[0;34m(\u001b[0m\u001b[0mvalue\u001b[0m\u001b[0;34m,\u001b[0m \u001b[0;34m(\u001b[0m\u001b[0mnp\u001b[0m\u001b[0;34m.\u001b[0m\u001b[0mndarray\u001b[0m\u001b[0;34m,\u001b[0m \u001b[0mIndex\u001b[0m\u001b[0;34m)\u001b[0m\u001b[0;34m)\u001b[0m\u001b[0;34m:\u001b[0m\u001b[0;34m\u001b[0m\u001b[0;34m\u001b[0m\u001b[0m\n\u001b[1;32m   3736\u001b[0m                 \u001b[0;32mif\u001b[0m \u001b[0misinstance\u001b[0m\u001b[0;34m(\u001b[0m\u001b[0mvalue\u001b[0m\u001b[0;34m,\u001b[0m \u001b[0mlist\u001b[0m\u001b[0;34m)\u001b[0m \u001b[0;32mand\u001b[0m \u001b[0mlen\u001b[0m\u001b[0;34m(\u001b[0m\u001b[0mvalue\u001b[0m\u001b[0;34m)\u001b[0m \u001b[0;34m>\u001b[0m \u001b[0;36m0\u001b[0m\u001b[0;34m:\u001b[0m\u001b[0;34m\u001b[0m\u001b[0;34m\u001b[0m\u001b[0m\n",
      "\u001b[0;32m~/anaconda3/envs/pystan-dev/lib/python3.7/site-packages/pandas/core/internals/construction.py\u001b[0m in \u001b[0;36msanitize_index\u001b[0;34m(data, index, copy)\u001b[0m\n\u001b[1;32m    610\u001b[0m \u001b[0;34m\u001b[0m\u001b[0m\n\u001b[1;32m    611\u001b[0m     \u001b[0;32mif\u001b[0m \u001b[0mlen\u001b[0m\u001b[0;34m(\u001b[0m\u001b[0mdata\u001b[0m\u001b[0;34m)\u001b[0m \u001b[0;34m!=\u001b[0m \u001b[0mlen\u001b[0m\u001b[0;34m(\u001b[0m\u001b[0mindex\u001b[0m\u001b[0;34m)\u001b[0m\u001b[0;34m:\u001b[0m\u001b[0;34m\u001b[0m\u001b[0;34m\u001b[0m\u001b[0m\n\u001b[0;32m--> 612\u001b[0;31m         \u001b[0;32mraise\u001b[0m \u001b[0mValueError\u001b[0m\u001b[0;34m(\u001b[0m\u001b[0;34m\"Length of values does not match length of index\"\u001b[0m\u001b[0;34m)\u001b[0m\u001b[0;34m\u001b[0m\u001b[0;34m\u001b[0m\u001b[0m\n\u001b[0m\u001b[1;32m    613\u001b[0m \u001b[0;34m\u001b[0m\u001b[0m\n\u001b[1;32m    614\u001b[0m     \u001b[0;32mif\u001b[0m \u001b[0misinstance\u001b[0m\u001b[0;34m(\u001b[0m\u001b[0mdata\u001b[0m\u001b[0;34m,\u001b[0m \u001b[0mABCIndexClass\u001b[0m\u001b[0;34m)\u001b[0m \u001b[0;32mand\u001b[0m \u001b[0;32mnot\u001b[0m \u001b[0mcopy\u001b[0m\u001b[0;34m:\u001b[0m\u001b[0;34m\u001b[0m\u001b[0;34m\u001b[0m\u001b[0m\n",
      "\u001b[0;31mValueError\u001b[0m: Length of values does not match length of index"
     ]
    }
   ],
   "source": [
    "model_evidence = get_model_evidence('log/big5_exp/20210727_060750_big5_EZ/')\n",
    "bf = pd.DataFrame(model_evidence, columns=['EZ'])\n",
    "bf['idx'] = np.arange(bf.shape[0])\n",
    "# bf['AZ'] = get_model_evidence('log/big5_exp//20210726_220229_big5az/')\n",
    "\n",
    "# bf['EFA'] = get_model_evidence('log/CL_data/20210726_213814_efa/')\n",
    "# bf['EFA-C'] = get_model_evidence('log/CL_data/20210726_214548_efa_c/')\n",
    "plot_bf(bf, 800, 400)"
   ]
  },
  {
   "cell_type": "code",
   "execution_count": null,
   "metadata": {},
   "outputs": [],
   "source": []
  },
  {
   "cell_type": "code",
   "execution_count": null,
   "metadata": {},
   "outputs": [],
   "source": []
  }
 ],
 "metadata": {
  "kernelspec": {
   "display_name": "Python 3",
   "language": "python",
   "name": "python3"
  },
  "language_info": {
   "codemirror_mode": {
    "name": "ipython",
    "version": 3
   },
   "file_extension": ".py",
   "mimetype": "text/x-python",
   "name": "python",
   "nbconvert_exporter": "python",
   "pygments_lexer": "ipython3",
   "version": "3.7.6"
  }
 },
 "nbformat": 4,
 "nbformat_minor": 2
}
