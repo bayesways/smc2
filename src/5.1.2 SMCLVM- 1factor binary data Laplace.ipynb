{
 "cells": [
  {
   "cell_type": "code",
   "execution_count": 1,
   "metadata": {},
   "outputs": [],
   "source": [
    "from codebase.classes_data import Data\n",
    "import argparse\n",
    "import numpy as np\n",
    "from codebase.file_utils import save_obj, load_obj, make_folder, path_backslash\n",
    "from codebase.ibis import exp_and_normalise\n",
    "from run_smclvm import run_smclvm\n",
    "from scipy.special import logsumexp\n",
    "from pdb import set_trace\n"
   ]
  },
  {
   "cell_type": "code",
   "execution_count": 2,
   "metadata": {},
   "outputs": [
    {
     "name": "stdout",
     "output_type": "stream",
     "text": [
      "\n",
      "\n",
      "Creating new directory: ./log/20210423_111615_lvm_laplace/\n"
     ]
    }
   ],
   "source": [
    "existing_directory = None\n",
    "task_handle = 'lvm_laplace'\n",
    "gen_model = False\n",
    "\n",
    "if existing_directory is None:\n",
    "    log_dir = make_folder(task_handle)\n",
    "    print(\"\\n\\nCreating new directory: %s\" % log_dir)\n",
    "\n",
    "else:\n",
    "    log_dir = existing_directory\n",
    "    log_dir = path_backslash(log_dir)\n",
    "    print(\"\\n\\nReading from existing directory: %s\" % log_dir)\n",
    "\n"
   ]
  },
  {
   "cell_type": "code",
   "execution_count": 3,
   "metadata": {},
   "outputs": [],
   "source": [
    "# generate data\n",
    "exp_data = Data(name=task_handle, model_num=1, size=100, random_seed=2)\n",
    "\n",
    "\n",
    "exp_data.generate()\n",
    "save_obj(exp_data, \"data\", log_dir)\n",
    "model_num = 1\n"
   ]
  },
  {
   "cell_type": "code",
   "execution_count": 4,
   "metadata": {},
   "outputs": [
    {
     "name": "stderr",
     "output_type": "stream",
     "text": [
      "100%|██████████| 100/100 [02:11<00:00,  1.31s/it]"
     ]
    },
    {
     "name": "stdout",
     "output_type": "stream",
     "text": [
      "\n",
      "\n",
      "\n",
      "Marginal Likelihood 8.12790\n",
      "time: 2min 11s (started: 2021-04-23 11:16:15 -04:00)\n"
     ]
    },
    {
     "name": "stderr",
     "output_type": "stream",
     "text": [
      "\n"
     ]
    }
   ],
   "source": [
    "%load_ext autotime\n",
    "\n",
    "ibislvm = run_smclvm(exp_data, model_num, 200, gen_model, log_dir)\n"
   ]
  },
  {
   "cell_type": "markdown",
   "metadata": {},
   "source": [
    "##"
   ]
  },
  {
   "cell_type": "code",
   "execution_count": null,
   "metadata": {},
   "outputs": [],
   "source": []
  }
 ],
 "metadata": {
  "kernelspec": {
   "display_name": "Python 3",
   "language": "python",
   "name": "python3"
  },
  "language_info": {
   "codemirror_mode": {
    "name": "ipython",
    "version": 3
   },
   "file_extension": ".py",
   "mimetype": "text/x-python",
   "name": "python",
   "nbconvert_exporter": "python",
   "pygments_lexer": "ipython3",
   "version": "3.7.4"
  }
 },
 "nbformat": 4,
 "nbformat_minor": 2
}
