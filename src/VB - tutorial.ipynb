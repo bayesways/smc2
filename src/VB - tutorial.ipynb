{
 "cells": [
  {
   "cell_type": "code",
   "execution_count": 2,
   "metadata": {},
   "outputs": [
    {
     "data": {
      "text/plain": [
       "DataTransformerRegistry.enable('default')"
      ]
     },
     "execution_count": 2,
     "metadata": {},
     "output_type": "execute_result"
    }
   ],
   "source": [
    "import numpy as np\n",
    "import pymc3 as pm\n",
    "import theano\n",
    "from codebase.file_utils import save_obj, load_obj, make_folder, path_backslash\n",
    "from pdb import set_trace\n",
    "from scipy.stats import multivariate_normal, norm\n",
    "from scipy.optimize import minimize\n",
    "from codebase.plot import *\n",
    "from scipy import stats\n",
    "import matplotlib.pyplot as plt\n",
    "import theano.tensor as tt\n",
    "\n",
    "alt.data_transformers.disable_max_rows()\n"
   ]
  },
  {
   "cell_type": "code",
   "execution_count": 3,
   "metadata": {},
   "outputs": [
    {
     "data": {
      "text/plain": [
       "array([ 2.44122749,  1.66912985,  4.43077119,  1.74790787,  2.10960984,\n",
       "        3.58248112,  1.0907676 ,  1.40836334,  2.18760323,  1.67013004,\n",
       "        0.80723539,  1.79512349,  1.64117105,  2.6034716 ,  0.33521147,\n",
       "        1.29982096,  3.15139101,  3.85733101,  0.48882044,  2.64484751,\n",
       "        1.01939211,  1.14314685,  1.12812082,  1.57749207,  2.99643983,\n",
       "        2.71242127,  2.05914424,  1.63668912,  2.00328884,  1.89406956,\n",
       "        2.79305332,  1.36842837,  1.99380509,  1.89893239,  1.94769185,\n",
       "        2.24921766,  2.19766009,  3.33484857,  1.91312439,  3.56153229,\n",
       "        1.69414698,  1.52226858,  2.10073819,  2.35543847,  2.26961241,\n",
       "        3.29196338,  3.13934298,  2.4944404 ,  1.66366374,  1.89938565,\n",
       "        3.41339802,  2.22125412,  0.68922687,  1.31043477,  1.42248677,\n",
       "        3.15220477,  1.89283602,  4.26010677,  2.65661947,  2.12480683,\n",
       "        1.56429608,  2.97217931,  1.75928886,  1.17587655,  2.56813272,\n",
       "        2.01275832,  3.18906073,  1.92640668, -0.85968797,  2.7893664 ,\n",
       "        0.12225912,  3.53875615,  3.82136474,  1.57296861,  0.83529809,\n",
       "        0.60292598,  2.87265462,  1.79788182,  1.40164007,  1.7565803 ,\n",
       "        4.08851469,  2.34691933,  2.74572695,  2.77690759,  3.01842113,\n",
       "        3.06135144,  1.28953355,  1.7848122 ,  1.23923969,  1.28883677,\n",
       "        3.14150774,  1.49824445,  1.92084864,  1.30717366,  1.40659723,\n",
       "        2.78823794,  1.55457001,  1.51787981,  2.49355766,  2.50048733])"
      ]
     },
     "execution_count": 3,
     "metadata": {},
     "output_type": "execute_result"
    }
   ],
   "source": [
    "realmu = 2\n",
    "np.random.seed(5)\n",
    "y = norm.rvs(loc= realmu, size=100)\n",
    "y"
   ]
  },
  {
   "cell_type": "code",
   "execution_count": 5,
   "metadata": {
    "scrolled": true
   },
   "outputs": [
    {
     "name": "stderr",
     "output_type": "stream",
     "text": [
      "Average Loss = 143.79: 100%|██████████| 10000/10000 [00:01<00:00, 7128.16it/s]\n",
      "Finished [100%]: Average Loss = 143.78\n"
     ]
    }
   ],
   "source": [
    "with pm.Model() as model:\n",
    "    alpha = pm.Normal(\"alpha\", 0, sigma=1e2)\n",
    "    y_pm = pm.Data('y', y)\n",
    "    obs = pm.Normal('obs', mu=alpha, sigma=1, observed=y_pm)\n",
    "\n",
    "with model:\n",
    "    advi = pm.fit(method=\"advi\")\n",
    "\n",
    "    "
   ]
  },
  {
   "cell_type": "code",
   "execution_count": 6,
   "metadata": {},
   "outputs": [
    {
     "data": {
      "text/plain": [
       "array([2.0937062])"
      ]
     },
     "execution_count": 6,
     "metadata": {},
     "output_type": "execute_result"
    }
   ],
   "source": [
    "vb_mean = advi.mean.eval(); vb_mean"
   ]
  },
  {
   "cell_type": "code",
   "execution_count": 7,
   "metadata": {},
   "outputs": [
    {
     "name": "stderr",
     "output_type": "stream",
     "text": [
      "/home/konstantinos/anaconda3/envs/smc/lib/python3.7/site-packages/theano/tensor/basic.py:6611: FutureWarning: Using a non-tuple sequence for multidimensional indexing is deprecated; use `arr[tuple(seq)]` instead of `arr[seq]`. In the future this will be interpreted as an array index, `arr[np.array(seq)]`, which will result either in an error or a different result.\n",
      "  result[diagonal_slice] = x\n"
     ]
    },
    {
     "data": {
      "text/plain": [
       "array([[0.05180612]])"
      ]
     },
     "execution_count": 7,
     "metadata": {},
     "output_type": "execute_result"
    }
   ],
   "source": [
    "vb_cov = advi.cov.eval(); vb_cov"
   ]
  },
  {
   "cell_type": "code",
   "execution_count": 6,
   "metadata": {
    "scrolled": true
   },
   "outputs": [],
   "source": [
    "# df = pm.summary(advi.sample(10000))\n",
    "# df\n",
    "# pd.DataFrame(advi.mean.eval(), index=df.index).to_dict()"
   ]
  },
  {
   "cell_type": "code",
   "execution_count": 6,
   "metadata": {},
   "outputs": [
    {
     "data": {
      "text/plain": [
       "-3.324738377296253"
      ]
     },
     "execution_count": 6,
     "metadata": {},
     "output_type": "execute_result"
    }
   ],
   "source": [
    "\n",
    "def get_log_likelihood(z,y,alpha, beta):\n",
    "    pi_z = get_pi_z(z, alpha, beta)\n",
    "    s1 = (y*np.log(pi_z))+((1.-y)*(np.log(1. - pi_z)))\n",
    "    return np.sum(s1)\n",
    "\n",
    "def logprior(z):\n",
    "    return norm.logpdf(z)\n",
    "\n",
    "def get_neg_posterior(z,y,alpha, beta):\n",
    "    return -1.*(get_log_likelihood(z,y,alpha, beta)+norm.logpdf(z))\n",
    "\n",
    "def get_grad_pi_z(z, alpha, beta):\n",
    "    exp_eta = np.exp(alpha +  z @ beta.T)\n",
    "    return (exp_eta *  beta.T)/(1+exp_eta)**2\n",
    "\n",
    "def get_fisher_information(z, y, alpha, beta):\n",
    "    pi_z = get_pi_z(z, alpha, beta)\n",
    "    grad_pi_z = get_grad_pi_z(z, alpha, beta)\n",
    "    r1 =grad_pi_z**2\n",
    "    r2 =pi_z*(1.-pi_z)\n",
    "    return 1. + np.sum(r1/r2)\n",
    "\n",
    "lglk = get_log_likelihood(z, y, alpha, beta) \n",
    "lglk"
   ]
  },
  {
   "cell_type": "code",
   "execution_count": 7,
   "metadata": {},
   "outputs": [],
   "source": [
    "### analytical posterior pdf\n",
    "x = np.linspace(-3,3,1000)\n",
    "lposts = np.zeros(1000)\n",
    "for i in range(1000):\n",
    "    z = x[i].reshape((1,1))\n",
    "    lposts[i] = get_log_likelihood(z, y, alpha, beta) + logprior(z)\n",
    "posts = np.exp(lposts)\n",
    "posts = posts/np.sum(posts*6/1000)"
   ]
  },
  {
   "cell_type": "code",
   "execution_count": 8,
   "metadata": {},
   "outputs": [],
   "source": [
    "## simple Laplace approx\n",
    "\n",
    "M = x[np.argmax(posts)].reshape((1,1)) # mean at the mode\n",
    "h = 0.000001  # numerical second derivative\n",
    "f1 = get_log_likelihood(M+h, y,alpha,beta) + logprior(M+h)\n",
    "f2 = get_log_likelihood(M, y,alpha,beta) + logprior(M)\n",
    "f3 = get_log_likelihood(M-h, y,alpha,beta) + logprior(M-h)\n",
    "V=-(h*h)/(f1-2*f2+f3) # variance being 2nd derivative evaluated at the mode."
   ]
  },
  {
   "cell_type": "code",
   "execution_count": 9,
   "metadata": {},
   "outputs": [],
   "source": [
    "def get_laplace_approx(y, alpha, beta):\n",
    "    res = minimize(get_neg_posterior, np.array([[1]]), args=(y, alpha, beta), method='BFGS')\n",
    "    cov_matrix = get_fisher_information(res.x, y, alpha, beta)\n",
    "    return multivariate_normal(mean = res.x, cov = cov_matrix**(-1))\n",
    "lapldist =  get_laplace_approx(y, alpha, beta)\n",
    "laplace_pdf = lapldist.pdf(x)"
   ]
  },
  {
   "cell_type": "code",
   "execution_count": 10,
   "metadata": {},
   "outputs": [],
   "source": [
    "vb_pdf = multivariate_normal.pdf(x, mean= vb_mean, cov = vb_cov)"
   ]
  },
  {
   "cell_type": "code",
   "execution_count": 11,
   "metadata": {},
   "outputs": [
    {
     "data": {
      "text/plain": [
       "<matplotlib.legend.Legend at 0x7f8884a69a10>"
      ]
     },
     "execution_count": 11,
     "metadata": {},
     "output_type": "execute_result"
    },
    {
     "data": {
      "image/png": "[encoded data removed]",
      "text/plain": [
       "<Figure size 432x288 with 1 Axes>"
      ]
     },
     "metadata": {
      "needs_background": "light"
     },
     "output_type": "display_data"
    }
   ],
   "source": [
    "plt.plot(x,norm.pdf(x),label='prior')\n",
    "# plt.plot(x,np.squeeze(norm.pdf(x,M,np.sqrt(V))),label='Kostas_laplace')\n",
    "plt.plot(x,posts,label='posterior')\n",
    "plt.plot(x,laplace_pdf,label='laplace')\n",
    "plt.plot(x,vb_pdf,label='VB')\n",
    "plt.legend()"
   ]
  },
  {
   "cell_type": "code",
   "execution_count": 13,
   "metadata": {},
   "outputs": [],
   "source": [
    "# 2 D example for VB\n",
    "np.random.seed(5)\n",
    "theta=dict()\n",
    "alpha = np.array([0, 0.1, -0.1,-0.2,0.2])\n",
    "beta = np.array([[1,0.8,0.9,0.5,1.3],\n",
    "                [1,0.8,0.9,0.5,1.3]]).T\n",
    "z = np.array([[-2,-2]])\n",
    "y = np.random.binomial(1, get_pi_z(z, alpha, beta))\n"
   ]
  },
  {
   "cell_type": "code",
   "execution_count": 14,
   "metadata": {},
   "outputs": [
    {
     "name": "stderr",
     "output_type": "stream",
     "text": [
      "/home/konstantinos/anaconda3/envs/smc/lib/python3.7/site-packages/ipykernel_launcher.py:7: UserWarning: DEPRECATION: If x is a vector, Softmax will not automatically pad x anymore in next releases. If you need it, please do it manually. The vector case is gonna be supported soon and the output will be a vector.\n",
      "  import sys\n",
      "/home/konstantinos/anaconda3/envs/smc/lib/python3.7/site-packages/theano/tensor/subtensor.py:2197: FutureWarning: Using a non-tuple sequence for multidimensional indexing is deprecated; use `arr[tuple(seq)]` instead of `arr[seq]`. In the future this will be interpreted as an array index, `arr[np.array(seq)]`, which will result either in an error or a different result.\n",
      "  rval = inputs[0].__getitem__(inputs[1:])\n"
     ]
    }
   ],
   "source": [
    "with pm.Model() as model:\n",
    "    alpha = pm.Data('alpha', alpha)\n",
    "    beta = pm.Data('beta', beta)\n",
    "    y = pm.Data('y', y)\n",
    "    z = pm.Normal('z', 0, 1, shape=(2,))\n",
    "#     obs = pm.Normal('obs', z, 1, observed=y)\n",
    "    p = tt.nnet.softmax(alpha + z @ beta.T)\n",
    "    obs = pm.Categorical('obs', p=p, observed=y)\n"
   ]
  }
 ],
 "metadata": {
  "kernelspec": {
   "display_name": "Python 3",
   "language": "python",
   "name": "python3"
  },
  "language_info": {
   "codemirror_mode": {
    "name": "ipython",
    "version": 3
   },
   "file_extension": ".py",
   "mimetype": "text/x-python",
   "name": "python",
   "nbconvert_exporter": "python",
   "pygments_lexer": "ipython3",
   "version": "3.7.4"
  }
 },
 "nbformat": 4,
 "nbformat_minor": 2
}
