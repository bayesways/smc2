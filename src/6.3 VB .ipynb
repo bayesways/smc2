{
 "cells": [
  {
   "cell_type": "code",
   "execution_count": 1,
   "metadata": {},
   "outputs": [
    {
     "data": {
      "text/plain": [
       "DataTransformerRegistry.enable('default')"
      ]
     },
     "execution_count": 1,
     "metadata": {},
     "output_type": "execute_result"
    }
   ],
   "source": [
    "import numpy as np\n",
    "import pymc3 as pm\n",
    "import theano\n",
    "from scipy.stats import multivariate_normal, norm\n",
    "from scipy.optimize import minimize\n",
    "from codebase.plot import *\n",
    "import matplotlib.pyplot as plt\n",
    "import theano.tensor as tt\n",
    "\n",
    "alt.data_transformers.disable_max_rows()\n"
   ]
  },
  {
   "cell_type": "code",
   "execution_count": 2,
   "metadata": {},
   "outputs": [
    {
     "data": {
      "text/plain": [
       "(1, 5)"
      ]
     },
     "execution_count": 2,
     "metadata": {},
     "output_type": "execute_result"
    }
   ],
   "source": [
    "def get_pi_z(z, alpha, beta):\n",
    "    exp_eta = np.exp(alpha +  z @ beta.T)\n",
    "    return exp_eta/(1+exp_eta)\n",
    "\n",
    "\n",
    "np.random.seed(5)\n",
    "theta=dict()\n",
    "beta = np.array([[1,0.8,0.9,0.5,1.3]]).T\n",
    "alpha = np.array([0, 0.1, -0.1,-0.2,0.2])\n",
    "z = np.array([[-2]])\n",
    "\n",
    "y = np.random.binomial(1, get_pi_z(z, alpha, beta))\n",
    "y.shape"
   ]
  },
  {
   "cell_type": "code",
   "execution_count": 3,
   "metadata": {},
   "outputs": [],
   "source": [
    "def initialize_vb_model():\n",
    "    with pm.Model() as model:\n",
    "        alpha_pm = pm.Data('alpha', np.zeros(5))\n",
    "        beta_pm = pm.Data('beta', np.zeros((5,1)))\n",
    "        y_pm = pm.Data('y', np.zeros((1,5)))\n",
    "        z_pm = pm.Normal('z', mu=0,  sigma=1, shape=(1,))\n",
    "    #     obs = pm.Normal('obs', z, 1, observed=y)\n",
    "    #     p = get_pi_z(z, alpha_pm, beta_pm)\n",
    "        p = pm.invlogit(alpha_pm + z_pm @ beta_pm.T)\n",
    "        obs = pm.Bernoulli('obs', p=p, observed=y_pm)\n",
    "        return model\n",
    "\n",
    "def get_vb_params(y, alpha, beta):\n",
    "    model = initialize_vb_model()\n",
    "    with model:\n",
    "        pm.set_data({\n",
    "            'alpha': alpha,\n",
    "            'beta': beta,\n",
    "            'y': y\n",
    "        })\n",
    "        advi = pm.fit(method=\"fullrank_advi\", n=10000)\n",
    "    vb_mean = advi.mean.eval()\n",
    "    vb_cov = advi.cov.eval()\n",
    "    model.__exit__\n",
    "    return vb_mean, vb_cov"
   ]
  },
  {
   "cell_type": "code",
   "execution_count": 4,
   "metadata": {},
   "outputs": [
    {
     "name": "stderr",
     "output_type": "stream",
     "text": [
      "  0%|          | 0/10000 [00:00<?, ?it/s]/home/konstantinos/anaconda3/envs/smc/lib/python3.7/site-packages/theano/tensor/subtensor.py:2339: FutureWarning: Using a non-tuple sequence for multidimensional indexing is deprecated; use `arr[tuple(seq)]` instead of `arr[seq]`. In the future this will be interpreted as an array index, `arr[np.array(seq)]`, which will result either in an error or a different result.\n",
      "  out[0][inputs[2:]] = inputs[1]\n",
      "/home/konstantinos/anaconda3/envs/smc/lib/python3.7/site-packages/theano/tensor/subtensor.py:2197: FutureWarning: Using a non-tuple sequence for multidimensional indexing is deprecated; use `arr[tuple(seq)]` instead of `arr[seq]`. In the future this will be interpreted as an array index, `arr[np.array(seq)]`, which will result either in an error or a different result.\n",
      "  rval = inputs[0].__getitem__(inputs[1:])\n",
      "/home/konstantinos/anaconda3/envs/smc/lib/python3.7/site-packages/theano/tensor/basic.py:6611: FutureWarning: Using a non-tuple sequence for multidimensional indexing is deprecated; use `arr[tuple(seq)]` instead of `arr[seq]`. In the future this will be interpreted as an array index, `arr[np.array(seq)]`, which will result either in an error or a different result.\n",
      "  result[diagonal_slice] = x\n",
      "Average Loss = 3.6951: 100%|██████████| 10000/10000 [00:02<00:00, 3894.03it/s]\n",
      "Finished [100%]: Average Loss = 3.6952\n",
      "/home/konstantinos/anaconda3/envs/smc/lib/python3.7/site-packages/theano/tensor/subtensor.py:2339: FutureWarning: Using a non-tuple sequence for multidimensional indexing is deprecated; use `arr[tuple(seq)]` instead of `arr[seq]`. In the future this will be interpreted as an array index, `arr[np.array(seq)]`, which will result either in an error or a different result.\n",
      "  out[0][inputs[2:]] = inputs[1]\n"
     ]
    }
   ],
   "source": [
    "vb_mean, vb_cov = get_vb_params(y, alpha, beta)"
   ]
  },
  {
   "cell_type": "code",
   "execution_count": 5,
   "metadata": {},
   "outputs": [],
   "source": [
    "# VB approx\n",
    "x = np.linspace(-3,3,1000)\n",
    "vb_pdf = multivariate_normal.pdf(x, mean= vb_mean, cov = vb_cov)"
   ]
  },
  {
   "cell_type": "code",
   "execution_count": 6,
   "metadata": {},
   "outputs": [
    {
     "data": {
      "text/plain": [
       "-3.5178466668006667"
      ]
     },
     "execution_count": 6,
     "metadata": {},
     "output_type": "execute_result"
    }
   ],
   "source": [
    "\n",
    "def get_log_likelihood(z,y,alpha, beta):\n",
    "    pi_z = get_pi_z(z, alpha, beta)\n",
    "    s1 = (y*np.log(pi_z))+((1.-y)*(np.log(1. - pi_z)))\n",
    "    return np.sum(s1)\n",
    "\n",
    "def logprior(z):\n",
    "    return norm.logpdf(z)\n",
    "\n",
    "def get_neg_posterior(z,y,alpha, beta):\n",
    "    return -1.*(get_log_likelihood(z,y,alpha, beta)+norm.logpdf(z))\n",
    "\n",
    "def get_grad_pi_z(z, alpha, beta):\n",
    "    exp_eta = np.exp(alpha +  z @ beta.T)\n",
    "    return (exp_eta *  beta.T)/(1+exp_eta)**2\n",
    "\n",
    "def get_fisher_information(z, y, alpha, beta):\n",
    "    pi_z = get_pi_z(z, alpha, beta)\n",
    "    grad_pi_z = get_grad_pi_z(z, alpha, beta)\n",
    "    r1 =grad_pi_z**2\n",
    "    r2 =pi_z*(1.-pi_z)\n",
    "    return 1. + np.sum(r1/r2)\n",
    "\n",
    "lglk = get_log_likelihood(z, y, alpha, beta) \n",
    "lglk"
   ]
  },
  {
   "cell_type": "code",
   "execution_count": 7,
   "metadata": {},
   "outputs": [
    {
     "data": {
      "text/plain": [
       "array([[-15.57550561]])"
      ]
     },
     "execution_count": 7,
     "metadata": {},
     "output_type": "execute_result"
    }
   ],
   "source": [
    "### analytical posterior pdf\n",
    "x = np.linspace(-3,3,1000)\n",
    "lposts = np.zeros(1000)\n",
    "for i in range(1000):\n",
    "    z = x[i].reshape((1,1))\n",
    "    lposts[i] = get_log_likelihood(z, y, alpha, beta) + logprior(z)\n",
    "posts = np.exp(lposts)\n",
    "posts = posts/np.sum(posts*6/1000)\n",
    "get_log_likelihood(z, y, alpha, beta) + logprior(z)"
   ]
  },
  {
   "cell_type": "code",
   "execution_count": 8,
   "metadata": {},
   "outputs": [],
   "source": [
    "## Laplace approx\n",
    "def get_laplace_approx(y, alpha, beta):\n",
    "    res = minimize(get_neg_posterior, np.array([[1]]), args=(y, alpha, beta), method='BFGS')\n",
    "    cov_matrix = get_fisher_information(res.x, y, alpha, beta)\n",
    "    return multivariate_normal(mean = res.x, cov = cov_matrix**(-1))\n",
    "lapldist =  get_laplace_approx(y, alpha, beta)\n",
    "laplace_pdf = lapldist.pdf(x)"
   ]
  },
  {
   "cell_type": "code",
   "execution_count": 9,
   "metadata": {},
   "outputs": [
    {
     "data": {
      "text/plain": [
       "<matplotlib.legend.Legend at 0x7f5430204d10>"
      ]
     },
     "execution_count": 9,
     "metadata": {},
     "output_type": "execute_result"
    },
    {
     "data": {
      "image/png": "[encoded data removed]",
      "text/plain": [
       "<Figure size 432x288 with 1 Axes>"
      ]
     },
     "metadata": {
      "needs_background": "light"
     },
     "output_type": "display_data"
    }
   ],
   "source": [
    "plt.plot(x,norm.pdf(x),label='prior')\n",
    "# plt.plot(x,np.squeeze(norm.pdf(x,M,np.sqrt(V))),label='Kostas_laplace')\n",
    "plt.plot(x,posts,label='posterior')\n",
    "plt.plot(x,laplace_pdf,label='laplace')\n",
    "plt.plot(x,vb_pdf,label='VB')\n",
    "plt.legend()"
   ]
  },
  {
   "cell_type": "code",
   "execution_count": 10,
   "metadata": {},
   "outputs": [],
   "source": [
    "# 2 D example for VB\n",
    "np.random.seed(5)\n",
    "theta=dict()\n",
    "alpha = np.array([0, 0.1, -0.1,-0.2,0.2])\n",
    "beta = np.array([[1,0.8,0.9,0.5,1.3],\n",
    "                [1,0.8,0.9,0.5,1.3]]).T\n",
    "z = np.array([[-2,-2]])\n",
    "y = np.random.binomial(1, get_pi_z(z, alpha, beta))\n"
   ]
  },
  {
   "cell_type": "code",
   "execution_count": 11,
   "metadata": {},
   "outputs": [
    {
     "name": "stderr",
     "output_type": "stream",
     "text": [
      "/home/konstantinos/anaconda3/envs/smc/lib/python3.7/site-packages/ipykernel_launcher.py:7: UserWarning: DEPRECATION: If x is a vector, Softmax will not automatically pad x anymore in next releases. If you need it, please do it manually. The vector case is gonna be supported soon and the output will be a vector.\n",
      "  import sys\n"
     ]
    }
   ],
   "source": [
    "with pm.Model() as model:\n",
    "    alpha = pm.Data('alpha', alpha)\n",
    "    beta = pm.Data('beta', beta)\n",
    "    y = pm.Data('y', y)\n",
    "    z = pm.Normal('z', 0, 1, shape=(2,))\n",
    "#     obs = pm.Normal('obs', z, 1, observed=y)\n",
    "    p = tt.nnet.softmax(alpha + z @ beta.T)\n",
    "    obs = pm.Bernoulli('obs', p=p, observed=y)\n"
   ]
  },
  {
   "cell_type": "code",
   "execution_count": null,
   "metadata": {},
   "outputs": [],
   "source": []
  }
 ],
 "metadata": {
  "kernelspec": {
   "display_name": "Python 3",
   "language": "python",
   "name": "python3"
  },
  "language_info": {
   "codemirror_mode": {
    "name": "ipython",
    "version": 3
   },
   "file_extension": ".py",
   "mimetype": "text/x-python",
   "name": "python",
   "nbconvert_exporter": "python",
   "pygments_lexer": "ipython3",
   "version": "3.7.4"
  }
 },
 "nbformat": 4,
 "nbformat_minor": 2
}
