{
 "cells": [
  {
   "cell_type": "code",
   "execution_count": 1,
   "metadata": {},
   "outputs": [],
   "source": [
    "from codebase.classes import Particles\n",
    "from codebase.classes_data import Data\n",
    "import pandas as pd\n",
    "import numpy as np\n",
    "from codebase.file_utils import (\n",
    "    save_obj,\n",
    "    load_obj,\n",
    "    make_folder,\n",
    "    path_backslash\n",
    ")\n",
    "from codebase.ibis import essl, exp_and_normalise, model_phonebook, run_mcmc\n",
    "from codebase.plot import get_post_df, plot_density\n",
    "from codebase.run_tlk import model_phonebook\n",
    "from tqdm import tqdm\n",
    "from scipy.special import logsumexp\n",
    "import altair as alt\n",
    "alt.data_transformers.disable_max_rows()\n",
    "\n",
    "\n",
    "import pystan"
   ]
  },
  {
   "cell_type": "markdown",
   "metadata": {},
   "source": [
    "## Model Legend\n",
    "\n",
    "* m5 = AZ\n",
    "* m7 = EZ\n",
    "* m9 = EFA\n",
    "* m10 = EFA-C"
   ]
  },
  {
   "cell_type": "markdown",
   "metadata": {},
   "source": [
    "## Load Model Evidence"
   ]
  },
  {
   "cell_type": "code",
   "execution_count": 2,
   "metadata": {
    "scrolled": true
   },
   "outputs": [],
   "source": [
    "log_dirs = dict()\n",
    "\n",
    "log_dirs['m5'] = 'log/fabian_sim/CL/20210829_134729_sim_m5/'\n",
    "log_dirs['m7'] = 'log/fabian_sim/CL/20210829_134725_sim_m7/'\n",
    "log_dirs['m9'] = 'log/fabian_sim/CL/20210829_134730_sim_m9/'\n",
    "# log_dirs['m10'] = 'log/fabian_sim/CL/20210829_134734_sim_m10/'\n",
    "log_dirs['m15'] = 'log/fabian_sim/CL/20210923_031710_clsim_1factor_m9/'\n",
    "log_dirs['m16'] = 'log/fabian_sim/CL/20210923_031748_clsim_3factor_m9//'\n",
    "\n",
    "\n",
    "\n",
    "\n",
    "model_nums = [5,7, 9, 15, 16]\n",
    "\n",
    "# load existing results\n",
    "bf = dict()\n",
    "\n",
    "for model in model_nums:\n",
    "    bf['m'+str(model)] = np.cumsum(load_obj('log_lklhds', log_dirs['m'+str(model)])[30:])\n",
    "\n"
   ]
  },
  {
   "cell_type": "code",
   "execution_count": 3,
   "metadata": {},
   "outputs": [
    {
     "data": {
      "text/plain": [
       "{'random_seed': 0,\n",
       " 'N': 200,\n",
       " 'K': 1,\n",
       " 'J': 6,\n",
       " 'alpha': array([0., 0., 0., 0., 0., 0.]),\n",
       " 'beta': array([[1. , 0. ],\n",
       "        [0.8, 0.3],\n",
       "        [0.8, 0. ],\n",
       "        [0. , 1. ],\n",
       "        [0.3, 0.8],\n",
       "        [0.3, 0.8]]),\n",
       " 'sigma_z': array([0.80622577, 0.80622577]),\n",
       " 'Phi_corr': array([[1. , 0.2],\n",
       "        [0.2, 1. ]]),\n",
       " 'Phi_cov': array([[0.65, 0.13],\n",
       "        [0.13, 0.65]]),\n",
       " 'Marg_cov': array([[1.    , 0.559 , 0.52  , 0.13  , 0.299 , 0.299 ],\n",
       "        [0.559 , 1.    , 0.4472, 0.299 , 0.4069, 0.4069],\n",
       "        [0.52  , 0.4472, 1.    , 0.104 , 0.2392, 0.2392],\n",
       "        [0.13  , 0.299 , 0.104 , 1.    , 0.559 , 0.559 ],\n",
       "        [0.299 , 0.4069, 0.2392, 0.559 , 1.    , 0.5369],\n",
       "        [0.299 , 0.4069, 0.2392, 0.559 , 0.5369, 1.    ]]),\n",
       " 'Theta': array([[0.35  , 0.    , 0.    , 0.    , 0.    , 0.    ],\n",
       "        [0.    , 0.4631, 0.    , 0.    , 0.    , 0.    ],\n",
       "        [0.    , 0.    , 0.584 , 0.    , 0.    , 0.    ],\n",
       "        [0.    , 0.    , 0.    , 0.35  , 0.    , 0.    ],\n",
       "        [0.    , 0.    , 0.    , 0.    , 0.4631, 0.    ],\n",
       "        [0.    , 0.    , 0.    , 0.    , 0.    , 0.4631]]),\n",
       " 'sigma': array([0.59160798, 0.68051451, 0.76419893, 0.59160798, 0.68051451,\n",
       "        0.68051451]),\n",
       " 'y': array([[-0.86796753, -2.1537421 , -0.45406392, -2.13555794, -1.9141066 ,\n",
       "          0.24251299],\n",
       "        [-0.17326506, -1.04882854, -0.79164839,  0.02054154, -1.12291253,\n",
       "         -0.72775547],\n",
       "        [-0.10672449, -1.25819762, -0.31130762, -0.97574262, -0.40441412,\n",
       "         -0.08328833],\n",
       "        ...,\n",
       "        [ 0.84791989,  0.58580196, -1.16305507,  0.5769444 ,  0.20071187,\n",
       "          0.02958577],\n",
       "        [-1.0277659 , -0.57712495, -0.90918127, -0.55519964, -1.04988211,\n",
       "          0.03175632],\n",
       "        [-0.85357621, -0.10003313,  0.01216215, -0.76151998, -1.65684822,\n",
       "         -2.22829539]]),\n",
       " 'off_diag_residual': False,\n",
       " 'sigma_prior': array([1.75228961, 1.75467805, 1.64227912, 1.98902953, 1.78853377,\n",
       "        2.05865043]),\n",
       " 'stan_constants': ['N', 'J', 'K', 'sigma_prior'],\n",
       " 'stan_data': ['y']}"
      ]
     },
     "execution_count": 3,
     "metadata": {},
     "output_type": "execute_result"
    }
   ],
   "source": [
    "data = load_obj('data', log_dirs['m15'])\n",
    "data.raw_data\n"
   ]
  },
  {
   "cell_type": "code",
   "execution_count": 4,
   "metadata": {},
   "outputs": [
    {
     "name": "stderr",
     "output_type": "stream",
     "text": [
      "INFO:numexpr.utils:NumExpr defaulting to 8 threads.\n"
     ]
    }
   ],
   "source": [
    "bfdf = pd.DataFrame.from_dict(bf)\n",
    "bfdf.rename({\n",
    "    'm5':'AZ', \n",
    "    'm7':'EZ',\n",
    "    'm9':'EFA2',\n",
    "#     'm10':'EFA2.C',\n",
    "    'm15':'EFA1',\n",
    "    'm16':'EFA3'\n",
    "}, axis=1, inplace=True)\n",
    "\n",
    "bfdf['t']  = np.arange(30, len(bfdf)+30)\n",
    "for i in ['EFA2', 'EFA1', 'EZ', 'EFA3']:\n",
    "    bfdf['AZ / '+str(i)] = bfdf['AZ']-bfdf[str(i)]\n",
    "bfdf.drop(['EFA2', 'EFA1', 'EZ', 'EFA3', 'AZ'], axis=1, inplace=True)\n",
    "bfdf = bfdf.melt(id_vars='t', var_name='Model')"
   ]
  },
  {
   "cell_type": "code",
   "execution_count": 5,
   "metadata": {},
   "outputs": [
    {
     "data": {
      "text/html": [
       "\n",
       "<div id=\"altair-viz-a4e285cef6714d90902f82071b666fde\"></div>\n",
       "<script type=\"text/javascript\">\n",
       "  (function(spec, embedOpt){\n",
       "    let outputDiv = document.currentScript.previousElementSibling;\n",
       "    if (outputDiv.id !== \"altair-viz-a4e285cef6714d90902f82071b666fde\") {\n",
       "      outputDiv = document.getElementById(\"altair-viz-a4e285cef6714d90902f82071b666fde\");\n",
       "    }\n",
       "    const paths = {\n",
       "      \"vega\": \"https://cdn.jsdelivr.net/npm//vega@5?noext\",\n",
       "      \"vega-lib\": \"https://cdn.jsdelivr.net/npm//vega-lib?noext\",\n",
       "      \"vega-lite\": \"https://cdn.jsdelivr.net/npm//vega-lite@4.8.1?noext\",\n",
       "      \"vega-embed\": \"https://cdn.jsdelivr.net/npm//vega-embed@6?noext\",\n",
       "    };\n",
       "\n",
       "    function loadScript(lib) {\n",
       "      return new Promise(function(resolve, reject) {\n",
       "        var s = document.createElement('script');\n",
       "        s.src = paths[lib];\n",
       "        s.async = true;\n",
       "        s.onload = () => resolve(paths[lib]);\n",
       "        s.onerror = () => reject(`Error loading script: ${paths[lib]}`);\n",
       "        document.getElementsByTagName(\"head\")[0].appendChild(s);\n",
       "      });\n",
       "    }\n",
       "\n",
       "    function showError(err) {\n",
       "      outputDiv.innerHTML = `<div class=\"error\" style=\"color:red;\">${err}</div>`;\n",
       "      throw err;\n",
       "    }\n",
       "\n",
       "    function displayChart(vegaEmbed) {\n",
       "      vegaEmbed(outputDiv, spec, embedOpt)\n",
       "        .catch(err => showError(`Javascript Error: ${err.message}<br>This usually means there's a typo in your chart specification. See the javascript console for the full traceback.`));\n",
       "    }\n",
       "\n",
       "    if(typeof define === \"function\" && define.amd) {\n",
       "      requirejs.config({paths});\n",
       "      require([\"vega-embed\"], displayChart, err => showError(`Error loading script: ${err.message}`));\n",
       "    } else if (typeof vegaEmbed === \"function\") {\n",
       "      displayChart(vegaEmbed);\n",
       "    } else {\n",
       "      loadScript(\"vega\")\n",
       "        .then(() => loadScript(\"vega-lite\"))\n",
       "        .then(() => loadScript(\"vega-embed\"))\n",
       "        .catch(showError)\n",
       "        .then(() => displayChart(vegaEmbed));\n",
       "    }\n",
       "  })({\"config\": {\"view\": {\"continuousWidth\": 400, \"continuousHeight\": 300}, \"axis\": {\"labelFontSize\": 14, \"titleFontSize\": 16}, \"legend\": {\"labelFontSize\": 14, \"symbolStrokeWidth\": 6, \"titleFontSize\": 16}}, \"data\": {\"name\": \"data-0760977bf0ca053e1d90923cdaa66508\"}, \"mark\": {\"type\": \"line\", \"strokeWidth\": 2}, \"encoding\": {\"color\": {\"type\": \"nominal\", \"field\": \"Model\"}, \"x\": {\"type\": \"quantitative\", \"field\": \"t\", \"scale\": {\"domain\": [0, 200]}, \"title\": \"Index i\"}, \"y\": {\"type\": \"quantitative\", \"field\": \"value\", \"title\": \"Log Bayes Factor\"}}, \"height\": 400, \"selection\": {\"selector001\": {\"type\": \"interval\", \"bind\": \"scales\", \"encodings\": [\"x\", \"y\"]}}, \"width\": 600, \"$schema\": \"https://vega.github.io/schema/vega-lite/v4.8.1.json\", \"datasets\": {\"data-0760977bf0ca053e1d90923cdaa66508\": [{\"t\": 30, \"Model\": \"AZ / EFA2\", \"value\": 1.104965856012674}, {\"t\": 31, \"Model\": \"AZ / EFA2\", \"value\": 1.004162764086928}, {\"t\": 32, \"Model\": \"AZ / EFA2\", \"value\": 1.2393966627301225}, {\"t\": 33, \"Model\": \"AZ / EFA2\", \"value\": 1.3222175512906134}, {\"t\": 34, \"Model\": \"AZ / EFA2\", \"value\": 1.0095403603960165}, {\"t\": 35, \"Model\": \"AZ / EFA2\", \"value\": 1.2659388166413663}, {\"t\": 36, \"Model\": \"AZ / EFA2\", \"value\": 2.4298920882133572}, {\"t\": 37, \"Model\": \"AZ / EFA2\", \"value\": 2.545613896603527}, {\"t\": 38, \"Model\": \"AZ / EFA2\", \"value\": 2.438983941901398}, {\"t\": 39, \"Model\": \"AZ / EFA2\", \"value\": 3.177345067980667}, {\"t\": 40, \"Model\": \"AZ / EFA2\", \"value\": 3.317376148526435}, {\"t\": 41, \"Model\": \"AZ / EFA2\", \"value\": 3.497640026058164}, {\"t\": 42, \"Model\": \"AZ / EFA2\", \"value\": 3.8567935495407255}, {\"t\": 43, \"Model\": \"AZ / EFA2\", \"value\": 3.526512832831969}, {\"t\": 44, \"Model\": \"AZ / EFA2\", \"value\": 3.486173961131911}, {\"t\": 45, \"Model\": \"AZ / EFA2\", \"value\": 2.8596747223659236}, {\"t\": 46, \"Model\": \"AZ / EFA2\", \"value\": 3.2771178375111276}, {\"t\": 47, \"Model\": \"AZ / EFA2\", \"value\": 3.2667770951241266}, {\"t\": 48, \"Model\": \"AZ / EFA2\", \"value\": 3.2647719985205015}, {\"t\": 49, \"Model\": \"AZ / EFA2\", \"value\": 3.2600499000383536}, {\"t\": 50, \"Model\": \"AZ / EFA2\", \"value\": 2.794328063062011}, {\"t\": 51, \"Model\": \"AZ / EFA2\", \"value\": 2.7168849987070303}, {\"t\": 52, \"Model\": \"AZ / EFA2\", \"value\": 2.5063431958404863}, {\"t\": 53, \"Model\": \"AZ / EFA2\", \"value\": 2.591666752727093}, {\"t\": 54, \"Model\": \"AZ / EFA2\", \"value\": 2.6083425690733577}, {\"t\": 55, \"Model\": \"AZ / EFA2\", \"value\": 2.5831948104844003}, {\"t\": 56, \"Model\": \"AZ / EFA2\", \"value\": 2.4258281478705044}, {\"t\": 57, \"Model\": \"AZ / EFA2\", \"value\": 2.1586873439865144}, {\"t\": 58, \"Model\": \"AZ / EFA2\", \"value\": 2.2956640254779472}, {\"t\": 59, \"Model\": \"AZ / EFA2\", \"value\": 2.20265768837794}, {\"t\": 60, \"Model\": \"AZ / EFA2\", \"value\": 2.233141691296595}, {\"t\": 61, \"Model\": \"AZ / EFA2\", \"value\": 2.3294498087398097}, {\"t\": 62, \"Model\": \"AZ / EFA2\", \"value\": 2.503164013595608}, {\"t\": 63, \"Model\": \"AZ / EFA2\", \"value\": 3.2960829214002842}, {\"t\": 64, \"Model\": \"AZ / EFA2\", \"value\": 3.48670268388463}, {\"t\": 65, \"Model\": \"AZ / EFA2\", \"value\": 3.553331726154056}, {\"t\": 66, \"Model\": \"AZ / EFA2\", \"value\": 3.501203747756165}, {\"t\": 67, \"Model\": \"AZ / EFA2\", \"value\": 3.6652905862782745}, {\"t\": 68, \"Model\": \"AZ / EFA2\", \"value\": 3.583567809090141}, {\"t\": 69, \"Model\": \"AZ / EFA2\", \"value\": 3.5766254351166253}, {\"t\": 70, \"Model\": \"AZ / EFA2\", \"value\": 3.6969518327327933}, {\"t\": 71, \"Model\": \"AZ / EFA2\", \"value\": 2.9860366899133624}, {\"t\": 72, \"Model\": \"AZ / EFA2\", \"value\": 3.0333053521509896}, {\"t\": 73, \"Model\": \"AZ / EFA2\", \"value\": 3.041466057070238}, {\"t\": 74, \"Model\": \"AZ / EFA2\", \"value\": 3.017252118195131}, {\"t\": 75, \"Model\": \"AZ / EFA2\", \"value\": 3.3319303442059436}, {\"t\": 76, \"Model\": \"AZ / EFA2\", \"value\": 2.8832036686152946}, {\"t\": 77, \"Model\": \"AZ / EFA2\", \"value\": 3.0710681186716897}, {\"t\": 78, \"Model\": \"AZ / EFA2\", \"value\": 2.6527478163175147}, {\"t\": 79, \"Model\": \"AZ / EFA2\", \"value\": 2.4338952645923655}, {\"t\": 80, \"Model\": \"AZ / EFA2\", \"value\": 2.6660076625562965}, {\"t\": 81, \"Model\": \"AZ / EFA2\", \"value\": 2.650511056062271}, {\"t\": 82, \"Model\": \"AZ / EFA2\", \"value\": 2.5744100360215043}, {\"t\": 83, \"Model\": \"AZ / EFA2\", \"value\": 2.648793056023635}, {\"t\": 84, \"Model\": \"AZ / EFA2\", \"value\": 2.753464430895235}, {\"t\": 85, \"Model\": \"AZ / EFA2\", \"value\": 2.9297760895659053}, {\"t\": 86, \"Model\": \"AZ / EFA2\", \"value\": 3.013179758232752}, {\"t\": 87, \"Model\": \"AZ / EFA2\", \"value\": 3.1176508227389377}, {\"t\": 88, \"Model\": \"AZ / EFA2\", \"value\": 2.517295622046788}, {\"t\": 89, \"Model\": \"AZ / EFA2\", \"value\": 2.409086053808153}, {\"t\": 90, \"Model\": \"AZ / EFA2\", \"value\": 2.384353902454677}, {\"t\": 91, \"Model\": \"AZ / EFA2\", \"value\": 1.8960349242033772}, {\"t\": 92, \"Model\": \"AZ / EFA2\", \"value\": 2.0063317651745933}, {\"t\": 93, \"Model\": \"AZ / EFA2\", \"value\": 2.1865176480912965}, {\"t\": 94, \"Model\": \"AZ / EFA2\", \"value\": 2.225913452051941}, {\"t\": 95, \"Model\": \"AZ / EFA2\", \"value\": 2.095161990687643}, {\"t\": 96, \"Model\": \"AZ / EFA2\", \"value\": 2.016635888171436}, {\"t\": 97, \"Model\": \"AZ / EFA2\", \"value\": 1.9570835248915728}, {\"t\": 98, \"Model\": \"AZ / EFA2\", \"value\": 1.4465713251247507}, {\"t\": 99, \"Model\": \"AZ / EFA2\", \"value\": 1.5192256964728585}, {\"t\": 100, \"Model\": \"AZ / EFA2\", \"value\": 1.513068879284333}, {\"t\": 101, \"Model\": \"AZ / EFA2\", \"value\": 1.3356609387660683}, {\"t\": 102, \"Model\": \"AZ / EFA2\", \"value\": 1.2938281571919106}, {\"t\": 103, \"Model\": \"AZ / EFA2\", \"value\": 1.0551079352970874}, {\"t\": 104, \"Model\": \"AZ / EFA2\", \"value\": 0.9849477493588665}, {\"t\": 105, \"Model\": \"AZ / EFA2\", \"value\": 1.0315930134988776}, {\"t\": 106, \"Model\": \"AZ / EFA2\", \"value\": 1.1754656460369688}, {\"t\": 107, \"Model\": \"AZ / EFA2\", \"value\": 1.2238016796734428}, {\"t\": 108, \"Model\": \"AZ / EFA2\", \"value\": 1.1430967231339082}, {\"t\": 109, \"Model\": \"AZ / EFA2\", \"value\": 1.1822021747806275}, {\"t\": 110, \"Model\": \"AZ / EFA2\", \"value\": 1.084005502388436}, {\"t\": 111, \"Model\": \"AZ / EFA2\", \"value\": 1.3971431634648752}, {\"t\": 112, \"Model\": \"AZ / EFA2\", \"value\": 1.2741975585399814}, {\"t\": 113, \"Model\": \"AZ / EFA2\", \"value\": 1.2053019935539169}, {\"t\": 114, \"Model\": \"AZ / EFA2\", \"value\": 1.5925232868346484}, {\"t\": 115, \"Model\": \"AZ / EFA2\", \"value\": 1.693036495448382}, {\"t\": 116, \"Model\": \"AZ / EFA2\", \"value\": 1.8486150980810407}, {\"t\": 117, \"Model\": \"AZ / EFA2\", \"value\": 1.648718013477037}, {\"t\": 118, \"Model\": \"AZ / EFA2\", \"value\": 1.6475093255586444}, {\"t\": 119, \"Model\": \"AZ / EFA2\", \"value\": 1.679703114879885}, {\"t\": 120, \"Model\": \"AZ / EFA2\", \"value\": 1.704073980458702}, {\"t\": 121, \"Model\": \"AZ / EFA2\", \"value\": 1.6704854306869947}, {\"t\": 122, \"Model\": \"AZ / EFA2\", \"value\": 1.6802818414768126}, {\"t\": 123, \"Model\": \"AZ / EFA2\", \"value\": 1.9279994358395243}, {\"t\": 124, \"Model\": \"AZ / EFA2\", \"value\": 2.0766151566672306}, {\"t\": 125, \"Model\": \"AZ / EFA2\", \"value\": 1.911499544583421}, {\"t\": 126, \"Model\": \"AZ / EFA2\", \"value\": 1.8950484842439437}, {\"t\": 127, \"Model\": \"AZ / EFA2\", \"value\": 1.9106122864004647}, {\"t\": 128, \"Model\": \"AZ / EFA2\", \"value\": 1.7563433064102583}, {\"t\": 129, \"Model\": \"AZ / EFA2\", \"value\": 1.5317144986893254}, {\"t\": 130, \"Model\": \"AZ / EFA2\", \"value\": 1.488296934023424}, {\"t\": 131, \"Model\": \"AZ / EFA2\", \"value\": 1.5055573492021495}, {\"t\": 132, \"Model\": \"AZ / EFA2\", \"value\": 1.354679482352367}, {\"t\": 133, \"Model\": \"AZ / EFA2\", \"value\": 1.3453156806739344}, {\"t\": 134, \"Model\": \"AZ / EFA2\", \"value\": 1.4172953907024066}, {\"t\": 135, \"Model\": \"AZ / EFA2\", \"value\": 1.7706409616247356}, {\"t\": 136, \"Model\": \"AZ / EFA2\", \"value\": 1.6068666384825292}, {\"t\": 137, \"Model\": \"AZ / EFA2\", \"value\": 1.783379740225314}, {\"t\": 138, \"Model\": \"AZ / EFA2\", \"value\": 1.7089106184620277}, {\"t\": 139, \"Model\": \"AZ / EFA2\", \"value\": 1.6827596368215154}, {\"t\": 140, \"Model\": \"AZ / EFA2\", \"value\": 1.6708996560308833}, {\"t\": 141, \"Model\": \"AZ / EFA2\", \"value\": 1.8190957791055098}, {\"t\": 142, \"Model\": \"AZ / EFA2\", \"value\": 1.6844662821555403}, {\"t\": 143, \"Model\": \"AZ / EFA2\", \"value\": 1.7256696406265064}, {\"t\": 144, \"Model\": \"AZ / EFA2\", \"value\": 1.6679458504314653}, {\"t\": 145, \"Model\": \"AZ / EFA2\", \"value\": 1.7270751826144988}, {\"t\": 146, \"Model\": \"AZ / EFA2\", \"value\": 1.8924727249568605}, {\"t\": 147, \"Model\": \"AZ / EFA2\", \"value\": 2.0092239367328375}, {\"t\": 148, \"Model\": \"AZ / EFA2\", \"value\": 2.088141928492746}, {\"t\": 149, \"Model\": \"AZ / EFA2\", \"value\": 1.824051898171433}, {\"t\": 150, \"Model\": \"AZ / EFA2\", \"value\": 1.8621758637523271}, {\"t\": 151, \"Model\": \"AZ / EFA2\", \"value\": 1.9094393518988682}, {\"t\": 152, \"Model\": \"AZ / EFA2\", \"value\": 1.783878225317494}, {\"t\": 153, \"Model\": \"AZ / EFA2\", \"value\": 1.7952144225378106}, {\"t\": 154, \"Model\": \"AZ / EFA2\", \"value\": 1.7306043505956268}, {\"t\": 155, \"Model\": \"AZ / EFA2\", \"value\": 1.6389354442248987}, {\"t\": 156, \"Model\": \"AZ / EFA2\", \"value\": 1.5482844288573006}, {\"t\": 157, \"Model\": \"AZ / EFA2\", \"value\": 1.3511083555882806}, {\"t\": 158, \"Model\": \"AZ / EFA2\", \"value\": 1.4340716919299439}, {\"t\": 159, \"Model\": \"AZ / EFA2\", \"value\": 1.4899829235486095}, {\"t\": 160, \"Model\": \"AZ / EFA2\", \"value\": 1.5101726805737599}, {\"t\": 161, \"Model\": \"AZ / EFA2\", \"value\": 1.5527311429181054}, {\"t\": 162, \"Model\": \"AZ / EFA2\", \"value\": 1.5486319974777416}, {\"t\": 163, \"Model\": \"AZ / EFA2\", \"value\": 1.6367595979972975}, {\"t\": 164, \"Model\": \"AZ / EFA2\", \"value\": 1.6360718839025594}, {\"t\": 165, \"Model\": \"AZ / EFA2\", \"value\": 1.6316034088463311}, {\"t\": 166, \"Model\": \"AZ / EFA2\", \"value\": 1.681041098186597}, {\"t\": 167, \"Model\": \"AZ / EFA2\", \"value\": 1.8024606503786345}, {\"t\": 168, \"Model\": \"AZ / EFA2\", \"value\": 1.7770946083878698}, {\"t\": 169, \"Model\": \"AZ / EFA2\", \"value\": 1.8277349803429388}, {\"t\": 170, \"Model\": \"AZ / EFA2\", \"value\": 1.7982633841324969}, {\"t\": 171, \"Model\": \"AZ / EFA2\", \"value\": 1.747295851743047}, {\"t\": 172, \"Model\": \"AZ / EFA2\", \"value\": 1.7717229330996815}, {\"t\": 173, \"Model\": \"AZ / EFA2\", \"value\": 1.7784736075586807}, {\"t\": 174, \"Model\": \"AZ / EFA2\", \"value\": 1.7012188322107704}, {\"t\": 175, \"Model\": \"AZ / EFA2\", \"value\": 1.9679631768053696}, {\"t\": 176, \"Model\": \"AZ / EFA2\", \"value\": 1.8467091981540307}, {\"t\": 177, \"Model\": \"AZ / EFA2\", \"value\": 1.8526257513690325}, {\"t\": 178, \"Model\": \"AZ / EFA2\", \"value\": 1.8855257047757732}, {\"t\": 179, \"Model\": \"AZ / EFA2\", \"value\": 1.9866790263508847}, {\"t\": 180, \"Model\": \"AZ / EFA2\", \"value\": 1.9907459016683333}, {\"t\": 181, \"Model\": \"AZ / EFA2\", \"value\": 1.9233453795382047}, {\"t\": 182, \"Model\": \"AZ / EFA2\", \"value\": 1.8148058497404236}, {\"t\": 183, \"Model\": \"AZ / EFA2\", \"value\": 1.8513327028315416}, {\"t\": 184, \"Model\": \"AZ / EFA2\", \"value\": 1.9011103735340384}, {\"t\": 185, \"Model\": \"AZ / EFA2\", \"value\": 2.116273346553726}, {\"t\": 186, \"Model\": \"AZ / EFA2\", \"value\": 2.206991566689794}, {\"t\": 187, \"Model\": \"AZ / EFA2\", \"value\": 2.1684445941959893}, {\"t\": 188, \"Model\": \"AZ / EFA2\", \"value\": 2.1883103167353966}, {\"t\": 189, \"Model\": \"AZ / EFA2\", \"value\": 2.2644547850641175}, {\"t\": 190, \"Model\": \"AZ / EFA2\", \"value\": 2.2110139718895425}, {\"t\": 191, \"Model\": \"AZ / EFA2\", \"value\": 2.252441850843752}, {\"t\": 192, \"Model\": \"AZ / EFA2\", \"value\": 2.2307497855608744}, {\"t\": 193, \"Model\": \"AZ / EFA2\", \"value\": 2.145871441715144}, {\"t\": 194, \"Model\": \"AZ / EFA2\", \"value\": 2.0922765751531642}, {\"t\": 195, \"Model\": \"AZ / EFA2\", \"value\": 2.249440887745095}, {\"t\": 196, \"Model\": \"AZ / EFA2\", \"value\": 2.3541631486179995}, {\"t\": 197, \"Model\": \"AZ / EFA2\", \"value\": 2.3722885830152336}, {\"t\": 198, \"Model\": \"AZ / EFA2\", \"value\": 2.3629372787527245}, {\"t\": 199, \"Model\": \"AZ / EFA2\", \"value\": 2.5870534507723733}, {\"t\": 30, \"Model\": \"AZ / EFA1\", \"value\": 1.130518470345951}, {\"t\": 31, \"Model\": \"AZ / EFA1\", \"value\": 0.4031134426641927}, {\"t\": 32, \"Model\": \"AZ / EFA1\", \"value\": 1.6485854564888385}, {\"t\": 33, \"Model\": \"AZ / EFA1\", \"value\": 2.1230887947217383}, {\"t\": 34, \"Model\": \"AZ / EFA1\", \"value\": 3.8769904989168253}, {\"t\": 35, \"Model\": \"AZ / EFA1\", \"value\": 3.683148409339715}, {\"t\": 36, \"Model\": \"AZ / EFA1\", \"value\": 2.7017090163104527}, {\"t\": 37, \"Model\": \"AZ / EFA1\", \"value\": 2.633308943010249}, {\"t\": 38, \"Model\": \"AZ / EFA1\", \"value\": 2.651374292883176}, {\"t\": 39, \"Model\": \"AZ / EFA1\", \"value\": 2.1686676429212923}, {\"t\": 40, \"Model\": \"AZ / EFA1\", \"value\": 2.410282090843012}, {\"t\": 41, \"Model\": \"AZ / EFA1\", \"value\": 2.4287894969320973}, {\"t\": 42, \"Model\": \"AZ / EFA1\", \"value\": 2.44541352087694}, {\"t\": 43, \"Model\": \"AZ / EFA1\", \"value\": 2.275657075108981}, {\"t\": 44, \"Model\": \"AZ / EFA1\", \"value\": 2.144513220818965}, {\"t\": 45, \"Model\": \"AZ / EFA1\", \"value\": 6.096073023134267}, {\"t\": 46, \"Model\": \"AZ / EFA1\", \"value\": 5.471457505632287}, {\"t\": 47, \"Model\": \"AZ / EFA1\", \"value\": 6.021412962914127}, {\"t\": 48, \"Model\": \"AZ / EFA1\", \"value\": 5.591704377005698}, {\"t\": 49, \"Model\": \"AZ / EFA1\", \"value\": 6.082049585838405}, {\"t\": 50, \"Model\": \"AZ / EFA1\", \"value\": 6.205719469046585}, {\"t\": 51, \"Model\": \"AZ / EFA1\", \"value\": 7.794916386913712}, {\"t\": 52, \"Model\": \"AZ / EFA1\", \"value\": 8.643961753806053}, {\"t\": 53, \"Model\": \"AZ / EFA1\", \"value\": 8.811209888427612}, {\"t\": 54, \"Model\": \"AZ / EFA1\", \"value\": 8.353237977372544}, {\"t\": 55, \"Model\": \"AZ / EFA1\", \"value\": 7.466038131725213}, {\"t\": 56, \"Model\": \"AZ / EFA1\", \"value\": 6.950068531028478}, {\"t\": 57, \"Model\": \"AZ / EFA1\", \"value\": 8.002785209006959}, {\"t\": 58, \"Model\": \"AZ / EFA1\", \"value\": 7.643918233806829}, {\"t\": 59, \"Model\": \"AZ / EFA1\", \"value\": 7.616119563527661}, {\"t\": 60, \"Model\": \"AZ / EFA1\", \"value\": 7.780397218785879}, {\"t\": 61, \"Model\": \"AZ / EFA1\", \"value\": 7.966588111642778}, {\"t\": 62, \"Model\": \"AZ / EFA1\", \"value\": 7.783367646447289}, {\"t\": 63, \"Model\": \"AZ / EFA1\", \"value\": 8.574767774102895}, {\"t\": 64, \"Model\": \"AZ / EFA1\", \"value\": 9.716777488671994}, {\"t\": 65, \"Model\": \"AZ / EFA1\", \"value\": 9.597228410676223}, {\"t\": 66, \"Model\": \"AZ / EFA1\", \"value\": 9.595744325876865}, {\"t\": 67, \"Model\": \"AZ / EFA1\", \"value\": 9.582756354729383}, {\"t\": 68, \"Model\": \"AZ / EFA1\", \"value\": 9.918525963337743}, {\"t\": 69, \"Model\": \"AZ / EFA1\", \"value\": 9.758768623036474}, {\"t\": 70, \"Model\": \"AZ / EFA1\", \"value\": 10.026841811513407}, {\"t\": 71, \"Model\": \"AZ / EFA1\", \"value\": 13.3116172111462}, {\"t\": 72, \"Model\": \"AZ / EFA1\", \"value\": 13.424276537971195}, {\"t\": 73, \"Model\": \"AZ / EFA1\", \"value\": 13.541739440802075}, {\"t\": 74, \"Model\": \"AZ / EFA1\", \"value\": 13.524511437874196}, {\"t\": 75, \"Model\": \"AZ / EFA1\", \"value\": 13.159442383752264}, {\"t\": 76, \"Model\": \"AZ / EFA1\", \"value\": 15.801818320461223}, {\"t\": 77, \"Model\": \"AZ / EFA1\", \"value\": 15.450467384663}, {\"t\": 78, \"Model\": \"AZ / EFA1\", \"value\": 15.138327404553252}, {\"t\": 79, \"Model\": \"AZ / EFA1\", \"value\": 15.198392821712787}, {\"t\": 80, \"Model\": \"AZ / EFA1\", \"value\": 14.529819284255268}, {\"t\": 81, \"Model\": \"AZ / EFA1\", \"value\": 14.665780946168468}, {\"t\": 82, \"Model\": \"AZ / EFA1\", \"value\": 13.891275639678952}, {\"t\": 83, \"Model\": \"AZ / EFA1\", \"value\": 13.97085498542691}, {\"t\": 84, \"Model\": \"AZ / EFA1\", \"value\": 13.563421921156248}, {\"t\": 85, \"Model\": \"AZ / EFA1\", \"value\": 14.563475507306691}, {\"t\": 86, \"Model\": \"AZ / EFA1\", \"value\": 14.856838565968758}, {\"t\": 87, \"Model\": \"AZ / EFA1\", \"value\": 14.75903623006161}, {\"t\": 88, \"Model\": \"AZ / EFA1\", \"value\": 14.41467790505908}, {\"t\": 89, \"Model\": \"AZ / EFA1\", \"value\": 14.753636919892358}, {\"t\": 90, \"Model\": \"AZ / EFA1\", \"value\": 15.647150067974053}, {\"t\": 91, \"Model\": \"AZ / EFA1\", \"value\": 19.53289517128178}, {\"t\": 92, \"Model\": \"AZ / EFA1\", \"value\": 18.90621325935365}, {\"t\": 93, \"Model\": \"AZ / EFA1\", \"value\": 18.649580543070954}, {\"t\": 94, \"Model\": \"AZ / EFA1\", \"value\": 18.75630783955205}, {\"t\": 95, \"Model\": \"AZ / EFA1\", \"value\": 20.887740228927896}, {\"t\": 96, \"Model\": \"AZ / EFA1\", \"value\": 20.746171746921505}, {\"t\": 97, \"Model\": \"AZ / EFA1\", \"value\": 21.32508608372268}, {\"t\": 98, \"Model\": \"AZ / EFA1\", \"value\": 25.678295374798836}, {\"t\": 99, \"Model\": \"AZ / EFA1\", \"value\": 25.977259266602232}, {\"t\": 100, \"Model\": \"AZ / EFA1\", \"value\": 26.279008575782655}, {\"t\": 101, \"Model\": \"AZ / EFA1\", \"value\": 26.514564692011277}, {\"t\": 102, \"Model\": \"AZ / EFA1\", \"value\": 26.965782672135447}, {\"t\": 103, \"Model\": \"AZ / EFA1\", \"value\": 28.767146614002854}, {\"t\": 104, \"Model\": \"AZ / EFA1\", \"value\": 29.688452998102093}, {\"t\": 105, \"Model\": \"AZ / EFA1\", \"value\": 29.893262303974666}, {\"t\": 106, \"Model\": \"AZ / EFA1\", \"value\": 29.592245573396212}, {\"t\": 107, \"Model\": \"AZ / EFA1\", \"value\": 30.039521131287984}, {\"t\": 108, \"Model\": \"AZ / EFA1\", \"value\": 31.24911533672173}, {\"t\": 109, \"Model\": \"AZ / EFA1\", \"value\": 31.447095705764696}, {\"t\": 110, \"Model\": \"AZ / EFA1\", \"value\": 32.17466567978795}, {\"t\": 111, \"Model\": \"AZ / EFA1\", \"value\": 32.3544054847755}, {\"t\": 112, \"Model\": \"AZ / EFA1\", \"value\": 32.31627730850255}, {\"t\": 113, \"Model\": \"AZ / EFA1\", \"value\": 32.08617640244495}, {\"t\": 114, \"Model\": \"AZ / EFA1\", \"value\": 34.62577090933007}, {\"t\": 115, \"Model\": \"AZ / EFA1\", \"value\": 35.016382281213964}, {\"t\": 116, \"Model\": \"AZ / EFA1\", \"value\": 34.723704233195576}, {\"t\": 117, \"Model\": \"AZ / EFA1\", \"value\": 35.31495587997995}, {\"t\": 118, \"Model\": \"AZ / EFA1\", \"value\": 35.50733438480552}, {\"t\": 119, \"Model\": \"AZ / EFA1\", \"value\": 35.62314603875393}, {\"t\": 120, \"Model\": \"AZ / EFA1\", \"value\": 35.236076491279846}, {\"t\": 121, \"Model\": \"AZ / EFA1\", \"value\": 36.07967780510933}, {\"t\": 122, \"Model\": \"AZ / EFA1\", \"value\": 35.70741435940624}, {\"t\": 123, \"Model\": \"AZ / EFA1\", \"value\": 35.652177038845025}, {\"t\": 124, \"Model\": \"AZ / EFA1\", \"value\": 35.87527022970232}, {\"t\": 125, \"Model\": \"AZ / EFA1\", \"value\": 37.55003175609431}, {\"t\": 126, \"Model\": \"AZ / EFA1\", \"value\": 38.135581008783106}, {\"t\": 127, \"Model\": \"AZ / EFA1\", \"value\": 38.42089923013839}, {\"t\": 128, \"Model\": \"AZ / EFA1\", \"value\": 38.61137430010922}, {\"t\": 129, \"Model\": \"AZ / EFA1\", \"value\": 39.54537769051478}, {\"t\": 130, \"Model\": \"AZ / EFA1\", \"value\": 39.72563200095385}, {\"t\": 131, \"Model\": \"AZ / EFA1\", \"value\": 39.982261140247715}, {\"t\": 132, \"Model\": \"AZ / EFA1\", \"value\": 41.26142120937493}, {\"t\": 133, \"Model\": \"AZ / EFA1\", \"value\": 41.664699888887526}, {\"t\": 134, \"Model\": \"AZ / EFA1\", \"value\": 41.47883947572518}, {\"t\": 135, \"Model\": \"AZ / EFA1\", \"value\": 40.929600630208824}, {\"t\": 136, \"Model\": \"AZ / EFA1\", \"value\": 42.89390820701374}, {\"t\": 137, \"Model\": \"AZ / EFA1\", \"value\": 41.741692758414274}, {\"t\": 138, \"Model\": \"AZ / EFA1\", \"value\": 42.37700952600164}, {\"t\": 139, \"Model\": \"AZ / EFA1\", \"value\": 42.94054549112673}, {\"t\": 140, \"Model\": \"AZ / EFA1\", \"value\": 43.146625041797506}, {\"t\": 141, \"Model\": \"AZ / EFA1\", \"value\": 41.86220170167769}, {\"t\": 142, \"Model\": \"AZ / EFA1\", \"value\": 41.98785028216537}, {\"t\": 143, \"Model\": \"AZ / EFA1\", \"value\": 42.06228998530253}, {\"t\": 144, \"Model\": \"AZ / EFA1\", \"value\": 42.45482323749343}, {\"t\": 145, \"Model\": \"AZ / EFA1\", \"value\": 42.81781905741116}, {\"t\": 146, \"Model\": \"AZ / EFA1\", \"value\": 43.119556625151176}, {\"t\": 147, \"Model\": \"AZ / EFA1\", \"value\": 43.23841145015274}, {\"t\": 148, \"Model\": \"AZ / EFA1\", \"value\": 43.63959967145286}, {\"t\": 149, \"Model\": \"AZ / EFA1\", \"value\": 44.687561667097384}, {\"t\": 150, \"Model\": \"AZ / EFA1\", \"value\": 44.1459396055094}, {\"t\": 151, \"Model\": \"AZ / EFA1\", \"value\": 44.44941523046543}, {\"t\": 152, \"Model\": \"AZ / EFA1\", \"value\": 46.32906120428652}, {\"t\": 153, \"Model\": \"AZ / EFA1\", \"value\": 45.848265498918295}, {\"t\": 154, \"Model\": \"AZ / EFA1\", \"value\": 48.34643013944219}, {\"t\": 155, \"Model\": \"AZ / EFA1\", \"value\": 48.35245676679938}, {\"t\": 156, \"Model\": \"AZ / EFA1\", \"value\": 49.6997979323487}, {\"t\": 157, \"Model\": \"AZ / EFA1\", \"value\": 52.84830581223207}, {\"t\": 158, \"Model\": \"AZ / EFA1\", \"value\": 52.72396508590464}, {\"t\": 159, \"Model\": \"AZ / EFA1\", \"value\": 51.965381715135436}, {\"t\": 160, \"Model\": \"AZ / EFA1\", \"value\": 52.65620870867565}, {\"t\": 161, \"Model\": \"AZ / EFA1\", \"value\": 53.63805786264891}, {\"t\": 162, \"Model\": \"AZ / EFA1\", \"value\": 53.27828818203125}, {\"t\": 163, \"Model\": \"AZ / EFA1\", \"value\": 53.45643815702579}, {\"t\": 164, \"Model\": \"AZ / EFA1\", \"value\": 53.516378094187985}, {\"t\": 165, \"Model\": \"AZ / EFA1\", \"value\": 53.7038805591842}, {\"t\": 166, \"Model\": \"AZ / EFA1\", \"value\": 53.5157826981299}, {\"t\": 167, \"Model\": \"AZ / EFA1\", \"value\": 53.25505366939501}, {\"t\": 168, \"Model\": \"AZ / EFA1\", \"value\": 52.704011101712695}, {\"t\": 169, \"Model\": \"AZ / EFA1\", \"value\": 53.260066853574244}, {\"t\": 170, \"Model\": \"AZ / EFA1\", \"value\": 53.19765298144716}, {\"t\": 171, \"Model\": \"AZ / EFA1\", \"value\": 53.63254850179305}, {\"t\": 172, \"Model\": \"AZ / EFA1\", \"value\": 53.72245345864371}, {\"t\": 173, \"Model\": \"AZ / EFA1\", \"value\": 55.29545715354925}, {\"t\": 174, \"Model\": \"AZ / EFA1\", \"value\": 55.42168731558718}, {\"t\": 175, \"Model\": \"AZ / EFA1\", \"value\": 54.008988439323275}, {\"t\": 176, \"Model\": \"AZ / EFA1\", \"value\": 55.387257376671414}, {\"t\": 177, \"Model\": \"AZ / EFA1\", \"value\": 55.759537212458326}, {\"t\": 178, \"Model\": \"AZ / EFA1\", \"value\": 55.754023945443805}, {\"t\": 179, \"Model\": \"AZ / EFA1\", \"value\": 56.24040610802376}, {\"t\": 180, \"Model\": \"AZ / EFA1\", \"value\": 56.33857727080954}, {\"t\": 181, \"Model\": \"AZ / EFA1\", \"value\": 56.58812796199095}, {\"t\": 182, \"Model\": \"AZ / EFA1\", \"value\": 56.10583987572181}, {\"t\": 183, \"Model\": \"AZ / EFA1\", \"value\": 56.0630975823758}, {\"t\": 184, \"Model\": \"AZ / EFA1\", \"value\": 55.95803277415098}, {\"t\": 185, \"Model\": \"AZ / EFA1\", \"value\": 54.50302597368159}, {\"t\": 186, \"Model\": \"AZ / EFA1\", \"value\": 54.16098185465739}, {\"t\": 187, \"Model\": \"AZ / EFA1\", \"value\": 54.256832962735416}, {\"t\": 188, \"Model\": \"AZ / EFA1\", \"value\": 55.20853167365408}, {\"t\": 189, \"Model\": \"AZ / EFA1\", \"value\": 55.2427060106786}, {\"t\": 190, \"Model\": \"AZ / EFA1\", \"value\": 55.3784850757429}, {\"t\": 191, \"Model\": \"AZ / EFA1\", \"value\": 54.839870965699674}, {\"t\": 192, \"Model\": \"AZ / EFA1\", \"value\": 55.19074845394516}, {\"t\": 193, \"Model\": \"AZ / EFA1\", \"value\": 57.263699487692065}, {\"t\": 194, \"Model\": \"AZ / EFA1\", \"value\": 57.0184040190079}, {\"t\": 195, \"Model\": \"AZ / EFA1\", \"value\": 57.62066121100406}, {\"t\": 196, \"Model\": \"AZ / EFA1\", \"value\": 57.30088796021482}, {\"t\": 197, \"Model\": \"AZ / EFA1\", \"value\": 56.53822452016698}, {\"t\": 198, \"Model\": \"AZ / EFA1\", \"value\": 57.06046228816831}, {\"t\": 199, \"Model\": \"AZ / EFA1\", \"value\": 56.97855504272957}, {\"t\": 30, \"Model\": \"AZ / EZ\", \"value\": 0.8483642217294847}, {\"t\": 31, \"Model\": \"AZ / EZ\", \"value\": 1.3226446348249752}, {\"t\": 32, \"Model\": \"AZ / EZ\", \"value\": 1.0603649612704125}, {\"t\": 33, \"Model\": \"AZ / EZ\", \"value\": 1.1356455260676483}, {\"t\": 34, \"Model\": \"AZ / EZ\", \"value\": 1.4922183399319948}, {\"t\": 35, \"Model\": \"AZ / EZ\", \"value\": 1.4078511364345374}, {\"t\": 36, \"Model\": \"AZ / EZ\", \"value\": 0.6627874974037695}, {\"t\": 37, \"Model\": \"AZ / EZ\", \"value\": 0.46413502530292305}, {\"t\": 38, \"Model\": \"AZ / EZ\", \"value\": 0.4966985914484354}, {\"t\": 39, \"Model\": \"AZ / EZ\", \"value\": 0.4818092557881073}, {\"t\": 40, \"Model\": \"AZ / EZ\", \"value\": 0.4547925638268282}, {\"t\": 41, \"Model\": \"AZ / EZ\", \"value\": 0.4134904048943753}, {\"t\": 42, \"Model\": \"AZ / EZ\", \"value\": 0.23526349936319946}, {\"t\": 43, \"Model\": \"AZ / EZ\", \"value\": 0.16335576944780428}, {\"t\": 44, \"Model\": \"AZ / EZ\", \"value\": -0.03237524836134753}, {\"t\": 45, \"Model\": \"AZ / EZ\", \"value\": 0.22785814139530203}, {\"t\": 46, \"Model\": \"AZ / EZ\", \"value\": 0.21354013914830716}, {\"t\": 47, \"Model\": \"AZ / EZ\", \"value\": 0.15288331230499352}, {\"t\": 48, \"Model\": \"AZ / EZ\", \"value\": 0.4894021246065563}, {\"t\": 49, \"Model\": \"AZ / EZ\", \"value\": 0.4797982938451355}, {\"t\": 50, \"Model\": \"AZ / EZ\", \"value\": 0.6650878419061144}, {\"t\": 51, \"Model\": \"AZ / EZ\", \"value\": 0.6486576776045752}, {\"t\": 52, \"Model\": \"AZ / EZ\", \"value\": 0.7290559284121798}, {\"t\": 53, \"Model\": \"AZ / EZ\", \"value\": 0.7393124845670229}, {\"t\": 54, \"Model\": \"AZ / EZ\", \"value\": 0.8913963469007058}, {\"t\": 55, \"Model\": \"AZ / EZ\", \"value\": 1.3642263114481636}, {\"t\": 56, \"Model\": \"AZ / EZ\", \"value\": 1.4448008336028124}, {\"t\": 57, \"Model\": \"AZ / EZ\", \"value\": 1.7350034515736468}, {\"t\": 58, \"Model\": \"AZ / EZ\", \"value\": 1.7021901856599868}, {\"t\": 59, \"Model\": \"AZ / EZ\", \"value\": 1.7220783512405546}, {\"t\": 60, \"Model\": \"AZ / EZ\", \"value\": 1.7386094252690327}, {\"t\": 61, \"Model\": \"AZ / EZ\", \"value\": 1.7656014794973487}, {\"t\": 62, \"Model\": \"AZ / EZ\", \"value\": 1.5318357597655563}, {\"t\": 63, \"Model\": \"AZ / EZ\", \"value\": 1.3673589656598892}, {\"t\": 64, \"Model\": \"AZ / EZ\", \"value\": 1.3951448967234228}, {\"t\": 65, \"Model\": \"AZ / EZ\", \"value\": 1.5080642821916967}, {\"t\": 66, \"Model\": \"AZ / EZ\", \"value\": 1.4859712438058068}, {\"t\": 67, \"Model\": \"AZ / EZ\", \"value\": 1.2422270054716478}, {\"t\": 68, \"Model\": \"AZ / EZ\", \"value\": 1.434784853623114}, {\"t\": 69, \"Model\": \"AZ / EZ\", \"value\": 1.6483917263868761}, {\"t\": 70, \"Model\": \"AZ / EZ\", \"value\": 1.2846609999276097}, {\"t\": 71, \"Model\": \"AZ / EZ\", \"value\": 2.5737588441050434}, {\"t\": 72, \"Model\": \"AZ / EZ\", \"value\": 2.4926467208054532}, {\"t\": 73, \"Model\": \"AZ / EZ\", \"value\": 2.5505979585839214}, {\"t\": 74, \"Model\": \"AZ / EZ\", \"value\": 2.588618760289762}, {\"t\": 75, \"Model\": \"AZ / EZ\", \"value\": 2.5183919163038126}, {\"t\": 76, \"Model\": \"AZ / EZ\", \"value\": 3.1988795831374546}, {\"t\": 77, \"Model\": \"AZ / EZ\", \"value\": 3.4466603162366027}, {\"t\": 78, \"Model\": \"AZ / EZ\", \"value\": 3.5680918516706583}, {\"t\": 79, \"Model\": \"AZ / EZ\", \"value\": 4.295969988492914}, {\"t\": 80, \"Model\": \"AZ / EZ\", \"value\": 4.0231682395312305}, {\"t\": 81, \"Model\": \"AZ / EZ\", \"value\": 3.8532827658936526}, {\"t\": 82, \"Model\": \"AZ / EZ\", \"value\": 3.645510016421383}, {\"t\": 83, \"Model\": \"AZ / EZ\", \"value\": 3.490614741264153}, {\"t\": 84, \"Model\": \"AZ / EZ\", \"value\": 3.6722935833129213}, {\"t\": 85, \"Model\": \"AZ / EZ\", \"value\": 3.5604061795313555}, {\"t\": 86, \"Model\": \"AZ / EZ\", \"value\": 3.837740894461035}, {\"t\": 87, \"Model\": \"AZ / EZ\", \"value\": 3.5326172326758183}, {\"t\": 88, \"Model\": \"AZ / EZ\", \"value\": 3.443107290437183}, {\"t\": 89, \"Model\": \"AZ / EZ\", \"value\": 3.47339031225016}, {\"t\": 90, \"Model\": \"AZ / EZ\", \"value\": 3.820017511892445}, {\"t\": 91, \"Model\": \"AZ / EZ\", \"value\": 4.527067143248246}, {\"t\": 92, \"Model\": \"AZ / EZ\", \"value\": 4.606664394752272}, {\"t\": 93, \"Model\": \"AZ / EZ\", \"value\": 3.5726991445037015}, {\"t\": 94, \"Model\": \"AZ / EZ\", \"value\": 3.5419862778584275}, {\"t\": 95, \"Model\": \"AZ / EZ\", \"value\": 3.719454033469674}, {\"t\": 96, \"Model\": \"AZ / EZ\", \"value\": 4.213268495996317}, {\"t\": 97, \"Model\": \"AZ / EZ\", \"value\": 4.22692825897127}, {\"t\": 98, \"Model\": \"AZ / EZ\", \"value\": 5.2026296879002984}, {\"t\": 99, \"Model\": \"AZ / EZ\", \"value\": 5.147132557502005}, {\"t\": 100, \"Model\": \"AZ / EZ\", \"value\": 5.147730484693511}, {\"t\": 101, \"Model\": \"AZ / EZ\", \"value\": 5.799646848525185}, {\"t\": 102, \"Model\": \"AZ / EZ\", \"value\": 5.982886306859314}, {\"t\": 103, \"Model\": \"AZ / EZ\", \"value\": 6.2742247261094235}, {\"t\": 104, \"Model\": \"AZ / EZ\", \"value\": 6.472524435178002}, {\"t\": 105, \"Model\": \"AZ / EZ\", \"value\": 6.409362565764354}, {\"t\": 106, \"Model\": \"AZ / EZ\", \"value\": 6.262590576493153}, {\"t\": 107, \"Model\": \"AZ / EZ\", \"value\": 6.064230716539782}, {\"t\": 108, \"Model\": \"AZ / EZ\", \"value\": 6.894527793866473}, {\"t\": 109, \"Model\": \"AZ / EZ\", \"value\": 6.86981097164869}, {\"t\": 110, \"Model\": \"AZ / EZ\", \"value\": 7.005599110535172}, {\"t\": 111, \"Model\": \"AZ / EZ\", \"value\": 6.873430497652066}, {\"t\": 112, \"Model\": \"AZ / EZ\", \"value\": 6.773657419058509}, {\"t\": 113, \"Model\": \"AZ / EZ\", \"value\": 6.75726993019623}, {\"t\": 114, \"Model\": \"AZ / EZ\", \"value\": 7.128820641913194}, {\"t\": 115, \"Model\": \"AZ / EZ\", \"value\": 6.91490624774076}, {\"t\": 116, \"Model\": \"AZ / EZ\", \"value\": 7.157357696418899}, {\"t\": 117, \"Model\": \"AZ / EZ\", \"value\": 7.664565354820297}, {\"t\": 118, \"Model\": \"AZ / EZ\", \"value\": 7.604497529996365}, {\"t\": 119, \"Model\": \"AZ / EZ\", \"value\": 7.496368960079394}, {\"t\": 120, \"Model\": \"AZ / EZ\", \"value\": 7.514484140331319}, {\"t\": 121, \"Model\": \"AZ / EZ\", \"value\": 7.6392911630313165}, {\"t\": 122, \"Model\": \"AZ / EZ\", \"value\": 7.187304372603876}, {\"t\": 123, \"Model\": \"AZ / EZ\", \"value\": 6.89560910335797}, {\"t\": 124, \"Model\": \"AZ / EZ\", \"value\": 6.694887578568114}, {\"t\": 125, \"Model\": \"AZ / EZ\", \"value\": 6.873229306363896}, {\"t\": 126, \"Model\": \"AZ / EZ\", \"value\": 7.151957800702576}, {\"t\": 127, \"Model\": \"AZ / EZ\", \"value\": 7.309329312731961}, {\"t\": 128, \"Model\": \"AZ / EZ\", \"value\": 7.303961167761031}, {\"t\": 129, \"Model\": \"AZ / EZ\", \"value\": 8.157675785145443}, {\"t\": 130, \"Model\": \"AZ / EZ\", \"value\": 8.580701742383098}, {\"t\": 131, \"Model\": \"AZ / EZ\", \"value\": 8.473022008868725}, {\"t\": 132, \"Model\": \"AZ / EZ\", \"value\": 8.749724568779357}, {\"t\": 133, \"Model\": \"AZ / EZ\", \"value\": 8.65551920708026}, {\"t\": 134, \"Model\": \"AZ / EZ\", \"value\": 8.419441825528907}, {\"t\": 135, \"Model\": \"AZ / EZ\", \"value\": 8.456257609487352}, {\"t\": 136, \"Model\": \"AZ / EZ\", \"value\": 8.785487248123673}, {\"t\": 137, \"Model\": \"AZ / EZ\", \"value\": 8.023199828142879}, {\"t\": 138, \"Model\": \"AZ / EZ\", \"value\": 8.089040063592506}, {\"t\": 139, \"Model\": \"AZ / EZ\", \"value\": 8.22388897354017}, {\"t\": 140, \"Model\": \"AZ / EZ\", \"value\": 8.281665374054114}, {\"t\": 141, \"Model\": \"AZ / EZ\", \"value\": 8.324891071255593}, {\"t\": 142, \"Model\": \"AZ / EZ\", \"value\": 9.043778817193356}, {\"t\": 143, \"Model\": \"AZ / EZ\", \"value\": 9.05413247660033}, {\"t\": 144, \"Model\": \"AZ / EZ\", \"value\": 9.356114552374379}, {\"t\": 145, \"Model\": \"AZ / EZ\", \"value\": 9.124525759135395}, {\"t\": 146, \"Model\": \"AZ / EZ\", \"value\": 8.910533601206453}, {\"t\": 147, \"Model\": \"AZ / EZ\", \"value\": 8.908860611828231}, {\"t\": 148, \"Model\": \"AZ / EZ\", \"value\": 8.787463731544904}, {\"t\": 149, \"Model\": \"AZ / EZ\", \"value\": 10.478715833028673}, {\"t\": 150, \"Model\": \"AZ / EZ\", \"value\": 9.954869041384882}, {\"t\": 151, \"Model\": \"AZ / EZ\", \"value\": 10.08102170272457}, {\"t\": 152, \"Model\": \"AZ / EZ\", \"value\": 10.622935517424139}, {\"t\": 153, \"Model\": \"AZ / EZ\", \"value\": 10.484918119605481}, {\"t\": 154, \"Model\": \"AZ / EZ\", \"value\": 11.108114378637765}, {\"t\": 155, \"Model\": \"AZ / EZ\", \"value\": 11.005560658853483}, {\"t\": 156, \"Model\": \"AZ / EZ\", \"value\": 11.125573950037733}, {\"t\": 157, \"Model\": \"AZ / EZ\", \"value\": 12.042213522017846}, {\"t\": 158, \"Model\": \"AZ / EZ\", \"value\": 11.925816316742043}, {\"t\": 159, \"Model\": \"AZ / EZ\", \"value\": 11.820412613061649}, {\"t\": 160, \"Model\": \"AZ / EZ\", \"value\": 11.893524452453903}, {\"t\": 161, \"Model\": \"AZ / EZ\", \"value\": 11.995899480906132}, {\"t\": 162, \"Model\": \"AZ / EZ\", \"value\": 12.122624901936206}, {\"t\": 163, \"Model\": \"AZ / EZ\", \"value\": 12.077230341297081}, {\"t\": 164, \"Model\": \"AZ / EZ\", \"value\": 12.185516256102801}, {\"t\": 165, \"Model\": \"AZ / EZ\", \"value\": 12.174555138271444}, {\"t\": 166, \"Model\": \"AZ / EZ\", \"value\": 12.027339134720933}, {\"t\": 167, \"Model\": \"AZ / EZ\", \"value\": 11.811214268857157}, {\"t\": 168, \"Model\": \"AZ / EZ\", \"value\": 11.490333762360933}, {\"t\": 169, \"Model\": \"AZ / EZ\", \"value\": 11.638237983654335}, {\"t\": 170, \"Model\": \"AZ / EZ\", \"value\": 11.868603937990656}, {\"t\": 171, \"Model\": \"AZ / EZ\", \"value\": 11.948598432683411}, {\"t\": 172, \"Model\": \"AZ / EZ\", \"value\": 11.636675528490287}, {\"t\": 173, \"Model\": \"AZ / EZ\", \"value\": 11.437420810062576}, {\"t\": 174, \"Model\": \"AZ / EZ\", \"value\": 11.392755977349907}, {\"t\": 175, \"Model\": \"AZ / EZ\", \"value\": 10.273371845675683}, {\"t\": 176, \"Model\": \"AZ / EZ\", \"value\": 10.587777151271212}, {\"t\": 177, \"Model\": \"AZ / EZ\", \"value\": 10.625090834997309}, {\"t\": 178, \"Model\": \"AZ / EZ\", \"value\": 10.473283500221441}, {\"t\": 179, \"Model\": \"AZ / EZ\", \"value\": 10.476933229793076}, {\"t\": 180, \"Model\": \"AZ / EZ\", \"value\": 10.463174985969545}, {\"t\": 181, \"Model\": \"AZ / EZ\", \"value\": 10.611918170234276}, {\"t\": 182, \"Model\": \"AZ / EZ\", \"value\": 10.13001101903319}, {\"t\": 183, \"Model\": \"AZ / EZ\", \"value\": 10.279893332803795}, {\"t\": 184, \"Model\": \"AZ / EZ\", \"value\": 10.087736002906695}, {\"t\": 185, \"Model\": \"AZ / EZ\", \"value\": 11.038691775828966}, {\"t\": 186, \"Model\": \"AZ / EZ\", \"value\": 11.166694854203342}, {\"t\": 187, \"Model\": \"AZ / EZ\", \"value\": 10.944715391423415}, {\"t\": 188, \"Model\": \"AZ / EZ\", \"value\": 10.936362753082676}, {\"t\": 189, \"Model\": \"AZ / EZ\", \"value\": 10.847778024040053}, {\"t\": 190, \"Model\": \"AZ / EZ\", \"value\": 10.572565440705375}, {\"t\": 191, \"Model\": \"AZ / EZ\", \"value\": 10.25185009289271}, {\"t\": 192, \"Model\": \"AZ / EZ\", \"value\": 10.349911520137994}, {\"t\": 193, \"Model\": \"AZ / EZ\", \"value\": 10.441956563306121}, {\"t\": 194, \"Model\": \"AZ / EZ\", \"value\": 10.677321868560512}, {\"t\": 195, \"Model\": \"AZ / EZ\", \"value\": 10.237032122847495}, {\"t\": 196, \"Model\": \"AZ / EZ\", \"value\": 10.331452494107452}, {\"t\": 197, \"Model\": \"AZ / EZ\", \"value\": 10.130018978162525}, {\"t\": 198, \"Model\": \"AZ / EZ\", \"value\": 10.220733204627777}, {\"t\": 199, \"Model\": \"AZ / EZ\", \"value\": 9.8405976769493}, {\"t\": 30, \"Model\": \"AZ / EFA3\", \"value\": 1.0755946837589399}, {\"t\": 31, \"Model\": \"AZ / EFA3\", \"value\": 0.9709178421111027}, {\"t\": 32, \"Model\": \"AZ / EFA3\", \"value\": 1.18263255973606}, {\"t\": 33, \"Model\": \"AZ / EFA3\", \"value\": 1.3362504510150401}, {\"t\": 34, \"Model\": \"AZ / EFA3\", \"value\": 1.0897488335061567}, {\"t\": 35, \"Model\": \"AZ / EFA3\", \"value\": 1.3586641332314215}, {\"t\": 36, \"Model\": \"AZ / EFA3\", \"value\": 2.2502938017310683}, {\"t\": 37, \"Model\": \"AZ / EFA3\", \"value\": 2.486547527998539}, {\"t\": 38, \"Model\": \"AZ / EFA3\", \"value\": 2.5101423872959003}, {\"t\": 39, \"Model\": \"AZ / EFA3\", \"value\": 2.82867122939885}, {\"t\": 40, \"Model\": \"AZ / EFA3\", \"value\": 3.067564213490371}, {\"t\": 41, \"Model\": \"AZ / EFA3\", \"value\": 3.377242235065367}, {\"t\": 42, \"Model\": \"AZ / EFA3\", \"value\": 3.7812960595165066}, {\"t\": 43, \"Model\": \"AZ / EFA3\", \"value\": 3.5324208195373927}, {\"t\": 44, \"Model\": \"AZ / EFA3\", \"value\": 3.437674841020538}, {\"t\": 45, \"Model\": \"AZ / EFA3\", \"value\": 2.8225067384268527}, {\"t\": 46, \"Model\": \"AZ / EFA3\", \"value\": 3.2596257414992067}, {\"t\": 47, \"Model\": \"AZ / EFA3\", \"value\": 3.25469797004169}, {\"t\": 48, \"Model\": \"AZ / EFA3\", \"value\": 3.3191380839666067}, {\"t\": 49, \"Model\": \"AZ / EFA3\", \"value\": 3.3694170192051445}, {\"t\": 50, \"Model\": \"AZ / EFA3\", \"value\": 2.9356847153118224}, {\"t\": 51, \"Model\": \"AZ / EFA3\", \"value\": 2.72413475804143}, {\"t\": 52, \"Model\": \"AZ / EFA3\", \"value\": 2.563369433530397}, {\"t\": 53, \"Model\": \"AZ / EFA3\", \"value\": 2.7276684120324433}, {\"t\": 54, \"Model\": \"AZ / EFA3\", \"value\": 2.6621715215107997}, {\"t\": 55, \"Model\": \"AZ / EFA3\", \"value\": 2.585220461207456}, {\"t\": 56, \"Model\": \"AZ / EFA3\", \"value\": 2.3526435646732295}, {\"t\": 57, \"Model\": \"AZ / EFA3\", \"value\": 2.132214876213226}, {\"t\": 58, \"Model\": \"AZ / EFA3\", \"value\": 2.242734142976076}, {\"t\": 59, \"Model\": \"AZ / EFA3\", \"value\": 2.3096701884753656}, {\"t\": 60, \"Model\": \"AZ / EFA3\", \"value\": 2.3923222359528324}, {\"t\": 61, \"Model\": \"AZ / EFA3\", \"value\": 2.5144172398985063}, {\"t\": 62, \"Model\": \"AZ / EFA3\", \"value\": 2.722078011189012}, {\"t\": 63, \"Model\": \"AZ / EFA3\", \"value\": 3.5981780698804755}, {\"t\": 64, \"Model\": \"AZ / EFA3\", \"value\": 3.6573456915755287}, {\"t\": 65, \"Model\": \"AZ / EFA3\", \"value\": 3.7692847137478793}, {\"t\": 66, \"Model\": \"AZ / EFA3\", \"value\": 3.7404205764705694}, {\"t\": 67, \"Model\": \"AZ / EFA3\", \"value\": 3.89649285396456}, {\"t\": 68, \"Model\": \"AZ / EFA3\", \"value\": 3.882307090492475}, {\"t\": 69, \"Model\": \"AZ / EFA3\", \"value\": 3.8321327693103626}, {\"t\": 70, \"Model\": \"AZ / EFA3\", \"value\": 4.010476625944932}, {\"t\": 71, \"Model\": \"AZ / EFA3\", \"value\": 3.2155160314169393}, {\"t\": 72, \"Model\": \"AZ / EFA3\", \"value\": 3.2967995357294626}, {\"t\": 73, \"Model\": \"AZ / EFA3\", \"value\": 3.361344364408808}, {\"t\": 74, \"Model\": \"AZ / EFA3\", \"value\": 3.3847751633384178}, {\"t\": 75, \"Model\": \"AZ / EFA3\", \"value\": 3.5789271333129022}, {\"t\": 76, \"Model\": \"AZ / EFA3\", \"value\": 3.131696434420064}, {\"t\": 77, \"Model\": \"AZ / EFA3\", \"value\": 3.248355953646467}, {\"t\": 78, \"Model\": \"AZ / EFA3\", \"value\": 2.746999212089804}, {\"t\": 79, \"Model\": \"AZ / EFA3\", \"value\": 2.449081423022676}, {\"t\": 80, \"Model\": \"AZ / EFA3\", \"value\": 2.6396324184820514}, {\"t\": 81, \"Model\": \"AZ / EFA3\", \"value\": 2.662215432767823}, {\"t\": 82, \"Model\": \"AZ / EFA3\", \"value\": 2.6536830339847484}, {\"t\": 83, \"Model\": \"AZ / EFA3\", \"value\": 2.8164719472219417}, {\"t\": 84, \"Model\": \"AZ / EFA3\", \"value\": 2.9670210047468686}, {\"t\": 85, \"Model\": \"AZ / EFA3\", \"value\": 3.0463561245759934}, {\"t\": 86, \"Model\": \"AZ / EFA3\", \"value\": 3.0636603033301526}, {\"t\": 87, \"Model\": \"AZ / EFA3\", \"value\": 3.0879150038807666}, {\"t\": 88, \"Model\": \"AZ / EFA3\", \"value\": 2.6178565133672578}, {\"t\": 89, \"Model\": \"AZ / EFA3\", \"value\": 2.560250434798945}, {\"t\": 90, \"Model\": \"AZ / EFA3\", \"value\": 2.50998610261297}, {\"t\": 91, \"Model\": \"AZ / EFA3\", \"value\": 1.9223856235653898}, {\"t\": 92, \"Model\": \"AZ / EFA3\", \"value\": 2.1123773813774847}, {\"t\": 93, \"Model\": \"AZ / EFA3\", \"value\": 2.5073636037253095}, {\"t\": 94, \"Model\": \"AZ / EFA3\", \"value\": 2.570299985773431}, {\"t\": 95, \"Model\": \"AZ / EFA3\", \"value\": 2.4886314672756953}, {\"t\": 96, \"Model\": \"AZ / EFA3\", \"value\": 2.395893573528042}, {\"t\": 97, \"Model\": \"AZ / EFA3\", \"value\": 2.3804845228113436}, {\"t\": 98, \"Model\": \"AZ / EFA3\", \"value\": 1.926645344618919}, {\"t\": 99, \"Model\": \"AZ / EFA3\", \"value\": 2.0825110574515975}, {\"t\": 100, \"Model\": \"AZ / EFA3\", \"value\": 2.0629004962827366}, {\"t\": 101, \"Model\": \"AZ / EFA3\", \"value\": 1.9077185348734247}, {\"t\": 102, \"Model\": \"AZ / EFA3\", \"value\": 1.9058754443951784}, {\"t\": 103, \"Model\": \"AZ / EFA3\", \"value\": 1.663960199061421}, {\"t\": 104, \"Model\": \"AZ / EFA3\", \"value\": 1.6290619545992513}, {\"t\": 105, \"Model\": \"AZ / EFA3\", \"value\": 1.6734989914168636}, {\"t\": 106, \"Model\": \"AZ / EFA3\", \"value\": 1.753595807710326}, {\"t\": 107, \"Model\": \"AZ / EFA3\", \"value\": 1.8145779879730526}, {\"t\": 108, \"Model\": \"AZ / EFA3\", \"value\": 1.6383091669779333}, {\"t\": 109, \"Model\": \"AZ / EFA3\", \"value\": 1.737798665569585}, {\"t\": 110, \"Model\": \"AZ / EFA3\", \"value\": 1.6712050379110224}, {\"t\": 111, \"Model\": \"AZ / EFA3\", \"value\": 1.8288878625431835}, {\"t\": 112, \"Model\": \"AZ / EFA3\", \"value\": 1.654462461136859}, {\"t\": 113, \"Model\": \"AZ / EFA3\", \"value\": 1.6660021313930429}, {\"t\": 114, \"Model\": \"AZ / EFA3\", \"value\": 1.0786529555728066}, {\"t\": 115, \"Model\": \"AZ / EFA3\", \"value\": 1.2832777710326582}, {\"t\": 116, \"Model\": \"AZ / EFA3\", \"value\": 1.3294702836695933}, {\"t\": 117, \"Model\": \"AZ / EFA3\", \"value\": 1.206992161324024}, {\"t\": 118, \"Model\": \"AZ / EFA3\", \"value\": 1.2179550536523038}, {\"t\": 119, \"Model\": \"AZ / EFA3\", \"value\": 1.2555621866486035}, {\"t\": 120, \"Model\": \"AZ / EFA3\", \"value\": 1.3669794848478887}, {\"t\": 121, \"Model\": \"AZ / EFA3\", \"value\": 1.3835569096511335}, {\"t\": 122, \"Model\": \"AZ / EFA3\", \"value\": 1.4412509036440042}, {\"t\": 123, \"Model\": \"AZ / EFA3\", \"value\": 1.7112356845229897}, {\"t\": 124, \"Model\": \"AZ / EFA3\", \"value\": 1.9279748514560424}, {\"t\": 125, \"Model\": \"AZ / EFA3\", \"value\": 1.7808270570355944}, {\"t\": 126, \"Model\": \"AZ / EFA3\", \"value\": 1.760580622309135}, {\"t\": 127, \"Model\": \"AZ / EFA3\", \"value\": 1.7690205344462129}, {\"t\": 128, \"Model\": \"AZ / EFA3\", \"value\": 1.6815992392133694}, {\"t\": 129, \"Model\": \"AZ / EFA3\", \"value\": 1.520469189673804}, {\"t\": 130, \"Model\": \"AZ / EFA3\", \"value\": 1.4394126472386688}, {\"t\": 131, \"Model\": \"AZ / EFA3\", \"value\": 1.5230442106701503}, {\"t\": 132, \"Model\": \"AZ / EFA3\", \"value\": 1.449997431149427}, {\"t\": 133, \"Model\": \"AZ / EFA3\", \"value\": 1.4825926020845372}, {\"t\": 134, \"Model\": \"AZ / EFA3\", \"value\": 1.618188959712711}, {\"t\": 135, \"Model\": \"AZ / EFA3\", \"value\": 1.7349917499066123}, {\"t\": 136, \"Model\": \"AZ / EFA3\", \"value\": 1.6075365697964799}, {\"t\": 137, \"Model\": \"AZ / EFA3\", \"value\": 1.8311908216184065}, {\"t\": 138, \"Model\": \"AZ / EFA3\", \"value\": 1.76684564561333}, {\"t\": 139, \"Model\": \"AZ / EFA3\", \"value\": 1.7667620132449429}, {\"t\": 140, \"Model\": \"AZ / EFA3\", \"value\": 1.7721522123952127}, {\"t\": 141, \"Model\": \"AZ / EFA3\", \"value\": 1.979688716071223}, {\"t\": 142, \"Model\": \"AZ / EFA3\", \"value\": 1.9097145694081519}, {\"t\": 143, \"Model\": \"AZ / EFA3\", \"value\": 1.9460148632773553}, {\"t\": 144, \"Model\": \"AZ / EFA3\", \"value\": 2.0036585115332173}, {\"t\": 145, \"Model\": \"AZ / EFA3\", \"value\": 2.0750972854895053}, {\"t\": 146, \"Model\": \"AZ / EFA3\", \"value\": 2.2517687813344764}, {\"t\": 147, \"Model\": \"AZ / EFA3\", \"value\": 2.344314862896681}, {\"t\": 148, \"Model\": \"AZ / EFA3\", \"value\": 2.4788157801082207}, {\"t\": 149, \"Model\": \"AZ / EFA3\", \"value\": 2.085017453577507}, {\"t\": 150, \"Model\": \"AZ / EFA3\", \"value\": 2.13125756544423}, {\"t\": 151, \"Model\": \"AZ / EFA3\", \"value\": 2.147237627323875}, {\"t\": 152, \"Model\": \"AZ / EFA3\", \"value\": 2.0458077984229703}, {\"t\": 153, \"Model\": \"AZ / EFA3\", \"value\": 2.184845449309705}, {\"t\": 154, \"Model\": \"AZ / EFA3\", \"value\": 2.049013346861443}, {\"t\": 155, \"Model\": \"AZ / EFA3\", \"value\": 1.930697290887224}, {\"t\": 156, \"Model\": \"AZ / EFA3\", \"value\": 1.8039574849408382}, {\"t\": 157, \"Model\": \"AZ / EFA3\", \"value\": 1.5363091417650594}, {\"t\": 158, \"Model\": \"AZ / EFA3\", \"value\": 1.6554170420255332}, {\"t\": 159, \"Model\": \"AZ / EFA3\", \"value\": 1.8403999374240811}, {\"t\": 160, \"Model\": \"AZ / EFA3\", \"value\": 1.8550002610734282}, {\"t\": 161, \"Model\": \"AZ / EFA3\", \"value\": 1.859069102299486}, {\"t\": 162, \"Model\": \"AZ / EFA3\", \"value\": 1.9044780394103782}, {\"t\": 163, \"Model\": \"AZ / EFA3\", \"value\": 1.9976087721063323}, {\"t\": 164, \"Model\": \"AZ / EFA3\", \"value\": 2.040712212333574}, {\"t\": 165, \"Model\": \"AZ / EFA3\", \"value\": 2.089560666275929}, {\"t\": 166, \"Model\": \"AZ / EFA3\", \"value\": 2.1841347332970145}, {\"t\": 167, \"Model\": \"AZ / EFA3\", \"value\": 2.3370671578193196}, {\"t\": 168, \"Model\": \"AZ / EFA3\", \"value\": 2.429391971611267}, {\"t\": 169, \"Model\": \"AZ / EFA3\", \"value\": 2.431914375124734}, {\"t\": 170, \"Model\": \"AZ / EFA3\", \"value\": 2.3766715775907414}, {\"t\": 171, \"Model\": \"AZ / EFA3\", \"value\": 2.302549739640881}, {\"t\": 172, \"Model\": \"AZ / EFA3\", \"value\": 2.4140586461355724}, {\"t\": 173, \"Model\": \"AZ / EFA3\", \"value\": 2.3895765691681845}, {\"t\": 174, \"Model\": \"AZ / EFA3\", \"value\": 2.344261146714416}, {\"t\": 175, \"Model\": \"AZ / EFA3\", \"value\": 2.775683079065857}, {\"t\": 176, \"Model\": \"AZ / EFA3\", \"value\": 2.675192171325534}, {\"t\": 177, \"Model\": \"AZ / EFA3\", \"value\": 2.7203679850128992}, {\"t\": 178, \"Model\": \"AZ / EFA3\", \"value\": 2.7848839962853162}, {\"t\": 179, \"Model\": \"AZ / EFA3\", \"value\": 2.8799319399863634}, {\"t\": 180, \"Model\": \"AZ / EFA3\", \"value\": 2.9274597000110134}, {\"t\": 181, \"Model\": \"AZ / EFA3\", \"value\": 2.8779788025779}, {\"t\": 182, \"Model\": \"AZ / EFA3\", \"value\": 2.806116620134617}, {\"t\": 183, \"Model\": \"AZ / EFA3\", \"value\": 2.8405054537427077}, {\"t\": 184, \"Model\": \"AZ / EFA3\", \"value\": 2.9271307830874775}, {\"t\": 185, \"Model\": \"AZ / EFA3\", \"value\": 3.057944378228285}, {\"t\": 186, \"Model\": \"AZ / EFA3\", \"value\": 3.1364461929963454}, {\"t\": 187, \"Model\": \"AZ / EFA3\", \"value\": 3.1558667752203746}, {\"t\": 188, \"Model\": \"AZ / EFA3\", \"value\": 3.1687579256895333}, {\"t\": 189, \"Model\": \"AZ / EFA3\", \"value\": 3.257626605583255}, {\"t\": 190, \"Model\": \"AZ / EFA3\", \"value\": 3.2298270495412}, {\"t\": 191, \"Model\": \"AZ / EFA3\", \"value\": 3.3534443741107225}, {\"t\": 192, \"Model\": \"AZ / EFA3\", \"value\": 3.340694496270089}, {\"t\": 193, \"Model\": \"AZ / EFA3\", \"value\": 3.297747601281344}, {\"t\": 194, \"Model\": \"AZ / EFA3\", \"value\": 3.268754429382625}, {\"t\": 195, \"Model\": \"AZ / EFA3\", \"value\": 3.4471050625870703}, {\"t\": 196, \"Model\": \"AZ / EFA3\", \"value\": 3.5283004289178734}, {\"t\": 197, \"Model\": \"AZ / EFA3\", \"value\": 3.6203246345519347}, {\"t\": 198, \"Model\": \"AZ / EFA3\", \"value\": 3.595909484293543}, {\"t\": 199, \"Model\": \"AZ / EFA3\", \"value\": 3.758605646494061}]}}, {\"mode\": \"vega-lite\"});\n",
       "</script>"
      ],
      "text/plain": [
       "alt.Chart(...)"
      ]
     },
     "execution_count": 5,
     "metadata": {},
     "output_type": "execute_result"
    }
   ],
   "source": [
    "width = 600\n",
    "height = 400\n",
    "c = alt.Chart(bfdf).mark_line(\n",
    "    strokeWidth = 2,\n",
    "    ).encode(\n",
    "    alt.X('t:Q', title='Index i', scale=alt.Scale(domain=[0,200])),\n",
    "    alt.Y('value:Q', title='Log Bayes Factor'),\n",
    "    alt.Color('Model')\n",
    "    ).properties(\n",
    "    width=width, height=height\n",
    "    ).configure_legend(\n",
    "    titleFontSize=16,\n",
    "    labelFontSize=14,\n",
    "    symbolStrokeWidth=6\n",
    "    ).configure_axis(\n",
    "    labelFontSize=14,\n",
    "    titleFontSize=16\n",
    ").interactive()\n",
    "\n",
    "c"
   ]
  },
  {
   "cell_type": "code",
   "execution_count": 6,
   "metadata": {},
   "outputs": [
    {
     "data": {
      "text/html": [
       "\n",
       "<div id=\"altair-viz-261a4d9ab022418381dd9f4cf2c69c56\"></div>\n",
       "<script type=\"text/javascript\">\n",
       "  (function(spec, embedOpt){\n",
       "    let outputDiv = document.currentScript.previousElementSibling;\n",
       "    if (outputDiv.id !== \"altair-viz-261a4d9ab022418381dd9f4cf2c69c56\") {\n",
       "      outputDiv = document.getElementById(\"altair-viz-261a4d9ab022418381dd9f4cf2c69c56\");\n",
       "    }\n",
       "    const paths = {\n",
       "      \"vega\": \"https://cdn.jsdelivr.net/npm//vega@5?noext\",\n",
       "      \"vega-lib\": \"https://cdn.jsdelivr.net/npm//vega-lib?noext\",\n",
       "      \"vega-lite\": \"https://cdn.jsdelivr.net/npm//vega-lite@4.8.1?noext\",\n",
       "      \"vega-embed\": \"https://cdn.jsdelivr.net/npm//vega-embed@6?noext\",\n",
       "    };\n",
       "\n",
       "    function loadScript(lib) {\n",
       "      return new Promise(function(resolve, reject) {\n",
       "        var s = document.createElement('script');\n",
       "        s.src = paths[lib];\n",
       "        s.async = true;\n",
       "        s.onload = () => resolve(paths[lib]);\n",
       "        s.onerror = () => reject(`Error loading script: ${paths[lib]}`);\n",
       "        document.getElementsByTagName(\"head\")[0].appendChild(s);\n",
       "      });\n",
       "    }\n",
       "\n",
       "    function showError(err) {\n",
       "      outputDiv.innerHTML = `<div class=\"error\" style=\"color:red;\">${err}</div>`;\n",
       "      throw err;\n",
       "    }\n",
       "\n",
       "    function displayChart(vegaEmbed) {\n",
       "      vegaEmbed(outputDiv, spec, embedOpt)\n",
       "        .catch(err => showError(`Javascript Error: ${err.message}<br>This usually means there's a typo in your chart specification. See the javascript console for the full traceback.`));\n",
       "    }\n",
       "\n",
       "    if(typeof define === \"function\" && define.amd) {\n",
       "      requirejs.config({paths});\n",
       "      require([\"vega-embed\"], displayChart, err => showError(`Error loading script: ${err.message}`));\n",
       "    } else if (typeof vegaEmbed === \"function\") {\n",
       "      displayChart(vegaEmbed);\n",
       "    } else {\n",
       "      loadScript(\"vega\")\n",
       "        .then(() => loadScript(\"vega-lite\"))\n",
       "        .then(() => loadScript(\"vega-embed\"))\n",
       "        .catch(showError)\n",
       "        .then(() => displayChart(vegaEmbed));\n",
       "    }\n",
       "  })({\"config\": {\"view\": {\"continuousWidth\": 400, \"continuousHeight\": 300}, \"axis\": {\"labelFontSize\": 14, \"titleFontSize\": 16}, \"legend\": {\"labelFontSize\": 14, \"symbolStrokeWidth\": 6, \"titleFontSize\": 16}}, \"data\": {\"name\": \"data-6ab80d7ad8e54ea3b9cf5b945f18c97f\"}, \"mark\": {\"type\": \"line\", \"strokeWidth\": 2}, \"encoding\": {\"color\": {\"type\": \"nominal\", \"field\": \"Model\"}, \"x\": {\"type\": \"quantitative\", \"field\": \"t\", \"scale\": {\"domain\": [0, 200]}, \"title\": \"Index i\"}, \"y\": {\"type\": \"quantitative\", \"field\": \"value\", \"title\": \"Log Bayes Factor\"}}, \"height\": 400, \"width\": 600, \"$schema\": \"https://vega.github.io/schema/vega-lite/v4.8.1.json\", \"datasets\": {\"data-6ab80d7ad8e54ea3b9cf5b945f18c97f\": [{\"t\": 30, \"Model\": \"EFA2 / EFA1\", \"value\": 0.025552614333276935}, {\"t\": 31, \"Model\": \"EFA2 / EFA1\", \"value\": -0.6010493214227353}, {\"t\": 32, \"Model\": \"EFA2 / EFA1\", \"value\": 0.409188793758716}, {\"t\": 33, \"Model\": \"EFA2 / EFA1\", \"value\": 0.8008712434311249}, {\"t\": 34, \"Model\": \"EFA2 / EFA1\", \"value\": 2.867450138520809}, {\"t\": 35, \"Model\": \"EFA2 / EFA1\", \"value\": 2.417209592698349}, {\"t\": 36, \"Model\": \"EFA2 / EFA1\", \"value\": 0.27181692809709546}, {\"t\": 37, \"Model\": \"EFA2 / EFA1\", \"value\": 0.0876950464067221}, {\"t\": 38, \"Model\": \"EFA2 / EFA1\", \"value\": 0.21239035098177794}, {\"t\": 39, \"Model\": \"EFA2 / EFA1\", \"value\": -1.0086774250593749}, {\"t\": 40, \"Model\": \"EFA2 / EFA1\", \"value\": -0.9070940576834232}, {\"t\": 41, \"Model\": \"EFA2 / EFA1\", \"value\": -1.0688505291260668}, {\"t\": 42, \"Model\": \"EFA2 / EFA1\", \"value\": -1.4113800286637854}, {\"t\": 43, \"Model\": \"EFA2 / EFA1\", \"value\": -1.250855757722988}, {\"t\": 44, \"Model\": \"EFA2 / EFA1\", \"value\": -1.3416607403129461}, {\"t\": 45, \"Model\": \"EFA2 / EFA1\", \"value\": 3.236398300768343}, {\"t\": 46, \"Model\": \"EFA2 / EFA1\", \"value\": 2.1943396681211595}, {\"t\": 47, \"Model\": \"EFA2 / EFA1\", \"value\": 2.7546358677900002}, {\"t\": 48, \"Model\": \"EFA2 / EFA1\", \"value\": 2.3269323784851963}, {\"t\": 49, \"Model\": \"EFA2 / EFA1\", \"value\": 2.8219996858000513}, {\"t\": 50, \"Model\": \"EFA2 / EFA1\", \"value\": 3.411391405984574}, {\"t\": 51, \"Model\": \"EFA2 / EFA1\", \"value\": 5.078031388206682}, {\"t\": 52, \"Model\": \"EFA2 / EFA1\", \"value\": 6.137618557965567}, {\"t\": 53, \"Model\": \"EFA2 / EFA1\", \"value\": 6.219543135700519}, {\"t\": 54, \"Model\": \"EFA2 / EFA1\", \"value\": 5.744895408299186}, {\"t\": 55, \"Model\": \"EFA2 / EFA1\", \"value\": 4.882843321240813}, {\"t\": 56, \"Model\": \"EFA2 / EFA1\", \"value\": 4.524240383157974}, {\"t\": 57, \"Model\": \"EFA2 / EFA1\", \"value\": 5.844097865020444}, {\"t\": 58, \"Model\": \"EFA2 / EFA1\", \"value\": 5.348254208328882}, {\"t\": 59, \"Model\": \"EFA2 / EFA1\", \"value\": 5.413461875149721}, {\"t\": 60, \"Model\": \"EFA2 / EFA1\", \"value\": 5.547255527489284}, {\"t\": 61, \"Model\": \"EFA2 / EFA1\", \"value\": 5.637138302902969}, {\"t\": 62, \"Model\": \"EFA2 / EFA1\", \"value\": 5.280203632851681}, {\"t\": 63, \"Model\": \"EFA2 / EFA1\", \"value\": 5.278684852702611}, {\"t\": 64, \"Model\": \"EFA2 / EFA1\", \"value\": 6.230074804787364}, {\"t\": 65, \"Model\": \"EFA2 / EFA1\", \"value\": 6.043896684522167}, {\"t\": 66, \"Model\": \"EFA2 / EFA1\", \"value\": 6.0945405781207}, {\"t\": 67, \"Model\": \"EFA2 / EFA1\", \"value\": 5.917465768451109}, {\"t\": 68, \"Model\": \"EFA2 / EFA1\", \"value\": 6.334958154247602}, {\"t\": 69, \"Model\": \"EFA2 / EFA1\", \"value\": 6.1821431879198485}, {\"t\": 70, \"Model\": \"EFA2 / EFA1\", \"value\": 6.3298899787806135}, {\"t\": 71, \"Model\": \"EFA2 / EFA1\", \"value\": 10.325580521232837}, {\"t\": 72, \"Model\": \"EFA2 / EFA1\", \"value\": 10.390971185820206}, {\"t\": 73, \"Model\": \"EFA2 / EFA1\", \"value\": 10.500273383731837}, {\"t\": 74, \"Model\": \"EFA2 / EFA1\", \"value\": 10.507259319679065}, {\"t\": 75, \"Model\": \"EFA2 / EFA1\", \"value\": 9.82751203954632}, {\"t\": 76, \"Model\": \"EFA2 / EFA1\", \"value\": 12.918614651845928}, {\"t\": 77, \"Model\": \"EFA2 / EFA1\", \"value\": 12.37939926599131}, {\"t\": 78, \"Model\": \"EFA2 / EFA1\", \"value\": 12.485579588235737}, {\"t\": 79, \"Model\": \"EFA2 / EFA1\", \"value\": 12.764497557120421}, {\"t\": 80, \"Model\": \"EFA2 / EFA1\", \"value\": 11.863811621698972}, {\"t\": 81, \"Model\": \"EFA2 / EFA1\", \"value\": 12.015269890106197}, {\"t\": 82, \"Model\": \"EFA2 / EFA1\", \"value\": 11.316865603657448}, {\"t\": 83, \"Model\": \"EFA2 / EFA1\", \"value\": 11.322061929403276}, {\"t\": 84, \"Model\": \"EFA2 / EFA1\", \"value\": 10.809957490261013}, {\"t\": 85, \"Model\": \"EFA2 / EFA1\", \"value\": 11.633699417740786}, {\"t\": 86, \"Model\": \"EFA2 / EFA1\", \"value\": 11.843658807736006}, {\"t\": 87, \"Model\": \"EFA2 / EFA1\", \"value\": 11.641385407322673}, {\"t\": 88, \"Model\": \"EFA2 / EFA1\", \"value\": 11.897382283012291}, {\"t\": 89, \"Model\": \"EFA2 / EFA1\", \"value\": 12.344550866084205}, {\"t\": 90, \"Model\": \"EFA2 / EFA1\", \"value\": 13.262796165519376}, {\"t\": 91, \"Model\": \"EFA2 / EFA1\", \"value\": 17.636860247078403}, {\"t\": 92, \"Model\": \"EFA2 / EFA1\", \"value\": 16.899881494179056}, {\"t\": 93, \"Model\": \"EFA2 / EFA1\", \"value\": 16.463062894979657}, {\"t\": 94, \"Model\": \"EFA2 / EFA1\", \"value\": 16.53039438750011}, {\"t\": 95, \"Model\": \"EFA2 / EFA1\", \"value\": 18.792578238240253}, {\"t\": 96, \"Model\": \"EFA2 / EFA1\", \"value\": 18.72953585875007}, {\"t\": 97, \"Model\": \"EFA2 / EFA1\", \"value\": 19.368002558831108}, {\"t\": 98, \"Model\": \"EFA2 / EFA1\", \"value\": 24.231724049674085}, {\"t\": 99, \"Model\": \"EFA2 / EFA1\", \"value\": 24.458033570129373}, {\"t\": 100, \"Model\": \"EFA2 / EFA1\", \"value\": 24.76593969649832}, {\"t\": 101, \"Model\": \"EFA2 / EFA1\", \"value\": 25.17890375324521}, {\"t\": 102, \"Model\": \"EFA2 / EFA1\", \"value\": 25.671954514943536}, {\"t\": 103, \"Model\": \"EFA2 / EFA1\", \"value\": 27.712038678705767}, {\"t\": 104, \"Model\": \"EFA2 / EFA1\", \"value\": 28.703505248743227}, {\"t\": 105, \"Model\": \"EFA2 / EFA1\", \"value\": 28.86166929047579}, {\"t\": 106, \"Model\": \"EFA2 / EFA1\", \"value\": 28.416779927359244}, {\"t\": 107, \"Model\": \"EFA2 / EFA1\", \"value\": 28.81571945161454}, {\"t\": 108, \"Model\": \"EFA2 / EFA1\", \"value\": 30.10601861358782}, {\"t\": 109, \"Model\": \"EFA2 / EFA1\", \"value\": 30.264893530984068}, {\"t\": 110, \"Model\": \"EFA2 / EFA1\", \"value\": 31.090660177399513}, {\"t\": 111, \"Model\": \"EFA2 / EFA1\", \"value\": 30.957262321310623}, {\"t\": 112, \"Model\": \"EFA2 / EFA1\", \"value\": 31.042079749962568}, {\"t\": 113, \"Model\": \"EFA2 / EFA1\", \"value\": 30.88087440889103}, {\"t\": 114, \"Model\": \"EFA2 / EFA1\", \"value\": 33.03324762249542}, {\"t\": 115, \"Model\": \"EFA2 / EFA1\", \"value\": 33.32334578576558}, {\"t\": 116, \"Model\": \"EFA2 / EFA1\", \"value\": 32.875089135114536}, {\"t\": 117, \"Model\": \"EFA2 / EFA1\", \"value\": 33.66623786650291}, {\"t\": 118, \"Model\": \"EFA2 / EFA1\", \"value\": 33.85982505924687}, {\"t\": 119, \"Model\": \"EFA2 / EFA1\", \"value\": 33.943442923874045}, {\"t\": 120, \"Model\": \"EFA2 / EFA1\", \"value\": 33.532002510821144}, {\"t\": 121, \"Model\": \"EFA2 / EFA1\", \"value\": 34.40919237442233}, {\"t\": 122, \"Model\": \"EFA2 / EFA1\", \"value\": 34.02713251792943}, {\"t\": 123, \"Model\": \"EFA2 / EFA1\", \"value\": 33.7241776030055}, {\"t\": 124, \"Model\": \"EFA2 / EFA1\", \"value\": 33.79865507303509}, {\"t\": 125, \"Model\": \"EFA2 / EFA1\", \"value\": 35.63853221151089}, {\"t\": 126, \"Model\": \"EFA2 / EFA1\", \"value\": 36.24053252453916}, {\"t\": 127, \"Model\": \"EFA2 / EFA1\", \"value\": 36.510286943737924}, {\"t\": 128, \"Model\": \"EFA2 / EFA1\", \"value\": 36.85503099369896}, {\"t\": 129, \"Model\": \"EFA2 / EFA1\", \"value\": 38.01366319182546}, {\"t\": 130, \"Model\": \"EFA2 / EFA1\", \"value\": 38.23733506693043}, {\"t\": 131, \"Model\": \"EFA2 / EFA1\", \"value\": 38.476703791045566}, {\"t\": 132, \"Model\": \"EFA2 / EFA1\", \"value\": 39.90674172702256}, {\"t\": 133, \"Model\": \"EFA2 / EFA1\", \"value\": 40.31938420821359}, {\"t\": 134, \"Model\": \"EFA2 / EFA1\", \"value\": 40.061544085022774}, {\"t\": 135, \"Model\": \"EFA2 / EFA1\", \"value\": 39.15895966858409}, {\"t\": 136, \"Model\": \"EFA2 / EFA1\", \"value\": 41.28704156853121}, {\"t\": 137, \"Model\": \"EFA2 / EFA1\", \"value\": 39.95831301818896}, {\"t\": 138, \"Model\": \"EFA2 / EFA1\", \"value\": 40.668098907539616}, {\"t\": 139, \"Model\": \"EFA2 / EFA1\", \"value\": 41.25778585430521}, {\"t\": 140, \"Model\": \"EFA2 / EFA1\", \"value\": 41.47572538576662}, {\"t\": 141, \"Model\": \"EFA2 / EFA1\", \"value\": 40.04310592257218}, {\"t\": 142, \"Model\": \"EFA2 / EFA1\", \"value\": 40.30338400000983}, {\"t\": 143, \"Model\": \"EFA2 / EFA1\", \"value\": 40.33662034467602}, {\"t\": 144, \"Model\": \"EFA2 / EFA1\", \"value\": 40.78687738706196}, {\"t\": 145, \"Model\": \"EFA2 / EFA1\", \"value\": 41.09074387479666}, {\"t\": 146, \"Model\": \"EFA2 / EFA1\", \"value\": 41.227083900194316}, {\"t\": 147, \"Model\": \"EFA2 / EFA1\", \"value\": 41.2291875134199}, {\"t\": 148, \"Model\": \"EFA2 / EFA1\", \"value\": 41.55145774296011}, {\"t\": 149, \"Model\": \"EFA2 / EFA1\", \"value\": 42.86350976892595}, {\"t\": 150, \"Model\": \"EFA2 / EFA1\", \"value\": 42.28376374175707}, {\"t\": 151, \"Model\": \"EFA2 / EFA1\", \"value\": 42.539975878566565}, {\"t\": 152, \"Model\": \"EFA2 / EFA1\", \"value\": 44.545182978969024}, {\"t\": 153, \"Model\": \"EFA2 / EFA1\", \"value\": 44.053051076380484}, {\"t\": 154, \"Model\": \"EFA2 / EFA1\", \"value\": 46.615825788846564}, {\"t\": 155, \"Model\": \"EFA2 / EFA1\", \"value\": 46.71352132257448}, {\"t\": 156, \"Model\": \"EFA2 / EFA1\", \"value\": 48.1515135034914}, {\"t\": 157, \"Model\": \"EFA2 / EFA1\", \"value\": 51.49719745664379}, {\"t\": 158, \"Model\": \"EFA2 / EFA1\", \"value\": 51.289893393974694}, {\"t\": 159, \"Model\": \"EFA2 / EFA1\", \"value\": 50.47539879158683}, {\"t\": 160, \"Model\": \"EFA2 / EFA1\", \"value\": 51.14603602810189}, {\"t\": 161, \"Model\": \"EFA2 / EFA1\", \"value\": 52.0853267197308}, {\"t\": 162, \"Model\": \"EFA2 / EFA1\", \"value\": 51.729656184553505}, {\"t\": 163, \"Model\": \"EFA2 / EFA1\", \"value\": 51.81967855902849}, {\"t\": 164, \"Model\": \"EFA2 / EFA1\", \"value\": 51.880306210285426}, {\"t\": 165, \"Model\": \"EFA2 / EFA1\", \"value\": 52.07227715033787}, {\"t\": 166, \"Model\": \"EFA2 / EFA1\", \"value\": 51.8347415999433}, {\"t\": 167, \"Model\": \"EFA2 / EFA1\", \"value\": 51.452593019016376}, {\"t\": 168, \"Model\": \"EFA2 / EFA1\", \"value\": 50.926916493324825}, {\"t\": 169, \"Model\": \"EFA2 / EFA1\", \"value\": 51.432331873231306}, {\"t\": 170, \"Model\": \"EFA2 / EFA1\", \"value\": 51.399389597314666}, {\"t\": 171, \"Model\": \"EFA2 / EFA1\", \"value\": 51.885252650050006}, {\"t\": 172, \"Model\": \"EFA2 / EFA1\", \"value\": 51.95073052554403}, {\"t\": 173, \"Model\": \"EFA2 / EFA1\", \"value\": 53.51698354599057}, {\"t\": 174, \"Model\": \"EFA2 / EFA1\", \"value\": 53.72046848337641}, {\"t\": 175, \"Model\": \"EFA2 / EFA1\", \"value\": 52.041025262517906}, {\"t\": 176, \"Model\": \"EFA2 / EFA1\", \"value\": 53.54054817851738}, {\"t\": 177, \"Model\": \"EFA2 / EFA1\", \"value\": 53.906911461089294}, {\"t\": 178, \"Model\": \"EFA2 / EFA1\", \"value\": 53.86849824066803}, {\"t\": 179, \"Model\": \"EFA2 / EFA1\", \"value\": 54.25372708167288}, {\"t\": 180, \"Model\": \"EFA2 / EFA1\", \"value\": 54.347831369141204}, {\"t\": 181, \"Model\": \"EFA2 / EFA1\", \"value\": 54.664782582452744}, {\"t\": 182, \"Model\": \"EFA2 / EFA1\", \"value\": 54.29103402598139}, {\"t\": 183, \"Model\": \"EFA2 / EFA1\", \"value\": 54.21176487954426}, {\"t\": 184, \"Model\": \"EFA2 / EFA1\", \"value\": 54.05692240061694}, {\"t\": 185, \"Model\": \"EFA2 / EFA1\", \"value\": 52.38675262712786}, {\"t\": 186, \"Model\": \"EFA2 / EFA1\", \"value\": 51.9539902879676}, {\"t\": 187, \"Model\": \"EFA2 / EFA1\", \"value\": 52.08838836853943}, {\"t\": 188, \"Model\": \"EFA2 / EFA1\", \"value\": 53.02022135691868}, {\"t\": 189, \"Model\": \"EFA2 / EFA1\", \"value\": 52.978251225614486}, {\"t\": 190, \"Model\": \"EFA2 / EFA1\", \"value\": 53.16747110385336}, {\"t\": 191, \"Model\": \"EFA2 / EFA1\", \"value\": 52.58742911485592}, {\"t\": 192, \"Model\": \"EFA2 / EFA1\", \"value\": 52.95999866838429}, {\"t\": 193, \"Model\": \"EFA2 / EFA1\", \"value\": 55.11782804597692}, {\"t\": 194, \"Model\": \"EFA2 / EFA1\", \"value\": 54.92612744385474}, {\"t\": 195, \"Model\": \"EFA2 / EFA1\", \"value\": 55.37122032325897}, {\"t\": 196, \"Model\": \"EFA2 / EFA1\", \"value\": 54.94672481159682}, {\"t\": 197, \"Model\": \"EFA2 / EFA1\", \"value\": 54.165935937151744}, {\"t\": 198, \"Model\": \"EFA2 / EFA1\", \"value\": 54.697525009415585}, {\"t\": 199, \"Model\": \"EFA2 / EFA1\", \"value\": 54.391501591957194}, {\"t\": 30, \"Model\": \"EFA2 / EFA3\", \"value\": -0.0293711722537342}, {\"t\": 31, \"Model\": \"EFA2 / EFA3\", \"value\": -0.03324492197582529}, {\"t\": 32, \"Model\": \"EFA2 / EFA3\", \"value\": -0.056764102994062426}, {\"t\": 33, \"Model\": \"EFA2 / EFA3\", \"value\": 0.014032899724426784}, {\"t\": 34, \"Model\": \"EFA2 / EFA3\", \"value\": 0.08020847311014023}, {\"t\": 35, \"Model\": \"EFA2 / EFA3\", \"value\": 0.09272531659005523}, {\"t\": 36, \"Model\": \"EFA2 / EFA3\", \"value\": -0.17959828648228893}, {\"t\": 37, \"Model\": \"EFA2 / EFA3\", \"value\": -0.05906636860498793}, {\"t\": 38, \"Model\": \"EFA2 / EFA3\", \"value\": 0.07115844539450222}, {\"t\": 39, \"Model\": \"EFA2 / EFA3\", \"value\": -0.3486738385818171}, {\"t\": 40, \"Model\": \"EFA2 / EFA3\", \"value\": -0.24981193503606391}, {\"t\": 41, \"Model\": \"EFA2 / EFA3\", \"value\": -0.12039779099279713}, {\"t\": 42, \"Model\": \"EFA2 / EFA3\", \"value\": -0.0754974900242189}, {\"t\": 43, \"Model\": \"EFA2 / EFA3\", \"value\": 0.005907986705423696}, {\"t\": 44, \"Model\": \"EFA2 / EFA3\", \"value\": -0.04849912011137292}, {\"t\": 45, \"Model\": \"EFA2 / EFA3\", \"value\": -0.03716798393907084}, {\"t\": 46, \"Model\": \"EFA2 / EFA3\", \"value\": -0.01749209601192092}, {\"t\": 47, \"Model\": \"EFA2 / EFA3\", \"value\": -0.012079125082436803}, {\"t\": 48, \"Model\": \"EFA2 / EFA3\", \"value\": 0.05436608544610522}, {\"t\": 49, \"Model\": \"EFA2 / EFA3\", \"value\": 0.10936711916679087}, {\"t\": 50, \"Model\": \"EFA2 / EFA3\", \"value\": 0.14135665224981153}, {\"t\": 51, \"Model\": \"EFA2 / EFA3\", \"value\": 0.007249759334399641}, {\"t\": 52, \"Model\": \"EFA2 / EFA3\", \"value\": 0.057026237689910886}, {\"t\": 53, \"Model\": \"EFA2 / EFA3\", \"value\": 0.13600165930535013}, {\"t\": 54, \"Model\": \"EFA2 / EFA3\", \"value\": 0.05382895243744201}, {\"t\": 55, \"Model\": \"EFA2 / EFA3\", \"value\": 0.0020256507230556053}, {\"t\": 56, \"Model\": \"EFA2 / EFA3\", \"value\": -0.07318458319727483}, {\"t\": 57, \"Model\": \"EFA2 / EFA3\", \"value\": -0.0264724677732886}, {\"t\": 58, \"Model\": \"EFA2 / EFA3\", \"value\": -0.05292988250187136}, {\"t\": 59, \"Model\": \"EFA2 / EFA3\", \"value\": 0.1070125000974258}, {\"t\": 60, \"Model\": \"EFA2 / EFA3\", \"value\": 0.15918054465623754}, {\"t\": 61, \"Model\": \"EFA2 / EFA3\", \"value\": 0.18496743115869663}, {\"t\": 62, \"Model\": \"EFA2 / EFA3\", \"value\": 0.21891399759340402}, {\"t\": 63, \"Model\": \"EFA2 / EFA3\", \"value\": 0.30209514848019126}, {\"t\": 64, \"Model\": \"EFA2 / EFA3\", \"value\": 0.17064300769089868}, {\"t\": 65, \"Model\": \"EFA2 / EFA3\", \"value\": 0.2159529875938233}, {\"t\": 66, \"Model\": \"EFA2 / EFA3\", \"value\": 0.23921682871440453}, {\"t\": 67, \"Model\": \"EFA2 / EFA3\", \"value\": 0.23120226768628527}, {\"t\": 68, \"Model\": \"EFA2 / EFA3\", \"value\": 0.29873928140233375}, {\"t\": 69, \"Model\": \"EFA2 / EFA3\", \"value\": 0.2555073341937373}, {\"t\": 70, \"Model\": \"EFA2 / EFA3\", \"value\": 0.3135247932121388}, {\"t\": 71, \"Model\": \"EFA2 / EFA3\", \"value\": 0.22947934150357696}, {\"t\": 72, \"Model\": \"EFA2 / EFA3\", \"value\": 0.263494183578473}, {\"t\": 73, \"Model\": \"EFA2 / EFA3\", \"value\": 0.3198783073385698}, {\"t\": 74, \"Model\": \"EFA2 / EFA3\", \"value\": 0.3675230451432867}, {\"t\": 75, \"Model\": \"EFA2 / EFA3\", \"value\": 0.24699678910695866}, {\"t\": 76, \"Model\": \"EFA2 / EFA3\", \"value\": 0.24849276580476953}, {\"t\": 77, \"Model\": \"EFA2 / EFA3\", \"value\": 0.17728783497477707}, {\"t\": 78, \"Model\": \"EFA2 / EFA3\", \"value\": 0.09425139577228947}, {\"t\": 79, \"Model\": \"EFA2 / EFA3\", \"value\": 0.01518615843031057}, {\"t\": 80, \"Model\": \"EFA2 / EFA3\", \"value\": -0.026375244074245074}, {\"t\": 81, \"Model\": \"EFA2 / EFA3\", \"value\": 0.011704376705552022}, {\"t\": 82, \"Model\": \"EFA2 / EFA3\", \"value\": 0.07927299796324405}, {\"t\": 83, \"Model\": \"EFA2 / EFA3\", \"value\": 0.1676788911983067}, {\"t\": 84, \"Model\": \"EFA2 / EFA3\", \"value\": 0.2135565738516334}, {\"t\": 85, \"Model\": \"EFA2 / EFA3\", \"value\": 0.11658003501008807}, {\"t\": 86, \"Model\": \"EFA2 / EFA3\", \"value\": 0.05048054509740041}, {\"t\": 87, \"Model\": \"EFA2 / EFA3\", \"value\": -0.029735818858171115}, {\"t\": 88, \"Model\": \"EFA2 / EFA3\", \"value\": 0.10056089132046964}, {\"t\": 89, \"Model\": \"EFA2 / EFA3\", \"value\": 0.15116438099079232}, {\"t\": 90, \"Model\": \"EFA2 / EFA3\", \"value\": 0.12563220015829302}, {\"t\": 91, \"Model\": \"EFA2 / EFA3\", \"value\": 0.02635069936201262}, {\"t\": 92, \"Model\": \"EFA2 / EFA3\", \"value\": 0.10604561620289132}, {\"t\": 93, \"Model\": \"EFA2 / EFA3\", \"value\": 0.3208459556340131}, {\"t\": 94, \"Model\": \"EFA2 / EFA3\", \"value\": 0.3443865337214902}, {\"t\": 95, \"Model\": \"EFA2 / EFA3\", \"value\": 0.3934694765880522}, {\"t\": 96, \"Model\": \"EFA2 / EFA3\", \"value\": 0.3792576853566061}, {\"t\": 97, \"Model\": \"EFA2 / EFA3\", \"value\": 0.4234009979197708}, {\"t\": 98, \"Model\": \"EFA2 / EFA3\", \"value\": 0.48007401949416817}, {\"t\": 99, \"Model\": \"EFA2 / EFA3\", \"value\": 0.5632853609787389}, {\"t\": 100, \"Model\": \"EFA2 / EFA3\", \"value\": 0.5498316169984037}, {\"t\": 101, \"Model\": \"EFA2 / EFA3\", \"value\": 0.5720575961073564}, {\"t\": 102, \"Model\": \"EFA2 / EFA3\", \"value\": 0.6120472872032678}, {\"t\": 103, \"Model\": \"EFA2 / EFA3\", \"value\": 0.6088522637643337}, {\"t\": 104, \"Model\": \"EFA2 / EFA3\", \"value\": 0.6441142052403848}, {\"t\": 105, \"Model\": \"EFA2 / EFA3\", \"value\": 0.6419059779179861}, {\"t\": 106, \"Model\": \"EFA2 / EFA3\", \"value\": 0.5781301616733572}, {\"t\": 107, \"Model\": \"EFA2 / EFA3\", \"value\": 0.5907763082996098}, {\"t\": 108, \"Model\": \"EFA2 / EFA3\", \"value\": 0.4952124438440251}, {\"t\": 109, \"Model\": \"EFA2 / EFA3\", \"value\": 0.5555964907889575}, {\"t\": 110, \"Model\": \"EFA2 / EFA3\", \"value\": 0.5871995355225863}, {\"t\": 111, \"Model\": \"EFA2 / EFA3\", \"value\": 0.43174469907830826}, {\"t\": 112, \"Model\": \"EFA2 / EFA3\", \"value\": 0.3802649025968776}, {\"t\": 113, \"Model\": \"EFA2 / EFA3\", \"value\": 0.460700137839126}, {\"t\": 114, \"Model\": \"EFA2 / EFA3\", \"value\": -0.5138703312618418}, {\"t\": 115, \"Model\": \"EFA2 / EFA3\", \"value\": -0.4097587244157239}, {\"t\": 116, \"Model\": \"EFA2 / EFA3\", \"value\": -0.5191448144114474}, {\"t\": 117, \"Model\": \"EFA2 / EFA3\", \"value\": -0.44172585215301297}, {\"t\": 118, \"Model\": \"EFA2 / EFA3\", \"value\": -0.42955427190634055}, {\"t\": 119, \"Model\": \"EFA2 / EFA3\", \"value\": -0.4241409282312816}, {\"t\": 120, \"Model\": \"EFA2 / EFA3\", \"value\": -0.3370944956108133}, {\"t\": 121, \"Model\": \"EFA2 / EFA3\", \"value\": -0.2869285210358612}, {\"t\": 122, \"Model\": \"EFA2 / EFA3\", \"value\": -0.23903093783280838}, {\"t\": 123, \"Model\": \"EFA2 / EFA3\", \"value\": -0.21676375131653458}, {\"t\": 124, \"Model\": \"EFA2 / EFA3\", \"value\": -0.1486403052111882}, {\"t\": 125, \"Model\": \"EFA2 / EFA3\", \"value\": -0.13067248754782668}, {\"t\": 126, \"Model\": \"EFA2 / EFA3\", \"value\": -0.13446786193480875}, {\"t\": 127, \"Model\": \"EFA2 / EFA3\", \"value\": -0.14159175195425178}, {\"t\": 128, \"Model\": \"EFA2 / EFA3\", \"value\": -0.07474406719688886}, {\"t\": 129, \"Model\": \"EFA2 / EFA3\", \"value\": -0.011245309015521343}, {\"t\": 130, \"Model\": \"EFA2 / EFA3\", \"value\": -0.048884286784755204}, {\"t\": 131, \"Model\": \"EFA2 / EFA3\", \"value\": 0.017486861468000825}, {\"t\": 132, \"Model\": \"EFA2 / EFA3\", \"value\": 0.09531794879706013}, {\"t\": 133, \"Model\": \"EFA2 / EFA3\", \"value\": 0.13727692141060288}, {\"t\": 134, \"Model\": \"EFA2 / EFA3\", \"value\": 0.20089356901030442}, {\"t\": 135, \"Model\": \"EFA2 / EFA3\", \"value\": -0.0356492117181233}, {\"t\": 136, \"Model\": \"EFA2 / EFA3\", \"value\": 0.0006699313139506557}, {\"t\": 137, \"Model\": \"EFA2 / EFA3\", \"value\": 0.047811081393092536}, {\"t\": 138, \"Model\": \"EFA2 / EFA3\", \"value\": 0.057935027151302165}, {\"t\": 139, \"Model\": \"EFA2 / EFA3\", \"value\": 0.08400237642342745}, {\"t\": 140, \"Model\": \"EFA2 / EFA3\", \"value\": 0.1012525563643294}, {\"t\": 141, \"Model\": \"EFA2 / EFA3\", \"value\": 0.1605929369657133}, {\"t\": 142, \"Model\": \"EFA2 / EFA3\", \"value\": 0.2252482872526116}, {\"t\": 143, \"Model\": \"EFA2 / EFA3\", \"value\": 0.22034522265084888}, {\"t\": 144, \"Model\": \"EFA2 / EFA3\", \"value\": 0.335712661101752}, {\"t\": 145, \"Model\": \"EFA2 / EFA3\", \"value\": 0.34802210287500657}, {\"t\": 146, \"Model\": \"EFA2 / EFA3\", \"value\": 0.35929605637761597}, {\"t\": 147, \"Model\": \"EFA2 / EFA3\", \"value\": 0.3350909261638435}, {\"t\": 148, \"Model\": \"EFA2 / EFA3\", \"value\": 0.39067385161547463}, {\"t\": 149, \"Model\": \"EFA2 / EFA3\", \"value\": 0.2609655554060737}, {\"t\": 150, \"Model\": \"EFA2 / EFA3\", \"value\": 0.2690817016919027}, {\"t\": 151, \"Model\": \"EFA2 / EFA3\", \"value\": 0.23779827542500698}, {\"t\": 152, \"Model\": \"EFA2 / EFA3\", \"value\": 0.26192957310547627}, {\"t\": 153, \"Model\": \"EFA2 / EFA3\", \"value\": 0.38963102677189454}, {\"t\": 154, \"Model\": \"EFA2 / EFA3\", \"value\": 0.3184089962658163}, {\"t\": 155, \"Model\": \"EFA2 / EFA3\", \"value\": 0.2917618466623253}, {\"t\": 156, \"Model\": \"EFA2 / EFA3\", \"value\": 0.25567305608353763}, {\"t\": 157, \"Model\": \"EFA2 / EFA3\", \"value\": 0.18520078617677882}, {\"t\": 158, \"Model\": \"EFA2 / EFA3\", \"value\": 0.2213453500955893}, {\"t\": 159, \"Model\": \"EFA2 / EFA3\", \"value\": 0.35041701387547164}, {\"t\": 160, \"Model\": \"EFA2 / EFA3\", \"value\": 0.34482758049966833}, {\"t\": 161, \"Model\": \"EFA2 / EFA3\", \"value\": 0.30633795938138064}, {\"t\": 162, \"Model\": \"EFA2 / EFA3\", \"value\": 0.3558460419326366}, {\"t\": 163, \"Model\": \"EFA2 / EFA3\", \"value\": 0.3608491741090347}, {\"t\": 164, \"Model\": \"EFA2 / EFA3\", \"value\": 0.4046403284310145}, {\"t\": 165, \"Model\": \"EFA2 / EFA3\", \"value\": 0.45795725742959803}, {\"t\": 166, \"Model\": \"EFA2 / EFA3\", \"value\": 0.5030936351104174}, {\"t\": 167, \"Model\": \"EFA2 / EFA3\", \"value\": 0.5346065074406852}, {\"t\": 168, \"Model\": \"EFA2 / EFA3\", \"value\": 0.652297363223397}, {\"t\": 169, \"Model\": \"EFA2 / EFA3\", \"value\": 0.604179394781795}, {\"t\": 170, \"Model\": \"EFA2 / EFA3\", \"value\": 0.5784081934582446}, {\"t\": 171, \"Model\": \"EFA2 / EFA3\", \"value\": 0.5552538878978339}, {\"t\": 172, \"Model\": \"EFA2 / EFA3\", \"value\": 0.6423357130358909}, {\"t\": 173, \"Model\": \"EFA2 / EFA3\", \"value\": 0.6111029616095038}, {\"t\": 174, \"Model\": \"EFA2 / EFA3\", \"value\": 0.6430423145036457}, {\"t\": 175, \"Model\": \"EFA2 / EFA3\", \"value\": 0.8077199022604873}, {\"t\": 176, \"Model\": \"EFA2 / EFA3\", \"value\": 0.8284829731715035}, {\"t\": 177, \"Model\": \"EFA2 / EFA3\", \"value\": 0.8677422336438667}, {\"t\": 178, \"Model\": \"EFA2 / EFA3\", \"value\": 0.899358291509543}, {\"t\": 179, \"Model\": \"EFA2 / EFA3\", \"value\": 0.8932529136354788}, {\"t\": 180, \"Model\": \"EFA2 / EFA3\", \"value\": 0.9367137983426801}, {\"t\": 181, \"Model\": \"EFA2 / EFA3\", \"value\": 0.9546334230396951}, {\"t\": 182, \"Model\": \"EFA2 / EFA3\", \"value\": 0.9913107703941932}, {\"t\": 183, \"Model\": \"EFA2 / EFA3\", \"value\": 0.9891727509111661}, {\"t\": 184, \"Model\": \"EFA2 / EFA3\", \"value\": 1.026020409553439}, {\"t\": 185, \"Model\": \"EFA2 / EFA3\", \"value\": 0.9416710316745593}, {\"t\": 186, \"Model\": \"EFA2 / EFA3\", \"value\": 0.9294546263065513}, {\"t\": 187, \"Model\": \"EFA2 / EFA3\", \"value\": 0.9874221810243853}, {\"t\": 188, \"Model\": \"EFA2 / EFA3\", \"value\": 0.9804476089541367}, {\"t\": 189, \"Model\": \"EFA2 / EFA3\", \"value\": 0.9931718205191373}, {\"t\": 190, \"Model\": \"EFA2 / EFA3\", \"value\": 1.0188130776516573}, {\"t\": 191, \"Model\": \"EFA2 / EFA3\", \"value\": 1.1010025232669705}, {\"t\": 192, \"Model\": \"EFA2 / EFA3\", \"value\": 1.1099447107092146}, {\"t\": 193, \"Model\": \"EFA2 / EFA3\", \"value\": 1.1518761595662}, {\"t\": 194, \"Model\": \"EFA2 / EFA3\", \"value\": 1.1764778542294607}, {\"t\": 195, \"Model\": \"EFA2 / EFA3\", \"value\": 1.1976641748419752}, {\"t\": 196, \"Model\": \"EFA2 / EFA3\", \"value\": 1.174137280299874}, {\"t\": 197, \"Model\": \"EFA2 / EFA3\", \"value\": 1.248036051536701}, {\"t\": 198, \"Model\": \"EFA2 / EFA3\", \"value\": 1.2329722055408183}, {\"t\": 199, \"Model\": \"EFA2 / EFA3\", \"value\": 1.171552195721688}]}}, {\"mode\": \"vega-lite\"});\n",
       "</script>"
      ],
      "text/plain": [
       "alt.Chart(...)"
      ]
     },
     "execution_count": 6,
     "metadata": {},
     "output_type": "execute_result"
    }
   ],
   "source": [
    "bfdf = pd.DataFrame.from_dict(bf)\n",
    "bfdf.rename({\n",
    "    'm5':'AZ', \n",
    "    'm7':'EZ',\n",
    "    'm9':'EFA2',\n",
    "#     'm10':'EFA2.C',\n",
    "    'm15':'EFA1',\n",
    "    'm16':'EFA3'\n",
    "}, axis=1, inplace=True)\n",
    "\n",
    "bfdf['t']  = np.arange(30, len(bfdf)+30)\n",
    "for i in ['EFA1', 'EFA3']:\n",
    "    bfdf['EFA2 / '+str(i)] = bfdf['EFA2']-bfdf[str(i)]\n",
    "bfdf.drop(['EFA2', 'EFA1', 'EZ', 'EFA3', 'AZ'], axis=1, inplace=True)\n",
    "bfdf = bfdf.melt(id_vars='t', var_name='Model')\n",
    "\n",
    "width = 600\n",
    "height = 400\n",
    "c = alt.Chart(bfdf).mark_line(\n",
    "    strokeWidth = 2,\n",
    "    ).encode(\n",
    "    alt.X('t:Q', title='Index i', scale=alt.Scale(domain=[0,200])),\n",
    "    alt.Y('value:Q', title='Log Bayes Factor'),\n",
    "    alt.Color('Model')\n",
    "    ).properties(\n",
    "    width=width, height=height\n",
    "    ).configure_legend(\n",
    "    titleFontSize=16,\n",
    "    labelFontSize=14,\n",
    "    symbolStrokeWidth=6\n",
    "    ).configure_axis(\n",
    "    labelFontSize=14,\n",
    "    titleFontSize=16\n",
    ")\n",
    "c"
   ]
  },
  {
   "cell_type": "code",
   "execution_count": 7,
   "metadata": {},
   "outputs": [
    {
     "data": {
      "text/html": [
       "\n",
       "<div id=\"altair-viz-00b14a4f3d3144069dd84a6ba28171b9\"></div>\n",
       "<script type=\"text/javascript\">\n",
       "  (function(spec, embedOpt){\n",
       "    let outputDiv = document.currentScript.previousElementSibling;\n",
       "    if (outputDiv.id !== \"altair-viz-00b14a4f3d3144069dd84a6ba28171b9\") {\n",
       "      outputDiv = document.getElementById(\"altair-viz-00b14a4f3d3144069dd84a6ba28171b9\");\n",
       "    }\n",
       "    const paths = {\n",
       "      \"vega\": \"https://cdn.jsdelivr.net/npm//vega@5?noext\",\n",
       "      \"vega-lib\": \"https://cdn.jsdelivr.net/npm//vega-lib?noext\",\n",
       "      \"vega-lite\": \"https://cdn.jsdelivr.net/npm//vega-lite@4.8.1?noext\",\n",
       "      \"vega-embed\": \"https://cdn.jsdelivr.net/npm//vega-embed@6?noext\",\n",
       "    };\n",
       "\n",
       "    function loadScript(lib) {\n",
       "      return new Promise(function(resolve, reject) {\n",
       "        var s = document.createElement('script');\n",
       "        s.src = paths[lib];\n",
       "        s.async = true;\n",
       "        s.onload = () => resolve(paths[lib]);\n",
       "        s.onerror = () => reject(`Error loading script: ${paths[lib]}`);\n",
       "        document.getElementsByTagName(\"head\")[0].appendChild(s);\n",
       "      });\n",
       "    }\n",
       "\n",
       "    function showError(err) {\n",
       "      outputDiv.innerHTML = `<div class=\"error\" style=\"color:red;\">${err}</div>`;\n",
       "      throw err;\n",
       "    }\n",
       "\n",
       "    function displayChart(vegaEmbed) {\n",
       "      vegaEmbed(outputDiv, spec, embedOpt)\n",
       "        .catch(err => showError(`Javascript Error: ${err.message}<br>This usually means there's a typo in your chart specification. See the javascript console for the full traceback.`));\n",
       "    }\n",
       "\n",
       "    if(typeof define === \"function\" && define.amd) {\n",
       "      requirejs.config({paths});\n",
       "      require([\"vega-embed\"], displayChart, err => showError(`Error loading script: ${err.message}`));\n",
       "    } else if (typeof vegaEmbed === \"function\") {\n",
       "      displayChart(vegaEmbed);\n",
       "    } else {\n",
       "      loadScript(\"vega\")\n",
       "        .then(() => loadScript(\"vega-lite\"))\n",
       "        .then(() => loadScript(\"vega-embed\"))\n",
       "        .catch(showError)\n",
       "        .then(() => displayChart(vegaEmbed));\n",
       "    }\n",
       "  })({\"config\": {\"view\": {\"continuousWidth\": 400, \"continuousHeight\": 300}, \"axis\": {\"labelFontSize\": 14, \"titleFontSize\": 16}, \"legend\": {\"labelFontSize\": 14, \"symbolStrokeWidth\": 6, \"titleFontSize\": 16}}, \"data\": {\"name\": \"data-1a42e9dc7d2caa5e224f74752d58ae60\"}, \"mark\": {\"type\": \"line\", \"strokeWidth\": 2}, \"encoding\": {\"color\": {\"type\": \"nominal\", \"field\": \"Model\"}, \"x\": {\"type\": \"quantitative\", \"field\": \"t\", \"scale\": {\"domain\": [0, 200]}, \"title\": \"Index i\"}, \"y\": {\"type\": \"quantitative\", \"field\": \"value\", \"title\": \"Log Bayes Factor\"}}, \"height\": 400, \"selection\": {\"selector002\": {\"type\": \"interval\", \"bind\": \"scales\", \"encodings\": [\"x\", \"y\"]}}, \"width\": 600, \"$schema\": \"https://vega.github.io/schema/vega-lite/v4.8.1.json\", \"datasets\": {\"data-1a42e9dc7d2caa5e224f74752d58ae60\": [{\"t\": 30, \"Model\": \"AZ / EFA2\", \"value\": 1.104965856012674}, {\"t\": 31, \"Model\": \"AZ / EFA2\", \"value\": 1.004162764086928}, {\"t\": 32, \"Model\": \"AZ / EFA2\", \"value\": 1.2393966627301225}, {\"t\": 33, \"Model\": \"AZ / EFA2\", \"value\": 1.3222175512906134}, {\"t\": 34, \"Model\": \"AZ / EFA2\", \"value\": 1.0095403603960165}, {\"t\": 35, \"Model\": \"AZ / EFA2\", \"value\": 1.2659388166413663}, {\"t\": 36, \"Model\": \"AZ / EFA2\", \"value\": 2.4298920882133572}, {\"t\": 37, \"Model\": \"AZ / EFA2\", \"value\": 2.545613896603527}, {\"t\": 38, \"Model\": \"AZ / EFA2\", \"value\": 2.438983941901398}, {\"t\": 39, \"Model\": \"AZ / EFA2\", \"value\": 3.177345067980667}, {\"t\": 40, \"Model\": \"AZ / EFA2\", \"value\": 3.317376148526435}, {\"t\": 41, \"Model\": \"AZ / EFA2\", \"value\": 3.497640026058164}, {\"t\": 42, \"Model\": \"AZ / EFA2\", \"value\": 3.8567935495407255}, {\"t\": 43, \"Model\": \"AZ / EFA2\", \"value\": 3.526512832831969}, {\"t\": 44, \"Model\": \"AZ / EFA2\", \"value\": 3.486173961131911}, {\"t\": 45, \"Model\": \"AZ / EFA2\", \"value\": 2.8596747223659236}, {\"t\": 46, \"Model\": \"AZ / EFA2\", \"value\": 3.2771178375111276}, {\"t\": 47, \"Model\": \"AZ / EFA2\", \"value\": 3.2667770951241266}, {\"t\": 48, \"Model\": \"AZ / EFA2\", \"value\": 3.2647719985205015}, {\"t\": 49, \"Model\": \"AZ / EFA2\", \"value\": 3.2600499000383536}, {\"t\": 50, \"Model\": \"AZ / EFA2\", \"value\": 2.794328063062011}, {\"t\": 51, \"Model\": \"AZ / EFA2\", \"value\": 2.7168849987070303}, {\"t\": 52, \"Model\": \"AZ / EFA2\", \"value\": 2.5063431958404863}, {\"t\": 53, \"Model\": \"AZ / EFA2\", \"value\": 2.591666752727093}, {\"t\": 54, \"Model\": \"AZ / EFA2\", \"value\": 2.6083425690733577}, {\"t\": 55, \"Model\": \"AZ / EFA2\", \"value\": 2.5831948104844003}, {\"t\": 56, \"Model\": \"AZ / EFA2\", \"value\": 2.4258281478705044}, {\"t\": 57, \"Model\": \"AZ / EFA2\", \"value\": 2.1586873439865144}, {\"t\": 58, \"Model\": \"AZ / EFA2\", \"value\": 2.2956640254779472}, {\"t\": 59, \"Model\": \"AZ / EFA2\", \"value\": 2.20265768837794}, {\"t\": 60, \"Model\": \"AZ / EFA2\", \"value\": 2.233141691296595}, {\"t\": 61, \"Model\": \"AZ / EFA2\", \"value\": 2.3294498087398097}, {\"t\": 62, \"Model\": \"AZ / EFA2\", \"value\": 2.503164013595608}, {\"t\": 63, \"Model\": \"AZ / EFA2\", \"value\": 3.2960829214002842}, {\"t\": 64, \"Model\": \"AZ / EFA2\", \"value\": 3.48670268388463}, {\"t\": 65, \"Model\": \"AZ / EFA2\", \"value\": 3.553331726154056}, {\"t\": 66, \"Model\": \"AZ / EFA2\", \"value\": 3.501203747756165}, {\"t\": 67, \"Model\": \"AZ / EFA2\", \"value\": 3.6652905862782745}, {\"t\": 68, \"Model\": \"AZ / EFA2\", \"value\": 3.583567809090141}, {\"t\": 69, \"Model\": \"AZ / EFA2\", \"value\": 3.5766254351166253}, {\"t\": 70, \"Model\": \"AZ / EFA2\", \"value\": 3.6969518327327933}, {\"t\": 71, \"Model\": \"AZ / EFA2\", \"value\": 2.9860366899133624}, {\"t\": 72, \"Model\": \"AZ / EFA2\", \"value\": 3.0333053521509896}, {\"t\": 73, \"Model\": \"AZ / EFA2\", \"value\": 3.041466057070238}, {\"t\": 74, \"Model\": \"AZ / EFA2\", \"value\": 3.017252118195131}, {\"t\": 75, \"Model\": \"AZ / EFA2\", \"value\": 3.3319303442059436}, {\"t\": 76, \"Model\": \"AZ / EFA2\", \"value\": 2.8832036686152946}, {\"t\": 77, \"Model\": \"AZ / EFA2\", \"value\": 3.0710681186716897}, {\"t\": 78, \"Model\": \"AZ / EFA2\", \"value\": 2.6527478163175147}, {\"t\": 79, \"Model\": \"AZ / EFA2\", \"value\": 2.4338952645923655}, {\"t\": 80, \"Model\": \"AZ / EFA2\", \"value\": 2.6660076625562965}, {\"t\": 81, \"Model\": \"AZ / EFA2\", \"value\": 2.650511056062271}, {\"t\": 82, \"Model\": \"AZ / EFA2\", \"value\": 2.5744100360215043}, {\"t\": 83, \"Model\": \"AZ / EFA2\", \"value\": 2.648793056023635}, {\"t\": 84, \"Model\": \"AZ / EFA2\", \"value\": 2.753464430895235}, {\"t\": 85, \"Model\": \"AZ / EFA2\", \"value\": 2.9297760895659053}, {\"t\": 86, \"Model\": \"AZ / EFA2\", \"value\": 3.013179758232752}, {\"t\": 87, \"Model\": \"AZ / EFA2\", \"value\": 3.1176508227389377}, {\"t\": 88, \"Model\": \"AZ / EFA2\", \"value\": 2.517295622046788}, {\"t\": 89, \"Model\": \"AZ / EFA2\", \"value\": 2.409086053808153}, {\"t\": 90, \"Model\": \"AZ / EFA2\", \"value\": 2.384353902454677}, {\"t\": 91, \"Model\": \"AZ / EFA2\", \"value\": 1.8960349242033772}, {\"t\": 92, \"Model\": \"AZ / EFA2\", \"value\": 2.0063317651745933}, {\"t\": 93, \"Model\": \"AZ / EFA2\", \"value\": 2.1865176480912965}, {\"t\": 94, \"Model\": \"AZ / EFA2\", \"value\": 2.225913452051941}, {\"t\": 95, \"Model\": \"AZ / EFA2\", \"value\": 2.095161990687643}, {\"t\": 96, \"Model\": \"AZ / EFA2\", \"value\": 2.016635888171436}, {\"t\": 97, \"Model\": \"AZ / EFA2\", \"value\": 1.9570835248915728}, {\"t\": 98, \"Model\": \"AZ / EFA2\", \"value\": 1.4465713251247507}, {\"t\": 99, \"Model\": \"AZ / EFA2\", \"value\": 1.5192256964728585}, {\"t\": 100, \"Model\": \"AZ / EFA2\", \"value\": 1.513068879284333}, {\"t\": 101, \"Model\": \"AZ / EFA2\", \"value\": 1.3356609387660683}, {\"t\": 102, \"Model\": \"AZ / EFA2\", \"value\": 1.2938281571919106}, {\"t\": 103, \"Model\": \"AZ / EFA2\", \"value\": 1.0551079352970874}, {\"t\": 104, \"Model\": \"AZ / EFA2\", \"value\": 0.9849477493588665}, {\"t\": 105, \"Model\": \"AZ / EFA2\", \"value\": 1.0315930134988776}, {\"t\": 106, \"Model\": \"AZ / EFA2\", \"value\": 1.1754656460369688}, {\"t\": 107, \"Model\": \"AZ / EFA2\", \"value\": 1.2238016796734428}, {\"t\": 108, \"Model\": \"AZ / EFA2\", \"value\": 1.1430967231339082}, {\"t\": 109, \"Model\": \"AZ / EFA2\", \"value\": 1.1822021747806275}, {\"t\": 110, \"Model\": \"AZ / EFA2\", \"value\": 1.084005502388436}, {\"t\": 111, \"Model\": \"AZ / EFA2\", \"value\": 1.3971431634648752}, {\"t\": 112, \"Model\": \"AZ / EFA2\", \"value\": 1.2741975585399814}, {\"t\": 113, \"Model\": \"AZ / EFA2\", \"value\": 1.2053019935539169}, {\"t\": 114, \"Model\": \"AZ / EFA2\", \"value\": 1.5925232868346484}, {\"t\": 115, \"Model\": \"AZ / EFA2\", \"value\": 1.693036495448382}, {\"t\": 116, \"Model\": \"AZ / EFA2\", \"value\": 1.8486150980810407}, {\"t\": 117, \"Model\": \"AZ / EFA2\", \"value\": 1.648718013477037}, {\"t\": 118, \"Model\": \"AZ / EFA2\", \"value\": 1.6475093255586444}, {\"t\": 119, \"Model\": \"AZ / EFA2\", \"value\": 1.679703114879885}, {\"t\": 120, \"Model\": \"AZ / EFA2\", \"value\": 1.704073980458702}, {\"t\": 121, \"Model\": \"AZ / EFA2\", \"value\": 1.6704854306869947}, {\"t\": 122, \"Model\": \"AZ / EFA2\", \"value\": 1.6802818414768126}, {\"t\": 123, \"Model\": \"AZ / EFA2\", \"value\": 1.9279994358395243}, {\"t\": 124, \"Model\": \"AZ / EFA2\", \"value\": 2.0766151566672306}, {\"t\": 125, \"Model\": \"AZ / EFA2\", \"value\": 1.911499544583421}, {\"t\": 126, \"Model\": \"AZ / EFA2\", \"value\": 1.8950484842439437}, {\"t\": 127, \"Model\": \"AZ / EFA2\", \"value\": 1.9106122864004647}, {\"t\": 128, \"Model\": \"AZ / EFA2\", \"value\": 1.7563433064102583}, {\"t\": 129, \"Model\": \"AZ / EFA2\", \"value\": 1.5317144986893254}, {\"t\": 130, \"Model\": \"AZ / EFA2\", \"value\": 1.488296934023424}, {\"t\": 131, \"Model\": \"AZ / EFA2\", \"value\": 1.5055573492021495}, {\"t\": 132, \"Model\": \"AZ / EFA2\", \"value\": 1.354679482352367}, {\"t\": 133, \"Model\": \"AZ / EFA2\", \"value\": 1.3453156806739344}, {\"t\": 134, \"Model\": \"AZ / EFA2\", \"value\": 1.4172953907024066}, {\"t\": 135, \"Model\": \"AZ / EFA2\", \"value\": 1.7706409616247356}, {\"t\": 136, \"Model\": \"AZ / EFA2\", \"value\": 1.6068666384825292}, {\"t\": 137, \"Model\": \"AZ / EFA2\", \"value\": 1.783379740225314}, {\"t\": 138, \"Model\": \"AZ / EFA2\", \"value\": 1.7089106184620277}, {\"t\": 139, \"Model\": \"AZ / EFA2\", \"value\": 1.6827596368215154}, {\"t\": 140, \"Model\": \"AZ / EFA2\", \"value\": 1.6708996560308833}, {\"t\": 141, \"Model\": \"AZ / EFA2\", \"value\": 1.8190957791055098}, {\"t\": 142, \"Model\": \"AZ / EFA2\", \"value\": 1.6844662821555403}, {\"t\": 143, \"Model\": \"AZ / EFA2\", \"value\": 1.7256696406265064}, {\"t\": 144, \"Model\": \"AZ / EFA2\", \"value\": 1.6679458504314653}, {\"t\": 145, \"Model\": \"AZ / EFA2\", \"value\": 1.7270751826144988}, {\"t\": 146, \"Model\": \"AZ / EFA2\", \"value\": 1.8924727249568605}, {\"t\": 147, \"Model\": \"AZ / EFA2\", \"value\": 2.0092239367328375}, {\"t\": 148, \"Model\": \"AZ / EFA2\", \"value\": 2.088141928492746}, {\"t\": 149, \"Model\": \"AZ / EFA2\", \"value\": 1.824051898171433}, {\"t\": 150, \"Model\": \"AZ / EFA2\", \"value\": 1.8621758637523271}, {\"t\": 151, \"Model\": \"AZ / EFA2\", \"value\": 1.9094393518988682}, {\"t\": 152, \"Model\": \"AZ / EFA2\", \"value\": 1.783878225317494}, {\"t\": 153, \"Model\": \"AZ / EFA2\", \"value\": 1.7952144225378106}, {\"t\": 154, \"Model\": \"AZ / EFA2\", \"value\": 1.7306043505956268}, {\"t\": 155, \"Model\": \"AZ / EFA2\", \"value\": 1.6389354442248987}, {\"t\": 156, \"Model\": \"AZ / EFA2\", \"value\": 1.5482844288573006}, {\"t\": 157, \"Model\": \"AZ / EFA2\", \"value\": 1.3511083555882806}, {\"t\": 158, \"Model\": \"AZ / EFA2\", \"value\": 1.4340716919299439}, {\"t\": 159, \"Model\": \"AZ / EFA2\", \"value\": 1.4899829235486095}, {\"t\": 160, \"Model\": \"AZ / EFA2\", \"value\": 1.5101726805737599}, {\"t\": 161, \"Model\": \"AZ / EFA2\", \"value\": 1.5527311429181054}, {\"t\": 162, \"Model\": \"AZ / EFA2\", \"value\": 1.5486319974777416}, {\"t\": 163, \"Model\": \"AZ / EFA2\", \"value\": 1.6367595979972975}, {\"t\": 164, \"Model\": \"AZ / EFA2\", \"value\": 1.6360718839025594}, {\"t\": 165, \"Model\": \"AZ / EFA2\", \"value\": 1.6316034088463311}, {\"t\": 166, \"Model\": \"AZ / EFA2\", \"value\": 1.681041098186597}, {\"t\": 167, \"Model\": \"AZ / EFA2\", \"value\": 1.8024606503786345}, {\"t\": 168, \"Model\": \"AZ / EFA2\", \"value\": 1.7770946083878698}, {\"t\": 169, \"Model\": \"AZ / EFA2\", \"value\": 1.8277349803429388}, {\"t\": 170, \"Model\": \"AZ / EFA2\", \"value\": 1.7982633841324969}, {\"t\": 171, \"Model\": \"AZ / EFA2\", \"value\": 1.747295851743047}, {\"t\": 172, \"Model\": \"AZ / EFA2\", \"value\": 1.7717229330996815}, {\"t\": 173, \"Model\": \"AZ / EFA2\", \"value\": 1.7784736075586807}, {\"t\": 174, \"Model\": \"AZ / EFA2\", \"value\": 1.7012188322107704}, {\"t\": 175, \"Model\": \"AZ / EFA2\", \"value\": 1.9679631768053696}, {\"t\": 176, \"Model\": \"AZ / EFA2\", \"value\": 1.8467091981540307}, {\"t\": 177, \"Model\": \"AZ / EFA2\", \"value\": 1.8526257513690325}, {\"t\": 178, \"Model\": \"AZ / EFA2\", \"value\": 1.8855257047757732}, {\"t\": 179, \"Model\": \"AZ / EFA2\", \"value\": 1.9866790263508847}, {\"t\": 180, \"Model\": \"AZ / EFA2\", \"value\": 1.9907459016683333}, {\"t\": 181, \"Model\": \"AZ / EFA2\", \"value\": 1.9233453795382047}, {\"t\": 182, \"Model\": \"AZ / EFA2\", \"value\": 1.8148058497404236}, {\"t\": 183, \"Model\": \"AZ / EFA2\", \"value\": 1.8513327028315416}, {\"t\": 184, \"Model\": \"AZ / EFA2\", \"value\": 1.9011103735340384}, {\"t\": 185, \"Model\": \"AZ / EFA2\", \"value\": 2.116273346553726}, {\"t\": 186, \"Model\": \"AZ / EFA2\", \"value\": 2.206991566689794}, {\"t\": 187, \"Model\": \"AZ / EFA2\", \"value\": 2.1684445941959893}, {\"t\": 188, \"Model\": \"AZ / EFA2\", \"value\": 2.1883103167353966}, {\"t\": 189, \"Model\": \"AZ / EFA2\", \"value\": 2.2644547850641175}, {\"t\": 190, \"Model\": \"AZ / EFA2\", \"value\": 2.2110139718895425}, {\"t\": 191, \"Model\": \"AZ / EFA2\", \"value\": 2.252441850843752}, {\"t\": 192, \"Model\": \"AZ / EFA2\", \"value\": 2.2307497855608744}, {\"t\": 193, \"Model\": \"AZ / EFA2\", \"value\": 2.145871441715144}, {\"t\": 194, \"Model\": \"AZ / EFA2\", \"value\": 2.0922765751531642}, {\"t\": 195, \"Model\": \"AZ / EFA2\", \"value\": 2.249440887745095}, {\"t\": 196, \"Model\": \"AZ / EFA2\", \"value\": 2.3541631486179995}, {\"t\": 197, \"Model\": \"AZ / EFA2\", \"value\": 2.3722885830152336}, {\"t\": 198, \"Model\": \"AZ / EFA2\", \"value\": 2.3629372787527245}, {\"t\": 199, \"Model\": \"AZ / EFA2\", \"value\": 2.5870534507723733}, {\"t\": 30, \"Model\": \"AZ / EZ\", \"value\": 0.8483642217294847}, {\"t\": 31, \"Model\": \"AZ / EZ\", \"value\": 1.3226446348249752}, {\"t\": 32, \"Model\": \"AZ / EZ\", \"value\": 1.0603649612704125}, {\"t\": 33, \"Model\": \"AZ / EZ\", \"value\": 1.1356455260676483}, {\"t\": 34, \"Model\": \"AZ / EZ\", \"value\": 1.4922183399319948}, {\"t\": 35, \"Model\": \"AZ / EZ\", \"value\": 1.4078511364345374}, {\"t\": 36, \"Model\": \"AZ / EZ\", \"value\": 0.6627874974037695}, {\"t\": 37, \"Model\": \"AZ / EZ\", \"value\": 0.46413502530292305}, {\"t\": 38, \"Model\": \"AZ / EZ\", \"value\": 0.4966985914484354}, {\"t\": 39, \"Model\": \"AZ / EZ\", \"value\": 0.4818092557881073}, {\"t\": 40, \"Model\": \"AZ / EZ\", \"value\": 0.4547925638268282}, {\"t\": 41, \"Model\": \"AZ / EZ\", \"value\": 0.4134904048943753}, {\"t\": 42, \"Model\": \"AZ / EZ\", \"value\": 0.23526349936319946}, {\"t\": 43, \"Model\": \"AZ / EZ\", \"value\": 0.16335576944780428}, {\"t\": 44, \"Model\": \"AZ / EZ\", \"value\": -0.03237524836134753}, {\"t\": 45, \"Model\": \"AZ / EZ\", \"value\": 0.22785814139530203}, {\"t\": 46, \"Model\": \"AZ / EZ\", \"value\": 0.21354013914830716}, {\"t\": 47, \"Model\": \"AZ / EZ\", \"value\": 0.15288331230499352}, {\"t\": 48, \"Model\": \"AZ / EZ\", \"value\": 0.4894021246065563}, {\"t\": 49, \"Model\": \"AZ / EZ\", \"value\": 0.4797982938451355}, {\"t\": 50, \"Model\": \"AZ / EZ\", \"value\": 0.6650878419061144}, {\"t\": 51, \"Model\": \"AZ / EZ\", \"value\": 0.6486576776045752}, {\"t\": 52, \"Model\": \"AZ / EZ\", \"value\": 0.7290559284121798}, {\"t\": 53, \"Model\": \"AZ / EZ\", \"value\": 0.7393124845670229}, {\"t\": 54, \"Model\": \"AZ / EZ\", \"value\": 0.8913963469007058}, {\"t\": 55, \"Model\": \"AZ / EZ\", \"value\": 1.3642263114481636}, {\"t\": 56, \"Model\": \"AZ / EZ\", \"value\": 1.4448008336028124}, {\"t\": 57, \"Model\": \"AZ / EZ\", \"value\": 1.7350034515736468}, {\"t\": 58, \"Model\": \"AZ / EZ\", \"value\": 1.7021901856599868}, {\"t\": 59, \"Model\": \"AZ / EZ\", \"value\": 1.7220783512405546}, {\"t\": 60, \"Model\": \"AZ / EZ\", \"value\": 1.7386094252690327}, {\"t\": 61, \"Model\": \"AZ / EZ\", \"value\": 1.7656014794973487}, {\"t\": 62, \"Model\": \"AZ / EZ\", \"value\": 1.5318357597655563}, {\"t\": 63, \"Model\": \"AZ / EZ\", \"value\": 1.3673589656598892}, {\"t\": 64, \"Model\": \"AZ / EZ\", \"value\": 1.3951448967234228}, {\"t\": 65, \"Model\": \"AZ / EZ\", \"value\": 1.5080642821916967}, {\"t\": 66, \"Model\": \"AZ / EZ\", \"value\": 1.4859712438058068}, {\"t\": 67, \"Model\": \"AZ / EZ\", \"value\": 1.2422270054716478}, {\"t\": 68, \"Model\": \"AZ / EZ\", \"value\": 1.434784853623114}, {\"t\": 69, \"Model\": \"AZ / EZ\", \"value\": 1.6483917263868761}, {\"t\": 70, \"Model\": \"AZ / EZ\", \"value\": 1.2846609999276097}, {\"t\": 71, \"Model\": \"AZ / EZ\", \"value\": 2.5737588441050434}, {\"t\": 72, \"Model\": \"AZ / EZ\", \"value\": 2.4926467208054532}, {\"t\": 73, \"Model\": \"AZ / EZ\", \"value\": 2.5505979585839214}, {\"t\": 74, \"Model\": \"AZ / EZ\", \"value\": 2.588618760289762}, {\"t\": 75, \"Model\": \"AZ / EZ\", \"value\": 2.5183919163038126}, {\"t\": 76, \"Model\": \"AZ / EZ\", \"value\": 3.1988795831374546}, {\"t\": 77, \"Model\": \"AZ / EZ\", \"value\": 3.4466603162366027}, {\"t\": 78, \"Model\": \"AZ / EZ\", \"value\": 3.5680918516706583}, {\"t\": 79, \"Model\": \"AZ / EZ\", \"value\": 4.295969988492914}, {\"t\": 80, \"Model\": \"AZ / EZ\", \"value\": 4.0231682395312305}, {\"t\": 81, \"Model\": \"AZ / EZ\", \"value\": 3.8532827658936526}, {\"t\": 82, \"Model\": \"AZ / EZ\", \"value\": 3.645510016421383}, {\"t\": 83, \"Model\": \"AZ / EZ\", \"value\": 3.490614741264153}, {\"t\": 84, \"Model\": \"AZ / EZ\", \"value\": 3.6722935833129213}, {\"t\": 85, \"Model\": \"AZ / EZ\", \"value\": 3.5604061795313555}, {\"t\": 86, \"Model\": \"AZ / EZ\", \"value\": 3.837740894461035}, {\"t\": 87, \"Model\": \"AZ / EZ\", \"value\": 3.5326172326758183}, {\"t\": 88, \"Model\": \"AZ / EZ\", \"value\": 3.443107290437183}, {\"t\": 89, \"Model\": \"AZ / EZ\", \"value\": 3.47339031225016}, {\"t\": 90, \"Model\": \"AZ / EZ\", \"value\": 3.820017511892445}, {\"t\": 91, \"Model\": \"AZ / EZ\", \"value\": 4.527067143248246}, {\"t\": 92, \"Model\": \"AZ / EZ\", \"value\": 4.606664394752272}, {\"t\": 93, \"Model\": \"AZ / EZ\", \"value\": 3.5726991445037015}, {\"t\": 94, \"Model\": \"AZ / EZ\", \"value\": 3.5419862778584275}, {\"t\": 95, \"Model\": \"AZ / EZ\", \"value\": 3.719454033469674}, {\"t\": 96, \"Model\": \"AZ / EZ\", \"value\": 4.213268495996317}, {\"t\": 97, \"Model\": \"AZ / EZ\", \"value\": 4.22692825897127}, {\"t\": 98, \"Model\": \"AZ / EZ\", \"value\": 5.2026296879002984}, {\"t\": 99, \"Model\": \"AZ / EZ\", \"value\": 5.147132557502005}, {\"t\": 100, \"Model\": \"AZ / EZ\", \"value\": 5.147730484693511}, {\"t\": 101, \"Model\": \"AZ / EZ\", \"value\": 5.799646848525185}, {\"t\": 102, \"Model\": \"AZ / EZ\", \"value\": 5.982886306859314}, {\"t\": 103, \"Model\": \"AZ / EZ\", \"value\": 6.2742247261094235}, {\"t\": 104, \"Model\": \"AZ / EZ\", \"value\": 6.472524435178002}, {\"t\": 105, \"Model\": \"AZ / EZ\", \"value\": 6.409362565764354}, {\"t\": 106, \"Model\": \"AZ / EZ\", \"value\": 6.262590576493153}, {\"t\": 107, \"Model\": \"AZ / EZ\", \"value\": 6.064230716539782}, {\"t\": 108, \"Model\": \"AZ / EZ\", \"value\": 6.894527793866473}, {\"t\": 109, \"Model\": \"AZ / EZ\", \"value\": 6.86981097164869}, {\"t\": 110, \"Model\": \"AZ / EZ\", \"value\": 7.005599110535172}, {\"t\": 111, \"Model\": \"AZ / EZ\", \"value\": 6.873430497652066}, {\"t\": 112, \"Model\": \"AZ / EZ\", \"value\": 6.773657419058509}, {\"t\": 113, \"Model\": \"AZ / EZ\", \"value\": 6.75726993019623}, {\"t\": 114, \"Model\": \"AZ / EZ\", \"value\": 7.128820641913194}, {\"t\": 115, \"Model\": \"AZ / EZ\", \"value\": 6.91490624774076}, {\"t\": 116, \"Model\": \"AZ / EZ\", \"value\": 7.157357696418899}, {\"t\": 117, \"Model\": \"AZ / EZ\", \"value\": 7.664565354820297}, {\"t\": 118, \"Model\": \"AZ / EZ\", \"value\": 7.604497529996365}, {\"t\": 119, \"Model\": \"AZ / EZ\", \"value\": 7.496368960079394}, {\"t\": 120, \"Model\": \"AZ / EZ\", \"value\": 7.514484140331319}, {\"t\": 121, \"Model\": \"AZ / EZ\", \"value\": 7.6392911630313165}, {\"t\": 122, \"Model\": \"AZ / EZ\", \"value\": 7.187304372603876}, {\"t\": 123, \"Model\": \"AZ / EZ\", \"value\": 6.89560910335797}, {\"t\": 124, \"Model\": \"AZ / EZ\", \"value\": 6.694887578568114}, {\"t\": 125, \"Model\": \"AZ / EZ\", \"value\": 6.873229306363896}, {\"t\": 126, \"Model\": \"AZ / EZ\", \"value\": 7.151957800702576}, {\"t\": 127, \"Model\": \"AZ / EZ\", \"value\": 7.309329312731961}, {\"t\": 128, \"Model\": \"AZ / EZ\", \"value\": 7.303961167761031}, {\"t\": 129, \"Model\": \"AZ / EZ\", \"value\": 8.157675785145443}, {\"t\": 130, \"Model\": \"AZ / EZ\", \"value\": 8.580701742383098}, {\"t\": 131, \"Model\": \"AZ / EZ\", \"value\": 8.473022008868725}, {\"t\": 132, \"Model\": \"AZ / EZ\", \"value\": 8.749724568779357}, {\"t\": 133, \"Model\": \"AZ / EZ\", \"value\": 8.65551920708026}, {\"t\": 134, \"Model\": \"AZ / EZ\", \"value\": 8.419441825528907}, {\"t\": 135, \"Model\": \"AZ / EZ\", \"value\": 8.456257609487352}, {\"t\": 136, \"Model\": \"AZ / EZ\", \"value\": 8.785487248123673}, {\"t\": 137, \"Model\": \"AZ / EZ\", \"value\": 8.023199828142879}, {\"t\": 138, \"Model\": \"AZ / EZ\", \"value\": 8.089040063592506}, {\"t\": 139, \"Model\": \"AZ / EZ\", \"value\": 8.22388897354017}, {\"t\": 140, \"Model\": \"AZ / EZ\", \"value\": 8.281665374054114}, {\"t\": 141, \"Model\": \"AZ / EZ\", \"value\": 8.324891071255593}, {\"t\": 142, \"Model\": \"AZ / EZ\", \"value\": 9.043778817193356}, {\"t\": 143, \"Model\": \"AZ / EZ\", \"value\": 9.05413247660033}, {\"t\": 144, \"Model\": \"AZ / EZ\", \"value\": 9.356114552374379}, {\"t\": 145, \"Model\": \"AZ / EZ\", \"value\": 9.124525759135395}, {\"t\": 146, \"Model\": \"AZ / EZ\", \"value\": 8.910533601206453}, {\"t\": 147, \"Model\": \"AZ / EZ\", \"value\": 8.908860611828231}, {\"t\": 148, \"Model\": \"AZ / EZ\", \"value\": 8.787463731544904}, {\"t\": 149, \"Model\": \"AZ / EZ\", \"value\": 10.478715833028673}, {\"t\": 150, \"Model\": \"AZ / EZ\", \"value\": 9.954869041384882}, {\"t\": 151, \"Model\": \"AZ / EZ\", \"value\": 10.08102170272457}, {\"t\": 152, \"Model\": \"AZ / EZ\", \"value\": 10.622935517424139}, {\"t\": 153, \"Model\": \"AZ / EZ\", \"value\": 10.484918119605481}, {\"t\": 154, \"Model\": \"AZ / EZ\", \"value\": 11.108114378637765}, {\"t\": 155, \"Model\": \"AZ / EZ\", \"value\": 11.005560658853483}, {\"t\": 156, \"Model\": \"AZ / EZ\", \"value\": 11.125573950037733}, {\"t\": 157, \"Model\": \"AZ / EZ\", \"value\": 12.042213522017846}, {\"t\": 158, \"Model\": \"AZ / EZ\", \"value\": 11.925816316742043}, {\"t\": 159, \"Model\": \"AZ / EZ\", \"value\": 11.820412613061649}, {\"t\": 160, \"Model\": \"AZ / EZ\", \"value\": 11.893524452453903}, {\"t\": 161, \"Model\": \"AZ / EZ\", \"value\": 11.995899480906132}, {\"t\": 162, \"Model\": \"AZ / EZ\", \"value\": 12.122624901936206}, {\"t\": 163, \"Model\": \"AZ / EZ\", \"value\": 12.077230341297081}, {\"t\": 164, \"Model\": \"AZ / EZ\", \"value\": 12.185516256102801}, {\"t\": 165, \"Model\": \"AZ / EZ\", \"value\": 12.174555138271444}, {\"t\": 166, \"Model\": \"AZ / EZ\", \"value\": 12.027339134720933}, {\"t\": 167, \"Model\": \"AZ / EZ\", \"value\": 11.811214268857157}, {\"t\": 168, \"Model\": \"AZ / EZ\", \"value\": 11.490333762360933}, {\"t\": 169, \"Model\": \"AZ / EZ\", \"value\": 11.638237983654335}, {\"t\": 170, \"Model\": \"AZ / EZ\", \"value\": 11.868603937990656}, {\"t\": 171, \"Model\": \"AZ / EZ\", \"value\": 11.948598432683411}, {\"t\": 172, \"Model\": \"AZ / EZ\", \"value\": 11.636675528490287}, {\"t\": 173, \"Model\": \"AZ / EZ\", \"value\": 11.437420810062576}, {\"t\": 174, \"Model\": \"AZ / EZ\", \"value\": 11.392755977349907}, {\"t\": 175, \"Model\": \"AZ / EZ\", \"value\": 10.273371845675683}, {\"t\": 176, \"Model\": \"AZ / EZ\", \"value\": 10.587777151271212}, {\"t\": 177, \"Model\": \"AZ / EZ\", \"value\": 10.625090834997309}, {\"t\": 178, \"Model\": \"AZ / EZ\", \"value\": 10.473283500221441}, {\"t\": 179, \"Model\": \"AZ / EZ\", \"value\": 10.476933229793076}, {\"t\": 180, \"Model\": \"AZ / EZ\", \"value\": 10.463174985969545}, {\"t\": 181, \"Model\": \"AZ / EZ\", \"value\": 10.611918170234276}, {\"t\": 182, \"Model\": \"AZ / EZ\", \"value\": 10.13001101903319}, {\"t\": 183, \"Model\": \"AZ / EZ\", \"value\": 10.279893332803795}, {\"t\": 184, \"Model\": \"AZ / EZ\", \"value\": 10.087736002906695}, {\"t\": 185, \"Model\": \"AZ / EZ\", \"value\": 11.038691775828966}, {\"t\": 186, \"Model\": \"AZ / EZ\", \"value\": 11.166694854203342}, {\"t\": 187, \"Model\": \"AZ / EZ\", \"value\": 10.944715391423415}, {\"t\": 188, \"Model\": \"AZ / EZ\", \"value\": 10.936362753082676}, {\"t\": 189, \"Model\": \"AZ / EZ\", \"value\": 10.847778024040053}, {\"t\": 190, \"Model\": \"AZ / EZ\", \"value\": 10.572565440705375}, {\"t\": 191, \"Model\": \"AZ / EZ\", \"value\": 10.25185009289271}, {\"t\": 192, \"Model\": \"AZ / EZ\", \"value\": 10.349911520137994}, {\"t\": 193, \"Model\": \"AZ / EZ\", \"value\": 10.441956563306121}, {\"t\": 194, \"Model\": \"AZ / EZ\", \"value\": 10.677321868560512}, {\"t\": 195, \"Model\": \"AZ / EZ\", \"value\": 10.237032122847495}, {\"t\": 196, \"Model\": \"AZ / EZ\", \"value\": 10.331452494107452}, {\"t\": 197, \"Model\": \"AZ / EZ\", \"value\": 10.130018978162525}, {\"t\": 198, \"Model\": \"AZ / EZ\", \"value\": 10.220733204627777}, {\"t\": 199, \"Model\": \"AZ / EZ\", \"value\": 9.8405976769493}]}}, {\"mode\": \"vega-lite\"});\n",
       "</script>"
      ],
      "text/plain": [
       "alt.Chart(...)"
      ]
     },
     "execution_count": 7,
     "metadata": {},
     "output_type": "execute_result"
    }
   ],
   "source": [
    "bfdf = pd.DataFrame.from_dict(bf)\n",
    "bfdf.rename({\n",
    "    'm5':'AZ', \n",
    "    'm7':'EZ',\n",
    "    'm9':'EFA2',\n",
    "#     'm10':'EFA2.C',\n",
    "    'm15':'EFA1',\n",
    "    'm16':'EFA3'\n",
    "}, axis=1, inplace=True)\n",
    "\n",
    "bfdf['t']  = np.arange(30, len(bfdf)+30)\n",
    "for i in ['EFA2', 'EZ']:\n",
    "    bfdf['AZ / '+str(i)] = bfdf['AZ']-bfdf[str(i)]\n",
    "bfdf.drop(['EFA2', 'EFA1', 'EZ', 'EFA3', 'AZ'], axis=1, inplace=True)\n",
    "bfdf = bfdf.melt(id_vars='t', var_name='Model')\n",
    "width = 600\n",
    "height = 400\n",
    "c = alt.Chart(bfdf).mark_line(\n",
    "    strokeWidth = 2,\n",
    "    ).encode(\n",
    "    alt.X('t:Q', title='Index i', scale=alt.Scale(domain=[0,200])),\n",
    "    alt.Y('value:Q', title='Log Bayes Factor'),\n",
    "    alt.Color('Model')\n",
    "    ).properties(\n",
    "    width=width, height=height\n",
    "    ).configure_legend(\n",
    "    titleFontSize=16,\n",
    "    labelFontSize=14,\n",
    "    symbolStrokeWidth=6\n",
    "    ).configure_axis(\n",
    "    labelFontSize=14,\n",
    "    titleFontSize=16\n",
    ").interactive()\n",
    "\n",
    "c"
   ]
  },
  {
   "cell_type": "code",
   "execution_count": null,
   "metadata": {},
   "outputs": [],
   "source": [
    "model_evidence = dict()\n",
    "for m in ['m'+str(i) for i in model_nums]:\n",
    "    model_evidence[m] = bf[m][-1]\n",
    "\n",
    "model_evidence"
   ]
  },
  {
   "cell_type": "code",
   "execution_count": null,
   "metadata": {},
   "outputs": [],
   "source": [
    "for m in ['m'+str(i) for i in [7,9,15,16]]:\n",
    "    a = np.exp(bf['m5'][-1]-bf[m][-1])\n",
    "    print(m, \"%.1f\"%a)"
   ]
  },
  {
   "cell_type": "code",
   "execution_count": null,
   "metadata": {},
   "outputs": [],
   "source": [
    "for m in ['m'+str(i) for i in [5,9,15,16]]:\n",
    "    a = np.exp(bf['m7'][-1]-bf[m][-1])\n",
    "#     print(m, \"%.5f\"%a)\n",
    "    print(a)"
   ]
  },
  {
   "cell_type": "code",
   "execution_count": null,
   "metadata": {},
   "outputs": [],
   "source": [
    "for m in ['m'+str(i) for i in [15,16]]:\n",
    "    a = np.exp(bf['m9'][-1]-bf[m][-1])\n",
    "#     print(m, \"%.5f\"%a)\n",
    "    print(a)"
   ]
  },
  {
   "cell_type": "code",
   "execution_count": null,
   "metadata": {},
   "outputs": [],
   "source": [
    "for m in ['m'+str(i) for i in [9,16]]:\n",
    "    a = np.exp(bf['m15'][-1]-bf[m][-1])\n",
    "#     print(m, \"%.5f\"%a)\n",
    "    print(a)"
   ]
  },
  {
   "cell_type": "code",
   "execution_count": null,
   "metadata": {},
   "outputs": [],
   "source": [
    "1./5e-5"
   ]
  },
  {
   "cell_type": "code",
   "execution_count": null,
   "metadata": {},
   "outputs": [],
   "source": [
    "2e4"
   ]
  },
  {
   "cell_type": "markdown",
   "metadata": {},
   "source": [
    "## Scoring Rules\n"
   ]
  },
  {
   "cell_type": "code",
   "execution_count": null,
   "metadata": {},
   "outputs": [],
   "source": [
    "# load existing results\n",
    "scrl = dict()\n",
    "for model in model_nums:\n",
    "    scrl['m'+str(model)] = np.cumsum(load_obj('scoring_rule', log_dirs['m'+str(model)])[31:])\n"
   ]
  },
  {
   "cell_type": "code",
   "execution_count": null,
   "metadata": {},
   "outputs": [],
   "source": [
    "scrldf = pd.DataFrame.from_dict(scrl)\n",
    "scrldf.rename({\n",
    "    'm5':'AZ', \n",
    "    'm7':'EZ',\n",
    "    'm9':'EFA2',\n",
    "    'm10':'EFA2.C',\n",
    "    'm15':'EFA1',\n",
    "    'm16':'EFA3'\n",
    "}, axis=1, inplace=True)\n",
    "\n",
    "scrldf['t']  = np.arange(30, len(scrldf)+30)\n",
    "for i in ['EFA2', 'EFA1', 'EZ', 'EFA3', 'EFA2.C']:\n",
    "    scrldf[str(i)+' - AZ'] = scrldf[str(i)]-scrldf['AZ']\n",
    "scrldf.drop(['EFA2', 'EFA1', 'EZ', 'EFA3', 'EFA2.C', 'AZ'], axis=1, inplace=True)\n",
    "scrldf = scrldf.melt(id_vars='t', var_name='Model')\n"
   ]
  },
  {
   "cell_type": "code",
   "execution_count": null,
   "metadata": {},
   "outputs": [],
   "source": [
    "width = 600\n",
    "height = 400\n",
    "c = alt.Chart(scrldf).mark_line(\n",
    "    strokeWidth = 2,\n",
    "    ).encode(\n",
    "    alt.X('t:Q', title='Index i', scale=alt.Scale(domain=[0,200])),\n",
    "    alt.Y('value:Q', title='Variogram Score'),\n",
    "    alt.Color('Model')\n",
    "    ).properties(\n",
    "    width=width, height=height\n",
    "    ).configure_legend(\n",
    "    titleFontSize=16,\n",
    "    labelFontSize=14,\n",
    "    symbolStrokeWidth=6\n",
    "    ).configure_axis(\n",
    "    labelFontSize=14,\n",
    "    titleFontSize=16\n",
    ").interactive()\n",
    "\n",
    "c\n"
   ]
  },
  {
   "cell_type": "code",
   "execution_count": null,
   "metadata": {},
   "outputs": [],
   "source": []
  },
  {
   "cell_type": "code",
   "execution_count": null,
   "metadata": {},
   "outputs": [],
   "source": []
  }
 ],
 "metadata": {
  "kernelspec": {
   "display_name": "Python 3",
   "language": "python",
   "name": "python3"
  },
  "language_info": {
   "codemirror_mode": {
    "name": "ipython",
    "version": 3
   },
   "file_extension": ".py",
   "mimetype": "text/x-python",
   "name": "python",
   "nbconvert_exporter": "python",
   "pygments_lexer": "ipython3",
   "version": "3.7.6"
  }
 },
 "nbformat": 4,
 "nbformat_minor": 2
}
