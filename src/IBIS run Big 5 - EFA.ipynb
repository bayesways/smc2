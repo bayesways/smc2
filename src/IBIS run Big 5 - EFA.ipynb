{
 "cells": [
  {
   "cell_type": "code",
   "execution_count": 1,
   "metadata": {},
   "outputs": [],
   "source": [
    "from codebase.classes import Data, Particles\n",
    "import pandas as pd\n",
    "import numpy as np\n",
    "from codebase.file_utils import (\n",
    "    save_obj,\n",
    "    load_obj,\n",
    "    make_folder,\n",
    "    path_backslash\n",
    ")\n",
    "from codebase.ibis import exp_and_normalise\n",
    "from run_ibis import run_ibis\n",
    "from scipy.special import logsumexp\n",
    "\n",
    "\n"
   ]
  },
  {
   "cell_type": "markdown",
   "metadata": {},
   "source": [
    "## Big 5 EFA"
   ]
  },
  {
   "cell_type": "code",
   "execution_count": 2,
   "metadata": {},
   "outputs": [
    {
     "name": "stdout",
     "output_type": "stream",
     "text": [
      "\n",
      "\n",
      "Creating new directory: ./log/20201213_172938_big5_efa_c/\n"
     ]
    }
   ],
   "source": [
    "existing_directory = None\n",
    "task_handle = 'big5_efa_c'\n",
    "gen_model = 1\n",
    "\n",
    "if existing_directory is None:\n",
    "    log_dir = make_folder(task_handle)  \n",
    "    print(\"\\n\\nCreating new directory: %s\" % log_dir)\n",
    "\n",
    "else:\n",
    "    log_dir = existing_directory\n",
    "    log_dir = path_backslash(log_dir)\n",
    "    print(\"\\n\\nReading from existing directory: %s\" % log_dir)\n"
   ]
  },
  {
   "cell_type": "code",
   "execution_count": 3,
   "metadata": {},
   "outputs": [
    {
     "name": "stdout",
     "output_type": "stream",
     "text": [
      "\n",
      "\n",
      "Reading data for women\n",
      "\n",
      "\n",
      "N = 677, J= 15, K =5\n"
     ]
    }
   ],
   "source": [
    "\n",
    "# generate data\n",
    "exp_data = Data(\n",
    "    name = task_handle, \n",
    "    model_num = 'big5', \n",
    "    size = 50,\n",
    "    random_seed = 0\n",
    "    )\n",
    "    \n",
    "exp_data.generate()\n",
    "\n"
   ]
  },
  {
   "cell_type": "code",
   "execution_count": 4,
   "metadata": {},
   "outputs": [
    {
     "name": "stderr",
     "output_type": "stream",
     "text": [
      "INFO:pystan:COMPILING THE C++ CODE FOR MODEL anon_model_8515aa0f75d271171457ab45cfc6682b NOW.\n",
      "INFO:pystan:COMPILING THE C++ CODE FOR MODEL anon_model_b279e5722b97e6c0a1e24275c18eca18 NOW.\n",
      "100%|██████████| 50/50 [5:52:46<00:00, 423.33s/it]  "
     ]
    },
    {
     "name": "stdout",
     "output_type": "stream",
     "text": [
      "\n",
      "\n",
      "\n",
      "Marginal Likelihood 0.00000\n"
     ]
    },
    {
     "name": "stderr",
     "output_type": "stream",
     "text": [
      "\n"
     ]
    }
   ],
   "source": [
    "model_num = 5\n",
    "\n",
    "ibis = run_ibis(\n",
    "    exp_data,\n",
    "    model_num,\n",
    "    1000,\n",
    "    gen_model,\n",
    "    log_dir\n",
    "    )\n"
   ]
  },
  {
   "cell_type": "code",
   "execution_count": 5,
   "metadata": {
    "scrolled": true
   },
   "outputs": [
    {
     "name": "stdout",
     "output_type": "stream",
     "text": [
      "Marginal Likelihood 0.00000\n",
      "\n",
      "\n",
      "Estimate\n",
      "[ 0.05 -0.16  0.07  0.11  0.23  0.22 -0.03 -0.03 -0.03 -0.08 -0.34 -0.26\n",
      "  0.22  0.15  0.24]\n",
      "\n",
      "\n",
      "Estimate\n",
      "[[ 0.75  0.25  0.13  0.19  0.2  -0.01  0.03  0.13 -0.07 -0.08  0.24 -0.12\n",
      "   0.13  0.22  0.06]\n",
      " [ 0.25  1.79  0.56  0.43  0.17  0.51  0.49  0.43 -0.03 -0.01  0.26 -0.43\n",
      "   0.59  0.61  0.56]\n",
      " [ 0.13  0.56  1.32  0.32  0.14  0.85  0.36  0.38 -0.19 -0.03 -0.06 -0.49\n",
      "   0.19  0.03  0.13]\n",
      " [ 0.19  0.43  0.32  1.28  0.22  0.41  0.15  0.15 -0.03  0.03  0.07 -0.34\n",
      "   0.6   0.48  0.39]\n",
      " [ 0.2   0.17  0.14  0.22  1.13  0.18  0.    0.13  0.04 -0.1   0.02 -0.24\n",
      "   0.32  0.24  0.21]\n",
      " [-0.01  0.51  0.85  0.41  0.18  1.49  0.22  0.16 -0.22  0.01 -0.25 -0.56\n",
      "   0.43  0.15  0.3 ]\n",
      " [ 0.03  0.49  0.36  0.15  0.    0.22  1.28  0.83  0.43  0.09 -0.05 -0.44\n",
      "   0.24  0.19  0.43]\n",
      " [ 0.13  0.43  0.38  0.15  0.13  0.16  0.83  1.46  0.65 -0.2  -0.26 -0.65\n",
      "   0.3   0.16  0.49]\n",
      " [-0.07 -0.03 -0.19 -0.03  0.04 -0.22  0.43  0.65  1.69 -0.25 -0.4  -0.36\n",
      "   0.39  0.2   0.48]\n",
      " [-0.08 -0.01 -0.03  0.03 -0.1   0.01  0.09 -0.2  -0.25  1.47  0.27  0.25\n",
      "   0.03  0.08  0.06]\n",
      " [ 0.24  0.26 -0.06  0.07  0.02 -0.25 -0.05 -0.26 -0.4   0.27  1.55  0.65\n",
      "   0.01  0.43 -0.23]\n",
      " [-0.12 -0.43 -0.49 -0.34 -0.24 -0.56 -0.44 -0.65 -0.36  0.25  0.65  1.73\n",
      "  -0.52 -0.19 -0.65]\n",
      " [ 0.13  0.59  0.19  0.6   0.32  0.43  0.24  0.3   0.39  0.03  0.01 -0.52\n",
      "   1.71  1.03  0.98]\n",
      " [ 0.22  0.61  0.03  0.48  0.24  0.15  0.19  0.16  0.2   0.08  0.43 -0.19\n",
      "   1.03  1.72  0.78]\n",
      " [ 0.06  0.56  0.13  0.39  0.21  0.3   0.43  0.49  0.48  0.06 -0.23 -0.65\n",
      "   0.98  0.78  1.48]]\n"
     ]
    }
   ],
   "source": [
    "\n",
    "print('Marginal Likelihood %.5f'%ibis['marg_lklhd'])\n",
    "\n",
    "for name in ['alpha', 'Marg_cov']:\n",
    "    samples = np.squeeze(ibis['particles'].particles[name])\n",
    "    w = exp_and_normalise(ibis['particles'].weights)\n",
    "    print('\\n\\nEstimate')\n",
    "    print(np.round(np.average(samples,axis=0, weights=w),2))\n",
    "    # print('\\nRead Data')\n",
    "    # print(np.round(exp_data.raw_data[name],2))\n"
   ]
  },
  {
   "cell_type": "code",
   "execution_count": 6,
   "metadata": {
    "scrolled": true
   },
   "outputs": [
    {
     "data": {
      "text/plain": [
       "5.902728896211889e-07"
      ]
     },
     "execution_count": 6,
     "metadata": {},
     "output_type": "execute_result"
    }
   ],
   "source": [
    "ibis['marg_lklhd']"
   ]
  }
 ],
 "metadata": {
  "kernelspec": {
   "display_name": "Python 3",
   "language": "python",
   "name": "python3"
  },
  "language_info": {
   "codemirror_mode": {
    "name": "ipython",
    "version": 3
   },
   "file_extension": ".py",
   "mimetype": "text/x-python",
   "name": "python",
   "nbconvert_exporter": "python",
   "pygments_lexer": "ipython3",
   "version": "3.7.4"
  }
 },
 "nbformat": 4,
 "nbformat_minor": 2
}
