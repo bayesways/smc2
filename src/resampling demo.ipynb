{
 "cells": [
  {
   "cell_type": "code",
   "execution_count": 1,
   "metadata": {},
   "outputs": [],
   "source": [
    "import numpy as np\n",
    "from numpy import random\n",
    "\n",
    "def inverse_cdf(su, W):\n",
    "    \"\"\"\n",
    "    Inverse CDF Algorithm for a finite distribution\n",
    "    \n",
    "    Parameters\n",
    "    -----------------\n",
    "    su : (M,) ndarray\n",
    "        M sorted variates (i.e. M ordered points in [0,1)\n",
    "    W: (N,) ndarray\n",
    "        a vector of N normalized weights (>=0 and sum to one)\n",
    "    \n",
    "    \"\"\"\n",
    "    j = 0\n",
    "    s = W[0]\n",
    "    M = su.shape[0]\n",
    "    A = np.empty(M, 'int')\n",
    "    for n in range(M):\n",
    "        while su[n] > s:\n",
    "            j += 1\n",
    "            s += W[j]\n",
    "        A[n] = j\n",
    "    return A\n",
    "\n",
    "\n",
    "def uniform_spacings(N):\n",
    "    z = np.cumsum(-np.log(random.rand(N+1)))\n",
    "    return z[:-1]/z[-1]\n",
    "\n",
    "\n",
    "def multinomial(W, M):\n",
    "    return inverse_cdf(uniform_spacings(M), W)\n",
    "\n",
    "\n",
    "def multinomial_once(W):\n",
    "    \"\"\" Sample once from a Multinomial distribution\n",
    "    Parameters\n",
    "    ----------\n",
    "    W: (N,) ndarray\n",
    "        normalized weights (>=0, sum to one)\n",
    "    Returns\n",
    "    -------\n",
    "    int\n",
    "        a single draw from the discrete distribution that generates n with\n",
    "        probability W[n]\n",
    "    Note\n",
    "    ----\n",
    "    This is equivalent to\n",
    "       A = multinomial(W, M=1)\n",
    "    but it is faster.\n",
    "    \"\"\"\n",
    "    return np.searchsorted(np.cumsum(W), random.rand())"
   ]
  },
  {
   "cell_type": "code",
   "execution_count": 2,
   "metadata": {},
   "outputs": [
    {
     "data": {
      "text/plain": [
       "array([0, 0, 1, 1, 1, 2, 2, 2, 2, 2])"
      ]
     },
     "execution_count": 2,
     "metadata": {},
     "output_type": "execute_result"
    }
   ],
   "source": [
    "w = np.array([0.1,0.25, 0.65])\n",
    "multinomial(w, 10)"
   ]
  },
  {
   "cell_type": "code",
   "execution_count": null,
   "metadata": {},
   "outputs": [],
   "source": []
  },
  {
   "cell_type": "code",
   "execution_count": 3,
   "metadata": {},
   "outputs": [
    {
     "data": {
      "text/plain": [
       "2"
      ]
     },
     "execution_count": 3,
     "metadata": {},
     "output_type": "execute_result"
    }
   ],
   "source": [
    "multinomial_once(w)"
   ]
  },
  {
   "cell_type": "code",
   "execution_count": 4,
   "metadata": {},
   "outputs": [
    {
     "data": {
      "text/plain": [
       "array(['a', 'b', 'b', 'c', 'c', 'c', 'c', 'c', 'c', 'c'], dtype='<U1')"
      ]
     },
     "execution_count": 4,
     "metadata": {},
     "output_type": "execute_result"
    }
   ],
   "source": [
    "letters = np.array(['a', 'b', 'c'])\n",
    "letters[multinomial(w, 10)]"
   ]
  },
  {
   "cell_type": "code",
   "execution_count": 5,
   "metadata": {},
   "outputs": [
    {
     "data": {
      "text/html": [
       "\n",
       "<div id=\"altair-viz-cf32bb7b574643c4a71943d5eaf6c5c8\"></div>\n",
       "<script type=\"text/javascript\">\n",
       "  (function(spec, embedOpt){\n",
       "    let outputDiv = document.currentScript.previousElementSibling;\n",
       "    if (outputDiv.id !== \"altair-viz-cf32bb7b574643c4a71943d5eaf6c5c8\") {\n",
       "      outputDiv = document.getElementById(\"altair-viz-cf32bb7b574643c4a71943d5eaf6c5c8\");\n",
       "    }\n",
       "    const paths = {\n",
       "      \"vega\": \"https://cdn.jsdelivr.net/npm//vega@5?noext\",\n",
       "      \"vega-lib\": \"https://cdn.jsdelivr.net/npm//vega-lib?noext\",\n",
       "      \"vega-lite\": \"https://cdn.jsdelivr.net/npm//vega-lite@4.8.1?noext\",\n",
       "      \"vega-embed\": \"https://cdn.jsdelivr.net/npm//vega-embed@6?noext\",\n",
       "    };\n",
       "\n",
       "    function loadScript(lib) {\n",
       "      return new Promise(function(resolve, reject) {\n",
       "        var s = document.createElement('script');\n",
       "        s.src = paths[lib];\n",
       "        s.async = true;\n",
       "        s.onload = () => resolve(paths[lib]);\n",
       "        s.onerror = () => reject(`Error loading script: ${paths[lib]}`);\n",
       "        document.getElementsByTagName(\"head\")[0].appendChild(s);\n",
       "      });\n",
       "    }\n",
       "\n",
       "    function showError(err) {\n",
       "      outputDiv.innerHTML = `<div class=\"error\" style=\"color:red;\">${err}</div>`;\n",
       "      throw err;\n",
       "    }\n",
       "\n",
       "    function displayChart(vegaEmbed) {\n",
       "      vegaEmbed(outputDiv, spec, embedOpt)\n",
       "        .catch(err => showError(`Javascript Error: ${err.message}<br>This usually means there's a typo in your chart specification. See the javascript console for the full traceback.`));\n",
       "    }\n",
       "\n",
       "    if(typeof define === \"function\" && define.amd) {\n",
       "      requirejs.config({paths});\n",
       "      require([\"vega-embed\"], displayChart, err => showError(`Error loading script: ${err.message}`));\n",
       "    } else if (typeof vegaEmbed === \"function\") {\n",
       "      displayChart(vegaEmbed);\n",
       "    } else {\n",
       "      loadScript(\"vega\")\n",
       "        .then(() => loadScript(\"vega-lite\"))\n",
       "        .then(() => loadScript(\"vega-embed\"))\n",
       "        .catch(showError)\n",
       "        .then(() => displayChart(vegaEmbed));\n",
       "    }\n",
       "  })({\"config\": {\"view\": {\"continuousWidth\": 400, \"continuousHeight\": 300}}, \"data\": {\"name\": \"data-259314f7b6f74fc9e6e957f29d8c005b\"}, \"mark\": \"bar\", \"encoding\": {\"x\": {\"type\": \"quantitative\", \"aggregate\": \"count\"}, \"y\": {\"type\": \"nominal\", \"field\": \"letter\"}}, \"$schema\": \"https://vega.github.io/schema/vega-lite/v4.8.1.json\", \"datasets\": {\"data-259314f7b6f74fc9e6e957f29d8c005b\": [{\"letter\": \"a\"}, {\"letter\": \"c\"}, {\"letter\": \"b\"}, {\"letter\": \"c\"}, {\"letter\": \"c\"}, {\"letter\": \"c\"}, {\"letter\": \"a\"}, {\"letter\": \"c\"}, {\"letter\": \"c\"}, {\"letter\": \"c\"}, {\"letter\": \"a\"}, {\"letter\": \"c\"}, {\"letter\": \"c\"}, {\"letter\": \"c\"}, {\"letter\": \"c\"}, {\"letter\": \"b\"}, {\"letter\": \"c\"}, {\"letter\": \"c\"}, {\"letter\": \"a\"}, {\"letter\": \"b\"}, {\"letter\": \"c\"}, {\"letter\": \"b\"}, {\"letter\": \"c\"}, {\"letter\": \"c\"}, {\"letter\": \"b\"}, {\"letter\": \"b\"}, {\"letter\": \"c\"}, {\"letter\": \"c\"}, {\"letter\": \"c\"}, {\"letter\": \"c\"}, {\"letter\": \"c\"}, {\"letter\": \"c\"}, {\"letter\": \"b\"}, {\"letter\": \"c\"}, {\"letter\": \"c\"}, {\"letter\": \"b\"}, {\"letter\": \"c\"}, {\"letter\": \"c\"}, {\"letter\": \"c\"}, {\"letter\": \"c\"}, {\"letter\": \"c\"}, {\"letter\": \"c\"}, {\"letter\": \"c\"}, {\"letter\": \"c\"}, {\"letter\": \"c\"}, {\"letter\": \"c\"}, {\"letter\": \"a\"}, {\"letter\": \"c\"}, {\"letter\": \"a\"}, {\"letter\": \"c\"}, {\"letter\": \"b\"}, {\"letter\": \"c\"}, {\"letter\": \"b\"}, {\"letter\": \"c\"}, {\"letter\": \"b\"}, {\"letter\": \"c\"}, {\"letter\": \"c\"}, {\"letter\": \"b\"}, {\"letter\": \"c\"}, {\"letter\": \"b\"}, {\"letter\": \"b\"}, {\"letter\": \"b\"}, {\"letter\": \"c\"}, {\"letter\": \"c\"}, {\"letter\": \"c\"}, {\"letter\": \"c\"}, {\"letter\": \"a\"}, {\"letter\": \"c\"}, {\"letter\": \"b\"}, {\"letter\": \"c\"}, {\"letter\": \"c\"}, {\"letter\": \"c\"}, {\"letter\": \"c\"}, {\"letter\": \"c\"}, {\"letter\": \"c\"}, {\"letter\": \"c\"}, {\"letter\": \"c\"}, {\"letter\": \"a\"}, {\"letter\": \"b\"}, {\"letter\": \"c\"}, {\"letter\": \"b\"}, {\"letter\": \"c\"}, {\"letter\": \"c\"}, {\"letter\": \"c\"}, {\"letter\": \"b\"}, {\"letter\": \"c\"}, {\"letter\": \"c\"}, {\"letter\": \"a\"}, {\"letter\": \"c\"}, {\"letter\": \"c\"}, {\"letter\": \"b\"}, {\"letter\": \"c\"}, {\"letter\": \"b\"}, {\"letter\": \"c\"}, {\"letter\": \"c\"}, {\"letter\": \"c\"}, {\"letter\": \"c\"}, {\"letter\": \"c\"}, {\"letter\": \"b\"}, {\"letter\": \"c\"}, {\"letter\": \"b\"}, {\"letter\": \"c\"}, {\"letter\": \"c\"}, {\"letter\": \"c\"}, {\"letter\": \"c\"}, {\"letter\": \"b\"}, {\"letter\": \"a\"}, {\"letter\": \"b\"}, {\"letter\": \"c\"}, {\"letter\": \"b\"}, {\"letter\": \"b\"}, {\"letter\": \"b\"}, {\"letter\": \"b\"}, {\"letter\": \"c\"}, {\"letter\": \"b\"}, {\"letter\": \"b\"}, {\"letter\": \"b\"}, {\"letter\": \"a\"}, {\"letter\": \"a\"}, {\"letter\": \"c\"}, {\"letter\": \"c\"}, {\"letter\": \"b\"}, {\"letter\": \"b\"}, {\"letter\": \"c\"}, {\"letter\": \"a\"}, {\"letter\": \"b\"}, {\"letter\": \"c\"}, {\"letter\": \"c\"}, {\"letter\": \"a\"}, {\"letter\": \"c\"}, {\"letter\": \"c\"}, {\"letter\": \"a\"}, {\"letter\": \"c\"}, {\"letter\": \"c\"}, {\"letter\": \"c\"}, {\"letter\": \"c\"}, {\"letter\": \"c\"}, {\"letter\": \"c\"}, {\"letter\": \"c\"}, {\"letter\": \"c\"}, {\"letter\": \"c\"}, {\"letter\": \"a\"}, {\"letter\": \"c\"}, {\"letter\": \"c\"}, {\"letter\": \"a\"}, {\"letter\": \"c\"}, {\"letter\": \"c\"}, {\"letter\": \"b\"}, {\"letter\": \"c\"}, {\"letter\": \"c\"}, {\"letter\": \"c\"}, {\"letter\": \"c\"}, {\"letter\": \"b\"}, {\"letter\": \"c\"}, {\"letter\": \"c\"}, {\"letter\": \"c\"}, {\"letter\": \"c\"}, {\"letter\": \"b\"}, {\"letter\": \"a\"}, {\"letter\": \"c\"}, {\"letter\": \"c\"}, {\"letter\": \"c\"}, {\"letter\": \"b\"}, {\"letter\": \"c\"}, {\"letter\": \"c\"}, {\"letter\": \"c\"}, {\"letter\": \"b\"}, {\"letter\": \"c\"}, {\"letter\": \"c\"}, {\"letter\": \"c\"}, {\"letter\": \"b\"}, {\"letter\": \"c\"}, {\"letter\": \"c\"}, {\"letter\": \"a\"}, {\"letter\": \"b\"}, {\"letter\": \"c\"}, {\"letter\": \"c\"}, {\"letter\": \"c\"}, {\"letter\": \"b\"}, {\"letter\": \"c\"}, {\"letter\": \"c\"}, {\"letter\": \"c\"}, {\"letter\": \"c\"}, {\"letter\": \"c\"}, {\"letter\": \"c\"}, {\"letter\": \"b\"}, {\"letter\": \"b\"}, {\"letter\": \"c\"}, {\"letter\": \"c\"}, {\"letter\": \"c\"}, {\"letter\": \"c\"}, {\"letter\": \"b\"}, {\"letter\": \"c\"}, {\"letter\": \"c\"}, {\"letter\": \"c\"}, {\"letter\": \"a\"}, {\"letter\": \"b\"}, {\"letter\": \"b\"}, {\"letter\": \"c\"}, {\"letter\": \"c\"}, {\"letter\": \"c\"}, {\"letter\": \"c\"}, {\"letter\": \"c\"}, {\"letter\": \"c\"}, {\"letter\": \"b\"}, {\"letter\": \"c\"}, {\"letter\": \"c\"}, {\"letter\": \"c\"}, {\"letter\": \"b\"}, {\"letter\": \"a\"}, {\"letter\": \"a\"}, {\"letter\": \"c\"}, {\"letter\": \"c\"}, {\"letter\": \"c\"}, {\"letter\": \"c\"}, {\"letter\": \"c\"}, {\"letter\": \"c\"}, {\"letter\": \"c\"}, {\"letter\": \"b\"}, {\"letter\": \"c\"}, {\"letter\": \"b\"}, {\"letter\": \"b\"}, {\"letter\": \"b\"}, {\"letter\": \"c\"}, {\"letter\": \"b\"}, {\"letter\": \"c\"}, {\"letter\": \"c\"}, {\"letter\": \"c\"}, {\"letter\": \"b\"}, {\"letter\": \"c\"}, {\"letter\": \"c\"}, {\"letter\": \"b\"}, {\"letter\": \"c\"}, {\"letter\": \"c\"}, {\"letter\": \"b\"}, {\"letter\": \"b\"}, {\"letter\": \"c\"}, {\"letter\": \"c\"}, {\"letter\": \"c\"}, {\"letter\": \"c\"}, {\"letter\": \"a\"}, {\"letter\": \"c\"}, {\"letter\": \"c\"}, {\"letter\": \"c\"}, {\"letter\": \"c\"}, {\"letter\": \"b\"}, {\"letter\": \"c\"}, {\"letter\": \"c\"}, {\"letter\": \"c\"}, {\"letter\": \"b\"}, {\"letter\": \"b\"}, {\"letter\": \"c\"}, {\"letter\": \"c\"}, {\"letter\": \"c\"}, {\"letter\": \"a\"}, {\"letter\": \"c\"}, {\"letter\": \"c\"}, {\"letter\": \"b\"}, {\"letter\": \"c\"}, {\"letter\": \"c\"}, {\"letter\": \"b\"}, {\"letter\": \"b\"}, {\"letter\": \"c\"}, {\"letter\": \"b\"}, {\"letter\": \"c\"}, {\"letter\": \"b\"}, {\"letter\": \"c\"}, {\"letter\": \"c\"}, {\"letter\": \"c\"}, {\"letter\": \"b\"}, {\"letter\": \"b\"}, {\"letter\": \"b\"}, {\"letter\": \"c\"}, {\"letter\": \"c\"}, {\"letter\": \"b\"}, {\"letter\": \"a\"}, {\"letter\": \"c\"}, {\"letter\": \"c\"}, {\"letter\": \"c\"}, {\"letter\": \"c\"}, {\"letter\": \"c\"}, {\"letter\": \"c\"}, {\"letter\": \"b\"}, {\"letter\": \"c\"}, {\"letter\": \"b\"}, {\"letter\": \"a\"}, {\"letter\": \"c\"}, {\"letter\": \"c\"}, {\"letter\": \"b\"}, {\"letter\": \"c\"}, {\"letter\": \"c\"}, {\"letter\": \"c\"}, {\"letter\": \"b\"}, {\"letter\": \"b\"}, {\"letter\": \"c\"}, {\"letter\": \"a\"}, {\"letter\": \"c\"}, {\"letter\": \"b\"}, {\"letter\": \"c\"}, {\"letter\": \"c\"}, {\"letter\": \"c\"}, {\"letter\": \"b\"}, {\"letter\": \"c\"}, {\"letter\": \"b\"}, {\"letter\": \"c\"}, {\"letter\": \"b\"}, {\"letter\": \"b\"}, {\"letter\": \"c\"}, {\"letter\": \"c\"}, {\"letter\": \"b\"}, {\"letter\": \"b\"}, {\"letter\": \"a\"}, {\"letter\": \"a\"}, {\"letter\": \"c\"}, {\"letter\": \"c\"}, {\"letter\": \"c\"}, {\"letter\": \"c\"}, {\"letter\": \"b\"}, {\"letter\": \"b\"}, {\"letter\": \"b\"}, {\"letter\": \"c\"}, {\"letter\": \"b\"}, {\"letter\": \"a\"}, {\"letter\": \"c\"}, {\"letter\": \"b\"}, {\"letter\": \"a\"}, {\"letter\": \"c\"}, {\"letter\": \"a\"}, {\"letter\": \"a\"}, {\"letter\": \"b\"}, {\"letter\": \"a\"}, {\"letter\": \"c\"}, {\"letter\": \"b\"}, {\"letter\": \"b\"}, {\"letter\": \"a\"}, {\"letter\": \"b\"}, {\"letter\": \"c\"}, {\"letter\": \"b\"}, {\"letter\": \"b\"}, {\"letter\": \"a\"}, {\"letter\": \"c\"}, {\"letter\": \"c\"}, {\"letter\": \"b\"}, {\"letter\": \"c\"}, {\"letter\": \"c\"}, {\"letter\": \"c\"}, {\"letter\": \"c\"}, {\"letter\": \"c\"}, {\"letter\": \"c\"}, {\"letter\": \"c\"}, {\"letter\": \"c\"}, {\"letter\": \"c\"}, {\"letter\": \"c\"}, {\"letter\": \"b\"}, {\"letter\": \"b\"}, {\"letter\": \"b\"}, {\"letter\": \"a\"}, {\"letter\": \"c\"}, {\"letter\": \"c\"}, {\"letter\": \"c\"}, {\"letter\": \"c\"}, {\"letter\": \"c\"}, {\"letter\": \"c\"}, {\"letter\": \"b\"}, {\"letter\": \"c\"}, {\"letter\": \"b\"}, {\"letter\": \"b\"}, {\"letter\": \"c\"}, {\"letter\": \"c\"}, {\"letter\": \"b\"}, {\"letter\": \"c\"}, {\"letter\": \"c\"}, {\"letter\": \"b\"}, {\"letter\": \"c\"}, {\"letter\": \"c\"}, {\"letter\": \"b\"}, {\"letter\": \"b\"}, {\"letter\": \"c\"}, {\"letter\": \"c\"}, {\"letter\": \"b\"}, {\"letter\": \"c\"}, {\"letter\": \"c\"}, {\"letter\": \"c\"}, {\"letter\": \"c\"}, {\"letter\": \"c\"}, {\"letter\": \"c\"}, {\"letter\": \"c\"}, {\"letter\": \"b\"}, {\"letter\": \"c\"}, {\"letter\": \"b\"}, {\"letter\": \"c\"}, {\"letter\": \"c\"}, {\"letter\": \"c\"}, {\"letter\": \"c\"}, {\"letter\": \"c\"}, {\"letter\": \"c\"}, {\"letter\": \"b\"}, {\"letter\": \"c\"}, {\"letter\": \"c\"}, {\"letter\": \"c\"}, {\"letter\": \"a\"}, {\"letter\": \"b\"}, {\"letter\": \"a\"}, {\"letter\": \"b\"}, {\"letter\": \"c\"}, {\"letter\": \"c\"}, {\"letter\": \"b\"}, {\"letter\": \"c\"}, {\"letter\": \"b\"}, {\"letter\": \"b\"}, {\"letter\": \"c\"}, {\"letter\": \"a\"}, {\"letter\": \"a\"}, {\"letter\": \"b\"}, {\"letter\": \"c\"}, {\"letter\": \"c\"}, {\"letter\": \"c\"}, {\"letter\": \"b\"}, {\"letter\": \"c\"}, {\"letter\": \"c\"}, {\"letter\": \"a\"}, {\"letter\": \"b\"}, {\"letter\": \"b\"}, {\"letter\": \"b\"}, {\"letter\": \"a\"}, {\"letter\": \"b\"}, {\"letter\": \"c\"}, {\"letter\": \"b\"}, {\"letter\": \"c\"}, {\"letter\": \"c\"}, {\"letter\": \"c\"}, {\"letter\": \"a\"}, {\"letter\": \"c\"}, {\"letter\": \"c\"}, {\"letter\": \"b\"}, {\"letter\": \"c\"}, {\"letter\": \"c\"}, {\"letter\": \"b\"}, {\"letter\": \"a\"}, {\"letter\": \"a\"}, {\"letter\": \"a\"}, {\"letter\": \"a\"}, {\"letter\": \"c\"}, {\"letter\": \"c\"}, {\"letter\": \"c\"}, {\"letter\": \"c\"}, {\"letter\": \"c\"}, {\"letter\": \"c\"}, {\"letter\": \"c\"}, {\"letter\": \"c\"}, {\"letter\": \"c\"}, {\"letter\": \"b\"}, {\"letter\": \"c\"}, {\"letter\": \"c\"}, {\"letter\": \"b\"}, {\"letter\": \"b\"}, {\"letter\": \"c\"}, {\"letter\": \"b\"}, {\"letter\": \"c\"}, {\"letter\": \"c\"}, {\"letter\": \"c\"}, {\"letter\": \"b\"}, {\"letter\": \"c\"}, {\"letter\": \"c\"}, {\"letter\": \"b\"}, {\"letter\": \"c\"}, {\"letter\": \"b\"}, {\"letter\": \"c\"}, {\"letter\": \"c\"}, {\"letter\": \"b\"}, {\"letter\": \"c\"}, {\"letter\": \"c\"}, {\"letter\": \"c\"}, {\"letter\": \"c\"}, {\"letter\": \"c\"}, {\"letter\": \"c\"}, {\"letter\": \"c\"}, {\"letter\": \"c\"}, {\"letter\": \"b\"}, {\"letter\": \"b\"}, {\"letter\": \"c\"}, {\"letter\": \"b\"}, {\"letter\": \"b\"}, {\"letter\": \"b\"}, {\"letter\": \"c\"}, {\"letter\": \"b\"}, {\"letter\": \"c\"}, {\"letter\": \"b\"}, {\"letter\": \"b\"}, {\"letter\": \"c\"}, {\"letter\": \"c\"}, {\"letter\": \"c\"}, {\"letter\": \"c\"}, {\"letter\": \"c\"}, {\"letter\": \"c\"}, {\"letter\": \"c\"}, {\"letter\": \"c\"}, {\"letter\": \"b\"}, {\"letter\": \"b\"}, {\"letter\": \"c\"}, {\"letter\": \"c\"}, {\"letter\": \"c\"}, {\"letter\": \"c\"}, {\"letter\": \"a\"}, {\"letter\": \"c\"}, {\"letter\": \"c\"}, {\"letter\": \"a\"}, {\"letter\": \"c\"}, {\"letter\": \"c\"}, {\"letter\": \"c\"}, {\"letter\": \"c\"}, {\"letter\": \"c\"}, {\"letter\": \"b\"}, {\"letter\": \"c\"}, {\"letter\": \"c\"}, {\"letter\": \"c\"}, {\"letter\": \"c\"}, {\"letter\": \"b\"}, {\"letter\": \"c\"}, {\"letter\": \"c\"}, {\"letter\": \"c\"}, {\"letter\": \"a\"}, {\"letter\": \"a\"}, {\"letter\": \"c\"}, {\"letter\": \"b\"}, {\"letter\": \"c\"}, {\"letter\": \"c\"}, {\"letter\": \"c\"}, {\"letter\": \"c\"}, {\"letter\": \"c\"}, {\"letter\": \"b\"}, {\"letter\": \"b\"}, {\"letter\": \"c\"}, {\"letter\": \"c\"}, {\"letter\": \"c\"}, {\"letter\": \"c\"}, {\"letter\": \"b\"}, {\"letter\": \"c\"}, {\"letter\": \"c\"}, {\"letter\": \"c\"}, {\"letter\": \"c\"}, {\"letter\": \"b\"}, {\"letter\": \"b\"}, {\"letter\": \"c\"}, {\"letter\": \"c\"}, {\"letter\": \"b\"}, {\"letter\": \"c\"}, {\"letter\": \"c\"}, {\"letter\": \"c\"}, {\"letter\": \"c\"}, {\"letter\": \"c\"}, {\"letter\": \"a\"}, {\"letter\": \"c\"}, {\"letter\": \"c\"}, {\"letter\": \"c\"}, {\"letter\": \"c\"}, {\"letter\": \"b\"}, {\"letter\": \"c\"}, {\"letter\": \"a\"}, {\"letter\": \"c\"}, {\"letter\": \"b\"}, {\"letter\": \"c\"}, {\"letter\": \"c\"}, {\"letter\": \"c\"}, {\"letter\": \"b\"}, {\"letter\": \"b\"}, {\"letter\": \"c\"}, {\"letter\": \"c\"}, {\"letter\": \"c\"}, {\"letter\": \"c\"}, {\"letter\": \"c\"}, {\"letter\": \"c\"}, {\"letter\": \"c\"}, {\"letter\": \"b\"}, {\"letter\": \"c\"}, {\"letter\": \"c\"}, {\"letter\": \"c\"}, {\"letter\": \"b\"}, {\"letter\": \"b\"}, {\"letter\": \"c\"}, {\"letter\": \"c\"}, {\"letter\": \"c\"}, {\"letter\": \"c\"}, {\"letter\": \"c\"}, {\"letter\": \"b\"}, {\"letter\": \"c\"}, {\"letter\": \"b\"}, {\"letter\": \"c\"}, {\"letter\": \"b\"}, {\"letter\": \"c\"}, {\"letter\": \"c\"}, {\"letter\": \"b\"}, {\"letter\": \"c\"}, {\"letter\": \"b\"}, {\"letter\": \"b\"}, {\"letter\": \"c\"}, {\"letter\": \"c\"}, {\"letter\": \"b\"}, {\"letter\": \"c\"}, {\"letter\": \"c\"}, {\"letter\": \"c\"}, {\"letter\": \"c\"}, {\"letter\": \"b\"}, {\"letter\": \"c\"}, {\"letter\": \"c\"}, {\"letter\": \"c\"}, {\"letter\": \"a\"}, {\"letter\": \"c\"}, {\"letter\": \"c\"}, {\"letter\": \"c\"}, {\"letter\": \"c\"}, {\"letter\": \"b\"}, {\"letter\": \"c\"}, {\"letter\": \"c\"}, {\"letter\": \"a\"}, {\"letter\": \"c\"}, {\"letter\": \"c\"}, {\"letter\": \"c\"}, {\"letter\": \"b\"}, {\"letter\": \"c\"}, {\"letter\": \"c\"}, {\"letter\": \"b\"}, {\"letter\": \"b\"}, {\"letter\": \"c\"}, {\"letter\": \"a\"}, {\"letter\": \"b\"}, {\"letter\": \"c\"}, {\"letter\": \"c\"}, {\"letter\": \"c\"}, {\"letter\": \"b\"}, {\"letter\": \"c\"}, {\"letter\": \"b\"}, {\"letter\": \"c\"}, {\"letter\": \"b\"}, {\"letter\": \"b\"}, {\"letter\": \"c\"}, {\"letter\": \"b\"}, {\"letter\": \"c\"}, {\"letter\": \"a\"}, {\"letter\": \"c\"}, {\"letter\": \"b\"}, {\"letter\": \"c\"}, {\"letter\": \"c\"}, {\"letter\": \"c\"}, {\"letter\": \"c\"}, {\"letter\": \"b\"}, {\"letter\": \"b\"}, {\"letter\": \"c\"}, {\"letter\": \"b\"}, {\"letter\": \"c\"}, {\"letter\": \"c\"}, {\"letter\": \"b\"}, {\"letter\": \"b\"}, {\"letter\": \"c\"}, {\"letter\": \"c\"}, {\"letter\": \"a\"}, {\"letter\": \"c\"}, {\"letter\": \"a\"}, {\"letter\": \"c\"}, {\"letter\": \"c\"}, {\"letter\": \"b\"}, {\"letter\": \"c\"}, {\"letter\": \"c\"}, {\"letter\": \"c\"}, {\"letter\": \"c\"}, {\"letter\": \"c\"}, {\"letter\": \"c\"}, {\"letter\": \"a\"}, {\"letter\": \"b\"}, {\"letter\": \"c\"}, {\"letter\": \"c\"}, {\"letter\": \"c\"}, {\"letter\": \"c\"}, {\"letter\": \"c\"}, {\"letter\": \"b\"}, {\"letter\": \"c\"}, {\"letter\": \"c\"}, {\"letter\": \"c\"}, {\"letter\": \"b\"}, {\"letter\": \"c\"}, {\"letter\": \"c\"}, {\"letter\": \"b\"}, {\"letter\": \"c\"}, {\"letter\": \"a\"}, {\"letter\": \"a\"}, {\"letter\": \"c\"}, {\"letter\": \"b\"}, {\"letter\": \"a\"}, {\"letter\": \"b\"}, {\"letter\": \"b\"}, {\"letter\": \"c\"}, {\"letter\": \"c\"}, {\"letter\": \"c\"}, {\"letter\": \"c\"}, {\"letter\": \"c\"}, {\"letter\": \"c\"}, {\"letter\": \"b\"}, {\"letter\": \"c\"}, {\"letter\": \"c\"}, {\"letter\": \"c\"}, {\"letter\": \"c\"}, {\"letter\": \"c\"}, {\"letter\": \"c\"}, {\"letter\": \"c\"}, {\"letter\": \"c\"}, {\"letter\": \"c\"}, {\"letter\": \"c\"}, {\"letter\": \"c\"}, {\"letter\": \"b\"}, {\"letter\": \"a\"}, {\"letter\": \"c\"}, {\"letter\": \"a\"}, {\"letter\": \"c\"}, {\"letter\": \"c\"}, {\"letter\": \"c\"}, {\"letter\": \"c\"}, {\"letter\": \"c\"}, {\"letter\": \"c\"}, {\"letter\": \"c\"}, {\"letter\": \"c\"}, {\"letter\": \"c\"}, {\"letter\": \"c\"}, {\"letter\": \"c\"}, {\"letter\": \"c\"}, {\"letter\": \"c\"}, {\"letter\": \"c\"}, {\"letter\": \"c\"}, {\"letter\": \"c\"}, {\"letter\": \"c\"}, {\"letter\": \"c\"}, {\"letter\": \"c\"}, {\"letter\": \"c\"}, {\"letter\": \"c\"}, {\"letter\": \"c\"}, {\"letter\": \"b\"}, {\"letter\": \"a\"}, {\"letter\": \"b\"}, {\"letter\": \"c\"}, {\"letter\": \"c\"}, {\"letter\": \"c\"}, {\"letter\": \"c\"}, {\"letter\": \"c\"}, {\"letter\": \"c\"}, {\"letter\": \"a\"}, {\"letter\": \"b\"}, {\"letter\": \"c\"}, {\"letter\": \"a\"}, {\"letter\": \"c\"}, {\"letter\": \"b\"}, {\"letter\": \"c\"}, {\"letter\": \"c\"}, {\"letter\": \"c\"}, {\"letter\": \"c\"}, {\"letter\": \"c\"}, {\"letter\": \"c\"}, {\"letter\": \"b\"}, {\"letter\": \"a\"}, {\"letter\": \"c\"}, {\"letter\": \"b\"}, {\"letter\": \"c\"}, {\"letter\": \"c\"}, {\"letter\": \"c\"}, {\"letter\": \"c\"}, {\"letter\": \"c\"}, {\"letter\": \"b\"}, {\"letter\": \"c\"}, {\"letter\": \"a\"}, {\"letter\": \"b\"}, {\"letter\": \"c\"}, {\"letter\": \"b\"}, {\"letter\": \"b\"}, {\"letter\": \"c\"}, {\"letter\": \"c\"}, {\"letter\": \"c\"}, {\"letter\": \"c\"}, {\"letter\": \"b\"}, {\"letter\": \"c\"}, {\"letter\": \"c\"}, {\"letter\": \"c\"}, {\"letter\": \"c\"}, {\"letter\": \"c\"}, {\"letter\": \"c\"}, {\"letter\": \"c\"}, {\"letter\": \"b\"}, {\"letter\": \"c\"}, {\"letter\": \"c\"}, {\"letter\": \"b\"}, {\"letter\": \"a\"}, {\"letter\": \"b\"}, {\"letter\": \"a\"}, {\"letter\": \"b\"}, {\"letter\": \"c\"}, {\"letter\": \"a\"}, {\"letter\": \"b\"}, {\"letter\": \"b\"}, {\"letter\": \"b\"}, {\"letter\": \"a\"}, {\"letter\": \"c\"}, {\"letter\": \"a\"}, {\"letter\": \"b\"}, {\"letter\": \"c\"}, {\"letter\": \"b\"}, {\"letter\": \"c\"}, {\"letter\": \"c\"}, {\"letter\": \"c\"}, {\"letter\": \"c\"}, {\"letter\": \"c\"}, {\"letter\": \"c\"}, {\"letter\": \"c\"}, {\"letter\": \"a\"}, {\"letter\": \"b\"}, {\"letter\": \"c\"}, {\"letter\": \"c\"}, {\"letter\": \"c\"}, {\"letter\": \"c\"}, {\"letter\": \"c\"}, {\"letter\": \"c\"}, {\"letter\": \"b\"}, {\"letter\": \"b\"}, {\"letter\": \"c\"}, {\"letter\": \"c\"}, {\"letter\": \"c\"}, {\"letter\": \"c\"}, {\"letter\": \"c\"}, {\"letter\": \"c\"}, {\"letter\": \"b\"}, {\"letter\": \"a\"}, {\"letter\": \"c\"}, {\"letter\": \"c\"}, {\"letter\": \"b\"}, {\"letter\": \"c\"}, {\"letter\": \"c\"}, {\"letter\": \"b\"}, {\"letter\": \"c\"}, {\"letter\": \"a\"}, {\"letter\": \"c\"}, {\"letter\": \"c\"}, {\"letter\": \"c\"}, {\"letter\": \"c\"}, {\"letter\": \"c\"}, {\"letter\": \"a\"}, {\"letter\": \"c\"}, {\"letter\": \"c\"}, {\"letter\": \"c\"}, {\"letter\": \"c\"}, {\"letter\": \"c\"}, {\"letter\": \"c\"}, {\"letter\": \"c\"}, {\"letter\": \"c\"}, {\"letter\": \"a\"}, {\"letter\": \"c\"}, {\"letter\": \"c\"}, {\"letter\": \"c\"}, {\"letter\": \"c\"}, {\"letter\": \"b\"}, {\"letter\": \"a\"}, {\"letter\": \"c\"}, {\"letter\": \"b\"}, {\"letter\": \"c\"}, {\"letter\": \"c\"}, {\"letter\": \"c\"}, {\"letter\": \"b\"}, {\"letter\": \"c\"}, {\"letter\": \"a\"}, {\"letter\": \"c\"}, {\"letter\": \"a\"}, {\"letter\": \"c\"}, {\"letter\": \"a\"}, {\"letter\": \"c\"}, {\"letter\": \"a\"}, {\"letter\": \"c\"}, {\"letter\": \"c\"}, {\"letter\": \"c\"}, {\"letter\": \"b\"}, {\"letter\": \"c\"}, {\"letter\": \"b\"}, {\"letter\": \"c\"}, {\"letter\": \"b\"}, {\"letter\": \"b\"}, {\"letter\": \"c\"}, {\"letter\": \"c\"}, {\"letter\": \"c\"}, {\"letter\": \"b\"}, {\"letter\": \"c\"}, {\"letter\": \"c\"}, {\"letter\": \"b\"}, {\"letter\": \"c\"}, {\"letter\": \"c\"}, {\"letter\": \"a\"}, {\"letter\": \"c\"}, {\"letter\": \"b\"}, {\"letter\": \"b\"}, {\"letter\": \"c\"}, {\"letter\": \"c\"}, {\"letter\": \"c\"}, {\"letter\": \"c\"}, {\"letter\": \"c\"}, {\"letter\": \"c\"}, {\"letter\": \"c\"}, {\"letter\": \"b\"}, {\"letter\": \"c\"}, {\"letter\": \"c\"}, {\"letter\": \"c\"}, {\"letter\": \"c\"}, {\"letter\": \"a\"}, {\"letter\": \"a\"}, {\"letter\": \"c\"}, {\"letter\": \"c\"}, {\"letter\": \"c\"}, {\"letter\": \"c\"}, {\"letter\": \"c\"}, {\"letter\": \"c\"}, {\"letter\": \"a\"}, {\"letter\": \"c\"}, {\"letter\": \"b\"}, {\"letter\": \"a\"}, {\"letter\": \"a\"}, {\"letter\": \"b\"}, {\"letter\": \"c\"}, {\"letter\": \"c\"}, {\"letter\": \"b\"}, {\"letter\": \"c\"}, {\"letter\": \"c\"}, {\"letter\": \"b\"}, {\"letter\": \"c\"}, {\"letter\": \"c\"}, {\"letter\": \"c\"}, {\"letter\": \"c\"}, {\"letter\": \"c\"}, {\"letter\": \"c\"}, {\"letter\": \"b\"}, {\"letter\": \"c\"}, {\"letter\": \"c\"}, {\"letter\": \"b\"}, {\"letter\": \"c\"}, {\"letter\": \"b\"}, {\"letter\": \"b\"}, {\"letter\": \"c\"}, {\"letter\": \"b\"}, {\"letter\": \"c\"}, {\"letter\": \"c\"}, {\"letter\": \"c\"}, {\"letter\": \"b\"}, {\"letter\": \"c\"}, {\"letter\": \"c\"}, {\"letter\": \"c\"}, {\"letter\": \"c\"}, {\"letter\": \"b\"}, {\"letter\": \"c\"}, {\"letter\": \"c\"}, {\"letter\": \"a\"}, {\"letter\": \"c\"}, {\"letter\": \"c\"}, {\"letter\": \"c\"}, {\"letter\": \"c\"}, {\"letter\": \"a\"}, {\"letter\": \"c\"}, {\"letter\": \"c\"}, {\"letter\": \"a\"}, {\"letter\": \"c\"}, {\"letter\": \"b\"}, {\"letter\": \"c\"}, {\"letter\": \"c\"}, {\"letter\": \"c\"}, {\"letter\": \"c\"}, {\"letter\": \"c\"}, {\"letter\": \"c\"}, {\"letter\": \"a\"}, {\"letter\": \"c\"}, {\"letter\": \"b\"}, {\"letter\": \"a\"}, {\"letter\": \"c\"}, {\"letter\": \"c\"}, {\"letter\": \"c\"}, {\"letter\": \"c\"}, {\"letter\": \"b\"}, {\"letter\": \"c\"}, {\"letter\": \"c\"}, {\"letter\": \"c\"}, {\"letter\": \"c\"}, {\"letter\": \"c\"}, {\"letter\": \"b\"}, {\"letter\": \"c\"}, {\"letter\": \"a\"}, {\"letter\": \"c\"}, {\"letter\": \"b\"}, {\"letter\": \"a\"}, {\"letter\": \"c\"}, {\"letter\": \"b\"}, {\"letter\": \"b\"}, {\"letter\": \"c\"}, {\"letter\": \"b\"}, {\"letter\": \"b\"}, {\"letter\": \"c\"}, {\"letter\": \"c\"}, {\"letter\": \"c\"}, {\"letter\": \"c\"}, {\"letter\": \"a\"}, {\"letter\": \"c\"}, {\"letter\": \"c\"}]}}, {\"mode\": \"vega-lite\"});\n",
       "</script>"
      ],
      "text/plain": [
       "alt.Chart(...)"
      ]
     },
     "execution_count": 5,
     "metadata": {},
     "output_type": "execute_result"
    }
   ],
   "source": [
    "import altair as alt\n",
    "import pandas as pd\n",
    "\n",
    "### My scheme\n",
    "source = pd.DataFrame(\n",
    "    random.choice(\n",
    "        ['a','b','c'],\n",
    "        p = w,\n",
    "        replace=True,\n",
    "        size=1000\n",
    "    ),\n",
    "    columns=['letter']\n",
    ")\n",
    "\n",
    "source\n",
    "\n",
    "alt.Chart(source).mark_bar().encode(\n",
    "    alt.Y(\"letter\"),\n",
    "    x='count()'\n",
    ")\n"
   ]
  },
  {
   "cell_type": "code",
   "execution_count": 6,
   "metadata": {},
   "outputs": [
    {
     "data": {
      "text/html": [
       "\n",
       "<div id=\"altair-viz-aacc47ea25f64bd9961b69d8f6bed788\"></div>\n",
       "<script type=\"text/javascript\">\n",
       "  (function(spec, embedOpt){\n",
       "    let outputDiv = document.currentScript.previousElementSibling;\n",
       "    if (outputDiv.id !== \"altair-viz-aacc47ea25f64bd9961b69d8f6bed788\") {\n",
       "      outputDiv = document.getElementById(\"altair-viz-aacc47ea25f64bd9961b69d8f6bed788\");\n",
       "    }\n",
       "    const paths = {\n",
       "      \"vega\": \"https://cdn.jsdelivr.net/npm//vega@5?noext\",\n",
       "      \"vega-lib\": \"https://cdn.jsdelivr.net/npm//vega-lib?noext\",\n",
       "      \"vega-lite\": \"https://cdn.jsdelivr.net/npm//vega-lite@4.8.1?noext\",\n",
       "      \"vega-embed\": \"https://cdn.jsdelivr.net/npm//vega-embed@6?noext\",\n",
       "    };\n",
       "\n",
       "    function loadScript(lib) {\n",
       "      return new Promise(function(resolve, reject) {\n",
       "        var s = document.createElement('script');\n",
       "        s.src = paths[lib];\n",
       "        s.async = true;\n",
       "        s.onload = () => resolve(paths[lib]);\n",
       "        s.onerror = () => reject(`Error loading script: ${paths[lib]}`);\n",
       "        document.getElementsByTagName(\"head\")[0].appendChild(s);\n",
       "      });\n",
       "    }\n",
       "\n",
       "    function showError(err) {\n",
       "      outputDiv.innerHTML = `<div class=\"error\" style=\"color:red;\">${err}</div>`;\n",
       "      throw err;\n",
       "    }\n",
       "\n",
       "    function displayChart(vegaEmbed) {\n",
       "      vegaEmbed(outputDiv, spec, embedOpt)\n",
       "        .catch(err => showError(`Javascript Error: ${err.message}<br>This usually means there's a typo in your chart specification. See the javascript console for the full traceback.`));\n",
       "    }\n",
       "\n",
       "    if(typeof define === \"function\" && define.amd) {\n",
       "      requirejs.config({paths});\n",
       "      require([\"vega-embed\"], displayChart, err => showError(`Error loading script: ${err.message}`));\n",
       "    } else if (typeof vegaEmbed === \"function\") {\n",
       "      displayChart(vegaEmbed);\n",
       "    } else {\n",
       "      loadScript(\"vega\")\n",
       "        .then(() => loadScript(\"vega-lite\"))\n",
       "        .then(() => loadScript(\"vega-embed\"))\n",
       "        .catch(showError)\n",
       "        .then(() => displayChart(vegaEmbed));\n",
       "    }\n",
       "  })({\"config\": {\"view\": {\"continuousWidth\": 400, \"continuousHeight\": 300}}, \"data\": {\"name\": \"data-6efade955d3a9d615edd29f4acb0409a\"}, \"mark\": \"bar\", \"encoding\": {\"x\": {\"type\": \"quantitative\", \"aggregate\": \"count\"}, \"y\": {\"type\": \"nominal\", \"field\": \"letter\"}}, \"$schema\": \"https://vega.github.io/schema/vega-lite/v4.8.1.json\", \"datasets\": {\"data-6efade955d3a9d615edd29f4acb0409a\": [{\"letter\": \"a\"}, {\"letter\": \"a\"}, {\"letter\": \"a\"}, {\"letter\": \"a\"}, {\"letter\": \"a\"}, {\"letter\": \"a\"}, {\"letter\": \"a\"}, {\"letter\": \"a\"}, {\"letter\": \"a\"}, {\"letter\": \"a\"}, {\"letter\": \"a\"}, {\"letter\": \"a\"}, {\"letter\": \"a\"}, {\"letter\": \"a\"}, {\"letter\": \"a\"}, {\"letter\": \"a\"}, {\"letter\": \"a\"}, {\"letter\": \"a\"}, {\"letter\": \"a\"}, {\"letter\": \"a\"}, {\"letter\": \"a\"}, {\"letter\": \"a\"}, {\"letter\": \"a\"}, {\"letter\": \"a\"}, {\"letter\": \"a\"}, {\"letter\": \"a\"}, {\"letter\": \"a\"}, {\"letter\": \"a\"}, {\"letter\": \"a\"}, {\"letter\": \"a\"}, {\"letter\": \"a\"}, {\"letter\": \"a\"}, {\"letter\": \"a\"}, {\"letter\": \"a\"}, {\"letter\": \"a\"}, {\"letter\": \"a\"}, {\"letter\": \"a\"}, {\"letter\": \"a\"}, {\"letter\": \"a\"}, {\"letter\": \"a\"}, {\"letter\": \"a\"}, {\"letter\": \"a\"}, {\"letter\": \"a\"}, {\"letter\": \"a\"}, {\"letter\": \"a\"}, {\"letter\": \"a\"}, {\"letter\": \"a\"}, {\"letter\": \"a\"}, {\"letter\": \"a\"}, {\"letter\": \"a\"}, {\"letter\": \"a\"}, {\"letter\": \"a\"}, {\"letter\": \"a\"}, {\"letter\": \"a\"}, {\"letter\": \"a\"}, {\"letter\": \"a\"}, {\"letter\": \"a\"}, {\"letter\": \"a\"}, {\"letter\": \"a\"}, {\"letter\": \"a\"}, {\"letter\": \"a\"}, {\"letter\": \"a\"}, {\"letter\": \"a\"}, {\"letter\": \"a\"}, {\"letter\": \"a\"}, {\"letter\": \"a\"}, {\"letter\": \"a\"}, {\"letter\": \"a\"}, {\"letter\": \"a\"}, {\"letter\": \"a\"}, {\"letter\": \"a\"}, {\"letter\": \"a\"}, {\"letter\": \"a\"}, {\"letter\": \"a\"}, {\"letter\": \"a\"}, {\"letter\": \"a\"}, {\"letter\": \"a\"}, {\"letter\": \"a\"}, {\"letter\": \"a\"}, {\"letter\": \"a\"}, {\"letter\": \"a\"}, {\"letter\": \"a\"}, {\"letter\": \"a\"}, {\"letter\": \"a\"}, {\"letter\": \"a\"}, {\"letter\": \"a\"}, {\"letter\": \"a\"}, {\"letter\": \"a\"}, {\"letter\": \"a\"}, {\"letter\": \"a\"}, {\"letter\": \"a\"}, {\"letter\": \"a\"}, {\"letter\": \"a\"}, {\"letter\": \"a\"}, {\"letter\": \"a\"}, {\"letter\": \"a\"}, {\"letter\": \"a\"}, {\"letter\": \"a\"}, {\"letter\": \"a\"}, {\"letter\": \"a\"}, {\"letter\": \"a\"}, {\"letter\": \"b\"}, {\"letter\": \"b\"}, {\"letter\": \"b\"}, {\"letter\": \"b\"}, {\"letter\": \"b\"}, {\"letter\": \"b\"}, {\"letter\": \"b\"}, {\"letter\": \"b\"}, {\"letter\": \"b\"}, {\"letter\": \"b\"}, {\"letter\": \"b\"}, {\"letter\": \"b\"}, {\"letter\": \"b\"}, {\"letter\": \"b\"}, {\"letter\": \"b\"}, {\"letter\": \"b\"}, {\"letter\": \"b\"}, {\"letter\": \"b\"}, {\"letter\": \"b\"}, {\"letter\": \"b\"}, {\"letter\": \"b\"}, {\"letter\": \"b\"}, {\"letter\": \"b\"}, {\"letter\": \"b\"}, {\"letter\": \"b\"}, {\"letter\": \"b\"}, {\"letter\": \"b\"}, {\"letter\": \"b\"}, {\"letter\": \"b\"}, {\"letter\": \"b\"}, {\"letter\": \"b\"}, {\"letter\": \"b\"}, {\"letter\": \"b\"}, {\"letter\": \"b\"}, {\"letter\": \"b\"}, {\"letter\": \"b\"}, {\"letter\": \"b\"}, {\"letter\": \"b\"}, {\"letter\": \"b\"}, {\"letter\": \"b\"}, {\"letter\": \"b\"}, {\"letter\": \"b\"}, {\"letter\": \"b\"}, {\"letter\": \"b\"}, {\"letter\": \"b\"}, {\"letter\": \"b\"}, {\"letter\": \"b\"}, {\"letter\": \"b\"}, {\"letter\": \"b\"}, {\"letter\": \"b\"}, {\"letter\": \"b\"}, {\"letter\": \"b\"}, {\"letter\": \"b\"}, {\"letter\": \"b\"}, {\"letter\": \"b\"}, {\"letter\": \"b\"}, {\"letter\": \"b\"}, {\"letter\": \"b\"}, {\"letter\": \"b\"}, {\"letter\": \"b\"}, {\"letter\": \"b\"}, {\"letter\": \"b\"}, {\"letter\": \"b\"}, {\"letter\": \"b\"}, {\"letter\": \"b\"}, {\"letter\": \"b\"}, {\"letter\": \"b\"}, {\"letter\": \"b\"}, {\"letter\": \"b\"}, {\"letter\": \"b\"}, {\"letter\": \"b\"}, {\"letter\": \"b\"}, {\"letter\": \"b\"}, {\"letter\": \"b\"}, {\"letter\": \"b\"}, {\"letter\": \"b\"}, {\"letter\": \"b\"}, {\"letter\": \"b\"}, {\"letter\": \"b\"}, {\"letter\": \"b\"}, {\"letter\": \"b\"}, {\"letter\": \"b\"}, {\"letter\": \"b\"}, {\"letter\": \"b\"}, {\"letter\": \"b\"}, {\"letter\": \"b\"}, {\"letter\": \"b\"}, {\"letter\": \"b\"}, {\"letter\": \"b\"}, {\"letter\": \"b\"}, {\"letter\": \"b\"}, {\"letter\": \"b\"}, {\"letter\": \"b\"}, {\"letter\": \"b\"}, {\"letter\": \"b\"}, {\"letter\": \"b\"}, {\"letter\": \"b\"}, {\"letter\": \"b\"}, {\"letter\": \"b\"}, {\"letter\": \"b\"}, {\"letter\": \"b\"}, {\"letter\": \"b\"}, {\"letter\": \"b\"}, {\"letter\": \"b\"}, {\"letter\": \"b\"}, {\"letter\": \"b\"}, {\"letter\": \"b\"}, {\"letter\": \"b\"}, {\"letter\": \"b\"}, {\"letter\": \"b\"}, {\"letter\": \"b\"}, {\"letter\": \"b\"}, {\"letter\": \"b\"}, {\"letter\": \"b\"}, {\"letter\": \"b\"}, {\"letter\": \"b\"}, {\"letter\": \"b\"}, {\"letter\": \"b\"}, {\"letter\": \"b\"}, {\"letter\": \"b\"}, {\"letter\": \"b\"}, {\"letter\": \"b\"}, {\"letter\": \"b\"}, {\"letter\": \"b\"}, {\"letter\": \"b\"}, {\"letter\": \"b\"}, {\"letter\": \"b\"}, {\"letter\": \"b\"}, {\"letter\": \"b\"}, {\"letter\": \"b\"}, {\"letter\": \"b\"}, {\"letter\": \"b\"}, {\"letter\": \"b\"}, {\"letter\": \"b\"}, {\"letter\": \"b\"}, {\"letter\": \"b\"}, {\"letter\": \"b\"}, {\"letter\": \"b\"}, {\"letter\": \"b\"}, {\"letter\": \"b\"}, {\"letter\": \"b\"}, {\"letter\": \"b\"}, {\"letter\": \"b\"}, {\"letter\": \"b\"}, {\"letter\": \"b\"}, {\"letter\": \"b\"}, {\"letter\": \"b\"}, {\"letter\": \"b\"}, {\"letter\": \"b\"}, {\"letter\": \"b\"}, {\"letter\": \"b\"}, {\"letter\": \"b\"}, {\"letter\": \"b\"}, {\"letter\": \"b\"}, {\"letter\": \"b\"}, {\"letter\": \"b\"}, {\"letter\": \"b\"}, {\"letter\": \"b\"}, {\"letter\": \"b\"}, {\"letter\": \"b\"}, {\"letter\": \"b\"}, {\"letter\": \"b\"}, {\"letter\": \"b\"}, {\"letter\": \"b\"}, {\"letter\": \"b\"}, {\"letter\": \"b\"}, {\"letter\": \"b\"}, {\"letter\": \"b\"}, {\"letter\": \"b\"}, {\"letter\": \"b\"}, {\"letter\": \"b\"}, {\"letter\": \"b\"}, {\"letter\": \"b\"}, {\"letter\": \"b\"}, {\"letter\": \"b\"}, {\"letter\": \"b\"}, {\"letter\": \"b\"}, {\"letter\": \"b\"}, {\"letter\": \"b\"}, {\"letter\": \"b\"}, {\"letter\": \"b\"}, {\"letter\": \"b\"}, {\"letter\": \"b\"}, {\"letter\": \"b\"}, {\"letter\": \"b\"}, {\"letter\": \"b\"}, {\"letter\": \"b\"}, {\"letter\": \"b\"}, {\"letter\": \"b\"}, {\"letter\": \"b\"}, {\"letter\": \"b\"}, {\"letter\": \"b\"}, {\"letter\": \"b\"}, {\"letter\": \"b\"}, {\"letter\": \"b\"}, {\"letter\": \"b\"}, {\"letter\": \"b\"}, {\"letter\": \"b\"}, {\"letter\": \"b\"}, {\"letter\": \"b\"}, {\"letter\": \"b\"}, {\"letter\": \"b\"}, {\"letter\": \"b\"}, {\"letter\": \"b\"}, {\"letter\": \"b\"}, {\"letter\": \"b\"}, {\"letter\": \"b\"}, {\"letter\": \"b\"}, {\"letter\": \"b\"}, {\"letter\": \"b\"}, {\"letter\": \"b\"}, {\"letter\": \"b\"}, {\"letter\": \"b\"}, {\"letter\": \"b\"}, {\"letter\": \"b\"}, {\"letter\": \"b\"}, {\"letter\": \"b\"}, {\"letter\": \"b\"}, {\"letter\": \"b\"}, {\"letter\": \"b\"}, {\"letter\": \"b\"}, {\"letter\": \"b\"}, {\"letter\": \"b\"}, {\"letter\": \"b\"}, {\"letter\": \"b\"}, {\"letter\": \"b\"}, {\"letter\": \"b\"}, {\"letter\": \"b\"}, {\"letter\": \"b\"}, {\"letter\": \"b\"}, {\"letter\": \"b\"}, {\"letter\": \"b\"}, {\"letter\": \"b\"}, {\"letter\": \"b\"}, {\"letter\": \"b\"}, {\"letter\": \"b\"}, {\"letter\": \"b\"}, {\"letter\": \"b\"}, {\"letter\": \"b\"}, {\"letter\": \"b\"}, {\"letter\": \"b\"}, {\"letter\": \"b\"}, {\"letter\": \"b\"}, {\"letter\": \"b\"}, {\"letter\": \"b\"}, {\"letter\": \"b\"}, {\"letter\": \"b\"}, {\"letter\": \"b\"}, {\"letter\": \"b\"}, {\"letter\": \"b\"}, {\"letter\": \"b\"}, {\"letter\": \"b\"}, {\"letter\": \"b\"}, {\"letter\": \"b\"}, {\"letter\": \"b\"}, {\"letter\": \"b\"}, {\"letter\": \"b\"}, {\"letter\": \"b\"}, {\"letter\": \"b\"}, {\"letter\": \"b\"}, {\"letter\": \"b\"}, {\"letter\": \"b\"}, {\"letter\": \"b\"}, {\"letter\": \"b\"}, {\"letter\": \"b\"}, {\"letter\": \"b\"}, {\"letter\": \"b\"}, {\"letter\": \"b\"}, {\"letter\": \"b\"}, {\"letter\": \"c\"}, {\"letter\": \"c\"}, {\"letter\": \"c\"}, {\"letter\": \"c\"}, {\"letter\": \"c\"}, {\"letter\": \"c\"}, {\"letter\": \"c\"}, {\"letter\": \"c\"}, {\"letter\": \"c\"}, {\"letter\": \"c\"}, {\"letter\": \"c\"}, {\"letter\": \"c\"}, {\"letter\": \"c\"}, {\"letter\": \"c\"}, {\"letter\": \"c\"}, {\"letter\": \"c\"}, {\"letter\": \"c\"}, {\"letter\": \"c\"}, {\"letter\": \"c\"}, {\"letter\": \"c\"}, {\"letter\": \"c\"}, {\"letter\": \"c\"}, {\"letter\": \"c\"}, {\"letter\": \"c\"}, {\"letter\": \"c\"}, {\"letter\": \"c\"}, {\"letter\": \"c\"}, {\"letter\": \"c\"}, {\"letter\": \"c\"}, {\"letter\": \"c\"}, {\"letter\": \"c\"}, {\"letter\": \"c\"}, {\"letter\": \"c\"}, {\"letter\": \"c\"}, {\"letter\": \"c\"}, {\"letter\": \"c\"}, {\"letter\": \"c\"}, {\"letter\": \"c\"}, {\"letter\": \"c\"}, {\"letter\": \"c\"}, {\"letter\": \"c\"}, {\"letter\": \"c\"}, {\"letter\": \"c\"}, {\"letter\": \"c\"}, {\"letter\": \"c\"}, {\"letter\": \"c\"}, {\"letter\": \"c\"}, {\"letter\": \"c\"}, {\"letter\": \"c\"}, {\"letter\": \"c\"}, {\"letter\": \"c\"}, {\"letter\": \"c\"}, {\"letter\": \"c\"}, {\"letter\": \"c\"}, {\"letter\": \"c\"}, {\"letter\": \"c\"}, {\"letter\": \"c\"}, {\"letter\": \"c\"}, {\"letter\": \"c\"}, {\"letter\": \"c\"}, {\"letter\": \"c\"}, {\"letter\": \"c\"}, {\"letter\": \"c\"}, {\"letter\": \"c\"}, {\"letter\": \"c\"}, {\"letter\": \"c\"}, {\"letter\": \"c\"}, {\"letter\": \"c\"}, {\"letter\": \"c\"}, {\"letter\": \"c\"}, {\"letter\": \"c\"}, {\"letter\": \"c\"}, {\"letter\": \"c\"}, {\"letter\": \"c\"}, {\"letter\": \"c\"}, {\"letter\": \"c\"}, {\"letter\": \"c\"}, {\"letter\": \"c\"}, {\"letter\": \"c\"}, {\"letter\": \"c\"}, {\"letter\": \"c\"}, {\"letter\": \"c\"}, {\"letter\": \"c\"}, {\"letter\": \"c\"}, {\"letter\": \"c\"}, {\"letter\": \"c\"}, {\"letter\": \"c\"}, {\"letter\": \"c\"}, {\"letter\": \"c\"}, {\"letter\": \"c\"}, {\"letter\": \"c\"}, {\"letter\": \"c\"}, {\"letter\": \"c\"}, {\"letter\": \"c\"}, {\"letter\": \"c\"}, {\"letter\": \"c\"}, {\"letter\": \"c\"}, {\"letter\": \"c\"}, {\"letter\": \"c\"}, {\"letter\": \"c\"}, {\"letter\": \"c\"}, {\"letter\": \"c\"}, {\"letter\": \"c\"}, {\"letter\": \"c\"}, {\"letter\": \"c\"}, {\"letter\": \"c\"}, {\"letter\": \"c\"}, {\"letter\": \"c\"}, {\"letter\": \"c\"}, {\"letter\": \"c\"}, {\"letter\": \"c\"}, {\"letter\": \"c\"}, {\"letter\": \"c\"}, {\"letter\": \"c\"}, {\"letter\": \"c\"}, {\"letter\": \"c\"}, {\"letter\": \"c\"}, {\"letter\": \"c\"}, {\"letter\": \"c\"}, {\"letter\": \"c\"}, {\"letter\": \"c\"}, {\"letter\": \"c\"}, {\"letter\": \"c\"}, {\"letter\": \"c\"}, {\"letter\": \"c\"}, {\"letter\": \"c\"}, {\"letter\": \"c\"}, {\"letter\": \"c\"}, {\"letter\": \"c\"}, {\"letter\": \"c\"}, {\"letter\": \"c\"}, {\"letter\": \"c\"}, {\"letter\": \"c\"}, {\"letter\": \"c\"}, {\"letter\": \"c\"}, {\"letter\": \"c\"}, {\"letter\": \"c\"}, {\"letter\": \"c\"}, {\"letter\": \"c\"}, {\"letter\": \"c\"}, {\"letter\": \"c\"}, {\"letter\": \"c\"}, {\"letter\": \"c\"}, {\"letter\": \"c\"}, {\"letter\": \"c\"}, {\"letter\": \"c\"}, {\"letter\": \"c\"}, {\"letter\": \"c\"}, {\"letter\": \"c\"}, {\"letter\": \"c\"}, {\"letter\": \"c\"}, {\"letter\": \"c\"}, {\"letter\": \"c\"}, {\"letter\": \"c\"}, {\"letter\": \"c\"}, {\"letter\": \"c\"}, {\"letter\": \"c\"}, {\"letter\": \"c\"}, {\"letter\": \"c\"}, {\"letter\": \"c\"}, {\"letter\": \"c\"}, {\"letter\": \"c\"}, {\"letter\": \"c\"}, {\"letter\": \"c\"}, {\"letter\": \"c\"}, {\"letter\": \"c\"}, {\"letter\": \"c\"}, {\"letter\": \"c\"}, {\"letter\": \"c\"}, {\"letter\": \"c\"}, {\"letter\": \"c\"}, {\"letter\": \"c\"}, {\"letter\": \"c\"}, {\"letter\": \"c\"}, {\"letter\": \"c\"}, {\"letter\": \"c\"}, {\"letter\": \"c\"}, {\"letter\": \"c\"}, {\"letter\": \"c\"}, {\"letter\": \"c\"}, {\"letter\": \"c\"}, {\"letter\": \"c\"}, {\"letter\": \"c\"}, {\"letter\": \"c\"}, {\"letter\": \"c\"}, {\"letter\": \"c\"}, {\"letter\": \"c\"}, {\"letter\": \"c\"}, {\"letter\": \"c\"}, {\"letter\": \"c\"}, {\"letter\": \"c\"}, {\"letter\": \"c\"}, {\"letter\": \"c\"}, {\"letter\": \"c\"}, {\"letter\": \"c\"}, {\"letter\": \"c\"}, {\"letter\": \"c\"}, {\"letter\": \"c\"}, {\"letter\": \"c\"}, {\"letter\": \"c\"}, {\"letter\": \"c\"}, {\"letter\": \"c\"}, {\"letter\": \"c\"}, {\"letter\": \"c\"}, {\"letter\": \"c\"}, {\"letter\": \"c\"}, {\"letter\": \"c\"}, {\"letter\": \"c\"}, {\"letter\": \"c\"}, {\"letter\": \"c\"}, {\"letter\": \"c\"}, {\"letter\": \"c\"}, {\"letter\": \"c\"}, {\"letter\": \"c\"}, {\"letter\": \"c\"}, {\"letter\": \"c\"}, {\"letter\": \"c\"}, {\"letter\": \"c\"}, {\"letter\": \"c\"}, {\"letter\": \"c\"}, {\"letter\": \"c\"}, {\"letter\": \"c\"}, {\"letter\": \"c\"}, {\"letter\": \"c\"}, {\"letter\": \"c\"}, {\"letter\": \"c\"}, {\"letter\": \"c\"}, {\"letter\": \"c\"}, {\"letter\": \"c\"}, {\"letter\": \"c\"}, {\"letter\": \"c\"}, {\"letter\": \"c\"}, {\"letter\": \"c\"}, {\"letter\": \"c\"}, {\"letter\": \"c\"}, {\"letter\": \"c\"}, {\"letter\": \"c\"}, {\"letter\": \"c\"}, {\"letter\": \"c\"}, {\"letter\": \"c\"}, {\"letter\": \"c\"}, {\"letter\": \"c\"}, {\"letter\": \"c\"}, {\"letter\": \"c\"}, {\"letter\": \"c\"}, {\"letter\": \"c\"}, {\"letter\": \"c\"}, {\"letter\": \"c\"}, {\"letter\": \"c\"}, {\"letter\": \"c\"}, {\"letter\": \"c\"}, {\"letter\": \"c\"}, {\"letter\": \"c\"}, {\"letter\": \"c\"}, {\"letter\": \"c\"}, {\"letter\": \"c\"}, {\"letter\": \"c\"}, {\"letter\": \"c\"}, {\"letter\": \"c\"}, {\"letter\": \"c\"}, {\"letter\": \"c\"}, {\"letter\": \"c\"}, {\"letter\": \"c\"}, {\"letter\": \"c\"}, {\"letter\": \"c\"}, {\"letter\": \"c\"}, {\"letter\": \"c\"}, {\"letter\": \"c\"}, {\"letter\": \"c\"}, {\"letter\": \"c\"}, {\"letter\": \"c\"}, {\"letter\": \"c\"}, {\"letter\": \"c\"}, {\"letter\": \"c\"}, {\"letter\": \"c\"}, {\"letter\": \"c\"}, {\"letter\": \"c\"}, {\"letter\": \"c\"}, {\"letter\": \"c\"}, {\"letter\": \"c\"}, {\"letter\": \"c\"}, {\"letter\": \"c\"}, {\"letter\": \"c\"}, {\"letter\": \"c\"}, {\"letter\": \"c\"}, {\"letter\": \"c\"}, {\"letter\": \"c\"}, {\"letter\": \"c\"}, {\"letter\": \"c\"}, {\"letter\": \"c\"}, {\"letter\": \"c\"}, {\"letter\": \"c\"}, {\"letter\": \"c\"}, {\"letter\": \"c\"}, {\"letter\": \"c\"}, {\"letter\": \"c\"}, {\"letter\": \"c\"}, {\"letter\": \"c\"}, {\"letter\": \"c\"}, {\"letter\": \"c\"}, {\"letter\": \"c\"}, {\"letter\": \"c\"}, {\"letter\": \"c\"}, {\"letter\": \"c\"}, {\"letter\": \"c\"}, {\"letter\": \"c\"}, {\"letter\": \"c\"}, {\"letter\": \"c\"}, {\"letter\": \"c\"}, {\"letter\": \"c\"}, {\"letter\": \"c\"}, {\"letter\": \"c\"}, {\"letter\": \"c\"}, {\"letter\": \"c\"}, {\"letter\": \"c\"}, {\"letter\": \"c\"}, {\"letter\": \"c\"}, {\"letter\": \"c\"}, {\"letter\": \"c\"}, {\"letter\": \"c\"}, {\"letter\": \"c\"}, {\"letter\": \"c\"}, {\"letter\": \"c\"}, {\"letter\": \"c\"}, {\"letter\": \"c\"}, {\"letter\": \"c\"}, {\"letter\": \"c\"}, {\"letter\": \"c\"}, {\"letter\": \"c\"}, {\"letter\": \"c\"}, {\"letter\": \"c\"}, {\"letter\": \"c\"}, {\"letter\": \"c\"}, {\"letter\": \"c\"}, {\"letter\": \"c\"}, {\"letter\": \"c\"}, {\"letter\": \"c\"}, {\"letter\": \"c\"}, {\"letter\": \"c\"}, {\"letter\": \"c\"}, {\"letter\": \"c\"}, {\"letter\": \"c\"}, {\"letter\": \"c\"}, {\"letter\": \"c\"}, {\"letter\": \"c\"}, {\"letter\": \"c\"}, {\"letter\": \"c\"}, {\"letter\": \"c\"}, {\"letter\": \"c\"}, {\"letter\": \"c\"}, {\"letter\": \"c\"}, {\"letter\": \"c\"}, {\"letter\": \"c\"}, {\"letter\": \"c\"}, {\"letter\": \"c\"}, {\"letter\": \"c\"}, {\"letter\": \"c\"}, {\"letter\": \"c\"}, {\"letter\": \"c\"}, {\"letter\": \"c\"}, {\"letter\": \"c\"}, {\"letter\": \"c\"}, {\"letter\": \"c\"}, {\"letter\": \"c\"}, {\"letter\": \"c\"}, {\"letter\": \"c\"}, {\"letter\": \"c\"}, {\"letter\": \"c\"}, {\"letter\": \"c\"}, {\"letter\": \"c\"}, {\"letter\": \"c\"}, {\"letter\": \"c\"}, {\"letter\": \"c\"}, {\"letter\": \"c\"}, {\"letter\": \"c\"}, {\"letter\": \"c\"}, {\"letter\": \"c\"}, {\"letter\": \"c\"}, {\"letter\": \"c\"}, {\"letter\": \"c\"}, {\"letter\": \"c\"}, {\"letter\": \"c\"}, {\"letter\": \"c\"}, {\"letter\": \"c\"}, {\"letter\": \"c\"}, {\"letter\": \"c\"}, {\"letter\": \"c\"}, {\"letter\": \"c\"}, {\"letter\": \"c\"}, {\"letter\": \"c\"}, {\"letter\": \"c\"}, {\"letter\": \"c\"}, {\"letter\": \"c\"}, {\"letter\": \"c\"}, {\"letter\": \"c\"}, {\"letter\": \"c\"}, {\"letter\": \"c\"}, {\"letter\": \"c\"}, {\"letter\": \"c\"}, {\"letter\": \"c\"}, {\"letter\": \"c\"}, {\"letter\": \"c\"}, {\"letter\": \"c\"}, {\"letter\": \"c\"}, {\"letter\": \"c\"}, {\"letter\": \"c\"}, {\"letter\": \"c\"}, {\"letter\": \"c\"}, {\"letter\": \"c\"}, {\"letter\": \"c\"}, {\"letter\": \"c\"}, {\"letter\": \"c\"}, {\"letter\": \"c\"}, {\"letter\": \"c\"}, {\"letter\": \"c\"}, {\"letter\": \"c\"}, {\"letter\": \"c\"}, {\"letter\": \"c\"}, {\"letter\": \"c\"}, {\"letter\": \"c\"}, {\"letter\": \"c\"}, {\"letter\": \"c\"}, {\"letter\": \"c\"}, {\"letter\": \"c\"}, {\"letter\": \"c\"}, {\"letter\": \"c\"}, {\"letter\": \"c\"}, {\"letter\": \"c\"}, {\"letter\": \"c\"}, {\"letter\": \"c\"}, {\"letter\": \"c\"}, {\"letter\": \"c\"}, {\"letter\": \"c\"}, {\"letter\": \"c\"}, {\"letter\": \"c\"}, {\"letter\": \"c\"}, {\"letter\": \"c\"}, {\"letter\": \"c\"}, {\"letter\": \"c\"}, {\"letter\": \"c\"}, {\"letter\": \"c\"}, {\"letter\": \"c\"}, {\"letter\": \"c\"}, {\"letter\": \"c\"}, {\"letter\": \"c\"}, {\"letter\": \"c\"}, {\"letter\": \"c\"}, {\"letter\": \"c\"}, {\"letter\": \"c\"}, {\"letter\": \"c\"}, {\"letter\": \"c\"}, {\"letter\": \"c\"}, {\"letter\": \"c\"}, {\"letter\": \"c\"}, {\"letter\": \"c\"}, {\"letter\": \"c\"}, {\"letter\": \"c\"}, {\"letter\": \"c\"}, {\"letter\": \"c\"}, {\"letter\": \"c\"}, {\"letter\": \"c\"}, {\"letter\": \"c\"}, {\"letter\": \"c\"}, {\"letter\": \"c\"}, {\"letter\": \"c\"}, {\"letter\": \"c\"}, {\"letter\": \"c\"}, {\"letter\": \"c\"}, {\"letter\": \"c\"}, {\"letter\": \"c\"}, {\"letter\": \"c\"}, {\"letter\": \"c\"}, {\"letter\": \"c\"}, {\"letter\": \"c\"}, {\"letter\": \"c\"}, {\"letter\": \"c\"}, {\"letter\": \"c\"}, {\"letter\": \"c\"}, {\"letter\": \"c\"}, {\"letter\": \"c\"}, {\"letter\": \"c\"}, {\"letter\": \"c\"}, {\"letter\": \"c\"}, {\"letter\": \"c\"}, {\"letter\": \"c\"}, {\"letter\": \"c\"}, {\"letter\": \"c\"}, {\"letter\": \"c\"}, {\"letter\": \"c\"}, {\"letter\": \"c\"}, {\"letter\": \"c\"}, {\"letter\": \"c\"}, {\"letter\": \"c\"}, {\"letter\": \"c\"}, {\"letter\": \"c\"}, {\"letter\": \"c\"}, {\"letter\": \"c\"}, {\"letter\": \"c\"}, {\"letter\": \"c\"}, {\"letter\": \"c\"}, {\"letter\": \"c\"}, {\"letter\": \"c\"}, {\"letter\": \"c\"}, {\"letter\": \"c\"}, {\"letter\": \"c\"}, {\"letter\": \"c\"}, {\"letter\": \"c\"}, {\"letter\": \"c\"}, {\"letter\": \"c\"}, {\"letter\": \"c\"}, {\"letter\": \"c\"}, {\"letter\": \"c\"}, {\"letter\": \"c\"}, {\"letter\": \"c\"}, {\"letter\": \"c\"}, {\"letter\": \"c\"}, {\"letter\": \"c\"}, {\"letter\": \"c\"}, {\"letter\": \"c\"}, {\"letter\": \"c\"}, {\"letter\": \"c\"}, {\"letter\": \"c\"}, {\"letter\": \"c\"}, {\"letter\": \"c\"}, {\"letter\": \"c\"}, {\"letter\": \"c\"}, {\"letter\": \"c\"}, {\"letter\": \"c\"}, {\"letter\": \"c\"}, {\"letter\": \"c\"}, {\"letter\": \"c\"}, {\"letter\": \"c\"}, {\"letter\": \"c\"}, {\"letter\": \"c\"}, {\"letter\": \"c\"}, {\"letter\": \"c\"}, {\"letter\": \"c\"}, {\"letter\": \"c\"}, {\"letter\": \"c\"}, {\"letter\": \"c\"}, {\"letter\": \"c\"}, {\"letter\": \"c\"}, {\"letter\": \"c\"}, {\"letter\": \"c\"}, {\"letter\": \"c\"}, {\"letter\": \"c\"}, {\"letter\": \"c\"}, {\"letter\": \"c\"}, {\"letter\": \"c\"}, {\"letter\": \"c\"}, {\"letter\": \"c\"}, {\"letter\": \"c\"}, {\"letter\": \"c\"}, {\"letter\": \"c\"}, {\"letter\": \"c\"}, {\"letter\": \"c\"}, {\"letter\": \"c\"}, {\"letter\": \"c\"}, {\"letter\": \"c\"}, {\"letter\": \"c\"}, {\"letter\": \"c\"}, {\"letter\": \"c\"}, {\"letter\": \"c\"}, {\"letter\": \"c\"}, {\"letter\": \"c\"}, {\"letter\": \"c\"}, {\"letter\": \"c\"}, {\"letter\": \"c\"}, {\"letter\": \"c\"}, {\"letter\": \"c\"}, {\"letter\": \"c\"}, {\"letter\": \"c\"}, {\"letter\": \"c\"}, {\"letter\": \"c\"}, {\"letter\": \"c\"}, {\"letter\": \"c\"}, {\"letter\": \"c\"}, {\"letter\": \"c\"}, {\"letter\": \"c\"}, {\"letter\": \"c\"}, {\"letter\": \"c\"}, {\"letter\": \"c\"}, {\"letter\": \"c\"}, {\"letter\": \"c\"}, {\"letter\": \"c\"}, {\"letter\": \"c\"}, {\"letter\": \"c\"}, {\"letter\": \"c\"}, {\"letter\": \"c\"}, {\"letter\": \"c\"}, {\"letter\": \"c\"}, {\"letter\": \"c\"}, {\"letter\": \"c\"}, {\"letter\": \"c\"}, {\"letter\": \"c\"}, {\"letter\": \"c\"}, {\"letter\": \"c\"}, {\"letter\": \"c\"}, {\"letter\": \"c\"}, {\"letter\": \"c\"}, {\"letter\": \"c\"}, {\"letter\": \"c\"}, {\"letter\": \"c\"}, {\"letter\": \"c\"}, {\"letter\": \"c\"}, {\"letter\": \"c\"}, {\"letter\": \"c\"}, {\"letter\": \"c\"}, {\"letter\": \"c\"}, {\"letter\": \"c\"}, {\"letter\": \"c\"}, {\"letter\": \"c\"}, {\"letter\": \"c\"}, {\"letter\": \"c\"}, {\"letter\": \"c\"}, {\"letter\": \"c\"}, {\"letter\": \"c\"}, {\"letter\": \"c\"}, {\"letter\": \"c\"}, {\"letter\": \"c\"}, {\"letter\": \"c\"}, {\"letter\": \"c\"}, {\"letter\": \"c\"}, {\"letter\": \"c\"}, {\"letter\": \"c\"}, {\"letter\": \"c\"}, {\"letter\": \"c\"}, {\"letter\": \"c\"}, {\"letter\": \"c\"}, {\"letter\": \"c\"}]}}, {\"mode\": \"vega-lite\"});\n",
       "</script>"
      ],
      "text/plain": [
       "alt.Chart(...)"
      ]
     },
     "execution_count": 6,
     "metadata": {},
     "output_type": "execute_result"
    }
   ],
   "source": [
    "\n",
    "### Chopin's scheme\n",
    "\n",
    "letters = np.array(['a', 'b', 'c'])\n",
    "\n",
    "source = pd.DataFrame(\n",
    "    letters[multinomial(w, 1000)],\n",
    "    columns=['letter']\n",
    ")\n",
    "\n",
    "alt.Chart(source).mark_bar().encode(\n",
    "    alt.Y(\"letter\"),\n",
    "    x='count()'\n",
    ")\n"
   ]
  },
  {
   "cell_type": "code",
   "execution_count": 7,
   "metadata": {},
   "outputs": [
    {
     "data": {
      "text/plain": [
       "array([0.        , 0.02222222, 0.04444444, 0.06666667, 0.08888889,\n",
       "       0.11111111, 0.13333333, 0.15555556, 0.17777778, 0.2       ])"
      ]
     },
     "execution_count": 7,
     "metadata": {},
     "output_type": "execute_result"
    }
   ],
   "source": [
    "w = np.arange(10)\n",
    "nw = w / np.sum(w).astype(float)\n",
    "nw"
   ]
  },
  {
   "cell_type": "code",
   "execution_count": 15,
   "metadata": {},
   "outputs": [],
   "source": [
    "np.testing.assert_allclose(1., nw.sum())"
   ]
  },
  {
   "cell_type": "code",
   "execution_count": 8,
   "metadata": {},
   "outputs": [],
   "source": [
    "# Chopin's particle resampling \n",
    "\n",
    "ps = dict()\n",
    "ps['M'] = 10\n",
    "ps['param_names'] = ['a', 'b']\n",
    "ps['a'] = np.arange(10.)\n",
    "ps['b'] = np.arange(10.,20.)\n",
    "\n",
    "indx = multinomial(nw, ps['M'])\n",
    "ps['a'] = ps['a'][indx]\n",
    "ps['b'] = ps['b'][indx]"
   ]
  },
  {
   "cell_type": "code",
   "execution_count": 9,
   "metadata": {},
   "outputs": [
    {
     "name": "stdout",
     "output_type": "stream",
     "text": [
      "0.14979355596005917\n"
     ]
    }
   ],
   "source": [
    "import timeit \n",
    "\n",
    "mysetup = '''\n",
    "import numpy as np\n",
    "from numpy import random\n",
    "\n",
    "def inverse_cdf(su, W):\n",
    "    \"\"\"\n",
    "    Inverse CDF Algorithm for a finite distribution\n",
    "    \n",
    "    Parameters\n",
    "    -----------------\n",
    "    su : (M,) ndarray\n",
    "        M sorted variates (i.e. M ordered points in [0,1)\n",
    "    W: (N,) ndarray\n",
    "        a vector of N normalized weights (>=0 and sum to one)\n",
    "    \n",
    "    \"\"\"\n",
    "    j = 0\n",
    "    s = W[0]\n",
    "    M = su.shape[0]\n",
    "    A = np.empty(M, 'int')\n",
    "    for n in range(M):\n",
    "        while su[n] > s:\n",
    "            j += 1\n",
    "            s += W[j]\n",
    "        A[n] = j\n",
    "    return A\n",
    "\n",
    "\n",
    "def uniform_spacings(N):\n",
    "    z = np.cumsum(-np.log(random.rand(N+1)))\n",
    "    return z[:-1]/z[-1]\n",
    "\n",
    "\n",
    "def multinomial(W, M):\n",
    "    return inverse_cdf(uniform_spacings(M), W)\n",
    "\n",
    "\n",
    "def multinomial_once(W):\n",
    "    \"\"\" Sample once from a Multinomial distribution\n",
    "    Parameters\n",
    "    ----------\n",
    "    W: (N,) ndarray\n",
    "        normalized weights (>=0, sum to one)\n",
    "    Returns\n",
    "    -------\n",
    "    int\n",
    "        a single draw from the discrete distribution that generates n with\n",
    "        probability W[n]\n",
    "    Note\n",
    "    ----\n",
    "    This is equivalent to\n",
    "       A = multinomial(W, M=1)\n",
    "    but it is faster.\n",
    "    \"\"\"\n",
    "    return np.searchsorted(np.cumsum(W), random.rand())\n",
    "\n",
    "\n",
    "\n",
    "w = np.arange(10)\n",
    "nw = w / np.sum(w).astype(float)\n",
    "\n",
    "ps = dict()\n",
    "ps['M'] = 10\n",
    "ps['param_names'] = ['a', 'b']\n",
    "ps['a'] = np.arange(10)\n",
    "ps['b'] = np.arange(10,20)\n",
    "'''\n",
    "\n",
    "mycode = '''\n",
    "indx = multinomial(nw, ps['M'])\n",
    "ps['a'] = ps['a'][indx]\n",
    "ps['b'] = ps['b'][indx]\n",
    "'''\n",
    "\n",
    "\n",
    "# timeit statement \n",
    "print(timeit.timeit(setup = mysetup, \n",
    "                    stmt = mycode, \n",
    "                    number = 10000))"
   ]
  },
  {
   "cell_type": "code",
   "execution_count": 10,
   "metadata": {},
   "outputs": [
    {
     "data": {
      "text/plain": [
       "{'M': 10,\n",
       " 'param_names': ['a', 'b'],\n",
       " 'a': array([7, 9, 9, 5, 6, 7, 6, 5, 4, 3]),\n",
       " 'b': array([17, 19, 19, 15, 16, 17, 16, 15, 14, 13])}"
      ]
     },
     "execution_count": 10,
     "metadata": {},
     "output_type": "execute_result"
    }
   ],
   "source": [
    "# My particle resampling \n",
    "\n",
    "\n",
    "from codebase.ibis import multinomial_sample_particles\n",
    "ps = dict()\n",
    "ps['M'] = 10\n",
    "ps['param_names'] = ['a', 'b']\n",
    "ps['a'] = np.arange(10)\n",
    "ps['b'] = np.arange(10,20)\n",
    "\n",
    "multinomial_sample_particles(ps, nw)\n",
    "\n",
    "\n"
   ]
  },
  {
   "cell_type": "code",
   "execution_count": 11,
   "metadata": {},
   "outputs": [
    {
     "name": "stdout",
     "output_type": "stream",
     "text": [
      "0.31398043199442327\n"
     ]
    }
   ],
   "source": [
    "import timeit \n",
    "\n",
    "mysetup = '''\n",
    "from codebase.ibis import multinomial_sample_particles\n",
    "import numpy as np\n",
    "\n",
    "\n",
    "w = np.arange(10)\n",
    "nw = w / np.sum(w).astype(float)\n",
    "\n",
    "ps = dict()\n",
    "ps['M'] = 10\n",
    "ps['param_names'] = ['a', 'b']\n",
    "ps['a'] = np.arange(10)\n",
    "ps['b'] = np.arange(10,20)\n",
    "'''\n",
    "\n",
    "mycode = '''\n",
    "multinomial_sample_particles(ps, w)\n",
    "'''\n",
    "\n",
    "\n",
    "# timeit statement \n",
    "print(timeit.timeit(setup = mysetup, \n",
    "                    stmt = mycode, \n",
    "                    number = 10000))"
   ]
  },
  {
   "cell_type": "code",
   "execution_count": null,
   "metadata": {},
   "outputs": [],
   "source": []
  }
 ],
 "metadata": {
  "kernelspec": {
   "display_name": "Python 3",
   "language": "python",
   "name": "python3"
  },
  "language_info": {
   "codemirror_mode": {
    "name": "ipython",
    "version": 3
   },
   "file_extension": ".py",
   "mimetype": "text/x-python",
   "name": "python",
   "nbconvert_exporter": "python",
   "pygments_lexer": "ipython3",
   "version": "3.7.4"
  }
 },
 "nbformat": 4,
 "nbformat_minor": 2
}
