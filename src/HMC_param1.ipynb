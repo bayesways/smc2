{
 "cells": [
  {
   "cell_type": "code",
   "execution_count": 1,
   "metadata": {
    "scrolled": true
   },
   "outputs": [],
   "source": [
    "from codebase.classesmcmc import Data, MCMC\n",
    "import  pystan\n",
    "import argparse\n",
    "import numpy as np\n",
    "from codebase.file_utils import (\n",
    "    save_obj,\n",
    "    load_obj,\n",
    "    make_folder,\n",
    "    path_backslash\n",
    ")\n",
    "import altair as alt \n",
    "import pandas as pd"
   ]
  },
  {
   "cell_type": "markdown",
   "metadata": {},
   "source": [
    "##"
   ]
  },
  {
   "cell_type": "code",
   "execution_count": 2,
   "metadata": {},
   "outputs": [],
   "source": [
    "def compile_model(model_num, log_dir, save=True):\n",
    "    path_to_stan = './codebase/stancode/models/1factor/'\n",
    "\n",
    "    with open('%smodel_%s.stan'%(\n",
    "    path_to_stan,\n",
    "    model_num\n",
    "    ), 'r') as file:\n",
    "        model_code = file.read()\n",
    "\n",
    "    sm = pystan.StanModel(model_code=model_code, verbose=False)\n",
    "    \n",
    "    if save:\n",
    "        save_obj(sm, 'sm', log_dir)\n",
    "    return sm\n",
    "\n",
    "\n",
    "def run_stan_model(\n",
    "    data,\n",
    "    compiled_model,\n",
    "    num_samples, \n",
    "    num_warmup,\n",
    "    num_chains,\n",
    "    ):\n",
    "\n",
    "    control={\n",
    "        \"metric\" : \"diag_e\", # diag_e/dense_e\n",
    "        \"adapt_delta\" : 0.999,\n",
    "        \"max_treedepth\" : 25,\n",
    "        \"adapt_engaged\" : True\n",
    "        }\n",
    "\n",
    "    fit_run = compiled_model.sampling(\n",
    "        data = data,\n",
    "        iter=num_samples + num_warmup,\n",
    "        warmup=num_warmup,\n",
    "        chains=num_chains,\n",
    "#         init=0,\n",
    "        control=control,\n",
    "        n_jobs=1\n",
    "    )\n",
    "\n",
    "    return fit_run\n",
    "\n",
    "def flatten_corr(a, offset = 0):\n",
    "    \"\"\"\n",
    "    Flatten a [K, K ] correlation\n",
    "    matrix to [M,] array where\n",
    "    M is the number of of elements above the\n",
    "    diagonal for a K by K matrix.\n",
    "\n",
    "    Inputs\n",
    "    ============\n",
    "    - R : matrix to flattent out, should be\n",
    "        of dimension [K,K]\n",
    "    Output\n",
    "    ============\n",
    "    -  an array of size [M,]\n",
    "    \"\"\"\n",
    "    return a[np.triu_indices(a.shape[0], k=offset)]\n"
   ]
  },
  {
   "cell_type": "code",
   "execution_count": 3,
   "metadata": {},
   "outputs": [],
   "source": [
    "log_dir = './log/20201120_184708_standebug/'\n",
    "# existing_directory = None\n",
    "# task_handle  = 'standebug'\n",
    "# if existing_directory is None:\n",
    "#     log_dir = make_folder(task_handle)  \n",
    "#     print(\"\\n\\nCreating new directory: %s\" % log_dir)\n",
    "\n",
    "# else:\n",
    "#     log_dir = args.existing_directory\n",
    "#     log_dir = path_backslash(log_dir)\n",
    "#     print(\"\\n\\nReading from existing directory: %s\" % log_dir)\n"
   ]
  },
  {
   "cell_type": "code",
   "execution_count": 4,
   "metadata": {},
   "outputs": [],
   "source": [
    "data_sim = 1000\n",
    "expdata = Data(\"1factor\", 1, data_sim, random_seed=4)\n",
    "expdata.generate()\n",
    "save_obj(expdata, 'data', log_dir)"
   ]
  },
  {
   "cell_type": "code",
   "execution_count": 5,
   "metadata": {},
   "outputs": [],
   "source": [
    "# expdata = load_obj('data', log_dir)"
   ]
  },
  {
   "cell_type": "code",
   "execution_count": 6,
   "metadata": {},
   "outputs": [],
   "source": [
    "# compile_model(1, log_dir)"
   ]
  },
  {
   "cell_type": "code",
   "execution_count": 7,
   "metadata": {},
   "outputs": [],
   "source": [
    "sm = load_obj('sm', log_dir)"
   ]
  },
  {
   "cell_type": "code",
   "execution_count": 8,
   "metadata": {},
   "outputs": [
    {
     "name": "stderr",
     "output_type": "stream",
     "text": [
      "WARNING:pystan:Maximum (flat) parameter count (1000) exceeded: skipping diagnostic tests for n_eff and Rhat.\n",
      "To run all diagnostics call pystan.check_hmc_diagnostics(fit)\n"
     ]
    }
   ],
   "source": [
    "fit_run = run_stan_model(\n",
    "    data = expdata.get_stan_data(),\n",
    "    compiled_model = sm,\n",
    "    num_samples = 5000, \n",
    "    num_warmup = 5000,\n",
    "    num_chains = 1\n",
    "    )"
   ]
  },
  {
   "cell_type": "code",
   "execution_count": 9,
   "metadata": {},
   "outputs": [],
   "source": [
    "param_names = ['beta', 'alpha', 'zz', 'betabeta']\n",
    "\n",
    "ps = fit_run.extract(\n",
    "        permuted=False, pars=param_names)"
   ]
  },
  {
   "cell_type": "code",
   "execution_count": 10,
   "metadata": {},
   "outputs": [],
   "source": [
    "b = np.squeeze(ps['betabeta'])\n",
    "estb = flatten_corr(np.mean(b, 0))\n",
    "quantb = np.quantile(b, q=[0.025, 0.975], axis=0)\n",
    "qb1 = flatten_corr(quantb[0])\n",
    "qb2 = flatten_corr(quantb[1])\n"
   ]
  },
  {
   "cell_type": "code",
   "execution_count": 11,
   "metadata": {
    "scrolled": true
   },
   "outputs": [
    {
     "data": {
      "text/html": [
       "<div>\n",
       "<style scoped>\n",
       "    .dataframe tbody tr th:only-of-type {\n",
       "        vertical-align: middle;\n",
       "    }\n",
       "\n",
       "    .dataframe tbody tr th {\n",
       "        vertical-align: top;\n",
       "    }\n",
       "\n",
       "    .dataframe thead th {\n",
       "        text-align: right;\n",
       "    }\n",
       "</style>\n",
       "<table border=\"1\" class=\"dataframe\">\n",
       "  <thead>\n",
       "    <tr style=\"text-align: right;\">\n",
       "      <th></th>\n",
       "      <th>index</th>\n",
       "      <th>estimate</th>\n",
       "      <th>q1</th>\n",
       "      <th>q2</th>\n",
       "      <th>realdata</th>\n",
       "    </tr>\n",
       "  </thead>\n",
       "  <tbody>\n",
       "    <tr>\n",
       "      <td>0</td>\n",
       "      <td>0</td>\n",
       "      <td>1.556192</td>\n",
       "      <td>0.600219</td>\n",
       "      <td>3.329720</td>\n",
       "      <td>1.0</td>\n",
       "    </tr>\n",
       "    <tr>\n",
       "      <td>1</td>\n",
       "      <td>1</td>\n",
       "      <td>0.498231</td>\n",
       "      <td>0.194470</td>\n",
       "      <td>0.854446</td>\n",
       "      <td>0.7</td>\n",
       "    </tr>\n",
       "    <tr>\n",
       "      <td>2</td>\n",
       "      <td>2</td>\n",
       "      <td>0.852620</td>\n",
       "      <td>0.451527</td>\n",
       "      <td>1.363784</td>\n",
       "      <td>0.8</td>\n",
       "    </tr>\n",
       "    <tr>\n",
       "      <td>3</td>\n",
       "      <td>3</td>\n",
       "      <td>0.562839</td>\n",
       "      <td>0.227692</td>\n",
       "      <td>0.996055</td>\n",
       "      <td>0.5</td>\n",
       "    </tr>\n",
       "    <tr>\n",
       "      <td>4</td>\n",
       "      <td>4</td>\n",
       "      <td>1.011052</td>\n",
       "      <td>0.528272</td>\n",
       "      <td>1.645929</td>\n",
       "      <td>0.9</td>\n",
       "    </tr>\n",
       "  </tbody>\n",
       "</table>\n",
       "</div>"
      ],
      "text/plain": [
       "   index  estimate        q1        q2  realdata\n",
       "0      0  1.556192  0.600219  3.329720       1.0\n",
       "1      1  0.498231  0.194470  0.854446       0.7\n",
       "2      2  0.852620  0.451527  1.363784       0.8\n",
       "3      3  0.562839  0.227692  0.996055       0.5\n",
       "4      4  1.011052  0.528272  1.645929       0.9"
      ]
     },
     "execution_count": 11,
     "metadata": {},
     "output_type": "execute_result"
    }
   ],
   "source": [
    "df = pd.DataFrame(estb, columns=['estimate'])\n",
    "df['q1'] = qb1\n",
    "df['q2'] = qb2\n",
    "df['realdata'] = flatten_corr(\n",
    "    np.outer(\n",
    "        expdata.raw_data['beta'],\n",
    "        expdata.raw_data['beta']\n",
    "    ))\n",
    "df = df.reset_index()\n",
    "df.head()"
   ]
  },
  {
   "cell_type": "code",
   "execution_count": 12,
   "metadata": {},
   "outputs": [
    {
     "name": "stderr",
     "output_type": "stream",
     "text": [
      "INFO:numexpr.utils:Note: NumExpr detected 24 cores but \"NUMEXPR_MAX_THREADS\" not set, so enforcing safe limit of 8.\n",
      "INFO:numexpr.utils:NumExpr defaulting to 8 threads.\n"
     ]
    },
    {
     "data": {
      "text/html": [
       "\n",
       "<div id=\"altair-viz-8397db80198942f5ab9bb46ce910ef02\"></div>\n",
       "<script type=\"text/javascript\">\n",
       "  (function(spec, embedOpt){\n",
       "    let outputDiv = document.currentScript.previousElementSibling;\n",
       "    if (outputDiv.id !== \"altair-viz-8397db80198942f5ab9bb46ce910ef02\") {\n",
       "      outputDiv = document.getElementById(\"altair-viz-8397db80198942f5ab9bb46ce910ef02\");\n",
       "    }\n",
       "    const paths = {\n",
       "      \"vega\": \"https://cdn.jsdelivr.net/npm//vega@5?noext\",\n",
       "      \"vega-lib\": \"https://cdn.jsdelivr.net/npm//vega-lib?noext\",\n",
       "      \"vega-lite\": \"https://cdn.jsdelivr.net/npm//vega-lite@4.8.1?noext\",\n",
       "      \"vega-embed\": \"https://cdn.jsdelivr.net/npm//vega-embed@6?noext\",\n",
       "    };\n",
       "\n",
       "    function loadScript(lib) {\n",
       "      return new Promise(function(resolve, reject) {\n",
       "        var s = document.createElement('script');\n",
       "        s.src = paths[lib];\n",
       "        s.async = true;\n",
       "        s.onload = () => resolve(paths[lib]);\n",
       "        s.onerror = () => reject(`Error loading script: ${paths[lib]}`);\n",
       "        document.getElementsByTagName(\"head\")[0].appendChild(s);\n",
       "      });\n",
       "    }\n",
       "\n",
       "    function showError(err) {\n",
       "      outputDiv.innerHTML = `<div class=\"error\" style=\"color:red;\">${err}</div>`;\n",
       "      throw err;\n",
       "    }\n",
       "\n",
       "    function displayChart(vegaEmbed) {\n",
       "      vegaEmbed(outputDiv, spec, embedOpt)\n",
       "        .catch(err => showError(`Javascript Error: ${err.message}<br>This usually means there's a typo in your chart specification. See the javascript console for the full traceback.`));\n",
       "    }\n",
       "\n",
       "    if(typeof define === \"function\" && define.amd) {\n",
       "      requirejs.config({paths});\n",
       "      require([\"vega-embed\"], displayChart, err => showError(`Error loading script: ${err.message}`));\n",
       "    } else if (typeof vegaEmbed === \"function\") {\n",
       "      displayChart(vegaEmbed);\n",
       "    } else {\n",
       "      loadScript(\"vega\")\n",
       "        .then(() => loadScript(\"vega-lite\"))\n",
       "        .then(() => loadScript(\"vega-embed\"))\n",
       "        .catch(showError)\n",
       "        .then(() => displayChart(vegaEmbed));\n",
       "    }\n",
       "  })({\"config\": {\"view\": {\"continuousWidth\": 400, \"continuousHeight\": 300}}, \"layer\": [{\"mark\": {\"type\": \"bar\", \"opacity\": 0.6}, \"encoding\": {\"x\": {\"type\": \"quantitative\", \"field\": \"q1\"}, \"x2\": {\"field\": \"q2\"}, \"y\": {\"type\": \"nominal\", \"field\": \"index\"}}}, {\"mark\": {\"type\": \"point\", \"color\": \"blue\", \"opacity\": 1}, \"encoding\": {\"x\": {\"type\": \"quantitative\", \"field\": \"estimate\"}, \"y\": {\"type\": \"nominal\", \"field\": \"index\"}}}, {\"mark\": {\"type\": \"point\", \"color\": \"red\", \"opacity\": 1}, \"encoding\": {\"x\": {\"type\": \"quantitative\", \"field\": \"realdata\"}, \"y\": {\"type\": \"nominal\", \"field\": \"index\"}}}], \"data\": {\"name\": \"data-fafff8efeebbb46cee7d0b54bbc3515d\"}, \"$schema\": \"https://vega.github.io/schema/vega-lite/v4.8.1.json\", \"datasets\": {\"data-fafff8efeebbb46cee7d0b54bbc3515d\": [{\"index\": 0, \"estimate\": 1.5561920871825554, \"q1\": 0.6002185705208684, \"q2\": 3.3297198553589578, \"realdata\": 1.0}, {\"index\": 1, \"estimate\": 0.49823062520980704, \"q1\": 0.19447025792541633, \"q2\": 0.8544464452400332, \"realdata\": 0.7}, {\"index\": 2, \"estimate\": 0.8526197576922492, \"q1\": 0.4515267746496722, \"q2\": 1.363783591445253, \"realdata\": 0.8}, {\"index\": 3, \"estimate\": 0.5628387884791506, \"q1\": 0.22769164133078032, \"q2\": 0.9960553220404156, \"realdata\": 0.5}, {\"index\": 4, \"estimate\": 1.0110518434576314, \"q1\": 0.5282715190397472, \"q2\": 1.6459290588416553, \"realdata\": 0.9}, {\"index\": 5, \"estimate\": 0.7640835080061874, \"q1\": 0.2877577898465368, \"q2\": 1.3965258680170471, \"realdata\": 0.6}, {\"index\": 6, \"estimate\": 0.18846074116369518, \"q1\": 0.030021129530695967, \"q2\": 0.46067161907984955, \"realdata\": 0.48999999999999994}, {\"index\": 7, \"estimate\": 0.2984451334906124, \"q1\": 0.10089882873476283, \"q2\": 0.5879570828727958, \"realdata\": 0.5599999999999999}, {\"index\": 8, \"estimate\": 0.19418717983469377, \"q1\": 0.056134876861155314, \"q2\": 0.3911087846988905, \"realdata\": 0.35}, {\"index\": 9, \"estimate\": 0.3452421036084811, \"q1\": 0.13453462455584725, \"q2\": 0.6161895292300608, \"realdata\": 0.63}, {\"index\": 10, \"estimate\": 0.2612172792902916, \"q1\": 0.078000739803092, \"q2\": 0.5270788954865018, \"realdata\": 0.42}, {\"index\": 11, \"estimate\": 0.5316948738102087, \"q1\": 0.16136671027874855, \"q2\": 1.0993578882459716, \"realdata\": 0.6400000000000001}, {\"index\": 12, \"estimate\": 0.33181035970445755, \"q1\": 0.12018697224596862, \"q2\": 0.6203276783110845, \"realdata\": 0.4}, {\"index\": 13, \"estimate\": 0.5891772967806808, \"q1\": 0.2981628443427303, \"q2\": 0.9601362658223693, \"realdata\": 0.7200000000000001}, {\"index\": 14, \"estimate\": 0.4455498116312383, \"q1\": 0.16330543054047217, \"q2\": 0.8308456397255549, \"realdata\": 0.48}, {\"index\": 15, \"estimate\": 0.23599877329527727, \"q1\": 0.04284394846701246, \"q2\": 0.5527498079787335, \"realdata\": 0.25}, {\"index\": 16, \"estimate\": 0.3878056119540727, \"q1\": 0.15255251071815648, \"q2\": 0.7040281429081917, \"realdata\": 0.45}, {\"index\": 17, \"estimate\": 0.29315602416467873, \"q1\": 0.0891301371301601, \"q2\": 0.5862770989393624, \"realdata\": 0.3}, {\"index\": 18, \"estimate\": 0.7282230222750719, \"q1\": 0.2784548987731087, \"q2\": 1.4785400112775504, \"realdata\": 0.81}, {\"index\": 19, \"estimate\": 0.5239617296512608, \"q1\": 0.2043836915673529, \"q2\": 0.9677464597529722, \"realdata\": 0.54}, {\"index\": 20, \"estimate\": 0.4352175225075391, \"q1\": 0.06921687173514508, \"q2\": 1.0757934963739784, \"realdata\": 0.36}]}}, {\"mode\": \"vega-lite\"});\n",
       "</script>"
      ],
      "text/plain": [
       "alt.LayerChart(...)"
      ]
     },
     "execution_count": 12,
     "metadata": {},
     "output_type": "execute_result"
    }
   ],
   "source": [
    "c1 = alt.Chart(df).mark_bar(\n",
    "opacity=0.6).encode(\n",
    "    x='q1',\n",
    "    x2='q2',\n",
    "    y='index:N'\n",
    ")\n",
    "c2 = alt.Chart(df).mark_point(\n",
    "opacity=1,\n",
    "color='blue').encode(\n",
    "    x='estimate',\n",
    "    y='index:N'\n",
    ")\n",
    "c3 = alt.Chart(df).mark_point(\n",
    "opacity=1,\n",
    "color='red').encode(\n",
    "    x='realdata',\n",
    "    y='index:N'\n",
    ")\n",
    "c1+c2+c3\n",
    "\n",
    "# red real data\n",
    "# blue MCMC samples"
   ]
  }
 ],
 "metadata": {
  "kernelspec": {
   "display_name": "Python 3",
   "language": "python",
   "name": "python3"
  },
  "language_info": {
   "codemirror_mode": {
    "name": "ipython",
    "version": 3
   },
   "file_extension": ".py",
   "mimetype": "text/x-python",
   "name": "python",
   "nbconvert_exporter": "python",
   "pygments_lexer": "ipython3",
   "version": "3.7.4"
  }
 },
 "nbformat": 4,
 "nbformat_minor": 2
}
