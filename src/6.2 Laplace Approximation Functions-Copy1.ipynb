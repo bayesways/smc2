{
 "cells": [
  {
   "cell_type": "code",
   "execution_count": 2,
   "metadata": {},
   "outputs": [
    {
     "data": {
      "text/plain": [
       "DataTransformerRegistry.enable('default')"
      ]
     },
     "execution_count": 2,
     "metadata": {},
     "output_type": "execute_result"
    }
   ],
   "source": [
    "import numpy as np\n",
    "from codebase.file_utils import save_obj, load_obj, make_folder, path_backslash\n",
    "from pdb import set_trace\n",
    "from scipy.stats import multivariate_normal, norm\n",
    "from scipy.optimize import minimize\n",
    "from codebase.plot import *\n",
    "from scipy import stats\n",
    "import matplotlib.pyplot as plt\n",
    "\n",
    "alt.data_transformers.disable_max_rows()\n"
   ]
  },
  {
   "cell_type": "code",
   "execution_count": 3,
   "metadata": {},
   "outputs": [],
   "source": [
    "def get_pi_z(z, alpha, beta):\n",
    "    exp_eta = np.exp(alpha +  z @ beta.T)\n",
    "    return exp_eta/(1+exp_eta)\n"
   ]
  },
  {
   "cell_type": "code",
   "execution_count": 4,
   "metadata": {},
   "outputs": [
    {
     "data": {
      "text/plain": [
       "array([[0, 1, 0, 1, 0]])"
      ]
     },
     "execution_count": 4,
     "metadata": {},
     "output_type": "execute_result"
    }
   ],
   "source": [
    "\n",
    "np.random.seed(5)\n",
    "theta_t=dict()\n",
    "alpha = np.array([0, 0.1, -0.1,-0.2,0.2])\n",
    "beta = np.array([[1,0.8,0.9,0.5,1.3]]).T\n",
    "z_t = np.array([[-2]])\n",
    "\n",
    "y_t = np.random.binomial(1, get_pi_z(z_t, alpha, beta))\n",
    "y_t"
   ]
  },
  {
   "cell_type": "code",
   "execution_count": 5,
   "metadata": {},
   "outputs": [
    {
     "data": {
      "text/plain": [
       "-3.5178466668006667"
      ]
     },
     "execution_count": 5,
     "metadata": {},
     "output_type": "execute_result"
    }
   ],
   "source": [
    "def get_log_likelihood(z,y,alpha, beta):\n",
    "    pi_z = get_pi_z(z, alpha, beta)\n",
    "    s1 = np.sum(y*np.log(pi_z)+((1.-y)*np.log(1.-pi_z)))\n",
    "#     s2 = -.5 * np.sum(z**2)\n",
    "    return s1\n",
    "\n",
    "def logprior(z):\n",
    "    return norm.logpdf(z)\n",
    "\n",
    "def get_neg_log_likelihood(z,y,alpha, beta):\n",
    "    return - get_log_likelihood(z,y,alpha, beta)\n",
    "\n",
    "def get_neg_posterior(z,y,alpha, beta):\n",
    "    return - (get_log_likelihood(z,y,alpha, beta)+ norm.logpdf(z))\n",
    "\n",
    "\n",
    "lglk = get_log_likelihood(z_t, y_t, alpha, beta) \n",
    "lglk"
   ]
  },
  {
   "cell_type": "code",
   "execution_count": 6,
   "metadata": {},
   "outputs": [],
   "source": [
    "### analytical posterior pdf\n",
    "x = np.linspace(-3,3,1000)\n",
    "lposts = np.zeros(1000)\n",
    "for i in range(1000):\n",
    "    z_t = x[i].reshape((1,1))\n",
    "    lposts[i] = get_log_likelihood(z_t, y_t, alpha, beta) + logprior(z_t)\n",
    "posts = np.exp(lposts)\n",
    "posts = posts/np.sum(posts*6/1000)"
   ]
  },
  {
   "cell_type": "code",
   "execution_count": 7,
   "metadata": {},
   "outputs": [],
   "source": [
    "## simple Laplace approx\n",
    "\n",
    "M = x[np.argmax(posts)].reshape((1,1)) # mean at the mode\n",
    "h = 0.000001  # numerical second derivative\n",
    "f1 = get_log_likelihood(M+h, y_t,alpha,beta) + logprior(M+h)\n",
    "f2 = get_log_likelihood(M, y_t,alpha,beta) + logprior(M)\n",
    "f3 = get_log_likelihood(M-h, y_t,alpha,beta) + logprior(M-h)\n",
    "V=-(h*h)/(f1-2*f2+f3) # variance being 2nd derivative evaluated at the mode."
   ]
  },
  {
   "cell_type": "code",
   "execution_count": 9,
   "metadata": {
    "scrolled": true
   },
   "outputs": [],
   "source": [
    "def get_grad_pi_z(z, alpha, beta):\n",
    "    exp_eta = np.exp(alpha +  z @ beta.T)\n",
    "    return (exp_eta * beta.T)/(1+exp_eta)**2"
   ]
  },
  {
   "cell_type": "code",
   "execution_count": 10,
   "metadata": {},
   "outputs": [
    {
     "data": {
      "text/plain": [
       "1.2113499213962307"
      ]
     },
     "execution_count": 10,
     "metadata": {},
     "output_type": "execute_result"
    }
   ],
   "source": [
    "def get_fisher_information(z, y, alpha, beta):\n",
    "    pi_z = get_pi_z(z, alpha, beta)\n",
    "    grad_pi_z = get_grad_pi_z(z, alpha, beta)\n",
    "    r1 =grad_pi_z**2\n",
    "    r2 =pi_z*(1.-pi_z)\n",
    "    return 1. + np.sum(r1/r2)\n",
    "\n",
    "get_fisher_information(z_t, y_t, alpha, beta)"
   ]
  },
  {
   "cell_type": "code",
   "execution_count": 13,
   "metadata": {},
   "outputs": [],
   "source": [
    "def get_laplace_approx(y, alpha, beta):\n",
    "    res = minimize(get_neg_posterior, np.array([[1]]), args=(y, alpha, beta), method='BFGS')\n",
    "    cov_matrix = get_fisher_information(res.x, y, alpha, beta)\n",
    "    return multivariate_normal(mean = res.x, cov = cov_matrix**(-1))\n",
    "lapldist =  get_laplace_approx(y_t, alpha, beta)\n",
    "laplace_samples = lapldist.rvs(size = 10000)"
   ]
  },
  {
   "cell_type": "code",
   "execution_count": 14,
   "metadata": {},
   "outputs": [],
   "source": [
    "laplace_pdf = lapldist.pdf(x)"
   ]
  },
  {
   "cell_type": "code",
   "execution_count": 17,
   "metadata": {},
   "outputs": [
    {
     "data": {
      "text/plain": [
       "<matplotlib.legend.Legend at 0x7f4ff41d0750>"
      ]
     },
     "execution_count": 17,
     "metadata": {},
     "output_type": "execute_result"
    },
    {
     "data": {
      "image/png": "[encoded data removed]",
      "text/plain": [
       "<Figure size 432x288 with 1 Axes>"
      ]
     },
     "metadata": {
      "needs_background": "light"
     },
     "output_type": "display_data"
    }
   ],
   "source": [
    "plt.plot(x,norm.pdf(x),label='prior')\n",
    "plt.plot(x,np.squeeze(norm.pdf(x,M,np.sqrt(V))),label='Kostas_laplace')\n",
    "plt.plot(x,posts,label='posterior')\n",
    "plt.plot(x,laplace_pdf,label='my_laplace')\n",
    "plt.legend()"
   ]
  },
  {
   "cell_type": "code",
   "execution_count": null,
   "metadata": {},
   "outputs": [],
   "source": []
  }
 ],
 "metadata": {
  "kernelspec": {
   "display_name": "Python 3",
   "language": "python",
   "name": "python3"
  },
  "language_info": {
   "codemirror_mode": {
    "name": "ipython",
    "version": 3
   },
   "file_extension": ".py",
   "mimetype": "text/x-python",
   "name": "python",
   "nbconvert_exporter": "python",
   "pygments_lexer": "ipython3",
   "version": "3.7.4"
  }
 },
 "nbformat": 4,
 "nbformat_minor": 2
}
