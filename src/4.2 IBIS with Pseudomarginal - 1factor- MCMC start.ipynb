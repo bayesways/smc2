{
 "cells": [
  {
   "cell_type": "code",
   "execution_count": 6,
   "metadata": {},
   "outputs": [
    {
     "data": {
      "text/plain": [
       "DataTransformerRegistry.enable('default')"
      ]
     },
     "execution_count": 6,
     "metadata": {},
     "output_type": "execute_result"
    }
   ],
   "source": [
    "import pandas as pd\n",
    "import numpy as np\n",
    "from codebase.file_utils import (\n",
    "    save_obj,\n",
    "    load_obj,\n",
    ")\n",
    "from codebase.plot import plot_density, plot_line, get_post_df\n",
    "import altair as alt\n",
    "from codebase.classes_data import Data\n",
    "from codebase.ibis import exp_and_normalise\n",
    "from run_ibis_lvm import run_ibis_lvm\n",
    "from run_mcmc import run_mcmc\n",
    "\n",
    "from codebase.file_utils import (\n",
    "    save_obj,\n",
    "    load_obj,\n",
    "    make_folder,\n",
    "    path_backslash\n",
    ")\n",
    "from pdb import set_trace\n",
    "from copy import copy\n",
    "\n",
    "\n",
    "alt.data_transformers.disable_max_rows()\n"
   ]
  },
  {
   "cell_type": "code",
   "execution_count": 2,
   "metadata": {},
   "outputs": [
    {
     "name": "stdout",
     "output_type": "stream",
     "text": [
      "\n",
      "\n",
      "Creating new directory: ./log/20210125_204443_mcmc_smc2/\n"
     ]
    }
   ],
   "source": [
    "\n",
    "task_handle = 'mcmc_smc2'\n",
    "gen_model = 0\n",
    "existing_directory = None\n",
    "\n",
    "if existing_directory is None:\n",
    "    log_dir = make_folder(task_handle)  \n",
    "    print(\"\\n\\nCreating new directory: %s\" % log_dir)\n",
    "\n",
    "else:\n",
    "    log_dir = existing_directory\n",
    "    log_dir = path_backslash(log_dir)\n",
    "    print(\"\\n\\nReading from existing directory: %s\" % log_dir)\n"
   ]
  },
  {
   "cell_type": "markdown",
   "metadata": {},
   "source": [
    "##"
   ]
  },
  {
   "cell_type": "code",
   "execution_count": 3,
   "metadata": {},
   "outputs": [],
   "source": [
    "\n",
    "# generate data\n",
    "exp_data = Data(\n",
    "    name = task_handle, \n",
    "    model_num = 1,  \n",
    "    size = 100,\n",
    "    random_seed = 2\n",
    "    )\n",
    "\n",
    "exp_data.generate()\n",
    "save_obj(exp_data, 'complete_data', log_dir)\n"
   ]
  },
  {
   "cell_type": "markdown",
   "metadata": {},
   "source": [
    "## Load or Run MCMC for the first 50 steps"
   ]
  },
  {
   "cell_type": "code",
   "execution_count": 5,
   "metadata": {},
   "outputs": [],
   "source": [
    "num_warmup = 2000\n",
    "\n",
    "param_names = ['beta', 'alpha']\n",
    "latent_names = ['z', 'y_latent']\n",
    "ps = run_mcmc(\n",
    "    stan_data=exp_data.get_stan_data_upto_t(50),\n",
    "    nsim_mcmc=10000,\n",
    "    num_warmup = num_warmup,\n",
    "    model_num=7,\n",
    "    bundle_size=1000,\n",
    "    gen_model=gen_model,\n",
    "    param_names=param_names,\n",
    "    latent_names=latent_names,\n",
    "    log_dir=log_dir\n",
    ")\n",
    "\n",
    "save_obj(ps, 'mcmc_post_samples', log_dir)\n"
   ]
  },
  {
   "cell_type": "code",
   "execution_count": 45,
   "metadata": {},
   "outputs": [],
   "source": [
    "\n",
    "beta_particles = ps['beta'][::10]\n",
    "alpha_particles = ps['alpha'][::10]\n"
   ]
  },
  {
   "cell_type": "code",
   "execution_count": 46,
   "metadata": {},
   "outputs": [],
   "source": [
    "from codebase.classes_ibis_lvm import ParticlesLVM\n",
    "from codebase.ibis import model_phonebook, essl\n",
    "from tqdm import tqdm\n",
    "from scipy.special import logsumexp"
   ]
  },
  {
   "cell_type": "code",
   "execution_count": 47,
   "metadata": {},
   "outputs": [],
   "source": [
    "num_warmup = 200\n",
    "model_num = 7\n",
    "gen_model = False\n",
    "size = 100\n",
    "bundle_size = 100\n",
    "\n",
    "\n",
    "param_names = model_phonebook(model_num)[\"param_names\"]\n",
    "latent_names = model_phonebook(model_num)[\"latent_names\"]\n",
    "jitter_corrs = dict()\n",
    "for p in param_names:\n",
    "    jitter_corrs[p] = np.zeros(exp_data.size)\n",
    "particles = ParticlesLVM(\n",
    "    name=\"ibis_lvm\",\n",
    "    model_num=model_num,\n",
    "    size=size,\n",
    "    bundle_size=bundle_size,\n",
    "    param_names=param_names,\n",
    "    latent_names=latent_names,\n",
    "    latent_model_num=1,\n",
    ")\n",
    "particles.set_log_dir(log_dir)\n",
    "if gen_model:\n",
    "    particles.compile_prior_model()\n",
    "    particles.compile_model()\n",
    "else:\n",
    "    particles.load_prior_model()\n",
    "    particles.load_model()\n",
    "\n",
    "log_lklhds = np.empty(exp_data.size)\n",
    "degeneracy_limit = 0.5\n"
   ]
  },
  {
   "cell_type": "code",
   "execution_count": 48,
   "metadata": {},
   "outputs": [],
   "source": [
    "particles.sample_prior_particles(exp_data.get_stan_data())  # sample prior particles\n",
    "particles.particles['beta'] = beta_particles\n",
    "particles.particles['alpha'] = alpha_particles\n"
   ]
  },
  {
   "cell_type": "code",
   "execution_count": 49,
   "metadata": {},
   "outputs": [
    {
     "name": "stderr",
     "output_type": "stream",
     "text": [
      "100%|██████████| 49/49 [11:50<00:00, 14.50s/it]"
     ]
    },
    {
     "name": "stdout",
     "output_type": "stream",
     "text": [
      "\n",
      "\n",
      "\n",
      "Marginal Likelihood 103.87861\n"
     ]
    },
    {
     "name": "stderr",
     "output_type": "stream",
     "text": [
      "\n"
     ]
    }
   ],
   "source": [
    "\n",
    "particles.reset_weights()  # set weights to 0\n",
    "particles.initialize_bundles(exp_data.get_stan_data())\n",
    "particles.initialize_latent_var_given_theta(exp_data.get_stan_data())\n",
    "particles.initialize_counter(exp_data.get_stan_data())\n",
    "\n",
    "for t in tqdm(range(51, exp_data.size)):\n",
    "    particles.sample_latent_bundle_at_t(t, exp_data.get_stan_data_at_t(t))\n",
    "    particles.get_theta_incremental_weights_at_t(t, exp_data.get_stan_data_at_t(t))\n",
    "    log_lklhds[t] = particles.get_loglikelihood_estimate()\n",
    "\n",
    "    particles.update_weights()\n",
    "\n",
    "    if (essl(particles.weights) < degeneracy_limit * particles.size) and (\n",
    "        t + 1\n",
    "    ) < exp_data.size:\n",
    "        particles.add_ess(t)\n",
    "        particles.resample_particles_bundles()\n",
    "        particles.jitter_bundles_and_pick_one(exp_data.get_stan_data_upto_t(t + 1))\n",
    "\n",
    "        ## add corr of param before jitter\n",
    "        pre_jitter = dict()\n",
    "        for p in param_names:\n",
    "            pre_jitter[p] = particles.particles[p].flatten()\n",
    "        ####\n",
    "\n",
    "        particles.jitter(t + 1, exp_data.get_stan_data_upto_t(t + 1))\n",
    "\n",
    "        ## add corr of param\n",
    "        for p in param_names:\n",
    "            jitter_corrs[p][t] = np.corrcoef(\n",
    "                pre_jitter[p], particles.particles[p].flatten()\n",
    "            )[0, 1]\n",
    "        ####\n",
    "\n",
    "        particles.reset_weights()\n",
    "    else:\n",
    "        pass\n",
    "\n",
    "    save_obj(t, \"t\", log_dir)\n",
    "    save_obj(particles, \"particles\", log_dir)\n",
    "    save_obj(jitter_corrs, \"jitter_corrs\", log_dir)\n",
    "    save_obj(log_lklhds, \"log_lklhds\", log_dir)\n",
    "\n",
    "print(\"\\n\\n\")\n",
    "marg_lklhd = np.exp(logsumexp(log_lklhds))\n",
    "print(\"Marginal Likelihood %.5f\" % marg_lklhd)\n",
    "save_obj(marg_lklhd, \"marg_lklhd\", log_dir)\n",
    "\n",
    "output = dict()\n",
    "output[\"particles\"] = particles\n",
    "output[\"log_lklhds\"] = log_lklhds\n",
    "output[\"marg_lklhd\"] = marg_lklhd\n",
    "output[\"jitter_corrs\"] = jitter_corrs\n"
   ]
  },
  {
   "cell_type": "code",
   "execution_count": 56,
   "metadata": {},
   "outputs": [],
   "source": [
    "particles = load_obj('particles', log_dir)"
   ]
  },
  {
   "cell_type": "code",
   "execution_count": 57,
   "metadata": {},
   "outputs": [],
   "source": [
    "particles.resample_particles()\n",
    "ps = particles.particles.copy()"
   ]
  },
  {
   "cell_type": "markdown",
   "metadata": {},
   "source": [
    "## Post process loadings for sign flips"
   ]
  },
  {
   "cell_type": "code",
   "execution_count": 61,
   "metadata": {},
   "outputs": [],
   "source": [
    "nsim = ps['beta'].shape[0]\n",
    "nrows = ps['beta'].shape[1]\n",
    "for n in range(nsim):\n",
    "    for i in range(nrows):\n",
    "        sign = np.sign(ps['beta'][n,0])\n",
    "        ps['beta'][n] = sign * ps['beta'][n,]"
   ]
  },
  {
   "cell_type": "markdown",
   "metadata": {},
   "source": [
    "## Plot MCMC samples"
   ]
  },
  {
   "cell_type": "code",
   "execution_count": 62,
   "metadata": {},
   "outputs": [
    {
     "data": {
      "text/html": [
       "\n",
       "<div id=\"altair-viz-44fda0f1533749d4b5f0038188a88682\"></div>\n",
       "<script type=\"text/javascript\">\n",
       "  (function(spec, embedOpt){\n",
       "    let outputDiv = document.currentScript.previousElementSibling;\n",
       "    if (outputDiv.id !== \"altair-viz-44fda0f1533749d4b5f0038188a88682\") {\n",
       "      outputDiv = document.getElementById(\"altair-viz-44fda0f1533749d4b5f0038188a88682\");\n",
       "    }\n",
       "    const paths = {\n",
       "      \"vega\": \"https://cdn.jsdelivr.net/npm//vega@5?noext\",\n",
       "      \"vega-lib\": \"https://cdn.jsdelivr.net/npm//vega-lib?noext\",\n",
       "      \"vega-lite\": \"https://cdn.jsdelivr.net/npm//vega-lite@4.8.1?noext\",\n",
       "      \"vega-embed\": \"https://cdn.jsdelivr.net/npm//vega-embed@6?noext\",\n",
       "    };\n",
       "\n",
       "    function loadScript(lib) {\n",
       "      return new Promise(function(resolve, reject) {\n",
       "        var s = document.createElement('script');\n",
       "        s.src = paths[lib];\n",
       "        s.async = true;\n",
       "        s.onload = () => resolve(paths[lib]);\n",
       "        s.onerror = () => reject(`Error loading script: ${paths[lib]}`);\n",
       "        document.getElementsByTagName(\"head\")[0].appendChild(s);\n",
       "      });\n",
       "    }\n",
       "\n",
       "    function showError(err) {\n",
       "      outputDiv.innerHTML = `<div class=\"error\" style=\"color:red;\">${err}</div>`;\n",
       "      throw err;\n",
       "    }\n",
       "\n",
       "    function displayChart(vegaEmbed) {\n",
       "      vegaEmbed(outputDiv, spec, embedOpt)\n",
       "        .catch(err => showError(`Javascript Error: ${err.message}<br>This usually means there's a typo in your chart specification. See the javascript console for the full traceback.`));\n",
       "    }\n",
       "\n",
       "    if(typeof define === \"function\" && define.amd) {\n",
       "      requirejs.config({paths});\n",
       "      require([\"vega-embed\"], displayChart, err => showError(`Error loading script: ${err.message}`));\n",
       "    } else if (typeof vegaEmbed === \"function\") {\n",
       "      displayChart(vegaEmbed);\n",
       "    } else {\n",
       "      loadScript(\"vega\")\n",
       "        .then(() => loadScript(\"vega-lite\"))\n",
       "        .then(() => loadScript(\"vega-embed\"))\n",
       "        .catch(showError)\n",
       "        .then(() => displayChart(vegaEmbed));\n",
       "    }\n",
       "  })({\"config\": {\"view\": {\"continuousWidth\": 400, \"continuousHeight\": 300}}, \"data\": {\"name\": \"data-efe7d9da3bacea435caeee874f34c868\"}, \"mark\": {\"type\": \"bar\", \"opacity\": 0.6}, \"encoding\": {\"color\": {\"type\": \"nominal\", \"field\": \"source\"}, \"column\": {\"type\": \"quantitative\", \"field\": \"col\"}, \"row\": {\"type\": \"quantitative\", \"field\": \"row\"}, \"x\": {\"type\": \"quantitative\", \"field\": \"q1\", \"title\": null}, \"x2\": {\"field\": \"q2\", \"title\": null}}, \"$schema\": \"https://vega.github.io/schema/vega-lite/v4.8.1.json\", \"datasets\": {\"data-efe7d9da3bacea435caeee874f34c868\": [{\"row\": 0, \"col\": 0, \"q1\": 0.014626617157119165, \"q2\": 0.6877945157481768, \"source\": \"smc2\"}, {\"row\": 1, \"col\": 0, \"q1\": -0.5024693687196939, \"q2\": 0.8679236300063267, \"source\": \"smc2\"}, {\"row\": 2, \"col\": 0, \"q1\": -0.9879050008222341, \"q2\": 0.950745029477272, \"source\": \"smc2\"}, {\"row\": 3, \"col\": 0, \"q1\": -0.5481338047482273, \"q2\": 0.812499047225924, \"source\": \"smc2\"}, {\"row\": 4, \"col\": 0, \"q1\": -0.6403885545697748, \"q2\": 0.8858193794249275, \"source\": \"smc2\"}, {\"row\": 5, \"col\": 0, \"q1\": -0.8307326720435839, \"q2\": 0.7966659370959326, \"source\": \"smc2\"}]}}, {\"mode\": \"vega-lite\"});\n",
       "</script>"
      ],
      "text/plain": [
       "alt.Chart(...)"
      ]
     },
     "execution_count": 62,
     "metadata": {},
     "output_type": "execute_result"
    }
   ],
   "source": [
    "param = 'beta'\n",
    "df = get_post_df(ps[param])\n",
    "df_quant = df.groupby(['row', 'col'])[['value']].quantile(0.025).reset_index()\n",
    "df_quant.rename({'value':'q1'}, axis=1, inplace=True)\n",
    "df_quant2 = df.groupby(['row', 'col'])[['value']].quantile(0.975).reset_index()\n",
    "df_quant2.rename({'value':'q2'}, axis=1, inplace=True)\n",
    "\n",
    "df = df_quant.merge(df_quant2, on=['row', 'col'])\n",
    "\n",
    "# simple quantile chart\n",
    "df['source'] = 'smc2'\n",
    "c1 = alt.Chart(df).mark_bar(opacity=0.6).encode(\n",
    "        alt.X('q1', title=None),\n",
    "        alt.X2('q2', title=None),\n",
    "        alt.Row('row'),\n",
    "        alt.Column('col'),\n",
    "        alt.Color('source')\n",
    ")\n",
    "c1"
   ]
  },
  {
   "cell_type": "code",
   "execution_count": 63,
   "metadata": {},
   "outputs": [],
   "source": [
    "df['index'] = 'r_' + df.row.astype(str)+'.c_'+df.col.astype(str)\n",
    "df = df.loc[:,['index', 'q1', 'q2', 'source']]\n",
    "\n",
    "dd = pd.DataFrame(exp_data.raw_data['beta'], columns=['data'])\n",
    "dd['col'] = 0\n",
    "dd['row'] = np.arange(6)\n",
    "dd['index'] = 'r_' + dd.row.astype(str)+'.c_'+dd.col.astype(str)\n",
    "dd = dd.loc[:,['index', 'data']]\n",
    "plot_data = df.merge(dd, on=['index'])"
   ]
  },
  {
   "cell_type": "code",
   "execution_count": 64,
   "metadata": {},
   "outputs": [
    {
     "data": {
      "text/html": [
       "\n",
       "<div id=\"altair-viz-720deb45187b4ed0b37f627b431287b7\"></div>\n",
       "<script type=\"text/javascript\">\n",
       "  (function(spec, embedOpt){\n",
       "    let outputDiv = document.currentScript.previousElementSibling;\n",
       "    if (outputDiv.id !== \"altair-viz-720deb45187b4ed0b37f627b431287b7\") {\n",
       "      outputDiv = document.getElementById(\"altair-viz-720deb45187b4ed0b37f627b431287b7\");\n",
       "    }\n",
       "    const paths = {\n",
       "      \"vega\": \"https://cdn.jsdelivr.net/npm//vega@5?noext\",\n",
       "      \"vega-lib\": \"https://cdn.jsdelivr.net/npm//vega-lib?noext\",\n",
       "      \"vega-lite\": \"https://cdn.jsdelivr.net/npm//vega-lite@4.8.1?noext\",\n",
       "      \"vega-embed\": \"https://cdn.jsdelivr.net/npm//vega-embed@6?noext\",\n",
       "    };\n",
       "\n",
       "    function loadScript(lib) {\n",
       "      return new Promise(function(resolve, reject) {\n",
       "        var s = document.createElement('script');\n",
       "        s.src = paths[lib];\n",
       "        s.async = true;\n",
       "        s.onload = () => resolve(paths[lib]);\n",
       "        s.onerror = () => reject(`Error loading script: ${paths[lib]}`);\n",
       "        document.getElementsByTagName(\"head\")[0].appendChild(s);\n",
       "      });\n",
       "    }\n",
       "\n",
       "    function showError(err) {\n",
       "      outputDiv.innerHTML = `<div class=\"error\" style=\"color:red;\">${err}</div>`;\n",
       "      throw err;\n",
       "    }\n",
       "\n",
       "    function displayChart(vegaEmbed) {\n",
       "      vegaEmbed(outputDiv, spec, embedOpt)\n",
       "        .catch(err => showError(`Javascript Error: ${err.message}<br>This usually means there's a typo in your chart specification. See the javascript console for the full traceback.`));\n",
       "    }\n",
       "\n",
       "    if(typeof define === \"function\" && define.amd) {\n",
       "      requirejs.config({paths});\n",
       "      require([\"vega-embed\"], displayChart, err => showError(`Error loading script: ${err.message}`));\n",
       "    } else if (typeof vegaEmbed === \"function\") {\n",
       "      displayChart(vegaEmbed);\n",
       "    } else {\n",
       "      loadScript(\"vega\")\n",
       "        .then(() => loadScript(\"vega-lite\"))\n",
       "        .then(() => loadScript(\"vega-embed\"))\n",
       "        .catch(showError)\n",
       "        .then(() => displayChart(vegaEmbed));\n",
       "    }\n",
       "  })({\"config\": {\"view\": {\"continuousWidth\": 400, \"continuousHeight\": 300}}, \"data\": {\"name\": \"data-d95275a729aa6af7354505f5b9e297d0\"}, \"facet\": {\"type\": \"nominal\", \"field\": \"index\"}, \"spec\": {\"layer\": [{\"mark\": {\"type\": \"bar\", \"opacity\": 0.6}, \"encoding\": {\"color\": {\"type\": \"nominal\", \"field\": \"source\"}, \"x\": {\"type\": \"quantitative\", \"field\": \"q1\", \"scale\": {\"domain\": [-2, 2]}, \"title\": null}, \"x2\": {\"field\": \"q2\", \"title\": null}}}, {\"mark\": {\"type\": \"point\", \"color\": \"red\", \"opacity\": 1}, \"encoding\": {\"x\": {\"type\": \"quantitative\", \"field\": \"data\", \"title\": null}}}]}, \"columns\": 1, \"$schema\": \"https://vega.github.io/schema/vega-lite/v4.8.1.json\", \"datasets\": {\"data-d95275a729aa6af7354505f5b9e297d0\": [{\"index\": \"r_0.c_0\", \"q1\": 0.014626617157119165, \"q2\": 0.6877945157481768, \"source\": \"smc2\", \"data\": 1.0}, {\"index\": \"r_1.c_0\", \"q1\": -0.5024693687196939, \"q2\": 0.8679236300063267, \"source\": \"smc2\", \"data\": 0.7}, {\"index\": \"r_2.c_0\", \"q1\": -0.9879050008222341, \"q2\": 0.950745029477272, \"source\": \"smc2\", \"data\": 0.8}, {\"index\": \"r_3.c_0\", \"q1\": -0.5481338047482273, \"q2\": 0.812499047225924, \"source\": \"smc2\", \"data\": 0.5}, {\"index\": \"r_4.c_0\", \"q1\": -0.6403885545697748, \"q2\": 0.8858193794249275, \"source\": \"smc2\", \"data\": 0.9}, {\"index\": \"r_5.c_0\", \"q1\": -0.8307326720435839, \"q2\": 0.7966659370959326, \"source\": \"smc2\", \"data\": 0.6}]}}, {\"mode\": \"vega-lite\"});\n",
       "</script>"
      ],
      "text/plain": [
       "alt.FacetChart(...)"
      ]
     },
     "execution_count": 64,
     "metadata": {},
     "output_type": "execute_result"
    }
   ],
   "source": [
    "c1 = alt.Chart(plot_data).mark_bar(opacity=0.6).encode(\n",
    "    alt.X('q1', title=None,  scale=alt.Scale(domain=[-2,2])),\n",
    "    alt.X2('q2', title=None),\n",
    "    alt.Color('source'),    \n",
    ")\n",
    "    \n",
    "\n",
    "c2 = alt.Chart(plot_data).mark_point(opacity=1, color='red').encode(\n",
    "        alt.X('data', title=None),\n",
    ")\n",
    "(c1+c2).facet(\n",
    "       'index',\n",
    "    columns=1\n",
    "    )\n"
   ]
  },
  {
   "cell_type": "code",
   "execution_count": null,
   "metadata": {},
   "outputs": [],
   "source": []
  },
  {
   "cell_type": "code",
   "execution_count": null,
   "metadata": {},
   "outputs": [],
   "source": []
  }
 ],
 "metadata": {
  "kernelspec": {
   "display_name": "Python 3",
   "language": "python",
   "name": "python3"
  },
  "language_info": {
   "codemirror_mode": {
    "name": "ipython",
    "version": 3
   },
   "file_extension": ".py",
   "mimetype": "text/x-python",
   "name": "python",
   "nbconvert_exporter": "python",
   "pygments_lexer": "ipython3",
   "version": "3.7.4"
  }
 },
 "nbformat": 4,
 "nbformat_minor": 2
}
