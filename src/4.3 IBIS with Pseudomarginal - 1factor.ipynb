{
 "cells": [
  {
   "cell_type": "code",
   "execution_count": 1,
   "metadata": {},
   "outputs": [
    {
     "data": {
      "text/plain": [
       "DataTransformerRegistry.enable('default')"
      ]
     },
     "execution_count": 1,
     "metadata": {},
     "output_type": "execute_result"
    }
   ],
   "source": [
    "import pandas as pd\n",
    "import numpy as np\n",
    "from codebase.file_utils import (\n",
    "    save_obj,\n",
    "    load_obj,\n",
    ")\n",
    "from codebase.plot import plot_density, plot_line, get_post_df\n",
    "import altair as alt\n",
    "from codebase.classes_data import Data\n",
    "from codebase.ibis import exp_and_normalise\n",
    "from run_ibis_lvm import run_ibis_lvm\n",
    "from codebase.file_utils import (\n",
    "    save_obj,\n",
    "    load_obj,\n",
    "    make_folder,\n",
    "    path_backslash\n",
    ")\n",
    "from pdb import set_trace\n",
    "from copy import copy\n",
    "\n",
    "\n",
    "alt.data_transformers.disable_max_rows()\n"
   ]
  },
  {
   "cell_type": "code",
   "execution_count": 2,
   "metadata": {},
   "outputs": [
    {
     "name": "stdout",
     "output_type": "stream",
     "text": [
      "\n",
      "\n",
      "Creating new directory: ./log/20210122_183344_ibis_pseudo1/\n"
     ]
    }
   ],
   "source": [
    "\n",
    "task_handle = 'ibis_pseudo1'\n",
    "gen_model = 0\n",
    "existing_directory = None\n",
    "\n",
    "if existing_directory is None:\n",
    "    log_dir = make_folder(task_handle)  \n",
    "    print(\"\\n\\nCreating new directory: %s\" % log_dir)\n",
    "\n",
    "else:\n",
    "    log_dir = existing_directory\n",
    "    log_dir = path_backslash(log_dir)\n",
    "    print(\"\\n\\nReading from existing directory: %s\" % log_dir)\n"
   ]
  },
  {
   "cell_type": "markdown",
   "metadata": {},
   "source": [
    "##"
   ]
  },
  {
   "cell_type": "code",
   "execution_count": 3,
   "metadata": {},
   "outputs": [],
   "source": [
    "\n",
    "# generate data\n",
    "exp_data = Data(\n",
    "    name = task_handle, \n",
    "    model_num = 1,  \n",
    "    size = 50,\n",
    "    random_seed = 2\n",
    "    )\n",
    "\n",
    "exp_data.generate()\n",
    "save_obj(exp_data, 'complete_data', log_dir)\n"
   ]
  },
  {
   "cell_type": "code",
   "execution_count": 4,
   "metadata": {},
   "outputs": [
    {
     "name": "stderr",
     "output_type": "stream",
     "text": [
      "100%|██████████| 50/50 [04:48<00:00,  5.77s/it]"
     ]
    },
    {
     "name": "stdout",
     "output_type": "stream",
     "text": [
      "\n",
      "\n",
      "\n",
      "Marginal Likelihood 2.70464\n"
     ]
    },
    {
     "name": "stderr",
     "output_type": "stream",
     "text": [
      "\n"
     ]
    }
   ],
   "source": [
    "num_warmup = 200\n",
    "model_num = 7\n",
    "\n",
    "param_names = ['beta', 'alpha']\n",
    "# latent_names = ['z', 'y_latent']\n",
    "smc2_output = run_ibis_lvm(\n",
    "    exp_data = exp_data,\n",
    "    model_num = model_num,\n",
    "    size = 100,\n",
    "    bundle_size = 50,\n",
    "    gen_model = False,\n",
    "    log_dir = log_dir,\n",
    "    degeneracy_limit=0.5,\n",
    "    name=\"smc2\"\n",
    ")\n",
    "\n",
    "# save_obj(ps, 'mcmc_post_samples', log_dir)\n"
   ]
  },
  {
   "cell_type": "code",
   "execution_count": 5,
   "metadata": {},
   "outputs": [],
   "source": [
    "# ps = load_obj('mcmc_post_samples', log_dir)"
   ]
  },
  {
   "cell_type": "code",
   "execution_count": 16,
   "metadata": {},
   "outputs": [
    {
     "data": {
      "text/plain": [
       "array([[[ 1.216203  ],\n",
       "        [-1.29547515],\n",
       "        [ 1.09252273],\n",
       "        [ 0.3805881 ],\n",
       "        [ 0.61932044],\n",
       "        [ 0.01256217]],\n",
       "\n",
       "       [[ 1.216203  ],\n",
       "        [-1.29547515],\n",
       "        [ 1.09252273],\n",
       "        [ 0.3805881 ],\n",
       "        [ 0.61932044],\n",
       "        [ 0.01256217]]])"
      ]
     },
     "execution_count": 16,
     "metadata": {},
     "output_type": "execute_result"
    }
   ],
   "source": [
    "particles = copy(smc2_output['particles'])\n",
    "particles.particles['beta'][:2]\n",
    "# particles.resample()"
   ]
  },
  {
   "cell_type": "code",
   "execution_count": 17,
   "metadata": {},
   "outputs": [],
   "source": [
    "particles.resample_particles()\n",
    "particles.particles['beta'][:2]\n",
    "\n",
    "ps = particles.particles.copy()"
   ]
  },
  {
   "cell_type": "markdown",
   "metadata": {},
   "source": [
    "## Or load existing directory"
   ]
  },
  {
   "cell_type": "code",
   "execution_count": 18,
   "metadata": {},
   "outputs": [],
   "source": [
    "# log_dir = '/log/20210122_173348_mcmc_ibis_adapt9/'\n",
    "# ps = load_obj( 'mcmc_post_samples', log_dir)\n",
    "# ps['beta'] = ps['beta'][num_warmup:].copy()"
   ]
  },
  {
   "cell_type": "code",
   "execution_count": 19,
   "metadata": {},
   "outputs": [
    {
     "data": {
      "text/plain": [
       "(100, 6, 1)"
      ]
     },
     "execution_count": 19,
     "metadata": {},
     "output_type": "execute_result"
    }
   ],
   "source": [
    "ps['beta'].shape"
   ]
  },
  {
   "cell_type": "markdown",
   "metadata": {},
   "source": [
    "## Post process loadings for sign flips"
   ]
  },
  {
   "cell_type": "code",
   "execution_count": 20,
   "metadata": {},
   "outputs": [],
   "source": [
    "nsim = ps['beta'].shape[0]\n",
    "nrows = ps['beta'].shape[1]\n",
    "for n in range(nsim):\n",
    "    for i in range(nrows):\n",
    "        sign = np.sign(ps['beta'][n,0])\n",
    "        ps['beta'][n] = sign * ps['beta'][n,]"
   ]
  },
  {
   "cell_type": "markdown",
   "metadata": {},
   "source": [
    "## Plot MCMC samples"
   ]
  },
  {
   "cell_type": "code",
   "execution_count": 29,
   "metadata": {},
   "outputs": [
    {
     "data": {
      "text/html": [
       "\n",
       "<div id=\"altair-viz-5a65a7c36d0b41d29c276b9f7722e9c1\"></div>\n",
       "<script type=\"text/javascript\">\n",
       "  (function(spec, embedOpt){\n",
       "    let outputDiv = document.currentScript.previousElementSibling;\n",
       "    if (outputDiv.id !== \"altair-viz-5a65a7c36d0b41d29c276b9f7722e9c1\") {\n",
       "      outputDiv = document.getElementById(\"altair-viz-5a65a7c36d0b41d29c276b9f7722e9c1\");\n",
       "    }\n",
       "    const paths = {\n",
       "      \"vega\": \"https://cdn.jsdelivr.net/npm//vega@5?noext\",\n",
       "      \"vega-lib\": \"https://cdn.jsdelivr.net/npm//vega-lib?noext\",\n",
       "      \"vega-lite\": \"https://cdn.jsdelivr.net/npm//vega-lite@4.8.1?noext\",\n",
       "      \"vega-embed\": \"https://cdn.jsdelivr.net/npm//vega-embed@6?noext\",\n",
       "    };\n",
       "\n",
       "    function loadScript(lib) {\n",
       "      return new Promise(function(resolve, reject) {\n",
       "        var s = document.createElement('script');\n",
       "        s.src = paths[lib];\n",
       "        s.async = true;\n",
       "        s.onload = () => resolve(paths[lib]);\n",
       "        s.onerror = () => reject(`Error loading script: ${paths[lib]}`);\n",
       "        document.getElementsByTagName(\"head\")[0].appendChild(s);\n",
       "      });\n",
       "    }\n",
       "\n",
       "    function showError(err) {\n",
       "      outputDiv.innerHTML = `<div class=\"error\" style=\"color:red;\">${err}</div>`;\n",
       "      throw err;\n",
       "    }\n",
       "\n",
       "    function displayChart(vegaEmbed) {\n",
       "      vegaEmbed(outputDiv, spec, embedOpt)\n",
       "        .catch(err => showError(`Javascript Error: ${err.message}<br>This usually means there's a typo in your chart specification. See the javascript console for the full traceback.`));\n",
       "    }\n",
       "\n",
       "    if(typeof define === \"function\" && define.amd) {\n",
       "      requirejs.config({paths});\n",
       "      require([\"vega-embed\"], displayChart, err => showError(`Error loading script: ${err.message}`));\n",
       "    } else if (typeof vegaEmbed === \"function\") {\n",
       "      displayChart(vegaEmbed);\n",
       "    } else {\n",
       "      loadScript(\"vega\")\n",
       "        .then(() => loadScript(\"vega-lite\"))\n",
       "        .then(() => loadScript(\"vega-embed\"))\n",
       "        .catch(showError)\n",
       "        .then(() => displayChart(vegaEmbed));\n",
       "    }\n",
       "  })({\"config\": {\"view\": {\"continuousWidth\": 400, \"continuousHeight\": 300}}, \"data\": {\"name\": \"data-fbf51a131c6b7c665e0f0cede9560bf7\"}, \"mark\": {\"type\": \"bar\", \"opacity\": 0.6}, \"encoding\": {\"color\": {\"type\": \"nominal\", \"field\": \"source\"}, \"column\": {\"type\": \"quantitative\", \"field\": \"col\"}, \"row\": {\"type\": \"quantitative\", \"field\": \"row\"}, \"x\": {\"type\": \"quantitative\", \"field\": \"q1\", \"title\": null}, \"x2\": {\"field\": \"q2\", \"title\": null}}, \"$schema\": \"https://vega.github.io/schema/vega-lite/v4.8.1.json\", \"datasets\": {\"data-fbf51a131c6b7c665e0f0cede9560bf7\": [{\"row\": 0, \"col\": 0, \"q1\": 0.012363793922796011, \"q2\": 1.2950878123840082, \"source\": \"smc2\"}, {\"row\": 1, \"col\": 0, \"q1\": -0.6933268205951922, \"q2\": 1.018268046743783, \"source\": \"smc2\"}, {\"row\": 2, \"col\": 0, \"q1\": -1.3068123442585076, \"q2\": 1.603352436750374, \"source\": \"smc2\"}, {\"row\": 3, \"col\": 0, \"q1\": -0.7417893090584942, \"q2\": 0.992357768591401, \"source\": \"smc2\"}, {\"row\": 4, \"col\": 0, \"q1\": -0.9635646319131812, \"q2\": 0.9749546568646995, \"source\": \"smc2\"}, {\"row\": 5, \"col\": 0, \"q1\": -0.998461963361003, \"q2\": 1.0474995382531174, \"source\": \"smc2\"}]}}, {\"mode\": \"vega-lite\"});\n",
       "</script>"
      ],
      "text/plain": [
       "alt.Chart(...)"
      ]
     },
     "execution_count": 29,
     "metadata": {},
     "output_type": "execute_result"
    }
   ],
   "source": [
    "param = 'beta'\n",
    "df = get_post_df(ps[param])\n",
    "df_quant = df.groupby(['row', 'col'])[['value']].quantile(0.025).reset_index()\n",
    "df_quant.rename({'value':'q1'}, axis=1, inplace=True)\n",
    "df_quant2 = df.groupby(['row', 'col'])[['value']].quantile(0.975).reset_index()\n",
    "df_quant2.rename({'value':'q2'}, axis=1, inplace=True)\n",
    "\n",
    "df = df_quant.merge(df_quant2, on=['row', 'col'])\n",
    "\n",
    "# simple quantile chart\n",
    "df['source'] = 'smc2'\n",
    "c1 = alt.Chart(df).mark_bar(opacity=0.6).encode(\n",
    "        alt.X('q1', title=None),\n",
    "        alt.X2('q2', title=None),\n",
    "        alt.Row('row'),\n",
    "        alt.Column('col'),\n",
    "        alt.Color('source')\n",
    ")\n",
    "c1"
   ]
  },
  {
   "cell_type": "code",
   "execution_count": 30,
   "metadata": {},
   "outputs": [],
   "source": [
    "df['index'] = 'r_' + df.row.astype(str)+'.c_'+df.col.astype(str)\n",
    "df = df.loc[:,['index', 'q1', 'q2', 'source']]\n",
    "\n",
    "dd = pd.DataFrame(exp_data.raw_data['beta'], columns=['data'])\n",
    "dd['col'] = 0\n",
    "dd['row'] = np.arange(6)\n",
    "dd['index'] = 'r_' + dd.row.astype(str)+'.c_'+dd.col.astype(str)\n",
    "dd = dd.loc[:,['index', 'data']]\n",
    "plot_data = df.merge(dd, on=['index'])"
   ]
  },
  {
   "cell_type": "code",
   "execution_count": 31,
   "metadata": {},
   "outputs": [
    {
     "data": {
      "text/html": [
       "\n",
       "<div id=\"altair-viz-bf2e81f96f2d4531bc7590e0f00c1ba8\"></div>\n",
       "<script type=\"text/javascript\">\n",
       "  (function(spec, embedOpt){\n",
       "    let outputDiv = document.currentScript.previousElementSibling;\n",
       "    if (outputDiv.id !== \"altair-viz-bf2e81f96f2d4531bc7590e0f00c1ba8\") {\n",
       "      outputDiv = document.getElementById(\"altair-viz-bf2e81f96f2d4531bc7590e0f00c1ba8\");\n",
       "    }\n",
       "    const paths = {\n",
       "      \"vega\": \"https://cdn.jsdelivr.net/npm//vega@5?noext\",\n",
       "      \"vega-lib\": \"https://cdn.jsdelivr.net/npm//vega-lib?noext\",\n",
       "      \"vega-lite\": \"https://cdn.jsdelivr.net/npm//vega-lite@4.8.1?noext\",\n",
       "      \"vega-embed\": \"https://cdn.jsdelivr.net/npm//vega-embed@6?noext\",\n",
       "    };\n",
       "\n",
       "    function loadScript(lib) {\n",
       "      return new Promise(function(resolve, reject) {\n",
       "        var s = document.createElement('script');\n",
       "        s.src = paths[lib];\n",
       "        s.async = true;\n",
       "        s.onload = () => resolve(paths[lib]);\n",
       "        s.onerror = () => reject(`Error loading script: ${paths[lib]}`);\n",
       "        document.getElementsByTagName(\"head\")[0].appendChild(s);\n",
       "      });\n",
       "    }\n",
       "\n",
       "    function showError(err) {\n",
       "      outputDiv.innerHTML = `<div class=\"error\" style=\"color:red;\">${err}</div>`;\n",
       "      throw err;\n",
       "    }\n",
       "\n",
       "    function displayChart(vegaEmbed) {\n",
       "      vegaEmbed(outputDiv, spec, embedOpt)\n",
       "        .catch(err => showError(`Javascript Error: ${err.message}<br>This usually means there's a typo in your chart specification. See the javascript console for the full traceback.`));\n",
       "    }\n",
       "\n",
       "    if(typeof define === \"function\" && define.amd) {\n",
       "      requirejs.config({paths});\n",
       "      require([\"vega-embed\"], displayChart, err => showError(`Error loading script: ${err.message}`));\n",
       "    } else if (typeof vegaEmbed === \"function\") {\n",
       "      displayChart(vegaEmbed);\n",
       "    } else {\n",
       "      loadScript(\"vega\")\n",
       "        .then(() => loadScript(\"vega-lite\"))\n",
       "        .then(() => loadScript(\"vega-embed\"))\n",
       "        .catch(showError)\n",
       "        .then(() => displayChart(vegaEmbed));\n",
       "    }\n",
       "  })({\"config\": {\"view\": {\"continuousWidth\": 400, \"continuousHeight\": 300}}, \"data\": {\"name\": \"data-7580c8da638174356cee0dfe95cdb264\"}, \"facet\": {\"type\": \"nominal\", \"field\": \"index\"}, \"spec\": {\"layer\": [{\"mark\": {\"type\": \"bar\", \"opacity\": 0.6}, \"encoding\": {\"color\": {\"type\": \"nominal\", \"field\": \"source\"}, \"x\": {\"type\": \"quantitative\", \"field\": \"q1\", \"scale\": {\"domain\": [-2, 2]}, \"title\": null}, \"x2\": {\"field\": \"q2\", \"title\": null}}}, {\"mark\": {\"type\": \"point\", \"color\": \"red\", \"opacity\": 1}, \"encoding\": {\"x\": {\"type\": \"quantitative\", \"field\": \"data\", \"title\": null}}}]}, \"columns\": 1, \"$schema\": \"https://vega.github.io/schema/vega-lite/v4.8.1.json\", \"datasets\": {\"data-7580c8da638174356cee0dfe95cdb264\": [{\"index\": \"r_0.c_0\", \"q1\": 0.012363793922796011, \"q2\": 1.2950878123840082, \"source\": \"smc2\", \"data\": 1.0}, {\"index\": \"r_1.c_0\", \"q1\": -0.6933268205951922, \"q2\": 1.018268046743783, \"source\": \"smc2\", \"data\": 0.7}, {\"index\": \"r_2.c_0\", \"q1\": -1.3068123442585076, \"q2\": 1.603352436750374, \"source\": \"smc2\", \"data\": 0.8}, {\"index\": \"r_3.c_0\", \"q1\": -0.7417893090584942, \"q2\": 0.992357768591401, \"source\": \"smc2\", \"data\": 0.5}, {\"index\": \"r_4.c_0\", \"q1\": -0.9635646319131812, \"q2\": 0.9749546568646995, \"source\": \"smc2\", \"data\": 0.9}, {\"index\": \"r_5.c_0\", \"q1\": -0.998461963361003, \"q2\": 1.0474995382531174, \"source\": \"smc2\", \"data\": 0.6}]}}, {\"mode\": \"vega-lite\"});\n",
       "</script>"
      ],
      "text/plain": [
       "alt.FacetChart(...)"
      ]
     },
     "execution_count": 31,
     "metadata": {},
     "output_type": "execute_result"
    }
   ],
   "source": [
    "c1 = alt.Chart(plot_data).mark_bar(opacity=0.6).encode(\n",
    "    alt.X('q1', title=None,  scale=alt.Scale(domain=[-2,2])),\n",
    "    alt.X2('q2', title=None),\n",
    "    alt.Color('source'),    \n",
    ")\n",
    "    \n",
    "\n",
    "c2 = alt.Chart(plot_data).mark_point(opacity=1, color='red').encode(\n",
    "        alt.X('data', title=None),\n",
    ")\n",
    "(c1+c2).facet(\n",
    "       'index',\n",
    "    columns=1\n",
    "    )\n"
   ]
  },
  {
   "cell_type": "code",
   "execution_count": null,
   "metadata": {},
   "outputs": [],
   "source": []
  }
 ],
 "metadata": {
  "kernelspec": {
   "display_name": "Python 3",
   "language": "python",
   "name": "python3"
  },
  "language_info": {
   "codemirror_mode": {
    "name": "ipython",
    "version": 3
   },
   "file_extension": ".py",
   "mimetype": "text/x-python",
   "name": "python",
   "nbconvert_exporter": "python",
   "pygments_lexer": "ipython3",
   "version": "3.7.4"
  }
 },
 "nbformat": 4,
 "nbformat_minor": 2
}
