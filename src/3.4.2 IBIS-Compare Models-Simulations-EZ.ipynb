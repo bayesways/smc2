{
 "cells": [
  {
   "cell_type": "code",
   "execution_count": 1,
   "metadata": {},
   "outputs": [],
   "source": [
    "from codebase.classes import Particles\n",
    "from codebase.classes_data import Data\n",
    "import pandas as pd\n",
    "import numpy as np\n",
    "from codebase.file_utils import (\n",
    "    save_obj,\n",
    "    load_obj,\n",
    "    make_folder,\n",
    "    path_backslash\n",
    ")\n",
    "from codebase.ibis import essl, exp_and_normalise, model_phonebook, run_mcmc\n",
    "from codebase.plot import get_post_df, plot_density\n",
    "from codebase.run_tlk import model_phonebook\n",
    "from tqdm import tqdm\n",
    "from scipy.special import logsumexp\n",
    "import altair as alt\n",
    "alt.data_transformers.disable_max_rows()\n",
    "\n",
    "\n",
    "import pystan"
   ]
  },
  {
   "cell_type": "markdown",
   "metadata": {},
   "source": [
    "## Model Legend\n",
    "\n",
    "* m5 = AZ\n",
    "* m7 = EZ\n",
    "* m9 = EFA\n",
    "* m10 = EFA-C"
   ]
  },
  {
   "cell_type": "markdown",
   "metadata": {},
   "source": [
    "## Load Model Evidence"
   ]
  },
  {
   "cell_type": "code",
   "execution_count": 2,
   "metadata": {
    "scrolled": true
   },
   "outputs": [],
   "source": [
    "log_dirs = dict()\n",
    "log_dirs['m5'] = 'log/fabian_sim/EZ/20210912_182218_ezsim_m5/'\n",
    "log_dirs['m7'] = 'log/fabian_sim/EZ/20210912_182221_ezsim_m7/'\n",
    "log_dirs['m9'] = 'log/fabian_sim/EZ/20210912_182227_ezsim_m9/'\n",
    "# log_dirs['m10'] = 'log/fabian_sim/EZ/20210912_182229_ezsim_m10/'\n",
    "log_dirs['m15'] = 'log/fabian_sim/EZ/20210917_221719_ezsim_1factor_m9/'\n",
    "log_dirs['m16'] = 'log/fabian_sim/EZ/20210917_221843_ezsim_3factor_m9/'\n",
    "\n",
    "\n",
    "model_nums = [5,7, 9, 15, 16]\n",
    "\n",
    "# load existing results\n",
    "bf = dict()\n",
    "\n",
    "for model in model_nums:\n",
    "    bf['m'+str(model)] = np.cumsum(load_obj('log_lklhds', log_dirs['m'+str(model)])[30:])\n",
    "\n"
   ]
  },
  {
   "cell_type": "code",
   "execution_count": 3,
   "metadata": {},
   "outputs": [
    {
     "data": {
      "text/plain": [
       "{'random_seed': 0,\n",
       " 'N': 200,\n",
       " 'K': 2,\n",
       " 'J': 6,\n",
       " 'alpha': array([0., 0., 0., 0., 0., 0.]),\n",
       " 'beta': array([[1. , 0. ],\n",
       "        [0.8, 0. ],\n",
       "        [0.8, 0. ],\n",
       "        [0. , 1. ],\n",
       "        [0. , 0.8],\n",
       "        [0. , 0.8]]),\n",
       " 'sigma_z': array([0.80622577, 0.80622577]),\n",
       " 'Phi_corr': array([[1. , 0.2],\n",
       "        [0.2, 1. ]]),\n",
       " 'Phi_cov': array([[0.65, 0.13],\n",
       "        [0.13, 0.65]]),\n",
       " 'Marg_cov': array([[1.    , 0.52  , 0.52  , 0.13  , 0.104 , 0.104 ],\n",
       "        [0.52  , 1.    , 0.416 , 0.104 , 0.0832, 0.0832],\n",
       "        [0.52  , 0.416 , 1.    , 0.104 , 0.0832, 0.0832],\n",
       "        [0.13  , 0.104 , 0.104 , 1.    , 0.52  , 0.52  ],\n",
       "        [0.104 , 0.0832, 0.0832, 0.52  , 1.    , 0.416 ],\n",
       "        [0.104 , 0.0832, 0.0832, 0.52  , 0.416 , 1.    ]]),\n",
       " 'Theta': array([[0.35 , 0.   , 0.   , 0.   , 0.   , 0.   ],\n",
       "        [0.   , 0.584, 0.   , 0.   , 0.   , 0.   ],\n",
       "        [0.   , 0.   , 0.584, 0.   , 0.   , 0.   ],\n",
       "        [0.   , 0.   , 0.   , 0.35 , 0.   , 0.   ],\n",
       "        [0.   , 0.   , 0.   , 0.   , 0.584, 0.   ],\n",
       "        [0.   , 0.   , 0.   , 0.   , 0.   , 0.584]]),\n",
       " 'sigma': array([0.59160798, 0.76419893, 0.76419893, 0.59160798, 0.76419893,\n",
       "        0.76419893]),\n",
       " 'y': array([[-2.00307163,  0.94431357, -1.47751043, -1.6920804 , -1.59680057,\n",
       "         -0.5390388 ],\n",
       "        [-0.20300958, -0.67744638, -1.1211968 , -1.14468565, -0.116174  ,\n",
       "         -0.2277268 ],\n",
       "        [-1.06599391,  0.13707195, -0.2235434 , -1.04132917, -0.49075416,\n",
       "         -0.01105319],\n",
       "        ...,\n",
       "        [ 0.31183579, -0.25821443, -0.06604457, -0.10668408,  1.64481837,\n",
       "         -0.40033375],\n",
       "        [-0.98030821, -0.11749378, -1.33214375, -0.14369232, -0.33859286,\n",
       "         -0.63776668],\n",
       "        [ 0.62440408, -1.13266513, -0.4909458 , -0.94247512, -1.67782129,\n",
       "         -1.65751224]]),\n",
       " 'off_diag_residual': False,\n",
       " 'sigma_prior': array([1.83776922, 1.71421873, 1.44384949, 1.702277  , 1.62362352,\n",
       "        1.44372457]),\n",
       " 'stan_constants': ['N', 'J', 'K', 'sigma_prior'],\n",
       " 'stan_data': ['y']}"
      ]
     },
     "execution_count": 3,
     "metadata": {},
     "output_type": "execute_result"
    }
   ],
   "source": [
    "data = load_obj('data', log_dirs['m5'])\n",
    "data.raw_data\n"
   ]
  },
  {
   "cell_type": "code",
   "execution_count": 4,
   "metadata": {},
   "outputs": [
    {
     "name": "stderr",
     "output_type": "stream",
     "text": [
      "INFO:numexpr.utils:NumExpr defaulting to 8 threads.\n"
     ]
    }
   ],
   "source": [
    "bfdf = pd.DataFrame.from_dict(bf)\n",
    "bfdf.rename({\n",
    "    'm5':'AZ', \n",
    "    'm7':'EZ',\n",
    "    'm9':'EFA2',\n",
    "#     'm10':'EFA2.C',\n",
    "    'm15':'EFA1',\n",
    "    'm16':'EFA3'\n",
    "}, axis=1, inplace=True)\n",
    "\n",
    "bfdf['t']  = np.arange(30, len(bfdf)+30)\n",
    "for i in ['EFA2', 'EFA1', 'AZ', 'EFA3']:\n",
    "    bfdf['EZ / '+str(i)] = bfdf['EZ']-bfdf[str(i)]\n",
    "bfdf.drop(['EFA2', 'EFA1', 'EZ', 'EFA3', 'AZ'], axis=1, inplace=True)\n",
    "bfdf = bfdf.melt(id_vars='t', var_name='Model')"
   ]
  },
  {
   "cell_type": "code",
   "execution_count": 5,
   "metadata": {},
   "outputs": [
    {
     "data": {
      "text/html": [
       "\n",
       "<div id=\"altair-viz-5c598aca6f454636af269ac143b6c4f5\"></div>\n",
       "<script type=\"text/javascript\">\n",
       "  (function(spec, embedOpt){\n",
       "    let outputDiv = document.currentScript.previousElementSibling;\n",
       "    if (outputDiv.id !== \"altair-viz-5c598aca6f454636af269ac143b6c4f5\") {\n",
       "      outputDiv = document.getElementById(\"altair-viz-5c598aca6f454636af269ac143b6c4f5\");\n",
       "    }\n",
       "    const paths = {\n",
       "      \"vega\": \"https://cdn.jsdelivr.net/npm//vega@5?noext\",\n",
       "      \"vega-lib\": \"https://cdn.jsdelivr.net/npm//vega-lib?noext\",\n",
       "      \"vega-lite\": \"https://cdn.jsdelivr.net/npm//vega-lite@4.8.1?noext\",\n",
       "      \"vega-embed\": \"https://cdn.jsdelivr.net/npm//vega-embed@6?noext\",\n",
       "    };\n",
       "\n",
       "    function loadScript(lib) {\n",
       "      return new Promise(function(resolve, reject) {\n",
       "        var s = document.createElement('script');\n",
       "        s.src = paths[lib];\n",
       "        s.async = true;\n",
       "        s.onload = () => resolve(paths[lib]);\n",
       "        s.onerror = () => reject(`Error loading script: ${paths[lib]}`);\n",
       "        document.getElementsByTagName(\"head\")[0].appendChild(s);\n",
       "      });\n",
       "    }\n",
       "\n",
       "    function showError(err) {\n",
       "      outputDiv.innerHTML = `<div class=\"error\" style=\"color:red;\">${err}</div>`;\n",
       "      throw err;\n",
       "    }\n",
       "\n",
       "    function displayChart(vegaEmbed) {\n",
       "      vegaEmbed(outputDiv, spec, embedOpt)\n",
       "        .catch(err => showError(`Javascript Error: ${err.message}<br>This usually means there's a typo in your chart specification. See the javascript console for the full traceback.`));\n",
       "    }\n",
       "\n",
       "    if(typeof define === \"function\" && define.amd) {\n",
       "      requirejs.config({paths});\n",
       "      require([\"vega-embed\"], displayChart, err => showError(`Error loading script: ${err.message}`));\n",
       "    } else if (typeof vegaEmbed === \"function\") {\n",
       "      displayChart(vegaEmbed);\n",
       "    } else {\n",
       "      loadScript(\"vega\")\n",
       "        .then(() => loadScript(\"vega-lite\"))\n",
       "        .then(() => loadScript(\"vega-embed\"))\n",
       "        .catch(showError)\n",
       "        .then(() => displayChart(vegaEmbed));\n",
       "    }\n",
       "  })({\"config\": {\"view\": {\"continuousWidth\": 400, \"continuousHeight\": 300}, \"axis\": {\"labelFontSize\": 14, \"titleFontSize\": 16}, \"legend\": {\"labelFontSize\": 14, \"symbolStrokeWidth\": 6, \"titleFontSize\": 16}}, \"data\": {\"name\": \"data-4b4031d34fc3ba06a1428e7ccac7fd0c\"}, \"mark\": {\"type\": \"line\", \"strokeWidth\": 2}, \"encoding\": {\"color\": {\"type\": \"nominal\", \"field\": \"Model\"}, \"x\": {\"type\": \"quantitative\", \"field\": \"t\", \"scale\": {\"domain\": [0, 200]}, \"title\": \"Index i\"}, \"y\": {\"type\": \"quantitative\", \"field\": \"value\", \"title\": \"Log Bayes Factor\"}}, \"height\": 400, \"selection\": {\"selector001\": {\"type\": \"interval\", \"bind\": \"scales\", \"encodings\": [\"x\", \"y\"]}}, \"width\": 600, \"$schema\": \"https://vega.github.io/schema/vega-lite/v4.8.1.json\", \"datasets\": {\"data-4b4031d34fc3ba06a1428e7ccac7fd0c\": [{\"t\": 30, \"Model\": \"EZ / EFA2\", \"value\": -0.9773952506721422}, {\"t\": 31, \"Model\": \"EZ / EFA2\", \"value\": -0.5454068725798571}, {\"t\": 32, \"Model\": \"EZ / EFA2\", \"value\": -0.637815165514855}, {\"t\": 33, \"Model\": \"EZ / EFA2\", \"value\": -1.0344709119401898}, {\"t\": 34, \"Model\": \"EZ / EFA2\", \"value\": -1.4742379736995872}, {\"t\": 35, \"Model\": \"EZ / EFA2\", \"value\": -0.9723435831433278}, {\"t\": 36, \"Model\": \"EZ / EFA2\", \"value\": -0.806611450934696}, {\"t\": 37, \"Model\": \"EZ / EFA2\", \"value\": -0.49235804826486174}, {\"t\": 38, \"Model\": \"EZ / EFA2\", \"value\": -0.40461216741240946}, {\"t\": 39, \"Model\": \"EZ / EFA2\", \"value\": -0.3894947097131052}, {\"t\": 40, \"Model\": \"EZ / EFA2\", \"value\": -0.42582972814193454}, {\"t\": 41, \"Model\": \"EZ / EFA2\", \"value\": -0.027401487941318692}, {\"t\": 42, \"Model\": \"EZ / EFA2\", \"value\": 0.47063200601402855}, {\"t\": 43, \"Model\": \"EZ / EFA2\", \"value\": 0.19012990604591096}, {\"t\": 44, \"Model\": \"EZ / EFA2\", \"value\": -0.17301544444811157}, {\"t\": 45, \"Model\": \"EZ / EFA2\", \"value\": -0.5900159718009661}, {\"t\": 46, \"Model\": \"EZ / EFA2\", \"value\": -0.43146408162502325}, {\"t\": 47, \"Model\": \"EZ / EFA2\", \"value\": -0.5979203493338332}, {\"t\": 48, \"Model\": \"EZ / EFA2\", \"value\": 0.011771128400965836}, {\"t\": 49, \"Model\": \"EZ / EFA2\", \"value\": 0.0746456357429679}, {\"t\": 50, \"Model\": \"EZ / EFA2\", \"value\": 0.16485002788149927}, {\"t\": 51, \"Model\": \"EZ / EFA2\", \"value\": 0.09406183038547056}, {\"t\": 52, \"Model\": \"EZ / EFA2\", \"value\": 0.12165026303384252}, {\"t\": 53, \"Model\": \"EZ / EFA2\", \"value\": 0.24686541064136236}, {\"t\": 54, \"Model\": \"EZ / EFA2\", \"value\": 0.3958354445847476}, {\"t\": 55, \"Model\": \"EZ / EFA2\", \"value\": 0.8444337304639191}, {\"t\": 56, \"Model\": \"EZ / EFA2\", \"value\": 1.06816745651534}, {\"t\": 57, \"Model\": \"EZ / EFA2\", \"value\": 1.033152833876244}, {\"t\": 58, \"Model\": \"EZ / EFA2\", \"value\": 1.1514954238263897}, {\"t\": 59, \"Model\": \"EZ / EFA2\", \"value\": 1.1934213144948274}, {\"t\": 60, \"Model\": \"EZ / EFA2\", \"value\": 1.326235380354973}, {\"t\": 61, \"Model\": \"EZ / EFA2\", \"value\": 1.459230410455632}, {\"t\": 62, \"Model\": \"EZ / EFA2\", \"value\": 1.5366415218803127}, {\"t\": 63, \"Model\": \"EZ / EFA2\", \"value\": 1.7599014909724815}, {\"t\": 64, \"Model\": \"EZ / EFA2\", \"value\": 1.437250891293786}, {\"t\": 65, \"Model\": \"EZ / EFA2\", \"value\": 1.6024592847104486}, {\"t\": 66, \"Model\": \"EZ / EFA2\", \"value\": 1.6094387828759977}, {\"t\": 67, \"Model\": \"EZ / EFA2\", \"value\": 1.5907089214934444}, {\"t\": 68, \"Model\": \"EZ / EFA2\", \"value\": 1.8051554517597879}, {\"t\": 69, \"Model\": \"EZ / EFA2\", \"value\": 1.2649531788426884}, {\"t\": 70, \"Model\": \"EZ / EFA2\", \"value\": 1.3149678196720629}, {\"t\": 71, \"Model\": \"EZ / EFA2\", \"value\": 1.0745011781369271}, {\"t\": 72, \"Model\": \"EZ / EFA2\", \"value\": 1.0833184653344574}, {\"t\": 73, \"Model\": \"EZ / EFA2\", \"value\": 1.2270111375666488}, {\"t\": 74, \"Model\": \"EZ / EFA2\", \"value\": 1.4113401820716263}, {\"t\": 75, \"Model\": \"EZ / EFA2\", \"value\": 1.6456325616586582}, {\"t\": 76, \"Model\": \"EZ / EFA2\", \"value\": 1.2152911542216884}, {\"t\": 77, \"Model\": \"EZ / EFA2\", \"value\": 1.3507811251628254}, {\"t\": 78, \"Model\": \"EZ / EFA2\", \"value\": 0.8940081659713428}, {\"t\": 79, \"Model\": \"EZ / EFA2\", \"value\": 0.726604549692297}, {\"t\": 80, \"Model\": \"EZ / EFA2\", \"value\": 0.9986449266492059}, {\"t\": 81, \"Model\": \"EZ / EFA2\", \"value\": 1.1869213470008049}, {\"t\": 82, \"Model\": \"EZ / EFA2\", \"value\": 1.2075843233679961}, {\"t\": 83, \"Model\": \"EZ / EFA2\", \"value\": 1.428917191425569}, {\"t\": 84, \"Model\": \"EZ / EFA2\", \"value\": 1.5474140353302914}, {\"t\": 85, \"Model\": \"EZ / EFA2\", \"value\": 1.5828218949113193}, {\"t\": 86, \"Model\": \"EZ / EFA2\", \"value\": 1.5855065958636487}, {\"t\": 87, \"Model\": \"EZ / EFA2\", \"value\": 1.6234586501550439}, {\"t\": 88, \"Model\": \"EZ / EFA2\", \"value\": 1.5881328826353638}, {\"t\": 89, \"Model\": \"EZ / EFA2\", \"value\": 1.5791722780032842}, {\"t\": 90, \"Model\": \"EZ / EFA2\", \"value\": 1.6197994303328755}, {\"t\": 91, \"Model\": \"EZ / EFA2\", \"value\": 0.9252595006822162}, {\"t\": 92, \"Model\": \"EZ / EFA2\", \"value\": 1.2777305784109103}, {\"t\": 93, \"Model\": \"EZ / EFA2\", \"value\": 1.1133799174479009}, {\"t\": 94, \"Model\": \"EZ / EFA2\", \"value\": 1.2503328913037421}, {\"t\": 95, \"Model\": \"EZ / EFA2\", \"value\": 1.1927746049337884}, {\"t\": 96, \"Model\": \"EZ / EFA2\", \"value\": 1.0517720612087942}, {\"t\": 97, \"Model\": \"EZ / EFA2\", \"value\": 1.0332076073810867}, {\"t\": 98, \"Model\": \"EZ / EFA2\", \"value\": 0.24016150147872395}, {\"t\": 99, \"Model\": \"EZ / EFA2\", \"value\": 0.3989004166212453}, {\"t\": 100, \"Model\": \"EZ / EFA2\", \"value\": 0.25567384981616215}, {\"t\": 101, \"Model\": \"EZ / EFA2\", \"value\": 0.0577683549588528}, {\"t\": 102, \"Model\": \"EZ / EFA2\", \"value\": 0.07552856048971535}, {\"t\": 103, \"Model\": \"EZ / EFA2\", \"value\": -0.2549797783857457}, {\"t\": 104, \"Model\": \"EZ / EFA2\", \"value\": -0.25696252450438806}, {\"t\": 105, \"Model\": \"EZ / EFA2\", \"value\": -0.17353839693907958}, {\"t\": 106, \"Model\": \"EZ / EFA2\", \"value\": 0.08076500800723352}, {\"t\": 107, \"Model\": \"EZ / EFA2\", \"value\": 0.2783292655050218}, {\"t\": 108, \"Model\": \"EZ / EFA2\", \"value\": 0.22723827275387976}, {\"t\": 109, \"Model\": \"EZ / EFA2\", \"value\": 0.35587410184905366}, {\"t\": 110, \"Model\": \"EZ / EFA2\", \"value\": 0.28603664495619796}, {\"t\": 111, \"Model\": \"EZ / EFA2\", \"value\": 0.3448238115042841}, {\"t\": 112, \"Model\": \"EZ / EFA2\", \"value\": 0.2487618302783403}, {\"t\": 113, \"Model\": \"EZ / EFA2\", \"value\": 0.2585854184624168}, {\"t\": 114, \"Model\": \"EZ / EFA2\", \"value\": -0.3304671094608693}, {\"t\": 115, \"Model\": \"EZ / EFA2\", \"value\": -0.3870603626230604}, {\"t\": 116, \"Model\": \"EZ / EFA2\", \"value\": -0.42813561876357653}, {\"t\": 117, \"Model\": \"EZ / EFA2\", \"value\": -0.3270840175501917}, {\"t\": 118, \"Model\": \"EZ / EFA2\", \"value\": -0.1607570104667957}, {\"t\": 119, \"Model\": \"EZ / EFA2\", \"value\": -0.15072745981274238}, {\"t\": 120, \"Model\": \"EZ / EFA2\", \"value\": -0.12559167804772642}, {\"t\": 121, \"Model\": \"EZ / EFA2\", \"value\": 0.11145557104123327}, {\"t\": 122, \"Model\": \"EZ / EFA2\", \"value\": -0.08054755001489866}, {\"t\": 123, \"Model\": \"EZ / EFA2\", \"value\": 0.14429852932573795}, {\"t\": 124, \"Model\": \"EZ / EFA2\", \"value\": 0.16364878010517714}, {\"t\": 125, \"Model\": \"EZ / EFA2\", \"value\": 0.13748096065808113}, {\"t\": 126, \"Model\": \"EZ / EFA2\", \"value\": 0.2096820098954595}, {\"t\": 127, \"Model\": \"EZ / EFA2\", \"value\": 0.26277067536670984}, {\"t\": 128, \"Model\": \"EZ / EFA2\", \"value\": 0.4815673965917995}, {\"t\": 129, \"Model\": \"EZ / EFA2\", \"value\": 0.2915179109057817}, {\"t\": 130, \"Model\": \"EZ / EFA2\", \"value\": 0.25120903704953434}, {\"t\": 131, \"Model\": \"EZ / EFA2\", \"value\": 0.3513931146618461}, {\"t\": 132, \"Model\": \"EZ / EFA2\", \"value\": 0.29495204097577243}, {\"t\": 133, \"Model\": \"EZ / EFA2\", \"value\": 0.3184052383485323}, {\"t\": 134, \"Model\": \"EZ / EFA2\", \"value\": 0.4984083936847128}, {\"t\": 135, \"Model\": \"EZ / EFA2\", \"value\": 0.7698517209345255}, {\"t\": 136, \"Model\": \"EZ / EFA2\", \"value\": 0.6155873744048677}, {\"t\": 137, \"Model\": \"EZ / EFA2\", \"value\": 0.6809727916568136}, {\"t\": 138, \"Model\": \"EZ / EFA2\", \"value\": 0.6440567821105105}, {\"t\": 139, \"Model\": \"EZ / EFA2\", \"value\": 0.6370527043854963}, {\"t\": 140, \"Model\": \"EZ / EFA2\", \"value\": 0.6109067487401489}, {\"t\": 141, \"Model\": \"EZ / EFA2\", \"value\": 0.8633602679649357}, {\"t\": 142, \"Model\": \"EZ / EFA2\", \"value\": 0.8550865829478198}, {\"t\": 143, \"Model\": \"EZ / EFA2\", \"value\": 0.9888311762786088}, {\"t\": 144, \"Model\": \"EZ / EFA2\", \"value\": 1.0017441594737875}, {\"t\": 145, \"Model\": \"EZ / EFA2\", \"value\": 0.9750202761617857}, {\"t\": 146, \"Model\": \"EZ / EFA2\", \"value\": 1.0920744651937184}, {\"t\": 147, \"Model\": \"EZ / EFA2\", \"value\": 1.2163531698398629}, {\"t\": 148, \"Model\": \"EZ / EFA2\", \"value\": 1.3477449540014277}, {\"t\": 149, \"Model\": \"EZ / EFA2\", \"value\": 1.1856150244005903}, {\"t\": 150, \"Model\": \"EZ / EFA2\", \"value\": 1.0654892650117063}, {\"t\": 151, \"Model\": \"EZ / EFA2\", \"value\": 0.8865517881899905}, {\"t\": 152, \"Model\": \"EZ / EFA2\", \"value\": 1.028842382292055}, {\"t\": 153, \"Model\": \"EZ / EFA2\", \"value\": 1.0984935049576734}, {\"t\": 154, \"Model\": \"EZ / EFA2\", \"value\": 0.8626384298227094}, {\"t\": 155, \"Model\": \"EZ / EFA2\", \"value\": 0.7141643081762368}, {\"t\": 156, \"Model\": \"EZ / EFA2\", \"value\": 0.3113006503156157}, {\"t\": 157, \"Model\": \"EZ / EFA2\", \"value\": 0.10331527236769489}, {\"t\": 158, \"Model\": \"EZ / EFA2\", \"value\": 0.19505053255579696}, {\"t\": 159, \"Model\": \"EZ / EFA2\", \"value\": 0.07673954892811707}, {\"t\": 160, \"Model\": \"EZ / EFA2\", \"value\": 0.20891625880199172}, {\"t\": 161, \"Model\": \"EZ / EFA2\", \"value\": 0.41078590856545816}, {\"t\": 162, \"Model\": \"EZ / EFA2\", \"value\": 0.6318778454090079}, {\"t\": 163, \"Model\": \"EZ / EFA2\", \"value\": 0.6766555686685933}, {\"t\": 164, \"Model\": \"EZ / EFA2\", \"value\": 0.7427429351928367}, {\"t\": 165, \"Model\": \"EZ / EFA2\", \"value\": 0.8136427002978053}, {\"t\": 166, \"Model\": \"EZ / EFA2\", \"value\": 0.8501296437952988}, {\"t\": 167, \"Model\": \"EZ / EFA2\", \"value\": 1.0215060595060095}, {\"t\": 168, \"Model\": \"EZ / EFA2\", \"value\": 1.0671863343493442}, {\"t\": 169, \"Model\": \"EZ / EFA2\", \"value\": 1.1201523416025339}, {\"t\": 170, \"Model\": \"EZ / EFA2\", \"value\": 0.9378240188264044}, {\"t\": 171, \"Model\": \"EZ / EFA2\", \"value\": 0.8468769909763978}, {\"t\": 172, \"Model\": \"EZ / EFA2\", \"value\": 0.9287421744472795}, {\"t\": 173, \"Model\": \"EZ / EFA2\", \"value\": 0.7802173176107772}, {\"t\": 174, \"Model\": \"EZ / EFA2\", \"value\": 0.6250294776361898}, {\"t\": 175, \"Model\": \"EZ / EFA2\", \"value\": 1.1126459319325477}, {\"t\": 176, \"Model\": \"EZ / EFA2\", \"value\": 1.201276373320752}, {\"t\": 177, \"Model\": \"EZ / EFA2\", \"value\": 1.246839861779108}, {\"t\": 178, \"Model\": \"EZ / EFA2\", \"value\": 1.3260951620957258}, {\"t\": 179, \"Model\": \"EZ / EFA2\", \"value\": 1.4892163721112865}, {\"t\": 180, \"Model\": \"EZ / EFA2\", \"value\": 1.5426862831664039}, {\"t\": 181, \"Model\": \"EZ / EFA2\", \"value\": 1.4433344071649117}, {\"t\": 182, \"Model\": \"EZ / EFA2\", \"value\": 1.5838230729448242}, {\"t\": 183, \"Model\": \"EZ / EFA2\", \"value\": 1.5117876874496687}, {\"t\": 184, \"Model\": \"EZ / EFA2\", \"value\": 1.6312271812766994}, {\"t\": 185, \"Model\": \"EZ / EFA2\", \"value\": 1.5158554591655502}, {\"t\": 186, \"Model\": \"EZ / EFA2\", \"value\": 1.6019864663298904}, {\"t\": 187, \"Model\": \"EZ / EFA2\", \"value\": 1.7014803698327796}, {\"t\": 188, \"Model\": \"EZ / EFA2\", \"value\": 1.9334264756096218}, {\"t\": 189, \"Model\": \"EZ / EFA2\", \"value\": 2.049487154636836}, {\"t\": 190, \"Model\": \"EZ / EFA2\", \"value\": 2.0853535595820176}, {\"t\": 191, \"Model\": \"EZ / EFA2\", \"value\": 2.154423022902165}, {\"t\": 192, \"Model\": \"EZ / EFA2\", \"value\": 2.2296537696731775}, {\"t\": 193, \"Model\": \"EZ / EFA2\", \"value\": 2.347372291091233}, {\"t\": 194, \"Model\": \"EZ / EFA2\", \"value\": 2.3290938670329524}, {\"t\": 195, \"Model\": \"EZ / EFA2\", \"value\": 2.374370385745806}, {\"t\": 196, \"Model\": \"EZ / EFA2\", \"value\": 2.375341800588558}, {\"t\": 197, \"Model\": \"EZ / EFA2\", \"value\": 2.371582353985559}, {\"t\": 198, \"Model\": \"EZ / EFA2\", \"value\": 2.3979741604114224}, {\"t\": 199, \"Model\": \"EZ / EFA2\", \"value\": 2.676671334457751}, {\"t\": 30, \"Model\": \"EZ / EFA1\", \"value\": 4.22947262932427}, {\"t\": 31, \"Model\": \"EZ / EFA1\", \"value\": 4.746517045433993}, {\"t\": 32, \"Model\": \"EZ / EFA1\", \"value\": 5.570638818543845}, {\"t\": 33, \"Model\": \"EZ / EFA1\", \"value\": 5.3938037863611115}, {\"t\": 34, \"Model\": \"EZ / EFA1\", \"value\": 6.776745559875877}, {\"t\": 35, \"Model\": \"EZ / EFA1\", \"value\": 7.193583668709287}, {\"t\": 36, \"Model\": \"EZ / EFA1\", \"value\": 6.712614589768286}, {\"t\": 37, \"Model\": \"EZ / EFA1\", \"value\": 6.954847012544789}, {\"t\": 38, \"Model\": \"EZ / EFA1\", \"value\": 7.311818242425133}, {\"t\": 39, \"Model\": \"EZ / EFA1\", \"value\": 6.929761092239801}, {\"t\": 40, \"Model\": \"EZ / EFA1\", \"value\": 7.02200749947545}, {\"t\": 41, \"Model\": \"EZ / EFA1\", \"value\": 7.414534889114748}, {\"t\": 42, \"Model\": \"EZ / EFA1\", \"value\": 7.446324190589138}, {\"t\": 43, \"Model\": \"EZ / EFA1\", \"value\": 7.571892767539467}, {\"t\": 44, \"Model\": \"EZ / EFA1\", \"value\": 7.6107299081078}, {\"t\": 45, \"Model\": \"EZ / EFA1\", \"value\": 9.489288057702083}, {\"t\": 46, \"Model\": \"EZ / EFA1\", \"value\": 8.960156348034388}, {\"t\": 47, \"Model\": \"EZ / EFA1\", \"value\": 9.395800381903712}, {\"t\": 48, \"Model\": \"EZ / EFA1\", \"value\": 9.780137857738964}, {\"t\": 49, \"Model\": \"EZ / EFA1\", \"value\": 10.333974464569422}, {\"t\": 50, \"Model\": \"EZ / EFA1\", \"value\": 10.893669516390986}, {\"t\": 51, \"Model\": \"EZ / EFA1\", \"value\": 12.658032031643387}, {\"t\": 52, \"Model\": \"EZ / EFA1\", \"value\": 13.581383081560148}, {\"t\": 53, \"Model\": \"EZ / EFA1\", \"value\": 13.839697532965374}, {\"t\": 54, \"Model\": \"EZ / EFA1\", \"value\": 13.083951753155702}, {\"t\": 55, \"Model\": \"EZ / EFA1\", \"value\": 13.004274840636612}, {\"t\": 56, \"Model\": \"EZ / EFA1\", \"value\": 13.178748511143112}, {\"t\": 57, \"Model\": \"EZ / EFA1\", \"value\": 13.77739813437529}, {\"t\": 58, \"Model\": \"EZ / EFA1\", \"value\": 13.27109869678813}, {\"t\": 59, \"Model\": \"EZ / EFA1\", \"value\": 13.41375456065478}, {\"t\": 60, \"Model\": \"EZ / EFA1\", \"value\": 13.936017635382314}, {\"t\": 61, \"Model\": \"EZ / EFA1\", \"value\": 13.994550503295784}, {\"t\": 62, \"Model\": \"EZ / EFA1\", \"value\": 13.945067762208566}, {\"t\": 63, \"Model\": \"EZ / EFA1\", \"value\": 14.388697608034079}, {\"t\": 64, \"Model\": \"EZ / EFA1\", \"value\": 15.0119684722913}, {\"t\": 65, \"Model\": \"EZ / EFA1\", \"value\": 15.05629023293119}, {\"t\": 66, \"Model\": \"EZ / EFA1\", \"value\": 15.258415814213777}, {\"t\": 67, \"Model\": \"EZ / EFA1\", \"value\": 15.383449185792642}, {\"t\": 68, \"Model\": \"EZ / EFA1\", \"value\": 15.86765820276537}, {\"t\": 69, \"Model\": \"EZ / EFA1\", \"value\": 15.731505365621217}, {\"t\": 70, \"Model\": \"EZ / EFA1\", \"value\": 15.92498100625886}, {\"t\": 71, \"Model\": \"EZ / EFA1\", \"value\": 18.459705590123917}, {\"t\": 72, \"Model\": \"EZ / EFA1\", \"value\": 18.661933820659897}, {\"t\": 73, \"Model\": \"EZ / EFA1\", \"value\": 19.04930768374726}, {\"t\": 74, \"Model\": \"EZ / EFA1\", \"value\": 19.312961780536114}, {\"t\": 75, \"Model\": \"EZ / EFA1\", \"value\": 18.995760512496076}, {\"t\": 76, \"Model\": \"EZ / EFA1\", \"value\": 20.930527947066537}, {\"t\": 77, \"Model\": \"EZ / EFA1\", \"value\": 20.747576300269145}, {\"t\": 78, \"Model\": \"EZ / EFA1\", \"value\": 21.254918538219385}, {\"t\": 79, \"Model\": \"EZ / EFA1\", \"value\": 21.8429615962948}, {\"t\": 80, \"Model\": \"EZ / EFA1\", \"value\": 21.40929225890909}, {\"t\": 81, \"Model\": \"EZ / EFA1\", \"value\": 21.947417553370997}, {\"t\": 82, \"Model\": \"EZ / EFA1\", \"value\": 22.22587859132642}, {\"t\": 83, \"Model\": \"EZ / EFA1\", \"value\": 22.67354237930175}, {\"t\": 84, \"Model\": \"EZ / EFA1\", \"value\": 21.653442459226596}, {\"t\": 85, \"Model\": \"EZ / EFA1\", \"value\": 21.158323463951035}, {\"t\": 86, \"Model\": \"EZ / EFA1\", \"value\": 20.898445033648045}, {\"t\": 87, \"Model\": \"EZ / EFA1\", \"value\": 21.120169729234135}, {\"t\": 88, \"Model\": \"EZ / EFA1\", \"value\": 22.99796529938652}, {\"t\": 89, \"Model\": \"EZ / EFA1\", \"value\": 23.30705271940741}, {\"t\": 90, \"Model\": \"EZ / EFA1\", \"value\": 23.9115996701957}, {\"t\": 91, \"Model\": \"EZ / EFA1\", \"value\": 27.152130785292343}, {\"t\": 92, \"Model\": \"EZ / EFA1\", \"value\": 26.94888202117204}, {\"t\": 93, \"Model\": \"EZ / EFA1\", \"value\": 26.566256797794495}, {\"t\": 94, \"Model\": \"EZ / EFA1\", \"value\": 26.970877886914764}, {\"t\": 95, \"Model\": \"EZ / EFA1\", \"value\": 28.337266612613575}, {\"t\": 96, \"Model\": \"EZ / EFA1\", \"value\": 28.366004033122863}, {\"t\": 97, \"Model\": \"EZ / EFA1\", \"value\": 29.004858371408318}, {\"t\": 98, \"Model\": \"EZ / EFA1\", \"value\": 31.645483389214178}, {\"t\": 99, \"Model\": \"EZ / EFA1\", \"value\": 32.06033776472714}, {\"t\": 100, \"Model\": \"EZ / EFA1\", \"value\": 32.4225759721636}, {\"t\": 101, \"Model\": \"EZ / EFA1\", \"value\": 32.61106959103881}, {\"t\": 102, \"Model\": \"EZ / EFA1\", \"value\": 33.41256502513568}, {\"t\": 103, \"Model\": \"EZ / EFA1\", \"value\": 33.66084787631189}, {\"t\": 104, \"Model\": \"EZ / EFA1\", \"value\": 34.610547836902356}, {\"t\": 105, \"Model\": \"EZ / EFA1\", \"value\": 35.06203272473374}, {\"t\": 106, \"Model\": \"EZ / EFA1\", \"value\": 35.063482859467854}, {\"t\": 107, \"Model\": \"EZ / EFA1\", \"value\": 35.0084917595708}, {\"t\": 108, \"Model\": \"EZ / EFA1\", \"value\": 35.50853221881846}, {\"t\": 109, \"Model\": \"EZ / EFA1\", \"value\": 35.86601785841651}, {\"t\": 110, \"Model\": \"EZ / EFA1\", \"value\": 37.11684575178549}, {\"t\": 111, \"Model\": \"EZ / EFA1\", \"value\": 36.39770560422119}, {\"t\": 112, \"Model\": \"EZ / EFA1\", \"value\": 38.16464698784773}, {\"t\": 113, \"Model\": \"EZ / EFA1\", \"value\": 38.5286491433651}, {\"t\": 114, \"Model\": \"EZ / EFA1\", \"value\": 39.09547952502328}, {\"t\": 115, \"Model\": \"EZ / EFA1\", \"value\": 38.8528992590401}, {\"t\": 116, \"Model\": \"EZ / EFA1\", \"value\": 38.81778589666908}, {\"t\": 117, \"Model\": \"EZ / EFA1\", \"value\": 39.04778896225366}, {\"t\": 118, \"Model\": \"EZ / EFA1\", \"value\": 39.712643462100914}, {\"t\": 119, \"Model\": \"EZ / EFA1\", \"value\": 40.06672640773786}, {\"t\": 120, \"Model\": \"EZ / EFA1\", \"value\": 40.09721575634694}, {\"t\": 121, \"Model\": \"EZ / EFA1\", \"value\": 40.599838893743595}, {\"t\": 122, \"Model\": \"EZ / EFA1\", \"value\": 39.60551313242547}, {\"t\": 123, \"Model\": \"EZ / EFA1\", \"value\": 39.610615505738}, {\"t\": 124, \"Model\": \"EZ / EFA1\", \"value\": 39.691460265810406}, {\"t\": 125, \"Model\": \"EZ / EFA1\", \"value\": 40.197606585879385}, {\"t\": 126, \"Model\": \"EZ / EFA1\", \"value\": 40.56788178267914}, {\"t\": 127, \"Model\": \"EZ / EFA1\", \"value\": 40.904952150993495}, {\"t\": 128, \"Model\": \"EZ / EFA1\", \"value\": 41.87506367896265}, {\"t\": 129, \"Model\": \"EZ / EFA1\", \"value\": 42.88191226247875}, {\"t\": 130, \"Model\": \"EZ / EFA1\", \"value\": 43.54279054712629}, {\"t\": 131, \"Model\": \"EZ / EFA1\", \"value\": 43.88286033925749}, {\"t\": 132, \"Model\": \"EZ / EFA1\", \"value\": 44.52342221262745}, {\"t\": 133, \"Model\": \"EZ / EFA1\", \"value\": 44.74553876166203}, {\"t\": 134, \"Model\": \"EZ / EFA1\", \"value\": 45.08318803993893}, {\"t\": 135, \"Model\": \"EZ / EFA1\", \"value\": 44.609889901997235}, {\"t\": 136, \"Model\": \"EZ / EFA1\", \"value\": 45.24011594007516}, {\"t\": 137, \"Model\": \"EZ / EFA1\", \"value\": 44.70164965100548}, {\"t\": 138, \"Model\": \"EZ / EFA1\", \"value\": 45.11969280070832}, {\"t\": 139, \"Model\": \"EZ / EFA1\", \"value\": 45.48938587688474}, {\"t\": 140, \"Model\": \"EZ / EFA1\", \"value\": 45.52919916824442}, {\"t\": 141, \"Model\": \"EZ / EFA1\", \"value\": 44.131748198012815}, {\"t\": 142, \"Model\": \"EZ / EFA1\", \"value\": 44.68821698009572}, {\"t\": 143, \"Model\": \"EZ / EFA1\", \"value\": 44.792502040539375}, {\"t\": 144, \"Model\": \"EZ / EFA1\", \"value\": 45.3842817771947}, {\"t\": 145, \"Model\": \"EZ / EFA1\", \"value\": 45.72010649885601}, {\"t\": 146, \"Model\": \"EZ / EFA1\", \"value\": 46.37750593508281}, {\"t\": 147, \"Model\": \"EZ / EFA1\", \"value\": 46.671840009325365}, {\"t\": 148, \"Model\": \"EZ / EFA1\", \"value\": 46.978811886830954}, {\"t\": 149, \"Model\": \"EZ / EFA1\", \"value\": 46.47572607402549}, {\"t\": 150, \"Model\": \"EZ / EFA1\", \"value\": 47.47714343397422}, {\"t\": 151, \"Model\": \"EZ / EFA1\", \"value\": 47.433832239678964}, {\"t\": 152, \"Model\": \"EZ / EFA1\", \"value\": 47.9464439719377}, {\"t\": 153, \"Model\": \"EZ / EFA1\", \"value\": 47.53168236824308}, {\"t\": 154, \"Model\": \"EZ / EFA1\", \"value\": 48.77995632522618}, {\"t\": 155, \"Model\": \"EZ / EFA1\", \"value\": 49.21140981487474}, {\"t\": 156, \"Model\": \"EZ / EFA1\", \"value\": 48.93299733941808}, {\"t\": 157, \"Model\": \"EZ / EFA1\", \"value\": 51.43856599535059}, {\"t\": 158, \"Model\": \"EZ / EFA1\", \"value\": 51.56128863535196}, {\"t\": 159, \"Model\": \"EZ / EFA1\", \"value\": 51.620647321103206}, {\"t\": 160, \"Model\": \"EZ / EFA1\", \"value\": 52.07419023911666}, {\"t\": 161, \"Model\": \"EZ / EFA1\", \"value\": 52.94261218188058}, {\"t\": 162, \"Model\": \"EZ / EFA1\", \"value\": 52.689865026639154}, {\"t\": 163, \"Model\": \"EZ / EFA1\", \"value\": 53.01073208077446}, {\"t\": 164, \"Model\": \"EZ / EFA1\", \"value\": 53.31064710866349}, {\"t\": 165, \"Model\": \"EZ / EFA1\", \"value\": 53.61478884289522}, {\"t\": 166, \"Model\": \"EZ / EFA1\", \"value\": 53.36267991024965}, {\"t\": 167, \"Model\": \"EZ / EFA1\", \"value\": 53.63116189330913}, {\"t\": 168, \"Model\": \"EZ / EFA1\", \"value\": 53.2702932870543}, {\"t\": 169, \"Model\": \"EZ / EFA1\", \"value\": 54.28701895023596}, {\"t\": 170, \"Model\": \"EZ / EFA1\", \"value\": 55.14515589511893}, {\"t\": 171, \"Model\": \"EZ / EFA1\", \"value\": 56.21846551411886}, {\"t\": 172, \"Model\": \"EZ / EFA1\", \"value\": 56.04405639358856}, {\"t\": 173, \"Model\": \"EZ / EFA1\", \"value\": 55.46759977552938}, {\"t\": 174, \"Model\": \"EZ / EFA1\", \"value\": 56.4528639053824}, {\"t\": 175, \"Model\": \"EZ / EFA1\", \"value\": 55.72958994737883}, {\"t\": 176, \"Model\": \"EZ / EFA1\", \"value\": 55.96096458516058}, {\"t\": 177, \"Model\": \"EZ / EFA1\", \"value\": 56.356609166103226}, {\"t\": 178, \"Model\": \"EZ / EFA1\", \"value\": 56.39687721873315}, {\"t\": 179, \"Model\": \"EZ / EFA1\", \"value\": 56.93580749869329}, {\"t\": 180, \"Model\": \"EZ / EFA1\", \"value\": 57.129696376668335}, {\"t\": 181, \"Model\": \"EZ / EFA1\", \"value\": 58.04104607535328}, {\"t\": 182, \"Model\": \"EZ / EFA1\", \"value\": 58.49033470338736}, {\"t\": 183, \"Model\": \"EZ / EFA1\", \"value\": 58.83541329981108}, {\"t\": 184, \"Model\": \"EZ / EFA1\", \"value\": 58.871300338922765}, {\"t\": 185, \"Model\": \"EZ / EFA1\", \"value\": 56.62562350437133}, {\"t\": 186, \"Model\": \"EZ / EFA1\", \"value\": 56.133746550391834}, {\"t\": 187, \"Model\": \"EZ / EFA1\", \"value\": 56.83636399871875}, {\"t\": 188, \"Model\": \"EZ / EFA1\", \"value\": 57.969892324319744}, {\"t\": 189, \"Model\": \"EZ / EFA1\", \"value\": 58.05572950776968}, {\"t\": 190, \"Model\": \"EZ / EFA1\", \"value\": 59.52327391254198}, {\"t\": 191, \"Model\": \"EZ / EFA1\", \"value\": 59.181597235362005}, {\"t\": 192, \"Model\": \"EZ / EFA1\", \"value\": 59.69594809230625}, {\"t\": 193, \"Model\": \"EZ / EFA1\", \"value\": 59.54857142580613}, {\"t\": 194, \"Model\": \"EZ / EFA1\", \"value\": 59.58565345900524}, {\"t\": 195, \"Model\": \"EZ / EFA1\", \"value\": 59.56443262364746}, {\"t\": 196, \"Model\": \"EZ / EFA1\", \"value\": 59.41406702761242}, {\"t\": 197, \"Model\": \"EZ / EFA1\", \"value\": 58.83674826010679}, {\"t\": 198, \"Model\": \"EZ / EFA1\", \"value\": 59.18014702312121}, {\"t\": 199, \"Model\": \"EZ / EFA1\", \"value\": 60.842819502732254}, {\"t\": 30, \"Model\": \"EZ / AZ\", \"value\": -0.6087637247651667}, {\"t\": 31, \"Model\": \"EZ / AZ\", \"value\": -0.5364387435428455}, {\"t\": 32, \"Model\": \"EZ / AZ\", \"value\": -0.6996636092980104}, {\"t\": 33, \"Model\": \"EZ / AZ\", \"value\": -0.8642175945829607}, {\"t\": 34, \"Model\": \"EZ / AZ\", \"value\": -0.844314988948561}, {\"t\": 35, \"Model\": \"EZ / AZ\", \"value\": -0.7868478160628527}, {\"t\": 36, \"Model\": \"EZ / AZ\", \"value\": -1.3217163000467806}, {\"t\": 37, \"Model\": \"EZ / AZ\", \"value\": -1.1978016473157709}, {\"t\": 38, \"Model\": \"EZ / AZ\", \"value\": -1.0937070090110836}, {\"t\": 39, \"Model\": \"EZ / AZ\", \"value\": -1.4110197608991513}, {\"t\": 40, \"Model\": \"EZ / AZ\", \"value\": -1.5456073374405577}, {\"t\": 41, \"Model\": \"EZ / AZ\", \"value\": -1.411390834276844}, {\"t\": 42, \"Model\": \"EZ / AZ\", \"value\": -1.3915294872679311}, {\"t\": 43, \"Model\": \"EZ / AZ\", \"value\": -1.2379141800789313}, {\"t\": 44, \"Model\": \"EZ / AZ\", \"value\": -1.2551542497411532}, {\"t\": 45, \"Model\": \"EZ / AZ\", \"value\": -1.3538085092936853}, {\"t\": 46, \"Model\": \"EZ / AZ\", \"value\": -1.6286036591027084}, {\"t\": 47, \"Model\": \"EZ / AZ\", \"value\": -1.5803239456910774}, {\"t\": 48, \"Model\": \"EZ / AZ\", \"value\": -1.5868741174817558}, {\"t\": 49, \"Model\": \"EZ / AZ\", \"value\": -1.5087791225110152}, {\"t\": 50, \"Model\": \"EZ / AZ\", \"value\": -1.3411098224283933}, {\"t\": 51, \"Model\": \"EZ / AZ\", \"value\": -1.2425260633817459}, {\"t\": 52, \"Model\": \"EZ / AZ\", \"value\": -1.0858980682136234}, {\"t\": 53, \"Model\": \"EZ / AZ\", \"value\": -1.0669566074058991}, {\"t\": 54, \"Model\": \"EZ / AZ\", \"value\": -0.9616891538724985}, {\"t\": 55, \"Model\": \"EZ / AZ\", \"value\": -1.2625227647871213}, {\"t\": 56, \"Model\": \"EZ / AZ\", \"value\": -1.0989958664353026}, {\"t\": 57, \"Model\": \"EZ / AZ\", \"value\": -0.9860846818729385}, {\"t\": 58, \"Model\": \"EZ / AZ\", \"value\": -1.0053090514589371}, {\"t\": 59, \"Model\": \"EZ / AZ\", \"value\": -0.972232271007357}, {\"t\": 60, \"Model\": \"EZ / AZ\", \"value\": -0.9160530462640679}, {\"t\": 61, \"Model\": \"EZ / AZ\", \"value\": -0.8354321352584861}, {\"t\": 62, \"Model\": \"EZ / AZ\", \"value\": -0.7940202794571292}, {\"t\": 63, \"Model\": \"EZ / AZ\", \"value\": -0.8502797729785811}, {\"t\": 64, \"Model\": \"EZ / AZ\", \"value\": -1.16128569354089}, {\"t\": 65, \"Model\": \"EZ / AZ\", \"value\": -1.0784596419098875}, {\"t\": 66, \"Model\": \"EZ / AZ\", \"value\": -1.166460478064323}, {\"t\": 67, \"Model\": \"EZ / AZ\", \"value\": -1.2797140154579552}, {\"t\": 68, \"Model\": \"EZ / AZ\", \"value\": -1.1194160392925028}, {\"t\": 69, \"Model\": \"EZ / AZ\", \"value\": -1.3455946628489528}, {\"t\": 70, \"Model\": \"EZ / AZ\", \"value\": -1.3894375868214865}, {\"t\": 71, \"Model\": \"EZ / AZ\", \"value\": -1.086245184989025}, {\"t\": 72, \"Model\": \"EZ / AZ\", \"value\": -1.1338316099261192}, {\"t\": 73, \"Model\": \"EZ / AZ\", \"value\": -1.038565558564983}, {\"t\": 74, \"Model\": \"EZ / AZ\", \"value\": -1.0107914617104257}, {\"t\": 75, \"Model\": \"EZ / AZ\", \"value\": -0.887302509419726}, {\"t\": 76, \"Model\": \"EZ / AZ\", \"value\": -0.8475736718771714}, {\"t\": 77, \"Model\": \"EZ / AZ\", \"value\": -0.8834120226433129}, {\"t\": 78, \"Model\": \"EZ / AZ\", \"value\": -0.9787972246334675}, {\"t\": 79, \"Model\": \"EZ / AZ\", \"value\": -0.9124481762386267}, {\"t\": 80, \"Model\": \"EZ / AZ\", \"value\": -1.060935084776247}, {\"t\": 81, \"Model\": \"EZ / AZ\", \"value\": -0.9249597977862436}, {\"t\": 82, \"Model\": \"EZ / AZ\", \"value\": -0.9493305582174685}, {\"t\": 83, \"Model\": \"EZ / AZ\", \"value\": -0.7710809220564556}, {\"t\": 84, \"Model\": \"EZ / AZ\", \"value\": -0.8055532615886705}, {\"t\": 85, \"Model\": \"EZ / AZ\", \"value\": -0.706675618251495}, {\"t\": 86, \"Model\": \"EZ / AZ\", \"value\": -0.7826594936190077}, {\"t\": 87, \"Model\": \"EZ / AZ\", \"value\": -0.806072848120948}, {\"t\": 88, \"Model\": \"EZ / AZ\", \"value\": -0.8548312110127654}, {\"t\": 89, \"Model\": \"EZ / AZ\", \"value\": -0.7541407229983861}, {\"t\": 90, \"Model\": \"EZ / AZ\", \"value\": -0.7016053968172287}, {\"t\": 91, \"Model\": \"EZ / AZ\", \"value\": -0.8625594446328364}, {\"t\": 92, \"Model\": \"EZ / AZ\", \"value\": -0.833243119272197}, {\"t\": 93, \"Model\": \"EZ / AZ\", \"value\": -0.8414913411892257}, {\"t\": 94, \"Model\": \"EZ / AZ\", \"value\": -0.7630335046667369}, {\"t\": 95, \"Model\": \"EZ / AZ\", \"value\": -0.6431594650904344}, {\"t\": 96, \"Model\": \"EZ / AZ\", \"value\": -0.7655102253097539}, {\"t\": 97, \"Model\": \"EZ / AZ\", \"value\": -0.7158229066242257}, {\"t\": 98, \"Model\": \"EZ / AZ\", \"value\": -0.717475761531432}, {\"t\": 99, \"Model\": \"EZ / AZ\", \"value\": -0.6546096065906113}, {\"t\": 100, \"Model\": \"EZ / AZ\", \"value\": -0.6690607684338374}, {\"t\": 101, \"Model\": \"EZ / AZ\", \"value\": -0.7542489663497918}, {\"t\": 102, \"Model\": \"EZ / AZ\", \"value\": -0.728008210389703}, {\"t\": 103, \"Model\": \"EZ / AZ\", \"value\": -0.7984323956189883}, {\"t\": 104, \"Model\": \"EZ / AZ\", \"value\": -0.7735545958807961}, {\"t\": 105, \"Model\": \"EZ / AZ\", \"value\": -0.7180358268568625}, {\"t\": 106, \"Model\": \"EZ / AZ\", \"value\": -0.5817049747989813}, {\"t\": 107, \"Model\": \"EZ / AZ\", \"value\": -0.4338199403886165}, {\"t\": 108, \"Model\": \"EZ / AZ\", \"value\": -0.38173770732737466}, {\"t\": 109, \"Model\": \"EZ / AZ\", \"value\": -0.3014539275002335}, {\"t\": 110, \"Model\": \"EZ / AZ\", \"value\": -0.27169686157969863}, {\"t\": 111, \"Model\": \"EZ / AZ\", \"value\": -0.4656865760847495}, {\"t\": 112, \"Model\": \"EZ / AZ\", \"value\": -0.4399189850140601}, {\"t\": 113, \"Model\": \"EZ / AZ\", \"value\": -0.27836129502497897}, {\"t\": 114, \"Model\": \"EZ / AZ\", \"value\": -0.9651062654506859}, {\"t\": 115, \"Model\": \"EZ / AZ\", \"value\": -0.9679300181329609}, {\"t\": 116, \"Model\": \"EZ / AZ\", \"value\": -1.113580421168308}, {\"t\": 117, \"Model\": \"EZ / AZ\", \"value\": -0.9572560057791861}, {\"t\": 118, \"Model\": \"EZ / AZ\", \"value\": -0.8389074064605211}, {\"t\": 119, \"Model\": \"EZ / AZ\", \"value\": -0.7824482848449179}, {\"t\": 120, \"Model\": \"EZ / AZ\", \"value\": -0.7891267239825766}, {\"t\": 121, \"Model\": \"EZ / AZ\", \"value\": -0.6195240459924207}, {\"t\": 122, \"Model\": \"EZ / AZ\", \"value\": -0.6789053760869592}, {\"t\": 123, \"Model\": \"EZ / AZ\", \"value\": -0.692636520342262}, {\"t\": 124, \"Model\": \"EZ / AZ\", \"value\": -0.7588377847024503}, {\"t\": 125, \"Model\": \"EZ / AZ\", \"value\": -0.7321284312093894}, {\"t\": 126, \"Model\": \"EZ / AZ\", \"value\": -0.6976253766931677}, {\"t\": 127, \"Model\": \"EZ / AZ\", \"value\": -0.6808775592680831}, {\"t\": 128, \"Model\": \"EZ / AZ\", \"value\": -0.39488710413240824}, {\"t\": 129, \"Model\": \"EZ / AZ\", \"value\": -0.4773425490113823}, {\"t\": 130, \"Model\": \"EZ / AZ\", \"value\": -0.45056503263583636}, {\"t\": 131, \"Model\": \"EZ / AZ\", \"value\": -0.3851351505841194}, {\"t\": 132, \"Model\": \"EZ / AZ\", \"value\": -0.4293412331306854}, {\"t\": 133, \"Model\": \"EZ / AZ\", \"value\": -0.4158566509102002}, {\"t\": 134, \"Model\": \"EZ / AZ\", \"value\": -0.3797975778863929}, {\"t\": 135, \"Model\": \"EZ / AZ\", \"value\": -0.29875194936209937}, {\"t\": 136, \"Model\": \"EZ / AZ\", \"value\": -0.3450710223447686}, {\"t\": 137, \"Model\": \"EZ / AZ\", \"value\": -0.3293047633923152}, {\"t\": 138, \"Model\": \"EZ / AZ\", \"value\": -0.34443682210019233}, {\"t\": 139, \"Model\": \"EZ / AZ\", \"value\": -0.36013201614127865}, {\"t\": 140, \"Model\": \"EZ / AZ\", \"value\": -0.3989548547740469}, {\"t\": 141, \"Model\": \"EZ / AZ\", \"value\": -0.3247168635483604}, {\"t\": 142, \"Model\": \"EZ / AZ\", \"value\": -0.24137612848141998}, {\"t\": 143, \"Model\": \"EZ / AZ\", \"value\": -0.15306876930435465}, {\"t\": 144, \"Model\": \"EZ / AZ\", \"value\": -0.19559824709119766}, {\"t\": 145, \"Model\": \"EZ / AZ\", \"value\": -0.18288320015676618}, {\"t\": 146, \"Model\": \"EZ / AZ\", \"value\": -0.1472373536765872}, {\"t\": 147, \"Model\": \"EZ / AZ\", \"value\": -0.13376119137012665}, {\"t\": 148, \"Model\": \"EZ / AZ\", \"value\": -0.04088671521753895}, {\"t\": 149, \"Model\": \"EZ / AZ\", \"value\": -0.5463045911629933}, {\"t\": 150, \"Model\": \"EZ / AZ\", \"value\": -0.637915390230205}, {\"t\": 151, \"Model\": \"EZ / AZ\", \"value\": -0.8410789525578366}, {\"t\": 152, \"Model\": \"EZ / AZ\", \"value\": -0.5188845211400803}, {\"t\": 153, \"Model\": \"EZ / AZ\", \"value\": -0.4936514844916928}, {\"t\": 154, \"Model\": \"EZ / AZ\", \"value\": -0.5077304284704951}, {\"t\": 155, \"Model\": \"EZ / AZ\", \"value\": -0.5422022586518551}, {\"t\": 156, \"Model\": \"EZ / AZ\", \"value\": -0.7701373043958029}, {\"t\": 157, \"Model\": \"EZ / AZ\", \"value\": -0.6924728232978623}, {\"t\": 158, \"Model\": \"EZ / AZ\", \"value\": -0.7361484238228968}, {\"t\": 159, \"Model\": \"EZ / AZ\", \"value\": -0.9310343212068801}, {\"t\": 160, \"Model\": \"EZ / AZ\", \"value\": -0.8454065155244734}, {\"t\": 161, \"Model\": \"EZ / AZ\", \"value\": -0.6984471637899787}, {\"t\": 162, \"Model\": \"EZ / AZ\", \"value\": -0.4897230184117234}, {\"t\": 163, \"Model\": \"EZ / AZ\", \"value\": -0.5423359308695126}, {\"t\": 164, \"Model\": \"EZ / AZ\", \"value\": -0.5411931667892986}, {\"t\": 165, \"Model\": \"EZ / AZ\", \"value\": -0.500238377729147}, {\"t\": 166, \"Model\": \"EZ / AZ\", \"value\": -0.533129035431557}, {\"t\": 167, \"Model\": \"EZ / AZ\", \"value\": -0.4163439725045919}, {\"t\": 168, \"Model\": \"EZ / AZ\", \"value\": -0.3131587073362425}, {\"t\": 169, \"Model\": \"EZ / AZ\", \"value\": -0.3087815641781617}, {\"t\": 170, \"Model\": \"EZ / AZ\", \"value\": -0.4732655520529079}, {\"t\": 171, \"Model\": \"EZ / AZ\", \"value\": -0.5325749039054699}, {\"t\": 172, \"Model\": \"EZ / AZ\", \"value\": -0.4373230765245353}, {\"t\": 173, \"Model\": \"EZ / AZ\", \"value\": -0.5930757411554168}, {\"t\": 174, \"Model\": \"EZ / AZ\", \"value\": -0.6416954834048738}, {\"t\": 175, \"Model\": \"EZ / AZ\", \"value\": -0.5535614506657112}, {\"t\": 176, \"Model\": \"EZ / AZ\", \"value\": -0.4451714847787116}, {\"t\": 177, \"Model\": \"EZ / AZ\", \"value\": -0.39950889572241977}, {\"t\": 178, \"Model\": \"EZ / AZ\", \"value\": -0.4000665513308377}, {\"t\": 179, \"Model\": \"EZ / AZ\", \"value\": -0.311529291494935}, {\"t\": 180, \"Model\": \"EZ / AZ\", \"value\": -0.24566905268125083}, {\"t\": 181, \"Model\": \"EZ / AZ\", \"value\": -0.2596696785901713}, {\"t\": 182, \"Model\": \"EZ / AZ\", \"value\": -0.04254465931398954}, {\"t\": 183, \"Model\": \"EZ / AZ\", \"value\": -0.24026078660494932}, {\"t\": 184, \"Model\": \"EZ / AZ\", \"value\": -0.21219771366054374}, {\"t\": 185, \"Model\": \"EZ / AZ\", \"value\": -0.4818677695702718}, {\"t\": 186, \"Model\": \"EZ / AZ\", \"value\": -0.47028134650190623}, {\"t\": 187, \"Model\": \"EZ / AZ\", \"value\": -0.3683341792934698}, {\"t\": 188, \"Model\": \"EZ / AZ\", \"value\": -0.144224282453024}, {\"t\": 189, \"Model\": \"EZ / AZ\", \"value\": -0.1460976332541577}, {\"t\": 190, \"Model\": \"EZ / AZ\", \"value\": -0.028909326068742303}, {\"t\": 191, \"Model\": \"EZ / AZ\", \"value\": 0.05282431322439152}, {\"t\": 192, \"Model\": \"EZ / AZ\", \"value\": 0.11963768216628523}, {\"t\": 193, \"Model\": \"EZ / AZ\", \"value\": 0.3748755359781626}, {\"t\": 194, \"Model\": \"EZ / AZ\", \"value\": 0.38748695177832815}, {\"t\": 195, \"Model\": \"EZ / AZ\", \"value\": 0.3709488406461787}, {\"t\": 196, \"Model\": \"EZ / AZ\", \"value\": 0.23183049021304214}, {\"t\": 197, \"Model\": \"EZ / AZ\", \"value\": 0.2485603812424415}, {\"t\": 198, \"Model\": \"EZ / AZ\", \"value\": 0.237340760517327}, {\"t\": 199, \"Model\": \"EZ / AZ\", \"value\": 0.28526219426066746}, {\"t\": 30, \"Model\": \"EZ / EFA3\", \"value\": 3.460230743114673}, {\"t\": 31, \"Model\": \"EZ / EFA3\", \"value\": 4.476399963924322}, {\"t\": 32, \"Model\": \"EZ / EFA3\", \"value\": 4.366985115972714}, {\"t\": 33, \"Model\": \"EZ / EFA3\", \"value\": 4.122994169313003}, {\"t\": 34, \"Model\": \"EZ / EFA3\", \"value\": 3.8105595929906215}, {\"t\": 35, \"Model\": \"EZ / EFA3\", \"value\": 4.424938531414227}, {\"t\": 36, \"Model\": \"EZ / EFA3\", \"value\": 4.593020842546629}, {\"t\": 37, \"Model\": \"EZ / EFA3\", \"value\": 4.9535450277233934}, {\"t\": 38, \"Model\": \"EZ / EFA3\", \"value\": 5.1274275173250885}, {\"t\": 39, \"Model\": \"EZ / EFA3\", \"value\": 4.777643199447482}, {\"t\": 40, \"Model\": \"EZ / EFA3\", \"value\": 4.758754322239113}, {\"t\": 41, \"Model\": \"EZ / EFA3\", \"value\": 5.256099336003956}, {\"t\": 42, \"Model\": \"EZ / EFA3\", \"value\": 5.723054458068745}, {\"t\": 43, \"Model\": \"EZ / EFA3\", \"value\": 5.569568190481505}, {\"t\": 44, \"Model\": \"EZ / EFA3\", \"value\": 5.219511019903308}, {\"t\": 45, \"Model\": \"EZ / EFA3\", \"value\": 4.428744567623511}, {\"t\": 46, \"Model\": \"EZ / EFA3\", \"value\": 4.5107665649834985}, {\"t\": 47, \"Model\": \"EZ / EFA3\", \"value\": 4.344664453611358}, {\"t\": 48, \"Model\": \"EZ / EFA3\", \"value\": 4.8820905849943586}, {\"t\": 49, \"Model\": \"EZ / EFA3\", \"value\": 5.0188285000599535}, {\"t\": 50, \"Model\": \"EZ / EFA3\", \"value\": 5.102752566623991}, {\"t\": 51, \"Model\": \"EZ / EFA3\", \"value\": 5.02070022872428}, {\"t\": 52, \"Model\": \"EZ / EFA3\", \"value\": 5.102771156440724}, {\"t\": 53, \"Model\": \"EZ / EFA3\", \"value\": 5.277661855807338}, {\"t\": 54, \"Model\": \"EZ / EFA3\", \"value\": 5.434779567876177}, {\"t\": 55, \"Model\": \"EZ / EFA3\", \"value\": 5.62347977697371}, {\"t\": 56, \"Model\": \"EZ / EFA3\", \"value\": 5.923213228537236}, {\"t\": 57, \"Model\": \"EZ / EFA3\", \"value\": 5.937339659206259}, {\"t\": 58, \"Model\": \"EZ / EFA3\", \"value\": 6.014080121790329}, {\"t\": 59, \"Model\": \"EZ / EFA3\", \"value\": 6.191986204066296}, {\"t\": 60, \"Model\": \"EZ / EFA3\", \"value\": 6.34981470174165}, {\"t\": 61, \"Model\": \"EZ / EFA3\", \"value\": 6.538927504299409}, {\"t\": 62, \"Model\": \"EZ / EFA3\", \"value\": 6.724485552778617}, {\"t\": 63, \"Model\": \"EZ / EFA3\", \"value\": 7.130002558125511}, {\"t\": 64, \"Model\": \"EZ / EFA3\", \"value\": 6.702745534963128}, {\"t\": 65, \"Model\": \"EZ / EFA3\", \"value\": 6.907989071793452}, {\"t\": 66, \"Model\": \"EZ / EFA3\", \"value\": 7.01396643321084}, {\"t\": 67, \"Model\": \"EZ / EFA3\", \"value\": 6.914726864668637}, {\"t\": 68, \"Model\": \"EZ / EFA3\", \"value\": 7.130339492559131}, {\"t\": 69, \"Model\": \"EZ / EFA3\", \"value\": 6.781506084612147}, {\"t\": 70, \"Model\": \"EZ / EFA3\", \"value\": 6.814543171717105}, {\"t\": 71, \"Model\": \"EZ / EFA3\", \"value\": 6.492350080021481}, {\"t\": 72, \"Model\": \"EZ / EFA3\", \"value\": 6.495358097122903}, {\"t\": 73, \"Model\": \"EZ / EFA3\", \"value\": 6.719705829332952}, {\"t\": 74, \"Model\": \"EZ / EFA3\", \"value\": 6.892631640297793}, {\"t\": 75, \"Model\": \"EZ / EFA3\", \"value\": 7.210824667782958}, {\"t\": 76, \"Model\": \"EZ / EFA3\", \"value\": 6.815672436236127}, {\"t\": 77, \"Model\": \"EZ / EFA3\", \"value\": 6.919487418700953}, {\"t\": 78, \"Model\": \"EZ / EFA3\", \"value\": 6.317268886997681}, {\"t\": 79, \"Model\": \"EZ / EFA3\", \"value\": 6.1172552231792}, {\"t\": 80, \"Model\": \"EZ / EFA3\", \"value\": 6.206651362701109}, {\"t\": 81, \"Model\": \"EZ / EFA3\", \"value\": 6.489069322860814}, {\"t\": 82, \"Model\": \"EZ / EFA3\", \"value\": 6.480600722599945}, {\"t\": 83, \"Model\": \"EZ / EFA3\", \"value\": 6.846797781307544}, {\"t\": 84, \"Model\": \"EZ / EFA3\", \"value\": 7.1278024723032445}, {\"t\": 85, \"Model\": \"EZ / EFA3\", \"value\": 7.20020370378279}, {\"t\": 86, \"Model\": \"EZ / EFA3\", \"value\": 7.19085179108157}, {\"t\": 87, \"Model\": \"EZ / EFA3\", \"value\": 7.322018757559874}, {\"t\": 88, \"Model\": \"EZ / EFA3\", \"value\": 7.0500985606288396}, {\"t\": 89, \"Model\": \"EZ / EFA3\", \"value\": 7.073353563573448}, {\"t\": 90, \"Model\": \"EZ / EFA3\", \"value\": 7.111442530291356}, {\"t\": 91, \"Model\": \"EZ / EFA3\", \"value\": 6.311606903890436}, {\"t\": 92, \"Model\": \"EZ / EFA3\", \"value\": 6.6812169843310585}, {\"t\": 93, \"Model\": \"EZ / EFA3\", \"value\": 6.649699165712036}, {\"t\": 94, \"Model\": \"EZ / EFA3\", \"value\": 6.822419226059196}, {\"t\": 95, \"Model\": \"EZ / EFA3\", \"value\": 6.796452102481339}, {\"t\": 96, \"Model\": \"EZ / EFA3\", \"value\": 6.63415742609709}, {\"t\": 97, \"Model\": \"EZ / EFA3\", \"value\": 6.618005165374484}, {\"t\": 98, \"Model\": \"EZ / EFA3\", \"value\": 5.746831015058206}, {\"t\": 99, \"Model\": \"EZ / EFA3\", \"value\": 5.971955006097005}, {\"t\": 100, \"Model\": \"EZ / EFA3\", \"value\": 5.867709605163441}, {\"t\": 101, \"Model\": \"EZ / EFA3\", \"value\": 5.702412960610673}, {\"t\": 102, \"Model\": \"EZ / EFA3\", \"value\": 5.752381440675208}, {\"t\": 103, \"Model\": \"EZ / EFA3\", \"value\": 5.466342768648246}, {\"t\": 104, \"Model\": \"EZ / EFA3\", \"value\": 5.456717230957679}, {\"t\": 105, \"Model\": \"EZ / EFA3\", \"value\": 5.585413614312415}, {\"t\": 106, \"Model\": \"EZ / EFA3\", \"value\": 5.817075172649538}, {\"t\": 107, \"Model\": \"EZ / EFA3\", \"value\": 5.941365091782927}, {\"t\": 108, \"Model\": \"EZ / EFA3\", \"value\": 5.881150750422876}, {\"t\": 109, \"Model\": \"EZ / EFA3\", \"value\": 6.076534808469319}, {\"t\": 110, \"Model\": \"EZ / EFA3\", \"value\": 6.017532963793656}, {\"t\": 111, \"Model\": \"EZ / EFA3\", \"value\": 5.950325439979224}, {\"t\": 112, \"Model\": \"EZ / EFA3\", \"value\": 5.82050263958331}, {\"t\": 113, \"Model\": \"EZ / EFA3\", \"value\": 5.941353487201354}, {\"t\": 114, \"Model\": \"EZ / EFA3\", \"value\": 4.93111923309516}, {\"t\": 115, \"Model\": \"EZ / EFA3\", \"value\": 5.003058361488343}, {\"t\": 116, \"Model\": \"EZ / EFA3\", \"value\": 4.946093537998195}, {\"t\": 117, \"Model\": \"EZ / EFA3\", \"value\": 5.150755960603647}, {\"t\": 118, \"Model\": \"EZ / EFA3\", \"value\": 5.315258992531199}, {\"t\": 119, \"Model\": \"EZ / EFA3\", \"value\": 5.298938354964093}, {\"t\": 120, \"Model\": \"EZ / EFA3\", \"value\": 5.367917535808147}, {\"t\": 121, \"Model\": \"EZ / EFA3\", \"value\": 5.6104243914194285}, {\"t\": 122, \"Model\": \"EZ / EFA3\", \"value\": 5.38599683582072}, {\"t\": 123, \"Model\": \"EZ / EFA3\", \"value\": 5.561867542848631}, {\"t\": 124, \"Model\": \"EZ / EFA3\", \"value\": 5.579157705941952}, {\"t\": 125, \"Model\": \"EZ / EFA3\", \"value\": 5.564291639988824}, {\"t\": 126, \"Model\": \"EZ / EFA3\", \"value\": 5.625853636482816}, {\"t\": 127, \"Model\": \"EZ / EFA3\", \"value\": 5.655309982874655}, {\"t\": 128, \"Model\": \"EZ / EFA3\", \"value\": 5.9092509317632675}, {\"t\": 129, \"Model\": \"EZ / EFA3\", \"value\": 5.769166832219753}, {\"t\": 130, \"Model\": \"EZ / EFA3\", \"value\": 5.656690529855723}, {\"t\": 131, \"Model\": \"EZ / EFA3\", \"value\": 5.83206715782012}, {\"t\": 132, \"Model\": \"EZ / EFA3\", \"value\": 5.808301918995426}, {\"t\": 133, \"Model\": \"EZ / EFA3\", \"value\": 5.8423542776045}, {\"t\": 134, \"Model\": \"EZ / EFA3\", \"value\": 6.037491447630828}, {\"t\": 135, \"Model\": \"EZ / EFA3\", \"value\": 6.239105235265924}, {\"t\": 136, \"Model\": \"EZ / EFA3\", \"value\": 6.108043218555167}, {\"t\": 137, \"Model\": \"EZ / EFA3\", \"value\": 6.28195413377523}, {\"t\": 138, \"Model\": \"EZ / EFA3\", \"value\": 6.239214893951157}, {\"t\": 139, \"Model\": \"EZ / EFA3\", \"value\": 6.264555294561887}, {\"t\": 140, \"Model\": \"EZ / EFA3\", \"value\": 6.261003609051954}, {\"t\": 141, \"Model\": \"EZ / EFA3\", \"value\": 6.618290877688537}, {\"t\": 142, \"Model\": \"EZ / EFA3\", \"value\": 6.681449947677152}, {\"t\": 143, \"Model\": \"EZ / EFA3\", \"value\": 6.836654304785611}, {\"t\": 144, \"Model\": \"EZ / EFA3\", \"value\": 6.909530541530671}, {\"t\": 145, \"Model\": \"EZ / EFA3\", \"value\": 6.92820863827626}, {\"t\": 146, \"Model\": \"EZ / EFA3\", \"value\": 7.071166870052934}, {\"t\": 147, \"Model\": \"EZ / EFA3\", \"value\": 7.174386841380851}, {\"t\": 148, \"Model\": \"EZ / EFA3\", \"value\": 7.33397494836538}, {\"t\": 149, \"Model\": \"EZ / EFA3\", \"value\": 6.85503837420822}, {\"t\": 150, \"Model\": \"EZ / EFA3\", \"value\": 6.769561078658285}, {\"t\": 151, \"Model\": \"EZ / EFA3\", \"value\": 6.582286551816765}, {\"t\": 152, \"Model\": \"EZ / EFA3\", \"value\": 6.784969107142501}, {\"t\": 153, \"Model\": \"EZ / EFA3\", \"value\": 6.94712840149225}, {\"t\": 154, \"Model\": \"EZ / EFA3\", \"value\": 6.69976270886184}, {\"t\": 155, \"Model\": \"EZ / EFA3\", \"value\": 6.621802939131953}, {\"t\": 156, \"Model\": \"EZ / EFA3\", \"value\": 6.218256032641307}, {\"t\": 157, \"Model\": \"EZ / EFA3\", \"value\": 5.968987743520643}, {\"t\": 158, \"Model\": \"EZ / EFA3\", \"value\": 6.04615364071924}, {\"t\": 159, \"Model\": \"EZ / EFA3\", \"value\": 6.044161487332531}, {\"t\": 160, \"Model\": \"EZ / EFA3\", \"value\": 6.161240361615683}, {\"t\": 161, \"Model\": \"EZ / EFA3\", \"value\": 6.2914961545120605}, {\"t\": 162, \"Model\": \"EZ / EFA3\", \"value\": 6.582376623341133}, {\"t\": 163, \"Model\": \"EZ / EFA3\", \"value\": 6.641867934457196}, {\"t\": 164, \"Model\": \"EZ / EFA3\", \"value\": 6.749912246115855}, {\"t\": 165, \"Model\": \"EZ / EFA3\", \"value\": 6.857469696309636}, {\"t\": 166, \"Model\": \"EZ / EFA3\", \"value\": 6.907831406875175}, {\"t\": 167, \"Model\": \"EZ / EFA3\", \"value\": 7.160014801903117}, {\"t\": 168, \"Model\": \"EZ / EFA3\", \"value\": 7.353500443217399}, {\"t\": 169, \"Model\": \"EZ / EFA3\", \"value\": 7.3435379422335245}, {\"t\": 170, \"Model\": \"EZ / EFA3\", \"value\": 7.160936405434768}, {\"t\": 171, \"Model\": \"EZ / EFA3\", \"value\": 7.034832297099001}, {\"t\": 172, \"Model\": \"EZ / EFA3\", \"value\": 7.217966362407651}, {\"t\": 173, \"Model\": \"EZ / EFA3\", \"value\": 7.0009477846051595}, {\"t\": 174, \"Model\": \"EZ / EFA3\", \"value\": 6.896694444880495}, {\"t\": 175, \"Model\": \"EZ / EFA3\", \"value\": 7.300775566744051}, {\"t\": 176, \"Model\": \"EZ / EFA3\", \"value\": 7.435387232472294}, {\"t\": 177, \"Model\": \"EZ / EFA3\", \"value\": 7.520648947722975}, {\"t\": 178, \"Model\": \"EZ / EFA3\", \"value\": 7.612153030396712}, {\"t\": 179, \"Model\": \"EZ / EFA3\", \"value\": 7.739912260500432}, {\"t\": 180, \"Model\": \"EZ / EFA3\", \"value\": 7.841151931059812}, {\"t\": 181, \"Model\": \"EZ / EFA3\", \"value\": 7.752900520603134}, {\"t\": 182, \"Model\": \"EZ / EFA3\", \"value\": 7.958488197647284}, {\"t\": 183, \"Model\": \"EZ / EFA3\", \"value\": 7.832095038545276}, {\"t\": 184, \"Model\": \"EZ / EFA3\", \"value\": 7.99472684041416}, {\"t\": 185, \"Model\": \"EZ / EFA3\", \"value\": 7.793538250411984}, {\"t\": 186, \"Model\": \"EZ / EFA3\", \"value\": 7.885904907456052}, {\"t\": 187, \"Model\": \"EZ / EFA3\", \"value\": 8.051374836660216}, {\"t\": 188, \"Model\": \"EZ / EFA3\", \"value\": 8.293977524315778}, {\"t\": 189, \"Model\": \"EZ / EFA3\", \"value\": 8.411696247414511}, {\"t\": 190, \"Model\": \"EZ / EFA3\", \"value\": 8.479249013928438}, {\"t\": 191, \"Model\": \"EZ / EFA3\", \"value\": 8.65363606157166}, {\"t\": 192, \"Model\": \"EZ / EFA3\", \"value\": 8.747132034290189}, {\"t\": 193, \"Model\": \"EZ / EFA3\", \"value\": 8.909933973589887}, {\"t\": 194, \"Model\": \"EZ / EFA3\", \"value\": 8.90403442738284}, {\"t\": 195, \"Model\": \"EZ / EFA3\", \"value\": 8.95744081859334}, {\"t\": 196, \"Model\": \"EZ / EFA3\", \"value\": 8.905596859464367}, {\"t\": 197, \"Model\": \"EZ / EFA3\", \"value\": 9.003350974170417}, {\"t\": 198, \"Model\": \"EZ / EFA3\", \"value\": 9.025347940274742}, {\"t\": 199, \"Model\": \"EZ / EFA3\", \"value\": 9.227172337312595}]}}, {\"mode\": \"vega-lite\"});\n",
       "</script>"
      ],
      "text/plain": [
       "alt.Chart(...)"
      ]
     },
     "execution_count": 5,
     "metadata": {},
     "output_type": "execute_result"
    }
   ],
   "source": [
    "width = 600\n",
    "height = 400\n",
    "c = alt.Chart(bfdf).mark_line(\n",
    "    strokeWidth = 2,\n",
    "    ).encode(\n",
    "    alt.X('t:Q', title='Index i', scale=alt.Scale(domain=[0,200])),\n",
    "    alt.Y('value:Q', title='Log Bayes Factor'),\n",
    "    alt.Color('Model')\n",
    "    ).properties(\n",
    "    width=width, height=height\n",
    "    ).configure_legend(\n",
    "    titleFontSize=16,\n",
    "    labelFontSize=14,\n",
    "    symbolStrokeWidth=6\n",
    "    ).configure_axis(\n",
    "    labelFontSize=14,\n",
    "    titleFontSize=16\n",
    ").interactive()\n",
    "\n",
    "c"
   ]
  },
  {
   "cell_type": "code",
   "execution_count": 14,
   "metadata": {},
   "outputs": [
    {
     "data": {
      "text/html": [
       "\n",
       "<div id=\"altair-viz-04b511825d874e66be4f696b7948f1c1\"></div>\n",
       "<script type=\"text/javascript\">\n",
       "  (function(spec, embedOpt){\n",
       "    let outputDiv = document.currentScript.previousElementSibling;\n",
       "    if (outputDiv.id !== \"altair-viz-04b511825d874e66be4f696b7948f1c1\") {\n",
       "      outputDiv = document.getElementById(\"altair-viz-04b511825d874e66be4f696b7948f1c1\");\n",
       "    }\n",
       "    const paths = {\n",
       "      \"vega\": \"https://cdn.jsdelivr.net/npm//vega@5?noext\",\n",
       "      \"vega-lib\": \"https://cdn.jsdelivr.net/npm//vega-lib?noext\",\n",
       "      \"vega-lite\": \"https://cdn.jsdelivr.net/npm//vega-lite@4.8.1?noext\",\n",
       "      \"vega-embed\": \"https://cdn.jsdelivr.net/npm//vega-embed@6?noext\",\n",
       "    };\n",
       "\n",
       "    function loadScript(lib) {\n",
       "      return new Promise(function(resolve, reject) {\n",
       "        var s = document.createElement('script');\n",
       "        s.src = paths[lib];\n",
       "        s.async = true;\n",
       "        s.onload = () => resolve(paths[lib]);\n",
       "        s.onerror = () => reject(`Error loading script: ${paths[lib]}`);\n",
       "        document.getElementsByTagName(\"head\")[0].appendChild(s);\n",
       "      });\n",
       "    }\n",
       "\n",
       "    function showError(err) {\n",
       "      outputDiv.innerHTML = `<div class=\"error\" style=\"color:red;\">${err}</div>`;\n",
       "      throw err;\n",
       "    }\n",
       "\n",
       "    function displayChart(vegaEmbed) {\n",
       "      vegaEmbed(outputDiv, spec, embedOpt)\n",
       "        .catch(err => showError(`Javascript Error: ${err.message}<br>This usually means there's a typo in your chart specification. See the javascript console for the full traceback.`));\n",
       "    }\n",
       "\n",
       "    if(typeof define === \"function\" && define.amd) {\n",
       "      requirejs.config({paths});\n",
       "      require([\"vega-embed\"], displayChart, err => showError(`Error loading script: ${err.message}`));\n",
       "    } else if (typeof vegaEmbed === \"function\") {\n",
       "      displayChart(vegaEmbed);\n",
       "    } else {\n",
       "      loadScript(\"vega\")\n",
       "        .then(() => loadScript(\"vega-lite\"))\n",
       "        .then(() => loadScript(\"vega-embed\"))\n",
       "        .catch(showError)\n",
       "        .then(() => displayChart(vegaEmbed));\n",
       "    }\n",
       "  })({\"config\": {\"view\": {\"continuousWidth\": 400, \"continuousHeight\": 300}, \"axis\": {\"labelFontSize\": 14, \"titleFontSize\": 16}, \"legend\": {\"labelFontSize\": 14, \"symbolStrokeWidth\": 6, \"titleFontSize\": 16}}, \"data\": {\"name\": \"data-d024f0d5b1b34f0dc0e6f5bdc99a2794\"}, \"mark\": {\"type\": \"line\", \"strokeWidth\": 2}, \"encoding\": {\"color\": {\"type\": \"nominal\", \"field\": \"Model\"}, \"x\": {\"type\": \"quantitative\", \"field\": \"t\", \"scale\": {\"domain\": [0, 200]}, \"title\": \"Index i\"}, \"y\": {\"type\": \"quantitative\", \"field\": \"value\", \"title\": \"Log Bayes Factor\"}}, \"height\": 400, \"width\": 600, \"$schema\": \"https://vega.github.io/schema/vega-lite/v4.8.1.json\", \"datasets\": {\"data-d024f0d5b1b34f0dc0e6f5bdc99a2794\": [{\"t\": 30, \"Model\": \"EFA2 / EFA1\", \"value\": 5.2068678799964125}, {\"t\": 31, \"Model\": \"EFA2 / EFA1\", \"value\": 5.29192391801385}, {\"t\": 32, \"Model\": \"EFA2 / EFA1\", \"value\": 6.2084539840587}, {\"t\": 33, \"Model\": \"EFA2 / EFA1\", \"value\": 6.428274698301301}, {\"t\": 34, \"Model\": \"EFA2 / EFA1\", \"value\": 8.250983533575464}, {\"t\": 35, \"Model\": \"EFA2 / EFA1\", \"value\": 8.165927251852615}, {\"t\": 36, \"Model\": \"EFA2 / EFA1\", \"value\": 7.519226040702982}, {\"t\": 37, \"Model\": \"EFA2 / EFA1\", \"value\": 7.447205060809651}, {\"t\": 38, \"Model\": \"EFA2 / EFA1\", \"value\": 7.7164304098375425}, {\"t\": 39, \"Model\": \"EFA2 / EFA1\", \"value\": 7.319255801952906}, {\"t\": 40, \"Model\": \"EFA2 / EFA1\", \"value\": 7.447837227617384}, {\"t\": 41, \"Model\": \"EFA2 / EFA1\", \"value\": 7.4419363770560665}, {\"t\": 42, \"Model\": \"EFA2 / EFA1\", \"value\": 6.975692184575109}, {\"t\": 43, \"Model\": \"EFA2 / EFA1\", \"value\": 7.381762861493556}, {\"t\": 44, \"Model\": \"EFA2 / EFA1\", \"value\": 7.783745352555911}, {\"t\": 45, \"Model\": \"EFA2 / EFA1\", \"value\": 10.07930402950305}, {\"t\": 46, \"Model\": \"EFA2 / EFA1\", \"value\": 9.391620429659412}, {\"t\": 47, \"Model\": \"EFA2 / EFA1\", \"value\": 9.993720731237545}, {\"t\": 48, \"Model\": \"EFA2 / EFA1\", \"value\": 9.768366729337998}, {\"t\": 49, \"Model\": \"EFA2 / EFA1\", \"value\": 10.259328828826455}, {\"t\": 50, \"Model\": \"EFA2 / EFA1\", \"value\": 10.728819488509487}, {\"t\": 51, \"Model\": \"EFA2 / EFA1\", \"value\": 12.563970201257916}, {\"t\": 52, \"Model\": \"EFA2 / EFA1\", \"value\": 13.459732818526305}, {\"t\": 53, \"Model\": \"EFA2 / EFA1\", \"value\": 13.592832122324012}, {\"t\": 54, \"Model\": \"EFA2 / EFA1\", \"value\": 12.688116308570955}, {\"t\": 55, \"Model\": \"EFA2 / EFA1\", \"value\": 12.159841110172692}, {\"t\": 56, \"Model\": \"EFA2 / EFA1\", \"value\": 12.110581054627772}, {\"t\": 57, \"Model\": \"EFA2 / EFA1\", \"value\": 12.744245300499045}, {\"t\": 58, \"Model\": \"EFA2 / EFA1\", \"value\": 12.11960327296174}, {\"t\": 59, \"Model\": \"EFA2 / EFA1\", \"value\": 12.220333246159953}, {\"t\": 60, \"Model\": \"EFA2 / EFA1\", \"value\": 12.60978225502734}, {\"t\": 61, \"Model\": \"EFA2 / EFA1\", \"value\": 12.535320092840152}, {\"t\": 62, \"Model\": \"EFA2 / EFA1\", \"value\": 12.408426240328254}, {\"t\": 63, \"Model\": \"EFA2 / EFA1\", \"value\": 12.628796117061597}, {\"t\": 64, \"Model\": \"EFA2 / EFA1\", \"value\": 13.574717580997515}, {\"t\": 65, \"Model\": \"EFA2 / EFA1\", \"value\": 13.453830948220741}, {\"t\": 66, \"Model\": \"EFA2 / EFA1\", \"value\": 13.648977031337779}, {\"t\": 67, \"Model\": \"EFA2 / EFA1\", \"value\": 13.792740264299198}, {\"t\": 68, \"Model\": \"EFA2 / EFA1\", \"value\": 14.062502751005582}, {\"t\": 69, \"Model\": \"EFA2 / EFA1\", \"value\": 14.466552186778529}, {\"t\": 70, \"Model\": \"EFA2 / EFA1\", \"value\": 14.610013186586798}, {\"t\": 71, \"Model\": \"EFA2 / EFA1\", \"value\": 17.38520441198699}, {\"t\": 72, \"Model\": \"EFA2 / EFA1\", \"value\": 17.57861535532544}, {\"t\": 73, \"Model\": \"EFA2 / EFA1\", \"value\": 17.82229654618061}, {\"t\": 74, \"Model\": \"EFA2 / EFA1\", \"value\": 17.901621598464487}, {\"t\": 75, \"Model\": \"EFA2 / EFA1\", \"value\": 17.350127950837418}, {\"t\": 76, \"Model\": \"EFA2 / EFA1\", \"value\": 19.71523679284485}, {\"t\": 77, \"Model\": \"EFA2 / EFA1\", \"value\": 19.39679517510632}, {\"t\": 78, \"Model\": \"EFA2 / EFA1\", \"value\": 20.360910372248043}, {\"t\": 79, \"Model\": \"EFA2 / EFA1\", \"value\": 21.116357046602502}, {\"t\": 80, \"Model\": \"EFA2 / EFA1\", \"value\": 20.410647332259884}, {\"t\": 81, \"Model\": \"EFA2 / EFA1\", \"value\": 20.760496206370192}, {\"t\": 82, \"Model\": \"EFA2 / EFA1\", \"value\": 21.018294267958424}, {\"t\": 83, \"Model\": \"EFA2 / EFA1\", \"value\": 21.24462518787618}, {\"t\": 84, \"Model\": \"EFA2 / EFA1\", \"value\": 20.106028423896305}, {\"t\": 85, \"Model\": \"EFA2 / EFA1\", \"value\": 19.575501569039716}, {\"t\": 86, \"Model\": \"EFA2 / EFA1\", \"value\": 19.312938437784396}, {\"t\": 87, \"Model\": \"EFA2 / EFA1\", \"value\": 19.49671107907909}, {\"t\": 88, \"Model\": \"EFA2 / EFA1\", \"value\": 21.409832416751158}, {\"t\": 89, \"Model\": \"EFA2 / EFA1\", \"value\": 21.727880441404125}, {\"t\": 90, \"Model\": \"EFA2 / EFA1\", \"value\": 22.291800239862823}, {\"t\": 91, \"Model\": \"EFA2 / EFA1\", \"value\": 26.226871284610127}, {\"t\": 92, \"Model\": \"EFA2 / EFA1\", \"value\": 25.67115144276113}, {\"t\": 93, \"Model\": \"EFA2 / EFA1\", \"value\": 25.452876880346594}, {\"t\": 94, \"Model\": \"EFA2 / EFA1\", \"value\": 25.72054499561102}, {\"t\": 95, \"Model\": \"EFA2 / EFA1\", \"value\": 27.144492007679787}, {\"t\": 96, \"Model\": \"EFA2 / EFA1\", \"value\": 27.31423197191407}, {\"t\": 97, \"Model\": \"EFA2 / EFA1\", \"value\": 27.97165076402723}, {\"t\": 98, \"Model\": \"EFA2 / EFA1\", \"value\": 31.405321887735454}, {\"t\": 99, \"Model\": \"EFA2 / EFA1\", \"value\": 31.661437348105892}, {\"t\": 100, \"Model\": \"EFA2 / EFA1\", \"value\": 32.16690212234744}, {\"t\": 101, \"Model\": \"EFA2 / EFA1\", \"value\": 32.55330123607996}, {\"t\": 102, \"Model\": \"EFA2 / EFA1\", \"value\": 33.33703646464596}, {\"t\": 103, \"Model\": \"EFA2 / EFA1\", \"value\": 33.91582765469764}, {\"t\": 104, \"Model\": \"EFA2 / EFA1\", \"value\": 34.867510361406744}, {\"t\": 105, \"Model\": \"EFA2 / EFA1\", \"value\": 35.23557112167282}, {\"t\": 106, \"Model\": \"EFA2 / EFA1\", \"value\": 34.98271785146062}, {\"t\": 107, \"Model\": \"EFA2 / EFA1\", \"value\": 34.73016249406578}, {\"t\": 108, \"Model\": \"EFA2 / EFA1\", \"value\": 35.28129394606458}, {\"t\": 109, \"Model\": \"EFA2 / EFA1\", \"value\": 35.51014375656746}, {\"t\": 110, \"Model\": \"EFA2 / EFA1\", \"value\": 36.83080910682929}, {\"t\": 111, \"Model\": \"EFA2 / EFA1\", \"value\": 36.0528817927169}, {\"t\": 112, \"Model\": \"EFA2 / EFA1\", \"value\": 37.91588515756939}, {\"t\": 113, \"Model\": \"EFA2 / EFA1\", \"value\": 38.270063724902684}, {\"t\": 114, \"Model\": \"EFA2 / EFA1\", \"value\": 39.42594663448415}, {\"t\": 115, \"Model\": \"EFA2 / EFA1\", \"value\": 39.23995962166316}, {\"t\": 116, \"Model\": \"EFA2 / EFA1\", \"value\": 39.245921515432656}, {\"t\": 117, \"Model\": \"EFA2 / EFA1\", \"value\": 39.374872979803854}, {\"t\": 118, \"Model\": \"EFA2 / EFA1\", \"value\": 39.87340047256771}, {\"t\": 119, \"Model\": \"EFA2 / EFA1\", \"value\": 40.2174538675506}, {\"t\": 120, \"Model\": \"EFA2 / EFA1\", \"value\": 40.22280743439467}, {\"t\": 121, \"Model\": \"EFA2 / EFA1\", \"value\": 40.48838332270236}, {\"t\": 122, \"Model\": \"EFA2 / EFA1\", \"value\": 39.68606068244037}, {\"t\": 123, \"Model\": \"EFA2 / EFA1\", \"value\": 39.46631697641226}, {\"t\": 124, \"Model\": \"EFA2 / EFA1\", \"value\": 39.52781148570523}, {\"t\": 125, \"Model\": \"EFA2 / EFA1\", \"value\": 40.0601256252213}, {\"t\": 126, \"Model\": \"EFA2 / EFA1\", \"value\": 40.35819977278368}, {\"t\": 127, \"Model\": \"EFA2 / EFA1\", \"value\": 40.642181475626785}, {\"t\": 128, \"Model\": \"EFA2 / EFA1\", \"value\": 41.39349628237085}, {\"t\": 129, \"Model\": \"EFA2 / EFA1\", \"value\": 42.59039435157297}, {\"t\": 130, \"Model\": \"EFA2 / EFA1\", \"value\": 43.29158151007675}, {\"t\": 131, \"Model\": \"EFA2 / EFA1\", \"value\": 43.531467224595644}, {\"t\": 132, \"Model\": \"EFA2 / EFA1\", \"value\": 44.22847017165168}, {\"t\": 133, \"Model\": \"EFA2 / EFA1\", \"value\": 44.4271335233135}, {\"t\": 134, \"Model\": \"EFA2 / EFA1\", \"value\": 44.58477964625422}, {\"t\": 135, \"Model\": \"EFA2 / EFA1\", \"value\": 43.84003818106271}, {\"t\": 136, \"Model\": \"EFA2 / EFA1\", \"value\": 44.62452856567029}, {\"t\": 137, \"Model\": \"EFA2 / EFA1\", \"value\": 44.02067685934867}, {\"t\": 138, \"Model\": \"EFA2 / EFA1\", \"value\": 44.47563601859781}, {\"t\": 139, \"Model\": \"EFA2 / EFA1\", \"value\": 44.85233317249924}, {\"t\": 140, \"Model\": \"EFA2 / EFA1\", \"value\": 44.91829241950427}, {\"t\": 141, \"Model\": \"EFA2 / EFA1\", \"value\": 43.26838793004788}, {\"t\": 142, \"Model\": \"EFA2 / EFA1\", \"value\": 43.8331303971479}, {\"t\": 143, \"Model\": \"EFA2 / EFA1\", \"value\": 43.803670864260766}, {\"t\": 144, \"Model\": \"EFA2 / EFA1\", \"value\": 44.382537617720914}, {\"t\": 145, \"Model\": \"EFA2 / EFA1\", \"value\": 44.745086222694226}, {\"t\": 146, \"Model\": \"EFA2 / EFA1\", \"value\": 45.28543146988909}, {\"t\": 147, \"Model\": \"EFA2 / EFA1\", \"value\": 45.4554868394855}, {\"t\": 148, \"Model\": \"EFA2 / EFA1\", \"value\": 45.631066932829526}, {\"t\": 149, \"Model\": \"EFA2 / EFA1\", \"value\": 45.2901110496249}, {\"t\": 150, \"Model\": \"EFA2 / EFA1\", \"value\": 46.411654168962514}, {\"t\": 151, \"Model\": \"EFA2 / EFA1\", \"value\": 46.54728045148897}, {\"t\": 152, \"Model\": \"EFA2 / EFA1\", \"value\": 46.91760158964564}, {\"t\": 153, \"Model\": \"EFA2 / EFA1\", \"value\": 46.43318886328541}, {\"t\": 154, \"Model\": \"EFA2 / EFA1\", \"value\": 47.91731789540347}, {\"t\": 155, \"Model\": \"EFA2 / EFA1\", \"value\": 48.497245506698505}, {\"t\": 156, \"Model\": \"EFA2 / EFA1\", \"value\": 48.621696689102464}, {\"t\": 157, \"Model\": \"EFA2 / EFA1\", \"value\": 51.33525072298289}, {\"t\": 158, \"Model\": \"EFA2 / EFA1\", \"value\": 51.36623810279616}, {\"t\": 159, \"Model\": \"EFA2 / EFA1\", \"value\": 51.54390777217509}, {\"t\": 160, \"Model\": \"EFA2 / EFA1\", \"value\": 51.86527398031467}, {\"t\": 161, \"Model\": \"EFA2 / EFA1\", \"value\": 52.53182627331512}, {\"t\": 162, \"Model\": \"EFA2 / EFA1\", \"value\": 52.057987181230146}, {\"t\": 163, \"Model\": \"EFA2 / EFA1\", \"value\": 52.33407651210587}, {\"t\": 164, \"Model\": \"EFA2 / EFA1\", \"value\": 52.56790417347065}, {\"t\": 165, \"Model\": \"EFA2 / EFA1\", \"value\": 52.80114614259742}, {\"t\": 166, \"Model\": \"EFA2 / EFA1\", \"value\": 52.512550266454355}, {\"t\": 167, \"Model\": \"EFA2 / EFA1\", \"value\": 52.60965583380312}, {\"t\": 168, \"Model\": \"EFA2 / EFA1\", \"value\": 52.20310695270496}, {\"t\": 169, \"Model\": \"EFA2 / EFA1\", \"value\": 53.16686660863343}, {\"t\": 170, \"Model\": \"EFA2 / EFA1\", \"value\": 54.20733187629253}, {\"t\": 171, \"Model\": \"EFA2 / EFA1\", \"value\": 55.371588523142464}, {\"t\": 172, \"Model\": \"EFA2 / EFA1\", \"value\": 55.11531421914128}, {\"t\": 173, \"Model\": \"EFA2 / EFA1\", \"value\": 54.6873824579186}, {\"t\": 174, \"Model\": \"EFA2 / EFA1\", \"value\": 55.82783442774621}, {\"t\": 175, \"Model\": \"EFA2 / EFA1\", \"value\": 54.61694401544628}, {\"t\": 176, \"Model\": \"EFA2 / EFA1\", \"value\": 54.75968821183983}, {\"t\": 177, \"Model\": \"EFA2 / EFA1\", \"value\": 55.10976930432412}, {\"t\": 178, \"Model\": \"EFA2 / EFA1\", \"value\": 55.07078205663743}, {\"t\": 179, \"Model\": \"EFA2 / EFA1\", \"value\": 55.44659112658201}, {\"t\": 180, \"Model\": \"EFA2 / EFA1\", \"value\": 55.58701009350193}, {\"t\": 181, \"Model\": \"EFA2 / EFA1\", \"value\": 56.59771166818837}, {\"t\": 182, \"Model\": \"EFA2 / EFA1\", \"value\": 56.90651163044254}, {\"t\": 183, \"Model\": \"EFA2 / EFA1\", \"value\": 57.32362561236141}, {\"t\": 184, \"Model\": \"EFA2 / EFA1\", \"value\": 57.240073157646066}, {\"t\": 185, \"Model\": \"EFA2 / EFA1\", \"value\": 55.10976804520578}, {\"t\": 186, \"Model\": \"EFA2 / EFA1\", \"value\": 54.53176008406194}, {\"t\": 187, \"Model\": \"EFA2 / EFA1\", \"value\": 55.13488362888597}, {\"t\": 188, \"Model\": \"EFA2 / EFA1\", \"value\": 56.03646584871012}, {\"t\": 189, \"Model\": \"EFA2 / EFA1\", \"value\": 56.00624235313285}, {\"t\": 190, \"Model\": \"EFA2 / EFA1\", \"value\": 57.437920352959964}, {\"t\": 191, \"Model\": \"EFA2 / EFA1\", \"value\": 57.02717421245984}, {\"t\": 192, \"Model\": \"EFA2 / EFA1\", \"value\": 57.466294322633075}, {\"t\": 193, \"Model\": \"EFA2 / EFA1\", \"value\": 57.2011991347149}, {\"t\": 194, \"Model\": \"EFA2 / EFA1\", \"value\": 57.25655959197229}, {\"t\": 195, \"Model\": \"EFA2 / EFA1\", \"value\": 57.19006223790166}, {\"t\": 196, \"Model\": \"EFA2 / EFA1\", \"value\": 57.03872522702386}, {\"t\": 197, \"Model\": \"EFA2 / EFA1\", \"value\": 56.46516590612123}, {\"t\": 198, \"Model\": \"EFA2 / EFA1\", \"value\": 56.782172862709785}, {\"t\": 199, \"Model\": \"EFA2 / EFA1\", \"value\": 58.1661481682745}, {\"t\": 30, \"Model\": \"EFA2 / EFA3\", \"value\": 4.437625993786815}, {\"t\": 31, \"Model\": \"EFA2 / EFA3\", \"value\": 5.0218068365041795}, {\"t\": 32, \"Model\": \"EFA2 / EFA3\", \"value\": 5.004800281487569}, {\"t\": 33, \"Model\": \"EFA2 / EFA3\", \"value\": 5.157465081253193}, {\"t\": 34, \"Model\": \"EFA2 / EFA3\", \"value\": 5.284797566690209}, {\"t\": 35, \"Model\": \"EFA2 / EFA3\", \"value\": 5.397282114557555}, {\"t\": 36, \"Model\": \"EFA2 / EFA3\", \"value\": 5.399632293481325}, {\"t\": 37, \"Model\": \"EFA2 / EFA3\", \"value\": 5.445903075988255}, {\"t\": 38, \"Model\": \"EFA2 / EFA3\", \"value\": 5.532039684737498}, {\"t\": 39, \"Model\": \"EFA2 / EFA3\", \"value\": 5.167137909160587}, {\"t\": 40, \"Model\": \"EFA2 / EFA3\", \"value\": 5.184584050381048}, {\"t\": 41, \"Model\": \"EFA2 / EFA3\", \"value\": 5.283500823945275}, {\"t\": 42, \"Model\": \"EFA2 / EFA3\", \"value\": 5.2524224520547165}, {\"t\": 43, \"Model\": \"EFA2 / EFA3\", \"value\": 5.379438284435594}, {\"t\": 44, \"Model\": \"EFA2 / EFA3\", \"value\": 5.39252646435142}, {\"t\": 45, \"Model\": \"EFA2 / EFA3\", \"value\": 5.018760539424477}, {\"t\": 46, \"Model\": \"EFA2 / EFA3\", \"value\": 4.942230646608522}, {\"t\": 47, \"Model\": \"EFA2 / EFA3\", \"value\": 4.942584802945191}, {\"t\": 48, \"Model\": \"EFA2 / EFA3\", \"value\": 4.870319456593393}, {\"t\": 49, \"Model\": \"EFA2 / EFA3\", \"value\": 4.944182864316986}, {\"t\": 50, \"Model\": \"EFA2 / EFA3\", \"value\": 4.937902538742492}, {\"t\": 51, \"Model\": \"EFA2 / EFA3\", \"value\": 4.92663839833881}, {\"t\": 52, \"Model\": \"EFA2 / EFA3\", \"value\": 4.981120893406882}, {\"t\": 53, \"Model\": \"EFA2 / EFA3\", \"value\": 5.030796445165976}, {\"t\": 54, \"Model\": \"EFA2 / EFA3\", \"value\": 5.038944123291429}, {\"t\": 55, \"Model\": \"EFA2 / EFA3\", \"value\": 4.779046046509791}, {\"t\": 56, \"Model\": \"EFA2 / EFA3\", \"value\": 4.855045772021896}, {\"t\": 57, \"Model\": \"EFA2 / EFA3\", \"value\": 4.904186825330015}, {\"t\": 58, \"Model\": \"EFA2 / EFA3\", \"value\": 4.862584697963939}, {\"t\": 59, \"Model\": \"EFA2 / EFA3\", \"value\": 4.998564889571469}, {\"t\": 60, \"Model\": \"EFA2 / EFA3\", \"value\": 5.023579321386677}, {\"t\": 61, \"Model\": \"EFA2 / EFA3\", \"value\": 5.079697093843777}, {\"t\": 62, \"Model\": \"EFA2 / EFA3\", \"value\": 5.1878440308983045}, {\"t\": 63, \"Model\": \"EFA2 / EFA3\", \"value\": 5.37010106715303}, {\"t\": 64, \"Model\": \"EFA2 / EFA3\", \"value\": 5.265494643669342}, {\"t\": 65, \"Model\": \"EFA2 / EFA3\", \"value\": 5.305529787083003}, {\"t\": 66, \"Model\": \"EFA2 / EFA3\", \"value\": 5.404527650334842}, {\"t\": 67, \"Model\": \"EFA2 / EFA3\", \"value\": 5.324017943175193}, {\"t\": 68, \"Model\": \"EFA2 / EFA3\", \"value\": 5.325184040799343}, {\"t\": 69, \"Model\": \"EFA2 / EFA3\", \"value\": 5.5165529057694584}, {\"t\": 70, \"Model\": \"EFA2 / EFA3\", \"value\": 5.499575352045042}, {\"t\": 71, \"Model\": \"EFA2 / EFA3\", \"value\": 5.417848901884554}, {\"t\": 72, \"Model\": \"EFA2 / EFA3\", \"value\": 5.412039631788446}, {\"t\": 73, \"Model\": \"EFA2 / EFA3\", \"value\": 5.492694691766303}, {\"t\": 74, \"Model\": \"EFA2 / EFA3\", \"value\": 5.481291458226167}, {\"t\": 75, \"Model\": \"EFA2 / EFA3\", \"value\": 5.5651921061243}, {\"t\": 76, \"Model\": \"EFA2 / EFA3\", \"value\": 5.600381282014439}, {\"t\": 77, \"Model\": \"EFA2 / EFA3\", \"value\": 5.568706293538128}, {\"t\": 78, \"Model\": \"EFA2 / EFA3\", \"value\": 5.423260721026338}, {\"t\": 79, \"Model\": \"EFA2 / EFA3\", \"value\": 5.390650673486903}, {\"t\": 80, \"Model\": \"EFA2 / EFA3\", \"value\": 5.208006436051903}, {\"t\": 81, \"Model\": \"EFA2 / EFA3\", \"value\": 5.302147975860009}, {\"t\": 82, \"Model\": \"EFA2 / EFA3\", \"value\": 5.273016399231949}, {\"t\": 83, \"Model\": \"EFA2 / EFA3\", \"value\": 5.417880589881975}, {\"t\": 84, \"Model\": \"EFA2 / EFA3\", \"value\": 5.580388436972953}, {\"t\": 85, \"Model\": \"EFA2 / EFA3\", \"value\": 5.617381808871471}, {\"t\": 86, \"Model\": \"EFA2 / EFA3\", \"value\": 5.605345195217922}, {\"t\": 87, \"Model\": \"EFA2 / EFA3\", \"value\": 5.69856010740483}, {\"t\": 88, \"Model\": \"EFA2 / EFA3\", \"value\": 5.461965677993476}, {\"t\": 89, \"Model\": \"EFA2 / EFA3\", \"value\": 5.494181285570164}, {\"t\": 90, \"Model\": \"EFA2 / EFA3\", \"value\": 5.49164309995848}, {\"t\": 91, \"Model\": \"EFA2 / EFA3\", \"value\": 5.3863474032082195}, {\"t\": 92, \"Model\": \"EFA2 / EFA3\", \"value\": 5.403486405920148}, {\"t\": 93, \"Model\": \"EFA2 / EFA3\", \"value\": 5.536319248264135}, {\"t\": 94, \"Model\": \"EFA2 / EFA3\", \"value\": 5.572086334755454}, {\"t\": 95, \"Model\": \"EFA2 / EFA3\", \"value\": 5.603677497547551}, {\"t\": 96, \"Model\": \"EFA2 / EFA3\", \"value\": 5.582385364888296}, {\"t\": 97, \"Model\": \"EFA2 / EFA3\", \"value\": 5.584797557993397}, {\"t\": 98, \"Model\": \"EFA2 / EFA3\", \"value\": 5.506669513579482}, {\"t\": 99, \"Model\": \"EFA2 / EFA3\", \"value\": 5.57305458947576}, {\"t\": 100, \"Model\": \"EFA2 / EFA3\", \"value\": 5.612035755347279}, {\"t\": 101, \"Model\": \"EFA2 / EFA3\", \"value\": 5.64464460565182}, {\"t\": 102, \"Model\": \"EFA2 / EFA3\", \"value\": 5.676852880185493}, {\"t\": 103, \"Model\": \"EFA2 / EFA3\", \"value\": 5.721322547033992}, {\"t\": 104, \"Model\": \"EFA2 / EFA3\", \"value\": 5.713679755462067}, {\"t\": 105, \"Model\": \"EFA2 / EFA3\", \"value\": 5.758952011251495}, {\"t\": 106, \"Model\": \"EFA2 / EFA3\", \"value\": 5.736310164642305}, {\"t\": 107, \"Model\": \"EFA2 / EFA3\", \"value\": 5.6630358262779055}, {\"t\": 108, \"Model\": \"EFA2 / EFA3\", \"value\": 5.653912477668996}, {\"t\": 109, \"Model\": \"EFA2 / EFA3\", \"value\": 5.720660706620265}, {\"t\": 110, \"Model\": \"EFA2 / EFA3\", \"value\": 5.731496318837458}, {\"t\": 111, \"Model\": \"EFA2 / EFA3\", \"value\": 5.60550162847494}, {\"t\": 112, \"Model\": \"EFA2 / EFA3\", \"value\": 5.57174080930497}, {\"t\": 113, \"Model\": \"EFA2 / EFA3\", \"value\": 5.6827680687389375}, {\"t\": 114, \"Model\": \"EFA2 / EFA3\", \"value\": 5.261586342556029}, {\"t\": 115, \"Model\": \"EFA2 / EFA3\", \"value\": 5.390118724111403}, {\"t\": 116, \"Model\": \"EFA2 / EFA3\", \"value\": 5.374229156761771}, {\"t\": 117, \"Model\": \"EFA2 / EFA3\", \"value\": 5.477839978153838}, {\"t\": 118, \"Model\": \"EFA2 / EFA3\", \"value\": 5.476016002997994}, {\"t\": 119, \"Model\": \"EFA2 / EFA3\", \"value\": 5.449665814776836}, {\"t\": 120, \"Model\": \"EFA2 / EFA3\", \"value\": 5.493509213855873}, {\"t\": 121, \"Model\": \"EFA2 / EFA3\", \"value\": 5.498968820378195}, {\"t\": 122, \"Model\": \"EFA2 / EFA3\", \"value\": 5.466544385835618}, {\"t\": 123, \"Model\": \"EFA2 / EFA3\", \"value\": 5.417569013522893}, {\"t\": 124, \"Model\": \"EFA2 / EFA3\", \"value\": 5.415508925836775}, {\"t\": 125, \"Model\": \"EFA2 / EFA3\", \"value\": 5.4268106793307425}, {\"t\": 126, \"Model\": \"EFA2 / EFA3\", \"value\": 5.4161716265873565}, {\"t\": 127, \"Model\": \"EFA2 / EFA3\", \"value\": 5.3925393075079455}, {\"t\": 128, \"Model\": \"EFA2 / EFA3\", \"value\": 5.427683535171468}, {\"t\": 129, \"Model\": \"EFA2 / EFA3\", \"value\": 5.477648921313971}, {\"t\": 130, \"Model\": \"EFA2 / EFA3\", \"value\": 5.405481492806189}, {\"t\": 131, \"Model\": \"EFA2 / EFA3\", \"value\": 5.480674043158274}, {\"t\": 132, \"Model\": \"EFA2 / EFA3\", \"value\": 5.513349878019653}, {\"t\": 133, \"Model\": \"EFA2 / EFA3\", \"value\": 5.523949039255967}, {\"t\": 134, \"Model\": \"EFA2 / EFA3\", \"value\": 5.539083053946115}, {\"t\": 135, \"Model\": \"EFA2 / EFA3\", \"value\": 5.469253514331399}, {\"t\": 136, \"Model\": \"EFA2 / EFA3\", \"value\": 5.4924558441502995}, {\"t\": 137, \"Model\": \"EFA2 / EFA3\", \"value\": 5.600981342118416}, {\"t\": 138, \"Model\": \"EFA2 / EFA3\", \"value\": 5.595158111840647}, {\"t\": 139, \"Model\": \"EFA2 / EFA3\", \"value\": 5.627502590176391}, {\"t\": 140, \"Model\": \"EFA2 / EFA3\", \"value\": 5.650096860311805}, {\"t\": 141, \"Model\": \"EFA2 / EFA3\", \"value\": 5.754930609723601}, {\"t\": 142, \"Model\": \"EFA2 / EFA3\", \"value\": 5.826363364729332}, {\"t\": 143, \"Model\": \"EFA2 / EFA3\", \"value\": 5.847823128507002}, {\"t\": 144, \"Model\": \"EFA2 / EFA3\", \"value\": 5.907786382056884}, {\"t\": 145, \"Model\": \"EFA2 / EFA3\", \"value\": 5.953188362114474}, {\"t\": 146, \"Model\": \"EFA2 / EFA3\", \"value\": 5.979092404859216}, {\"t\": 147, \"Model\": \"EFA2 / EFA3\", \"value\": 5.9580336715409885}, {\"t\": 148, \"Model\": \"EFA2 / EFA3\", \"value\": 5.986229994363953}, {\"t\": 149, \"Model\": \"EFA2 / EFA3\", \"value\": 5.66942334980763}, {\"t\": 150, \"Model\": \"EFA2 / EFA3\", \"value\": 5.7040718136465784}, {\"t\": 151, \"Model\": \"EFA2 / EFA3\", \"value\": 5.695734763626774}, {\"t\": 152, \"Model\": \"EFA2 / EFA3\", \"value\": 5.756126724850446}, {\"t\": 153, \"Model\": \"EFA2 / EFA3\", \"value\": 5.848634896534577}, {\"t\": 154, \"Model\": \"EFA2 / EFA3\", \"value\": 5.837124279039131}, {\"t\": 155, \"Model\": \"EFA2 / EFA3\", \"value\": 5.9076386309557165}, {\"t\": 156, \"Model\": \"EFA2 / EFA3\", \"value\": 5.906955382325691}, {\"t\": 157, \"Model\": \"EFA2 / EFA3\", \"value\": 5.865672471152948}, {\"t\": 158, \"Model\": \"EFA2 / EFA3\", \"value\": 5.851103108163443}, {\"t\": 159, \"Model\": \"EFA2 / EFA3\", \"value\": 5.967421938404414}, {\"t\": 160, \"Model\": \"EFA2 / EFA3\", \"value\": 5.952324102813691}, {\"t\": 161, \"Model\": \"EFA2 / EFA3\", \"value\": 5.880710245946602}, {\"t\": 162, \"Model\": \"EFA2 / EFA3\", \"value\": 5.9504987779321254}, {\"t\": 163, \"Model\": \"EFA2 / EFA3\", \"value\": 5.965212365788602}, {\"t\": 164, \"Model\": \"EFA2 / EFA3\", \"value\": 6.007169310923018}, {\"t\": 165, \"Model\": \"EFA2 / EFA3\", \"value\": 6.0438269960118305}, {\"t\": 166, \"Model\": \"EFA2 / EFA3\", \"value\": 6.057701763079876}, {\"t\": 167, \"Model\": \"EFA2 / EFA3\", \"value\": 6.138508742397107}, {\"t\": 168, \"Model\": \"EFA2 / EFA3\", \"value\": 6.286314108868055}, {\"t\": 169, \"Model\": \"EFA2 / EFA3\", \"value\": 6.223385600630991}, {\"t\": 170, \"Model\": \"EFA2 / EFA3\", \"value\": 6.2231123866083635}, {\"t\": 171, \"Model\": \"EFA2 / EFA3\", \"value\": 6.187955306122603}, {\"t\": 172, \"Model\": \"EFA2 / EFA3\", \"value\": 6.289224187960372}, {\"t\": 173, \"Model\": \"EFA2 / EFA3\", \"value\": 6.220730466994382}, {\"t\": 174, \"Model\": \"EFA2 / EFA3\", \"value\": 6.2716649672443054}, {\"t\": 175, \"Model\": \"EFA2 / EFA3\", \"value\": 6.188129634811503}, {\"t\": 176, \"Model\": \"EFA2 / EFA3\", \"value\": 6.234110859151542}, {\"t\": 177, \"Model\": \"EFA2 / EFA3\", \"value\": 6.273809085943867}, {\"t\": 178, \"Model\": \"EFA2 / EFA3\", \"value\": 6.286057868300986}, {\"t\": 179, \"Model\": \"EFA2 / EFA3\", \"value\": 6.250695888389146}, {\"t\": 180, \"Model\": \"EFA2 / EFA3\", \"value\": 6.2984656478934085}, {\"t\": 181, \"Model\": \"EFA2 / EFA3\", \"value\": 6.309566113438223}, {\"t\": 182, \"Model\": \"EFA2 / EFA3\", \"value\": 6.37466512470246}, {\"t\": 183, \"Model\": \"EFA2 / EFA3\", \"value\": 6.320307351095607}, {\"t\": 184, \"Model\": \"EFA2 / EFA3\", \"value\": 6.36349965913746}, {\"t\": 185, \"Model\": \"EFA2 / EFA3\", \"value\": 6.277682791246434}, {\"t\": 186, \"Model\": \"EFA2 / EFA3\", \"value\": 6.283918441126161}, {\"t\": 187, \"Model\": \"EFA2 / EFA3\", \"value\": 6.349894466827436}, {\"t\": 188, \"Model\": \"EFA2 / EFA3\", \"value\": 6.3605510487061565}, {\"t\": 189, \"Model\": \"EFA2 / EFA3\", \"value\": 6.362209092777675}, {\"t\": 190, \"Model\": \"EFA2 / EFA3\", \"value\": 6.393895454346421}, {\"t\": 191, \"Model\": \"EFA2 / EFA3\", \"value\": 6.499213038669495}, {\"t\": 192, \"Model\": \"EFA2 / EFA3\", \"value\": 6.5174782646170115}, {\"t\": 193, \"Model\": \"EFA2 / EFA3\", \"value\": 6.562561682498654}, {\"t\": 194, \"Model\": \"EFA2 / EFA3\", \"value\": 6.574940560349887}, {\"t\": 195, \"Model\": \"EFA2 / EFA3\", \"value\": 6.583070432847535}, {\"t\": 196, \"Model\": \"EFA2 / EFA3\", \"value\": 6.5302550588758095}, {\"t\": 197, \"Model\": \"EFA2 / EFA3\", \"value\": 6.631768620184857}, {\"t\": 198, \"Model\": \"EFA2 / EFA3\", \"value\": 6.627373779863319}, {\"t\": 199, \"Model\": \"EFA2 / EFA3\", \"value\": 6.550501002854844}]}}, {\"mode\": \"vega-lite\"});\n",
       "</script>"
      ],
      "text/plain": [
       "alt.Chart(...)"
      ]
     },
     "execution_count": 14,
     "metadata": {},
     "output_type": "execute_result"
    }
   ],
   "source": [
    "bfdf = pd.DataFrame.from_dict(bf)\n",
    "bfdf.rename({\n",
    "    'm5':'AZ', \n",
    "    'm7':'EZ',\n",
    "    'm9':'EFA2',\n",
    "#     'm10':'EFA2.C',\n",
    "    'm15':'EFA1',\n",
    "    'm16':'EFA3'\n",
    "}, axis=1, inplace=True)\n",
    "\n",
    "bfdf['t']  = np.arange(30, len(bfdf)+30)\n",
    "for i in ['EFA1', 'EFA3']:\n",
    "    bfdf['EFA2 / '+str(i)] = bfdf['EFA2']-bfdf[str(i)]\n",
    "bfdf.drop(['EFA2', 'EFA1', 'EZ', 'EFA3', 'AZ'], axis=1, inplace=True)\n",
    "bfdf = bfdf.melt(id_vars='t', var_name='Model')\n",
    "\n",
    "width = 600\n",
    "height = 400\n",
    "c = alt.Chart(bfdf).mark_line(\n",
    "    strokeWidth = 2,\n",
    "    ).encode(\n",
    "    alt.X('t:Q', title='Index i', scale=alt.Scale(domain=[0,200])),\n",
    "    alt.Y('value:Q', title='Log Bayes Factor'),\n",
    "    alt.Color('Model')\n",
    "    ).properties(\n",
    "    width=width, height=height\n",
    "    ).configure_legend(\n",
    "    titleFontSize=16,\n",
    "    labelFontSize=14,\n",
    "    symbolStrokeWidth=6\n",
    "    ).configure_axis(\n",
    "    labelFontSize=14,\n",
    "    titleFontSize=16\n",
    ")\n",
    "c"
   ]
  },
  {
   "cell_type": "code",
   "execution_count": 17,
   "metadata": {},
   "outputs": [
    {
     "data": {
      "text/html": [
       "\n",
       "<div id=\"altair-viz-d34414fb28e04b79ba16764c061d2f73\"></div>\n",
       "<script type=\"text/javascript\">\n",
       "  (function(spec, embedOpt){\n",
       "    let outputDiv = document.currentScript.previousElementSibling;\n",
       "    if (outputDiv.id !== \"altair-viz-d34414fb28e04b79ba16764c061d2f73\") {\n",
       "      outputDiv = document.getElementById(\"altair-viz-d34414fb28e04b79ba16764c061d2f73\");\n",
       "    }\n",
       "    const paths = {\n",
       "      \"vega\": \"https://cdn.jsdelivr.net/npm//vega@5?noext\",\n",
       "      \"vega-lib\": \"https://cdn.jsdelivr.net/npm//vega-lib?noext\",\n",
       "      \"vega-lite\": \"https://cdn.jsdelivr.net/npm//vega-lite@4.8.1?noext\",\n",
       "      \"vega-embed\": \"https://cdn.jsdelivr.net/npm//vega-embed@6?noext\",\n",
       "    };\n",
       "\n",
       "    function loadScript(lib) {\n",
       "      return new Promise(function(resolve, reject) {\n",
       "        var s = document.createElement('script');\n",
       "        s.src = paths[lib];\n",
       "        s.async = true;\n",
       "        s.onload = () => resolve(paths[lib]);\n",
       "        s.onerror = () => reject(`Error loading script: ${paths[lib]}`);\n",
       "        document.getElementsByTagName(\"head\")[0].appendChild(s);\n",
       "      });\n",
       "    }\n",
       "\n",
       "    function showError(err) {\n",
       "      outputDiv.innerHTML = `<div class=\"error\" style=\"color:red;\">${err}</div>`;\n",
       "      throw err;\n",
       "    }\n",
       "\n",
       "    function displayChart(vegaEmbed) {\n",
       "      vegaEmbed(outputDiv, spec, embedOpt)\n",
       "        .catch(err => showError(`Javascript Error: ${err.message}<br>This usually means there's a typo in your chart specification. See the javascript console for the full traceback.`));\n",
       "    }\n",
       "\n",
       "    if(typeof define === \"function\" && define.amd) {\n",
       "      requirejs.config({paths});\n",
       "      require([\"vega-embed\"], displayChart, err => showError(`Error loading script: ${err.message}`));\n",
       "    } else if (typeof vegaEmbed === \"function\") {\n",
       "      displayChart(vegaEmbed);\n",
       "    } else {\n",
       "      loadScript(\"vega\")\n",
       "        .then(() => loadScript(\"vega-lite\"))\n",
       "        .then(() => loadScript(\"vega-embed\"))\n",
       "        .catch(showError)\n",
       "        .then(() => displayChart(vegaEmbed));\n",
       "    }\n",
       "  })({\"config\": {\"view\": {\"continuousWidth\": 400, \"continuousHeight\": 300}, \"axis\": {\"labelFontSize\": 14, \"titleFontSize\": 16}, \"legend\": {\"labelFontSize\": 14, \"symbolStrokeWidth\": 6, \"titleFontSize\": 16}}, \"data\": {\"name\": \"data-ec1bb79d7996d05e74e14ed543baa749\"}, \"mark\": {\"type\": \"line\", \"strokeWidth\": 2}, \"encoding\": {\"color\": {\"type\": \"nominal\", \"field\": \"Model\"}, \"x\": {\"type\": \"quantitative\", \"field\": \"t\", \"scale\": {\"domain\": [0, 200]}, \"title\": \"Index i\"}, \"y\": {\"type\": \"quantitative\", \"field\": \"value\", \"title\": \"Log Bayes Factor\"}}, \"height\": 400, \"width\": 600, \"$schema\": \"https://vega.github.io/schema/vega-lite/v4.8.1.json\", \"datasets\": {\"data-ec1bb79d7996d05e74e14ed543baa749\": [{\"t\": 30, \"Model\": \"EZ / AZ\", \"value\": -0.6087637247651667}, {\"t\": 31, \"Model\": \"EZ / AZ\", \"value\": -0.5364387435428455}, {\"t\": 32, \"Model\": \"EZ / AZ\", \"value\": -0.6996636092980104}, {\"t\": 33, \"Model\": \"EZ / AZ\", \"value\": -0.8642175945829607}, {\"t\": 34, \"Model\": \"EZ / AZ\", \"value\": -0.844314988948561}, {\"t\": 35, \"Model\": \"EZ / AZ\", \"value\": -0.7868478160628527}, {\"t\": 36, \"Model\": \"EZ / AZ\", \"value\": -1.3217163000467806}, {\"t\": 37, \"Model\": \"EZ / AZ\", \"value\": -1.1978016473157709}, {\"t\": 38, \"Model\": \"EZ / AZ\", \"value\": -1.0937070090110836}, {\"t\": 39, \"Model\": \"EZ / AZ\", \"value\": -1.4110197608991513}, {\"t\": 40, \"Model\": \"EZ / AZ\", \"value\": -1.5456073374405577}, {\"t\": 41, \"Model\": \"EZ / AZ\", \"value\": -1.411390834276844}, {\"t\": 42, \"Model\": \"EZ / AZ\", \"value\": -1.3915294872679311}, {\"t\": 43, \"Model\": \"EZ / AZ\", \"value\": -1.2379141800789313}, {\"t\": 44, \"Model\": \"EZ / AZ\", \"value\": -1.2551542497411532}, {\"t\": 45, \"Model\": \"EZ / AZ\", \"value\": -1.3538085092936853}, {\"t\": 46, \"Model\": \"EZ / AZ\", \"value\": -1.6286036591027084}, {\"t\": 47, \"Model\": \"EZ / AZ\", \"value\": -1.5803239456910774}, {\"t\": 48, \"Model\": \"EZ / AZ\", \"value\": -1.5868741174817558}, {\"t\": 49, \"Model\": \"EZ / AZ\", \"value\": -1.5087791225110152}, {\"t\": 50, \"Model\": \"EZ / AZ\", \"value\": -1.3411098224283933}, {\"t\": 51, \"Model\": \"EZ / AZ\", \"value\": -1.2425260633817459}, {\"t\": 52, \"Model\": \"EZ / AZ\", \"value\": -1.0858980682136234}, {\"t\": 53, \"Model\": \"EZ / AZ\", \"value\": -1.0669566074058991}, {\"t\": 54, \"Model\": \"EZ / AZ\", \"value\": -0.9616891538724985}, {\"t\": 55, \"Model\": \"EZ / AZ\", \"value\": -1.2625227647871213}, {\"t\": 56, \"Model\": \"EZ / AZ\", \"value\": -1.0989958664353026}, {\"t\": 57, \"Model\": \"EZ / AZ\", \"value\": -0.9860846818729385}, {\"t\": 58, \"Model\": \"EZ / AZ\", \"value\": -1.0053090514589371}, {\"t\": 59, \"Model\": \"EZ / AZ\", \"value\": -0.972232271007357}, {\"t\": 60, \"Model\": \"EZ / AZ\", \"value\": -0.9160530462640679}, {\"t\": 61, \"Model\": \"EZ / AZ\", \"value\": -0.8354321352584861}, {\"t\": 62, \"Model\": \"EZ / AZ\", \"value\": -0.7940202794571292}, {\"t\": 63, \"Model\": \"EZ / AZ\", \"value\": -0.8502797729785811}, {\"t\": 64, \"Model\": \"EZ / AZ\", \"value\": -1.16128569354089}, {\"t\": 65, \"Model\": \"EZ / AZ\", \"value\": -1.0784596419098875}, {\"t\": 66, \"Model\": \"EZ / AZ\", \"value\": -1.166460478064323}, {\"t\": 67, \"Model\": \"EZ / AZ\", \"value\": -1.2797140154579552}, {\"t\": 68, \"Model\": \"EZ / AZ\", \"value\": -1.1194160392925028}, {\"t\": 69, \"Model\": \"EZ / AZ\", \"value\": -1.3455946628489528}, {\"t\": 70, \"Model\": \"EZ / AZ\", \"value\": -1.3894375868214865}, {\"t\": 71, \"Model\": \"EZ / AZ\", \"value\": -1.086245184989025}, {\"t\": 72, \"Model\": \"EZ / AZ\", \"value\": -1.1338316099261192}, {\"t\": 73, \"Model\": \"EZ / AZ\", \"value\": -1.038565558564983}, {\"t\": 74, \"Model\": \"EZ / AZ\", \"value\": -1.0107914617104257}, {\"t\": 75, \"Model\": \"EZ / AZ\", \"value\": -0.887302509419726}, {\"t\": 76, \"Model\": \"EZ / AZ\", \"value\": -0.8475736718771714}, {\"t\": 77, \"Model\": \"EZ / AZ\", \"value\": -0.8834120226433129}, {\"t\": 78, \"Model\": \"EZ / AZ\", \"value\": -0.9787972246334675}, {\"t\": 79, \"Model\": \"EZ / AZ\", \"value\": -0.9124481762386267}, {\"t\": 80, \"Model\": \"EZ / AZ\", \"value\": -1.060935084776247}, {\"t\": 81, \"Model\": \"EZ / AZ\", \"value\": -0.9249597977862436}, {\"t\": 82, \"Model\": \"EZ / AZ\", \"value\": -0.9493305582174685}, {\"t\": 83, \"Model\": \"EZ / AZ\", \"value\": -0.7710809220564556}, {\"t\": 84, \"Model\": \"EZ / AZ\", \"value\": -0.8055532615886705}, {\"t\": 85, \"Model\": \"EZ / AZ\", \"value\": -0.706675618251495}, {\"t\": 86, \"Model\": \"EZ / AZ\", \"value\": -0.7826594936190077}, {\"t\": 87, \"Model\": \"EZ / AZ\", \"value\": -0.806072848120948}, {\"t\": 88, \"Model\": \"EZ / AZ\", \"value\": -0.8548312110127654}, {\"t\": 89, \"Model\": \"EZ / AZ\", \"value\": -0.7541407229983861}, {\"t\": 90, \"Model\": \"EZ / AZ\", \"value\": -0.7016053968172287}, {\"t\": 91, \"Model\": \"EZ / AZ\", \"value\": -0.8625594446328364}, {\"t\": 92, \"Model\": \"EZ / AZ\", \"value\": -0.833243119272197}, {\"t\": 93, \"Model\": \"EZ / AZ\", \"value\": -0.8414913411892257}, {\"t\": 94, \"Model\": \"EZ / AZ\", \"value\": -0.7630335046667369}, {\"t\": 95, \"Model\": \"EZ / AZ\", \"value\": -0.6431594650904344}, {\"t\": 96, \"Model\": \"EZ / AZ\", \"value\": -0.7655102253097539}, {\"t\": 97, \"Model\": \"EZ / AZ\", \"value\": -0.7158229066242257}, {\"t\": 98, \"Model\": \"EZ / AZ\", \"value\": -0.717475761531432}, {\"t\": 99, \"Model\": \"EZ / AZ\", \"value\": -0.6546096065906113}, {\"t\": 100, \"Model\": \"EZ / AZ\", \"value\": -0.6690607684338374}, {\"t\": 101, \"Model\": \"EZ / AZ\", \"value\": -0.7542489663497918}, {\"t\": 102, \"Model\": \"EZ / AZ\", \"value\": -0.728008210389703}, {\"t\": 103, \"Model\": \"EZ / AZ\", \"value\": -0.7984323956189883}, {\"t\": 104, \"Model\": \"EZ / AZ\", \"value\": -0.7735545958807961}, {\"t\": 105, \"Model\": \"EZ / AZ\", \"value\": -0.7180358268568625}, {\"t\": 106, \"Model\": \"EZ / AZ\", \"value\": -0.5817049747989813}, {\"t\": 107, \"Model\": \"EZ / AZ\", \"value\": -0.4338199403886165}, {\"t\": 108, \"Model\": \"EZ / AZ\", \"value\": -0.38173770732737466}, {\"t\": 109, \"Model\": \"EZ / AZ\", \"value\": -0.3014539275002335}, {\"t\": 110, \"Model\": \"EZ / AZ\", \"value\": -0.27169686157969863}, {\"t\": 111, \"Model\": \"EZ / AZ\", \"value\": -0.4656865760847495}, {\"t\": 112, \"Model\": \"EZ / AZ\", \"value\": -0.4399189850140601}, {\"t\": 113, \"Model\": \"EZ / AZ\", \"value\": -0.27836129502497897}, {\"t\": 114, \"Model\": \"EZ / AZ\", \"value\": -0.9651062654506859}, {\"t\": 115, \"Model\": \"EZ / AZ\", \"value\": -0.9679300181329609}, {\"t\": 116, \"Model\": \"EZ / AZ\", \"value\": -1.113580421168308}, {\"t\": 117, \"Model\": \"EZ / AZ\", \"value\": -0.9572560057791861}, {\"t\": 118, \"Model\": \"EZ / AZ\", \"value\": -0.8389074064605211}, {\"t\": 119, \"Model\": \"EZ / AZ\", \"value\": -0.7824482848449179}, {\"t\": 120, \"Model\": \"EZ / AZ\", \"value\": -0.7891267239825766}, {\"t\": 121, \"Model\": \"EZ / AZ\", \"value\": -0.6195240459924207}, {\"t\": 122, \"Model\": \"EZ / AZ\", \"value\": -0.6789053760869592}, {\"t\": 123, \"Model\": \"EZ / AZ\", \"value\": -0.692636520342262}, {\"t\": 124, \"Model\": \"EZ / AZ\", \"value\": -0.7588377847024503}, {\"t\": 125, \"Model\": \"EZ / AZ\", \"value\": -0.7321284312093894}, {\"t\": 126, \"Model\": \"EZ / AZ\", \"value\": -0.6976253766931677}, {\"t\": 127, \"Model\": \"EZ / AZ\", \"value\": -0.6808775592680831}, {\"t\": 128, \"Model\": \"EZ / AZ\", \"value\": -0.39488710413240824}, {\"t\": 129, \"Model\": \"EZ / AZ\", \"value\": -0.4773425490113823}, {\"t\": 130, \"Model\": \"EZ / AZ\", \"value\": -0.45056503263583636}, {\"t\": 131, \"Model\": \"EZ / AZ\", \"value\": -0.3851351505841194}, {\"t\": 132, \"Model\": \"EZ / AZ\", \"value\": -0.4293412331306854}, {\"t\": 133, \"Model\": \"EZ / AZ\", \"value\": -0.4158566509102002}, {\"t\": 134, \"Model\": \"EZ / AZ\", \"value\": -0.3797975778863929}, {\"t\": 135, \"Model\": \"EZ / AZ\", \"value\": -0.29875194936209937}, {\"t\": 136, \"Model\": \"EZ / AZ\", \"value\": -0.3450710223447686}, {\"t\": 137, \"Model\": \"EZ / AZ\", \"value\": -0.3293047633923152}, {\"t\": 138, \"Model\": \"EZ / AZ\", \"value\": -0.34443682210019233}, {\"t\": 139, \"Model\": \"EZ / AZ\", \"value\": -0.36013201614127865}, {\"t\": 140, \"Model\": \"EZ / AZ\", \"value\": -0.3989548547740469}, {\"t\": 141, \"Model\": \"EZ / AZ\", \"value\": -0.3247168635483604}, {\"t\": 142, \"Model\": \"EZ / AZ\", \"value\": -0.24137612848141998}, {\"t\": 143, \"Model\": \"EZ / AZ\", \"value\": -0.15306876930435465}, {\"t\": 144, \"Model\": \"EZ / AZ\", \"value\": -0.19559824709119766}, {\"t\": 145, \"Model\": \"EZ / AZ\", \"value\": -0.18288320015676618}, {\"t\": 146, \"Model\": \"EZ / AZ\", \"value\": -0.1472373536765872}, {\"t\": 147, \"Model\": \"EZ / AZ\", \"value\": -0.13376119137012665}, {\"t\": 148, \"Model\": \"EZ / AZ\", \"value\": -0.04088671521753895}, {\"t\": 149, \"Model\": \"EZ / AZ\", \"value\": -0.5463045911629933}, {\"t\": 150, \"Model\": \"EZ / AZ\", \"value\": -0.637915390230205}, {\"t\": 151, \"Model\": \"EZ / AZ\", \"value\": -0.8410789525578366}, {\"t\": 152, \"Model\": \"EZ / AZ\", \"value\": -0.5188845211400803}, {\"t\": 153, \"Model\": \"EZ / AZ\", \"value\": -0.4936514844916928}, {\"t\": 154, \"Model\": \"EZ / AZ\", \"value\": -0.5077304284704951}, {\"t\": 155, \"Model\": \"EZ / AZ\", \"value\": -0.5422022586518551}, {\"t\": 156, \"Model\": \"EZ / AZ\", \"value\": -0.7701373043958029}, {\"t\": 157, \"Model\": \"EZ / AZ\", \"value\": -0.6924728232978623}, {\"t\": 158, \"Model\": \"EZ / AZ\", \"value\": -0.7361484238228968}, {\"t\": 159, \"Model\": \"EZ / AZ\", \"value\": -0.9310343212068801}, {\"t\": 160, \"Model\": \"EZ / AZ\", \"value\": -0.8454065155244734}, {\"t\": 161, \"Model\": \"EZ / AZ\", \"value\": -0.6984471637899787}, {\"t\": 162, \"Model\": \"EZ / AZ\", \"value\": -0.4897230184117234}, {\"t\": 163, \"Model\": \"EZ / AZ\", \"value\": -0.5423359308695126}, {\"t\": 164, \"Model\": \"EZ / AZ\", \"value\": -0.5411931667892986}, {\"t\": 165, \"Model\": \"EZ / AZ\", \"value\": -0.500238377729147}, {\"t\": 166, \"Model\": \"EZ / AZ\", \"value\": -0.533129035431557}, {\"t\": 167, \"Model\": \"EZ / AZ\", \"value\": -0.4163439725045919}, {\"t\": 168, \"Model\": \"EZ / AZ\", \"value\": -0.3131587073362425}, {\"t\": 169, \"Model\": \"EZ / AZ\", \"value\": -0.3087815641781617}, {\"t\": 170, \"Model\": \"EZ / AZ\", \"value\": -0.4732655520529079}, {\"t\": 171, \"Model\": \"EZ / AZ\", \"value\": -0.5325749039054699}, {\"t\": 172, \"Model\": \"EZ / AZ\", \"value\": -0.4373230765245353}, {\"t\": 173, \"Model\": \"EZ / AZ\", \"value\": -0.5930757411554168}, {\"t\": 174, \"Model\": \"EZ / AZ\", \"value\": -0.6416954834048738}, {\"t\": 175, \"Model\": \"EZ / AZ\", \"value\": -0.5535614506657112}, {\"t\": 176, \"Model\": \"EZ / AZ\", \"value\": -0.4451714847787116}, {\"t\": 177, \"Model\": \"EZ / AZ\", \"value\": -0.39950889572241977}, {\"t\": 178, \"Model\": \"EZ / AZ\", \"value\": -0.4000665513308377}, {\"t\": 179, \"Model\": \"EZ / AZ\", \"value\": -0.311529291494935}, {\"t\": 180, \"Model\": \"EZ / AZ\", \"value\": -0.24566905268125083}, {\"t\": 181, \"Model\": \"EZ / AZ\", \"value\": -0.2596696785901713}, {\"t\": 182, \"Model\": \"EZ / AZ\", \"value\": -0.04254465931398954}, {\"t\": 183, \"Model\": \"EZ / AZ\", \"value\": -0.24026078660494932}, {\"t\": 184, \"Model\": \"EZ / AZ\", \"value\": -0.21219771366054374}, {\"t\": 185, \"Model\": \"EZ / AZ\", \"value\": -0.4818677695702718}, {\"t\": 186, \"Model\": \"EZ / AZ\", \"value\": -0.47028134650190623}, {\"t\": 187, \"Model\": \"EZ / AZ\", \"value\": -0.3683341792934698}, {\"t\": 188, \"Model\": \"EZ / AZ\", \"value\": -0.144224282453024}, {\"t\": 189, \"Model\": \"EZ / AZ\", \"value\": -0.1460976332541577}, {\"t\": 190, \"Model\": \"EZ / AZ\", \"value\": -0.028909326068742303}, {\"t\": 191, \"Model\": \"EZ / AZ\", \"value\": 0.05282431322439152}, {\"t\": 192, \"Model\": \"EZ / AZ\", \"value\": 0.11963768216628523}, {\"t\": 193, \"Model\": \"EZ / AZ\", \"value\": 0.3748755359781626}, {\"t\": 194, \"Model\": \"EZ / AZ\", \"value\": 0.38748695177832815}, {\"t\": 195, \"Model\": \"EZ / AZ\", \"value\": 0.3709488406461787}, {\"t\": 196, \"Model\": \"EZ / AZ\", \"value\": 0.23183049021304214}, {\"t\": 197, \"Model\": \"EZ / AZ\", \"value\": 0.2485603812424415}, {\"t\": 198, \"Model\": \"EZ / AZ\", \"value\": 0.237340760517327}, {\"t\": 199, \"Model\": \"EZ / AZ\", \"value\": 0.28526219426066746}, {\"t\": 30, \"Model\": \"EZ / EFA2\", \"value\": -0.9773952506721422}, {\"t\": 31, \"Model\": \"EZ / EFA2\", \"value\": -0.5454068725798571}, {\"t\": 32, \"Model\": \"EZ / EFA2\", \"value\": -0.637815165514855}, {\"t\": 33, \"Model\": \"EZ / EFA2\", \"value\": -1.0344709119401898}, {\"t\": 34, \"Model\": \"EZ / EFA2\", \"value\": -1.4742379736995872}, {\"t\": 35, \"Model\": \"EZ / EFA2\", \"value\": -0.9723435831433278}, {\"t\": 36, \"Model\": \"EZ / EFA2\", \"value\": -0.806611450934696}, {\"t\": 37, \"Model\": \"EZ / EFA2\", \"value\": -0.49235804826486174}, {\"t\": 38, \"Model\": \"EZ / EFA2\", \"value\": -0.40461216741240946}, {\"t\": 39, \"Model\": \"EZ / EFA2\", \"value\": -0.3894947097131052}, {\"t\": 40, \"Model\": \"EZ / EFA2\", \"value\": -0.42582972814193454}, {\"t\": 41, \"Model\": \"EZ / EFA2\", \"value\": -0.027401487941318692}, {\"t\": 42, \"Model\": \"EZ / EFA2\", \"value\": 0.47063200601402855}, {\"t\": 43, \"Model\": \"EZ / EFA2\", \"value\": 0.19012990604591096}, {\"t\": 44, \"Model\": \"EZ / EFA2\", \"value\": -0.17301544444811157}, {\"t\": 45, \"Model\": \"EZ / EFA2\", \"value\": -0.5900159718009661}, {\"t\": 46, \"Model\": \"EZ / EFA2\", \"value\": -0.43146408162502325}, {\"t\": 47, \"Model\": \"EZ / EFA2\", \"value\": -0.5979203493338332}, {\"t\": 48, \"Model\": \"EZ / EFA2\", \"value\": 0.011771128400965836}, {\"t\": 49, \"Model\": \"EZ / EFA2\", \"value\": 0.0746456357429679}, {\"t\": 50, \"Model\": \"EZ / EFA2\", \"value\": 0.16485002788149927}, {\"t\": 51, \"Model\": \"EZ / EFA2\", \"value\": 0.09406183038547056}, {\"t\": 52, \"Model\": \"EZ / EFA2\", \"value\": 0.12165026303384252}, {\"t\": 53, \"Model\": \"EZ / EFA2\", \"value\": 0.24686541064136236}, {\"t\": 54, \"Model\": \"EZ / EFA2\", \"value\": 0.3958354445847476}, {\"t\": 55, \"Model\": \"EZ / EFA2\", \"value\": 0.8444337304639191}, {\"t\": 56, \"Model\": \"EZ / EFA2\", \"value\": 1.06816745651534}, {\"t\": 57, \"Model\": \"EZ / EFA2\", \"value\": 1.033152833876244}, {\"t\": 58, \"Model\": \"EZ / EFA2\", \"value\": 1.1514954238263897}, {\"t\": 59, \"Model\": \"EZ / EFA2\", \"value\": 1.1934213144948274}, {\"t\": 60, \"Model\": \"EZ / EFA2\", \"value\": 1.326235380354973}, {\"t\": 61, \"Model\": \"EZ / EFA2\", \"value\": 1.459230410455632}, {\"t\": 62, \"Model\": \"EZ / EFA2\", \"value\": 1.5366415218803127}, {\"t\": 63, \"Model\": \"EZ / EFA2\", \"value\": 1.7599014909724815}, {\"t\": 64, \"Model\": \"EZ / EFA2\", \"value\": 1.437250891293786}, {\"t\": 65, \"Model\": \"EZ / EFA2\", \"value\": 1.6024592847104486}, {\"t\": 66, \"Model\": \"EZ / EFA2\", \"value\": 1.6094387828759977}, {\"t\": 67, \"Model\": \"EZ / EFA2\", \"value\": 1.5907089214934444}, {\"t\": 68, \"Model\": \"EZ / EFA2\", \"value\": 1.8051554517597879}, {\"t\": 69, \"Model\": \"EZ / EFA2\", \"value\": 1.2649531788426884}, {\"t\": 70, \"Model\": \"EZ / EFA2\", \"value\": 1.3149678196720629}, {\"t\": 71, \"Model\": \"EZ / EFA2\", \"value\": 1.0745011781369271}, {\"t\": 72, \"Model\": \"EZ / EFA2\", \"value\": 1.0833184653344574}, {\"t\": 73, \"Model\": \"EZ / EFA2\", \"value\": 1.2270111375666488}, {\"t\": 74, \"Model\": \"EZ / EFA2\", \"value\": 1.4113401820716263}, {\"t\": 75, \"Model\": \"EZ / EFA2\", \"value\": 1.6456325616586582}, {\"t\": 76, \"Model\": \"EZ / EFA2\", \"value\": 1.2152911542216884}, {\"t\": 77, \"Model\": \"EZ / EFA2\", \"value\": 1.3507811251628254}, {\"t\": 78, \"Model\": \"EZ / EFA2\", \"value\": 0.8940081659713428}, {\"t\": 79, \"Model\": \"EZ / EFA2\", \"value\": 0.726604549692297}, {\"t\": 80, \"Model\": \"EZ / EFA2\", \"value\": 0.9986449266492059}, {\"t\": 81, \"Model\": \"EZ / EFA2\", \"value\": 1.1869213470008049}, {\"t\": 82, \"Model\": \"EZ / EFA2\", \"value\": 1.2075843233679961}, {\"t\": 83, \"Model\": \"EZ / EFA2\", \"value\": 1.428917191425569}, {\"t\": 84, \"Model\": \"EZ / EFA2\", \"value\": 1.5474140353302914}, {\"t\": 85, \"Model\": \"EZ / EFA2\", \"value\": 1.5828218949113193}, {\"t\": 86, \"Model\": \"EZ / EFA2\", \"value\": 1.5855065958636487}, {\"t\": 87, \"Model\": \"EZ / EFA2\", \"value\": 1.6234586501550439}, {\"t\": 88, \"Model\": \"EZ / EFA2\", \"value\": 1.5881328826353638}, {\"t\": 89, \"Model\": \"EZ / EFA2\", \"value\": 1.5791722780032842}, {\"t\": 90, \"Model\": \"EZ / EFA2\", \"value\": 1.6197994303328755}, {\"t\": 91, \"Model\": \"EZ / EFA2\", \"value\": 0.9252595006822162}, {\"t\": 92, \"Model\": \"EZ / EFA2\", \"value\": 1.2777305784109103}, {\"t\": 93, \"Model\": \"EZ / EFA2\", \"value\": 1.1133799174479009}, {\"t\": 94, \"Model\": \"EZ / EFA2\", \"value\": 1.2503328913037421}, {\"t\": 95, \"Model\": \"EZ / EFA2\", \"value\": 1.1927746049337884}, {\"t\": 96, \"Model\": \"EZ / EFA2\", \"value\": 1.0517720612087942}, {\"t\": 97, \"Model\": \"EZ / EFA2\", \"value\": 1.0332076073810867}, {\"t\": 98, \"Model\": \"EZ / EFA2\", \"value\": 0.24016150147872395}, {\"t\": 99, \"Model\": \"EZ / EFA2\", \"value\": 0.3989004166212453}, {\"t\": 100, \"Model\": \"EZ / EFA2\", \"value\": 0.25567384981616215}, {\"t\": 101, \"Model\": \"EZ / EFA2\", \"value\": 0.0577683549588528}, {\"t\": 102, \"Model\": \"EZ / EFA2\", \"value\": 0.07552856048971535}, {\"t\": 103, \"Model\": \"EZ / EFA2\", \"value\": -0.2549797783857457}, {\"t\": 104, \"Model\": \"EZ / EFA2\", \"value\": -0.25696252450438806}, {\"t\": 105, \"Model\": \"EZ / EFA2\", \"value\": -0.17353839693907958}, {\"t\": 106, \"Model\": \"EZ / EFA2\", \"value\": 0.08076500800723352}, {\"t\": 107, \"Model\": \"EZ / EFA2\", \"value\": 0.2783292655050218}, {\"t\": 108, \"Model\": \"EZ / EFA2\", \"value\": 0.22723827275387976}, {\"t\": 109, \"Model\": \"EZ / EFA2\", \"value\": 0.35587410184905366}, {\"t\": 110, \"Model\": \"EZ / EFA2\", \"value\": 0.28603664495619796}, {\"t\": 111, \"Model\": \"EZ / EFA2\", \"value\": 0.3448238115042841}, {\"t\": 112, \"Model\": \"EZ / EFA2\", \"value\": 0.2487618302783403}, {\"t\": 113, \"Model\": \"EZ / EFA2\", \"value\": 0.2585854184624168}, {\"t\": 114, \"Model\": \"EZ / EFA2\", \"value\": -0.3304671094608693}, {\"t\": 115, \"Model\": \"EZ / EFA2\", \"value\": -0.3870603626230604}, {\"t\": 116, \"Model\": \"EZ / EFA2\", \"value\": -0.42813561876357653}, {\"t\": 117, \"Model\": \"EZ / EFA2\", \"value\": -0.3270840175501917}, {\"t\": 118, \"Model\": \"EZ / EFA2\", \"value\": -0.1607570104667957}, {\"t\": 119, \"Model\": \"EZ / EFA2\", \"value\": -0.15072745981274238}, {\"t\": 120, \"Model\": \"EZ / EFA2\", \"value\": -0.12559167804772642}, {\"t\": 121, \"Model\": \"EZ / EFA2\", \"value\": 0.11145557104123327}, {\"t\": 122, \"Model\": \"EZ / EFA2\", \"value\": -0.08054755001489866}, {\"t\": 123, \"Model\": \"EZ / EFA2\", \"value\": 0.14429852932573795}, {\"t\": 124, \"Model\": \"EZ / EFA2\", \"value\": 0.16364878010517714}, {\"t\": 125, \"Model\": \"EZ / EFA2\", \"value\": 0.13748096065808113}, {\"t\": 126, \"Model\": \"EZ / EFA2\", \"value\": 0.2096820098954595}, {\"t\": 127, \"Model\": \"EZ / EFA2\", \"value\": 0.26277067536670984}, {\"t\": 128, \"Model\": \"EZ / EFA2\", \"value\": 0.4815673965917995}, {\"t\": 129, \"Model\": \"EZ / EFA2\", \"value\": 0.2915179109057817}, {\"t\": 130, \"Model\": \"EZ / EFA2\", \"value\": 0.25120903704953434}, {\"t\": 131, \"Model\": \"EZ / EFA2\", \"value\": 0.3513931146618461}, {\"t\": 132, \"Model\": \"EZ / EFA2\", \"value\": 0.29495204097577243}, {\"t\": 133, \"Model\": \"EZ / EFA2\", \"value\": 0.3184052383485323}, {\"t\": 134, \"Model\": \"EZ / EFA2\", \"value\": 0.4984083936847128}, {\"t\": 135, \"Model\": \"EZ / EFA2\", \"value\": 0.7698517209345255}, {\"t\": 136, \"Model\": \"EZ / EFA2\", \"value\": 0.6155873744048677}, {\"t\": 137, \"Model\": \"EZ / EFA2\", \"value\": 0.6809727916568136}, {\"t\": 138, \"Model\": \"EZ / EFA2\", \"value\": 0.6440567821105105}, {\"t\": 139, \"Model\": \"EZ / EFA2\", \"value\": 0.6370527043854963}, {\"t\": 140, \"Model\": \"EZ / EFA2\", \"value\": 0.6109067487401489}, {\"t\": 141, \"Model\": \"EZ / EFA2\", \"value\": 0.8633602679649357}, {\"t\": 142, \"Model\": \"EZ / EFA2\", \"value\": 0.8550865829478198}, {\"t\": 143, \"Model\": \"EZ / EFA2\", \"value\": 0.9888311762786088}, {\"t\": 144, \"Model\": \"EZ / EFA2\", \"value\": 1.0017441594737875}, {\"t\": 145, \"Model\": \"EZ / EFA2\", \"value\": 0.9750202761617857}, {\"t\": 146, \"Model\": \"EZ / EFA2\", \"value\": 1.0920744651937184}, {\"t\": 147, \"Model\": \"EZ / EFA2\", \"value\": 1.2163531698398629}, {\"t\": 148, \"Model\": \"EZ / EFA2\", \"value\": 1.3477449540014277}, {\"t\": 149, \"Model\": \"EZ / EFA2\", \"value\": 1.1856150244005903}, {\"t\": 150, \"Model\": \"EZ / EFA2\", \"value\": 1.0654892650117063}, {\"t\": 151, \"Model\": \"EZ / EFA2\", \"value\": 0.8865517881899905}, {\"t\": 152, \"Model\": \"EZ / EFA2\", \"value\": 1.028842382292055}, {\"t\": 153, \"Model\": \"EZ / EFA2\", \"value\": 1.0984935049576734}, {\"t\": 154, \"Model\": \"EZ / EFA2\", \"value\": 0.8626384298227094}, {\"t\": 155, \"Model\": \"EZ / EFA2\", \"value\": 0.7141643081762368}, {\"t\": 156, \"Model\": \"EZ / EFA2\", \"value\": 0.3113006503156157}, {\"t\": 157, \"Model\": \"EZ / EFA2\", \"value\": 0.10331527236769489}, {\"t\": 158, \"Model\": \"EZ / EFA2\", \"value\": 0.19505053255579696}, {\"t\": 159, \"Model\": \"EZ / EFA2\", \"value\": 0.07673954892811707}, {\"t\": 160, \"Model\": \"EZ / EFA2\", \"value\": 0.20891625880199172}, {\"t\": 161, \"Model\": \"EZ / EFA2\", \"value\": 0.41078590856545816}, {\"t\": 162, \"Model\": \"EZ / EFA2\", \"value\": 0.6318778454090079}, {\"t\": 163, \"Model\": \"EZ / EFA2\", \"value\": 0.6766555686685933}, {\"t\": 164, \"Model\": \"EZ / EFA2\", \"value\": 0.7427429351928367}, {\"t\": 165, \"Model\": \"EZ / EFA2\", \"value\": 0.8136427002978053}, {\"t\": 166, \"Model\": \"EZ / EFA2\", \"value\": 0.8501296437952988}, {\"t\": 167, \"Model\": \"EZ / EFA2\", \"value\": 1.0215060595060095}, {\"t\": 168, \"Model\": \"EZ / EFA2\", \"value\": 1.0671863343493442}, {\"t\": 169, \"Model\": \"EZ / EFA2\", \"value\": 1.1201523416025339}, {\"t\": 170, \"Model\": \"EZ / EFA2\", \"value\": 0.9378240188264044}, {\"t\": 171, \"Model\": \"EZ / EFA2\", \"value\": 0.8468769909763978}, {\"t\": 172, \"Model\": \"EZ / EFA2\", \"value\": 0.9287421744472795}, {\"t\": 173, \"Model\": \"EZ / EFA2\", \"value\": 0.7802173176107772}, {\"t\": 174, \"Model\": \"EZ / EFA2\", \"value\": 0.6250294776361898}, {\"t\": 175, \"Model\": \"EZ / EFA2\", \"value\": 1.1126459319325477}, {\"t\": 176, \"Model\": \"EZ / EFA2\", \"value\": 1.201276373320752}, {\"t\": 177, \"Model\": \"EZ / EFA2\", \"value\": 1.246839861779108}, {\"t\": 178, \"Model\": \"EZ / EFA2\", \"value\": 1.3260951620957258}, {\"t\": 179, \"Model\": \"EZ / EFA2\", \"value\": 1.4892163721112865}, {\"t\": 180, \"Model\": \"EZ / EFA2\", \"value\": 1.5426862831664039}, {\"t\": 181, \"Model\": \"EZ / EFA2\", \"value\": 1.4433344071649117}, {\"t\": 182, \"Model\": \"EZ / EFA2\", \"value\": 1.5838230729448242}, {\"t\": 183, \"Model\": \"EZ / EFA2\", \"value\": 1.5117876874496687}, {\"t\": 184, \"Model\": \"EZ / EFA2\", \"value\": 1.6312271812766994}, {\"t\": 185, \"Model\": \"EZ / EFA2\", \"value\": 1.5158554591655502}, {\"t\": 186, \"Model\": \"EZ / EFA2\", \"value\": 1.6019864663298904}, {\"t\": 187, \"Model\": \"EZ / EFA2\", \"value\": 1.7014803698327796}, {\"t\": 188, \"Model\": \"EZ / EFA2\", \"value\": 1.9334264756096218}, {\"t\": 189, \"Model\": \"EZ / EFA2\", \"value\": 2.049487154636836}, {\"t\": 190, \"Model\": \"EZ / EFA2\", \"value\": 2.0853535595820176}, {\"t\": 191, \"Model\": \"EZ / EFA2\", \"value\": 2.154423022902165}, {\"t\": 192, \"Model\": \"EZ / EFA2\", \"value\": 2.2296537696731775}, {\"t\": 193, \"Model\": \"EZ / EFA2\", \"value\": 2.347372291091233}, {\"t\": 194, \"Model\": \"EZ / EFA2\", \"value\": 2.3290938670329524}, {\"t\": 195, \"Model\": \"EZ / EFA2\", \"value\": 2.374370385745806}, {\"t\": 196, \"Model\": \"EZ / EFA2\", \"value\": 2.375341800588558}, {\"t\": 197, \"Model\": \"EZ / EFA2\", \"value\": 2.371582353985559}, {\"t\": 198, \"Model\": \"EZ / EFA2\", \"value\": 2.3979741604114224}, {\"t\": 199, \"Model\": \"EZ / EFA2\", \"value\": 2.676671334457751}]}}, {\"mode\": \"vega-lite\"});\n",
       "</script>"
      ],
      "text/plain": [
       "alt.Chart(...)"
      ]
     },
     "execution_count": 17,
     "metadata": {},
     "output_type": "execute_result"
    }
   ],
   "source": [
    "bfdf = pd.DataFrame.from_dict(bf)\n",
    "bfdf.rename({\n",
    "    'm5':'AZ', \n",
    "    'm7':'EZ',\n",
    "    'm9':'EFA2',\n",
    "#     'm10':'EFA2.C',\n",
    "    'm15':'EFA1',\n",
    "    'm16':'EFA3'\n",
    "}, axis=1, inplace=True)\n",
    "\n",
    "bfdf['t']  = np.arange(30, len(bfdf)+30)\n",
    "for i in ['AZ', 'EFA2']:\n",
    "    bfdf['EZ / '+str(i)] = bfdf['EZ']-bfdf[str(i)]\n",
    "bfdf.drop(['EFA2', 'EFA1', 'EZ', 'EFA3', 'AZ'], axis=1, inplace=True)\n",
    "bfdf = bfdf.melt(id_vars='t', var_name='Model')\n",
    "\n",
    "width = 600\n",
    "height = 400\n",
    "c = alt.Chart(bfdf).mark_line(\n",
    "    strokeWidth = 2,\n",
    "    ).encode(\n",
    "    alt.X('t:Q', title='Index i', scale=alt.Scale(domain=[0,200])),\n",
    "    alt.Y('value:Q', title='Log Bayes Factor'),\n",
    "    alt.Color('Model')\n",
    "    ).properties(\n",
    "    width=width, height=height\n",
    "    ).configure_legend(\n",
    "    titleFontSize=16,\n",
    "    labelFontSize=14,\n",
    "    symbolStrokeWidth=6\n",
    "    ).configure_axis(\n",
    "    labelFontSize=14,\n",
    "    titleFontSize=16\n",
    ")\n",
    "c"
   ]
  },
  {
   "cell_type": "code",
   "execution_count": 6,
   "metadata": {},
   "outputs": [
    {
     "data": {
      "text/plain": [
       "{'m5': -1331.267511407236,\n",
       " 'm7': -1330.9822492129754,\n",
       " 'm9': -1333.6589205474331,\n",
       " 'm15': -1391.8250687157076,\n",
       " 'm16': -1340.209421550288}"
      ]
     },
     "execution_count": 6,
     "metadata": {},
     "output_type": "execute_result"
    }
   ],
   "source": [
    "model_evidence = dict()\n",
    "for m in ['m'+str(i) for i in model_nums]:\n",
    "    model_evidence[m] = bf[m][-1]\n",
    "\n",
    "model_evidence"
   ]
  },
  {
   "cell_type": "code",
   "execution_count": 7,
   "metadata": {},
   "outputs": [
    {
     "name": "stdout",
     "output_type": "stream",
     "text": [
      "m5 1.3\n",
      "m9 14.5\n",
      "m15 265277718317492757027880960.0\n",
      "m16 10169.7\n"
     ]
    }
   ],
   "source": [
    "for m in ['m'+str(i) for i in [5,9,15,16]]:\n",
    "    a = np.exp(bf['m7'][-1]-bf[m][-1])\n",
    "    print(m, \"%.1f\"%a)"
   ]
  },
  {
   "cell_type": "code",
   "execution_count": 8,
   "metadata": {},
   "outputs": [
    {
     "name": "stdout",
     "output_type": "stream",
     "text": [
      "1.8248920661015861e+25\n",
      "699.594584914351\n"
     ]
    }
   ],
   "source": [
    "for m in ['m'+str(i) for i in [15, 16]]:\n",
    "    a = np.exp(bf['m9'][-1]-bf[m][-1])\n",
    "    print(a)"
   ]
  },
  {
   "cell_type": "code",
   "execution_count": 9,
   "metadata": {},
   "outputs": [
    {
     "name": "stdout",
     "output_type": "stream",
     "text": [
      "699.594584914351\n"
     ]
    }
   ],
   "source": [
    "for m in ['m'+str(i) for i in [16]]:\n",
    "    a = np.exp(bf['m9'][-1]-bf[m][-1])\n",
    "    print(a)"
   ]
  },
  {
   "cell_type": "markdown",
   "metadata": {},
   "source": [
    "## Scoring Rules\n"
   ]
  },
  {
   "cell_type": "code",
   "execution_count": 10,
   "metadata": {},
   "outputs": [],
   "source": [
    "# load existing results\n",
    "scrl = dict()\n",
    "for model in model_nums:\n",
    "    scrl['m'+str(model)] = np.cumsum(load_obj('scoring_rule', log_dirs['m'+str(model)])[31:])\n"
   ]
  },
  {
   "cell_type": "code",
   "execution_count": 11,
   "metadata": {},
   "outputs": [
    {
     "ename": "KeyError",
     "evalue": "'EFA2.C'",
     "output_type": "error",
     "traceback": [
      "\u001b[0;31m---------------------------------------------------------------------------\u001b[0m",
      "\u001b[0;31mKeyError\u001b[0m                                  Traceback (most recent call last)",
      "\u001b[0;32m~/anaconda3/envs/pystan/lib/python3.7/site-packages/pandas/core/indexes/base.py\u001b[0m in \u001b[0;36mget_loc\u001b[0;34m(self, key, method, tolerance)\u001b[0m\n\u001b[1;32m   2645\u001b[0m             \u001b[0;32mtry\u001b[0m\u001b[0;34m:\u001b[0m\u001b[0;34m\u001b[0m\u001b[0;34m\u001b[0m\u001b[0m\n\u001b[0;32m-> 2646\u001b[0;31m                 \u001b[0;32mreturn\u001b[0m \u001b[0mself\u001b[0m\u001b[0;34m.\u001b[0m\u001b[0m_engine\u001b[0m\u001b[0;34m.\u001b[0m\u001b[0mget_loc\u001b[0m\u001b[0;34m(\u001b[0m\u001b[0mkey\u001b[0m\u001b[0;34m)\u001b[0m\u001b[0;34m\u001b[0m\u001b[0;34m\u001b[0m\u001b[0m\n\u001b[0m\u001b[1;32m   2647\u001b[0m             \u001b[0;32mexcept\u001b[0m \u001b[0mKeyError\u001b[0m\u001b[0;34m:\u001b[0m\u001b[0;34m\u001b[0m\u001b[0;34m\u001b[0m\u001b[0m\n",
      "\u001b[0;32mpandas/_libs/index.pyx\u001b[0m in \u001b[0;36mpandas._libs.index.IndexEngine.get_loc\u001b[0;34m()\u001b[0m\n",
      "\u001b[0;32mpandas/_libs/index.pyx\u001b[0m in \u001b[0;36mpandas._libs.index.IndexEngine.get_loc\u001b[0;34m()\u001b[0m\n",
      "\u001b[0;32mpandas/_libs/hashtable_class_helper.pxi\u001b[0m in \u001b[0;36mpandas._libs.hashtable.PyObjectHashTable.get_item\u001b[0;34m()\u001b[0m\n",
      "\u001b[0;32mpandas/_libs/hashtable_class_helper.pxi\u001b[0m in \u001b[0;36mpandas._libs.hashtable.PyObjectHashTable.get_item\u001b[0;34m()\u001b[0m\n",
      "\u001b[0;31mKeyError\u001b[0m: 'EFA2.C'",
      "\nDuring handling of the above exception, another exception occurred:\n",
      "\u001b[0;31mKeyError\u001b[0m                                  Traceback (most recent call last)",
      "\u001b[0;32m<ipython-input-11-d2840fe97c58>\u001b[0m in \u001b[0;36m<module>\u001b[0;34m\u001b[0m\n\u001b[1;32m     11\u001b[0m \u001b[0mscrldf\u001b[0m\u001b[0;34m[\u001b[0m\u001b[0;34m't'\u001b[0m\u001b[0;34m]\u001b[0m  \u001b[0;34m=\u001b[0m \u001b[0mnp\u001b[0m\u001b[0;34m.\u001b[0m\u001b[0marange\u001b[0m\u001b[0;34m(\u001b[0m\u001b[0;36m30\u001b[0m\u001b[0;34m,\u001b[0m \u001b[0mlen\u001b[0m\u001b[0;34m(\u001b[0m\u001b[0mscrldf\u001b[0m\u001b[0;34m)\u001b[0m\u001b[0;34m+\u001b[0m\u001b[0;36m30\u001b[0m\u001b[0;34m)\u001b[0m\u001b[0;34m\u001b[0m\u001b[0;34m\u001b[0m\u001b[0m\n\u001b[1;32m     12\u001b[0m \u001b[0;32mfor\u001b[0m \u001b[0mi\u001b[0m \u001b[0;32min\u001b[0m \u001b[0;34m[\u001b[0m\u001b[0;34m'EFA2'\u001b[0m\u001b[0;34m,\u001b[0m \u001b[0;34m'EFA1'\u001b[0m\u001b[0;34m,\u001b[0m \u001b[0;34m'AZ'\u001b[0m\u001b[0;34m,\u001b[0m \u001b[0;34m'EFA3'\u001b[0m\u001b[0;34m,\u001b[0m \u001b[0;34m'EFA2.C'\u001b[0m\u001b[0;34m]\u001b[0m\u001b[0;34m:\u001b[0m\u001b[0;34m\u001b[0m\u001b[0;34m\u001b[0m\u001b[0m\n\u001b[0;32m---> 13\u001b[0;31m     \u001b[0mscrldf\u001b[0m\u001b[0;34m[\u001b[0m\u001b[0mstr\u001b[0m\u001b[0;34m(\u001b[0m\u001b[0mi\u001b[0m\u001b[0;34m)\u001b[0m\u001b[0;34m+\u001b[0m\u001b[0;34m' - EZ'\u001b[0m\u001b[0;34m]\u001b[0m \u001b[0;34m=\u001b[0m \u001b[0mscrldf\u001b[0m\u001b[0;34m[\u001b[0m\u001b[0mstr\u001b[0m\u001b[0;34m(\u001b[0m\u001b[0mi\u001b[0m\u001b[0;34m)\u001b[0m\u001b[0;34m]\u001b[0m\u001b[0;34m-\u001b[0m\u001b[0mscrldf\u001b[0m\u001b[0;34m[\u001b[0m\u001b[0;34m'EZ'\u001b[0m\u001b[0;34m]\u001b[0m\u001b[0;34m\u001b[0m\u001b[0;34m\u001b[0m\u001b[0m\n\u001b[0m\u001b[1;32m     14\u001b[0m \u001b[0mscrldf\u001b[0m\u001b[0;34m.\u001b[0m\u001b[0mdrop\u001b[0m\u001b[0;34m(\u001b[0m\u001b[0;34m[\u001b[0m\u001b[0;34m'EFA2'\u001b[0m\u001b[0;34m,\u001b[0m \u001b[0;34m'EFA1'\u001b[0m\u001b[0;34m,\u001b[0m \u001b[0;34m'EZ'\u001b[0m\u001b[0;34m,\u001b[0m \u001b[0;34m'EFA3'\u001b[0m\u001b[0;34m,\u001b[0m \u001b[0;34m'EFA2.C'\u001b[0m\u001b[0;34m,\u001b[0m \u001b[0;34m'AZ'\u001b[0m\u001b[0;34m]\u001b[0m\u001b[0;34m,\u001b[0m \u001b[0maxis\u001b[0m\u001b[0;34m=\u001b[0m\u001b[0;36m1\u001b[0m\u001b[0;34m,\u001b[0m \u001b[0minplace\u001b[0m\u001b[0;34m=\u001b[0m\u001b[0;32mTrue\u001b[0m\u001b[0;34m)\u001b[0m\u001b[0;34m\u001b[0m\u001b[0;34m\u001b[0m\u001b[0m\n\u001b[1;32m     15\u001b[0m \u001b[0mscrldf\u001b[0m \u001b[0;34m=\u001b[0m \u001b[0mscrldf\u001b[0m\u001b[0;34m.\u001b[0m\u001b[0mmelt\u001b[0m\u001b[0;34m(\u001b[0m\u001b[0mid_vars\u001b[0m\u001b[0;34m=\u001b[0m\u001b[0;34m't'\u001b[0m\u001b[0;34m,\u001b[0m \u001b[0mvar_name\u001b[0m\u001b[0;34m=\u001b[0m\u001b[0;34m'Model'\u001b[0m\u001b[0;34m)\u001b[0m\u001b[0;34m\u001b[0m\u001b[0;34m\u001b[0m\u001b[0m\n",
      "\u001b[0;32m~/anaconda3/envs/pystan/lib/python3.7/site-packages/pandas/core/frame.py\u001b[0m in \u001b[0;36m__getitem__\u001b[0;34m(self, key)\u001b[0m\n\u001b[1;32m   2798\u001b[0m             \u001b[0;32mif\u001b[0m \u001b[0mself\u001b[0m\u001b[0;34m.\u001b[0m\u001b[0mcolumns\u001b[0m\u001b[0;34m.\u001b[0m\u001b[0mnlevels\u001b[0m \u001b[0;34m>\u001b[0m \u001b[0;36m1\u001b[0m\u001b[0;34m:\u001b[0m\u001b[0;34m\u001b[0m\u001b[0;34m\u001b[0m\u001b[0m\n\u001b[1;32m   2799\u001b[0m                 \u001b[0;32mreturn\u001b[0m \u001b[0mself\u001b[0m\u001b[0;34m.\u001b[0m\u001b[0m_getitem_multilevel\u001b[0m\u001b[0;34m(\u001b[0m\u001b[0mkey\u001b[0m\u001b[0;34m)\u001b[0m\u001b[0;34m\u001b[0m\u001b[0;34m\u001b[0m\u001b[0m\n\u001b[0;32m-> 2800\u001b[0;31m             \u001b[0mindexer\u001b[0m \u001b[0;34m=\u001b[0m \u001b[0mself\u001b[0m\u001b[0;34m.\u001b[0m\u001b[0mcolumns\u001b[0m\u001b[0;34m.\u001b[0m\u001b[0mget_loc\u001b[0m\u001b[0;34m(\u001b[0m\u001b[0mkey\u001b[0m\u001b[0;34m)\u001b[0m\u001b[0;34m\u001b[0m\u001b[0;34m\u001b[0m\u001b[0m\n\u001b[0m\u001b[1;32m   2801\u001b[0m             \u001b[0;32mif\u001b[0m \u001b[0mis_integer\u001b[0m\u001b[0;34m(\u001b[0m\u001b[0mindexer\u001b[0m\u001b[0;34m)\u001b[0m\u001b[0;34m:\u001b[0m\u001b[0;34m\u001b[0m\u001b[0;34m\u001b[0m\u001b[0m\n\u001b[1;32m   2802\u001b[0m                 \u001b[0mindexer\u001b[0m \u001b[0;34m=\u001b[0m \u001b[0;34m[\u001b[0m\u001b[0mindexer\u001b[0m\u001b[0;34m]\u001b[0m\u001b[0;34m\u001b[0m\u001b[0;34m\u001b[0m\u001b[0m\n",
      "\u001b[0;32m~/anaconda3/envs/pystan/lib/python3.7/site-packages/pandas/core/indexes/base.py\u001b[0m in \u001b[0;36mget_loc\u001b[0;34m(self, key, method, tolerance)\u001b[0m\n\u001b[1;32m   2646\u001b[0m                 \u001b[0;32mreturn\u001b[0m \u001b[0mself\u001b[0m\u001b[0;34m.\u001b[0m\u001b[0m_engine\u001b[0m\u001b[0;34m.\u001b[0m\u001b[0mget_loc\u001b[0m\u001b[0;34m(\u001b[0m\u001b[0mkey\u001b[0m\u001b[0;34m)\u001b[0m\u001b[0;34m\u001b[0m\u001b[0;34m\u001b[0m\u001b[0m\n\u001b[1;32m   2647\u001b[0m             \u001b[0;32mexcept\u001b[0m \u001b[0mKeyError\u001b[0m\u001b[0;34m:\u001b[0m\u001b[0;34m\u001b[0m\u001b[0;34m\u001b[0m\u001b[0m\n\u001b[0;32m-> 2648\u001b[0;31m                 \u001b[0;32mreturn\u001b[0m \u001b[0mself\u001b[0m\u001b[0;34m.\u001b[0m\u001b[0m_engine\u001b[0m\u001b[0;34m.\u001b[0m\u001b[0mget_loc\u001b[0m\u001b[0;34m(\u001b[0m\u001b[0mself\u001b[0m\u001b[0;34m.\u001b[0m\u001b[0m_maybe_cast_indexer\u001b[0m\u001b[0;34m(\u001b[0m\u001b[0mkey\u001b[0m\u001b[0;34m)\u001b[0m\u001b[0;34m)\u001b[0m\u001b[0;34m\u001b[0m\u001b[0;34m\u001b[0m\u001b[0m\n\u001b[0m\u001b[1;32m   2649\u001b[0m         \u001b[0mindexer\u001b[0m \u001b[0;34m=\u001b[0m \u001b[0mself\u001b[0m\u001b[0;34m.\u001b[0m\u001b[0mget_indexer\u001b[0m\u001b[0;34m(\u001b[0m\u001b[0;34m[\u001b[0m\u001b[0mkey\u001b[0m\u001b[0;34m]\u001b[0m\u001b[0;34m,\u001b[0m \u001b[0mmethod\u001b[0m\u001b[0;34m=\u001b[0m\u001b[0mmethod\u001b[0m\u001b[0;34m,\u001b[0m \u001b[0mtolerance\u001b[0m\u001b[0;34m=\u001b[0m\u001b[0mtolerance\u001b[0m\u001b[0;34m)\u001b[0m\u001b[0;34m\u001b[0m\u001b[0;34m\u001b[0m\u001b[0m\n\u001b[1;32m   2650\u001b[0m         \u001b[0;32mif\u001b[0m \u001b[0mindexer\u001b[0m\u001b[0;34m.\u001b[0m\u001b[0mndim\u001b[0m \u001b[0;34m>\u001b[0m \u001b[0;36m1\u001b[0m \u001b[0;32mor\u001b[0m \u001b[0mindexer\u001b[0m\u001b[0;34m.\u001b[0m\u001b[0msize\u001b[0m \u001b[0;34m>\u001b[0m \u001b[0;36m1\u001b[0m\u001b[0;34m:\u001b[0m\u001b[0;34m\u001b[0m\u001b[0;34m\u001b[0m\u001b[0m\n",
      "\u001b[0;32mpandas/_libs/index.pyx\u001b[0m in \u001b[0;36mpandas._libs.index.IndexEngine.get_loc\u001b[0;34m()\u001b[0m\n",
      "\u001b[0;32mpandas/_libs/index.pyx\u001b[0m in \u001b[0;36mpandas._libs.index.IndexEngine.get_loc\u001b[0;34m()\u001b[0m\n",
      "\u001b[0;32mpandas/_libs/hashtable_class_helper.pxi\u001b[0m in \u001b[0;36mpandas._libs.hashtable.PyObjectHashTable.get_item\u001b[0;34m()\u001b[0m\n",
      "\u001b[0;32mpandas/_libs/hashtable_class_helper.pxi\u001b[0m in \u001b[0;36mpandas._libs.hashtable.PyObjectHashTable.get_item\u001b[0;34m()\u001b[0m\n",
      "\u001b[0;31mKeyError\u001b[0m: 'EFA2.C'"
     ]
    }
   ],
   "source": [
    "scrldf = pd.DataFrame.from_dict(scrl)\n",
    "scrldf.rename({\n",
    "    'm5':'AZ', \n",
    "    'm7':'EZ',\n",
    "    'm9':'EFA2',\n",
    "    'm10':'EFA2.C',\n",
    "    'm15':'EFA1',\n",
    "    'm16':'EFA3'\n",
    "}, axis=1, inplace=True)\n",
    "\n",
    "scrldf['t']  = np.arange(30, len(scrldf)+30)\n",
    "for i in ['EFA2', 'EFA1', 'AZ', 'EFA3', 'EFA2.C']:\n",
    "    scrldf[str(i)+' - EZ'] = scrldf[str(i)]-scrldf['EZ']\n",
    "scrldf.drop(['EFA2', 'EFA1', 'EZ', 'EFA3', 'EFA2.C', 'AZ'], axis=1, inplace=True)\n",
    "scrldf = scrldf.melt(id_vars='t', var_name='Model')\n"
   ]
  },
  {
   "cell_type": "code",
   "execution_count": null,
   "metadata": {},
   "outputs": [],
   "source": [
    "width = 600\n",
    "height = 400\n",
    "c = alt.Chart(scrldf).mark_line(\n",
    "    strokeWidth = 2,\n",
    "    ).encode(\n",
    "    alt.X('t:Q', title='Index i', scale=alt.Scale(domain=[0,200])),\n",
    "    alt.Y('value:Q', title='Variogram Score'),\n",
    "    alt.Color('Model')\n",
    "    ).properties(\n",
    "    width=width, height=height\n",
    "    ).configure_legend(\n",
    "    titleFontSize=16,\n",
    "    labelFontSize=14,\n",
    "    symbolStrokeWidth=6\n",
    "    ).configure_axis(\n",
    "    labelFontSize=14,\n",
    "    titleFontSize=16\n",
    ").interactive()\n",
    "\n",
    "c\n"
   ]
  },
  {
   "cell_type": "code",
   "execution_count": null,
   "metadata": {},
   "outputs": [],
   "source": []
  },
  {
   "cell_type": "code",
   "execution_count": null,
   "metadata": {},
   "outputs": [],
   "source": []
  }
 ],
 "metadata": {
  "kernelspec": {
   "display_name": "Python 3",
   "language": "python",
   "name": "python3"
  },
  "language_info": {
   "codemirror_mode": {
    "name": "ipython",
    "version": 3
   },
   "file_extension": ".py",
   "mimetype": "text/x-python",
   "name": "python",
   "nbconvert_exporter": "python",
   "pygments_lexer": "ipython3",
   "version": "3.7.6"
  }
 },
 "nbformat": 4,
 "nbformat_minor": 2
}
