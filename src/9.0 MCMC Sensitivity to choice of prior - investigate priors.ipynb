{
 "cells": [
  {
   "cell_type": "code",
   "execution_count": 1,
   "metadata": {},
   "outputs": [],
   "source": [
    "from codebase.classes import Particles\n",
    "from codebase.classes_data import Data\n",
    "import pandas as pd\n",
    "import numpy as np\n",
    "from codebase.file_utils import (\n",
    "    save_obj,\n",
    "    load_obj,\n",
    "    make_folder,\n",
    "    path_backslash\n",
    ")\n",
    "from codebase.ibis import essl, exp_and_normalise, model_phonebook, run_mcmc\n",
    "from codebase.plot import get_post_df, plot_density\n",
    "from codebase.run_tlk import model_phonebook\n",
    "from tqdm import tqdm\n",
    "from scipy.special import logsumexp\n",
    "import altair as alt\n",
    "alt.data_transformers.disable_max_rows()\n",
    "\n",
    "\n",
    "import pystan"
   ]
  },
  {
   "cell_type": "markdown",
   "metadata": {},
   "source": [
    "## Inverse Gamma"
   ]
  },
  {
   "cell_type": "code",
   "execution_count": 68,
   "metadata": {},
   "outputs": [],
   "source": [
    "prior_models_invgamma=dict()\n",
    "particles_invgamma=dict()"
   ]
  },
  {
   "cell_type": "code",
   "execution_count": 70,
   "metadata": {
    "scrolled": false
   },
   "outputs": [
    {
     "name": "stderr",
     "output_type": "stream",
     "text": [
      "INFO:pystan:COMPILING THE C++ CODE FOR MODEL anon_model_ef0acf620f81d6f78fce9098e0530704 NOW.\n"
     ]
    }
   ],
   "source": [
    "c0 = 10\n",
    "model_code = \"\"\"\n",
    "data {\n",
    "  int c0;\n",
    "}\n",
    "\n",
    "generated quantities{\n",
    "  vector<lower=0>[1] sigma;\n",
    "  vector<lower=0>[1] sigma_square;\n",
    "  sigma_square[1] = inv_gamma_rng(c0,c0);\n",
    "  sigma = sqrt(sigma_square);\n",
    "}\n",
    "\"\"\"\n",
    "\n",
    "sm = pystan.StanModel(model_code=model_code, verbose=False)\n",
    "# save_obj(sm, \"sm_prior\", log_dir)\n",
    "prior_models_invgamma[c0] = sm\n",
    "\n",
    "param_names = ['sigma']\n",
    "fit_run = prior_models_invgamma[c0].sampling(\n",
    "    data={'c0':c0},\n",
    "    iter=100,\n",
    "    warmup=0,\n",
    "    chains=1,\n",
    "    algorithm=\"Fixed_param\",\n",
    "    n_jobs=1\n",
    ")\n",
    "\n",
    "particles_invgamma[c0] = fit_run.extract(permuted=False, pars=param_names)\n"
   ]
  },
  {
   "cell_type": "code",
   "execution_count": 71,
   "metadata": {},
   "outputs": [
    {
     "data": {
      "text/html": [
       "\n",
       "<div id=\"altair-viz-1f0d733185e047b3ab78cb2914177c80\"></div>\n",
       "<script type=\"text/javascript\">\n",
       "  (function(spec, embedOpt){\n",
       "    let outputDiv = document.currentScript.previousElementSibling;\n",
       "    if (outputDiv.id !== \"altair-viz-1f0d733185e047b3ab78cb2914177c80\") {\n",
       "      outputDiv = document.getElementById(\"altair-viz-1f0d733185e047b3ab78cb2914177c80\");\n",
       "    }\n",
       "    const paths = {\n",
       "      \"vega\": \"https://cdn.jsdelivr.net/npm//vega@5?noext\",\n",
       "      \"vega-lib\": \"https://cdn.jsdelivr.net/npm//vega-lib?noext\",\n",
       "      \"vega-lite\": \"https://cdn.jsdelivr.net/npm//vega-lite@4.8.1?noext\",\n",
       "      \"vega-embed\": \"https://cdn.jsdelivr.net/npm//vega-embed@6?noext\",\n",
       "    };\n",
       "\n",
       "    function loadScript(lib) {\n",
       "      return new Promise(function(resolve, reject) {\n",
       "        var s = document.createElement('script');\n",
       "        s.src = paths[lib];\n",
       "        s.async = true;\n",
       "        s.onload = () => resolve(paths[lib]);\n",
       "        s.onerror = () => reject(`Error loading script: ${paths[lib]}`);\n",
       "        document.getElementsByTagName(\"head\")[0].appendChild(s);\n",
       "      });\n",
       "    }\n",
       "\n",
       "    function showError(err) {\n",
       "      outputDiv.innerHTML = `<div class=\"error\" style=\"color:red;\">${err}</div>`;\n",
       "      throw err;\n",
       "    }\n",
       "\n",
       "    function displayChart(vegaEmbed) {\n",
       "      vegaEmbed(outputDiv, spec, embedOpt)\n",
       "        .catch(err => showError(`Javascript Error: ${err.message}<br>This usually means there's a typo in your chart specification. See the javascript console for the full traceback.`));\n",
       "    }\n",
       "\n",
       "    if(typeof define === \"function\" && define.amd) {\n",
       "      requirejs.config({paths});\n",
       "      require([\"vega-embed\"], displayChart, err => showError(`Error loading script: ${err.message}`));\n",
       "    } else if (typeof vegaEmbed === \"function\") {\n",
       "      displayChart(vegaEmbed);\n",
       "    } else {\n",
       "      loadScript(\"vega\")\n",
       "        .then(() => loadScript(\"vega-lite\"))\n",
       "        .then(() => loadScript(\"vega-embed\"))\n",
       "        .catch(showError)\n",
       "        .then(() => displayChart(vegaEmbed));\n",
       "    }\n",
       "  })({\"config\": {\"view\": {\"continuousWidth\": 400, \"continuousHeight\": 300}}, \"data\": {\"name\": \"data-9843f7eda88d7f08fe9c413615271ec6\"}, \"mark\": {\"type\": \"area\", \"opacity\": 0.5}, \"encoding\": {\"color\": {\"type\": \"nominal\", \"field\": \"source\", \"legend\": {\"labelFontSize\": 14, \"orient\": \"top\"}, \"title\": \"Inference Algorithm\"}, \"column\": {\"type\": \"quantitative\", \"field\": \"col\"}, \"row\": {\"type\": \"quantitative\", \"field\": \"row\"}, \"x\": {\"type\": \"quantitative\", \"field\": \"value\", \"title\": null}, \"y\": {\"type\": \"quantitative\", \"field\": \"density\"}}, \"height\": 200, \"resolve\": {\"scale\": {\"x\": \"independent\"}}, \"selection\": {\"selector029\": {\"type\": \"interval\", \"bind\": \"scales\", \"encodings\": [\"x\", \"y\"]}}, \"transform\": [{\"fold\": [\"value\"]}, {\"density\": \"value\", \"groupby\": [\"cn\", \"row\", \"col\", \"source\"]}], \"width\": 500, \"$schema\": \"https://vega.github.io/schema/vega-lite/v4.8.1.json\", \"datasets\": {\"data-9843f7eda88d7f08fe9c413615271ec6\": [{\"idx\": 0, \"row\": 0, \"col\": 0, \"value\": 1.4383127299532763, \"source\": \"1\"}, {\"idx\": 1, \"row\": 0, \"col\": 0, \"value\": 0.5468026126851154, \"source\": \"1\"}, {\"idx\": 2, \"row\": 0, \"col\": 0, \"value\": 0.6075183917669551, \"source\": \"1\"}, {\"idx\": 3, \"row\": 0, \"col\": 0, \"value\": 0.9436502182753927, \"source\": \"1\"}, {\"idx\": 4, \"row\": 0, \"col\": 0, \"value\": 1.7626157788530876, \"source\": \"1\"}, {\"idx\": 5, \"row\": 0, \"col\": 0, \"value\": 0.998618911430584, \"source\": \"1\"}, {\"idx\": 6, \"row\": 0, \"col\": 0, \"value\": 1.905293616580863, \"source\": \"1\"}, {\"idx\": 7, \"row\": 0, \"col\": 0, \"value\": 1.0009526522577992, \"source\": \"1\"}, {\"idx\": 8, \"row\": 0, \"col\": 0, \"value\": 2.6209785127466576, \"source\": \"1\"}, {\"idx\": 9, \"row\": 0, \"col\": 0, \"value\": 0.7453922881061826, \"source\": \"1\"}, {\"idx\": 10, \"row\": 0, \"col\": 0, \"value\": 1.930971287671584, \"source\": \"1\"}, {\"idx\": 11, \"row\": 0, \"col\": 0, \"value\": 5.140274680637527, \"source\": \"1\"}, {\"idx\": 12, \"row\": 0, \"col\": 0, \"value\": 0.7599279594893125, \"source\": \"1\"}, {\"idx\": 13, \"row\": 0, \"col\": 0, \"value\": 1.0228553632875372, \"source\": \"1\"}, {\"idx\": 14, \"row\": 0, \"col\": 0, \"value\": 0.6881640121096952, \"source\": \"1\"}, {\"idx\": 15, \"row\": 0, \"col\": 0, \"value\": 1.5021395231725088, \"source\": \"1\"}, {\"idx\": 16, \"row\": 0, \"col\": 0, \"value\": 2.235435567068431, \"source\": \"1\"}, {\"idx\": 17, \"row\": 0, \"col\": 0, \"value\": 1.2829454164460947, \"source\": \"1\"}, {\"idx\": 18, \"row\": 0, \"col\": 0, \"value\": 0.8659714119124247, \"source\": \"1\"}, {\"idx\": 19, \"row\": 0, \"col\": 0, \"value\": 2.0508625553987607, \"source\": \"1\"}, {\"idx\": 20, \"row\": 0, \"col\": 0, \"value\": 1.6691199596323794, \"source\": \"1\"}, {\"idx\": 21, \"row\": 0, \"col\": 0, \"value\": 0.9869987054515131, \"source\": \"1\"}, {\"idx\": 22, \"row\": 0, \"col\": 0, \"value\": 3.4441437382582696, \"source\": \"1\"}, {\"idx\": 23, \"row\": 0, \"col\": 0, \"value\": 1.1156342556848529, \"source\": \"1\"}, {\"idx\": 24, \"row\": 0, \"col\": 0, \"value\": 0.5202337040650568, \"source\": \"1\"}, {\"idx\": 25, \"row\": 0, \"col\": 0, \"value\": 2.24965237986565, \"source\": \"1\"}, {\"idx\": 26, \"row\": 0, \"col\": 0, \"value\": 0.9922635574440948, \"source\": \"1\"}, {\"idx\": 27, \"row\": 0, \"col\": 0, \"value\": 0.7025313931613796, \"source\": \"1\"}, {\"idx\": 28, \"row\": 0, \"col\": 0, \"value\": 0.8421649392215823, \"source\": \"1\"}, {\"idx\": 29, \"row\": 0, \"col\": 0, \"value\": 1.3695300864612026, \"source\": \"1\"}, {\"idx\": 30, \"row\": 0, \"col\": 0, \"value\": 2.4342679002922067, \"source\": \"1\"}, {\"idx\": 31, \"row\": 0, \"col\": 0, \"value\": 1.9324702170223564, \"source\": \"1\"}, {\"idx\": 32, \"row\": 0, \"col\": 0, \"value\": 1.2072075041629633, \"source\": \"1\"}, {\"idx\": 33, \"row\": 0, \"col\": 0, \"value\": 1.277904416618599, \"source\": \"1\"}, {\"idx\": 34, \"row\": 0, \"col\": 0, \"value\": 2.31319278829632, \"source\": \"1\"}, {\"idx\": 35, \"row\": 0, \"col\": 0, \"value\": 0.5995835160399182, \"source\": \"1\"}, {\"idx\": 36, \"row\": 0, \"col\": 0, \"value\": 1.2332366507797086, \"source\": \"1\"}, {\"idx\": 37, \"row\": 0, \"col\": 0, \"value\": 1.8166909742940478, \"source\": \"1\"}, {\"idx\": 38, \"row\": 0, \"col\": 0, \"value\": 0.7877849715782782, \"source\": \"1\"}, {\"idx\": 39, \"row\": 0, \"col\": 0, \"value\": 0.6893838962430844, \"source\": \"1\"}, {\"idx\": 40, \"row\": 0, \"col\": 0, \"value\": 1.4235235523917442, \"source\": \"1\"}, {\"idx\": 41, \"row\": 0, \"col\": 0, \"value\": 0.9440798967941999, \"source\": \"1\"}, {\"idx\": 42, \"row\": 0, \"col\": 0, \"value\": 0.5178374426302289, \"source\": \"1\"}, {\"idx\": 43, \"row\": 0, \"col\": 0, \"value\": 1.1411851947692486, \"source\": \"1\"}, {\"idx\": 44, \"row\": 0, \"col\": 0, \"value\": 1.5955319754109474, \"source\": \"1\"}, {\"idx\": 45, \"row\": 0, \"col\": 0, \"value\": 1.479799056580007, \"source\": \"1\"}, {\"idx\": 46, \"row\": 0, \"col\": 0, \"value\": 1.4704739510730742, \"source\": \"1\"}, {\"idx\": 47, \"row\": 0, \"col\": 0, \"value\": 1.7196514204839743, \"source\": \"1\"}, {\"idx\": 48, \"row\": 0, \"col\": 0, \"value\": 3.8699941624872354, \"source\": \"1\"}, {\"idx\": 49, \"row\": 0, \"col\": 0, \"value\": 1.9955843196566623, \"source\": \"1\"}, {\"idx\": 50, \"row\": 0, \"col\": 0, \"value\": 1.8618420147321346, \"source\": \"1\"}, {\"idx\": 51, \"row\": 0, \"col\": 0, \"value\": 0.5591920612421476, \"source\": \"1\"}, {\"idx\": 52, \"row\": 0, \"col\": 0, \"value\": 0.9891121799768613, \"source\": \"1\"}, {\"idx\": 53, \"row\": 0, \"col\": 0, \"value\": 0.9408966358649251, \"source\": \"1\"}, {\"idx\": 54, \"row\": 0, \"col\": 0, \"value\": 1.3594670451117163, \"source\": \"1\"}, {\"idx\": 55, \"row\": 0, \"col\": 0, \"value\": 0.9272179605317216, \"source\": \"1\"}, {\"idx\": 56, \"row\": 0, \"col\": 0, \"value\": 1.22872356549482, \"source\": \"1\"}, {\"idx\": 57, \"row\": 0, \"col\": 0, \"value\": 0.5310862554734194, \"source\": \"1\"}, {\"idx\": 58, \"row\": 0, \"col\": 0, \"value\": 1.3043391751698465, \"source\": \"1\"}, {\"idx\": 59, \"row\": 0, \"col\": 0, \"value\": 0.9685552501647778, \"source\": \"1\"}, {\"idx\": 60, \"row\": 0, \"col\": 0, \"value\": 0.826760409797154, \"source\": \"1\"}, {\"idx\": 61, \"row\": 0, \"col\": 0, \"value\": 4.772853534220722, \"source\": \"1\"}, {\"idx\": 62, \"row\": 0, \"col\": 0, \"value\": 1.4217063142859472, \"source\": \"1\"}, {\"idx\": 63, \"row\": 0, \"col\": 0, \"value\": 0.8065179033992118, \"source\": \"1\"}, {\"idx\": 64, \"row\": 0, \"col\": 0, \"value\": 1.9912318930383637, \"source\": \"1\"}, {\"idx\": 65, \"row\": 0, \"col\": 0, \"value\": 3.2600904107146174, \"source\": \"1\"}, {\"idx\": 66, \"row\": 0, \"col\": 0, \"value\": 1.5837931224258206, \"source\": \"1\"}, {\"idx\": 67, \"row\": 0, \"col\": 0, \"value\": 4.628086127185137, \"source\": \"1\"}, {\"idx\": 68, \"row\": 0, \"col\": 0, \"value\": 0.5913517876069001, \"source\": \"1\"}, {\"idx\": 69, \"row\": 0, \"col\": 0, \"value\": 3.217571995756723, \"source\": \"1\"}, {\"idx\": 70, \"row\": 0, \"col\": 0, \"value\": 1.5461641369203951, \"source\": \"1\"}, {\"idx\": 71, \"row\": 0, \"col\": 0, \"value\": 1.788005478088132, \"source\": \"1\"}, {\"idx\": 72, \"row\": 0, \"col\": 0, \"value\": 1.7384991487819366, \"source\": \"1\"}, {\"idx\": 73, \"row\": 0, \"col\": 0, \"value\": 1.1373988214714568, \"source\": \"1\"}, {\"idx\": 74, \"row\": 0, \"col\": 0, \"value\": 0.6011159227357845, \"source\": \"1\"}, {\"idx\": 75, \"row\": 0, \"col\": 0, \"value\": 0.5506393687840586, \"source\": \"1\"}, {\"idx\": 76, \"row\": 0, \"col\": 0, \"value\": 0.7950707585227329, \"source\": \"1\"}, {\"idx\": 77, \"row\": 0, \"col\": 0, \"value\": 2.0724179253845842, \"source\": \"1\"}, {\"idx\": 78, \"row\": 0, \"col\": 0, \"value\": 23.777548252634034, \"source\": \"1\"}, {\"idx\": 79, \"row\": 0, \"col\": 0, \"value\": 2.801744881073303, \"source\": \"1\"}, {\"idx\": 80, \"row\": 0, \"col\": 0, \"value\": 20.341139522684625, \"source\": \"1\"}, {\"idx\": 81, \"row\": 0, \"col\": 0, \"value\": 1.822617973956607, \"source\": \"1\"}, {\"idx\": 82, \"row\": 0, \"col\": 0, \"value\": 0.49205213686106164, \"source\": \"1\"}, {\"idx\": 83, \"row\": 0, \"col\": 0, \"value\": 1.2167226448112982, \"source\": \"1\"}, {\"idx\": 84, \"row\": 0, \"col\": 0, \"value\": 0.7587097854709156, \"source\": \"1\"}, {\"idx\": 85, \"row\": 0, \"col\": 0, \"value\": 1.5077031900867401, \"source\": \"1\"}, {\"idx\": 86, \"row\": 0, \"col\": 0, \"value\": 2.1037208822188935, \"source\": \"1\"}, {\"idx\": 87, \"row\": 0, \"col\": 0, \"value\": 1.3529733839603013, \"source\": \"1\"}, {\"idx\": 88, \"row\": 0, \"col\": 0, \"value\": 0.6249067717352479, \"source\": \"1\"}, {\"idx\": 89, \"row\": 0, \"col\": 0, \"value\": 1.4627468205043224, \"source\": \"1\"}, {\"idx\": 90, \"row\": 0, \"col\": 0, \"value\": 0.92733482007493, \"source\": \"1\"}, {\"idx\": 91, \"row\": 0, \"col\": 0, \"value\": 1.9694047442677554, \"source\": \"1\"}, {\"idx\": 92, \"row\": 0, \"col\": 0, \"value\": 1.0722104400341181, \"source\": \"1\"}, {\"idx\": 93, \"row\": 0, \"col\": 0, \"value\": 0.7300752125594719, \"source\": \"1\"}, {\"idx\": 94, \"row\": 0, \"col\": 0, \"value\": 1.4023820099997601, \"source\": \"1\"}, {\"idx\": 95, \"row\": 0, \"col\": 0, \"value\": 0.734632463182046, \"source\": \"1\"}, {\"idx\": 96, \"row\": 0, \"col\": 0, \"value\": 3.0564474758778335, \"source\": \"1\"}, {\"idx\": 97, \"row\": 0, \"col\": 0, \"value\": 0.7132702792699298, \"source\": \"1\"}, {\"idx\": 98, \"row\": 0, \"col\": 0, \"value\": 1.0684114188006364, \"source\": \"1\"}, {\"idx\": 99, \"row\": 0, \"col\": 0, \"value\": 0.86820198237849, \"source\": \"1\"}, {\"idx\": 0, \"row\": 0, \"col\": 0, \"value\": 1.134581733329775, \"source\": \"10\"}, {\"idx\": 1, \"row\": 0, \"col\": 0, \"value\": 1.2536175029674876, \"source\": \"10\"}, {\"idx\": 2, \"row\": 0, \"col\": 0, \"value\": 1.4683991314195444, \"source\": \"10\"}, {\"idx\": 3, \"row\": 0, \"col\": 0, \"value\": 0.8324581620532817, \"source\": \"10\"}, {\"idx\": 4, \"row\": 0, \"col\": 0, \"value\": 1.0877450027093278, \"source\": \"10\"}, {\"idx\": 5, \"row\": 0, \"col\": 0, \"value\": 1.0406387180362686, \"source\": \"10\"}, {\"idx\": 6, \"row\": 0, \"col\": 0, \"value\": 0.9896653260904456, \"source\": \"10\"}, {\"idx\": 7, \"row\": 0, \"col\": 0, \"value\": 1.0600117745769284, \"source\": \"10\"}, {\"idx\": 8, \"row\": 0, \"col\": 0, \"value\": 1.1652530168216837, \"source\": \"10\"}, {\"idx\": 9, \"row\": 0, \"col\": 0, \"value\": 0.7834855571135337, \"source\": \"10\"}, {\"idx\": 10, \"row\": 0, \"col\": 0, \"value\": 0.9126041708551351, \"source\": \"10\"}, {\"idx\": 11, \"row\": 0, \"col\": 0, \"value\": 0.7905697558128005, \"source\": \"10\"}, {\"idx\": 12, \"row\": 0, \"col\": 0, \"value\": 1.184107584584771, \"source\": \"10\"}, {\"idx\": 13, \"row\": 0, \"col\": 0, \"value\": 1.3352099273454876, \"source\": \"10\"}, {\"idx\": 14, \"row\": 0, \"col\": 0, \"value\": 1.013562556973745, \"source\": \"10\"}, {\"idx\": 15, \"row\": 0, \"col\": 0, \"value\": 1.0140918581778045, \"source\": \"10\"}, {\"idx\": 16, \"row\": 0, \"col\": 0, \"value\": 1.2234513216521448, \"source\": \"10\"}, {\"idx\": 17, \"row\": 0, \"col\": 0, \"value\": 0.9511984295240759, \"source\": \"10\"}, {\"idx\": 18, \"row\": 0, \"col\": 0, \"value\": 1.568296997331116, \"source\": \"10\"}, {\"idx\": 19, \"row\": 0, \"col\": 0, \"value\": 0.7181104399412703, \"source\": \"10\"}, {\"idx\": 20, \"row\": 0, \"col\": 0, \"value\": 0.952057351867227, \"source\": \"10\"}, {\"idx\": 21, \"row\": 0, \"col\": 0, \"value\": 1.1218172920476948, \"source\": \"10\"}, {\"idx\": 22, \"row\": 0, \"col\": 0, \"value\": 1.4732465621419084, \"source\": \"10\"}, {\"idx\": 23, \"row\": 0, \"col\": 0, \"value\": 1.042375056179237, \"source\": \"10\"}, {\"idx\": 24, \"row\": 0, \"col\": 0, \"value\": 1.61385318832294, \"source\": \"10\"}, {\"idx\": 25, \"row\": 0, \"col\": 0, \"value\": 0.7926755870500662, \"source\": \"10\"}, {\"idx\": 26, \"row\": 0, \"col\": 0, \"value\": 0.8279984015042855, \"source\": \"10\"}, {\"idx\": 27, \"row\": 0, \"col\": 0, \"value\": 1.1070443310213622, \"source\": \"10\"}, {\"idx\": 28, \"row\": 0, \"col\": 0, \"value\": 0.9204764254611354, \"source\": \"10\"}, {\"idx\": 29, \"row\": 0, \"col\": 0, \"value\": 1.024135264425315, \"source\": \"10\"}, {\"idx\": 30, \"row\": 0, \"col\": 0, \"value\": 0.9501476691937972, \"source\": \"10\"}, {\"idx\": 31, \"row\": 0, \"col\": 0, \"value\": 0.9413014557100653, \"source\": \"10\"}, {\"idx\": 32, \"row\": 0, \"col\": 0, \"value\": 1.1147825178244652, \"source\": \"10\"}, {\"idx\": 33, \"row\": 0, \"col\": 0, \"value\": 1.4345395209052139, \"source\": \"10\"}, {\"idx\": 34, \"row\": 0, \"col\": 0, \"value\": 1.0796534025399787, \"source\": \"10\"}, {\"idx\": 35, \"row\": 0, \"col\": 0, \"value\": 0.8481323101499069, \"source\": \"10\"}, {\"idx\": 36, \"row\": 0, \"col\": 0, \"value\": 1.8371611647427994, \"source\": \"10\"}, {\"idx\": 37, \"row\": 0, \"col\": 0, \"value\": 1.0150486874198241, \"source\": \"10\"}, {\"idx\": 38, \"row\": 0, \"col\": 0, \"value\": 1.3713457946581502, \"source\": \"10\"}, {\"idx\": 39, \"row\": 0, \"col\": 0, \"value\": 1.0262095999548089, \"source\": \"10\"}, {\"idx\": 40, \"row\": 0, \"col\": 0, \"value\": 0.8578169812349257, \"source\": \"10\"}, {\"idx\": 41, \"row\": 0, \"col\": 0, \"value\": 1.2609608012069278, \"source\": \"10\"}, {\"idx\": 42, \"row\": 0, \"col\": 0, \"value\": 1.0085625457681835, \"source\": \"10\"}, {\"idx\": 43, \"row\": 0, \"col\": 0, \"value\": 0.8603453310704638, \"source\": \"10\"}, {\"idx\": 44, \"row\": 0, \"col\": 0, \"value\": 0.9531173912079989, \"source\": \"10\"}, {\"idx\": 45, \"row\": 0, \"col\": 0, \"value\": 0.9497244915216028, \"source\": \"10\"}, {\"idx\": 46, \"row\": 0, \"col\": 0, \"value\": 1.1286838237171093, \"source\": \"10\"}, {\"idx\": 47, \"row\": 0, \"col\": 0, \"value\": 1.0103376763519865, \"source\": \"10\"}, {\"idx\": 48, \"row\": 0, \"col\": 0, \"value\": 1.236931738210314, \"source\": \"10\"}, {\"idx\": 49, \"row\": 0, \"col\": 0, \"value\": 1.2534218511279827, \"source\": \"10\"}, {\"idx\": 50, \"row\": 0, \"col\": 0, \"value\": 1.2157880901592475, \"source\": \"10\"}, {\"idx\": 51, \"row\": 0, \"col\": 0, \"value\": 1.3602668681194936, \"source\": \"10\"}, {\"idx\": 52, \"row\": 0, \"col\": 0, \"value\": 0.9123841517791395, \"source\": \"10\"}, {\"idx\": 53, \"row\": 0, \"col\": 0, \"value\": 1.1004237735092373, \"source\": \"10\"}, {\"idx\": 54, \"row\": 0, \"col\": 0, \"value\": 0.9855850659313065, \"source\": \"10\"}, {\"idx\": 55, \"row\": 0, \"col\": 0, \"value\": 0.7845233402256855, \"source\": \"10\"}, {\"idx\": 56, \"row\": 0, \"col\": 0, \"value\": 1.0776288680401345, \"source\": \"10\"}, {\"idx\": 57, \"row\": 0, \"col\": 0, \"value\": 1.0299142325117283, \"source\": \"10\"}, {\"idx\": 58, \"row\": 0, \"col\": 0, \"value\": 1.0436347634942535, \"source\": \"10\"}, {\"idx\": 59, \"row\": 0, \"col\": 0, \"value\": 0.9493182253646805, \"source\": \"10\"}, {\"idx\": 60, \"row\": 0, \"col\": 0, \"value\": 1.1620618528052418, \"source\": \"10\"}, {\"idx\": 61, \"row\": 0, \"col\": 0, \"value\": 0.9884536173729488, \"source\": \"10\"}, {\"idx\": 62, \"row\": 0, \"col\": 0, \"value\": 1.028310384537557, \"source\": \"10\"}, {\"idx\": 63, \"row\": 0, \"col\": 0, \"value\": 0.9438394957703965, \"source\": \"10\"}, {\"idx\": 64, \"row\": 0, \"col\": 0, \"value\": 1.3496022857371859, \"source\": \"10\"}, {\"idx\": 65, \"row\": 0, \"col\": 0, \"value\": 0.97939185860051, \"source\": \"10\"}, {\"idx\": 66, \"row\": 0, \"col\": 0, \"value\": 0.9146328667643879, \"source\": \"10\"}, {\"idx\": 67, \"row\": 0, \"col\": 0, \"value\": 0.8164963768472421, \"source\": \"10\"}, {\"idx\": 68, \"row\": 0, \"col\": 0, \"value\": 0.9382556851152882, \"source\": \"10\"}, {\"idx\": 69, \"row\": 0, \"col\": 0, \"value\": 0.7888728752745304, \"source\": \"10\"}, {\"idx\": 70, \"row\": 0, \"col\": 0, \"value\": 0.9116063931874582, \"source\": \"10\"}, {\"idx\": 71, \"row\": 0, \"col\": 0, \"value\": 1.3272469024650875, \"source\": \"10\"}, {\"idx\": 72, \"row\": 0, \"col\": 0, \"value\": 0.8316799540809645, \"source\": \"10\"}, {\"idx\": 73, \"row\": 0, \"col\": 0, \"value\": 1.0521746128177312, \"source\": \"10\"}, {\"idx\": 74, \"row\": 0, \"col\": 0, \"value\": 1.071849403295185, \"source\": \"10\"}, {\"idx\": 75, \"row\": 0, \"col\": 0, \"value\": 1.2204389350937037, \"source\": \"10\"}, {\"idx\": 76, \"row\": 0, \"col\": 0, \"value\": 0.922973403955234, \"source\": \"10\"}, {\"idx\": 77, \"row\": 0, \"col\": 0, \"value\": 0.9833936530564596, \"source\": \"10\"}, {\"idx\": 78, \"row\": 0, \"col\": 0, \"value\": 0.9283753997144419, \"source\": \"10\"}, {\"idx\": 79, \"row\": 0, \"col\": 0, \"value\": 1.0522401156788497, \"source\": \"10\"}, {\"idx\": 80, \"row\": 0, \"col\": 0, \"value\": 0.9199778068650409, \"source\": \"10\"}, {\"idx\": 81, \"row\": 0, \"col\": 0, \"value\": 0.9152732935598143, \"source\": \"10\"}, {\"idx\": 82, \"row\": 0, \"col\": 0, \"value\": 0.8361033766931067, \"source\": \"10\"}, {\"idx\": 83, \"row\": 0, \"col\": 0, \"value\": 1.1642504784059995, \"source\": \"10\"}, {\"idx\": 84, \"row\": 0, \"col\": 0, \"value\": 1.0482455959799166, \"source\": \"10\"}, {\"idx\": 85, \"row\": 0, \"col\": 0, \"value\": 0.8654301185938096, \"source\": \"10\"}, {\"idx\": 86, \"row\": 0, \"col\": 0, \"value\": 1.1470806185348947, \"source\": \"10\"}, {\"idx\": 87, \"row\": 0, \"col\": 0, \"value\": 1.0001777835684653, \"source\": \"10\"}, {\"idx\": 88, \"row\": 0, \"col\": 0, \"value\": 0.843197066204589, \"source\": \"10\"}, {\"idx\": 89, \"row\": 0, \"col\": 0, \"value\": 0.8693841001817114, \"source\": \"10\"}, {\"idx\": 90, \"row\": 0, \"col\": 0, \"value\": 1.0213542181200461, \"source\": \"10\"}, {\"idx\": 91, \"row\": 0, \"col\": 0, \"value\": 1.2407329970608034, \"source\": \"10\"}, {\"idx\": 92, \"row\": 0, \"col\": 0, \"value\": 1.1040622539682738, \"source\": \"10\"}, {\"idx\": 93, \"row\": 0, \"col\": 0, \"value\": 1.1747498282924769, \"source\": \"10\"}, {\"idx\": 94, \"row\": 0, \"col\": 0, \"value\": 0.9973434605919411, \"source\": \"10\"}, {\"idx\": 95, \"row\": 0, \"col\": 0, \"value\": 1.0482000243188967, \"source\": \"10\"}, {\"idx\": 96, \"row\": 0, \"col\": 0, \"value\": 1.2488031449679824, \"source\": \"10\"}, {\"idx\": 97, \"row\": 0, \"col\": 0, \"value\": 1.609308157201395, \"source\": \"10\"}, {\"idx\": 98, \"row\": 0, \"col\": 0, \"value\": 1.1728601551252127, \"source\": \"10\"}, {\"idx\": 99, \"row\": 0, \"col\": 0, \"value\": 1.1655575597054353, \"source\": \"10\"}]}}, {\"mode\": \"vega-lite\"});\n",
       "</script>"
      ],
      "text/plain": [
       "alt.Chart(...)"
      ]
     },
     "execution_count": 71,
     "metadata": {},
     "output_type": "execute_result"
    }
   ],
   "source": [
    "param = 'sigma'\n",
    "dfs = []\n",
    "for c0 in [1,10]:\n",
    "    df = get_post_df(np.squeeze(particles_invgamma[c0][param]))\n",
    "    df['source'] = str(c0)\n",
    "    dfs.append(df)\n",
    "plot_density(pd.concat(dfs), 500, 200).interactive()"
   ]
  },
  {
   "cell_type": "code",
   "execution_count": 73,
   "metadata": {},
   "outputs": [
    {
     "data": {
      "text/html": [
       "\n",
       "<div id=\"altair-viz-85893d4759ef436aaada092e616d1100\"></div>\n",
       "<script type=\"text/javascript\">\n",
       "  (function(spec, embedOpt){\n",
       "    let outputDiv = document.currentScript.previousElementSibling;\n",
       "    if (outputDiv.id !== \"altair-viz-85893d4759ef436aaada092e616d1100\") {\n",
       "      outputDiv = document.getElementById(\"altair-viz-85893d4759ef436aaada092e616d1100\");\n",
       "    }\n",
       "    const paths = {\n",
       "      \"vega\": \"https://cdn.jsdelivr.net/npm//vega@5?noext\",\n",
       "      \"vega-lib\": \"https://cdn.jsdelivr.net/npm//vega-lib?noext\",\n",
       "      \"vega-lite\": \"https://cdn.jsdelivr.net/npm//vega-lite@4.8.1?noext\",\n",
       "      \"vega-embed\": \"https://cdn.jsdelivr.net/npm//vega-embed@6?noext\",\n",
       "    };\n",
       "\n",
       "    function loadScript(lib) {\n",
       "      return new Promise(function(resolve, reject) {\n",
       "        var s = document.createElement('script');\n",
       "        s.src = paths[lib];\n",
       "        s.async = true;\n",
       "        s.onload = () => resolve(paths[lib]);\n",
       "        s.onerror = () => reject(`Error loading script: ${paths[lib]}`);\n",
       "        document.getElementsByTagName(\"head\")[0].appendChild(s);\n",
       "      });\n",
       "    }\n",
       "\n",
       "    function showError(err) {\n",
       "      outputDiv.innerHTML = `<div class=\"error\" style=\"color:red;\">${err}</div>`;\n",
       "      throw err;\n",
       "    }\n",
       "\n",
       "    function displayChart(vegaEmbed) {\n",
       "      vegaEmbed(outputDiv, spec, embedOpt)\n",
       "        .catch(err => showError(`Javascript Error: ${err.message}<br>This usually means there's a typo in your chart specification. See the javascript console for the full traceback.`));\n",
       "    }\n",
       "\n",
       "    if(typeof define === \"function\" && define.amd) {\n",
       "      requirejs.config({paths});\n",
       "      require([\"vega-embed\"], displayChart, err => showError(`Error loading script: ${err.message}`));\n",
       "    } else if (typeof vegaEmbed === \"function\") {\n",
       "      displayChart(vegaEmbed);\n",
       "    } else {\n",
       "      loadScript(\"vega\")\n",
       "        .then(() => loadScript(\"vega-lite\"))\n",
       "        .then(() => loadScript(\"vega-embed\"))\n",
       "        .catch(showError)\n",
       "        .then(() => displayChart(vegaEmbed));\n",
       "    }\n",
       "  })({\"config\": {\"view\": {\"continuousWidth\": 400, \"continuousHeight\": 300}}, \"data\": {\"name\": \"data-7b1f4a7b650c151d523049fa3f7829a1\"}, \"mark\": {\"type\": \"area\", \"opacity\": 0.5}, \"encoding\": {\"color\": {\"type\": \"nominal\", \"field\": \"source\", \"legend\": {\"labelFontSize\": 14, \"orient\": \"top\"}, \"title\": \"Inference Algorithm\"}, \"column\": {\"type\": \"quantitative\", \"field\": \"col\"}, \"row\": {\"type\": \"quantitative\", \"field\": \"row\"}, \"x\": {\"type\": \"quantitative\", \"field\": \"value\", \"title\": null}, \"y\": {\"type\": \"quantitative\", \"field\": \"density\"}}, \"height\": 200, \"resolve\": {\"scale\": {\"x\": \"independent\"}}, \"selection\": {\"selector031\": {\"type\": \"interval\", \"bind\": \"scales\", \"encodings\": [\"x\", \"y\"]}}, \"transform\": [{\"fold\": [\"value\"]}, {\"density\": \"value\", \"groupby\": [\"cn\", \"row\", \"col\", \"source\"]}], \"width\": 500, \"$schema\": \"https://vega.github.io/schema/vega-lite/v4.8.1.json\", \"datasets\": {\"data-7b1f4a7b650c151d523049fa3f7829a1\": [{\"idx\": 0, \"row\": 0, \"col\": 0, \"value\": 2.6933151077455175, \"source\": \"1\"}, {\"idx\": 1, \"row\": 0, \"col\": 0, \"value\": 0.9498967867444911, \"source\": \"1\"}, {\"idx\": 2, \"row\": 0, \"col\": 0, \"value\": 0.8354525972506147, \"source\": \"1\"}, {\"idx\": 3, \"row\": 0, \"col\": 0, \"value\": 1.3083023507006069, \"source\": \"1\"}, {\"idx\": 4, \"row\": 0, \"col\": 0, \"value\": 1.8454248737704018, \"source\": \"1\"}, {\"idx\": 5, \"row\": 0, \"col\": 0, \"value\": 2.174807551118737, \"source\": \"1\"}, {\"idx\": 6, \"row\": 0, \"col\": 0, \"value\": 1.2178780916826384, \"source\": \"1\"}, {\"idx\": 7, \"row\": 0, \"col\": 0, \"value\": 0.9156669808087944, \"source\": \"1\"}, {\"idx\": 8, \"row\": 0, \"col\": 0, \"value\": 1.699206421096923, \"source\": \"1\"}, {\"idx\": 9, \"row\": 0, \"col\": 0, \"value\": 0.6798373872691639, \"source\": \"1\"}, {\"idx\": 10, \"row\": 0, \"col\": 0, \"value\": 5.308766555424659, \"source\": \"1\"}, {\"idx\": 11, \"row\": 0, \"col\": 0, \"value\": 0.6413778941730303, \"source\": \"1\"}, {\"idx\": 12, \"row\": 0, \"col\": 0, \"value\": 3.0556054748911197, \"source\": \"1\"}, {\"idx\": 13, \"row\": 0, \"col\": 0, \"value\": 0.8963776387726545, \"source\": \"1\"}, {\"idx\": 14, \"row\": 0, \"col\": 0, \"value\": 1.6680962259432341, \"source\": \"1\"}, {\"idx\": 15, \"row\": 0, \"col\": 0, \"value\": 1.833452864072847, \"source\": \"1\"}, {\"idx\": 16, \"row\": 0, \"col\": 0, \"value\": 3.7422420841633675, \"source\": \"1\"}, {\"idx\": 17, \"row\": 0, \"col\": 0, \"value\": 0.6972719728727231, \"source\": \"1\"}, {\"idx\": 18, \"row\": 0, \"col\": 0, \"value\": 1.0373465243749347, \"source\": \"1\"}, {\"idx\": 19, \"row\": 0, \"col\": 0, \"value\": 0.7429774130257916, \"source\": \"1\"}, {\"idx\": 20, \"row\": 0, \"col\": 0, \"value\": 1.8050312599526113, \"source\": \"1\"}, {\"idx\": 21, \"row\": 0, \"col\": 0, \"value\": 0.9093713407276433, \"source\": \"1\"}, {\"idx\": 22, \"row\": 0, \"col\": 0, \"value\": 0.9396851900539126, \"source\": \"1\"}, {\"idx\": 23, \"row\": 0, \"col\": 0, \"value\": 0.7394832148216415, \"source\": \"1\"}, {\"idx\": 24, \"row\": 0, \"col\": 0, \"value\": 0.9363085533711613, \"source\": \"1\"}, {\"idx\": 25, \"row\": 0, \"col\": 0, \"value\": 2.7192740852365387, \"source\": \"1\"}, {\"idx\": 26, \"row\": 0, \"col\": 0, \"value\": 1.0656041677382948, \"source\": \"1\"}, {\"idx\": 27, \"row\": 0, \"col\": 0, \"value\": 0.9101979535500226, \"source\": \"1\"}, {\"idx\": 28, \"row\": 0, \"col\": 0, \"value\": 1.0707357006284413, \"source\": \"1\"}, {\"idx\": 29, \"row\": 0, \"col\": 0, \"value\": 1.0282513848676702, \"source\": \"1\"}, {\"idx\": 30, \"row\": 0, \"col\": 0, \"value\": 2.028126178469521, \"source\": \"1\"}, {\"idx\": 31, \"row\": 0, \"col\": 0, \"value\": 1.3717762257313937, \"source\": \"1\"}, {\"idx\": 32, \"row\": 0, \"col\": 0, \"value\": 1.9026200284649366, \"source\": \"1\"}, {\"idx\": 33, \"row\": 0, \"col\": 0, \"value\": 1.4824506446549275, \"source\": \"1\"}, {\"idx\": 34, \"row\": 0, \"col\": 0, \"value\": 0.8214137320286078, \"source\": \"1\"}, {\"idx\": 35, \"row\": 0, \"col\": 0, \"value\": 1.800087311166324, \"source\": \"1\"}, {\"idx\": 36, \"row\": 0, \"col\": 0, \"value\": 0.8670500763086784, \"source\": \"1\"}, {\"idx\": 37, \"row\": 0, \"col\": 0, \"value\": 0.9005809233734341, \"source\": \"1\"}, {\"idx\": 38, \"row\": 0, \"col\": 0, \"value\": 1.6354054465496801, \"source\": \"1\"}, {\"idx\": 39, \"row\": 0, \"col\": 0, \"value\": 0.8920569905029655, \"source\": \"1\"}, {\"idx\": 40, \"row\": 0, \"col\": 0, \"value\": 0.7423323090194652, \"source\": \"1\"}, {\"idx\": 41, \"row\": 0, \"col\": 0, \"value\": 1.1877993853672022, \"source\": \"1\"}, {\"idx\": 42, \"row\": 0, \"col\": 0, \"value\": 1.4016674540017449, \"source\": \"1\"}, {\"idx\": 43, \"row\": 0, \"col\": 0, \"value\": 1.4350032186091601, \"source\": \"1\"}, {\"idx\": 44, \"row\": 0, \"col\": 0, \"value\": 1.1413725382831466, \"source\": \"1\"}, {\"idx\": 45, \"row\": 0, \"col\": 0, \"value\": 0.7582798515403605, \"source\": \"1\"}, {\"idx\": 46, \"row\": 0, \"col\": 0, \"value\": 2.0121530189506713, \"source\": \"1\"}, {\"idx\": 47, \"row\": 0, \"col\": 0, \"value\": 0.7513727142597408, \"source\": \"1\"}, {\"idx\": 48, \"row\": 0, \"col\": 0, \"value\": 0.731086595752961, \"source\": \"1\"}, {\"idx\": 49, \"row\": 0, \"col\": 0, \"value\": 3.9438058485649345, \"source\": \"1\"}, {\"idx\": 50, \"row\": 0, \"col\": 0, \"value\": 0.68268035279322, \"source\": \"1\"}, {\"idx\": 51, \"row\": 0, \"col\": 0, \"value\": 3.170385378232858, \"source\": \"1\"}, {\"idx\": 52, \"row\": 0, \"col\": 0, \"value\": 1.414899829162612, \"source\": \"1\"}, {\"idx\": 53, \"row\": 0, \"col\": 0, \"value\": 0.592541672359162, \"source\": \"1\"}, {\"idx\": 54, \"row\": 0, \"col\": 0, \"value\": 1.8049595262432327, \"source\": \"1\"}, {\"idx\": 55, \"row\": 0, \"col\": 0, \"value\": 0.3300411877026387, \"source\": \"1\"}, {\"idx\": 56, \"row\": 0, \"col\": 0, \"value\": 0.6614056151412107, \"source\": \"1\"}, {\"idx\": 57, \"row\": 0, \"col\": 0, \"value\": 0.9413336651641097, \"source\": \"1\"}, {\"idx\": 58, \"row\": 0, \"col\": 0, \"value\": 0.7639230295578961, \"source\": \"1\"}, {\"idx\": 59, \"row\": 0, \"col\": 0, \"value\": 2.0768722047128803, \"source\": \"1\"}, {\"idx\": 60, \"row\": 0, \"col\": 0, \"value\": 0.5578029517216142, \"source\": \"1\"}, {\"idx\": 61, \"row\": 0, \"col\": 0, \"value\": 1.00351067959224, \"source\": \"1\"}, {\"idx\": 62, \"row\": 0, \"col\": 0, \"value\": 1.7874530896270577, \"source\": \"1\"}, {\"idx\": 63, \"row\": 0, \"col\": 0, \"value\": 0.754340879003191, \"source\": \"1\"}, {\"idx\": 64, \"row\": 0, \"col\": 0, \"value\": 0.8328485404229867, \"source\": \"1\"}, {\"idx\": 65, \"row\": 0, \"col\": 0, \"value\": 0.8364076721737791, \"source\": \"1\"}, {\"idx\": 66, \"row\": 0, \"col\": 0, \"value\": 0.8521644013708605, \"source\": \"1\"}, {\"idx\": 67, \"row\": 0, \"col\": 0, \"value\": 2.468277674380372, \"source\": \"1\"}, {\"idx\": 68, \"row\": 0, \"col\": 0, \"value\": 1.3138566029478695, \"source\": \"1\"}, {\"idx\": 69, \"row\": 0, \"col\": 0, \"value\": 12.126529142624129, \"source\": \"1\"}, {\"idx\": 70, \"row\": 0, \"col\": 0, \"value\": 0.7309428146418735, \"source\": \"1\"}, {\"idx\": 71, \"row\": 0, \"col\": 0, \"value\": 0.7850274253710247, \"source\": \"1\"}, {\"idx\": 72, \"row\": 0, \"col\": 0, \"value\": 0.7760165093090322, \"source\": \"1\"}, {\"idx\": 73, \"row\": 0, \"col\": 0, \"value\": 0.7279358067207428, \"source\": \"1\"}, {\"idx\": 74, \"row\": 0, \"col\": 0, \"value\": 1.1320172098295507, \"source\": \"1\"}, {\"idx\": 75, \"row\": 0, \"col\": 0, \"value\": 0.6373424534091864, \"source\": \"1\"}, {\"idx\": 76, \"row\": 0, \"col\": 0, \"value\": 0.6995699331874149, \"source\": \"1\"}, {\"idx\": 77, \"row\": 0, \"col\": 0, \"value\": 2.8759132656712776, \"source\": \"1\"}, {\"idx\": 78, \"row\": 0, \"col\": 0, \"value\": 1.251374727213958, \"source\": \"1\"}, {\"idx\": 79, \"row\": 0, \"col\": 0, \"value\": 1.3443178018306219, \"source\": \"1\"}, {\"idx\": 80, \"row\": 0, \"col\": 0, \"value\": 9.636759887827399, \"source\": \"1\"}, {\"idx\": 81, \"row\": 0, \"col\": 0, \"value\": 0.7770595812678303, \"source\": \"1\"}, {\"idx\": 82, \"row\": 0, \"col\": 0, \"value\": 1.6315742513393716, \"source\": \"1\"}, {\"idx\": 83, \"row\": 0, \"col\": 0, \"value\": 1.0772378588737714, \"source\": \"1\"}, {\"idx\": 84, \"row\": 0, \"col\": 0, \"value\": 0.7803448635671744, \"source\": \"1\"}, {\"idx\": 85, \"row\": 0, \"col\": 0, \"value\": 0.7755214657804506, \"source\": \"1\"}, {\"idx\": 86, \"row\": 0, \"col\": 0, \"value\": 2.1936128634287675, \"source\": \"1\"}, {\"idx\": 87, \"row\": 0, \"col\": 0, \"value\": 1.094313510365059, \"source\": \"1\"}, {\"idx\": 88, \"row\": 0, \"col\": 0, \"value\": 1.5784382660246952, \"source\": \"1\"}, {\"idx\": 89, \"row\": 0, \"col\": 0, \"value\": 0.5873373850150044, \"source\": \"1\"}, {\"idx\": 90, \"row\": 0, \"col\": 0, \"value\": 1.147779889802219, \"source\": \"1\"}, {\"idx\": 91, \"row\": 0, \"col\": 0, \"value\": 0.533703964162714, \"source\": \"1\"}, {\"idx\": 92, \"row\": 0, \"col\": 0, \"value\": 0.6638711023973548, \"source\": \"1\"}, {\"idx\": 93, \"row\": 0, \"col\": 0, \"value\": 7.626929385032069, \"source\": \"1\"}, {\"idx\": 94, \"row\": 0, \"col\": 0, \"value\": 1.8907901214003695, \"source\": \"1\"}, {\"idx\": 95, \"row\": 0, \"col\": 0, \"value\": 1.6913931284136094, \"source\": \"1\"}, {\"idx\": 96, \"row\": 0, \"col\": 0, \"value\": 1.59789911603009, \"source\": \"1\"}, {\"idx\": 97, \"row\": 0, \"col\": 0, \"value\": 1.3539601216769446, \"source\": \"1\"}, {\"idx\": 98, \"row\": 0, \"col\": 0, \"value\": 2.0271095168780335, \"source\": \"1\"}, {\"idx\": 99, \"row\": 0, \"col\": 0, \"value\": 1.5425413923512943, \"source\": \"1\"}, {\"idx\": 0, \"row\": 0, \"col\": 0, \"value\": 1.0106957564453674, \"source\": \"10\"}, {\"idx\": 1, \"row\": 0, \"col\": 0, \"value\": 1.040652729446318, \"source\": \"10\"}, {\"idx\": 2, \"row\": 0, \"col\": 0, \"value\": 0.8705807667434143, \"source\": \"10\"}, {\"idx\": 3, \"row\": 0, \"col\": 0, \"value\": 1.0236014370526096, \"source\": \"10\"}, {\"idx\": 4, \"row\": 0, \"col\": 0, \"value\": 1.2052062286597534, \"source\": \"10\"}, {\"idx\": 5, \"row\": 0, \"col\": 0, \"value\": 1.0119782858511788, \"source\": \"10\"}, {\"idx\": 6, \"row\": 0, \"col\": 0, \"value\": 0.9855354803768204, \"source\": \"10\"}, {\"idx\": 7, \"row\": 0, \"col\": 0, \"value\": 1.139536796503284, \"source\": \"10\"}, {\"idx\": 8, \"row\": 0, \"col\": 0, \"value\": 1.2071277236770515, \"source\": \"10\"}, {\"idx\": 9, \"row\": 0, \"col\": 0, \"value\": 1.3880675212117755, \"source\": \"10\"}, {\"idx\": 10, \"row\": 0, \"col\": 0, \"value\": 1.0191616439359221, \"source\": \"10\"}, {\"idx\": 11, \"row\": 0, \"col\": 0, \"value\": 1.0564428045111014, \"source\": \"10\"}, {\"idx\": 12, \"row\": 0, \"col\": 0, \"value\": 0.957453128563977, \"source\": \"10\"}, {\"idx\": 13, \"row\": 0, \"col\": 0, \"value\": 1.0395217139032475, \"source\": \"10\"}, {\"idx\": 14, \"row\": 0, \"col\": 0, \"value\": 1.3454599149781217, \"source\": \"10\"}, {\"idx\": 15, \"row\": 0, \"col\": 0, \"value\": 1.158495426707732, \"source\": \"10\"}, {\"idx\": 16, \"row\": 0, \"col\": 0, \"value\": 1.1890556357319124, \"source\": \"10\"}, {\"idx\": 17, \"row\": 0, \"col\": 0, \"value\": 1.0944266485000733, \"source\": \"10\"}, {\"idx\": 18, \"row\": 0, \"col\": 0, \"value\": 0.994932573279402, \"source\": \"10\"}, {\"idx\": 19, \"row\": 0, \"col\": 0, \"value\": 0.8334331273669366, \"source\": \"10\"}, {\"idx\": 20, \"row\": 0, \"col\": 0, \"value\": 1.0830945993619097, \"source\": \"10\"}, {\"idx\": 21, \"row\": 0, \"col\": 0, \"value\": 1.1270056115134344, \"source\": \"10\"}, {\"idx\": 22, \"row\": 0, \"col\": 0, \"value\": 1.1889646898287078, \"source\": \"10\"}, {\"idx\": 23, \"row\": 0, \"col\": 0, \"value\": 0.923073294937726, \"source\": \"10\"}, {\"idx\": 24, \"row\": 0, \"col\": 0, \"value\": 0.8911262027696188, \"source\": \"10\"}, {\"idx\": 25, \"row\": 0, \"col\": 0, \"value\": 1.389029390511489, \"source\": \"10\"}, {\"idx\": 26, \"row\": 0, \"col\": 0, \"value\": 0.7024156197549081, \"source\": \"10\"}, {\"idx\": 27, \"row\": 0, \"col\": 0, \"value\": 1.0707294064723256, \"source\": \"10\"}, {\"idx\": 28, \"row\": 0, \"col\": 0, \"value\": 1.1014822579839916, \"source\": \"10\"}, {\"idx\": 29, \"row\": 0, \"col\": 0, \"value\": 0.9459658807282708, \"source\": \"10\"}, {\"idx\": 30, \"row\": 0, \"col\": 0, \"value\": 1.2804097527365335, \"source\": \"10\"}, {\"idx\": 31, \"row\": 0, \"col\": 0, \"value\": 1.1173355343550677, \"source\": \"10\"}, {\"idx\": 32, \"row\": 0, \"col\": 0, \"value\": 1.4495466892540845, \"source\": \"10\"}, {\"idx\": 33, \"row\": 0, \"col\": 0, \"value\": 1.1085923657552363, \"source\": \"10\"}, {\"idx\": 34, \"row\": 0, \"col\": 0, \"value\": 0.9419412846025634, \"source\": \"10\"}, {\"idx\": 35, \"row\": 0, \"col\": 0, \"value\": 0.8044704659478941, \"source\": \"10\"}, {\"idx\": 36, \"row\": 0, \"col\": 0, \"value\": 0.9103148910086205, \"source\": \"10\"}, {\"idx\": 37, \"row\": 0, \"col\": 0, \"value\": 1.0467550162367154, \"source\": \"10\"}, {\"idx\": 38, \"row\": 0, \"col\": 0, \"value\": 1.2362566823297971, \"source\": \"10\"}, {\"idx\": 39, \"row\": 0, \"col\": 0, \"value\": 1.0095740949714653, \"source\": \"10\"}, {\"idx\": 40, \"row\": 0, \"col\": 0, \"value\": 1.0118164914236685, \"source\": \"10\"}, {\"idx\": 41, \"row\": 0, \"col\": 0, \"value\": 1.105945275526941, \"source\": \"10\"}, {\"idx\": 42, \"row\": 0, \"col\": 0, \"value\": 0.9959796988626709, \"source\": \"10\"}, {\"idx\": 43, \"row\": 0, \"col\": 0, \"value\": 1.0779835601038144, \"source\": \"10\"}, {\"idx\": 44, \"row\": 0, \"col\": 0, \"value\": 1.4294301832184548, \"source\": \"10\"}, {\"idx\": 45, \"row\": 0, \"col\": 0, \"value\": 1.315655616878524, \"source\": \"10\"}, {\"idx\": 46, \"row\": 0, \"col\": 0, \"value\": 1.1259323903126808, \"source\": \"10\"}, {\"idx\": 47, \"row\": 0, \"col\": 0, \"value\": 0.7505299344077724, \"source\": \"10\"}, {\"idx\": 48, \"row\": 0, \"col\": 0, \"value\": 0.9594003324827732, \"source\": \"10\"}, {\"idx\": 49, \"row\": 0, \"col\": 0, \"value\": 0.7209967588137991, \"source\": \"10\"}, {\"idx\": 50, \"row\": 0, \"col\": 0, \"value\": 1.0323577939369382, \"source\": \"10\"}, {\"idx\": 51, \"row\": 0, \"col\": 0, \"value\": 0.9763843183715095, \"source\": \"10\"}, {\"idx\": 52, \"row\": 0, \"col\": 0, \"value\": 0.9987490360634897, \"source\": \"10\"}, {\"idx\": 53, \"row\": 0, \"col\": 0, \"value\": 0.9117088526085232, \"source\": \"10\"}, {\"idx\": 54, \"row\": 0, \"col\": 0, \"value\": 1.0251314872289794, \"source\": \"10\"}, {\"idx\": 55, \"row\": 0, \"col\": 0, \"value\": 0.853351049528581, \"source\": \"10\"}, {\"idx\": 56, \"row\": 0, \"col\": 0, \"value\": 1.3008734823631336, \"source\": \"10\"}, {\"idx\": 57, \"row\": 0, \"col\": 0, \"value\": 0.9520550723895667, \"source\": \"10\"}, {\"idx\": 58, \"row\": 0, \"col\": 0, \"value\": 0.9147104221770778, \"source\": \"10\"}, {\"idx\": 59, \"row\": 0, \"col\": 0, \"value\": 1.193889858444888, \"source\": \"10\"}, {\"idx\": 60, \"row\": 0, \"col\": 0, \"value\": 1.025900970770996, \"source\": \"10\"}, {\"idx\": 61, \"row\": 0, \"col\": 0, \"value\": 1.0533400324342892, \"source\": \"10\"}, {\"idx\": 62, \"row\": 0, \"col\": 0, \"value\": 0.851437173561177, \"source\": \"10\"}, {\"idx\": 63, \"row\": 0, \"col\": 0, \"value\": 1.2002449870569114, \"source\": \"10\"}, {\"idx\": 64, \"row\": 0, \"col\": 0, \"value\": 1.1548209601525479, \"source\": \"10\"}, {\"idx\": 65, \"row\": 0, \"col\": 0, \"value\": 0.9733261916308553, \"source\": \"10\"}, {\"idx\": 66, \"row\": 0, \"col\": 0, \"value\": 0.835010562948878, \"source\": \"10\"}, {\"idx\": 67, \"row\": 0, \"col\": 0, \"value\": 1.1109118851103252, \"source\": \"10\"}, {\"idx\": 68, \"row\": 0, \"col\": 0, \"value\": 1.0961017827765194, \"source\": \"10\"}, {\"idx\": 69, \"row\": 0, \"col\": 0, \"value\": 1.1368905679395354, \"source\": \"10\"}, {\"idx\": 70, \"row\": 0, \"col\": 0, \"value\": 1.1300331712298959, \"source\": \"10\"}, {\"idx\": 71, \"row\": 0, \"col\": 0, \"value\": 0.9107570388417342, \"source\": \"10\"}, {\"idx\": 72, \"row\": 0, \"col\": 0, \"value\": 0.9406892793260063, \"source\": \"10\"}, {\"idx\": 73, \"row\": 0, \"col\": 0, \"value\": 0.8382784070342151, \"source\": \"10\"}, {\"idx\": 74, \"row\": 0, \"col\": 0, \"value\": 0.9160653349550858, \"source\": \"10\"}, {\"idx\": 75, \"row\": 0, \"col\": 0, \"value\": 1.3546043017093592, \"source\": \"10\"}, {\"idx\": 76, \"row\": 0, \"col\": 0, \"value\": 0.7812402544230442, \"source\": \"10\"}, {\"idx\": 77, \"row\": 0, \"col\": 0, \"value\": 0.8405104049081422, \"source\": \"10\"}, {\"idx\": 78, \"row\": 0, \"col\": 0, \"value\": 1.0900508852427688, \"source\": \"10\"}, {\"idx\": 79, \"row\": 0, \"col\": 0, \"value\": 0.8272406445307573, \"source\": \"10\"}, {\"idx\": 80, \"row\": 0, \"col\": 0, \"value\": 0.9559661503302703, \"source\": \"10\"}, {\"idx\": 81, \"row\": 0, \"col\": 0, \"value\": 1.0295270607798792, \"source\": \"10\"}, {\"idx\": 82, \"row\": 0, \"col\": 0, \"value\": 1.0623069593853849, \"source\": \"10\"}, {\"idx\": 83, \"row\": 0, \"col\": 0, \"value\": 0.9013078525524723, \"source\": \"10\"}, {\"idx\": 84, \"row\": 0, \"col\": 0, \"value\": 0.825016920894094, \"source\": \"10\"}, {\"idx\": 85, \"row\": 0, \"col\": 0, \"value\": 0.993160785887334, \"source\": \"10\"}, {\"idx\": 86, \"row\": 0, \"col\": 0, \"value\": 0.8873681138202729, \"source\": \"10\"}, {\"idx\": 87, \"row\": 0, \"col\": 0, \"value\": 0.9509842402729267, \"source\": \"10\"}, {\"idx\": 88, \"row\": 0, \"col\": 0, \"value\": 1.1104344694390647, \"source\": \"10\"}, {\"idx\": 89, \"row\": 0, \"col\": 0, \"value\": 1.0986301161699539, \"source\": \"10\"}, {\"idx\": 90, \"row\": 0, \"col\": 0, \"value\": 0.9605239835601367, \"source\": \"10\"}, {\"idx\": 91, \"row\": 0, \"col\": 0, \"value\": 1.0079690353429125, \"source\": \"10\"}, {\"idx\": 92, \"row\": 0, \"col\": 0, \"value\": 0.9244043735486877, \"source\": \"10\"}, {\"idx\": 93, \"row\": 0, \"col\": 0, \"value\": 1.242126959838398, \"source\": \"10\"}, {\"idx\": 94, \"row\": 0, \"col\": 0, \"value\": 1.095220860290778, \"source\": \"10\"}, {\"idx\": 95, \"row\": 0, \"col\": 0, \"value\": 0.9154482383853505, \"source\": \"10\"}, {\"idx\": 96, \"row\": 0, \"col\": 0, \"value\": 1.1397859999497686, \"source\": \"10\"}, {\"idx\": 97, \"row\": 0, \"col\": 0, \"value\": 0.9675977785268257, \"source\": \"10\"}, {\"idx\": 98, \"row\": 0, \"col\": 0, \"value\": 1.0710287050043383, \"source\": \"10\"}, {\"idx\": 99, \"row\": 0, \"col\": 0, \"value\": 0.9414210726573193, \"source\": \"10\"}]}}, {\"mode\": \"vega-lite\"});\n",
       "</script>"
      ],
      "text/plain": [
       "alt.Chart(...)"
      ]
     },
     "execution_count": 73,
     "metadata": {},
     "output_type": "execute_result"
    }
   ],
   "source": [
    "from scipy.stats import invgamma\n",
    "c0 = 10\n",
    "\n",
    "dfs = []\n",
    "for c0 in [1,10]:\n",
    "    df = get_post_df(np.sqrt(invgamma.rvs(a = c0, scale=c0, size=100)))\n",
    "    df['source'] = str(c0)\n",
    "    dfs.append(df)\n",
    "plot_density(pd.concat(dfs), 500, 200).interactive()"
   ]
  },
  {
   "cell_type": "markdown",
   "metadata": {},
   "source": [
    "## Check Half-Cauchy prior"
   ]
  },
  {
   "cell_type": "code",
   "execution_count": 55,
   "metadata": {},
   "outputs": [],
   "source": [
    "prior_models_cauchy=dict()\n",
    "particles_cauchy=dict()\n"
   ]
  },
  {
   "cell_type": "code",
   "execution_count": 63,
   "metadata": {},
   "outputs": [
    {
     "name": "stderr",
     "output_type": "stream",
     "text": [
      "INFO:pystan:COMPILING THE C++ CODE FOR MODEL anon_model_8cec7349647c01e13ab6de1eca9ce14a NOW.\n"
     ]
    }
   ],
   "source": [
    "c0 = 5\n",
    "model_code = \"\"\"\n",
    "data {\n",
    "  int c0;\n",
    "}\n",
    "\n",
    "generated quantities{\n",
    "  vector<lower=0>[1] sigma;\n",
    "  sigma[1] = abs(cauchy_rng(0,c0));\n",
    "}\n",
    "\"\"\"\n",
    "\n",
    "sm = pystan.StanModel(model_code=model_code, verbose=False)\n",
    "# save_obj(sm, \"sm_prior\", log_dir)\n",
    "prior_models_cauchy[c0] = sm\n",
    "\n",
    "param_names = ['sigma']\n",
    "fit_run = prior_models_cauchy[c0].sampling(\n",
    "    data={'c0':c0},\n",
    "    iter=100,\n",
    "    warmup=0,\n",
    "    chains=1,\n",
    "    algorithm=\"Fixed_param\",\n",
    "    n_jobs=1\n",
    ")\n",
    "\n",
    "particles_cauchy[c0] = fit_run.extract(permuted=False, pars=param_names)"
   ]
  },
  {
   "cell_type": "code",
   "execution_count": 65,
   "metadata": {},
   "outputs": [
    {
     "data": {
      "text/html": [
       "\n",
       "<div id=\"altair-viz-30aebf79da7c46bd94866c531e2d4951\"></div>\n",
       "<script type=\"text/javascript\">\n",
       "  (function(spec, embedOpt){\n",
       "    let outputDiv = document.currentScript.previousElementSibling;\n",
       "    if (outputDiv.id !== \"altair-viz-30aebf79da7c46bd94866c531e2d4951\") {\n",
       "      outputDiv = document.getElementById(\"altair-viz-30aebf79da7c46bd94866c531e2d4951\");\n",
       "    }\n",
       "    const paths = {\n",
       "      \"vega\": \"https://cdn.jsdelivr.net/npm//vega@5?noext\",\n",
       "      \"vega-lib\": \"https://cdn.jsdelivr.net/npm//vega-lib?noext\",\n",
       "      \"vega-lite\": \"https://cdn.jsdelivr.net/npm//vega-lite@4.8.1?noext\",\n",
       "      \"vega-embed\": \"https://cdn.jsdelivr.net/npm//vega-embed@6?noext\",\n",
       "    };\n",
       "\n",
       "    function loadScript(lib) {\n",
       "      return new Promise(function(resolve, reject) {\n",
       "        var s = document.createElement('script');\n",
       "        s.src = paths[lib];\n",
       "        s.async = true;\n",
       "        s.onload = () => resolve(paths[lib]);\n",
       "        s.onerror = () => reject(`Error loading script: ${paths[lib]}`);\n",
       "        document.getElementsByTagName(\"head\")[0].appendChild(s);\n",
       "      });\n",
       "    }\n",
       "\n",
       "    function showError(err) {\n",
       "      outputDiv.innerHTML = `<div class=\"error\" style=\"color:red;\">${err}</div>`;\n",
       "      throw err;\n",
       "    }\n",
       "\n",
       "    function displayChart(vegaEmbed) {\n",
       "      vegaEmbed(outputDiv, spec, embedOpt)\n",
       "        .catch(err => showError(`Javascript Error: ${err.message}<br>This usually means there's a typo in your chart specification. See the javascript console for the full traceback.`));\n",
       "    }\n",
       "\n",
       "    if(typeof define === \"function\" && define.amd) {\n",
       "      requirejs.config({paths});\n",
       "      require([\"vega-embed\"], displayChart, err => showError(`Error loading script: ${err.message}`));\n",
       "    } else if (typeof vegaEmbed === \"function\") {\n",
       "      displayChart(vegaEmbed);\n",
       "    } else {\n",
       "      loadScript(\"vega\")\n",
       "        .then(() => loadScript(\"vega-lite\"))\n",
       "        .then(() => loadScript(\"vega-embed\"))\n",
       "        .catch(showError)\n",
       "        .then(() => displayChart(vegaEmbed));\n",
       "    }\n",
       "  })({\"config\": {\"view\": {\"continuousWidth\": 400, \"continuousHeight\": 300}}, \"data\": {\"name\": \"data-5ede64fe7a966d12709b2b987f17408c\"}, \"mark\": {\"type\": \"area\", \"opacity\": 0.5}, \"encoding\": {\"color\": {\"type\": \"nominal\", \"field\": \"source\", \"legend\": {\"labelFontSize\": 14, \"orient\": \"top\"}, \"title\": \"Inference Algorithm\"}, \"column\": {\"type\": \"quantitative\", \"field\": \"col\"}, \"row\": {\"type\": \"quantitative\", \"field\": \"row\"}, \"x\": {\"type\": \"quantitative\", \"field\": \"value\", \"title\": null}, \"y\": {\"type\": \"quantitative\", \"field\": \"density\"}}, \"height\": 200, \"resolve\": {\"scale\": {\"x\": \"independent\"}}, \"selection\": {\"selector028\": {\"type\": \"interval\", \"bind\": \"scales\", \"encodings\": [\"x\", \"y\"]}}, \"transform\": [{\"fold\": [\"value\"]}, {\"density\": \"value\", \"groupby\": [\"cn\", \"row\", \"col\", \"source\"]}], \"width\": 500, \"$schema\": \"https://vega.github.io/schema/vega-lite/v4.8.1.json\", \"datasets\": {\"data-5ede64fe7a966d12709b2b987f17408c\": [{\"idx\": 0, \"row\": 0, \"col\": 0, \"value\": 0.4559788400362709, \"source\": \"1\"}, {\"idx\": 1, \"row\": 0, \"col\": 0, \"value\": null, \"source\": \"1\"}, {\"idx\": 2, \"row\": 0, \"col\": 0, \"value\": null, \"source\": \"1\"}, {\"idx\": 3, \"row\": 0, \"col\": 0, \"value\": 0.9617423964102864, \"source\": \"1\"}, {\"idx\": 4, \"row\": 0, \"col\": 0, \"value\": null, \"source\": \"1\"}, {\"idx\": 5, \"row\": 0, \"col\": 0, \"value\": null, \"source\": \"1\"}, {\"idx\": 6, \"row\": 0, \"col\": 0, \"value\": null, \"source\": \"1\"}, {\"idx\": 7, \"row\": 0, \"col\": 0, \"value\": 0.7194646414881762, \"source\": \"1\"}, {\"idx\": 8, \"row\": 0, \"col\": 0, \"value\": null, \"source\": \"1\"}, {\"idx\": 9, \"row\": 0, \"col\": 0, \"value\": 1.5934942819625564, \"source\": \"1\"}, {\"idx\": 10, \"row\": 0, \"col\": 0, \"value\": 1.1837887264274864, \"source\": \"1\"}, {\"idx\": 11, \"row\": 0, \"col\": 0, \"value\": null, \"source\": \"1\"}, {\"idx\": 12, \"row\": 0, \"col\": 0, \"value\": 8.177511578021289, \"source\": \"1\"}, {\"idx\": 13, \"row\": 0, \"col\": 0, \"value\": null, \"source\": \"1\"}, {\"idx\": 14, \"row\": 0, \"col\": 0, \"value\": 1.8005015328320237, \"source\": \"1\"}, {\"idx\": 15, \"row\": 0, \"col\": 0, \"value\": null, \"source\": \"1\"}, {\"idx\": 16, \"row\": 0, \"col\": 0, \"value\": 0.6261823358118971, \"source\": \"1\"}, {\"idx\": 17, \"row\": 0, \"col\": 0, \"value\": null, \"source\": \"1\"}, {\"idx\": 18, \"row\": 0, \"col\": 0, \"value\": null, \"source\": \"1\"}, {\"idx\": 19, \"row\": 0, \"col\": 0, \"value\": null, \"source\": \"1\"}, {\"idx\": 20, \"row\": 0, \"col\": 0, \"value\": null, \"source\": \"1\"}, {\"idx\": 21, \"row\": 0, \"col\": 0, \"value\": 0.7875167248738494, \"source\": \"1\"}, {\"idx\": 22, \"row\": 0, \"col\": 0, \"value\": 0.1958634579231548, \"source\": \"1\"}, {\"idx\": 23, \"row\": 0, \"col\": 0, \"value\": null, \"source\": \"1\"}, {\"idx\": 24, \"row\": 0, \"col\": 0, \"value\": null, \"source\": \"1\"}, {\"idx\": 25, \"row\": 0, \"col\": 0, \"value\": null, \"source\": \"1\"}, {\"idx\": 26, \"row\": 0, \"col\": 0, \"value\": null, \"source\": \"1\"}, {\"idx\": 27, \"row\": 0, \"col\": 0, \"value\": null, \"source\": \"1\"}, {\"idx\": 28, \"row\": 0, \"col\": 0, \"value\": 4.70134886230581, \"source\": \"1\"}, {\"idx\": 29, \"row\": 0, \"col\": 0, \"value\": null, \"source\": \"1\"}, {\"idx\": 30, \"row\": 0, \"col\": 0, \"value\": null, \"source\": \"1\"}, {\"idx\": 31, \"row\": 0, \"col\": 0, \"value\": 0.005609589180020209, \"source\": \"1\"}, {\"idx\": 32, \"row\": 0, \"col\": 0, \"value\": 1.6813779081095996, \"source\": \"1\"}, {\"idx\": 33, \"row\": 0, \"col\": 0, \"value\": 0.6557882833901352, \"source\": \"1\"}, {\"idx\": 34, \"row\": 0, \"col\": 0, \"value\": null, \"source\": \"1\"}, {\"idx\": 35, \"row\": 0, \"col\": 0, \"value\": null, \"source\": \"1\"}, {\"idx\": 36, \"row\": 0, \"col\": 0, \"value\": 59.737791316962245, \"source\": \"1\"}, {\"idx\": 37, \"row\": 0, \"col\": 0, \"value\": null, \"source\": \"1\"}, {\"idx\": 38, \"row\": 0, \"col\": 0, \"value\": 0.5934925075632743, \"source\": \"1\"}, {\"idx\": 39, \"row\": 0, \"col\": 0, \"value\": null, \"source\": \"1\"}, {\"idx\": 40, \"row\": 0, \"col\": 0, \"value\": 0.4681633644477534, \"source\": \"1\"}, {\"idx\": 41, \"row\": 0, \"col\": 0, \"value\": 0.18681346218548275, \"source\": \"1\"}, {\"idx\": 42, \"row\": 0, \"col\": 0, \"value\": 0.4435897816889452, \"source\": \"1\"}, {\"idx\": 43, \"row\": 0, \"col\": 0, \"value\": null, \"source\": \"1\"}, {\"idx\": 44, \"row\": 0, \"col\": 0, \"value\": 2.594447971647965, \"source\": \"1\"}, {\"idx\": 45, \"row\": 0, \"col\": 0, \"value\": 0.6450964921857176, \"source\": \"1\"}, {\"idx\": 46, \"row\": 0, \"col\": 0, \"value\": 4.638118742533245, \"source\": \"1\"}, {\"idx\": 47, \"row\": 0, \"col\": 0, \"value\": null, \"source\": \"1\"}, {\"idx\": 48, \"row\": 0, \"col\": 0, \"value\": 1.7205062373091602, \"source\": \"1\"}, {\"idx\": 49, \"row\": 0, \"col\": 0, \"value\": null, \"source\": \"1\"}, {\"idx\": 50, \"row\": 0, \"col\": 0, \"value\": 0.29975540130362377, \"source\": \"1\"}, {\"idx\": 51, \"row\": 0, \"col\": 0, \"value\": 0.9133955099045712, \"source\": \"1\"}, {\"idx\": 52, \"row\": 0, \"col\": 0, \"value\": null, \"source\": \"1\"}, {\"idx\": 53, \"row\": 0, \"col\": 0, \"value\": null, \"source\": \"1\"}, {\"idx\": 54, \"row\": 0, \"col\": 0, \"value\": null, \"source\": \"1\"}, {\"idx\": 55, \"row\": 0, \"col\": 0, \"value\": 0.2881137992317696, \"source\": \"1\"}, {\"idx\": 56, \"row\": 0, \"col\": 0, \"value\": 8.946158777458061, \"source\": \"1\"}, {\"idx\": 57, \"row\": 0, \"col\": 0, \"value\": 0.6350587958569837, \"source\": \"1\"}, {\"idx\": 58, \"row\": 0, \"col\": 0, \"value\": null, \"source\": \"1\"}, {\"idx\": 59, \"row\": 0, \"col\": 0, \"value\": null, \"source\": \"1\"}, {\"idx\": 60, \"row\": 0, \"col\": 0, \"value\": null, \"source\": \"1\"}, {\"idx\": 61, \"row\": 0, \"col\": 0, \"value\": 4.022027009925644, \"source\": \"1\"}, {\"idx\": 62, \"row\": 0, \"col\": 0, \"value\": null, \"source\": \"1\"}, {\"idx\": 63, \"row\": 0, \"col\": 0, \"value\": null, \"source\": \"1\"}, {\"idx\": 64, \"row\": 0, \"col\": 0, \"value\": 0.5107960738965401, \"source\": \"1\"}, {\"idx\": 65, \"row\": 0, \"col\": 0, \"value\": 4.085732966719902, \"source\": \"1\"}, {\"idx\": 66, \"row\": 0, \"col\": 0, \"value\": null, \"source\": \"1\"}, {\"idx\": 67, \"row\": 0, \"col\": 0, \"value\": 3.306137447556858, \"source\": \"1\"}, {\"idx\": 68, \"row\": 0, \"col\": 0, \"value\": 9.185387800743396, \"source\": \"1\"}, {\"idx\": 69, \"row\": 0, \"col\": 0, \"value\": null, \"source\": \"1\"}, {\"idx\": 70, \"row\": 0, \"col\": 0, \"value\": 0.16783720722202716, \"source\": \"1\"}, {\"idx\": 71, \"row\": 0, \"col\": 0, \"value\": null, \"source\": \"1\"}, {\"idx\": 72, \"row\": 0, \"col\": 0, \"value\": 2.6351441692079525, \"source\": \"1\"}, {\"idx\": 73, \"row\": 0, \"col\": 0, \"value\": null, \"source\": \"1\"}, {\"idx\": 74, \"row\": 0, \"col\": 0, \"value\": 5.524674957449376, \"source\": \"1\"}, {\"idx\": 75, \"row\": 0, \"col\": 0, \"value\": null, \"source\": \"1\"}, {\"idx\": 76, \"row\": 0, \"col\": 0, \"value\": 0.18290481643953033, \"source\": \"1\"}, {\"idx\": 77, \"row\": 0, \"col\": 0, \"value\": null, \"source\": \"1\"}, {\"idx\": 78, \"row\": 0, \"col\": 0, \"value\": null, \"source\": \"1\"}, {\"idx\": 79, \"row\": 0, \"col\": 0, \"value\": 9.595985733139717, \"source\": \"1\"}, {\"idx\": 80, \"row\": 0, \"col\": 0, \"value\": null, \"source\": \"1\"}, {\"idx\": 81, \"row\": 0, \"col\": 0, \"value\": null, \"source\": \"1\"}, {\"idx\": 82, \"row\": 0, \"col\": 0, \"value\": 1.498703019640626, \"source\": \"1\"}, {\"idx\": 83, \"row\": 0, \"col\": 0, \"value\": 1.0814325003471663, \"source\": \"1\"}, {\"idx\": 84, \"row\": 0, \"col\": 0, \"value\": null, \"source\": \"1\"}, {\"idx\": 85, \"row\": 0, \"col\": 0, \"value\": 0.8626940213640535, \"source\": \"1\"}, {\"idx\": 86, \"row\": 0, \"col\": 0, \"value\": null, \"source\": \"1\"}, {\"idx\": 87, \"row\": 0, \"col\": 0, \"value\": null, \"source\": \"1\"}, {\"idx\": 88, \"row\": 0, \"col\": 0, \"value\": 0.5226995022191261, \"source\": \"1\"}, {\"idx\": 89, \"row\": 0, \"col\": 0, \"value\": 6.561195850889919, \"source\": \"1\"}, {\"idx\": 90, \"row\": 0, \"col\": 0, \"value\": null, \"source\": \"1\"}, {\"idx\": 91, \"row\": 0, \"col\": 0, \"value\": null, \"source\": \"1\"}, {\"idx\": 92, \"row\": 0, \"col\": 0, \"value\": 0.39314662110877235, \"source\": \"1\"}, {\"idx\": 93, \"row\": 0, \"col\": 0, \"value\": 0.40850770861184243, \"source\": \"1\"}, {\"idx\": 94, \"row\": 0, \"col\": 0, \"value\": 1.3332174772711536, \"source\": \"1\"}, {\"idx\": 95, \"row\": 0, \"col\": 0, \"value\": 0.29903507856697037, \"source\": \"1\"}, {\"idx\": 96, \"row\": 0, \"col\": 0, \"value\": 9.118084961386675, \"source\": \"1\"}, {\"idx\": 97, \"row\": 0, \"col\": 0, \"value\": null, \"source\": \"1\"}, {\"idx\": 98, \"row\": 0, \"col\": 0, \"value\": 1.2146282086200542, \"source\": \"1\"}, {\"idx\": 99, \"row\": 0, \"col\": 0, \"value\": 14.572066939322902, \"source\": \"1\"}, {\"idx\": 0, \"row\": 0, \"col\": 0, \"value\": 74.76814380946914, \"source\": \"5\"}, {\"idx\": 1, \"row\": 0, \"col\": 0, \"value\": 0.5522879736826871, \"source\": \"5\"}, {\"idx\": 2, \"row\": 0, \"col\": 0, \"value\": 1.23690247734371, \"source\": \"5\"}, {\"idx\": 3, \"row\": 0, \"col\": 0, \"value\": 8.891625472899664, \"source\": \"5\"}, {\"idx\": 4, \"row\": 0, \"col\": 0, \"value\": 2.3477309182458153, \"source\": \"5\"}, {\"idx\": 5, \"row\": 0, \"col\": 0, \"value\": 4.704503175525537, \"source\": \"5\"}, {\"idx\": 6, \"row\": 0, \"col\": 0, \"value\": 9.212062829907003, \"source\": \"5\"}, {\"idx\": 7, \"row\": 0, \"col\": 0, \"value\": 0.6789456541360741, \"source\": \"5\"}, {\"idx\": 8, \"row\": 0, \"col\": 0, \"value\": 391.0022886514337, \"source\": \"5\"}, {\"idx\": 9, \"row\": 0, \"col\": 0, \"value\": 0.01681658535781752, \"source\": \"5\"}, {\"idx\": 10, \"row\": 0, \"col\": 0, \"value\": 0.11638918967158485, \"source\": \"5\"}, {\"idx\": 11, \"row\": 0, \"col\": 0, \"value\": 4.970736395453608, \"source\": \"5\"}, {\"idx\": 12, \"row\": 0, \"col\": 0, \"value\": 2.1941756462771527, \"source\": \"5\"}, {\"idx\": 13, \"row\": 0, \"col\": 0, \"value\": 14.948708262291992, \"source\": \"5\"}, {\"idx\": 14, \"row\": 0, \"col\": 0, \"value\": 3.6160075810967376, \"source\": \"5\"}, {\"idx\": 15, \"row\": 0, \"col\": 0, \"value\": 4.2511818102235726, \"source\": \"5\"}, {\"idx\": 16, \"row\": 0, \"col\": 0, \"value\": 4.367435738404837, \"source\": \"5\"}, {\"idx\": 17, \"row\": 0, \"col\": 0, \"value\": 0.8154943662488388, \"source\": \"5\"}, {\"idx\": 18, \"row\": 0, \"col\": 0, \"value\": 46.76284945221806, \"source\": \"5\"}, {\"idx\": 19, \"row\": 0, \"col\": 0, \"value\": 9.259530675577068, \"source\": \"5\"}, {\"idx\": 20, \"row\": 0, \"col\": 0, \"value\": 21.484550891260874, \"source\": \"5\"}, {\"idx\": 21, \"row\": 0, \"col\": 0, \"value\": 2.835399545764438, \"source\": \"5\"}, {\"idx\": 22, \"row\": 0, \"col\": 0, \"value\": 0.6160018223676869, \"source\": \"5\"}, {\"idx\": 23, \"row\": 0, \"col\": 0, \"value\": 2.356242258371073, \"source\": \"5\"}, {\"idx\": 24, \"row\": 0, \"col\": 0, \"value\": 4.307960355309403, \"source\": \"5\"}, {\"idx\": 25, \"row\": 0, \"col\": 0, \"value\": 4.244780020658942, \"source\": \"5\"}, {\"idx\": 26, \"row\": 0, \"col\": 0, \"value\": 12.071607823604555, \"source\": \"5\"}, {\"idx\": 27, \"row\": 0, \"col\": 0, \"value\": 1.4063037466438286, \"source\": \"5\"}, {\"idx\": 28, \"row\": 0, \"col\": 0, \"value\": 2.5446798884893003, \"source\": \"5\"}, {\"idx\": 29, \"row\": 0, \"col\": 0, \"value\": 6.686911902361347, \"source\": \"5\"}, {\"idx\": 30, \"row\": 0, \"col\": 0, \"value\": 46.11093072324964, \"source\": \"5\"}, {\"idx\": 31, \"row\": 0, \"col\": 0, \"value\": 2.219180965596414, \"source\": \"5\"}, {\"idx\": 32, \"row\": 0, \"col\": 0, \"value\": 5.424684938890958, \"source\": \"5\"}, {\"idx\": 33, \"row\": 0, \"col\": 0, \"value\": 10.296709102691201, \"source\": \"5\"}, {\"idx\": 34, \"row\": 0, \"col\": 0, \"value\": 0.7650335784429706, \"source\": \"5\"}, {\"idx\": 35, \"row\": 0, \"col\": 0, \"value\": 0.5561843148684781, \"source\": \"5\"}, {\"idx\": 36, \"row\": 0, \"col\": 0, \"value\": 4.621900247631826, \"source\": \"5\"}, {\"idx\": 37, \"row\": 0, \"col\": 0, \"value\": 0.7780519168993252, \"source\": \"5\"}, {\"idx\": 38, \"row\": 0, \"col\": 0, \"value\": 6.113016870527508, \"source\": \"5\"}, {\"idx\": 39, \"row\": 0, \"col\": 0, \"value\": 6.566496106988275, \"source\": \"5\"}, {\"idx\": 40, \"row\": 0, \"col\": 0, \"value\": 22.18555434655531, \"source\": \"5\"}, {\"idx\": 41, \"row\": 0, \"col\": 0, \"value\": 11.455973451994687, \"source\": \"5\"}, {\"idx\": 42, \"row\": 0, \"col\": 0, \"value\": 1.2197575463520551, \"source\": \"5\"}, {\"idx\": 43, \"row\": 0, \"col\": 0, \"value\": 2.593291140546434, \"source\": \"5\"}, {\"idx\": 44, \"row\": 0, \"col\": 0, \"value\": 12.533757691616024, \"source\": \"5\"}, {\"idx\": 45, \"row\": 0, \"col\": 0, \"value\": 2.0070296311196674, \"source\": \"5\"}, {\"idx\": 46, \"row\": 0, \"col\": 0, \"value\": 13.408257458038701, \"source\": \"5\"}, {\"idx\": 47, \"row\": 0, \"col\": 0, \"value\": 0.08847034013471805, \"source\": \"5\"}, {\"idx\": 48, \"row\": 0, \"col\": 0, \"value\": 2.5073907090313154, \"source\": \"5\"}, {\"idx\": 49, \"row\": 0, \"col\": 0, \"value\": 18.91441631385707, \"source\": \"5\"}, {\"idx\": 50, \"row\": 0, \"col\": 0, \"value\": 3.483089071119014, \"source\": \"5\"}, {\"idx\": 51, \"row\": 0, \"col\": 0, \"value\": 0.30130339223164115, \"source\": \"5\"}, {\"idx\": 52, \"row\": 0, \"col\": 0, \"value\": 10.472586571126607, \"source\": \"5\"}, {\"idx\": 53, \"row\": 0, \"col\": 0, \"value\": 3.888049787342023, \"source\": \"5\"}, {\"idx\": 54, \"row\": 0, \"col\": 0, \"value\": 4.9394721394201895, \"source\": \"5\"}, {\"idx\": 55, \"row\": 0, \"col\": 0, \"value\": 3.962016805462853, \"source\": \"5\"}, {\"idx\": 56, \"row\": 0, \"col\": 0, \"value\": 2.582372986869877, \"source\": \"5\"}, {\"idx\": 57, \"row\": 0, \"col\": 0, \"value\": 42.17382291889747, \"source\": \"5\"}, {\"idx\": 58, \"row\": 0, \"col\": 0, \"value\": 9.256858823521174, \"source\": \"5\"}, {\"idx\": 59, \"row\": 0, \"col\": 0, \"value\": 1.9420841318781936, \"source\": \"5\"}, {\"idx\": 60, \"row\": 0, \"col\": 0, \"value\": 13.99849295930923, \"source\": \"5\"}, {\"idx\": 61, \"row\": 0, \"col\": 0, \"value\": 1.010857902682774, \"source\": \"5\"}, {\"idx\": 62, \"row\": 0, \"col\": 0, \"value\": 5.549392678103989, \"source\": \"5\"}, {\"idx\": 63, \"row\": 0, \"col\": 0, \"value\": 17.96455160431821, \"source\": \"5\"}, {\"idx\": 64, \"row\": 0, \"col\": 0, \"value\": 7.903121549719753, \"source\": \"5\"}, {\"idx\": 65, \"row\": 0, \"col\": 0, \"value\": 0.32622792492132, \"source\": \"5\"}, {\"idx\": 66, \"row\": 0, \"col\": 0, \"value\": 463.0075390846263, \"source\": \"5\"}, {\"idx\": 67, \"row\": 0, \"col\": 0, \"value\": 2.042642076258359, \"source\": \"5\"}, {\"idx\": 68, \"row\": 0, \"col\": 0, \"value\": 9.242140978343963, \"source\": \"5\"}, {\"idx\": 69, \"row\": 0, \"col\": 0, \"value\": 19.973010342398418, \"source\": \"5\"}, {\"idx\": 70, \"row\": 0, \"col\": 0, \"value\": 1.4075525843798442, \"source\": \"5\"}, {\"idx\": 71, \"row\": 0, \"col\": 0, \"value\": 10.228230947761043, \"source\": \"5\"}, {\"idx\": 72, \"row\": 0, \"col\": 0, \"value\": 4.193379630875787, \"source\": \"5\"}, {\"idx\": 73, \"row\": 0, \"col\": 0, \"value\": 60.236787099894244, \"source\": \"5\"}, {\"idx\": 74, \"row\": 0, \"col\": 0, \"value\": 1.179678781148261, \"source\": \"5\"}, {\"idx\": 75, \"row\": 0, \"col\": 0, \"value\": 5.3852312801848, \"source\": \"5\"}, {\"idx\": 76, \"row\": 0, \"col\": 0, \"value\": 123.75699939418509, \"source\": \"5\"}, {\"idx\": 77, \"row\": 0, \"col\": 0, \"value\": 28.051248524195977, \"source\": \"5\"}, {\"idx\": 78, \"row\": 0, \"col\": 0, \"value\": 16.536022751857026, \"source\": \"5\"}, {\"idx\": 79, \"row\": 0, \"col\": 0, \"value\": 0.351737691263612, \"source\": \"5\"}, {\"idx\": 80, \"row\": 0, \"col\": 0, \"value\": 3.6205836979855426, \"source\": \"5\"}, {\"idx\": 81, \"row\": 0, \"col\": 0, \"value\": 3.4585162559862055, \"source\": \"5\"}, {\"idx\": 82, \"row\": 0, \"col\": 0, \"value\": 1.939818116951485, \"source\": \"5\"}, {\"idx\": 83, \"row\": 0, \"col\": 0, \"value\": 14.965334784186823, \"source\": \"5\"}, {\"idx\": 84, \"row\": 0, \"col\": 0, \"value\": 2.1945399720748577, \"source\": \"5\"}, {\"idx\": 85, \"row\": 0, \"col\": 0, \"value\": 0.6249073716277879, \"source\": \"5\"}, {\"idx\": 86, \"row\": 0, \"col\": 0, \"value\": 5.935017822730647, \"source\": \"5\"}, {\"idx\": 87, \"row\": 0, \"col\": 0, \"value\": 578.7268104665818, \"source\": \"5\"}, {\"idx\": 88, \"row\": 0, \"col\": 0, \"value\": 25.73310577149639, \"source\": \"5\"}, {\"idx\": 89, \"row\": 0, \"col\": 0, \"value\": 3.550608541712924, \"source\": \"5\"}, {\"idx\": 90, \"row\": 0, \"col\": 0, \"value\": 2.581752863014246, \"source\": \"5\"}, {\"idx\": 91, \"row\": 0, \"col\": 0, \"value\": 65.96592141952283, \"source\": \"5\"}, {\"idx\": 92, \"row\": 0, \"col\": 0, \"value\": 0.7493698393637939, \"source\": \"5\"}, {\"idx\": 93, \"row\": 0, \"col\": 0, \"value\": 4.016802140137138, \"source\": \"5\"}, {\"idx\": 94, \"row\": 0, \"col\": 0, \"value\": 5.224345693743146, \"source\": \"5\"}, {\"idx\": 95, \"row\": 0, \"col\": 0, \"value\": 2.840933350801426, \"source\": \"5\"}, {\"idx\": 96, \"row\": 0, \"col\": 0, \"value\": 5.203297003125366, \"source\": \"5\"}, {\"idx\": 97, \"row\": 0, \"col\": 0, \"value\": 0.9817436151431603, \"source\": \"5\"}, {\"idx\": 98, \"row\": 0, \"col\": 0, \"value\": 2.9931215223762724, \"source\": \"5\"}, {\"idx\": 99, \"row\": 0, \"col\": 0, \"value\": 0.22232634866027395, \"source\": \"5\"}, {\"idx\": 0, \"row\": 0, \"col\": 0, \"value\": 8.951006904749176, \"source\": \"10\"}, {\"idx\": 1, \"row\": 0, \"col\": 0, \"value\": 37.05266402755604, \"source\": \"10\"}, {\"idx\": 2, \"row\": 0, \"col\": 0, \"value\": 139.62837076910142, \"source\": \"10\"}, {\"idx\": 3, \"row\": 0, \"col\": 0, \"value\": 127.69319351819729, \"source\": \"10\"}, {\"idx\": 4, \"row\": 0, \"col\": 0, \"value\": 13.074714732732282, \"source\": \"10\"}, {\"idx\": 5, \"row\": 0, \"col\": 0, \"value\": 9.947003353481119, \"source\": \"10\"}, {\"idx\": 6, \"row\": 0, \"col\": 0, \"value\": 4.0552135324142435, \"source\": \"10\"}, {\"idx\": 7, \"row\": 0, \"col\": 0, \"value\": 5.983351047585983, \"source\": \"10\"}, {\"idx\": 8, \"row\": 0, \"col\": 0, \"value\": 22.27833807707306, \"source\": \"10\"}, {\"idx\": 9, \"row\": 0, \"col\": 0, \"value\": 33.06887524119968, \"source\": \"10\"}, {\"idx\": 10, \"row\": 0, \"col\": 0, \"value\": 213.33432454493916, \"source\": \"10\"}, {\"idx\": 11, \"row\": 0, \"col\": 0, \"value\": 8.527627567060547, \"source\": \"10\"}, {\"idx\": 12, \"row\": 0, \"col\": 0, \"value\": 10.550159050701417, \"source\": \"10\"}, {\"idx\": 13, \"row\": 0, \"col\": 0, \"value\": 4.769968555848527, \"source\": \"10\"}, {\"idx\": 14, \"row\": 0, \"col\": 0, \"value\": 0.7080834323531833, \"source\": \"10\"}, {\"idx\": 15, \"row\": 0, \"col\": 0, \"value\": 7.333340567115654, \"source\": \"10\"}, {\"idx\": 16, \"row\": 0, \"col\": 0, \"value\": 68.91641311666847, \"source\": \"10\"}, {\"idx\": 17, \"row\": 0, \"col\": 0, \"value\": 7.895377500349882, \"source\": \"10\"}, {\"idx\": 18, \"row\": 0, \"col\": 0, \"value\": 248.0317270112643, \"source\": \"10\"}, {\"idx\": 19, \"row\": 0, \"col\": 0, \"value\": 0.18034963569460408, \"source\": \"10\"}, {\"idx\": 20, \"row\": 0, \"col\": 0, \"value\": 9.735391770703037, \"source\": \"10\"}, {\"idx\": 21, \"row\": 0, \"col\": 0, \"value\": 14.426760907731094, \"source\": \"10\"}, {\"idx\": 22, \"row\": 0, \"col\": 0, \"value\": 4.607305011578677, \"source\": \"10\"}, {\"idx\": 23, \"row\": 0, \"col\": 0, \"value\": 39.50848944273632, \"source\": \"10\"}, {\"idx\": 24, \"row\": 0, \"col\": 0, \"value\": 16.780134729760587, \"source\": \"10\"}, {\"idx\": 25, \"row\": 0, \"col\": 0, \"value\": 0.42409910077199525, \"source\": \"10\"}, {\"idx\": 26, \"row\": 0, \"col\": 0, \"value\": 1109.5397835411354, \"source\": \"10\"}, {\"idx\": 27, \"row\": 0, \"col\": 0, \"value\": 4.653156745358043, \"source\": \"10\"}, {\"idx\": 28, \"row\": 0, \"col\": 0, \"value\": 29.24443724022101, \"source\": \"10\"}, {\"idx\": 29, \"row\": 0, \"col\": 0, \"value\": 19.542732135464867, \"source\": \"10\"}, {\"idx\": 30, \"row\": 0, \"col\": 0, \"value\": 0.8322449332893764, \"source\": \"10\"}, {\"idx\": 31, \"row\": 0, \"col\": 0, \"value\": 13.40424010436638, \"source\": \"10\"}, {\"idx\": 32, \"row\": 0, \"col\": 0, \"value\": 18.78429132902237, \"source\": \"10\"}, {\"idx\": 33, \"row\": 0, \"col\": 0, \"value\": 8.09902867047536, \"source\": \"10\"}, {\"idx\": 34, \"row\": 0, \"col\": 0, \"value\": 6.596999523025823, \"source\": \"10\"}, {\"idx\": 35, \"row\": 0, \"col\": 0, \"value\": 13.044005085119068, \"source\": \"10\"}, {\"idx\": 36, \"row\": 0, \"col\": 0, \"value\": 0.36082911086422775, \"source\": \"10\"}, {\"idx\": 37, \"row\": 0, \"col\": 0, \"value\": 0.7765432428929142, \"source\": \"10\"}, {\"idx\": 38, \"row\": 0, \"col\": 0, \"value\": 0.7124371909856546, \"source\": \"10\"}, {\"idx\": 39, \"row\": 0, \"col\": 0, \"value\": 14.068042813487516, \"source\": \"10\"}, {\"idx\": 40, \"row\": 0, \"col\": 0, \"value\": 4.315278392774731, \"source\": \"10\"}, {\"idx\": 41, \"row\": 0, \"col\": 0, \"value\": 3.111550958483157, \"source\": \"10\"}, {\"idx\": 42, \"row\": 0, \"col\": 0, \"value\": 4.329964367121989, \"source\": \"10\"}, {\"idx\": 43, \"row\": 0, \"col\": 0, \"value\": 42.09998667910979, \"source\": \"10\"}, {\"idx\": 44, \"row\": 0, \"col\": 0, \"value\": 5.854495086157194, \"source\": \"10\"}, {\"idx\": 45, \"row\": 0, \"col\": 0, \"value\": 22.195023966862447, \"source\": \"10\"}, {\"idx\": 46, \"row\": 0, \"col\": 0, \"value\": 3.79266610333055, \"source\": \"10\"}, {\"idx\": 47, \"row\": 0, \"col\": 0, \"value\": 12.444274193855236, \"source\": \"10\"}, {\"idx\": 48, \"row\": 0, \"col\": 0, \"value\": 18.956910986677713, \"source\": \"10\"}, {\"idx\": 49, \"row\": 0, \"col\": 0, \"value\": 0.6666158189660005, \"source\": \"10\"}, {\"idx\": 50, \"row\": 0, \"col\": 0, \"value\": 6.826597662334556, \"source\": \"10\"}, {\"idx\": 51, \"row\": 0, \"col\": 0, \"value\": 3.7930769830192235, \"source\": \"10\"}, {\"idx\": 52, \"row\": 0, \"col\": 0, \"value\": 29.89311897456477, \"source\": \"10\"}, {\"idx\": 53, \"row\": 0, \"col\": 0, \"value\": 9.316160520608545, \"source\": \"10\"}, {\"idx\": 54, \"row\": 0, \"col\": 0, \"value\": 16.10465442147615, \"source\": \"10\"}, {\"idx\": 55, \"row\": 0, \"col\": 0, \"value\": 37.87668018470526, \"source\": \"10\"}, {\"idx\": 56, \"row\": 0, \"col\": 0, \"value\": 2.0940632620020656, \"source\": \"10\"}, {\"idx\": 57, \"row\": 0, \"col\": 0, \"value\": 35.81740864219588, \"source\": \"10\"}, {\"idx\": 58, \"row\": 0, \"col\": 0, \"value\": 5.071517836833613, \"source\": \"10\"}, {\"idx\": 59, \"row\": 0, \"col\": 0, \"value\": 14.031101502960484, \"source\": \"10\"}, {\"idx\": 60, \"row\": 0, \"col\": 0, \"value\": 117.38454525970948, \"source\": \"10\"}, {\"idx\": 61, \"row\": 0, \"col\": 0, \"value\": 28.657391757644966, \"source\": \"10\"}, {\"idx\": 62, \"row\": 0, \"col\": 0, \"value\": 0.29652691978465007, \"source\": \"10\"}, {\"idx\": 63, \"row\": 0, \"col\": 0, \"value\": 154.38766730988138, \"source\": \"10\"}, {\"idx\": 64, \"row\": 0, \"col\": 0, \"value\": 12.510647627895011, \"source\": \"10\"}, {\"idx\": 65, \"row\": 0, \"col\": 0, \"value\": 5.505511250431319, \"source\": \"10\"}, {\"idx\": 66, \"row\": 0, \"col\": 0, \"value\": 3.4509556305815825, \"source\": \"10\"}, {\"idx\": 67, \"row\": 0, \"col\": 0, \"value\": 14.445305942651636, \"source\": \"10\"}, {\"idx\": 68, \"row\": 0, \"col\": 0, \"value\": 26.305529558004768, \"source\": \"10\"}, {\"idx\": 69, \"row\": 0, \"col\": 0, \"value\": 12.760508277016582, \"source\": \"10\"}, {\"idx\": 70, \"row\": 0, \"col\": 0, \"value\": 3.122190184201032, \"source\": \"10\"}, {\"idx\": 71, \"row\": 0, \"col\": 0, \"value\": 82.06873984138855, \"source\": \"10\"}, {\"idx\": 72, \"row\": 0, \"col\": 0, \"value\": 13.546996941684718, \"source\": \"10\"}, {\"idx\": 73, \"row\": 0, \"col\": 0, \"value\": 7.014478830167501, \"source\": \"10\"}, {\"idx\": 74, \"row\": 0, \"col\": 0, \"value\": 3.20813627496285, \"source\": \"10\"}, {\"idx\": 75, \"row\": 0, \"col\": 0, \"value\": 16.328738106382566, \"source\": \"10\"}, {\"idx\": 76, \"row\": 0, \"col\": 0, \"value\": 6.566806749615123, \"source\": \"10\"}, {\"idx\": 77, \"row\": 0, \"col\": 0, \"value\": 45.869969952300934, \"source\": \"10\"}, {\"idx\": 78, \"row\": 0, \"col\": 0, \"value\": 13.492339365373693, \"source\": \"10\"}, {\"idx\": 79, \"row\": 0, \"col\": 0, \"value\": 4.412396171534201, \"source\": \"10\"}, {\"idx\": 80, \"row\": 0, \"col\": 0, \"value\": 17.064325850443783, \"source\": \"10\"}, {\"idx\": 81, \"row\": 0, \"col\": 0, \"value\": 9.744029303500213, \"source\": \"10\"}, {\"idx\": 82, \"row\": 0, \"col\": 0, \"value\": 13.26025453288924, \"source\": \"10\"}, {\"idx\": 83, \"row\": 0, \"col\": 0, \"value\": 22.859074985358646, \"source\": \"10\"}, {\"idx\": 84, \"row\": 0, \"col\": 0, \"value\": 118.59540387181276, \"source\": \"10\"}, {\"idx\": 85, \"row\": 0, \"col\": 0, \"value\": 17.61222729704557, \"source\": \"10\"}, {\"idx\": 86, \"row\": 0, \"col\": 0, \"value\": 0.8408911533800421, \"source\": \"10\"}, {\"idx\": 87, \"row\": 0, \"col\": 0, \"value\": 27.747813091901413, \"source\": \"10\"}, {\"idx\": 88, \"row\": 0, \"col\": 0, \"value\": 18.333193660748623, \"source\": \"10\"}, {\"idx\": 89, \"row\": 0, \"col\": 0, \"value\": 81.89019023256064, \"source\": \"10\"}, {\"idx\": 90, \"row\": 0, \"col\": 0, \"value\": 0.41714606408648464, \"source\": \"10\"}, {\"idx\": 91, \"row\": 0, \"col\": 0, \"value\": 3.317637987854986, \"source\": \"10\"}, {\"idx\": 92, \"row\": 0, \"col\": 0, \"value\": 57.670667374655345, \"source\": \"10\"}, {\"idx\": 93, \"row\": 0, \"col\": 0, \"value\": 7.626666105691507, \"source\": \"10\"}, {\"idx\": 94, \"row\": 0, \"col\": 0, \"value\": 210.98196119450776, \"source\": \"10\"}, {\"idx\": 95, \"row\": 0, \"col\": 0, \"value\": 5.097954362288092, \"source\": \"10\"}, {\"idx\": 96, \"row\": 0, \"col\": 0, \"value\": 5.020705120720223, \"source\": \"10\"}, {\"idx\": 97, \"row\": 0, \"col\": 0, \"value\": 33.82208034393472, \"source\": \"10\"}, {\"idx\": 98, \"row\": 0, \"col\": 0, \"value\": 0.40409462762295567, \"source\": \"10\"}, {\"idx\": 99, \"row\": 0, \"col\": 0, \"value\": 5.810557904372519, \"source\": \"10\"}]}}, {\"mode\": \"vega-lite\"});\n",
       "</script>"
      ],
      "text/plain": [
       "alt.Chart(...)"
      ]
     },
     "execution_count": 65,
     "metadata": {},
     "output_type": "execute_result"
    }
   ],
   "source": [
    "c0=10\n",
    "param = 'sigma'\n",
    "dfs = []\n",
    "for c0 in [1,5,10]:\n",
    "    df = get_post_df(np.squeeze(particles_cauchy[c0][param]))\n",
    "    df['source'] = str(c0)\n",
    "    dfs.append(df)\n",
    "plot_density(pd.concat(dfs), 500, 200).interactive()"
   ]
  },
  {
   "cell_type": "code",
   "execution_count": 74,
   "metadata": {},
   "outputs": [],
   "source": [
    "prior_models_uniform=dict()\n",
    "particles_uniform=dict()\n"
   ]
  },
  {
   "cell_type": "code",
   "execution_count": 75,
   "metadata": {},
   "outputs": [
    {
     "name": "stderr",
     "output_type": "stream",
     "text": [
      "INFO:pystan:COMPILING THE C++ CODE FOR MODEL anon_model_0f874ca20329c9e1fe969afa61bdc9ca NOW.\n"
     ]
    }
   ],
   "source": [
    "c0 = 5\n",
    "model_code = \"\"\"\n",
    "data {\n",
    "  int c0;\n",
    "}\n",
    "\n",
    "generated quantities{\n",
    "  vector<lower=0>[1] sigma;\n",
    "  sigma[1] = uniform_rng(0,c0);\n",
    "}\n",
    "\"\"\"\n",
    "\n",
    "sm = pystan.StanModel(model_code=model_code, verbose=False)\n",
    "# save_obj(sm, \"sm_prior\", log_dir)\n",
    "prior_models_uniform[c0] = sm\n",
    "\n",
    "param_names = ['sigma']\n",
    "fit_run = prior_models_uniform[c0].sampling(\n",
    "    data={'c0':c0},\n",
    "    iter=100,\n",
    "    warmup=0,\n",
    "    chains=1,\n",
    "    algorithm=\"Fixed_param\",\n",
    "    n_jobs=1\n",
    ")\n",
    "\n",
    "particles_uniform[c0] = fit_run.extract(permuted=False, pars=param_names)"
   ]
  },
  {
   "cell_type": "code",
   "execution_count": 76,
   "metadata": {},
   "outputs": [
    {
     "data": {
      "text/html": [
       "\n",
       "<div id=\"altair-viz-3a7eaf1a56454c4c9154f4bee929d2dc\"></div>\n",
       "<script type=\"text/javascript\">\n",
       "  (function(spec, embedOpt){\n",
       "    let outputDiv = document.currentScript.previousElementSibling;\n",
       "    if (outputDiv.id !== \"altair-viz-3a7eaf1a56454c4c9154f4bee929d2dc\") {\n",
       "      outputDiv = document.getElementById(\"altair-viz-3a7eaf1a56454c4c9154f4bee929d2dc\");\n",
       "    }\n",
       "    const paths = {\n",
       "      \"vega\": \"https://cdn.jsdelivr.net/npm//vega@5?noext\",\n",
       "      \"vega-lib\": \"https://cdn.jsdelivr.net/npm//vega-lib?noext\",\n",
       "      \"vega-lite\": \"https://cdn.jsdelivr.net/npm//vega-lite@4.8.1?noext\",\n",
       "      \"vega-embed\": \"https://cdn.jsdelivr.net/npm//vega-embed@6?noext\",\n",
       "    };\n",
       "\n",
       "    function loadScript(lib) {\n",
       "      return new Promise(function(resolve, reject) {\n",
       "        var s = document.createElement('script');\n",
       "        s.src = paths[lib];\n",
       "        s.async = true;\n",
       "        s.onload = () => resolve(paths[lib]);\n",
       "        s.onerror = () => reject(`Error loading script: ${paths[lib]}`);\n",
       "        document.getElementsByTagName(\"head\")[0].appendChild(s);\n",
       "      });\n",
       "    }\n",
       "\n",
       "    function showError(err) {\n",
       "      outputDiv.innerHTML = `<div class=\"error\" style=\"color:red;\">${err}</div>`;\n",
       "      throw err;\n",
       "    }\n",
       "\n",
       "    function displayChart(vegaEmbed) {\n",
       "      vegaEmbed(outputDiv, spec, embedOpt)\n",
       "        .catch(err => showError(`Javascript Error: ${err.message}<br>This usually means there's a typo in your chart specification. See the javascript console for the full traceback.`));\n",
       "    }\n",
       "\n",
       "    if(typeof define === \"function\" && define.amd) {\n",
       "      requirejs.config({paths});\n",
       "      require([\"vega-embed\"], displayChart, err => showError(`Error loading script: ${err.message}`));\n",
       "    } else if (typeof vegaEmbed === \"function\") {\n",
       "      displayChart(vegaEmbed);\n",
       "    } else {\n",
       "      loadScript(\"vega\")\n",
       "        .then(() => loadScript(\"vega-lite\"))\n",
       "        .then(() => loadScript(\"vega-embed\"))\n",
       "        .catch(showError)\n",
       "        .then(() => displayChart(vegaEmbed));\n",
       "    }\n",
       "  })({\"config\": {\"view\": {\"continuousWidth\": 400, \"continuousHeight\": 300}}, \"data\": {\"name\": \"data-a39dd2c78a3662591d8cc06db83b83f5\"}, \"mark\": {\"type\": \"area\", \"opacity\": 0.5}, \"encoding\": {\"color\": {\"type\": \"nominal\", \"field\": \"source\", \"legend\": {\"labelFontSize\": 14, \"orient\": \"top\"}, \"title\": \"Inference Algorithm\"}, \"column\": {\"type\": \"quantitative\", \"field\": \"col\"}, \"row\": {\"type\": \"quantitative\", \"field\": \"row\"}, \"x\": {\"type\": \"quantitative\", \"field\": \"value\", \"title\": null}, \"y\": {\"type\": \"quantitative\", \"field\": \"density\"}}, \"height\": 200, \"resolve\": {\"scale\": {\"x\": \"independent\"}}, \"selection\": {\"selector032\": {\"type\": \"interval\", \"bind\": \"scales\", \"encodings\": [\"x\", \"y\"]}}, \"transform\": [{\"fold\": [\"value\"]}, {\"density\": \"value\", \"groupby\": [\"cn\", \"row\", \"col\", \"source\"]}], \"width\": 500, \"$schema\": \"https://vega.github.io/schema/vega-lite/v4.8.1.json\", \"datasets\": {\"data-a39dd2c78a3662591d8cc06db83b83f5\": [{\"idx\": 0, \"row\": 0, \"col\": 0, \"value\": 0.8492387100283658, \"source\": \"5\"}, {\"idx\": 1, \"row\": 0, \"col\": 0, \"value\": 3.829667202360639, \"source\": \"5\"}, {\"idx\": 2, \"row\": 0, \"col\": 0, \"value\": 0.07895079990372471, \"source\": \"5\"}, {\"idx\": 3, \"row\": 0, \"col\": 0, \"value\": 4.499311499270046, \"source\": \"5\"}, {\"idx\": 4, \"row\": 0, \"col\": 0, \"value\": 0.9906752548171542, \"source\": \"5\"}, {\"idx\": 5, \"row\": 0, \"col\": 0, \"value\": 3.8422401251423413, \"source\": \"5\"}, {\"idx\": 6, \"row\": 0, \"col\": 0, \"value\": 1.135099352159791, \"source\": \"5\"}, {\"idx\": 7, \"row\": 0, \"col\": 0, \"value\": 3.5250071916499257, \"source\": \"5\"}, {\"idx\": 8, \"row\": 0, \"col\": 0, \"value\": 1.8835623804416344, \"source\": \"5\"}, {\"idx\": 9, \"row\": 0, \"col\": 0, \"value\": 4.412500275985814, \"source\": \"5\"}, {\"idx\": 10, \"row\": 0, \"col\": 0, \"value\": 0.9121069491101418, \"source\": \"5\"}, {\"idx\": 11, \"row\": 0, \"col\": 0, \"value\": 1.7026176054147604, \"source\": \"5\"}, {\"idx\": 12, \"row\": 0, \"col\": 0, \"value\": 3.7373422931001694, \"source\": \"5\"}, {\"idx\": 13, \"row\": 0, \"col\": 0, \"value\": 4.8157789321416, \"source\": \"5\"}, {\"idx\": 14, \"row\": 0, \"col\": 0, \"value\": 2.189166519450173, \"source\": \"5\"}, {\"idx\": 15, \"row\": 0, \"col\": 0, \"value\": 1.7334085046654248, \"source\": \"5\"}, {\"idx\": 16, \"row\": 0, \"col\": 0, \"value\": 0.5559648423516081, \"source\": \"5\"}, {\"idx\": 17, \"row\": 0, \"col\": 0, \"value\": 1.999128410557771, \"source\": \"5\"}, {\"idx\": 18, \"row\": 0, \"col\": 0, \"value\": 1.4747625784154896, \"source\": \"5\"}, {\"idx\": 19, \"row\": 0, \"col\": 0, \"value\": 2.4907213073233296, \"source\": \"5\"}, {\"idx\": 20, \"row\": 0, \"col\": 0, \"value\": 2.841786464859562, \"source\": \"5\"}, {\"idx\": 21, \"row\": 0, \"col\": 0, \"value\": 0.6912480781075241, \"source\": \"5\"}, {\"idx\": 22, \"row\": 0, \"col\": 0, \"value\": 2.2348544780153246, \"source\": \"5\"}, {\"idx\": 23, \"row\": 0, \"col\": 0, \"value\": 4.159822989136343, \"source\": \"5\"}, {\"idx\": 24, \"row\": 0, \"col\": 0, \"value\": 2.9044233773743784, \"source\": \"5\"}, {\"idx\": 25, \"row\": 0, \"col\": 0, \"value\": 2.2315563992196, \"source\": \"5\"}, {\"idx\": 26, \"row\": 0, \"col\": 0, \"value\": 2.879607629797541, \"source\": \"5\"}, {\"idx\": 27, \"row\": 0, \"col\": 0, \"value\": 1.6809702825562303, \"source\": \"5\"}, {\"idx\": 28, \"row\": 0, \"col\": 0, \"value\": 0.8084549147296337, \"source\": \"5\"}, {\"idx\": 29, \"row\": 0, \"col\": 0, \"value\": 1.7139042203294872, \"source\": \"5\"}, {\"idx\": 30, \"row\": 0, \"col\": 0, \"value\": 1.8949071797365404, \"source\": \"5\"}, {\"idx\": 31, \"row\": 0, \"col\": 0, \"value\": 0.28992698990447496, \"source\": \"5\"}, {\"idx\": 32, \"row\": 0, \"col\": 0, \"value\": 0.7841983029810031, \"source\": \"5\"}, {\"idx\": 33, \"row\": 0, \"col\": 0, \"value\": 1.0512657046359268, \"source\": \"5\"}, {\"idx\": 34, \"row\": 0, \"col\": 0, \"value\": 1.833457119146973, \"source\": \"5\"}, {\"idx\": 35, \"row\": 0, \"col\": 0, \"value\": 3.987831023034392, \"source\": \"5\"}, {\"idx\": 36, \"row\": 0, \"col\": 0, \"value\": 2.0666152088571845, \"source\": \"5\"}, {\"idx\": 37, \"row\": 0, \"col\": 0, \"value\": 4.554770086757014, \"source\": \"5\"}, {\"idx\": 38, \"row\": 0, \"col\": 0, \"value\": 2.1316512060919792, \"source\": \"5\"}, {\"idx\": 39, \"row\": 0, \"col\": 0, \"value\": 1.546483334618419, \"source\": \"5\"}, {\"idx\": 40, \"row\": 0, \"col\": 0, \"value\": 1.507846989983153, \"source\": \"5\"}, {\"idx\": 41, \"row\": 0, \"col\": 0, \"value\": 0.9479554214161663, \"source\": \"5\"}, {\"idx\": 42, \"row\": 0, \"col\": 0, \"value\": 1.8549595188938635, \"source\": \"5\"}, {\"idx\": 43, \"row\": 0, \"col\": 0, \"value\": 1.6667168602988356, \"source\": \"5\"}, {\"idx\": 44, \"row\": 0, \"col\": 0, \"value\": 1.5875066032286584, \"source\": \"5\"}, {\"idx\": 45, \"row\": 0, \"col\": 0, \"value\": 3.834986556232369, \"source\": \"5\"}, {\"idx\": 46, \"row\": 0, \"col\": 0, \"value\": 2.6778661600763396, \"source\": \"5\"}, {\"idx\": 47, \"row\": 0, \"col\": 0, \"value\": 1.4927360384610013, \"source\": \"5\"}, {\"idx\": 48, \"row\": 0, \"col\": 0, \"value\": 2.9373680626105765, \"source\": \"5\"}, {\"idx\": 49, \"row\": 0, \"col\": 0, \"value\": 3.9203310139237284, \"source\": \"5\"}, {\"idx\": 50, \"row\": 0, \"col\": 0, \"value\": 0.10330414347544142, \"source\": \"5\"}, {\"idx\": 51, \"row\": 0, \"col\": 0, \"value\": 4.669423569725094, \"source\": \"5\"}, {\"idx\": 52, \"row\": 0, \"col\": 0, \"value\": 0.04936839185919692, \"source\": \"5\"}, {\"idx\": 53, \"row\": 0, \"col\": 0, \"value\": 1.5353409839045837, \"source\": \"5\"}, {\"idx\": 54, \"row\": 0, \"col\": 0, \"value\": 0.41849722433405057, \"source\": \"5\"}, {\"idx\": 55, \"row\": 0, \"col\": 0, \"value\": 4.514149808425867, \"source\": \"5\"}, {\"idx\": 56, \"row\": 0, \"col\": 0, \"value\": 4.725092661733725, \"source\": \"5\"}, {\"idx\": 57, \"row\": 0, \"col\": 0, \"value\": 1.5953761093329382, \"source\": \"5\"}, {\"idx\": 58, \"row\": 0, \"col\": 0, \"value\": 2.659933678225752, \"source\": \"5\"}, {\"idx\": 59, \"row\": 0, \"col\": 0, \"value\": 3.939226127124134, \"source\": \"5\"}, {\"idx\": 60, \"row\": 0, \"col\": 0, \"value\": 3.2718479802733875, \"source\": \"5\"}, {\"idx\": 61, \"row\": 0, \"col\": 0, \"value\": 4.693596078385255, \"source\": \"5\"}, {\"idx\": 62, \"row\": 0, \"col\": 0, \"value\": 0.3340711322287644, \"source\": \"5\"}, {\"idx\": 63, \"row\": 0, \"col\": 0, \"value\": 2.638535146561462, \"source\": \"5\"}, {\"idx\": 64, \"row\": 0, \"col\": 0, \"value\": 0.22832128435169835, \"source\": \"5\"}, {\"idx\": 65, \"row\": 0, \"col\": 0, \"value\": 1.0912549653313715, \"source\": \"5\"}, {\"idx\": 66, \"row\": 0, \"col\": 0, \"value\": 2.8939271293942506, \"source\": \"5\"}, {\"idx\": 67, \"row\": 0, \"col\": 0, \"value\": 3.6251515717073506, \"source\": \"5\"}, {\"idx\": 68, \"row\": 0, \"col\": 0, \"value\": 2.058661883717832, \"source\": \"5\"}, {\"idx\": 69, \"row\": 0, \"col\": 0, \"value\": 4.5805793599830125, \"source\": \"5\"}, {\"idx\": 70, \"row\": 0, \"col\": 0, \"value\": 1.9638822897774524, \"source\": \"5\"}, {\"idx\": 71, \"row\": 0, \"col\": 0, \"value\": 4.710807791040032, \"source\": \"5\"}, {\"idx\": 72, \"row\": 0, \"col\": 0, \"value\": 1.754640813869941, \"source\": \"5\"}, {\"idx\": 73, \"row\": 0, \"col\": 0, \"value\": 1.0249062875015387, \"source\": \"5\"}, {\"idx\": 74, \"row\": 0, \"col\": 0, \"value\": 0.7642589396453783, \"source\": \"5\"}, {\"idx\": 75, \"row\": 0, \"col\": 0, \"value\": 3.918099367039532, \"source\": \"5\"}, {\"idx\": 76, \"row\": 0, \"col\": 0, \"value\": 1.7576269391718866, \"source\": \"5\"}, {\"idx\": 77, \"row\": 0, \"col\": 0, \"value\": 0.8848201581717159, \"source\": \"5\"}, {\"idx\": 78, \"row\": 0, \"col\": 0, \"value\": 4.124089781973382, \"source\": \"5\"}, {\"idx\": 79, \"row\": 0, \"col\": 0, \"value\": 1.6020715994658683, \"source\": \"5\"}, {\"idx\": 80, \"row\": 0, \"col\": 0, \"value\": 1.073105254809862, \"source\": \"5\"}, {\"idx\": 81, \"row\": 0, \"col\": 0, \"value\": 0.6332723421330664, \"source\": \"5\"}, {\"idx\": 82, \"row\": 0, \"col\": 0, \"value\": 0.9755664965597534, \"source\": \"5\"}, {\"idx\": 83, \"row\": 0, \"col\": 0, \"value\": 4.617025431741117, \"source\": \"5\"}, {\"idx\": 84, \"row\": 0, \"col\": 0, \"value\": 2.683037890000855, \"source\": \"5\"}, {\"idx\": 85, \"row\": 0, \"col\": 0, \"value\": 1.9020690808901288, \"source\": \"5\"}, {\"idx\": 86, \"row\": 0, \"col\": 0, \"value\": 3.247154897197765, \"source\": \"5\"}, {\"idx\": 87, \"row\": 0, \"col\": 0, \"value\": 2.577716892903509, \"source\": \"5\"}, {\"idx\": 88, \"row\": 0, \"col\": 0, \"value\": 0.7255595491258993, \"source\": \"5\"}, {\"idx\": 89, \"row\": 0, \"col\": 0, \"value\": 4.564794061040641, \"source\": \"5\"}, {\"idx\": 90, \"row\": 0, \"col\": 0, \"value\": 1.3324920994203169, \"source\": \"5\"}, {\"idx\": 91, \"row\": 0, \"col\": 0, \"value\": 3.5097449584110016, \"source\": \"5\"}, {\"idx\": 92, \"row\": 0, \"col\": 0, \"value\": 2.429735527353946, \"source\": \"5\"}, {\"idx\": 93, \"row\": 0, \"col\": 0, \"value\": 4.919739346065365, \"source\": \"5\"}, {\"idx\": 94, \"row\": 0, \"col\": 0, \"value\": 4.120701870126818, \"source\": \"5\"}, {\"idx\": 95, \"row\": 0, \"col\": 0, \"value\": 4.730866121526103, \"source\": \"5\"}, {\"idx\": 96, \"row\": 0, \"col\": 0, \"value\": 2.1698314936857246, \"source\": \"5\"}, {\"idx\": 97, \"row\": 0, \"col\": 0, \"value\": 2.358708047703324, \"source\": \"5\"}, {\"idx\": 98, \"row\": 0, \"col\": 0, \"value\": 2.957850224047489, \"source\": \"5\"}, {\"idx\": 99, \"row\": 0, \"col\": 0, \"value\": 1.9681507531837397, \"source\": \"5\"}]}}, {\"mode\": \"vega-lite\"});\n",
       "</script>"
      ],
      "text/plain": [
       "alt.Chart(...)"
      ]
     },
     "execution_count": 76,
     "metadata": {},
     "output_type": "execute_result"
    }
   ],
   "source": [
    "param = 'sigma'\n",
    "dfs = []\n",
    "for c0 in [5]:\n",
    "    df = get_post_df(np.squeeze(particles_uniform[c0][param]))\n",
    "    df['source'] = str(c0)\n",
    "    dfs.append(df)\n",
    "plot_density(pd.concat(dfs), 500, 200).interactive()"
   ]
  },
  {
   "cell_type": "code",
   "execution_count": null,
   "metadata": {},
   "outputs": [],
   "source": []
  }
 ],
 "metadata": {
  "kernelspec": {
   "display_name": "Python 3",
   "language": "python",
   "name": "python3"
  },
  "language_info": {
   "codemirror_mode": {
    "name": "ipython",
    "version": 3
   },
   "file_extension": ".py",
   "mimetype": "text/x-python",
   "name": "python",
   "nbconvert_exporter": "python",
   "pygments_lexer": "ipython3",
   "version": "3.7.4"
  }
 },
 "nbformat": 4,
 "nbformat_minor": 2
}
