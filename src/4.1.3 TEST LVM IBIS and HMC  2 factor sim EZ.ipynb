{
 "cells": [
  {
   "cell_type": "code",
   "execution_count": 1,
   "metadata": {},
   "outputs": [
    {
     "data": {
      "text/plain": [
       "DataTransformerRegistry.enable('default')"
      ]
     },
     "execution_count": 1,
     "metadata": {},
     "output_type": "execute_result"
    }
   ],
   "source": [
    "from codebase.classes_ibis_lvm import ParticlesLVM\n",
    "from codebase.classes_data import Data\n",
    "from codebase.ibis import model_phonebook, essl\n",
    "import pandas as pd\n",
    "import numpy as np\n",
    "from codebase.file_utils import (\n",
    "    save_obj,\n",
    "    load_obj,\n",
    "    make_folder,\n",
    "    path_backslash\n",
    ")\n",
    "from codebase.ibis import essl, exp_and_normalise, run_stan_model\n",
    "from run_ibis_lvm import run_ibis_lvm\n",
    "\n",
    "from tqdm import tqdm\n",
    "from scipy.special import logsumexp\n",
    "import altair as alt\n",
    "from codebase.plot import plot_density, get_post_df, plot_correlations\n",
    "alt.data_transformers.disable_max_rows()\n"
   ]
  },
  {
   "cell_type": "markdown",
   "metadata": {},
   "source": [
    "## 2 factor Sim EZ"
   ]
  },
  {
   "cell_type": "code",
   "execution_count": 2,
   "metadata": {},
   "outputs": [
    {
     "name": "stdout",
     "output_type": "stream",
     "text": [
      "\n",
      "\n",
      "Creating new directory: ./log/20210101_205543_ez_lvm/\n"
     ]
    }
   ],
   "source": [
    "existing_directory = None\n",
    "task_handle = 'ez_lvm'\n",
    "gen_model = 0\n",
    "\n",
    "if existing_directory is None:\n",
    "    log_dir = make_folder(task_handle)  \n",
    "    print(\"\\n\\nCreating new directory: %s\" % log_dir)\n",
    "\n",
    "else:\n",
    "    log_dir = existing_directory\n",
    "    log_dir = path_backslash(log_dir)\n",
    "    print(\"\\n\\nReading from existing directory: %s\" % log_dir)\n",
    "\n",
    "# log_dir = './log/20201230_133053_ez_lvm/'"
   ]
  },
  {
   "cell_type": "markdown",
   "metadata": {},
   "source": [
    "## Create Data"
   ]
  },
  {
   "cell_type": "code",
   "execution_count": 4,
   "metadata": {},
   "outputs": [],
   "source": [
    "\n",
    "# generate data\n",
    "exp_data = Data(\n",
    "    name = task_handle, \n",
    "    model_num = 1,  \n",
    "    size = 30,\n",
    "    random_seed = 0\n",
    "    )\n",
    "    \n",
    "exp_data.generate()\n",
    "save_obj(exp_data, 'data', log_dir)\n"
   ]
  },
  {
   "cell_type": "markdown",
   "metadata": {},
   "source": [
    "## Run IBIS"
   ]
  },
  {
   "cell_type": "code",
   "execution_count": 6,
   "metadata": {},
   "outputs": [
    {
     "name": "stderr",
     "output_type": "stream",
     "text": [
      "100%|██████████| 30/30 [02:28<00:00,  4.95s/it]"
     ]
    },
    {
     "name": "stdout",
     "output_type": "stream",
     "text": [
      "\n",
      "\n",
      "\n",
      "Marginal Likelihood 0.78640\n"
     ]
    },
    {
     "name": "stderr",
     "output_type": "stream",
     "text": [
      "\n"
     ]
    }
   ],
   "source": [
    "model_num = 7\n",
    "\n",
    "ibis = run_ibis_lvm(\n",
    "    exp_data,\n",
    "    model_num,\n",
    "    100,\n",
    "    50,\n",
    "    gen_model,\n",
    "    log_dir\n",
    "    )\n"
   ]
  },
  {
   "cell_type": "code",
   "execution_count": 10,
   "metadata": {},
   "outputs": [
    {
     "data": {
      "text/plain": [
       "array([-0.05037161,  0.08990666,  0.15160443,  0.        ,  0.18398819,\n",
       "        0.        ,  0.        ,  0.32246262,  0.        ,  0.30951299,\n",
       "        0.3127969 ,  0.        ,  0.28915436,  0.        ,  0.        ,\n",
       "        0.27565835,  0.        ,  0.        ,  0.39031765,  0.        ,\n",
       "        0.45997703,  0.        ,  0.        ,  0.39472646,  0.        ,\n",
       "        0.        ,  0.        ,  0.45083163,  0.        ,  0.        ])"
      ]
     },
     "execution_count": 10,
     "metadata": {},
     "output_type": "execute_result"
    }
   ],
   "source": [
    "ibis['jitter_corrs']['beta']"
   ]
  },
  {
   "cell_type": "markdown",
   "metadata": {},
   "source": [
    "## Plot Both results"
   ]
  },
  {
   "cell_type": "code",
   "execution_count": 11,
   "metadata": {},
   "outputs": [],
   "source": [
    "# have to resample particles to get rid of weights\n",
    "particles = ibis['particles']\n",
    "particles.resample_particles()"
   ]
  },
  {
   "cell_type": "code",
   "execution_count": 12,
   "metadata": {},
   "outputs": [
    {
     "data": {
      "text/plain": [
       "array([ 0.1471664 , -0.03145514,  0.15082876,  0.09419411,  0.19056473,\n",
       "        0.22028841])"
      ]
     },
     "execution_count": 12,
     "metadata": {},
     "output_type": "execute_result"
    }
   ],
   "source": [
    "np.mean(np.squeeze(particles.particles['beta']),0)"
   ]
  },
  {
   "cell_type": "code",
   "execution_count": 13,
   "metadata": {},
   "outputs": [
    {
     "ename": "NameError",
     "evalue": "name 'param' is not defined",
     "output_type": "error",
     "traceback": [
      "\u001b[0;31m---------------------------------------------------------------------\u001b[0m",
      "\u001b[0;31mNameError\u001b[0m                           Traceback (most recent call last)",
      "\u001b[0;32m<ipython-input-13-b088b9552942>\u001b[0m in \u001b[0;36m<module>\u001b[0;34m\u001b[0m\n\u001b[0;32m----> 1\u001b[0;31m \u001b[0mparticles\u001b[0m\u001b[0;34m.\u001b[0m\u001b[0mparticles\u001b[0m\u001b[0;34m[\u001b[0m\u001b[0mparam\u001b[0m\u001b[0;34m]\u001b[0m\u001b[0;34m\u001b[0m\u001b[0;34m\u001b[0m\u001b[0m\n\u001b[0m",
      "\u001b[0;31mNameError\u001b[0m: name 'param' is not defined"
     ]
    }
   ],
   "source": [
    "particles.particles[param]"
   ]
  },
  {
   "cell_type": "code",
   "execution_count": 15,
   "metadata": {},
   "outputs": [
    {
     "name": "stderr",
     "output_type": "stream",
     "text": [
      "INFO:numexpr.utils:Note: NumExpr detected 24 cores but \"NUMEXPR_MAX_THREADS\" not set, so enforcing safe limit of 8.\n",
      "INFO:numexpr.utils:NumExpr defaulting to 8 threads.\n"
     ]
    },
    {
     "data": {
      "text/html": [
       "\n",
       "<div id=\"altair-viz-72bbcedf3ee34fb2b3237fd47a4a6bd4\"></div>\n",
       "<script type=\"text/javascript\">\n",
       "  (function(spec, embedOpt){\n",
       "    let outputDiv = document.currentScript.previousElementSibling;\n",
       "    if (outputDiv.id !== \"altair-viz-72bbcedf3ee34fb2b3237fd47a4a6bd4\") {\n",
       "      outputDiv = document.getElementById(\"altair-viz-72bbcedf3ee34fb2b3237fd47a4a6bd4\");\n",
       "    }\n",
       "    const paths = {\n",
       "      \"vega\": \"https://cdn.jsdelivr.net/npm//vega@5?noext\",\n",
       "      \"vega-lib\": \"https://cdn.jsdelivr.net/npm//vega-lib?noext\",\n",
       "      \"vega-lite\": \"https://cdn.jsdelivr.net/npm//vega-lite@4.8.1?noext\",\n",
       "      \"vega-embed\": \"https://cdn.jsdelivr.net/npm//vega-embed@6?noext\",\n",
       "    };\n",
       "\n",
       "    function loadScript(lib) {\n",
       "      return new Promise(function(resolve, reject) {\n",
       "        var s = document.createElement('script');\n",
       "        s.src = paths[lib];\n",
       "        s.async = true;\n",
       "        s.onload = () => resolve(paths[lib]);\n",
       "        s.onerror = () => reject(`Error loading script: ${paths[lib]}`);\n",
       "        document.getElementsByTagName(\"head\")[0].appendChild(s);\n",
       "      });\n",
       "    }\n",
       "\n",
       "    function showError(err) {\n",
       "      outputDiv.innerHTML = `<div class=\"error\" style=\"color:red;\">${err}</div>`;\n",
       "      throw err;\n",
       "    }\n",
       "\n",
       "    function displayChart(vegaEmbed) {\n",
       "      vegaEmbed(outputDiv, spec, embedOpt)\n",
       "        .catch(err => showError(`Javascript Error: ${err.message}<br>This usually means there's a typo in your chart specification. See the javascript console for the full traceback.`));\n",
       "    }\n",
       "\n",
       "    if(typeof define === \"function\" && define.amd) {\n",
       "      requirejs.config({paths});\n",
       "      require([\"vega-embed\"], displayChart, err => showError(`Error loading script: ${err.message}`));\n",
       "    } else if (typeof vegaEmbed === \"function\") {\n",
       "      displayChart(vegaEmbed);\n",
       "    } else {\n",
       "      loadScript(\"vega\")\n",
       "        .then(() => loadScript(\"vega-lite\"))\n",
       "        .then(() => loadScript(\"vega-embed\"))\n",
       "        .catch(showError)\n",
       "        .then(() => displayChart(vegaEmbed));\n",
       "    }\n",
       "  })({\"config\": {\"view\": {\"continuousWidth\": 400, \"continuousHeight\": 300}}, \"vconcat\": [{\"data\": {\"name\": \"data-1931852b28dd58231c710b8da065f3b6\"}, \"mark\": {\"type\": \"area\", \"opacity\": 0.5}, \"encoding\": {\"color\": {\"type\": \"nominal\", \"field\": \"source\"}, \"column\": {\"type\": \"quantitative\", \"field\": \"col\"}, \"row\": {\"type\": \"quantitative\", \"field\": \"row\"}, \"x\": {\"type\": \"quantitative\", \"field\": \"value\", \"title\": null}, \"y\": {\"type\": \"quantitative\", \"field\": \"density\"}}, \"height\": 50, \"resolve\": {\"scale\": {\"x\": \"independent\"}}, \"transform\": [{\"fold\": [\"value\"]}, {\"density\": \"value\", \"groupby\": [\"cn\", \"row\", \"col\", \"source\"]}], \"width\": 300}, {\"data\": {\"name\": \"data-91f6379de9e326037cb13ef6068ce429\"}, \"mark\": \"bar\", \"encoding\": {\"x\": {\"type\": \"quantitative\", \"field\": \"idx\", \"title\": \"data iteration t\"}, \"y\": {\"type\": \"quantitative\", \"field\": \"corr\"}}, \"height\": 150, \"width\": 300}], \"$schema\": \"https://vega.github.io/schema/vega-lite/v4.8.1.json\", \"datasets\": {\"data-1931852b28dd58231c710b8da065f3b6\": [{\"idx\": 0, \"row\": 0, \"col\": 0, \"value\": -0.1494898317924592, \"source\": \"ibis\"}, {\"idx\": 1, \"row\": 0, \"col\": 0, \"value\": 0.789072432496126, \"source\": \"ibis\"}, {\"idx\": 2, \"row\": 0, \"col\": 0, \"value\": 0.5006962848062732, \"source\": \"ibis\"}, {\"idx\": 3, \"row\": 0, \"col\": 0, \"value\": 0.5006962848062732, \"source\": \"ibis\"}, {\"idx\": 4, \"row\": 0, \"col\": 0, \"value\": 0.5006962848062732, \"source\": \"ibis\"}, {\"idx\": 5, \"row\": 0, \"col\": 0, \"value\": 0.6404241498329932, \"source\": \"ibis\"}, {\"idx\": 6, \"row\": 0, \"col\": 0, \"value\": 0.6404241498329932, \"source\": \"ibis\"}, {\"idx\": 7, \"row\": 0, \"col\": 0, \"value\": 0.23927846213911685, \"source\": \"ibis\"}, {\"idx\": 8, \"row\": 0, \"col\": 0, \"value\": 0.9091665505841072, \"source\": \"ibis\"}, {\"idx\": 9, \"row\": 0, \"col\": 0, \"value\": 0.9091665505841072, \"source\": \"ibis\"}, {\"idx\": 10, \"row\": 0, \"col\": 0, \"value\": 0.9091665505841072, \"source\": \"ibis\"}, {\"idx\": 11, \"row\": 0, \"col\": 0, \"value\": 0.9091665505841072, \"source\": \"ibis\"}, {\"idx\": 12, \"row\": 0, \"col\": 0, \"value\": 0.9091665505841072, \"source\": \"ibis\"}, {\"idx\": 13, \"row\": 0, \"col\": 0, \"value\": 0.9091665505841072, \"source\": \"ibis\"}, {\"idx\": 14, \"row\": 0, \"col\": 0, \"value\": 0.8283999594032297, \"source\": \"ibis\"}, {\"idx\": 15, \"row\": 0, \"col\": 0, \"value\": 0.8283999594032297, \"source\": \"ibis\"}, {\"idx\": 16, \"row\": 0, \"col\": 0, \"value\": -0.42306643790004506, \"source\": \"ibis\"}, {\"idx\": 17, \"row\": 0, \"col\": 0, \"value\": -0.42306643790004506, \"source\": \"ibis\"}, {\"idx\": 18, \"row\": 0, \"col\": 0, \"value\": -0.2101322953661112, \"source\": \"ibis\"}, {\"idx\": 19, \"row\": 0, \"col\": 0, \"value\": -0.2101322953661112, \"source\": \"ibis\"}, {\"idx\": 20, \"row\": 0, \"col\": 0, \"value\": -0.18698873100639168, \"source\": \"ibis\"}, {\"idx\": 21, \"row\": 0, \"col\": 0, \"value\": -0.30423133071550323, \"source\": \"ibis\"}, {\"idx\": 22, \"row\": 0, \"col\": 0, \"value\": -0.30423133071550323, \"source\": \"ibis\"}, {\"idx\": 23, \"row\": 0, \"col\": 0, \"value\": 0.930167197013673, \"source\": \"ibis\"}, {\"idx\": 24, \"row\": 0, \"col\": 0, \"value\": 0.930167197013673, \"source\": \"ibis\"}, {\"idx\": 25, \"row\": 0, \"col\": 0, \"value\": 0.3475528848321717, \"source\": \"ibis\"}, {\"idx\": 26, \"row\": 0, \"col\": 0, \"value\": 0.3475528848321717, \"source\": \"ibis\"}, {\"idx\": 27, \"row\": 0, \"col\": 0, \"value\": 0.3475528848321717, \"source\": \"ibis\"}, {\"idx\": 28, \"row\": 0, \"col\": 0, \"value\": 1.0181745904261528, \"source\": \"ibis\"}, {\"idx\": 29, \"row\": 0, \"col\": 0, \"value\": 1.017010709541004, \"source\": \"ibis\"}, {\"idx\": 30, \"row\": 0, \"col\": 0, \"value\": 0.9703071116207933, \"source\": \"ibis\"}, {\"idx\": 31, \"row\": 0, \"col\": 0, \"value\": 0.18971453187189086, \"source\": \"ibis\"}, {\"idx\": 32, \"row\": 0, \"col\": 0, \"value\": 0.18971453187189086, \"source\": \"ibis\"}, {\"idx\": 33, \"row\": 0, \"col\": 0, \"value\": 0.18971453187189086, \"source\": \"ibis\"}, {\"idx\": 34, \"row\": 0, \"col\": 0, \"value\": -0.9717792188550216, \"source\": \"ibis\"}, {\"idx\": 35, \"row\": 0, \"col\": 0, \"value\": -0.5806234564596143, \"source\": \"ibis\"}, {\"idx\": 36, \"row\": 0, \"col\": 0, \"value\": -0.5806234564596143, \"source\": \"ibis\"}, {\"idx\": 37, \"row\": 0, \"col\": 0, \"value\": -0.7428615039210057, \"source\": \"ibis\"}, {\"idx\": 38, \"row\": 0, \"col\": 0, \"value\": 0.6547119466572566, \"source\": \"ibis\"}, {\"idx\": 39, \"row\": 0, \"col\": 0, \"value\": -0.43014133413064726, \"source\": \"ibis\"}, {\"idx\": 40, \"row\": 0, \"col\": 0, \"value\": -0.43014133413064726, \"source\": \"ibis\"}, {\"idx\": 41, \"row\": 0, \"col\": 0, \"value\": 0.7362955903453223, \"source\": \"ibis\"}, {\"idx\": 42, \"row\": 0, \"col\": 0, \"value\": 0.7362955903453223, \"source\": \"ibis\"}, {\"idx\": 43, \"row\": 0, \"col\": 0, \"value\": 1.0895041892205604, \"source\": \"ibis\"}, {\"idx\": 44, \"row\": 0, \"col\": 0, \"value\": 1.0895041892205604, \"source\": \"ibis\"}, {\"idx\": 45, \"row\": 0, \"col\": 0, \"value\": 0.0842948561184029, \"source\": \"ibis\"}, {\"idx\": 46, \"row\": 0, \"col\": 0, \"value\": -0.17588396768450074, \"source\": \"ibis\"}, {\"idx\": 47, \"row\": 0, \"col\": 0, \"value\": -1.1808355922396658, \"source\": \"ibis\"}, {\"idx\": 48, \"row\": 0, \"col\": 0, \"value\": -0.8672794255037343, \"source\": \"ibis\"}, {\"idx\": 49, \"row\": 0, \"col\": 0, \"value\": -0.027945199139822074, \"source\": \"ibis\"}, {\"idx\": 50, \"row\": 0, \"col\": 0, \"value\": -1.2818401296135498, \"source\": \"ibis\"}, {\"idx\": 51, \"row\": 0, \"col\": 0, \"value\": -1.2818401296135498, \"source\": \"ibis\"}, {\"idx\": 52, \"row\": 0, \"col\": 0, \"value\": -1.442152265758831, \"source\": \"ibis\"}, {\"idx\": 53, \"row\": 0, \"col\": 0, \"value\": -1.442152265758831, \"source\": \"ibis\"}, {\"idx\": 54, \"row\": 0, \"col\": 0, \"value\": 0.16396553351317047, \"source\": \"ibis\"}, {\"idx\": 55, \"row\": 0, \"col\": 0, \"value\": -0.16598421847473488, \"source\": \"ibis\"}, {\"idx\": 56, \"row\": 0, \"col\": 0, \"value\": -0.87866047789829, \"source\": \"ibis\"}, {\"idx\": 57, \"row\": 0, \"col\": 0, \"value\": -0.5543442458361326, \"source\": \"ibis\"}, {\"idx\": 58, \"row\": 0, \"col\": 0, \"value\": 0.07357637534399938, \"source\": \"ibis\"}, {\"idx\": 59, \"row\": 0, \"col\": 0, \"value\": 0.06342159057672497, \"source\": \"ibis\"}, {\"idx\": 60, \"row\": 0, \"col\": 0, \"value\": 0.06342159057672497, \"source\": \"ibis\"}, {\"idx\": 61, \"row\": 0, \"col\": 0, \"value\": 0.06342159057672497, \"source\": \"ibis\"}, {\"idx\": 62, \"row\": 0, \"col\": 0, \"value\": 0.06342159057672497, \"source\": \"ibis\"}, {\"idx\": 63, \"row\": 0, \"col\": 0, \"value\": -0.14566441917554876, \"source\": \"ibis\"}, {\"idx\": 64, \"row\": 0, \"col\": 0, \"value\": -0.19604433861529602, \"source\": \"ibis\"}, {\"idx\": 65, \"row\": 0, \"col\": 0, \"value\": -0.19604433861529602, \"source\": \"ibis\"}, {\"idx\": 66, \"row\": 0, \"col\": 0, \"value\": 0.7000297680479036, \"source\": \"ibis\"}, {\"idx\": 67, \"row\": 0, \"col\": 0, \"value\": -0.025169649432094213, \"source\": \"ibis\"}, {\"idx\": 68, \"row\": 0, \"col\": 0, \"value\": 0.847566272841378, \"source\": \"ibis\"}, {\"idx\": 69, \"row\": 0, \"col\": 0, \"value\": 0.847566272841378, \"source\": \"ibis\"}, {\"idx\": 70, \"row\": 0, \"col\": 0, \"value\": 0.847566272841378, \"source\": \"ibis\"}, {\"idx\": 71, \"row\": 0, \"col\": 0, \"value\": 0.847566272841378, \"source\": \"ibis\"}, {\"idx\": 72, \"row\": 0, \"col\": 0, \"value\": 0.847566272841378, \"source\": \"ibis\"}, {\"idx\": 73, \"row\": 0, \"col\": 0, \"value\": 0.725920199567633, \"source\": \"ibis\"}, {\"idx\": 74, \"row\": 0, \"col\": 0, \"value\": 0.725920199567633, \"source\": \"ibis\"}, {\"idx\": 75, \"row\": 0, \"col\": 0, \"value\": 1.5359043065799207, \"source\": \"ibis\"}, {\"idx\": 76, \"row\": 0, \"col\": 0, \"value\": 0.03426102807150955, \"source\": \"ibis\"}, {\"idx\": 77, \"row\": 0, \"col\": 0, \"value\": -0.08063205719050465, \"source\": \"ibis\"}, {\"idx\": 78, \"row\": 0, \"col\": 0, \"value\": -0.08063205719050465, \"source\": \"ibis\"}, {\"idx\": 79, \"row\": 0, \"col\": 0, \"value\": -0.24226388856104034, \"source\": \"ibis\"}, {\"idx\": 80, \"row\": 0, \"col\": 0, \"value\": -0.24226388856104034, \"source\": \"ibis\"}, {\"idx\": 81, \"row\": 0, \"col\": 0, \"value\": -0.24226388856104034, \"source\": \"ibis\"}, {\"idx\": 82, \"row\": 0, \"col\": 0, \"value\": -0.2816780222467944, \"source\": \"ibis\"}, {\"idx\": 83, \"row\": 0, \"col\": 0, \"value\": -0.39077629787055856, \"source\": \"ibis\"}, {\"idx\": 84, \"row\": 0, \"col\": 0, \"value\": -0.39077629787055856, \"source\": \"ibis\"}, {\"idx\": 85, \"row\": 0, \"col\": 0, \"value\": 0.48216255091953153, \"source\": \"ibis\"}, {\"idx\": 86, \"row\": 0, \"col\": 0, \"value\": 0.48216255091953153, \"source\": \"ibis\"}, {\"idx\": 87, \"row\": 0, \"col\": 0, \"value\": -0.9547617039236267, \"source\": \"ibis\"}, {\"idx\": 88, \"row\": 0, \"col\": 0, \"value\": -0.32635052991913815, \"source\": \"ibis\"}, {\"idx\": 89, \"row\": 0, \"col\": 0, \"value\": 0.7859763491980181, \"source\": \"ibis\"}, {\"idx\": 90, \"row\": 0, \"col\": 0, \"value\": -0.591582744167542, \"source\": \"ibis\"}, {\"idx\": 91, \"row\": 0, \"col\": 0, \"value\": 0.08851146541842377, \"source\": \"ibis\"}, {\"idx\": 92, \"row\": 0, \"col\": 0, \"value\": 0.08851146541842377, \"source\": \"ibis\"}, {\"idx\": 93, \"row\": 0, \"col\": 0, \"value\": 0.23894843490846596, \"source\": \"ibis\"}, {\"idx\": 94, \"row\": 0, \"col\": 0, \"value\": 0.23894843490846596, \"source\": \"ibis\"}, {\"idx\": 95, \"row\": 0, \"col\": 0, \"value\": 0.6097857839726487, \"source\": \"ibis\"}, {\"idx\": 96, \"row\": 0, \"col\": 0, \"value\": 0.6097857839726487, \"source\": \"ibis\"}, {\"idx\": 97, \"row\": 0, \"col\": 0, \"value\": 0.6097857839726487, \"source\": \"ibis\"}, {\"idx\": 98, \"row\": 0, \"col\": 0, \"value\": 0.6097857839726487, \"source\": \"ibis\"}, {\"idx\": 99, \"row\": 0, \"col\": 0, \"value\": -0.7368112167158491, \"source\": \"ibis\"}, {\"idx\": 0, \"row\": 1, \"col\": 0, \"value\": 0.20305597433887426, \"source\": \"ibis\"}, {\"idx\": 1, \"row\": 1, \"col\": 0, \"value\": -0.6057051973596137, \"source\": \"ibis\"}, {\"idx\": 2, \"row\": 1, \"col\": 0, \"value\": -0.4079783350437697, \"source\": \"ibis\"}, {\"idx\": 3, \"row\": 1, \"col\": 0, \"value\": -0.4079783350437697, \"source\": \"ibis\"}, {\"idx\": 4, \"row\": 1, \"col\": 0, \"value\": -0.4079783350437697, \"source\": \"ibis\"}, {\"idx\": 5, \"row\": 1, \"col\": 0, \"value\": 1.0223141100263655, \"source\": \"ibis\"}, {\"idx\": 6, \"row\": 1, \"col\": 0, \"value\": 1.0223141100263655, \"source\": \"ibis\"}, {\"idx\": 7, \"row\": 1, \"col\": 0, \"value\": -0.4120400296354533, \"source\": \"ibis\"}, {\"idx\": 8, \"row\": 1, \"col\": 0, \"value\": -0.18359970450188137, \"source\": \"ibis\"}, {\"idx\": 9, \"row\": 1, \"col\": 0, \"value\": -0.18359970450188137, \"source\": \"ibis\"}, {\"idx\": 10, \"row\": 1, \"col\": 0, \"value\": -0.18359970450188137, \"source\": \"ibis\"}, {\"idx\": 11, \"row\": 1, \"col\": 0, \"value\": -0.18359970450188137, \"source\": \"ibis\"}, {\"idx\": 12, \"row\": 1, \"col\": 0, \"value\": -0.18359970450188137, \"source\": \"ibis\"}, {\"idx\": 13, \"row\": 1, \"col\": 0, \"value\": -0.18359970450188137, \"source\": \"ibis\"}, {\"idx\": 14, \"row\": 1, \"col\": 0, \"value\": -0.01516967849588377, \"source\": \"ibis\"}, {\"idx\": 15, \"row\": 1, \"col\": 0, \"value\": -0.01516967849588377, \"source\": \"ibis\"}, {\"idx\": 16, \"row\": 1, \"col\": 0, \"value\": -0.07440239983157412, \"source\": \"ibis\"}, {\"idx\": 17, \"row\": 1, \"col\": 0, \"value\": -0.07440239983157412, \"source\": \"ibis\"}, {\"idx\": 18, \"row\": 1, \"col\": 0, \"value\": 0.5739732570811218, \"source\": \"ibis\"}, {\"idx\": 19, \"row\": 1, \"col\": 0, \"value\": 0.5739732570811218, \"source\": \"ibis\"}, {\"idx\": 20, \"row\": 1, \"col\": 0, \"value\": -0.7543048017872238, \"source\": \"ibis\"}, {\"idx\": 21, \"row\": 1, \"col\": 0, \"value\": 0.5973763386018378, \"source\": \"ibis\"}, {\"idx\": 22, \"row\": 1, \"col\": 0, \"value\": 0.5973763386018378, \"source\": \"ibis\"}, {\"idx\": 23, \"row\": 1, \"col\": 0, \"value\": 0.28129762176648304, \"source\": \"ibis\"}, {\"idx\": 24, \"row\": 1, \"col\": 0, \"value\": 0.28129762176648304, \"source\": \"ibis\"}, {\"idx\": 25, \"row\": 1, \"col\": 0, \"value\": 0.10816309228767565, \"source\": \"ibis\"}, {\"idx\": 26, \"row\": 1, \"col\": 0, \"value\": 0.10816309228767565, \"source\": \"ibis\"}, {\"idx\": 27, \"row\": 1, \"col\": 0, \"value\": 0.10816309228767565, \"source\": \"ibis\"}, {\"idx\": 28, \"row\": 1, \"col\": 0, \"value\": 0.1866653693538291, \"source\": \"ibis\"}, {\"idx\": 29, \"row\": 1, \"col\": 0, \"value\": -0.24501658101141266, \"source\": \"ibis\"}, {\"idx\": 30, \"row\": 1, \"col\": 0, \"value\": 0.3142620046037113, \"source\": \"ibis\"}, {\"idx\": 31, \"row\": 1, \"col\": 0, \"value\": -0.2897587975220326, \"source\": \"ibis\"}, {\"idx\": 32, \"row\": 1, \"col\": 0, \"value\": -0.2897587975220326, \"source\": \"ibis\"}, {\"idx\": 33, \"row\": 1, \"col\": 0, \"value\": -0.2897587975220326, \"source\": \"ibis\"}, {\"idx\": 34, \"row\": 1, \"col\": 0, \"value\": -0.07482216668668583, \"source\": \"ibis\"}, {\"idx\": 35, \"row\": 1, \"col\": 0, \"value\": -0.5078673143290455, \"source\": \"ibis\"}, {\"idx\": 36, \"row\": 1, \"col\": 0, \"value\": -0.5078673143290455, \"source\": \"ibis\"}, {\"idx\": 37, \"row\": 1, \"col\": 0, \"value\": -0.8770546757594088, \"source\": \"ibis\"}, {\"idx\": 38, \"row\": 1, \"col\": 0, \"value\": 0.3709543128914196, \"source\": \"ibis\"}, {\"idx\": 39, \"row\": 1, \"col\": 0, \"value\": -0.247682979378824, \"source\": \"ibis\"}, {\"idx\": 40, \"row\": 1, \"col\": 0, \"value\": -0.247682979378824, \"source\": \"ibis\"}, {\"idx\": 41, \"row\": 1, \"col\": 0, \"value\": 0.2043107557601746, \"source\": \"ibis\"}, {\"idx\": 42, \"row\": 1, \"col\": 0, \"value\": 0.2043107557601746, \"source\": \"ibis\"}, {\"idx\": 43, \"row\": 1, \"col\": 0, \"value\": 0.9075299549533009, \"source\": \"ibis\"}, {\"idx\": 44, \"row\": 1, \"col\": 0, \"value\": 0.9075299549533009, \"source\": \"ibis\"}, {\"idx\": 45, \"row\": 1, \"col\": 0, \"value\": 0.28609460848578205, \"source\": \"ibis\"}, {\"idx\": 46, \"row\": 1, \"col\": 0, \"value\": 0.04909061372581451, \"source\": \"ibis\"}, {\"idx\": 47, \"row\": 1, \"col\": 0, \"value\": 0.7644410633751306, \"source\": \"ibis\"}, {\"idx\": 48, \"row\": 1, \"col\": 0, \"value\": 0.39351306996599494, \"source\": \"ibis\"}, {\"idx\": 49, \"row\": 1, \"col\": 0, \"value\": -0.17832288648271694, \"source\": \"ibis\"}, {\"idx\": 50, \"row\": 1, \"col\": 0, \"value\": -0.6930565661110871, \"source\": \"ibis\"}, {\"idx\": 51, \"row\": 1, \"col\": 0, \"value\": -0.6930565661110871, \"source\": \"ibis\"}, {\"idx\": 52, \"row\": 1, \"col\": 0, \"value\": -0.02407118064836873, \"source\": \"ibis\"}, {\"idx\": 53, \"row\": 1, \"col\": 0, \"value\": -0.02407118064836873, \"source\": \"ibis\"}, {\"idx\": 54, \"row\": 1, \"col\": 0, \"value\": 0.4944198385301869, \"source\": \"ibis\"}, {\"idx\": 55, \"row\": 1, \"col\": 0, \"value\": 0.11288470354413094, \"source\": \"ibis\"}, {\"idx\": 56, \"row\": 1, \"col\": 0, \"value\": -0.09895614766327679, \"source\": \"ibis\"}, {\"idx\": 57, \"row\": 1, \"col\": 0, \"value\": 0.25229048983171926, \"source\": \"ibis\"}, {\"idx\": 58, \"row\": 1, \"col\": 0, \"value\": 0.261136253418058, \"source\": \"ibis\"}, {\"idx\": 59, \"row\": 1, \"col\": 0, \"value\": 0.6265782843874672, \"source\": \"ibis\"}, {\"idx\": 60, \"row\": 1, \"col\": 0, \"value\": 0.6265782843874672, \"source\": \"ibis\"}, {\"idx\": 61, \"row\": 1, \"col\": 0, \"value\": 0.6265782843874672, \"source\": \"ibis\"}, {\"idx\": 62, \"row\": 1, \"col\": 0, \"value\": 0.6265782843874672, \"source\": \"ibis\"}, {\"idx\": 63, \"row\": 1, \"col\": 0, \"value\": 0.6642593938148588, \"source\": \"ibis\"}, {\"idx\": 64, \"row\": 1, \"col\": 0, \"value\": 0.9973623740289363, \"source\": \"ibis\"}, {\"idx\": 65, \"row\": 1, \"col\": 0, \"value\": 0.9973623740289363, \"source\": \"ibis\"}, {\"idx\": 66, \"row\": 1, \"col\": 0, \"value\": 0.2047102137481049, \"source\": \"ibis\"}, {\"idx\": 67, \"row\": 1, \"col\": 0, \"value\": -0.39116444914867304, \"source\": \"ibis\"}, {\"idx\": 68, \"row\": 1, \"col\": 0, \"value\": 0.5886590521280537, \"source\": \"ibis\"}, {\"idx\": 69, \"row\": 1, \"col\": 0, \"value\": 0.5886590521280537, \"source\": \"ibis\"}, {\"idx\": 70, \"row\": 1, \"col\": 0, \"value\": 0.5886590521280537, \"source\": \"ibis\"}, {\"idx\": 71, \"row\": 1, \"col\": 0, \"value\": 0.5886590521280537, \"source\": \"ibis\"}, {\"idx\": 72, \"row\": 1, \"col\": 0, \"value\": 0.5886590521280537, \"source\": \"ibis\"}, {\"idx\": 73, \"row\": 1, \"col\": 0, \"value\": -0.025210694038581866, \"source\": \"ibis\"}, {\"idx\": 74, \"row\": 1, \"col\": 0, \"value\": -0.025210694038581866, \"source\": \"ibis\"}, {\"idx\": 75, \"row\": 1, \"col\": 0, \"value\": 0.01957990712147821, \"source\": \"ibis\"}, {\"idx\": 76, \"row\": 1, \"col\": 0, \"value\": -0.5243878178492617, \"source\": \"ibis\"}, {\"idx\": 77, \"row\": 1, \"col\": 0, \"value\": 0.31460468358371474, \"source\": \"ibis\"}, {\"idx\": 78, \"row\": 1, \"col\": 0, \"value\": 0.31460468358371474, \"source\": \"ibis\"}, {\"idx\": 79, \"row\": 1, \"col\": 0, \"value\": -0.2474602542686363, \"source\": \"ibis\"}, {\"idx\": 80, \"row\": 1, \"col\": 0, \"value\": -0.2474602542686363, \"source\": \"ibis\"}, {\"idx\": 81, \"row\": 1, \"col\": 0, \"value\": -0.2474602542686363, \"source\": \"ibis\"}, {\"idx\": 82, \"row\": 1, \"col\": 0, \"value\": 0.014839594835756427, \"source\": \"ibis\"}, {\"idx\": 83, \"row\": 1, \"col\": 0, \"value\": -1.6834752792379042, \"source\": \"ibis\"}, {\"idx\": 84, \"row\": 1, \"col\": 0, \"value\": -1.6834752792379042, \"source\": \"ibis\"}, {\"idx\": 85, \"row\": 1, \"col\": 0, \"value\": 0.34459993776945236, \"source\": \"ibis\"}, {\"idx\": 86, \"row\": 1, \"col\": 0, \"value\": 0.34459993776945236, \"source\": \"ibis\"}, {\"idx\": 87, \"row\": 1, \"col\": 0, \"value\": -0.6169158337528453, \"source\": \"ibis\"}, {\"idx\": 88, \"row\": 1, \"col\": 0, \"value\": -0.8238133991807016, \"source\": \"ibis\"}, {\"idx\": 89, \"row\": 1, \"col\": 0, \"value\": -0.31231853379213637, \"source\": \"ibis\"}, {\"idx\": 90, \"row\": 1, \"col\": 0, \"value\": -1.3425595851327363, \"source\": \"ibis\"}, {\"idx\": 91, \"row\": 1, \"col\": 0, \"value\": -0.5521753377541315, \"source\": \"ibis\"}, {\"idx\": 92, \"row\": 1, \"col\": 0, \"value\": -0.5521753377541315, \"source\": \"ibis\"}, {\"idx\": 93, \"row\": 1, \"col\": 0, \"value\": -0.12360060125167369, \"source\": \"ibis\"}, {\"idx\": 94, \"row\": 1, \"col\": 0, \"value\": -0.12360060125167369, \"source\": \"ibis\"}, {\"idx\": 95, \"row\": 1, \"col\": 0, \"value\": -1.0253241271556899, \"source\": \"ibis\"}, {\"idx\": 96, \"row\": 1, \"col\": 0, \"value\": -1.0253241271556899, \"source\": \"ibis\"}, {\"idx\": 97, \"row\": 1, \"col\": 0, \"value\": -1.0253241271556899, \"source\": \"ibis\"}, {\"idx\": 98, \"row\": 1, \"col\": 0, \"value\": -1.0253241271556899, \"source\": \"ibis\"}, {\"idx\": 99, \"row\": 1, \"col\": 0, \"value\": -0.8092538650831334, \"source\": \"ibis\"}, {\"idx\": 0, \"row\": 2, \"col\": 0, \"value\": -0.5925022844076334, \"source\": \"ibis\"}, {\"idx\": 1, \"row\": 2, \"col\": 0, \"value\": 0.10781104590666146, \"source\": \"ibis\"}, {\"idx\": 2, \"row\": 2, \"col\": 0, \"value\": 0.7782276689830785, \"source\": \"ibis\"}, {\"idx\": 3, \"row\": 2, \"col\": 0, \"value\": 0.7782276689830785, \"source\": \"ibis\"}, {\"idx\": 4, \"row\": 2, \"col\": 0, \"value\": 0.7782276689830785, \"source\": \"ibis\"}, {\"idx\": 5, \"row\": 2, \"col\": 0, \"value\": -0.24619559776266564, \"source\": \"ibis\"}, {\"idx\": 6, \"row\": 2, \"col\": 0, \"value\": -0.24619559776266564, \"source\": \"ibis\"}, {\"idx\": 7, \"row\": 2, \"col\": 0, \"value\": -0.6908376846740503, \"source\": \"ibis\"}, {\"idx\": 8, \"row\": 2, \"col\": 0, \"value\": 0.6062108265134445, \"source\": \"ibis\"}, {\"idx\": 9, \"row\": 2, \"col\": 0, \"value\": 0.6062108265134445, \"source\": \"ibis\"}, {\"idx\": 10, \"row\": 2, \"col\": 0, \"value\": 0.6062108265134445, \"source\": \"ibis\"}, {\"idx\": 11, \"row\": 2, \"col\": 0, \"value\": 0.6062108265134445, \"source\": \"ibis\"}, {\"idx\": 12, \"row\": 2, \"col\": 0, \"value\": 0.6062108265134445, \"source\": \"ibis\"}, {\"idx\": 13, \"row\": 2, \"col\": 0, \"value\": 0.6062108265134445, \"source\": \"ibis\"}, {\"idx\": 14, \"row\": 2, \"col\": 0, \"value\": 0.9684491140254641, \"source\": \"ibis\"}, {\"idx\": 15, \"row\": 2, \"col\": 0, \"value\": 0.9684491140254641, \"source\": \"ibis\"}, {\"idx\": 16, \"row\": 2, \"col\": 0, \"value\": -0.24613661647669652, \"source\": \"ibis\"}, {\"idx\": 17, \"row\": 2, \"col\": 0, \"value\": -0.24613661647669652, \"source\": \"ibis\"}, {\"idx\": 18, \"row\": 2, \"col\": 0, \"value\": -1.0422244219362113, \"source\": \"ibis\"}, {\"idx\": 19, \"row\": 2, \"col\": 0, \"value\": -1.0422244219362113, \"source\": \"ibis\"}, {\"idx\": 20, \"row\": 2, \"col\": 0, \"value\": -0.8890154894686322, \"source\": \"ibis\"}, {\"idx\": 21, \"row\": 2, \"col\": 0, \"value\": -0.6822256119240944, \"source\": \"ibis\"}, {\"idx\": 22, \"row\": 2, \"col\": 0, \"value\": -0.6822256119240944, \"source\": \"ibis\"}, {\"idx\": 23, \"row\": 2, \"col\": 0, \"value\": 0.2243727327055005, \"source\": \"ibis\"}, {\"idx\": 24, \"row\": 2, \"col\": 0, \"value\": 0.2243727327055005, \"source\": \"ibis\"}, {\"idx\": 25, \"row\": 2, \"col\": 0, \"value\": 0.37766522997985963, \"source\": \"ibis\"}, {\"idx\": 26, \"row\": 2, \"col\": 0, \"value\": 0.37766522997985963, \"source\": \"ibis\"}, {\"idx\": 27, \"row\": 2, \"col\": 0, \"value\": 0.37766522997985963, \"source\": \"ibis\"}, {\"idx\": 28, \"row\": 2, \"col\": 0, \"value\": 0.3776369970310073, \"source\": \"ibis\"}, {\"idx\": 29, \"row\": 2, \"col\": 0, \"value\": 0.8819835220657878, \"source\": \"ibis\"}, {\"idx\": 30, \"row\": 2, \"col\": 0, \"value\": 0.6615072352404299, \"source\": \"ibis\"}, {\"idx\": 31, \"row\": 2, \"col\": 0, \"value\": 0.14963583888048113, \"source\": \"ibis\"}, {\"idx\": 32, \"row\": 2, \"col\": 0, \"value\": 0.14963583888048113, \"source\": \"ibis\"}, {\"idx\": 33, \"row\": 2, \"col\": 0, \"value\": 0.14963583888048113, \"source\": \"ibis\"}, {\"idx\": 34, \"row\": 2, \"col\": 0, \"value\": -0.9113364893762754, \"source\": \"ibis\"}, {\"idx\": 35, \"row\": 2, \"col\": 0, \"value\": 0.7131139982544024, \"source\": \"ibis\"}, {\"idx\": 36, \"row\": 2, \"col\": 0, \"value\": 0.7131139982544024, \"source\": \"ibis\"}, {\"idx\": 37, \"row\": 2, \"col\": 0, \"value\": 0.1268907726407431, \"source\": \"ibis\"}, {\"idx\": 38, \"row\": 2, \"col\": 0, \"value\": -0.770943187954073, \"source\": \"ibis\"}, {\"idx\": 39, \"row\": 2, \"col\": 0, \"value\": -0.01333824440398615, \"source\": \"ibis\"}, {\"idx\": 40, \"row\": 2, \"col\": 0, \"value\": -0.01333824440398615, \"source\": \"ibis\"}, {\"idx\": 41, \"row\": 2, \"col\": 0, \"value\": 0.7297517448950399, \"source\": \"ibis\"}, {\"idx\": 42, \"row\": 2, \"col\": 0, \"value\": 0.7297517448950399, \"source\": \"ibis\"}, {\"idx\": 43, \"row\": 2, \"col\": 0, \"value\": 0.18745266595787713, \"source\": \"ibis\"}, {\"idx\": 44, \"row\": 2, \"col\": 0, \"value\": 0.18745266595787713, \"source\": \"ibis\"}, {\"idx\": 45, \"row\": 2, \"col\": 0, \"value\": 0.00147143848092781, \"source\": \"ibis\"}, {\"idx\": 46, \"row\": 2, \"col\": 0, \"value\": 0.4751439909350069, \"source\": \"ibis\"}, {\"idx\": 47, \"row\": 2, \"col\": 0, \"value\": 0.003763049123782808, \"source\": \"ibis\"}, {\"idx\": 48, \"row\": 2, \"col\": 0, \"value\": 0.8112251344297347, \"source\": \"ibis\"}, {\"idx\": 49, \"row\": 2, \"col\": 0, \"value\": 0.03749236705296002, \"source\": \"ibis\"}, {\"idx\": 50, \"row\": 2, \"col\": 0, \"value\": 0.7635421292829322, \"source\": \"ibis\"}, {\"idx\": 51, \"row\": 2, \"col\": 0, \"value\": 0.7635421292829322, \"source\": \"ibis\"}, {\"idx\": 52, \"row\": 2, \"col\": 0, \"value\": -1.2469742802882606, \"source\": \"ibis\"}, {\"idx\": 53, \"row\": 2, \"col\": 0, \"value\": -1.2469742802882606, \"source\": \"ibis\"}, {\"idx\": 54, \"row\": 2, \"col\": 0, \"value\": -1.138981255566242, \"source\": \"ibis\"}, {\"idx\": 55, \"row\": 2, \"col\": 0, \"value\": -1.8777417333599513, \"source\": \"ibis\"}, {\"idx\": 56, \"row\": 2, \"col\": 0, \"value\": -0.046785986813326574, \"source\": \"ibis\"}, {\"idx\": 57, \"row\": 2, \"col\": 0, \"value\": -0.986568320098584, \"source\": \"ibis\"}, {\"idx\": 58, \"row\": 2, \"col\": 0, \"value\": -0.04385278638888446, \"source\": \"ibis\"}, {\"idx\": 59, \"row\": 2, \"col\": 0, \"value\": 0.46063500242427974, \"source\": \"ibis\"}, {\"idx\": 60, \"row\": 2, \"col\": 0, \"value\": 0.46063500242427974, \"source\": \"ibis\"}, {\"idx\": 61, \"row\": 2, \"col\": 0, \"value\": 0.46063500242427974, \"source\": \"ibis\"}, {\"idx\": 62, \"row\": 2, \"col\": 0, \"value\": 0.46063500242427974, \"source\": \"ibis\"}, {\"idx\": 63, \"row\": 2, \"col\": 0, \"value\": 0.7771499895632351, \"source\": \"ibis\"}, {\"idx\": 64, \"row\": 2, \"col\": 0, \"value\": -0.02852933253075378, \"source\": \"ibis\"}, {\"idx\": 65, \"row\": 2, \"col\": 0, \"value\": -0.02852933253075378, \"source\": \"ibis\"}, {\"idx\": 66, \"row\": 2, \"col\": 0, \"value\": 0.6731324542708088, \"source\": \"ibis\"}, {\"idx\": 67, \"row\": 2, \"col\": 0, \"value\": 0.42360760667350367, \"source\": \"ibis\"}, {\"idx\": 68, \"row\": 2, \"col\": 0, \"value\": 0.5253311914738835, \"source\": \"ibis\"}, {\"idx\": 69, \"row\": 2, \"col\": 0, \"value\": 0.5253311914738835, \"source\": \"ibis\"}, {\"idx\": 70, \"row\": 2, \"col\": 0, \"value\": 0.5253311914738835, \"source\": \"ibis\"}, {\"idx\": 71, \"row\": 2, \"col\": 0, \"value\": 0.5253311914738835, \"source\": \"ibis\"}, {\"idx\": 72, \"row\": 2, \"col\": 0, \"value\": 0.5253311914738835, \"source\": \"ibis\"}, {\"idx\": 73, \"row\": 2, \"col\": 0, \"value\": 0.8201995205237651, \"source\": \"ibis\"}, {\"idx\": 74, \"row\": 2, \"col\": 0, \"value\": 0.8201995205237651, \"source\": \"ibis\"}, {\"idx\": 75, \"row\": 2, \"col\": 0, \"value\": 0.3911313553846555, \"source\": \"ibis\"}, {\"idx\": 76, \"row\": 2, \"col\": 0, \"value\": 0.5639957869052359, \"source\": \"ibis\"}, {\"idx\": 77, \"row\": 2, \"col\": 0, \"value\": -0.15268549823333577, \"source\": \"ibis\"}, {\"idx\": 78, \"row\": 2, \"col\": 0, \"value\": -0.15268549823333577, \"source\": \"ibis\"}, {\"idx\": 79, \"row\": 2, \"col\": 0, \"value\": 1.206719840841771, \"source\": \"ibis\"}, {\"idx\": 80, \"row\": 2, \"col\": 0, \"value\": 1.206719840841771, \"source\": \"ibis\"}, {\"idx\": 81, \"row\": 2, \"col\": 0, \"value\": 1.206719840841771, \"source\": \"ibis\"}, {\"idx\": 82, \"row\": 2, \"col\": 0, \"value\": -0.23596815850521696, \"source\": \"ibis\"}, {\"idx\": 83, \"row\": 2, \"col\": 0, \"value\": 0.23280186739295383, \"source\": \"ibis\"}, {\"idx\": 84, \"row\": 2, \"col\": 0, \"value\": 0.23280186739295383, \"source\": \"ibis\"}, {\"idx\": 85, \"row\": 2, \"col\": 0, \"value\": 0.18675415851696864, \"source\": \"ibis\"}, {\"idx\": 86, \"row\": 2, \"col\": 0, \"value\": 0.18675415851696864, \"source\": \"ibis\"}, {\"idx\": 87, \"row\": 2, \"col\": 0, \"value\": -0.5766040816063085, \"source\": \"ibis\"}, {\"idx\": 88, \"row\": 2, \"col\": 0, \"value\": 0.6680200963690587, \"source\": \"ibis\"}, {\"idx\": 89, \"row\": 2, \"col\": 0, \"value\": 0.6359825181685531, \"source\": \"ibis\"}, {\"idx\": 90, \"row\": 2, \"col\": 0, \"value\": -0.38481050405915396, \"source\": \"ibis\"}, {\"idx\": 91, \"row\": 2, \"col\": 0, \"value\": -0.39674404236354993, \"source\": \"ibis\"}, {\"idx\": 92, \"row\": 2, \"col\": 0, \"value\": -0.39674404236354993, \"source\": \"ibis\"}, {\"idx\": 93, \"row\": 2, \"col\": 0, \"value\": -0.0693898928014251, \"source\": \"ibis\"}, {\"idx\": 94, \"row\": 2, \"col\": 0, \"value\": -0.0693898928014251, \"source\": \"ibis\"}, {\"idx\": 95, \"row\": 2, \"col\": 0, \"value\": 0.28541925387318173, \"source\": \"ibis\"}, {\"idx\": 96, \"row\": 2, \"col\": 0, \"value\": 0.28541925387318173, \"source\": \"ibis\"}, {\"idx\": 97, \"row\": 2, \"col\": 0, \"value\": 0.28541925387318173, \"source\": \"ibis\"}, {\"idx\": 98, \"row\": 2, \"col\": 0, \"value\": 0.28541925387318173, \"source\": \"ibis\"}, {\"idx\": 99, \"row\": 2, \"col\": 0, \"value\": -1.5779935399393719, \"source\": \"ibis\"}, {\"idx\": 0, \"row\": 3, \"col\": 0, \"value\": 0.8338540773931562, \"source\": \"ibis\"}, {\"idx\": 1, \"row\": 3, \"col\": 0, \"value\": -0.6529203422938117, \"source\": \"ibis\"}, {\"idx\": 2, \"row\": 3, \"col\": 0, \"value\": 0.688688815649343, \"source\": \"ibis\"}, {\"idx\": 3, \"row\": 3, \"col\": 0, \"value\": 0.688688815649343, \"source\": \"ibis\"}, {\"idx\": 4, \"row\": 3, \"col\": 0, \"value\": 0.688688815649343, \"source\": \"ibis\"}, {\"idx\": 5, \"row\": 3, \"col\": 0, \"value\": 0.9965275904408508, \"source\": \"ibis\"}, {\"idx\": 6, \"row\": 3, \"col\": 0, \"value\": 0.9965275904408508, \"source\": \"ibis\"}, {\"idx\": 7, \"row\": 3, \"col\": 0, \"value\": -0.16097528052999363, \"source\": \"ibis\"}, {\"idx\": 8, \"row\": 3, \"col\": 0, \"value\": 0.27958249566286875, \"source\": \"ibis\"}, {\"idx\": 9, \"row\": 3, \"col\": 0, \"value\": 0.27958249566286875, \"source\": \"ibis\"}, {\"idx\": 10, \"row\": 3, \"col\": 0, \"value\": 0.27958249566286875, \"source\": \"ibis\"}, {\"idx\": 11, \"row\": 3, \"col\": 0, \"value\": 0.27958249566286875, \"source\": \"ibis\"}, {\"idx\": 12, \"row\": 3, \"col\": 0, \"value\": 0.27958249566286875, \"source\": \"ibis\"}, {\"idx\": 13, \"row\": 3, \"col\": 0, \"value\": 0.27958249566286875, \"source\": \"ibis\"}, {\"idx\": 14, \"row\": 3, \"col\": 0, \"value\": 0.3083939406837728, \"source\": \"ibis\"}, {\"idx\": 15, \"row\": 3, \"col\": 0, \"value\": 0.3083939406837728, \"source\": \"ibis\"}, {\"idx\": 16, \"row\": 3, \"col\": 0, \"value\": -0.24027003157150617, \"source\": \"ibis\"}, {\"idx\": 17, \"row\": 3, \"col\": 0, \"value\": -0.24027003157150617, \"source\": \"ibis\"}, {\"idx\": 18, \"row\": 3, \"col\": 0, \"value\": -0.2045379264068894, \"source\": \"ibis\"}, {\"idx\": 19, \"row\": 3, \"col\": 0, \"value\": -0.2045379264068894, \"source\": \"ibis\"}, {\"idx\": 20, \"row\": 3, \"col\": 0, \"value\": 0.13434023847341128, \"source\": \"ibis\"}, {\"idx\": 21, \"row\": 3, \"col\": 0, \"value\": 0.6338690441434538, \"source\": \"ibis\"}, {\"idx\": 22, \"row\": 3, \"col\": 0, \"value\": 0.6338690441434538, \"source\": \"ibis\"}, {\"idx\": 23, \"row\": 3, \"col\": 0, \"value\": 0.2832254678026143, \"source\": \"ibis\"}, {\"idx\": 24, \"row\": 3, \"col\": 0, \"value\": 0.2832254678026143, \"source\": \"ibis\"}, {\"idx\": 25, \"row\": 3, \"col\": 0, \"value\": -0.0912083421487945, \"source\": \"ibis\"}, {\"idx\": 26, \"row\": 3, \"col\": 0, \"value\": -0.0912083421487945, \"source\": \"ibis\"}, {\"idx\": 27, \"row\": 3, \"col\": 0, \"value\": -0.0912083421487945, \"source\": \"ibis\"}, {\"idx\": 28, \"row\": 3, \"col\": 0, \"value\": -0.3277908624760949, \"source\": \"ibis\"}, {\"idx\": 29, \"row\": 3, \"col\": 0, \"value\": -0.4604850396372074, \"source\": \"ibis\"}, {\"idx\": 30, \"row\": 3, \"col\": 0, \"value\": -0.3858394831836685, \"source\": \"ibis\"}, {\"idx\": 31, \"row\": 3, \"col\": 0, \"value\": 0.8570573422460647, \"source\": \"ibis\"}, {\"idx\": 32, \"row\": 3, \"col\": 0, \"value\": 0.8570573422460647, \"source\": \"ibis\"}, {\"idx\": 33, \"row\": 3, \"col\": 0, \"value\": 0.8570573422460647, \"source\": \"ibis\"}, {\"idx\": 34, \"row\": 3, \"col\": 0, \"value\": 0.25915849620220677, \"source\": \"ibis\"}, {\"idx\": 35, \"row\": 3, \"col\": 0, \"value\": 0.2958548914544823, \"source\": \"ibis\"}, {\"idx\": 36, \"row\": 3, \"col\": 0, \"value\": 0.2958548914544823, \"source\": \"ibis\"}, {\"idx\": 37, \"row\": 3, \"col\": 0, \"value\": -0.9035035944692664, \"source\": \"ibis\"}, {\"idx\": 38, \"row\": 3, \"col\": 0, \"value\": 0.8421887451967676, \"source\": \"ibis\"}, {\"idx\": 39, \"row\": 3, \"col\": 0, \"value\": -1.057807356956982, \"source\": \"ibis\"}, {\"idx\": 40, \"row\": 3, \"col\": 0, \"value\": -1.057807356956982, \"source\": \"ibis\"}, {\"idx\": 41, \"row\": 3, \"col\": 0, \"value\": 0.25240760243404986, \"source\": \"ibis\"}, {\"idx\": 42, \"row\": 3, \"col\": 0, \"value\": 0.25240760243404986, \"source\": \"ibis\"}, {\"idx\": 43, \"row\": 3, \"col\": 0, \"value\": 0.25068704724126245, \"source\": \"ibis\"}, {\"idx\": 44, \"row\": 3, \"col\": 0, \"value\": 0.25068704724126245, \"source\": \"ibis\"}, {\"idx\": 45, \"row\": 3, \"col\": 0, \"value\": -0.2921077728867184, \"source\": \"ibis\"}, {\"idx\": 46, \"row\": 3, \"col\": 0, \"value\": -0.11440906341207227, \"source\": \"ibis\"}, {\"idx\": 47, \"row\": 3, \"col\": 0, \"value\": 1.0330557356779753, \"source\": \"ibis\"}, {\"idx\": 48, \"row\": 3, \"col\": 0, \"value\": 0.47841649432244204, \"source\": \"ibis\"}, {\"idx\": 49, \"row\": 3, \"col\": 0, \"value\": -0.529835047667419, \"source\": \"ibis\"}, {\"idx\": 50, \"row\": 3, \"col\": 0, \"value\": -0.27867941051002865, \"source\": \"ibis\"}, {\"idx\": 51, \"row\": 3, \"col\": 0, \"value\": -0.27867941051002865, \"source\": \"ibis\"}, {\"idx\": 52, \"row\": 3, \"col\": 0, \"value\": 0.4776159993590855, \"source\": \"ibis\"}, {\"idx\": 53, \"row\": 3, \"col\": 0, \"value\": 0.4776159993590855, \"source\": \"ibis\"}, {\"idx\": 54, \"row\": 3, \"col\": 0, \"value\": 0.5393603494533756, \"source\": \"ibis\"}, {\"idx\": 55, \"row\": 3, \"col\": 0, \"value\": -0.26830714615307616, \"source\": \"ibis\"}, {\"idx\": 56, \"row\": 3, \"col\": 0, \"value\": -0.08520669590574145, \"source\": \"ibis\"}, {\"idx\": 57, \"row\": 3, \"col\": 0, \"value\": -0.04338921036320517, \"source\": \"ibis\"}, {\"idx\": 58, \"row\": 3, \"col\": 0, \"value\": 0.48141150025374924, \"source\": \"ibis\"}, {\"idx\": 59, \"row\": 3, \"col\": 0, \"value\": 0.9863498821482715, \"source\": \"ibis\"}, {\"idx\": 60, \"row\": 3, \"col\": 0, \"value\": 0.9863498821482715, \"source\": \"ibis\"}, {\"idx\": 61, \"row\": 3, \"col\": 0, \"value\": 0.9863498821482715, \"source\": \"ibis\"}, {\"idx\": 62, \"row\": 3, \"col\": 0, \"value\": 0.9863498821482715, \"source\": \"ibis\"}, {\"idx\": 63, \"row\": 3, \"col\": 0, \"value\": 1.4976664368450296, \"source\": \"ibis\"}, {\"idx\": 64, \"row\": 3, \"col\": 0, \"value\": 0.2363627746400776, \"source\": \"ibis\"}, {\"idx\": 65, \"row\": 3, \"col\": 0, \"value\": 0.2363627746400776, \"source\": \"ibis\"}, {\"idx\": 66, \"row\": 3, \"col\": 0, \"value\": -1.2120107039197134, \"source\": \"ibis\"}, {\"idx\": 67, \"row\": 3, \"col\": 0, \"value\": 0.15414911790923866, \"source\": \"ibis\"}, {\"idx\": 68, \"row\": 3, \"col\": 0, \"value\": 0.11364375574663517, \"source\": \"ibis\"}, {\"idx\": 69, \"row\": 3, \"col\": 0, \"value\": 0.11364375574663517, \"source\": \"ibis\"}, {\"idx\": 70, \"row\": 3, \"col\": 0, \"value\": 0.11364375574663517, \"source\": \"ibis\"}, {\"idx\": 71, \"row\": 3, \"col\": 0, \"value\": 0.11364375574663517, \"source\": \"ibis\"}, {\"idx\": 72, \"row\": 3, \"col\": 0, \"value\": 0.11364375574663517, \"source\": \"ibis\"}, {\"idx\": 73, \"row\": 3, \"col\": 0, \"value\": -0.6638415054886101, \"source\": \"ibis\"}, {\"idx\": 74, \"row\": 3, \"col\": 0, \"value\": -0.6638415054886101, \"source\": \"ibis\"}, {\"idx\": 75, \"row\": 3, \"col\": 0, \"value\": -0.6141964153383207, \"source\": \"ibis\"}, {\"idx\": 76, \"row\": 3, \"col\": 0, \"value\": -0.9449952396795075, \"source\": \"ibis\"}, {\"idx\": 77, \"row\": 3, \"col\": 0, \"value\": 0.5597610017131804, \"source\": \"ibis\"}, {\"idx\": 78, \"row\": 3, \"col\": 0, \"value\": 0.5597610017131804, \"source\": \"ibis\"}, {\"idx\": 79, \"row\": 3, \"col\": 0, \"value\": -1.35803484868101, \"source\": \"ibis\"}, {\"idx\": 80, \"row\": 3, \"col\": 0, \"value\": -1.35803484868101, \"source\": \"ibis\"}, {\"idx\": 81, \"row\": 3, \"col\": 0, \"value\": -1.35803484868101, \"source\": \"ibis\"}, {\"idx\": 82, \"row\": 3, \"col\": 0, \"value\": 0.25828933830102785, \"source\": \"ibis\"}, {\"idx\": 83, \"row\": 3, \"col\": 0, \"value\": -0.13113897056295842, \"source\": \"ibis\"}, {\"idx\": 84, \"row\": 3, \"col\": 0, \"value\": -0.13113897056295842, \"source\": \"ibis\"}, {\"idx\": 85, \"row\": 3, \"col\": 0, \"value\": 0.7606448378959264, \"source\": \"ibis\"}, {\"idx\": 86, \"row\": 3, \"col\": 0, \"value\": 0.7606448378959264, \"source\": \"ibis\"}, {\"idx\": 87, \"row\": 3, \"col\": 0, \"value\": 0.7463117006164559, \"source\": \"ibis\"}, {\"idx\": 88, \"row\": 3, \"col\": 0, \"value\": -0.1475207151925122, \"source\": \"ibis\"}, {\"idx\": 89, \"row\": 3, \"col\": 0, \"value\": -0.8599100617764912, \"source\": \"ibis\"}, {\"idx\": 90, \"row\": 3, \"col\": 0, \"value\": -0.44240291837805246, \"source\": \"ibis\"}, {\"idx\": 91, \"row\": 3, \"col\": 0, \"value\": 0.2561907406172263, \"source\": \"ibis\"}, {\"idx\": 92, \"row\": 3, \"col\": 0, \"value\": 0.2561907406172263, \"source\": \"ibis\"}, {\"idx\": 93, \"row\": 3, \"col\": 0, \"value\": -0.3116620322168426, \"source\": \"ibis\"}, {\"idx\": 94, \"row\": 3, \"col\": 0, \"value\": -0.3116620322168426, \"source\": \"ibis\"}, {\"idx\": 95, \"row\": 3, \"col\": 0, \"value\": -0.20048814927056424, \"source\": \"ibis\"}, {\"idx\": 96, \"row\": 3, \"col\": 0, \"value\": -0.20048814927056424, \"source\": \"ibis\"}, {\"idx\": 97, \"row\": 3, \"col\": 0, \"value\": -0.20048814927056424, \"source\": \"ibis\"}, {\"idx\": 98, \"row\": 3, \"col\": 0, \"value\": -0.20048814927056424, \"source\": \"ibis\"}, {\"idx\": 99, \"row\": 3, \"col\": 0, \"value\": 0.08113759908438797, \"source\": \"ibis\"}, {\"idx\": 0, \"row\": 4, \"col\": 0, \"value\": 0.4876498867364751, \"source\": \"ibis\"}, {\"idx\": 1, \"row\": 4, \"col\": 0, \"value\": -0.08781714579692869, \"source\": \"ibis\"}, {\"idx\": 2, \"row\": 4, \"col\": 0, \"value\": 0.8682858274126899, \"source\": \"ibis\"}, {\"idx\": 3, \"row\": 4, \"col\": 0, \"value\": 0.8682858274126899, \"source\": \"ibis\"}, {\"idx\": 4, \"row\": 4, \"col\": 0, \"value\": 0.8682858274126899, \"source\": \"ibis\"}, {\"idx\": 5, \"row\": 4, \"col\": 0, \"value\": 0.011513360470152237, \"source\": \"ibis\"}, {\"idx\": 6, \"row\": 4, \"col\": 0, \"value\": 0.011513360470152237, \"source\": \"ibis\"}, {\"idx\": 7, \"row\": 4, \"col\": 0, \"value\": 1.0619095324079895, \"source\": \"ibis\"}, {\"idx\": 8, \"row\": 4, \"col\": 0, \"value\": 0.7964833110485237, \"source\": \"ibis\"}, {\"idx\": 9, \"row\": 4, \"col\": 0, \"value\": 0.7964833110485237, \"source\": \"ibis\"}, {\"idx\": 10, \"row\": 4, \"col\": 0, \"value\": 0.7964833110485237, \"source\": \"ibis\"}, {\"idx\": 11, \"row\": 4, \"col\": 0, \"value\": 0.7964833110485237, \"source\": \"ibis\"}, {\"idx\": 12, \"row\": 4, \"col\": 0, \"value\": 0.7964833110485237, \"source\": \"ibis\"}, {\"idx\": 13, \"row\": 4, \"col\": 0, \"value\": 0.7964833110485237, \"source\": \"ibis\"}, {\"idx\": 14, \"row\": 4, \"col\": 0, \"value\": 0.9162644009148079, \"source\": \"ibis\"}, {\"idx\": 15, \"row\": 4, \"col\": 0, \"value\": 0.9162644009148079, \"source\": \"ibis\"}, {\"idx\": 16, \"row\": 4, \"col\": 0, \"value\": 1.1228712199836235, \"source\": \"ibis\"}, {\"idx\": 17, \"row\": 4, \"col\": 0, \"value\": 1.1228712199836235, \"source\": \"ibis\"}, {\"idx\": 18, \"row\": 4, \"col\": 0, \"value\": 0.4011722452796534, \"source\": \"ibis\"}, {\"idx\": 19, \"row\": 4, \"col\": 0, \"value\": 0.4011722452796534, \"source\": \"ibis\"}, {\"idx\": 20, \"row\": 4, \"col\": 0, \"value\": -0.7176783709675557, \"source\": \"ibis\"}, {\"idx\": 21, \"row\": 4, \"col\": 0, \"value\": -0.5299450429585395, \"source\": \"ibis\"}, {\"idx\": 22, \"row\": 4, \"col\": 0, \"value\": -0.5299450429585395, \"source\": \"ibis\"}, {\"idx\": 23, \"row\": 4, \"col\": 0, \"value\": -0.07428089255657645, \"source\": \"ibis\"}, {\"idx\": 24, \"row\": 4, \"col\": 0, \"value\": -0.07428089255657645, \"source\": \"ibis\"}, {\"idx\": 25, \"row\": 4, \"col\": 0, \"value\": 0.7531544683605815, \"source\": \"ibis\"}, {\"idx\": 26, \"row\": 4, \"col\": 0, \"value\": 0.7531544683605815, \"source\": \"ibis\"}, {\"idx\": 27, \"row\": 4, \"col\": 0, \"value\": 0.7531544683605815, \"source\": \"ibis\"}, {\"idx\": 28, \"row\": 4, \"col\": 0, \"value\": -0.4551442483464072, \"source\": \"ibis\"}, {\"idx\": 29, \"row\": 4, \"col\": 0, \"value\": 1.1265544136375973, \"source\": \"ibis\"}, {\"idx\": 30, \"row\": 4, \"col\": 0, \"value\": -0.23079725052562572, \"source\": \"ibis\"}, {\"idx\": 31, \"row\": 4, \"col\": 0, \"value\": 0.10317459422000387, \"source\": \"ibis\"}, {\"idx\": 32, \"row\": 4, \"col\": 0, \"value\": 0.10317459422000387, \"source\": \"ibis\"}, {\"idx\": 33, \"row\": 4, \"col\": 0, \"value\": 0.10317459422000387, \"source\": \"ibis\"}, {\"idx\": 34, \"row\": 4, \"col\": 0, \"value\": -0.756615639892889, \"source\": \"ibis\"}, {\"idx\": 35, \"row\": 4, \"col\": 0, \"value\": 0.18356941465588053, \"source\": \"ibis\"}, {\"idx\": 36, \"row\": 4, \"col\": 0, \"value\": 0.18356941465588053, \"source\": \"ibis\"}, {\"idx\": 37, \"row\": 4, \"col\": 0, \"value\": 0.9811015604375688, \"source\": \"ibis\"}, {\"idx\": 38, \"row\": 4, \"col\": 0, \"value\": 0.2970550664938125, \"source\": \"ibis\"}, {\"idx\": 39, \"row\": 4, \"col\": 0, \"value\": 1.839464718340407, \"source\": \"ibis\"}, {\"idx\": 40, \"row\": 4, \"col\": 0, \"value\": 1.839464718340407, \"source\": \"ibis\"}, {\"idx\": 41, \"row\": 4, \"col\": 0, \"value\": 0.45569396125201767, \"source\": \"ibis\"}, {\"idx\": 42, \"row\": 4, \"col\": 0, \"value\": 0.45569396125201767, \"source\": \"ibis\"}, {\"idx\": 43, \"row\": 4, \"col\": 0, \"value\": -0.08153265276429184, \"source\": \"ibis\"}, {\"idx\": 44, \"row\": 4, \"col\": 0, \"value\": -0.08153265276429184, \"source\": \"ibis\"}, {\"idx\": 45, \"row\": 4, \"col\": 0, \"value\": -0.024633295433403493, \"source\": \"ibis\"}, {\"idx\": 46, \"row\": 4, \"col\": 0, \"value\": 0.2703931208909307, \"source\": \"ibis\"}, {\"idx\": 47, \"row\": 4, \"col\": 0, \"value\": -0.9667756490586169, \"source\": \"ibis\"}, {\"idx\": 48, \"row\": 4, \"col\": 0, \"value\": -0.4047345421771887, \"source\": \"ibis\"}, {\"idx\": 49, \"row\": 4, \"col\": 0, \"value\": 2.0229162510705474, \"source\": \"ibis\"}, {\"idx\": 50, \"row\": 4, \"col\": 0, \"value\": -1.1120900413677115, \"source\": \"ibis\"}, {\"idx\": 51, \"row\": 4, \"col\": 0, \"value\": -1.1120900413677115, \"source\": \"ibis\"}, {\"idx\": 52, \"row\": 4, \"col\": 0, \"value\": 0.28500685229557376, \"source\": \"ibis\"}, {\"idx\": 53, \"row\": 4, \"col\": 0, \"value\": 0.28500685229557376, \"source\": \"ibis\"}, {\"idx\": 54, \"row\": 4, \"col\": 0, \"value\": 1.495413664164786, \"source\": \"ibis\"}, {\"idx\": 55, \"row\": 4, \"col\": 0, \"value\": -0.30228423681066463, \"source\": \"ibis\"}, {\"idx\": 56, \"row\": 4, \"col\": 0, \"value\": -1.7585617768260071, \"source\": \"ibis\"}, {\"idx\": 57, \"row\": 4, \"col\": 0, \"value\": -0.7127301559789685, \"source\": \"ibis\"}, {\"idx\": 58, \"row\": 4, \"col\": 0, \"value\": 0.951224140992346, \"source\": \"ibis\"}, {\"idx\": 59, \"row\": 4, \"col\": 0, \"value\": 0.34093793385662285, \"source\": \"ibis\"}, {\"idx\": 60, \"row\": 4, \"col\": 0, \"value\": 0.34093793385662285, \"source\": \"ibis\"}, {\"idx\": 61, \"row\": 4, \"col\": 0, \"value\": 0.34093793385662285, \"source\": \"ibis\"}, {\"idx\": 62, \"row\": 4, \"col\": 0, \"value\": 0.34093793385662285, \"source\": \"ibis\"}, {\"idx\": 63, \"row\": 4, \"col\": 0, \"value\": 0.5757614679159264, \"source\": \"ibis\"}, {\"idx\": 64, \"row\": 4, \"col\": 0, \"value\": 0.05950746407345592, \"source\": \"ibis\"}, {\"idx\": 65, \"row\": 4, \"col\": 0, \"value\": 0.05950746407345592, \"source\": \"ibis\"}, {\"idx\": 66, \"row\": 4, \"col\": 0, \"value\": 0.9647407779948751, \"source\": \"ibis\"}, {\"idx\": 67, \"row\": 4, \"col\": 0, \"value\": 0.7279400978333367, \"source\": \"ibis\"}, {\"idx\": 68, \"row\": 4, \"col\": 0, \"value\": 0.5679058847199104, \"source\": \"ibis\"}, {\"idx\": 69, \"row\": 4, \"col\": 0, \"value\": 0.5679058847199104, \"source\": \"ibis\"}, {\"idx\": 70, \"row\": 4, \"col\": 0, \"value\": 0.5679058847199104, \"source\": \"ibis\"}, {\"idx\": 71, \"row\": 4, \"col\": 0, \"value\": 0.5679058847199104, \"source\": \"ibis\"}, {\"idx\": 72, \"row\": 4, \"col\": 0, \"value\": 0.5679058847199104, \"source\": \"ibis\"}, {\"idx\": 73, \"row\": 4, \"col\": 0, \"value\": 0.15472680790360877, \"source\": \"ibis\"}, {\"idx\": 74, \"row\": 4, \"col\": 0, \"value\": 0.15472680790360877, \"source\": \"ibis\"}, {\"idx\": 75, \"row\": 4, \"col\": 0, \"value\": 0.27186863739082345, \"source\": \"ibis\"}, {\"idx\": 76, \"row\": 4, \"col\": 0, \"value\": -0.2532133637046155, \"source\": \"ibis\"}, {\"idx\": 77, \"row\": 4, \"col\": 0, \"value\": -0.16383286412031958, \"source\": \"ibis\"}, {\"idx\": 78, \"row\": 4, \"col\": 0, \"value\": -0.16383286412031958, \"source\": \"ibis\"}, {\"idx\": 79, \"row\": 4, \"col\": 0, \"value\": -0.006382650674813223, \"source\": \"ibis\"}, {\"idx\": 80, \"row\": 4, \"col\": 0, \"value\": -0.006382650674813223, \"source\": \"ibis\"}, {\"idx\": 81, \"row\": 4, \"col\": 0, \"value\": -0.006382650674813223, \"source\": \"ibis\"}, {\"idx\": 82, \"row\": 4, \"col\": 0, \"value\": -0.38737830086451497, \"source\": \"ibis\"}, {\"idx\": 83, \"row\": 4, \"col\": 0, \"value\": -0.0802659883298614, \"source\": \"ibis\"}, {\"idx\": 84, \"row\": 4, \"col\": 0, \"value\": -0.0802659883298614, \"source\": \"ibis\"}, {\"idx\": 85, \"row\": 4, \"col\": 0, \"value\": -0.10149975449121629, \"source\": \"ibis\"}, {\"idx\": 86, \"row\": 4, \"col\": 0, \"value\": -0.10149975449121629, \"source\": \"ibis\"}, {\"idx\": 87, \"row\": 4, \"col\": 0, \"value\": -0.5906705227863199, \"source\": \"ibis\"}, {\"idx\": 88, \"row\": 4, \"col\": 0, \"value\": 0.24501964679615934, \"source\": \"ibis\"}, {\"idx\": 89, \"row\": 4, \"col\": 0, \"value\": 0.7067998220000511, \"source\": \"ibis\"}, {\"idx\": 90, \"row\": 4, \"col\": 0, \"value\": -0.06140318085549337, \"source\": \"ibis\"}, {\"idx\": 91, \"row\": 4, \"col\": 0, \"value\": -0.7928509033061961, \"source\": \"ibis\"}, {\"idx\": 92, \"row\": 4, \"col\": 0, \"value\": -0.7928509033061961, \"source\": \"ibis\"}, {\"idx\": 93, \"row\": 4, \"col\": 0, \"value\": 0.22738162400623574, \"source\": \"ibis\"}, {\"idx\": 94, \"row\": 4, \"col\": 0, \"value\": 0.22738162400623574, \"source\": \"ibis\"}, {\"idx\": 95, \"row\": 4, \"col\": 0, \"value\": -1.2167982639300816, \"source\": \"ibis\"}, {\"idx\": 96, \"row\": 4, \"col\": 0, \"value\": -1.2167982639300816, \"source\": \"ibis\"}, {\"idx\": 97, \"row\": 4, \"col\": 0, \"value\": -1.2167982639300816, \"source\": \"ibis\"}, {\"idx\": 98, \"row\": 4, \"col\": 0, \"value\": -1.2167982639300816, \"source\": \"ibis\"}, {\"idx\": 99, \"row\": 4, \"col\": 0, \"value\": -0.13086999332399538, \"source\": \"ibis\"}, {\"idx\": 0, \"row\": 5, \"col\": 0, \"value\": -0.4735163984425585, \"source\": \"ibis\"}, {\"idx\": 1, \"row\": 5, \"col\": 0, \"value\": 0.03705251965376688, \"source\": \"ibis\"}, {\"idx\": 2, \"row\": 5, \"col\": 0, \"value\": 0.21756127561334274, \"source\": \"ibis\"}, {\"idx\": 3, \"row\": 5, \"col\": 0, \"value\": 0.21756127561334274, \"source\": \"ibis\"}, {\"idx\": 4, \"row\": 5, \"col\": 0, \"value\": 0.21756127561334274, \"source\": \"ibis\"}, {\"idx\": 5, \"row\": 5, \"col\": 0, \"value\": 1.7853992907654774, \"source\": \"ibis\"}, {\"idx\": 6, \"row\": 5, \"col\": 0, \"value\": 1.7853992907654774, \"source\": \"ibis\"}, {\"idx\": 7, \"row\": 5, \"col\": 0, \"value\": -0.018297055572771392, \"source\": \"ibis\"}, {\"idx\": 8, \"row\": 5, \"col\": 0, \"value\": 1.1930883548965852, \"source\": \"ibis\"}, {\"idx\": 9, \"row\": 5, \"col\": 0, \"value\": 1.1930883548965852, \"source\": \"ibis\"}, {\"idx\": 10, \"row\": 5, \"col\": 0, \"value\": 1.1930883548965852, \"source\": \"ibis\"}, {\"idx\": 11, \"row\": 5, \"col\": 0, \"value\": 1.1930883548965852, \"source\": \"ibis\"}, {\"idx\": 12, \"row\": 5, \"col\": 0, \"value\": 1.1930883548965852, \"source\": \"ibis\"}, {\"idx\": 13, \"row\": 5, \"col\": 0, \"value\": 1.1930883548965852, \"source\": \"ibis\"}, {\"idx\": 14, \"row\": 5, \"col\": 0, \"value\": -0.19302406442021858, \"source\": \"ibis\"}, {\"idx\": 15, \"row\": 5, \"col\": 0, \"value\": -0.19302406442021858, \"source\": \"ibis\"}, {\"idx\": 16, \"row\": 5, \"col\": 0, \"value\": 1.1339603530233124, \"source\": \"ibis\"}, {\"idx\": 17, \"row\": 5, \"col\": 0, \"value\": 1.1339603530233124, \"source\": \"ibis\"}, {\"idx\": 18, \"row\": 5, \"col\": 0, \"value\": -0.5686528117032685, \"source\": \"ibis\"}, {\"idx\": 19, \"row\": 5, \"col\": 0, \"value\": -0.5686528117032685, \"source\": \"ibis\"}, {\"idx\": 20, \"row\": 5, \"col\": 0, \"value\": 1.0130141006283344, \"source\": \"ibis\"}, {\"idx\": 21, \"row\": 5, \"col\": 0, \"value\": 0.20587523757974652, \"source\": \"ibis\"}, {\"idx\": 22, \"row\": 5, \"col\": 0, \"value\": 0.20587523757974652, \"source\": \"ibis\"}, {\"idx\": 23, \"row\": 5, \"col\": 0, \"value\": 0.2302746785252034, \"source\": \"ibis\"}, {\"idx\": 24, \"row\": 5, \"col\": 0, \"value\": 0.2302746785252034, \"source\": \"ibis\"}, {\"idx\": 25, \"row\": 5, \"col\": 0, \"value\": 0.485835202630401, \"source\": \"ibis\"}, {\"idx\": 26, \"row\": 5, \"col\": 0, \"value\": 0.485835202630401, \"source\": \"ibis\"}, {\"idx\": 27, \"row\": 5, \"col\": 0, \"value\": 0.485835202630401, \"source\": \"ibis\"}, {\"idx\": 28, \"row\": 5, \"col\": 0, \"value\": 0.8652828908353645, \"source\": \"ibis\"}, {\"idx\": 29, \"row\": 5, \"col\": 0, \"value\": -0.1063050025389804, \"source\": \"ibis\"}, {\"idx\": 30, \"row\": 5, \"col\": 0, \"value\": 0.9807712310216272, \"source\": \"ibis\"}, {\"idx\": 31, \"row\": 5, \"col\": 0, \"value\": 0.18697444768474758, \"source\": \"ibis\"}, {\"idx\": 32, \"row\": 5, \"col\": 0, \"value\": 0.18697444768474758, \"source\": \"ibis\"}, {\"idx\": 33, \"row\": 5, \"col\": 0, \"value\": 0.18697444768474758, \"source\": \"ibis\"}, {\"idx\": 34, \"row\": 5, \"col\": 0, \"value\": 0.2602594596867196, \"source\": \"ibis\"}, {\"idx\": 35, \"row\": 5, \"col\": 0, \"value\": 0.3918743118913537, \"source\": \"ibis\"}, {\"idx\": 36, \"row\": 5, \"col\": 0, \"value\": 0.3918743118913537, \"source\": \"ibis\"}, {\"idx\": 37, \"row\": 5, \"col\": 0, \"value\": -0.44231775833169995, \"source\": \"ibis\"}, {\"idx\": 38, \"row\": 5, \"col\": 0, \"value\": 1.465592888759369, \"source\": \"ibis\"}, {\"idx\": 39, \"row\": 5, \"col\": 0, \"value\": 0.9503950296509318, \"source\": \"ibis\"}, {\"idx\": 40, \"row\": 5, \"col\": 0, \"value\": 0.9503950296509318, \"source\": \"ibis\"}, {\"idx\": 41, \"row\": 5, \"col\": 0, \"value\": 0.6062098448786079, \"source\": \"ibis\"}, {\"idx\": 42, \"row\": 5, \"col\": 0, \"value\": 0.6062098448786079, \"source\": \"ibis\"}, {\"idx\": 43, \"row\": 5, \"col\": 0, \"value\": 1.1275928700306421, \"source\": \"ibis\"}, {\"idx\": 44, \"row\": 5, \"col\": 0, \"value\": 1.1275928700306421, \"source\": \"ibis\"}, {\"idx\": 45, \"row\": 5, \"col\": 0, \"value\": -0.9187674209304331, \"source\": \"ibis\"}, {\"idx\": 46, \"row\": 5, \"col\": 0, \"value\": 0.5049448390410579, \"source\": \"ibis\"}, {\"idx\": 47, \"row\": 5, \"col\": 0, \"value\": 0.06231099830798742, \"source\": \"ibis\"}, {\"idx\": 48, \"row\": 5, \"col\": 0, \"value\": 0.08625817974784537, \"source\": \"ibis\"}, {\"idx\": 49, \"row\": 5, \"col\": 0, \"value\": 0.34125212015802275, \"source\": \"ibis\"}, {\"idx\": 50, \"row\": 5, \"col\": 0, \"value\": -1.5003332673095169, \"source\": \"ibis\"}, {\"idx\": 51, \"row\": 5, \"col\": 0, \"value\": -1.5003332673095169, \"source\": \"ibis\"}, {\"idx\": 52, \"row\": 5, \"col\": 0, \"value\": -0.11564087127815212, \"source\": \"ibis\"}, {\"idx\": 53, \"row\": 5, \"col\": 0, \"value\": -0.11564087127815212, \"source\": \"ibis\"}, {\"idx\": 54, \"row\": 5, \"col\": 0, \"value\": -0.46922248950865664, \"source\": \"ibis\"}, {\"idx\": 55, \"row\": 5, \"col\": 0, \"value\": -0.7165364020773618, \"source\": \"ibis\"}, {\"idx\": 56, \"row\": 5, \"col\": 0, \"value\": -0.02477819685846637, \"source\": \"ibis\"}, {\"idx\": 57, \"row\": 5, \"col\": 0, \"value\": -0.8961354525179291, \"source\": \"ibis\"}, {\"idx\": 58, \"row\": 5, \"col\": 0, \"value\": 0.4554503361179725, \"source\": \"ibis\"}, {\"idx\": 59, \"row\": 5, \"col\": 0, \"value\": -0.04445176008376378, \"source\": \"ibis\"}, {\"idx\": 60, \"row\": 5, \"col\": 0, \"value\": -0.04445176008376378, \"source\": \"ibis\"}, {\"idx\": 61, \"row\": 5, \"col\": 0, \"value\": -0.04445176008376378, \"source\": \"ibis\"}, {\"idx\": 62, \"row\": 5, \"col\": 0, \"value\": -0.04445176008376378, \"source\": \"ibis\"}, {\"idx\": 63, \"row\": 5, \"col\": 0, \"value\": 1.254597715653784, \"source\": \"ibis\"}, {\"idx\": 64, \"row\": 5, \"col\": 0, \"value\": 0.3737607161037783, \"source\": \"ibis\"}, {\"idx\": 65, \"row\": 5, \"col\": 0, \"value\": 0.3737607161037783, \"source\": \"ibis\"}, {\"idx\": 66, \"row\": 5, \"col\": 0, \"value\": 0.3813887844406363, \"source\": \"ibis\"}, {\"idx\": 67, \"row\": 5, \"col\": 0, \"value\": 0.18069983795937147, \"source\": \"ibis\"}, {\"idx\": 68, \"row\": 5, \"col\": 0, \"value\": 0.4944354673299039, \"source\": \"ibis\"}, {\"idx\": 69, \"row\": 5, \"col\": 0, \"value\": 0.4944354673299039, \"source\": \"ibis\"}, {\"idx\": 70, \"row\": 5, \"col\": 0, \"value\": 0.4944354673299039, \"source\": \"ibis\"}, {\"idx\": 71, \"row\": 5, \"col\": 0, \"value\": 0.4944354673299039, \"source\": \"ibis\"}, {\"idx\": 72, \"row\": 5, \"col\": 0, \"value\": 0.4944354673299039, \"source\": \"ibis\"}, {\"idx\": 73, \"row\": 5, \"col\": 0, \"value\": -0.43715891939328105, \"source\": \"ibis\"}, {\"idx\": 74, \"row\": 5, \"col\": 0, \"value\": -0.43715891939328105, \"source\": \"ibis\"}, {\"idx\": 75, \"row\": 5, \"col\": 0, \"value\": 0.3512610200267393, \"source\": \"ibis\"}, {\"idx\": 76, \"row\": 5, \"col\": 0, \"value\": -0.5335588800210438, \"source\": \"ibis\"}, {\"idx\": 77, \"row\": 5, \"col\": 0, \"value\": -0.010105187275575071, \"source\": \"ibis\"}, {\"idx\": 78, \"row\": 5, \"col\": 0, \"value\": -0.010105187275575071, \"source\": \"ibis\"}, {\"idx\": 79, \"row\": 5, \"col\": 0, \"value\": -0.31492252513069174, \"source\": \"ibis\"}, {\"idx\": 80, \"row\": 5, \"col\": 0, \"value\": -0.31492252513069174, \"source\": \"ibis\"}, {\"idx\": 81, \"row\": 5, \"col\": 0, \"value\": -0.31492252513069174, \"source\": \"ibis\"}, {\"idx\": 82, \"row\": 5, \"col\": 0, \"value\": -0.1542157375903938, \"source\": \"ibis\"}, {\"idx\": 83, \"row\": 5, \"col\": 0, \"value\": -0.7478450615517124, \"source\": \"ibis\"}, {\"idx\": 84, \"row\": 5, \"col\": 0, \"value\": -0.7478450615517124, \"source\": \"ibis\"}, {\"idx\": 85, \"row\": 5, \"col\": 0, \"value\": -0.43093487876935144, \"source\": \"ibis\"}, {\"idx\": 86, \"row\": 5, \"col\": 0, \"value\": -0.43093487876935144, \"source\": \"ibis\"}, {\"idx\": 87, \"row\": 5, \"col\": 0, \"value\": 0.03137675822812819, \"source\": \"ibis\"}, {\"idx\": 88, \"row\": 5, \"col\": 0, \"value\": 0.5952448479595374, \"source\": \"ibis\"}, {\"idx\": 89, \"row\": 5, \"col\": 0, \"value\": 1.1565645519506746, \"source\": \"ibis\"}, {\"idx\": 90, \"row\": 5, \"col\": 0, \"value\": -0.9104402508407404, \"source\": \"ibis\"}, {\"idx\": 91, \"row\": 5, \"col\": 0, \"value\": 0.28546729389104275, \"source\": \"ibis\"}, {\"idx\": 92, \"row\": 5, \"col\": 0, \"value\": 0.28546729389104275, \"source\": \"ibis\"}, {\"idx\": 93, \"row\": 5, \"col\": 0, \"value\": 0.9693466227097717, \"source\": \"ibis\"}, {\"idx\": 94, \"row\": 5, \"col\": 0, \"value\": 0.9693466227097717, \"source\": \"ibis\"}, {\"idx\": 95, \"row\": 5, \"col\": 0, \"value\": -0.44405194173666884, \"source\": \"ibis\"}, {\"idx\": 96, \"row\": 5, \"col\": 0, \"value\": -0.44405194173666884, \"source\": \"ibis\"}, {\"idx\": 97, \"row\": 5, \"col\": 0, \"value\": -0.44405194173666884, \"source\": \"ibis\"}, {\"idx\": 98, \"row\": 5, \"col\": 0, \"value\": -0.44405194173666884, \"source\": \"ibis\"}, {\"idx\": 99, \"row\": 5, \"col\": 0, \"value\": 0.1536492207720132, \"source\": \"ibis\"}], \"data-91f6379de9e326037cb13ef6068ce429\": [{\"corr\": -0.050371607108871806, \"idx\": 0}, {\"corr\": 0.08990666142377024, \"idx\": 1}, {\"corr\": 0.15160443100449647, \"idx\": 2}, {\"corr\": 0.0, \"idx\": 3}, {\"corr\": 0.18398818904841654, \"idx\": 4}, {\"corr\": 0.0, \"idx\": 5}, {\"corr\": 0.0, \"idx\": 6}, {\"corr\": 0.3224626226127175, \"idx\": 7}, {\"corr\": 0.0, \"idx\": 8}, {\"corr\": 0.3095129943633181, \"idx\": 9}, {\"corr\": 0.3127969018774331, \"idx\": 10}, {\"corr\": 0.0, \"idx\": 11}, {\"corr\": 0.2891543622574107, \"idx\": 12}, {\"corr\": 0.0, \"idx\": 13}, {\"corr\": 0.0, \"idx\": 14}, {\"corr\": 0.27565835052547644, \"idx\": 15}, {\"corr\": 0.0, \"idx\": 16}, {\"corr\": 0.0, \"idx\": 17}, {\"corr\": 0.3903176482005093, \"idx\": 18}, {\"corr\": 0.0, \"idx\": 19}, {\"corr\": 0.4599770300622485, \"idx\": 20}, {\"corr\": 0.0, \"idx\": 21}, {\"corr\": 0.0, \"idx\": 22}, {\"corr\": 0.39472646025767527, \"idx\": 23}, {\"corr\": 0.0, \"idx\": 24}, {\"corr\": 0.0, \"idx\": 25}, {\"corr\": 0.0, \"idx\": 26}, {\"corr\": 0.45083162742438776, \"idx\": 27}, {\"corr\": 0.0, \"idx\": 28}, {\"corr\": 0.0, \"idx\": 29}]}}, {\"mode\": \"vega-lite\"});\n",
       "</script>"
      ],
      "text/plain": [
       "alt.VConcatChart(...)"
      ]
     },
     "execution_count": 15,
     "metadata": {},
     "output_type": "execute_result"
    }
   ],
   "source": [
    "param = 'beta'\n",
    "df2 = get_post_df(particles.particles[param])\n",
    "df2['source'] = 'ibis'\n",
    "plot_density(df2)  &\\\n",
    "plot_correlations(ibis['jitter_corrs'][param], height = 150)"
   ]
  },
  {
   "cell_type": "code",
   "execution_count": null,
   "metadata": {},
   "outputs": [],
   "source": []
  },
  {
   "cell_type": "code",
   "execution_count": null,
   "metadata": {},
   "outputs": [],
   "source": [
    "param = 'alpha'\n",
    "df = get_post_df(ps[param]) \n",
    "df['source'] = 'hmc'\n",
    "df2 = get_post_df(particles.particles[param])\n",
    "df2['source'] = 'ibis'\n",
    "plot_density(pd.concat([df,df2])) "
   ]
  },
  {
   "cell_type": "code",
   "execution_count": null,
   "metadata": {},
   "outputs": [],
   "source": []
  },
  {
   "cell_type": "code",
   "execution_count": null,
   "metadata": {},
   "outputs": [],
   "source": []
  }
 ],
 "metadata": {
  "kernelspec": {
   "display_name": "Python 3",
   "language": "python",
   "name": "python3"
  },
  "language_info": {
   "codemirror_mode": {
    "name": "ipython",
    "version": 3
   },
   "file_extension": ".py",
   "mimetype": "text/x-python",
   "name": "python",
   "nbconvert_exporter": "python",
   "pygments_lexer": "ipython3",
   "version": "3.7.4"
  }
 },
 "nbformat": 4,
 "nbformat_minor": 2
}
