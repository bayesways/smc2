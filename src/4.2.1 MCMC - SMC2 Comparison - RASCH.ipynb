{
 "cells": [
  {
   "cell_type": "code",
   "execution_count": 1,
   "metadata": {},
   "outputs": [
    {
     "data": {
      "text/plain": [
       "DataTransformerRegistry.enable('default')"
      ]
     },
     "execution_count": 1,
     "metadata": {},
     "output_type": "execute_result"
    }
   ],
   "source": [
    "import pandas as pd\n",
    "import numpy as np\n",
    "from codebase.file_utils import (\n",
    "    save_obj,\n",
    "    load_obj,\n",
    ")\n",
    "from codebase.plot import plot_density, plot_histogram, plot_line, get_post_df\n",
    "from codebase.ibis import post_process_sign, exp_and_normalise\n",
    "import altair as alt\n",
    "from codebase.classes_data import Data\n",
    "from codebase.file_utils import (\n",
    "    save_obj,\n",
    "    load_obj,\n",
    "    make_folder,\n",
    "    path_backslash\n",
    ")\n",
    "from pdb import set_trace\n",
    "\n",
    "alt.data_transformers.disable_max_rows()\n"
   ]
  },
  {
   "cell_type": "code",
   "execution_count": 3,
   "metadata": {},
   "outputs": [],
   "source": [
    "log_dir1 = 'log/20210316_093129_mcmc_rasch_dense/'\n",
    "exp_data1 = load_obj( 'complete_data', log_dir1)\n",
    "ps_mcmc = load_obj('mcmc_post_samples', log_dir1)\n"
   ]
  },
  {
   "cell_type": "code",
   "execution_count": 24,
   "metadata": {},
   "outputs": [
    {
     "name": "stdout",
     "output_type": "stream",
     "text": [
      "21\n"
     ]
    }
   ],
   "source": [
    "# log_dir3 = 'log/20210302_203421_rash01/'\n",
    "# log_dir3 = 'log/20210302_211048_rash01/'\n",
    "# log_dir3 = 'log/20210303_062256_rash02/'\n",
    "# log_dir3 = 'log/20210303_102221_rash03/'\n",
    "# log_dir3 = 'log/20210305_103455_smc2_test/'\n",
    "log_dir3 = 'log/20210316_160722__fabianrun//'\n",
    "# exp_data3 = load_obj('data', log_dir3)\n",
    "t = load_obj('t', log_dir3)\n",
    "print(t)\n"
   ]
  },
  {
   "cell_type": "code",
   "execution_count": 5,
   "metadata": {
    "scrolled": true
   },
   "outputs": [
    {
     "name": "stderr",
     "output_type": "stream",
     "text": [
      "WARNING:pystan:No module named 'stanfit4anon_model_9ecc7998a7d6b69fd8a9462af6d5913b_4858613399325434955'\n",
      "WARNING:pystan:Something went wrong while unpickling the StanModel. Consider recompiling.\n",
      "WARNING:pystan:No module named 'stanfit4anon_model_8e4aef0921b4283608ba063d7ae6956c_4990214885300978793'\n",
      "WARNING:pystan:Something went wrong while unpickling the StanModel. Consider recompiling.\n"
     ]
    },
    {
     "data": {
      "text/plain": [
       "array([-8.87418665, -2.50994956, -2.93639504, -3.96941627, -3.95621475,\n",
       "       -6.25381591, -3.77388618, -4.36346147, -3.42854972, -3.30482329])"
      ]
     },
     "execution_count": 5,
     "metadata": {},
     "output_type": "execute_result"
    }
   ],
   "source": [
    "particles = load_obj('particles', log_dir3)\n",
    "ps_smc2 = dict()\n",
    "for name in particles.param_names:\n",
    "    ps_smc2[name] = particles.extract_particles_in_numpy_array(name)\n",
    "particles.weights"
   ]
  },
  {
   "cell_type": "code",
   "execution_count": 7,
   "metadata": {},
   "outputs": [
    {
     "data": {
      "text/plain": [
       "0.3833333333333333"
      ]
     },
     "execution_count": 7,
     "metadata": {},
     "output_type": "execute_result"
    }
   ],
   "source": [
    "particles.get_acceptance_rate_for_particle_m(4).mean()"
   ]
  },
  {
   "cell_type": "code",
   "execution_count": 8,
   "metadata": {},
   "outputs": [
    {
     "data": {
      "text/plain": [
       "0"
      ]
     },
     "execution_count": 8,
     "metadata": {},
     "output_type": "execute_result"
    }
   ],
   "source": [
    "particles.get_threshold_ess_indicator()[50:75].sum()"
   ]
  },
  {
   "cell_type": "code",
   "execution_count": 9,
   "metadata": {},
   "outputs": [
    {
     "data": {
      "text/plain": [
       "3"
      ]
     },
     "execution_count": 9,
     "metadata": {},
     "output_type": "execute_result"
    }
   ],
   "source": [
    "particles.get_threshold_ess_indicator()[:50].sum()"
   ]
  },
  {
   "cell_type": "code",
   "execution_count": 11,
   "metadata": {},
   "outputs": [
    {
     "data": {
      "text/plain": [
       "{0: {'beta': array([[-4.19870337e-17],\n",
       "         [-4.19870337e-17],\n",
       "         [-4.19870337e-17],\n",
       "         [-4.19870337e-17],\n",
       "         [-4.19870337e-17],\n",
       "         [-4.19870337e-17]]),\n",
       "  'alpha': array([-3.35549472e-16, -1.49829475e-16, -7.16904175e-17, -1.91522934e-16,\n",
       "                     nan,  1.65906017e-16])},\n",
       " 1: {'beta': array([[-0.62760076],\n",
       "         [-0.62760076],\n",
       "         [-0.62760076],\n",
       "         [-0.62760076],\n",
       "         [-0.62760076],\n",
       "         [-0.62760076]]),\n",
       "  'alpha': array([-0.12000265, -0.021081  ,  0.23557098, -0.24871203,  0.13187983,\n",
       "         -0.25866396])},\n",
       " 2: {'beta': array([[nan],\n",
       "         [nan],\n",
       "         [nan],\n",
       "         [nan],\n",
       "         [nan],\n",
       "         [nan]]),\n",
       "  'alpha': array([            nan,  1.15055591e-17,  4.46008216e-16, -5.27031208e-17,\n",
       "                     nan,             nan])},\n",
       " 3: {'beta': array([[nan],\n",
       "         [nan],\n",
       "         [nan],\n",
       "         [nan],\n",
       "         [nan],\n",
       "         [nan]]),\n",
       "  'alpha': array([7.87973347e-17,            nan,            nan, 0.00000000e+00,\n",
       "                    nan, 1.19030175e-16])},\n",
       " 4: {}}"
      ]
     },
     "execution_count": 11,
     "metadata": {},
     "output_type": "execute_result"
    }
   ],
   "source": [
    "load_obj('jitter_corrs', log_dir3)"
   ]
  },
  {
   "cell_type": "code",
   "execution_count": 12,
   "metadata": {},
   "outputs": [],
   "source": [
    "# particles = load_obj('particles', log_dir3)\n",
    "particles.resample_particles_bundles()\n",
    "# ps_smc2 = dict()\n",
    "# for name in particles.param_names:\n",
    "#     ps_smc2[name] = particles.extract_particles_in_numpy_array(name)\n"
   ]
  },
  {
   "cell_type": "markdown",
   "metadata": {},
   "source": [
    "##"
   ]
  },
  {
   "cell_type": "markdown",
   "metadata": {},
   "source": [
    "## Or load existing directory"
   ]
  },
  {
   "cell_type": "code",
   "execution_count": 13,
   "metadata": {},
   "outputs": [],
   "source": [
    "ps_mcmc = post_process_sign(ps_mcmc)\n",
    "ps_smc2 = post_process_sign(ps_smc2)\n"
   ]
  },
  {
   "cell_type": "markdown",
   "metadata": {},
   "source": [
    "## Plot MCMC samples"
   ]
  },
  {
   "cell_type": "code",
   "execution_count": 14,
   "metadata": {},
   "outputs": [
    {
     "name": "stderr",
     "output_type": "stream",
     "text": [
      "INFO:numexpr.utils:NumExpr defaulting to 8 threads.\n"
     ]
    },
    {
     "data": {
      "text/html": [
       "\n",
       "<div id=\"altair-viz-22b5efae803d4c479ba3466da55c2a20\"></div>\n",
       "<script type=\"text/javascript\">\n",
       "  (function(spec, embedOpt){\n",
       "    let outputDiv = document.currentScript.previousElementSibling;\n",
       "    if (outputDiv.id !== \"altair-viz-22b5efae803d4c479ba3466da55c2a20\") {\n",
       "      outputDiv = document.getElementById(\"altair-viz-22b5efae803d4c479ba3466da55c2a20\");\n",
       "    }\n",
       "    const paths = {\n",
       "      \"vega\": \"https://cdn.jsdelivr.net/npm//vega@5?noext\",\n",
       "      \"vega-lib\": \"https://cdn.jsdelivr.net/npm//vega-lib?noext\",\n",
       "      \"vega-lite\": \"https://cdn.jsdelivr.net/npm//vega-lite@4.8.1?noext\",\n",
       "      \"vega-embed\": \"https://cdn.jsdelivr.net/npm//vega-embed@6?noext\",\n",
       "    };\n",
       "\n",
       "    function loadScript(lib) {\n",
       "      return new Promise(function(resolve, reject) {\n",
       "        var s = document.createElement('script');\n",
       "        s.src = paths[lib];\n",
       "        s.async = true;\n",
       "        s.onload = () => resolve(paths[lib]);\n",
       "        s.onerror = () => reject(`Error loading script: ${paths[lib]}`);\n",
       "        document.getElementsByTagName(\"head\")[0].appendChild(s);\n",
       "      });\n",
       "    }\n",
       "\n",
       "    function showError(err) {\n",
       "      outputDiv.innerHTML = `<div class=\"error\" style=\"color:red;\">${err}</div>`;\n",
       "      throw err;\n",
       "    }\n",
       "\n",
       "    function displayChart(vegaEmbed) {\n",
       "      vegaEmbed(outputDiv, spec, embedOpt)\n",
       "        .catch(err => showError(`Javascript Error: ${err.message}<br>This usually means there's a typo in your chart specification. See the javascript console for the full traceback.`));\n",
       "    }\n",
       "\n",
       "    if(typeof define === \"function\" && define.amd) {\n",
       "      requirejs.config({paths});\n",
       "      require([\"vega-embed\"], displayChart, err => showError(`Error loading script: ${err.message}`));\n",
       "    } else if (typeof vegaEmbed === \"function\") {\n",
       "      displayChart(vegaEmbed);\n",
       "    } else {\n",
       "      loadScript(\"vega\")\n",
       "        .then(() => loadScript(\"vega-lite\"))\n",
       "        .then(() => loadScript(\"vega-embed\"))\n",
       "        .catch(showError)\n",
       "        .then(() => displayChart(vegaEmbed));\n",
       "    }\n",
       "  })({\"config\": {\"view\": {\"continuousWidth\": 400, \"continuousHeight\": 300}}, \"data\": {\"name\": \"data-a6025954f70f4beb455edd04e2d36a0e\"}, \"mark\": {\"type\": \"area\", \"opacity\": 0.5}, \"encoding\": {\"color\": {\"type\": \"nominal\", \"field\": \"source\"}, \"column\": {\"type\": \"quantitative\", \"field\": \"col\"}, \"row\": {\"type\": \"quantitative\", \"field\": \"row\"}, \"x\": {\"type\": \"quantitative\", \"field\": \"value\", \"title\": null}, \"y\": {\"type\": \"quantitative\", \"field\": \"density\"}}, \"height\": 100, \"resolve\": {\"scale\": {\"x\": \"independent\"}}, \"transform\": [{\"fold\": [\"value\"]}, {\"density\": \"value\", \"groupby\": [\"cn\", \"row\", \"col\", \"source\"]}], \"width\": 300, \"$schema\": \"https://vega.github.io/schema/vega-lite/v4.8.1.json\", \"datasets\": {\"data-a6025954f70f4beb455edd04e2d36a0e\": [{\"idx\": 0, \"row\": 0, \"col\": 0, \"value\": 0.2002723578663589, \"source\": \"mcmc\"}, {\"idx\": 1, \"row\": 0, \"col\": 0, \"value\": 0.32489170975806075, \"source\": \"mcmc\"}, {\"idx\": 2, \"row\": 0, \"col\": 0, \"value\": 0.3114020635048869, \"source\": \"mcmc\"}, {\"idx\": 3, \"row\": 0, \"col\": 0, \"value\": 0.32310434972184415, \"source\": \"mcmc\"}, {\"idx\": 4, \"row\": 0, \"col\": 0, \"value\": 0.5273715781969158, \"source\": \"mcmc\"}, {\"idx\": 5, \"row\": 0, \"col\": 0, \"value\": 0.39395859717993076, \"source\": \"mcmc\"}, {\"idx\": 6, \"row\": 0, \"col\": 0, \"value\": 0.33748375568642486, \"source\": \"mcmc\"}, {\"idx\": 7, \"row\": 0, \"col\": 0, \"value\": 0.1878803767573359, \"source\": \"mcmc\"}, {\"idx\": 8, \"row\": 0, \"col\": 0, \"value\": 0.1632505451999853, \"source\": \"mcmc\"}, {\"idx\": 9, \"row\": 0, \"col\": 0, \"value\": 0.7500551620730946, \"source\": \"mcmc\"}, {\"idx\": 10, \"row\": 0, \"col\": 0, \"value\": 0.4485957623687609, \"source\": \"mcmc\"}, {\"idx\": 11, \"row\": 0, \"col\": 0, \"value\": 1.2384420259584783, \"source\": \"mcmc\"}, {\"idx\": 12, \"row\": 0, \"col\": 0, \"value\": 0.7386969927643865, \"source\": \"mcmc\"}, {\"idx\": 13, \"row\": 0, \"col\": 0, \"value\": 0.41382878294105147, \"source\": \"mcmc\"}, {\"idx\": 14, \"row\": 0, \"col\": 0, \"value\": 0.5321934776464866, \"source\": \"mcmc\"}, {\"idx\": 15, \"row\": 0, \"col\": 0, \"value\": 0.6013181436469203, \"source\": \"mcmc\"}, {\"idx\": 16, \"row\": 0, \"col\": 0, \"value\": 0.4368764045660917, \"source\": \"mcmc\"}, {\"idx\": 17, \"row\": 0, \"col\": 0, \"value\": 0.605695156314233, \"source\": \"mcmc\"}, {\"idx\": 18, \"row\": 0, \"col\": 0, \"value\": 0.6938041755589714, \"source\": \"mcmc\"}, {\"idx\": 19, \"row\": 0, \"col\": 0, \"value\": 0.7677022371659634, \"source\": \"mcmc\"}, {\"idx\": 20, \"row\": 0, \"col\": 0, \"value\": 0.39091531841198096, \"source\": \"mcmc\"}, {\"idx\": 21, \"row\": 0, \"col\": 0, \"value\": 0.5381236373239295, \"source\": \"mcmc\"}, {\"idx\": 22, \"row\": 0, \"col\": 0, \"value\": 0.11010046499613545, \"source\": \"mcmc\"}, {\"idx\": 23, \"row\": 0, \"col\": 0, \"value\": 0.027561394323102773, \"source\": \"mcmc\"}, {\"idx\": 24, \"row\": 0, \"col\": 0, \"value\": 0.05764834122286877, \"source\": \"mcmc\"}, {\"idx\": 25, \"row\": 0, \"col\": 0, \"value\": 0.22013578976154927, \"source\": \"mcmc\"}, {\"idx\": 26, \"row\": 0, \"col\": 0, \"value\": 0.3869513542040264, \"source\": \"mcmc\"}, {\"idx\": 27, \"row\": 0, \"col\": 0, \"value\": 0.662368225479687, \"source\": \"mcmc\"}, {\"idx\": 28, \"row\": 0, \"col\": 0, \"value\": 0.6558328260904853, \"source\": \"mcmc\"}, {\"idx\": 29, \"row\": 0, \"col\": 0, \"value\": 0.6382386204474325, \"source\": \"mcmc\"}, {\"idx\": 30, \"row\": 0, \"col\": 0, \"value\": 0.6297040512557334, \"source\": \"mcmc\"}, {\"idx\": 31, \"row\": 0, \"col\": 0, \"value\": 0.3535982338521266, \"source\": \"mcmc\"}, {\"idx\": 32, \"row\": 0, \"col\": 0, \"value\": 0.10046598478150703, \"source\": \"mcmc\"}, {\"idx\": 33, \"row\": 0, \"col\": 0, \"value\": 0.05749019733832201, \"source\": \"mcmc\"}, {\"idx\": 34, \"row\": 0, \"col\": 0, \"value\": 0.2947101718363153, \"source\": \"mcmc\"}, {\"idx\": 35, \"row\": 0, \"col\": 0, \"value\": 0.0258991143588721, \"source\": \"mcmc\"}, {\"idx\": 36, \"row\": 0, \"col\": 0, \"value\": 0.003322134451324156, \"source\": \"mcmc\"}, {\"idx\": 37, \"row\": 0, \"col\": 0, \"value\": 0.11023352489155325, \"source\": \"mcmc\"}, {\"idx\": 38, \"row\": 0, \"col\": 0, \"value\": 0.1035952841231442, \"source\": \"mcmc\"}, {\"idx\": 39, \"row\": 0, \"col\": 0, \"value\": 0.11913765873581524, \"source\": \"mcmc\"}, {\"idx\": 40, \"row\": 0, \"col\": 0, \"value\": 0.7899108401655031, \"source\": \"mcmc\"}, {\"idx\": 41, \"row\": 0, \"col\": 0, \"value\": 0.3162472049165164, \"source\": \"mcmc\"}, {\"idx\": 42, \"row\": 0, \"col\": 0, \"value\": 0.24815895637462032, \"source\": \"mcmc\"}, {\"idx\": 43, \"row\": 0, \"col\": 0, \"value\": 0.34579571561387423, \"source\": \"mcmc\"}, {\"idx\": 44, \"row\": 0, \"col\": 0, \"value\": 0.458951380115751, \"source\": \"mcmc\"}, {\"idx\": 45, \"row\": 0, \"col\": 0, \"value\": 0.3141362483519806, \"source\": \"mcmc\"}, {\"idx\": 46, \"row\": 0, \"col\": 0, \"value\": 0.3157486140558733, \"source\": \"mcmc\"}, {\"idx\": 47, \"row\": 0, \"col\": 0, \"value\": 0.24311217715651212, \"source\": \"mcmc\"}, {\"idx\": 48, \"row\": 0, \"col\": 0, \"value\": 0.3839893999723717, \"source\": \"mcmc\"}, {\"idx\": 49, \"row\": 0, \"col\": 0, \"value\": 0.32904015526871255, \"source\": \"mcmc\"}, {\"idx\": 50, \"row\": 0, \"col\": 0, \"value\": 0.18847383433462037, \"source\": \"mcmc\"}, {\"idx\": 51, \"row\": 0, \"col\": 0, \"value\": 0.11720415689188696, \"source\": \"mcmc\"}, {\"idx\": 52, \"row\": 0, \"col\": 0, \"value\": 0.34282519428370745, \"source\": \"mcmc\"}, {\"idx\": 53, \"row\": 0, \"col\": 0, \"value\": 0.49174904943673026, \"source\": \"mcmc\"}, {\"idx\": 54, \"row\": 0, \"col\": 0, \"value\": 0.6075791110711428, \"source\": \"mcmc\"}, {\"idx\": 55, \"row\": 0, \"col\": 0, \"value\": 0.7392966634280942, \"source\": \"mcmc\"}, {\"idx\": 56, \"row\": 0, \"col\": 0, \"value\": 1.0335158022354929, \"source\": \"mcmc\"}, {\"idx\": 57, \"row\": 0, \"col\": 0, \"value\": 0.7737370791691545, \"source\": \"mcmc\"}, {\"idx\": 58, \"row\": 0, \"col\": 0, \"value\": 0.6306888868172495, \"source\": \"mcmc\"}, {\"idx\": 59, \"row\": 0, \"col\": 0, \"value\": 0.985972528514077, \"source\": \"mcmc\"}, {\"idx\": 60, \"row\": 0, \"col\": 0, \"value\": 0.5426741538358899, \"source\": \"mcmc\"}, {\"idx\": 61, \"row\": 0, \"col\": 0, \"value\": 0.39499238244275214, \"source\": \"mcmc\"}, {\"idx\": 62, \"row\": 0, \"col\": 0, \"value\": 0.03349866301863924, \"source\": \"mcmc\"}, {\"idx\": 63, \"row\": 0, \"col\": 0, \"value\": 0.297824422441523, \"source\": \"mcmc\"}, {\"idx\": 64, \"row\": 0, \"col\": 0, \"value\": 0.24968783673814965, \"source\": \"mcmc\"}, {\"idx\": 65, \"row\": 0, \"col\": 0, \"value\": 0.18186799466682804, \"source\": \"mcmc\"}, {\"idx\": 66, \"row\": 0, \"col\": 0, \"value\": 0.23323761657699943, \"source\": \"mcmc\"}, {\"idx\": 67, \"row\": 0, \"col\": 0, \"value\": 0.46928734631395286, \"source\": \"mcmc\"}, {\"idx\": 68, \"row\": 0, \"col\": 0, \"value\": 0.10470490080051642, \"source\": \"mcmc\"}, {\"idx\": 69, \"row\": 0, \"col\": 0, \"value\": 0.5594400605412325, \"source\": \"mcmc\"}, {\"idx\": 70, \"row\": 0, \"col\": 0, \"value\": 0.6349882302272486, \"source\": \"mcmc\"}, {\"idx\": 71, \"row\": 0, \"col\": 0, \"value\": 0.566414816901032, \"source\": \"mcmc\"}, {\"idx\": 72, \"row\": 0, \"col\": 0, \"value\": 0.6333965886821324, \"source\": \"mcmc\"}, {\"idx\": 73, \"row\": 0, \"col\": 0, \"value\": 0.5782095217375643, \"source\": \"mcmc\"}, {\"idx\": 74, \"row\": 0, \"col\": 0, \"value\": 0.8487505568514622, \"source\": \"mcmc\"}, {\"idx\": 75, \"row\": 0, \"col\": 0, \"value\": 0.8743589422565763, \"source\": \"mcmc\"}, {\"idx\": 76, \"row\": 0, \"col\": 0, \"value\": 0.4398200673286708, \"source\": \"mcmc\"}, {\"idx\": 77, \"row\": 0, \"col\": 0, \"value\": 0.9708082469646717, \"source\": \"mcmc\"}, {\"idx\": 78, \"row\": 0, \"col\": 0, \"value\": 0.7357844178138018, \"source\": \"mcmc\"}, {\"idx\": 79, \"row\": 0, \"col\": 0, \"value\": 0.08361564459914651, \"source\": \"mcmc\"}, {\"idx\": 80, \"row\": 0, \"col\": 0, \"value\": 0.3341461037590585, \"source\": \"mcmc\"}, {\"idx\": 81, \"row\": 0, \"col\": 0, \"value\": 0.1508181692299681, \"source\": \"mcmc\"}, {\"idx\": 82, \"row\": 0, \"col\": 0, \"value\": 0.3251910619498903, \"source\": \"mcmc\"}, {\"idx\": 83, \"row\": 0, \"col\": 0, \"value\": 0.3120799166547105, \"source\": \"mcmc\"}, {\"idx\": 84, \"row\": 0, \"col\": 0, \"value\": 0.5179671248356637, \"source\": \"mcmc\"}, {\"idx\": 85, \"row\": 0, \"col\": 0, \"value\": 0.4480826899377252, \"source\": \"mcmc\"}, {\"idx\": 86, \"row\": 0, \"col\": 0, \"value\": 0.6761937824369266, \"source\": \"mcmc\"}, {\"idx\": 87, \"row\": 0, \"col\": 0, \"value\": 0.2100309619741062, \"source\": \"mcmc\"}, {\"idx\": 88, \"row\": 0, \"col\": 0, \"value\": 0.31261382574567087, \"source\": \"mcmc\"}, {\"idx\": 89, \"row\": 0, \"col\": 0, \"value\": 0.3350721685813243, \"source\": \"mcmc\"}, {\"idx\": 90, \"row\": 0, \"col\": 0, \"value\": 0.771733334511277, \"source\": \"mcmc\"}, {\"idx\": 91, \"row\": 0, \"col\": 0, \"value\": 0.7929779888304905, \"source\": \"mcmc\"}, {\"idx\": 92, \"row\": 0, \"col\": 0, \"value\": 0.5057814287724044, \"source\": \"mcmc\"}, {\"idx\": 93, \"row\": 0, \"col\": 0, \"value\": 0.6351364409188133, \"source\": \"mcmc\"}, {\"idx\": 94, \"row\": 0, \"col\": 0, \"value\": 0.9504553792329179, \"source\": \"mcmc\"}, {\"idx\": 95, \"row\": 0, \"col\": 0, \"value\": 1.3296395479608893, \"source\": \"mcmc\"}, {\"idx\": 96, \"row\": 0, \"col\": 0, \"value\": 0.8516135587803796, \"source\": \"mcmc\"}, {\"idx\": 97, \"row\": 0, \"col\": 0, \"value\": 0.9047878912771136, \"source\": \"mcmc\"}, {\"idx\": 98, \"row\": 0, \"col\": 0, \"value\": 0.657115955642182, \"source\": \"mcmc\"}, {\"idx\": 99, \"row\": 0, \"col\": 0, \"value\": 0.9183860459514277, \"source\": \"mcmc\"}, {\"idx\": 0, \"row\": 0, \"col\": 0, \"value\": 3.5174238312542183, \"source\": \"smc2\"}, {\"idx\": 1, \"row\": 0, \"col\": 0, \"value\": 2.5002314738953952, \"source\": \"smc2\"}, {\"idx\": 2, \"row\": 0, \"col\": 0, \"value\": 0.5127702756686917, \"source\": \"smc2\"}, {\"idx\": 3, \"row\": 0, \"col\": 0, \"value\": 2.6242201128126044, \"source\": \"smc2\"}, {\"idx\": 4, \"row\": 0, \"col\": 0, \"value\": 0.20877374416871355, \"source\": \"smc2\"}, {\"idx\": 5, \"row\": 0, \"col\": 0, \"value\": 2.0849120324237456, \"source\": \"smc2\"}, {\"idx\": 6, \"row\": 0, \"col\": 0, \"value\": 0.8106827986647226, \"source\": \"smc2\"}, {\"idx\": 7, \"row\": 0, \"col\": 0, \"value\": 1.3498934332424224, \"source\": \"smc2\"}, {\"idx\": 8, \"row\": 0, \"col\": 0, \"value\": 3.083739782351337, \"source\": \"smc2\"}, {\"idx\": 9, \"row\": 0, \"col\": 0, \"value\": 1.7743530558009177, \"source\": \"smc2\"}]}}, {\"mode\": \"vega-lite\"});\n",
       "</script>"
      ],
      "text/plain": [
       "alt.Chart(...)"
      ]
     },
     "execution_count": 14,
     "metadata": {},
     "output_type": "execute_result"
    }
   ],
   "source": [
    "param = 'beta'\n",
    "df = get_post_df(ps_mcmc[param]) \n",
    "df = df[df.row==0]\n",
    "df['source'] = 'mcmc'\n",
    "\n",
    "\n",
    "df3 = get_post_df(ps_smc2[param]) \n",
    "df3 = df3[df3.row==0]\n",
    "df3['source'] = 'smc2'\n",
    "\n",
    "plot_density(pd.concat([df, df3]), height=100) "
   ]
  },
  {
   "cell_type": "code",
   "execution_count": 15,
   "metadata": {},
   "outputs": [
    {
     "data": {
      "text/html": [
       "\n",
       "<div id=\"altair-viz-8725ccdbea6a48278c952e81f278f628\"></div>\n",
       "<script type=\"text/javascript\">\n",
       "  (function(spec, embedOpt){\n",
       "    let outputDiv = document.currentScript.previousElementSibling;\n",
       "    if (outputDiv.id !== \"altair-viz-8725ccdbea6a48278c952e81f278f628\") {\n",
       "      outputDiv = document.getElementById(\"altair-viz-8725ccdbea6a48278c952e81f278f628\");\n",
       "    }\n",
       "    const paths = {\n",
       "      \"vega\": \"https://cdn.jsdelivr.net/npm//vega@5?noext\",\n",
       "      \"vega-lib\": \"https://cdn.jsdelivr.net/npm//vega-lib?noext\",\n",
       "      \"vega-lite\": \"https://cdn.jsdelivr.net/npm//vega-lite@4.8.1?noext\",\n",
       "      \"vega-embed\": \"https://cdn.jsdelivr.net/npm//vega-embed@6?noext\",\n",
       "    };\n",
       "\n",
       "    function loadScript(lib) {\n",
       "      return new Promise(function(resolve, reject) {\n",
       "        var s = document.createElement('script');\n",
       "        s.src = paths[lib];\n",
       "        s.async = true;\n",
       "        s.onload = () => resolve(paths[lib]);\n",
       "        s.onerror = () => reject(`Error loading script: ${paths[lib]}`);\n",
       "        document.getElementsByTagName(\"head\")[0].appendChild(s);\n",
       "      });\n",
       "    }\n",
       "\n",
       "    function showError(err) {\n",
       "      outputDiv.innerHTML = `<div class=\"error\" style=\"color:red;\">${err}</div>`;\n",
       "      throw err;\n",
       "    }\n",
       "\n",
       "    function displayChart(vegaEmbed) {\n",
       "      vegaEmbed(outputDiv, spec, embedOpt)\n",
       "        .catch(err => showError(`Javascript Error: ${err.message}<br>This usually means there's a typo in your chart specification. See the javascript console for the full traceback.`));\n",
       "    }\n",
       "\n",
       "    if(typeof define === \"function\" && define.amd) {\n",
       "      requirejs.config({paths});\n",
       "      require([\"vega-embed\"], displayChart, err => showError(`Error loading script: ${err.message}`));\n",
       "    } else if (typeof vegaEmbed === \"function\") {\n",
       "      displayChart(vegaEmbed);\n",
       "    } else {\n",
       "      loadScript(\"vega\")\n",
       "        .then(() => loadScript(\"vega-lite\"))\n",
       "        .then(() => loadScript(\"vega-embed\"))\n",
       "        .catch(showError)\n",
       "        .then(() => displayChart(vegaEmbed));\n",
       "    }\n",
       "  })({\"config\": {\"view\": {\"continuousWidth\": 400, \"continuousHeight\": 300}}, \"data\": {\"name\": \"data-a18625556cd2b5d95a931ea22ec66d3f\"}, \"mark\": {\"type\": \"area\", \"opacity\": 0.5}, \"encoding\": {\"color\": {\"type\": \"nominal\", \"field\": \"source\"}, \"column\": {\"type\": \"quantitative\", \"field\": \"col\"}, \"row\": {\"type\": \"quantitative\", \"field\": \"row\"}, \"x\": {\"type\": \"quantitative\", \"field\": \"value\", \"title\": null}, \"y\": {\"type\": \"quantitative\", \"field\": \"density\"}}, \"height\": 100, \"resolve\": {\"scale\": {\"x\": \"independent\"}}, \"transform\": [{\"fold\": [\"value\"]}, {\"density\": \"value\", \"groupby\": [\"cn\", \"row\", \"col\", \"source\"]}], \"width\": 300, \"$schema\": \"https://vega.github.io/schema/vega-lite/v4.8.1.json\", \"datasets\": {\"data-a18625556cd2b5d95a931ea22ec66d3f\": [{\"idx\": 0, \"row\": 0, \"col\": 0, \"value\": -0.24169445740611298, \"source\": \"mcmc\"}, {\"idx\": 1, \"row\": 0, \"col\": 0, \"value\": -0.23973399304571968, \"source\": \"mcmc\"}, {\"idx\": 2, \"row\": 0, \"col\": 0, \"value\": -0.3965342779372778, \"source\": \"mcmc\"}, {\"idx\": 3, \"row\": 0, \"col\": 0, \"value\": -0.125525983521896, \"source\": \"mcmc\"}, {\"idx\": 4, \"row\": 0, \"col\": 0, \"value\": -0.8761273938442172, \"source\": \"mcmc\"}, {\"idx\": 5, \"row\": 0, \"col\": 0, \"value\": -0.36180637073949273, \"source\": \"mcmc\"}, {\"idx\": 6, \"row\": 0, \"col\": 0, \"value\": -0.8145848369797801, \"source\": \"mcmc\"}, {\"idx\": 7, \"row\": 0, \"col\": 0, \"value\": -0.5413760068449266, \"source\": \"mcmc\"}, {\"idx\": 8, \"row\": 0, \"col\": 0, \"value\": -0.4534966477267929, \"source\": \"mcmc\"}, {\"idx\": 9, \"row\": 0, \"col\": 0, \"value\": -0.11943064462729924, \"source\": \"mcmc\"}, {\"idx\": 10, \"row\": 0, \"col\": 0, \"value\": -0.4844957127934443, \"source\": \"mcmc\"}, {\"idx\": 11, \"row\": 0, \"col\": 0, \"value\": -0.4437192078490843, \"source\": \"mcmc\"}, {\"idx\": 12, \"row\": 0, \"col\": 0, \"value\": -0.23318563693997443, \"source\": \"mcmc\"}, {\"idx\": 13, \"row\": 0, \"col\": 0, \"value\": -0.1850330657784672, \"source\": \"mcmc\"}, {\"idx\": 14, \"row\": 0, \"col\": 0, \"value\": -0.40960921554364554, \"source\": \"mcmc\"}, {\"idx\": 15, \"row\": 0, \"col\": 0, \"value\": -0.7348767465422266, \"source\": \"mcmc\"}, {\"idx\": 16, \"row\": 0, \"col\": 0, \"value\": -0.801968732659089, \"source\": \"mcmc\"}, {\"idx\": 17, \"row\": 0, \"col\": 0, \"value\": -0.7206627929309812, \"source\": \"mcmc\"}, {\"idx\": 18, \"row\": 0, \"col\": 0, \"value\": -0.41816293770409674, \"source\": \"mcmc\"}, {\"idx\": 19, \"row\": 0, \"col\": 0, \"value\": -0.7157870068692577, \"source\": \"mcmc\"}, {\"idx\": 20, \"row\": 0, \"col\": 0, \"value\": -0.7630850994100895, \"source\": \"mcmc\"}, {\"idx\": 21, \"row\": 0, \"col\": 0, \"value\": -0.48079736632827047, \"source\": \"mcmc\"}, {\"idx\": 22, \"row\": 0, \"col\": 0, \"value\": -1.349875646286317, \"source\": \"mcmc\"}, {\"idx\": 23, \"row\": 0, \"col\": 0, \"value\": -0.12062680813280742, \"source\": \"mcmc\"}, {\"idx\": 24, \"row\": 0, \"col\": 0, \"value\": -0.4371216465888624, \"source\": \"mcmc\"}, {\"idx\": 25, \"row\": 0, \"col\": 0, \"value\": -0.18297119468493162, \"source\": \"mcmc\"}, {\"idx\": 26, \"row\": 0, \"col\": 0, \"value\": -0.500205250024667, \"source\": \"mcmc\"}, {\"idx\": 27, \"row\": 0, \"col\": 0, \"value\": -0.8747533690696497, \"source\": \"mcmc\"}, {\"idx\": 28, \"row\": 0, \"col\": 0, \"value\": -0.2525545073261388, \"source\": \"mcmc\"}, {\"idx\": 29, \"row\": 0, \"col\": 0, \"value\": -0.4335756860234473, \"source\": \"mcmc\"}, {\"idx\": 30, \"row\": 0, \"col\": 0, \"value\": -0.5294714671416967, \"source\": \"mcmc\"}, {\"idx\": 31, \"row\": 0, \"col\": 0, \"value\": -0.6123276348024972, \"source\": \"mcmc\"}, {\"idx\": 32, \"row\": 0, \"col\": 0, \"value\": -0.5069284104114411, \"source\": \"mcmc\"}, {\"idx\": 33, \"row\": 0, \"col\": 0, \"value\": -1.0899348066455627, \"source\": \"mcmc\"}, {\"idx\": 34, \"row\": 0, \"col\": 0, \"value\": -0.38281192828670824, \"source\": \"mcmc\"}, {\"idx\": 35, \"row\": 0, \"col\": 0, \"value\": -0.3629240444294359, \"source\": \"mcmc\"}, {\"idx\": 36, \"row\": 0, \"col\": 0, \"value\": -0.8788801206678137, \"source\": \"mcmc\"}, {\"idx\": 37, \"row\": 0, \"col\": 0, \"value\": -0.29147616113519853, \"source\": \"mcmc\"}, {\"idx\": 38, \"row\": 0, \"col\": 0, \"value\": -0.34823739123771713, \"source\": \"mcmc\"}, {\"idx\": 39, \"row\": 0, \"col\": 0, \"value\": -0.40148619022273635, \"source\": \"mcmc\"}, {\"idx\": 40, \"row\": 0, \"col\": 0, \"value\": -1.1263278511111048, \"source\": \"mcmc\"}, {\"idx\": 41, \"row\": 0, \"col\": 0, \"value\": -0.6554744597125948, \"source\": \"mcmc\"}, {\"idx\": 42, \"row\": 0, \"col\": 0, \"value\": -0.4984513598869682, \"source\": \"mcmc\"}, {\"idx\": 43, \"row\": 0, \"col\": 0, \"value\": -0.5391533681518405, \"source\": \"mcmc\"}, {\"idx\": 44, \"row\": 0, \"col\": 0, \"value\": -0.2003783897816784, \"source\": \"mcmc\"}, {\"idx\": 45, \"row\": 0, \"col\": 0, \"value\": 0.0041483774967216, \"source\": \"mcmc\"}, {\"idx\": 46, \"row\": 0, \"col\": 0, \"value\": -0.18545161824206946, \"source\": \"mcmc\"}, {\"idx\": 47, \"row\": 0, \"col\": 0, \"value\": -0.5645075615662698, \"source\": \"mcmc\"}, {\"idx\": 48, \"row\": 0, \"col\": 0, \"value\": -1.0577357260923355, \"source\": \"mcmc\"}, {\"idx\": 49, \"row\": 0, \"col\": 0, \"value\": -0.6974523118098994, \"source\": \"mcmc\"}, {\"idx\": 50, \"row\": 0, \"col\": 0, \"value\": -0.22062459274723284, \"source\": \"mcmc\"}, {\"idx\": 51, \"row\": 0, \"col\": 0, \"value\": -0.4056259869843164, \"source\": \"mcmc\"}, {\"idx\": 52, \"row\": 0, \"col\": 0, \"value\": -0.3096645849731315, \"source\": \"mcmc\"}, {\"idx\": 53, \"row\": 0, \"col\": 0, \"value\": -0.6469290731180585, \"source\": \"mcmc\"}, {\"idx\": 54, \"row\": 0, \"col\": 0, \"value\": -0.6039068865108164, \"source\": \"mcmc\"}, {\"idx\": 55, \"row\": 0, \"col\": 0, \"value\": -0.5941797428208768, \"source\": \"mcmc\"}, {\"idx\": 56, \"row\": 0, \"col\": 0, \"value\": -0.6950740561692327, \"source\": \"mcmc\"}, {\"idx\": 57, \"row\": 0, \"col\": 0, \"value\": -0.7086587295174175, \"source\": \"mcmc\"}, {\"idx\": 58, \"row\": 0, \"col\": 0, \"value\": -0.7832763775398619, \"source\": \"mcmc\"}, {\"idx\": 59, \"row\": 0, \"col\": 0, \"value\": -1.0953269068403366, \"source\": \"mcmc\"}, {\"idx\": 60, \"row\": 0, \"col\": 0, \"value\": -1.0482374348280084, \"source\": \"mcmc\"}, {\"idx\": 61, \"row\": 0, \"col\": 0, \"value\": -0.4182838495246083, \"source\": \"mcmc\"}, {\"idx\": 62, \"row\": 0, \"col\": 0, \"value\": -0.777883949798071, \"source\": \"mcmc\"}, {\"idx\": 63, \"row\": 0, \"col\": 0, \"value\": -0.6770031705473728, \"source\": \"mcmc\"}, {\"idx\": 64, \"row\": 0, \"col\": 0, \"value\": -0.6614143191136511, \"source\": \"mcmc\"}, {\"idx\": 65, \"row\": 0, \"col\": 0, \"value\": -0.8648970648023765, \"source\": \"mcmc\"}, {\"idx\": 66, \"row\": 0, \"col\": 0, \"value\": -0.6386266527298229, \"source\": \"mcmc\"}, {\"idx\": 67, \"row\": 0, \"col\": 0, \"value\": -0.5529563289828229, \"source\": \"mcmc\"}, {\"idx\": 68, \"row\": 0, \"col\": 0, \"value\": -0.6149299177872413, \"source\": \"mcmc\"}, {\"idx\": 69, \"row\": 0, \"col\": 0, \"value\": -0.307662777085726, \"source\": \"mcmc\"}, {\"idx\": 70, \"row\": 0, \"col\": 0, \"value\": -0.7212518471052154, \"source\": \"mcmc\"}, {\"idx\": 71, \"row\": 0, \"col\": 0, \"value\": -0.5336851876306963, \"source\": \"mcmc\"}, {\"idx\": 72, \"row\": 0, \"col\": 0, \"value\": -0.6269352462001501, \"source\": \"mcmc\"}, {\"idx\": 73, \"row\": 0, \"col\": 0, \"value\": -0.3150070432722173, \"source\": \"mcmc\"}, {\"idx\": 74, \"row\": 0, \"col\": 0, \"value\": -0.7962437589926616, \"source\": \"mcmc\"}, {\"idx\": 75, \"row\": 0, \"col\": 0, \"value\": -0.4617301410997632, \"source\": \"mcmc\"}, {\"idx\": 76, \"row\": 0, \"col\": 0, \"value\": -0.04065739614554695, \"source\": \"mcmc\"}, {\"idx\": 77, \"row\": 0, \"col\": 0, \"value\": -0.3784576695922992, \"source\": \"mcmc\"}, {\"idx\": 78, \"row\": 0, \"col\": 0, \"value\": -0.3308996044058914, \"source\": \"mcmc\"}, {\"idx\": 79, \"row\": 0, \"col\": 0, \"value\": -0.6153177073138738, \"source\": \"mcmc\"}, {\"idx\": 80, \"row\": 0, \"col\": 0, \"value\": -0.26038228519200085, \"source\": \"mcmc\"}, {\"idx\": 81, \"row\": 0, \"col\": 0, \"value\": -0.728756913894274, \"source\": \"mcmc\"}, {\"idx\": 82, \"row\": 0, \"col\": 0, \"value\": -0.1390004518665287, \"source\": \"mcmc\"}, {\"idx\": 83, \"row\": 0, \"col\": 0, \"value\": -0.7050071061775358, \"source\": \"mcmc\"}, {\"idx\": 84, \"row\": 0, \"col\": 0, \"value\": -0.4485785956243859, \"source\": \"mcmc\"}, {\"idx\": 85, \"row\": 0, \"col\": 0, \"value\": -0.562075254680321, \"source\": \"mcmc\"}, {\"idx\": 86, \"row\": 0, \"col\": 0, \"value\": -0.5044203319227017, \"source\": \"mcmc\"}, {\"idx\": 87, \"row\": 0, \"col\": 0, \"value\": -0.7455821932254992, \"source\": \"mcmc\"}, {\"idx\": 88, \"row\": 0, \"col\": 0, \"value\": -0.8101512508772096, \"source\": \"mcmc\"}, {\"idx\": 89, \"row\": 0, \"col\": 0, \"value\": -0.3545082538757361, \"source\": \"mcmc\"}, {\"idx\": 90, \"row\": 0, \"col\": 0, \"value\": -0.6847012790525155, \"source\": \"mcmc\"}, {\"idx\": 91, \"row\": 0, \"col\": 0, \"value\": -0.37917573587106684, \"source\": \"mcmc\"}, {\"idx\": 92, \"row\": 0, \"col\": 0, \"value\": -0.7635661195116578, \"source\": \"mcmc\"}, {\"idx\": 93, \"row\": 0, \"col\": 0, \"value\": -0.1552318555316926, \"source\": \"mcmc\"}, {\"idx\": 94, \"row\": 0, \"col\": 0, \"value\": -0.6658006760099267, \"source\": \"mcmc\"}, {\"idx\": 95, \"row\": 0, \"col\": 0, \"value\": -0.7654650762636591, \"source\": \"mcmc\"}, {\"idx\": 96, \"row\": 0, \"col\": 0, \"value\": -0.13142215562922469, \"source\": \"mcmc\"}, {\"idx\": 97, \"row\": 0, \"col\": 0, \"value\": -0.38645842367927913, \"source\": \"mcmc\"}, {\"idx\": 98, \"row\": 0, \"col\": 0, \"value\": -0.08597500319394877, \"source\": \"mcmc\"}, {\"idx\": 99, \"row\": 0, \"col\": 0, \"value\": -0.4536242050584065, \"source\": \"mcmc\"}, {\"idx\": 0, \"row\": 0, \"col\": 1, \"value\": 0.34093464409311763, \"source\": \"mcmc\"}, {\"idx\": 1, \"row\": 0, \"col\": 1, \"value\": 0.5792472796954297, \"source\": \"mcmc\"}, {\"idx\": 2, \"row\": 0, \"col\": 1, \"value\": 0.568511447585483, \"source\": \"mcmc\"}, {\"idx\": 3, \"row\": 0, \"col\": 1, \"value\": 0.13344669753596444, \"source\": \"mcmc\"}, {\"idx\": 4, \"row\": 0, \"col\": 1, \"value\": 0.6983025891361112, \"source\": \"mcmc\"}, {\"idx\": 5, \"row\": 0, \"col\": 1, \"value\": 0.1351657751766919, \"source\": \"mcmc\"}, {\"idx\": 6, \"row\": 0, \"col\": 1, \"value\": 0.11574050384815852, \"source\": \"mcmc\"}, {\"idx\": 7, \"row\": 0, \"col\": 1, \"value\": 0.4281438820905009, \"source\": \"mcmc\"}, {\"idx\": 8, \"row\": 0, \"col\": 1, \"value\": 0.630378047491257, \"source\": \"mcmc\"}, {\"idx\": 9, \"row\": 0, \"col\": 1, \"value\": 0.6409126624212435, \"source\": \"mcmc\"}, {\"idx\": 10, \"row\": 0, \"col\": 1, \"value\": 0.5020138234022347, \"source\": \"mcmc\"}, {\"idx\": 11, \"row\": 0, \"col\": 1, \"value\": 0.5759540339225511, \"source\": \"mcmc\"}, {\"idx\": 12, \"row\": 0, \"col\": 1, \"value\": 0.5427532417154414, \"source\": \"mcmc\"}, {\"idx\": 13, \"row\": 0, \"col\": 1, \"value\": -0.023748014784205206, \"source\": \"mcmc\"}, {\"idx\": 14, \"row\": 0, \"col\": 1, \"value\": 0.3362991349265876, \"source\": \"mcmc\"}, {\"idx\": 15, \"row\": 0, \"col\": 1, \"value\": 0.28504452474443903, \"source\": \"mcmc\"}, {\"idx\": 16, \"row\": 0, \"col\": 1, \"value\": 0.1915964407813784, \"source\": \"mcmc\"}, {\"idx\": 17, \"row\": 0, \"col\": 1, \"value\": 0.5291435378569451, \"source\": \"mcmc\"}, {\"idx\": 18, \"row\": 0, \"col\": 1, \"value\": 0.3483300813822192, \"source\": \"mcmc\"}, {\"idx\": 19, \"row\": 0, \"col\": 1, \"value\": 0.3272318155127783, \"source\": \"mcmc\"}, {\"idx\": 20, \"row\": 0, \"col\": 1, \"value\": 0.6586769016551542, \"source\": \"mcmc\"}, {\"idx\": 21, \"row\": 0, \"col\": 1, \"value\": 0.6775544787999989, \"source\": \"mcmc\"}, {\"idx\": 22, \"row\": 0, \"col\": 1, \"value\": 0.3206881026494402, \"source\": \"mcmc\"}, {\"idx\": 23, \"row\": 0, \"col\": 1, \"value\": 0.34643336149256493, \"source\": \"mcmc\"}, {\"idx\": 24, \"row\": 0, \"col\": 1, \"value\": 0.4369132467045388, \"source\": \"mcmc\"}, {\"idx\": 25, \"row\": 0, \"col\": 1, \"value\": 0.02068762076242845, \"source\": \"mcmc\"}, {\"idx\": 26, \"row\": 0, \"col\": 1, \"value\": 0.15567350877738087, \"source\": \"mcmc\"}, {\"idx\": 27, \"row\": 0, \"col\": 1, \"value\": 0.6060564977900078, \"source\": \"mcmc\"}, {\"idx\": 28, \"row\": 0, \"col\": 1, \"value\": 0.18685928286809558, \"source\": \"mcmc\"}, {\"idx\": 29, \"row\": 0, \"col\": 1, \"value\": 0.007246567021535168, \"source\": \"mcmc\"}, {\"idx\": 30, \"row\": 0, \"col\": 1, \"value\": 0.33729659620450886, \"source\": \"mcmc\"}, {\"idx\": 31, \"row\": 0, \"col\": 1, \"value\": 0.5537285557130801, \"source\": \"mcmc\"}, {\"idx\": 32, \"row\": 0, \"col\": 1, \"value\": 0.21213284731301416, \"source\": \"mcmc\"}, {\"idx\": 33, \"row\": 0, \"col\": 1, \"value\": 0.018135767931413114, \"source\": \"mcmc\"}, {\"idx\": 34, \"row\": 0, \"col\": 1, \"value\": 0.3477037805697497, \"source\": \"mcmc\"}, {\"idx\": 35, \"row\": 0, \"col\": 1, \"value\": 0.5151682019664837, \"source\": \"mcmc\"}, {\"idx\": 36, \"row\": 0, \"col\": 1, \"value\": 0.4334831377122861, \"source\": \"mcmc\"}, {\"idx\": 37, \"row\": 0, \"col\": 1, \"value\": 0.5228472224670206, \"source\": \"mcmc\"}, {\"idx\": 38, \"row\": 0, \"col\": 1, \"value\": 0.10685397798652219, \"source\": \"mcmc\"}, {\"idx\": 39, \"row\": 0, \"col\": 1, \"value\": 0.5747318078599866, \"source\": \"mcmc\"}, {\"idx\": 40, \"row\": 0, \"col\": 1, \"value\": 0.3883603010503595, \"source\": \"mcmc\"}, {\"idx\": 41, \"row\": 0, \"col\": 1, \"value\": 0.4386996927551045, \"source\": \"mcmc\"}, {\"idx\": 42, \"row\": 0, \"col\": 1, \"value\": 0.32151978005873694, \"source\": \"mcmc\"}, {\"idx\": 43, \"row\": 0, \"col\": 1, \"value\": 0.5659597247560737, \"source\": \"mcmc\"}, {\"idx\": 44, \"row\": 0, \"col\": 1, \"value\": 0.3581414694103595, \"source\": \"mcmc\"}, {\"idx\": 45, \"row\": 0, \"col\": 1, \"value\": 0.8399726517597291, \"source\": \"mcmc\"}, {\"idx\": 46, \"row\": 0, \"col\": 1, \"value\": 0.3418972596925776, \"source\": \"mcmc\"}, {\"idx\": 47, \"row\": 0, \"col\": 1, \"value\": 0.14646482770689892, \"source\": \"mcmc\"}, {\"idx\": 48, \"row\": 0, \"col\": 1, \"value\": 0.44649761426073237, \"source\": \"mcmc\"}, {\"idx\": 49, \"row\": 0, \"col\": 1, \"value\": 0.5170521211200918, \"source\": \"mcmc\"}, {\"idx\": 50, \"row\": 0, \"col\": 1, \"value\": 0.295293468063538, \"source\": \"mcmc\"}, {\"idx\": 51, \"row\": 0, \"col\": 1, \"value\": 0.06722708925889825, \"source\": \"mcmc\"}, {\"idx\": 52, \"row\": 0, \"col\": 1, \"value\": 0.30255852988071386, \"source\": \"mcmc\"}, {\"idx\": 53, \"row\": 0, \"col\": 1, \"value\": 0.35617444438129947, \"source\": \"mcmc\"}, {\"idx\": 54, \"row\": 0, \"col\": 1, \"value\": 0.13011333734908762, \"source\": \"mcmc\"}, {\"idx\": 55, \"row\": 0, \"col\": 1, \"value\": -0.08689263719361183, \"source\": \"mcmc\"}, {\"idx\": 56, \"row\": 0, \"col\": 1, \"value\": 0.521686757111087, \"source\": \"mcmc\"}, {\"idx\": 57, \"row\": 0, \"col\": 1, \"value\": 0.6386241450725746, \"source\": \"mcmc\"}, {\"idx\": 58, \"row\": 0, \"col\": 1, \"value\": 0.31591995746454593, \"source\": \"mcmc\"}, {\"idx\": 59, \"row\": 0, \"col\": 1, \"value\": 0.45338622660104866, \"source\": \"mcmc\"}, {\"idx\": 60, \"row\": 0, \"col\": 1, \"value\": 0.3523065357454135, \"source\": \"mcmc\"}, {\"idx\": 61, \"row\": 0, \"col\": 1, \"value\": 0.11346954748064814, \"source\": \"mcmc\"}, {\"idx\": 62, \"row\": 0, \"col\": 1, \"value\": 0.9582401655733481, \"source\": \"mcmc\"}, {\"idx\": 63, \"row\": 0, \"col\": 1, \"value\": 0.23850724945716695, \"source\": \"mcmc\"}, {\"idx\": 64, \"row\": 0, \"col\": 1, \"value\": 0.07859865737622171, \"source\": \"mcmc\"}, {\"idx\": 65, \"row\": 0, \"col\": 1, \"value\": 0.31668681492125617, \"source\": \"mcmc\"}, {\"idx\": 66, \"row\": 0, \"col\": 1, \"value\": 0.5386515096134596, \"source\": \"mcmc\"}, {\"idx\": 67, \"row\": 0, \"col\": 1, \"value\": 0.6166273774380441, \"source\": \"mcmc\"}, {\"idx\": 68, \"row\": 0, \"col\": 1, \"value\": 0.7093896764329556, \"source\": \"mcmc\"}, {\"idx\": 69, \"row\": 0, \"col\": 1, \"value\": 0.6232057233273353, \"source\": \"mcmc\"}, {\"idx\": 70, \"row\": 0, \"col\": 1, \"value\": 0.1402086029951867, \"source\": \"mcmc\"}, {\"idx\": 71, \"row\": 0, \"col\": 1, \"value\": 0.6192145563017488, \"source\": \"mcmc\"}, {\"idx\": 72, \"row\": 0, \"col\": 1, \"value\": 0.4290003589331846, \"source\": \"mcmc\"}, {\"idx\": 73, \"row\": 0, \"col\": 1, \"value\": 0.33400467482814117, \"source\": \"mcmc\"}, {\"idx\": 74, \"row\": 0, \"col\": 1, \"value\": -0.07827670847289689, \"source\": \"mcmc\"}, {\"idx\": 75, \"row\": 0, \"col\": 1, \"value\": 0.8413794051149406, \"source\": \"mcmc\"}, {\"idx\": 76, \"row\": 0, \"col\": 1, \"value\": 0.34160455414207747, \"source\": \"mcmc\"}, {\"idx\": 77, \"row\": 0, \"col\": 1, \"value\": 0.7166606489557615, \"source\": \"mcmc\"}, {\"idx\": 78, \"row\": 0, \"col\": 1, \"value\": 0.9905329432323474, \"source\": \"mcmc\"}, {\"idx\": 79, \"row\": 0, \"col\": 1, \"value\": 0.4210316119865157, \"source\": \"mcmc\"}, {\"idx\": 80, \"row\": 0, \"col\": 1, \"value\": 0.9970730098070406, \"source\": \"mcmc\"}, {\"idx\": 81, \"row\": 0, \"col\": 1, \"value\": 0.5080876531514177, \"source\": \"mcmc\"}, {\"idx\": 82, \"row\": 0, \"col\": 1, \"value\": 0.007542267595541773, \"source\": \"mcmc\"}, {\"idx\": 83, \"row\": 0, \"col\": 1, \"value\": 0.25850206690621563, \"source\": \"mcmc\"}, {\"idx\": 84, \"row\": 0, \"col\": 1, \"value\": 0.4269696472394265, \"source\": \"mcmc\"}, {\"idx\": 85, \"row\": 0, \"col\": 1, \"value\": 0.20683237500149237, \"source\": \"mcmc\"}, {\"idx\": 86, \"row\": 0, \"col\": 1, \"value\": 0.35939790431563323, \"source\": \"mcmc\"}, {\"idx\": 87, \"row\": 0, \"col\": 1, \"value\": 0.5895231441120752, \"source\": \"mcmc\"}, {\"idx\": 88, \"row\": 0, \"col\": 1, \"value\": 0.3486285487490132, \"source\": \"mcmc\"}, {\"idx\": 89, \"row\": 0, \"col\": 1, \"value\": 0.5685876364824674, \"source\": \"mcmc\"}, {\"idx\": 90, \"row\": 0, \"col\": 1, \"value\": 0.26798362620678634, \"source\": \"mcmc\"}, {\"idx\": 91, \"row\": 0, \"col\": 1, \"value\": 0.3176025706152676, \"source\": \"mcmc\"}, {\"idx\": 92, \"row\": 0, \"col\": 1, \"value\": 0.8004957240910185, \"source\": \"mcmc\"}, {\"idx\": 93, \"row\": 0, \"col\": 1, \"value\": 0.7910708065467487, \"source\": \"mcmc\"}, {\"idx\": 94, \"row\": 0, \"col\": 1, \"value\": 0.5862326281371326, \"source\": \"mcmc\"}, {\"idx\": 95, \"row\": 0, \"col\": 1, \"value\": 0.6602352183733804, \"source\": \"mcmc\"}, {\"idx\": 96, \"row\": 0, \"col\": 1, \"value\": 0.3820837156021556, \"source\": \"mcmc\"}, {\"idx\": 97, \"row\": 0, \"col\": 1, \"value\": 0.40639437461898786, \"source\": \"mcmc\"}, {\"idx\": 98, \"row\": 0, \"col\": 1, \"value\": 0.18362745800953778, \"source\": \"mcmc\"}, {\"idx\": 99, \"row\": 0, \"col\": 1, \"value\": 0.21080317566756301, \"source\": \"mcmc\"}, {\"idx\": 0, \"row\": 0, \"col\": 2, \"value\": -1.2029211094703285, \"source\": \"mcmc\"}, {\"idx\": 1, \"row\": 0, \"col\": 2, \"value\": -1.2963524479568314, \"source\": \"mcmc\"}, {\"idx\": 2, \"row\": 0, \"col\": 2, \"value\": -1.7216416578443756, \"source\": \"mcmc\"}, {\"idx\": 3, \"row\": 0, \"col\": 2, \"value\": -1.3055451827060487, \"source\": \"mcmc\"}, {\"idx\": 4, \"row\": 0, \"col\": 2, \"value\": -1.2800564406222303, \"source\": \"mcmc\"}, {\"idx\": 5, \"row\": 0, \"col\": 2, \"value\": -1.4097649025865437, \"source\": \"mcmc\"}, {\"idx\": 6, \"row\": 0, \"col\": 2, \"value\": -1.6483717597813086, \"source\": \"mcmc\"}, {\"idx\": 7, \"row\": 0, \"col\": 2, \"value\": -1.6756128220519009, \"source\": \"mcmc\"}, {\"idx\": 8, \"row\": 0, \"col\": 2, \"value\": -1.8228012546193662, \"source\": \"mcmc\"}, {\"idx\": 9, \"row\": 0, \"col\": 2, \"value\": -1.2370574593767751, \"source\": \"mcmc\"}, {\"idx\": 10, \"row\": 0, \"col\": 2, \"value\": -1.3003313043769757, \"source\": \"mcmc\"}, {\"idx\": 11, \"row\": 0, \"col\": 2, \"value\": -1.3785386668530952, \"source\": \"mcmc\"}, {\"idx\": 12, \"row\": 0, \"col\": 2, \"value\": -1.4176676577818856, \"source\": \"mcmc\"}, {\"idx\": 13, \"row\": 0, \"col\": 2, \"value\": -1.1130853674242565, \"source\": \"mcmc\"}, {\"idx\": 14, \"row\": 0, \"col\": 2, \"value\": -1.6624261205538062, \"source\": \"mcmc\"}, {\"idx\": 15, \"row\": 0, \"col\": 2, \"value\": -1.2130654618531722, \"source\": \"mcmc\"}, {\"idx\": 16, \"row\": 0, \"col\": 2, \"value\": -1.7156645563205533, \"source\": \"mcmc\"}, {\"idx\": 17, \"row\": 0, \"col\": 2, \"value\": -1.1679382620306396, \"source\": \"mcmc\"}, {\"idx\": 18, \"row\": 0, \"col\": 2, \"value\": -1.391035324636197, \"source\": \"mcmc\"}, {\"idx\": 19, \"row\": 0, \"col\": 2, \"value\": -1.9302564730638763, \"source\": \"mcmc\"}, {\"idx\": 20, \"row\": 0, \"col\": 2, \"value\": -1.249642849846367, \"source\": \"mcmc\"}, {\"idx\": 21, \"row\": 0, \"col\": 2, \"value\": -1.4663127879708853, \"source\": \"mcmc\"}, {\"idx\": 22, \"row\": 0, \"col\": 2, \"value\": -1.153822408152288, \"source\": \"mcmc\"}, {\"idx\": 23, \"row\": 0, \"col\": 2, \"value\": -1.9578711655278231, \"source\": \"mcmc\"}, {\"idx\": 24, \"row\": 0, \"col\": 2, \"value\": -1.287121168858755, \"source\": \"mcmc\"}, {\"idx\": 25, \"row\": 0, \"col\": 2, \"value\": -1.4936272409934859, \"source\": \"mcmc\"}, {\"idx\": 26, \"row\": 0, \"col\": 2, \"value\": -2.065221931393774, \"source\": \"mcmc\"}, {\"idx\": 27, \"row\": 0, \"col\": 2, \"value\": -1.3087994703833268, \"source\": \"mcmc\"}, {\"idx\": 28, \"row\": 0, \"col\": 2, \"value\": -1.969922169261453, \"source\": \"mcmc\"}, {\"idx\": 29, \"row\": 0, \"col\": 2, \"value\": -1.505635582428339, \"source\": \"mcmc\"}, {\"idx\": 30, \"row\": 0, \"col\": 2, \"value\": -2.1448056785197753, \"source\": \"mcmc\"}, {\"idx\": 31, \"row\": 0, \"col\": 2, \"value\": -1.3729854049819001, \"source\": \"mcmc\"}, {\"idx\": 32, \"row\": 0, \"col\": 2, \"value\": -1.626279609647299, \"source\": \"mcmc\"}, {\"idx\": 33, \"row\": 0, \"col\": 2, \"value\": -1.7083494795627217, \"source\": \"mcmc\"}, {\"idx\": 34, \"row\": 0, \"col\": 2, \"value\": -1.5030317101284791, \"source\": \"mcmc\"}, {\"idx\": 35, \"row\": 0, \"col\": 2, \"value\": -1.7055602080125358, \"source\": \"mcmc\"}, {\"idx\": 36, \"row\": 0, \"col\": 2, \"value\": -1.4209446082620234, \"source\": \"mcmc\"}, {\"idx\": 37, \"row\": 0, \"col\": 2, \"value\": -1.5538702292757998, \"source\": \"mcmc\"}, {\"idx\": 38, \"row\": 0, \"col\": 2, \"value\": -1.5248233780699871, \"source\": \"mcmc\"}, {\"idx\": 39, \"row\": 0, \"col\": 2, \"value\": -1.448987243468389, \"source\": \"mcmc\"}, {\"idx\": 40, \"row\": 0, \"col\": 2, \"value\": -1.7529154945067205, \"source\": \"mcmc\"}, {\"idx\": 41, \"row\": 0, \"col\": 2, \"value\": -1.100412425186766, \"source\": \"mcmc\"}, {\"idx\": 42, \"row\": 0, \"col\": 2, \"value\": -1.424266940102585, \"source\": \"mcmc\"}, {\"idx\": 43, \"row\": 0, \"col\": 2, \"value\": -1.8467113055753022, \"source\": \"mcmc\"}, {\"idx\": 44, \"row\": 0, \"col\": 2, \"value\": -1.6703737279601483, \"source\": \"mcmc\"}, {\"idx\": 45, \"row\": 0, \"col\": 2, \"value\": -1.0656910402490705, \"source\": \"mcmc\"}, {\"idx\": 46, \"row\": 0, \"col\": 2, \"value\": -1.1649021508888873, \"source\": \"mcmc\"}, {\"idx\": 47, \"row\": 0, \"col\": 2, \"value\": -1.4400694645345509, \"source\": \"mcmc\"}, {\"idx\": 48, \"row\": 0, \"col\": 2, \"value\": -1.9132736533254069, \"source\": \"mcmc\"}, {\"idx\": 49, \"row\": 0, \"col\": 2, \"value\": -1.533662202465313, \"source\": \"mcmc\"}, {\"idx\": 50, \"row\": 0, \"col\": 2, \"value\": -1.4421695059608477, \"source\": \"mcmc\"}, {\"idx\": 51, \"row\": 0, \"col\": 2, \"value\": -1.0991729169795448, \"source\": \"mcmc\"}, {\"idx\": 52, \"row\": 0, \"col\": 2, \"value\": -1.5551210531299, \"source\": \"mcmc\"}, {\"idx\": 53, \"row\": 0, \"col\": 2, \"value\": -1.96459721960042, \"source\": \"mcmc\"}, {\"idx\": 54, \"row\": 0, \"col\": 2, \"value\": -1.700310876896325, \"source\": \"mcmc\"}, {\"idx\": 55, \"row\": 0, \"col\": 2, \"value\": -1.4575028121522797, \"source\": \"mcmc\"}, {\"idx\": 56, \"row\": 0, \"col\": 2, \"value\": -2.4528014888955005, \"source\": \"mcmc\"}, {\"idx\": 57, \"row\": 0, \"col\": 2, \"value\": -0.8706376413495011, \"source\": \"mcmc\"}, {\"idx\": 58, \"row\": 0, \"col\": 2, \"value\": -1.6289227358042158, \"source\": \"mcmc\"}, {\"idx\": 59, \"row\": 0, \"col\": 2, \"value\": -2.1793371277600704, \"source\": \"mcmc\"}, {\"idx\": 60, \"row\": 0, \"col\": 2, \"value\": -2.387245219602847, \"source\": \"mcmc\"}, {\"idx\": 61, \"row\": 0, \"col\": 2, \"value\": -1.761920888177547, \"source\": \"mcmc\"}, {\"idx\": 62, \"row\": 0, \"col\": 2, \"value\": -1.5726022861737832, \"source\": \"mcmc\"}, {\"idx\": 63, \"row\": 0, \"col\": 2, \"value\": -1.6686500767854293, \"source\": \"mcmc\"}, {\"idx\": 64, \"row\": 0, \"col\": 2, \"value\": -1.5308092240832365, \"source\": \"mcmc\"}, {\"idx\": 65, \"row\": 0, \"col\": 2, \"value\": -1.5533141580451906, \"source\": \"mcmc\"}, {\"idx\": 66, \"row\": 0, \"col\": 2, \"value\": -1.378800792007721, \"source\": \"mcmc\"}, {\"idx\": 67, \"row\": 0, \"col\": 2, \"value\": -1.5762858778974338, \"source\": \"mcmc\"}, {\"idx\": 68, \"row\": 0, \"col\": 2, \"value\": -1.48415661496244, \"source\": \"mcmc\"}, {\"idx\": 69, \"row\": 0, \"col\": 2, \"value\": -1.3839178725357386, \"source\": \"mcmc\"}, {\"idx\": 70, \"row\": 0, \"col\": 2, \"value\": -1.6180090476180153, \"source\": \"mcmc\"}, {\"idx\": 71, \"row\": 0, \"col\": 2, \"value\": -1.3439347949125464, \"source\": \"mcmc\"}, {\"idx\": 72, \"row\": 0, \"col\": 2, \"value\": -1.56183570064695, \"source\": \"mcmc\"}, {\"idx\": 73, \"row\": 0, \"col\": 2, \"value\": -1.3949133397090205, \"source\": \"mcmc\"}, {\"idx\": 74, \"row\": 0, \"col\": 2, \"value\": -1.7907516841180438, \"source\": \"mcmc\"}, {\"idx\": 75, \"row\": 0, \"col\": 2, \"value\": -1.8558615151217877, \"source\": \"mcmc\"}, {\"idx\": 76, \"row\": 0, \"col\": 2, \"value\": -1.0184397878406308, \"source\": \"mcmc\"}, {\"idx\": 77, \"row\": 0, \"col\": 2, \"value\": -1.6930479056546235, \"source\": \"mcmc\"}, {\"idx\": 78, \"row\": 0, \"col\": 2, \"value\": -1.8705451389327554, \"source\": \"mcmc\"}, {\"idx\": 79, \"row\": 0, \"col\": 2, \"value\": -1.4924985335171812, \"source\": \"mcmc\"}, {\"idx\": 80, \"row\": 0, \"col\": 2, \"value\": -1.0882352567763676, \"source\": \"mcmc\"}, {\"idx\": 81, \"row\": 0, \"col\": 2, \"value\": -1.3148194402000506, \"source\": \"mcmc\"}, {\"idx\": 82, \"row\": 0, \"col\": 2, \"value\": -1.2829731326508993, \"source\": \"mcmc\"}, {\"idx\": 83, \"row\": 0, \"col\": 2, \"value\": -1.2592318070079918, \"source\": \"mcmc\"}, {\"idx\": 84, \"row\": 0, \"col\": 2, \"value\": -1.2965014425896586, \"source\": \"mcmc\"}, {\"idx\": 85, \"row\": 0, \"col\": 2, \"value\": -1.580337298303477, \"source\": \"mcmc\"}, {\"idx\": 86, \"row\": 0, \"col\": 2, \"value\": -2.05314742749297, \"source\": \"mcmc\"}, {\"idx\": 87, \"row\": 0, \"col\": 2, \"value\": -1.9211971453428203, \"source\": \"mcmc\"}, {\"idx\": 88, \"row\": 0, \"col\": 2, \"value\": -1.6585373995773767, \"source\": \"mcmc\"}, {\"idx\": 89, \"row\": 0, \"col\": 2, \"value\": -1.466710564084225, \"source\": \"mcmc\"}, {\"idx\": 90, \"row\": 0, \"col\": 2, \"value\": -1.0893822797452246, \"source\": \"mcmc\"}, {\"idx\": 91, \"row\": 0, \"col\": 2, \"value\": -1.8740742942304909, \"source\": \"mcmc\"}, {\"idx\": 92, \"row\": 0, \"col\": 2, \"value\": -1.4789123661042543, \"source\": \"mcmc\"}, {\"idx\": 93, \"row\": 0, \"col\": 2, \"value\": -1.7553889215833642, \"source\": \"mcmc\"}, {\"idx\": 94, \"row\": 0, \"col\": 2, \"value\": -1.795269062424463, \"source\": \"mcmc\"}, {\"idx\": 95, \"row\": 0, \"col\": 2, \"value\": -1.549559185009565, \"source\": \"mcmc\"}, {\"idx\": 96, \"row\": 0, \"col\": 2, \"value\": -1.52493478208384, \"source\": \"mcmc\"}, {\"idx\": 97, \"row\": 0, \"col\": 2, \"value\": -1.5322114247847083, \"source\": \"mcmc\"}, {\"idx\": 98, \"row\": 0, \"col\": 2, \"value\": -1.7197730592164375, \"source\": \"mcmc\"}, {\"idx\": 99, \"row\": 0, \"col\": 2, \"value\": -2.250414426377888, \"source\": \"mcmc\"}, {\"idx\": 0, \"row\": 0, \"col\": 3, \"value\": -1.3777374669740154, \"source\": \"mcmc\"}, {\"idx\": 1, \"row\": 0, \"col\": 3, \"value\": -1.2317404020201157, \"source\": \"mcmc\"}, {\"idx\": 2, \"row\": 0, \"col\": 3, \"value\": -1.515282705071189, \"source\": \"mcmc\"}, {\"idx\": 3, \"row\": 0, \"col\": 3, \"value\": -0.8266946326919927, \"source\": \"mcmc\"}, {\"idx\": 4, \"row\": 0, \"col\": 3, \"value\": -1.6946924652880409, \"source\": \"mcmc\"}, {\"idx\": 5, \"row\": 0, \"col\": 3, \"value\": -0.9979653829201552, \"source\": \"mcmc\"}, {\"idx\": 6, \"row\": 0, \"col\": 3, \"value\": -1.68576584228069, \"source\": \"mcmc\"}, {\"idx\": 7, \"row\": 0, \"col\": 3, \"value\": -1.19290361826151, \"source\": \"mcmc\"}, {\"idx\": 8, \"row\": 0, \"col\": 3, \"value\": -1.8352994851660906, \"source\": \"mcmc\"}, {\"idx\": 9, \"row\": 0, \"col\": 3, \"value\": -1.0791436695024925, \"source\": \"mcmc\"}, {\"idx\": 10, \"row\": 0, \"col\": 3, \"value\": -0.9839790024947421, \"source\": \"mcmc\"}, {\"idx\": 11, \"row\": 0, \"col\": 3, \"value\": -2.183203726677003, \"source\": \"mcmc\"}, {\"idx\": 12, \"row\": 0, \"col\": 3, \"value\": -1.1022735243685557, \"source\": \"mcmc\"}, {\"idx\": 13, \"row\": 0, \"col\": 3, \"value\": -1.6546885499588846, \"source\": \"mcmc\"}, {\"idx\": 14, \"row\": 0, \"col\": 3, \"value\": -1.1948848401944063, \"source\": \"mcmc\"}, {\"idx\": 15, \"row\": 0, \"col\": 3, \"value\": -1.2414729171542986, \"source\": \"mcmc\"}, {\"idx\": 16, \"row\": 0, \"col\": 3, \"value\": -1.3372829580231085, \"source\": \"mcmc\"}, {\"idx\": 17, \"row\": 0, \"col\": 3, \"value\": -1.3072580273849117, \"source\": \"mcmc\"}, {\"idx\": 18, \"row\": 0, \"col\": 3, \"value\": -1.4232861662238616, \"source\": \"mcmc\"}, {\"idx\": 19, \"row\": 0, \"col\": 3, \"value\": -1.7667865220137629, \"source\": \"mcmc\"}, {\"idx\": 20, \"row\": 0, \"col\": 3, \"value\": -1.125569599618734, \"source\": \"mcmc\"}, {\"idx\": 21, \"row\": 0, \"col\": 3, \"value\": -1.6013362950726873, \"source\": \"mcmc\"}, {\"idx\": 22, \"row\": 0, \"col\": 3, \"value\": -1.193960046170542, \"source\": \"mcmc\"}, {\"idx\": 23, \"row\": 0, \"col\": 3, \"value\": -1.1575762503398654, \"source\": \"mcmc\"}, {\"idx\": 24, \"row\": 0, \"col\": 3, \"value\": -1.830197453589209, \"source\": \"mcmc\"}, {\"idx\": 25, \"row\": 0, \"col\": 3, \"value\": -1.457116755126248, \"source\": \"mcmc\"}, {\"idx\": 26, \"row\": 0, \"col\": 3, \"value\": -1.1939521290487083, \"source\": \"mcmc\"}, {\"idx\": 27, \"row\": 0, \"col\": 3, \"value\": -1.8799930454646334, \"source\": \"mcmc\"}, {\"idx\": 28, \"row\": 0, \"col\": 3, \"value\": -1.576142228020215, \"source\": \"mcmc\"}, {\"idx\": 29, \"row\": 0, \"col\": 3, \"value\": -1.6737220297338327, \"source\": \"mcmc\"}, {\"idx\": 30, \"row\": 0, \"col\": 3, \"value\": -1.893403579200463, \"source\": \"mcmc\"}, {\"idx\": 31, \"row\": 0, \"col\": 3, \"value\": -1.6941610000194087, \"source\": \"mcmc\"}, {\"idx\": 32, \"row\": 0, \"col\": 3, \"value\": -1.4696935170306167, \"source\": \"mcmc\"}, {\"idx\": 33, \"row\": 0, \"col\": 3, \"value\": -1.0907142644626147, \"source\": \"mcmc\"}, {\"idx\": 34, \"row\": 0, \"col\": 3, \"value\": -1.5021935248319513, \"source\": \"mcmc\"}, {\"idx\": 35, \"row\": 0, \"col\": 3, \"value\": -1.3554945258124584, \"source\": \"mcmc\"}, {\"idx\": 36, \"row\": 0, \"col\": 3, \"value\": -1.4133575752502274, \"source\": \"mcmc\"}, {\"idx\": 37, \"row\": 0, \"col\": 3, \"value\": -1.5204869769868568, \"source\": \"mcmc\"}, {\"idx\": 38, \"row\": 0, \"col\": 3, \"value\": -0.9430517932586336, \"source\": \"mcmc\"}, {\"idx\": 39, \"row\": 0, \"col\": 3, \"value\": -1.2063610367856519, \"source\": \"mcmc\"}, {\"idx\": 40, \"row\": 0, \"col\": 3, \"value\": -2.4073755990002277, \"source\": \"mcmc\"}, {\"idx\": 41, \"row\": 0, \"col\": 3, \"value\": -1.5462046603897384, \"source\": \"mcmc\"}, {\"idx\": 42, \"row\": 0, \"col\": 3, \"value\": -1.368013928997482, \"source\": \"mcmc\"}, {\"idx\": 43, \"row\": 0, \"col\": 3, \"value\": -1.0737290631744023, \"source\": \"mcmc\"}, {\"idx\": 44, \"row\": 0, \"col\": 3, \"value\": -1.5892320735306371, \"source\": \"mcmc\"}, {\"idx\": 45, \"row\": 0, \"col\": 3, \"value\": -1.0800256194123885, \"source\": \"mcmc\"}, {\"idx\": 46, \"row\": 0, \"col\": 3, \"value\": -1.6461956924484595, \"source\": \"mcmc\"}, {\"idx\": 47, \"row\": 0, \"col\": 3, \"value\": -1.6245880226260758, \"source\": \"mcmc\"}, {\"idx\": 48, \"row\": 0, \"col\": 3, \"value\": -1.5904211562128638, \"source\": \"mcmc\"}, {\"idx\": 49, \"row\": 0, \"col\": 3, \"value\": -1.2909231765219313, \"source\": \"mcmc\"}, {\"idx\": 50, \"row\": 0, \"col\": 3, \"value\": -1.3195474613362859, \"source\": \"mcmc\"}, {\"idx\": 51, \"row\": 0, \"col\": 3, \"value\": -1.3043471525414723, \"source\": \"mcmc\"}, {\"idx\": 52, \"row\": 0, \"col\": 3, \"value\": -1.4487172140463929, \"source\": \"mcmc\"}, {\"idx\": 53, \"row\": 0, \"col\": 3, \"value\": -1.2367776552786385, \"source\": \"mcmc\"}, {\"idx\": 54, \"row\": 0, \"col\": 3, \"value\": -1.3059287186785162, \"source\": \"mcmc\"}, {\"idx\": 55, \"row\": 0, \"col\": 3, \"value\": -1.3037069549522666, \"source\": \"mcmc\"}, {\"idx\": 56, \"row\": 0, \"col\": 3, \"value\": -1.6060596881591125, \"source\": \"mcmc\"}, {\"idx\": 57, \"row\": 0, \"col\": 3, \"value\": -1.559698596987233, \"source\": \"mcmc\"}, {\"idx\": 58, \"row\": 0, \"col\": 3, \"value\": -1.1154795124067391, \"source\": \"mcmc\"}, {\"idx\": 59, \"row\": 0, \"col\": 3, \"value\": -1.2980541297399146, \"source\": \"mcmc\"}, {\"idx\": 60, \"row\": 0, \"col\": 3, \"value\": -1.3611447499907656, \"source\": \"mcmc\"}, {\"idx\": 61, \"row\": 0, \"col\": 3, \"value\": -1.227284859386481, \"source\": \"mcmc\"}, {\"idx\": 62, \"row\": 0, \"col\": 3, \"value\": -1.5402837991443055, \"source\": \"mcmc\"}, {\"idx\": 63, \"row\": 0, \"col\": 3, \"value\": -1.320036942225896, \"source\": \"mcmc\"}, {\"idx\": 64, \"row\": 0, \"col\": 3, \"value\": -1.2784201280516747, \"source\": \"mcmc\"}, {\"idx\": 65, \"row\": 0, \"col\": 3, \"value\": -1.4052611741353174, \"source\": \"mcmc\"}, {\"idx\": 66, \"row\": 0, \"col\": 3, \"value\": -1.2891139769573075, \"source\": \"mcmc\"}, {\"idx\": 67, \"row\": 0, \"col\": 3, \"value\": -1.7675198209545426, \"source\": \"mcmc\"}, {\"idx\": 68, \"row\": 0, \"col\": 3, \"value\": -1.3763011143989636, \"source\": \"mcmc\"}, {\"idx\": 69, \"row\": 0, \"col\": 3, \"value\": -1.2526282735300074, \"source\": \"mcmc\"}, {\"idx\": 70, \"row\": 0, \"col\": 3, \"value\": -1.3882778128937021, \"source\": \"mcmc\"}, {\"idx\": 71, \"row\": 0, \"col\": 3, \"value\": -1.5178934214443922, \"source\": \"mcmc\"}, {\"idx\": 72, \"row\": 0, \"col\": 3, \"value\": -1.4729313850883194, \"source\": \"mcmc\"}, {\"idx\": 73, \"row\": 0, \"col\": 3, \"value\": -1.1604754541076383, \"source\": \"mcmc\"}, {\"idx\": 74, \"row\": 0, \"col\": 3, \"value\": -1.788481608152156, \"source\": \"mcmc\"}, {\"idx\": 75, \"row\": 0, \"col\": 3, \"value\": -1.8048204286202076, \"source\": \"mcmc\"}, {\"idx\": 76, \"row\": 0, \"col\": 3, \"value\": -0.895530126435865, \"source\": \"mcmc\"}, {\"idx\": 77, \"row\": 0, \"col\": 3, \"value\": -1.5190059684256434, \"source\": \"mcmc\"}, {\"idx\": 78, \"row\": 0, \"col\": 3, \"value\": -1.347426628981264, \"source\": \"mcmc\"}, {\"idx\": 79, \"row\": 0, \"col\": 3, \"value\": -1.1914696671306546, \"source\": \"mcmc\"}, {\"idx\": 80, \"row\": 0, \"col\": 3, \"value\": -1.3394127315370092, \"source\": \"mcmc\"}, {\"idx\": 81, \"row\": 0, \"col\": 3, \"value\": -1.230099598156148, \"source\": \"mcmc\"}, {\"idx\": 82, \"row\": 0, \"col\": 3, \"value\": -1.4224338497294045, \"source\": \"mcmc\"}, {\"idx\": 83, \"row\": 0, \"col\": 3, \"value\": -1.6949764402254424, \"source\": \"mcmc\"}, {\"idx\": 84, \"row\": 0, \"col\": 3, \"value\": -0.7934810417281769, \"source\": \"mcmc\"}, {\"idx\": 85, \"row\": 0, \"col\": 3, \"value\": -1.6322100049772224, \"source\": \"mcmc\"}, {\"idx\": 86, \"row\": 0, \"col\": 3, \"value\": -1.6817361275040867, \"source\": \"mcmc\"}, {\"idx\": 87, \"row\": 0, \"col\": 3, \"value\": -1.6361324737560854, \"source\": \"mcmc\"}, {\"idx\": 88, \"row\": 0, \"col\": 3, \"value\": -1.41562232897066, \"source\": \"mcmc\"}, {\"idx\": 89, \"row\": 0, \"col\": 3, \"value\": -1.4616391639140904, \"source\": \"mcmc\"}, {\"idx\": 90, \"row\": 0, \"col\": 3, \"value\": -1.1058606678027731, \"source\": \"mcmc\"}, {\"idx\": 91, \"row\": 0, \"col\": 3, \"value\": -1.534513786069162, \"source\": \"mcmc\"}, {\"idx\": 92, \"row\": 0, \"col\": 3, \"value\": -1.4100245771778381, \"source\": \"mcmc\"}, {\"idx\": 93, \"row\": 0, \"col\": 3, \"value\": -1.1645673656731612, \"source\": \"mcmc\"}, {\"idx\": 94, \"row\": 0, \"col\": 3, \"value\": -1.3662344765366825, \"source\": \"mcmc\"}, {\"idx\": 95, \"row\": 0, \"col\": 3, \"value\": -1.7466646570435302, \"source\": \"mcmc\"}, {\"idx\": 96, \"row\": 0, \"col\": 3, \"value\": -0.8207829327653665, \"source\": \"mcmc\"}, {\"idx\": 97, \"row\": 0, \"col\": 3, \"value\": -1.3745805115538465, \"source\": \"mcmc\"}, {\"idx\": 98, \"row\": 0, \"col\": 3, \"value\": -1.1639728970605738, \"source\": \"mcmc\"}, {\"idx\": 99, \"row\": 0, \"col\": 3, \"value\": -1.5754230001798921, \"source\": \"mcmc\"}, {\"idx\": 0, \"row\": 0, \"col\": 4, \"value\": -1.2571862375290992, \"source\": \"mcmc\"}, {\"idx\": 1, \"row\": 0, \"col\": 4, \"value\": -1.0035372526818667, \"source\": \"mcmc\"}, {\"idx\": 2, \"row\": 0, \"col\": 4, \"value\": -1.0869808017643834, \"source\": \"mcmc\"}, {\"idx\": 3, \"row\": 0, \"col\": 4, \"value\": -0.7591905483455822, \"source\": \"mcmc\"}, {\"idx\": 4, \"row\": 0, \"col\": 4, \"value\": -0.9604589064315785, \"source\": \"mcmc\"}, {\"idx\": 5, \"row\": 0, \"col\": 4, \"value\": -0.482841480509277, \"source\": \"mcmc\"}, {\"idx\": 6, \"row\": 0, \"col\": 4, \"value\": -0.8153635139309292, \"source\": \"mcmc\"}, {\"idx\": 7, \"row\": 0, \"col\": 4, \"value\": -0.5275453730034207, \"source\": \"mcmc\"}, {\"idx\": 8, \"row\": 0, \"col\": 4, \"value\": -0.7574167420969884, \"source\": \"mcmc\"}, {\"idx\": 9, \"row\": 0, \"col\": 4, \"value\": -0.766170680423295, \"source\": \"mcmc\"}, {\"idx\": 10, \"row\": 0, \"col\": 4, \"value\": -0.9676661104827085, \"source\": \"mcmc\"}, {\"idx\": 11, \"row\": 0, \"col\": 4, \"value\": -1.1134386512558911, \"source\": \"mcmc\"}, {\"idx\": 12, \"row\": 0, \"col\": 4, \"value\": -0.750372867046669, \"source\": \"mcmc\"}, {\"idx\": 13, \"row\": 0, \"col\": 4, \"value\": -0.37506848074610144, \"source\": \"mcmc\"}, {\"idx\": 14, \"row\": 0, \"col\": 4, \"value\": -0.4775390637747872, \"source\": \"mcmc\"}, {\"idx\": 15, \"row\": 0, \"col\": 4, \"value\": -0.9461619320827275, \"source\": \"mcmc\"}, {\"idx\": 16, \"row\": 0, \"col\": 4, \"value\": -0.6801109205125018, \"source\": \"mcmc\"}, {\"idx\": 17, \"row\": 0, \"col\": 4, \"value\": -0.881783260214814, \"source\": \"mcmc\"}, {\"idx\": 18, \"row\": 0, \"col\": 4, \"value\": -0.9913026440680229, \"source\": \"mcmc\"}, {\"idx\": 19, \"row\": 0, \"col\": 4, \"value\": -0.9672126905561735, \"source\": \"mcmc\"}, {\"idx\": 20, \"row\": 0, \"col\": 4, \"value\": -0.6260501436556257, \"source\": \"mcmc\"}, {\"idx\": 21, \"row\": 0, \"col\": 4, \"value\": -0.6885234606668041, \"source\": \"mcmc\"}, {\"idx\": 22, \"row\": 0, \"col\": 4, \"value\": -0.4942861194453323, \"source\": \"mcmc\"}, {\"idx\": 23, \"row\": 0, \"col\": 4, \"value\": -0.7876574549049197, \"source\": \"mcmc\"}, {\"idx\": 24, \"row\": 0, \"col\": 4, \"value\": -0.816108280654067, \"source\": \"mcmc\"}, {\"idx\": 25, \"row\": 0, \"col\": 4, \"value\": -0.7723849038163478, \"source\": \"mcmc\"}, {\"idx\": 26, \"row\": 0, \"col\": 4, \"value\": -0.866815383551364, \"source\": \"mcmc\"}, {\"idx\": 27, \"row\": 0, \"col\": 4, \"value\": -1.3019343717507794, \"source\": \"mcmc\"}, {\"idx\": 28, \"row\": 0, \"col\": 4, \"value\": -0.8683231427268505, \"source\": \"mcmc\"}, {\"idx\": 29, \"row\": 0, \"col\": 4, \"value\": -1.0153897725605376, \"source\": \"mcmc\"}, {\"idx\": 30, \"row\": 0, \"col\": 4, \"value\": -0.5064576963024386, \"source\": \"mcmc\"}, {\"idx\": 31, \"row\": 0, \"col\": 4, \"value\": -1.133729451621568, \"source\": \"mcmc\"}, {\"idx\": 32, \"row\": 0, \"col\": 4, \"value\": -0.8797743544812978, \"source\": \"mcmc\"}, {\"idx\": 33, \"row\": 0, \"col\": 4, \"value\": -0.6995339264774958, \"source\": \"mcmc\"}, {\"idx\": 34, \"row\": 0, \"col\": 4, \"value\": -0.5207017095671043, \"source\": \"mcmc\"}, {\"idx\": 35, \"row\": 0, \"col\": 4, \"value\": -0.7448850309115482, \"source\": \"mcmc\"}, {\"idx\": 36, \"row\": 0, \"col\": 4, \"value\": -0.6965474473074543, \"source\": \"mcmc\"}, {\"idx\": 37, \"row\": 0, \"col\": 4, \"value\": -0.6080786666450129, \"source\": \"mcmc\"}, {\"idx\": 38, \"row\": 0, \"col\": 4, \"value\": -1.0355086646438563, \"source\": \"mcmc\"}, {\"idx\": 39, \"row\": 0, \"col\": 4, \"value\": -0.854323463131822, \"source\": \"mcmc\"}, {\"idx\": 40, \"row\": 0, \"col\": 4, \"value\": -0.734777319483643, \"source\": \"mcmc\"}, {\"idx\": 41, \"row\": 0, \"col\": 4, \"value\": -0.9886329378939013, \"source\": \"mcmc\"}, {\"idx\": 42, \"row\": 0, \"col\": 4, \"value\": -0.917422812336566, \"source\": \"mcmc\"}, {\"idx\": 43, \"row\": 0, \"col\": 4, \"value\": -1.035987820325136, \"source\": \"mcmc\"}, {\"idx\": 44, \"row\": 0, \"col\": 4, \"value\": -0.6581070075049283, \"source\": \"mcmc\"}, {\"idx\": 45, \"row\": 0, \"col\": 4, \"value\": -0.8370446133636491, \"source\": \"mcmc\"}, {\"idx\": 46, \"row\": 0, \"col\": 4, \"value\": -0.8323412890835431, \"source\": \"mcmc\"}, {\"idx\": 47, \"row\": 0, \"col\": 4, \"value\": -1.0583756555180392, \"source\": \"mcmc\"}, {\"idx\": 48, \"row\": 0, \"col\": 4, \"value\": -0.7145838389918753, \"source\": \"mcmc\"}, {\"idx\": 49, \"row\": 0, \"col\": 4, \"value\": -1.2196994515329334, \"source\": \"mcmc\"}, {\"idx\": 50, \"row\": 0, \"col\": 4, \"value\": -0.7678288075773302, \"source\": \"mcmc\"}, {\"idx\": 51, \"row\": 0, \"col\": 4, \"value\": -0.7806465779616583, \"source\": \"mcmc\"}, {\"idx\": 52, \"row\": 0, \"col\": 4, \"value\": -0.7362450855801803, \"source\": \"mcmc\"}, {\"idx\": 53, \"row\": 0, \"col\": 4, \"value\": -0.9885191811797995, \"source\": \"mcmc\"}, {\"idx\": 54, \"row\": 0, \"col\": 4, \"value\": -1.0328728270270386, \"source\": \"mcmc\"}, {\"idx\": 55, \"row\": 0, \"col\": 4, \"value\": -0.8789363512777844, \"source\": \"mcmc\"}, {\"idx\": 56, \"row\": 0, \"col\": 4, \"value\": -0.9895993823035238, \"source\": \"mcmc\"}, {\"idx\": 57, \"row\": 0, \"col\": 4, \"value\": -1.2488739543617773, \"source\": \"mcmc\"}, {\"idx\": 58, \"row\": 0, \"col\": 4, \"value\": -1.3440458778230868, \"source\": \"mcmc\"}, {\"idx\": 59, \"row\": 0, \"col\": 4, \"value\": -0.9107019977858999, \"source\": \"mcmc\"}, {\"idx\": 60, \"row\": 0, \"col\": 4, \"value\": -0.8306772130651382, \"source\": \"mcmc\"}, {\"idx\": 61, \"row\": 0, \"col\": 4, \"value\": -1.135333816129194, \"source\": \"mcmc\"}, {\"idx\": 62, \"row\": 0, \"col\": 4, \"value\": -0.8397694095683524, \"source\": \"mcmc\"}, {\"idx\": 63, \"row\": 0, \"col\": 4, \"value\": -0.47290089320207734, \"source\": \"mcmc\"}, {\"idx\": 64, \"row\": 0, \"col\": 4, \"value\": -0.9576027644374873, \"source\": \"mcmc\"}, {\"idx\": 65, \"row\": 0, \"col\": 4, \"value\": -0.7275956523973416, \"source\": \"mcmc\"}, {\"idx\": 66, \"row\": 0, \"col\": 4, \"value\": -0.8445868089203562, \"source\": \"mcmc\"}, {\"idx\": 67, \"row\": 0, \"col\": 4, \"value\": -0.760971574883725, \"source\": \"mcmc\"}, {\"idx\": 68, \"row\": 0, \"col\": 4, \"value\": -0.9194931270275513, \"source\": \"mcmc\"}, {\"idx\": 69, \"row\": 0, \"col\": 4, \"value\": -1.1539679057424488, \"source\": \"mcmc\"}, {\"idx\": 70, \"row\": 0, \"col\": 4, \"value\": -0.5145135690931849, \"source\": \"mcmc\"}, {\"idx\": 71, \"row\": 0, \"col\": 4, \"value\": -0.8221514511960037, \"source\": \"mcmc\"}, {\"idx\": 72, \"row\": 0, \"col\": 4, \"value\": -0.6382769856508391, \"source\": \"mcmc\"}, {\"idx\": 73, \"row\": 0, \"col\": 4, \"value\": -1.0640820417799866, \"source\": \"mcmc\"}, {\"idx\": 74, \"row\": 0, \"col\": 4, \"value\": -1.0505512762436224, \"source\": \"mcmc\"}, {\"idx\": 75, \"row\": 0, \"col\": 4, \"value\": -0.7778373095761453, \"source\": \"mcmc\"}, {\"idx\": 76, \"row\": 0, \"col\": 4, \"value\": -0.4128009711395008, \"source\": \"mcmc\"}, {\"idx\": 77, \"row\": 0, \"col\": 4, \"value\": -0.7852706118717032, \"source\": \"mcmc\"}, {\"idx\": 78, \"row\": 0, \"col\": 4, \"value\": -1.3111600475645568, \"source\": \"mcmc\"}, {\"idx\": 79, \"row\": 0, \"col\": 4, \"value\": -1.0358092404351247, \"source\": \"mcmc\"}, {\"idx\": 80, \"row\": 0, \"col\": 4, \"value\": -1.3071065013946286, \"source\": \"mcmc\"}, {\"idx\": 81, \"row\": 0, \"col\": 4, \"value\": -1.028370838434146, \"source\": \"mcmc\"}, {\"idx\": 82, \"row\": 0, \"col\": 4, \"value\": -1.200912657163554, \"source\": \"mcmc\"}, {\"idx\": 83, \"row\": 0, \"col\": 4, \"value\": -0.9223529679104308, \"source\": \"mcmc\"}, {\"idx\": 84, \"row\": 0, \"col\": 4, \"value\": -1.3136615340753306, \"source\": \"mcmc\"}, {\"idx\": 85, \"row\": 0, \"col\": 4, \"value\": -0.968324469726293, \"source\": \"mcmc\"}, {\"idx\": 86, \"row\": 0, \"col\": 4, \"value\": -0.7989916550429365, \"source\": \"mcmc\"}, {\"idx\": 87, \"row\": 0, \"col\": 4, \"value\": -1.0628780676750387, \"source\": \"mcmc\"}, {\"idx\": 88, \"row\": 0, \"col\": 4, \"value\": -1.170048545500184, \"source\": \"mcmc\"}, {\"idx\": 89, \"row\": 0, \"col\": 4, \"value\": -0.7515250448646993, \"source\": \"mcmc\"}, {\"idx\": 90, \"row\": 0, \"col\": 4, \"value\": -1.0908562529577996, \"source\": \"mcmc\"}, {\"idx\": 91, \"row\": 0, \"col\": 4, \"value\": -1.1960360454329166, \"source\": \"mcmc\"}, {\"idx\": 92, \"row\": 0, \"col\": 4, \"value\": -0.8947140092868472, \"source\": \"mcmc\"}, {\"idx\": 93, \"row\": 0, \"col\": 4, \"value\": -1.109398622677176, \"source\": \"mcmc\"}, {\"idx\": 94, \"row\": 0, \"col\": 4, \"value\": -0.7175697726099234, \"source\": \"mcmc\"}, {\"idx\": 95, \"row\": 0, \"col\": 4, \"value\": -1.4086576107322655, \"source\": \"mcmc\"}, {\"idx\": 96, \"row\": 0, \"col\": 4, \"value\": -0.7087467776194065, \"source\": \"mcmc\"}, {\"idx\": 97, \"row\": 0, \"col\": 4, \"value\": -0.4683793377824188, \"source\": \"mcmc\"}, {\"idx\": 98, \"row\": 0, \"col\": 4, \"value\": -0.810600211826547, \"source\": \"mcmc\"}, {\"idx\": 99, \"row\": 0, \"col\": 4, \"value\": -0.6547562709891018, \"source\": \"mcmc\"}, {\"idx\": 0, \"row\": 0, \"col\": 5, \"value\": -2.0939520001692005, \"source\": \"mcmc\"}, {\"idx\": 1, \"row\": 0, \"col\": 5, \"value\": -2.286301399425642, \"source\": \"mcmc\"}, {\"idx\": 2, \"row\": 0, \"col\": 5, \"value\": -2.3900672642446423, \"source\": \"mcmc\"}, {\"idx\": 3, \"row\": 0, \"col\": 5, \"value\": -2.230314480763657, \"source\": \"mcmc\"}, {\"idx\": 4, \"row\": 0, \"col\": 5, \"value\": -1.8538385256035053, \"source\": \"mcmc\"}, {\"idx\": 5, \"row\": 0, \"col\": 5, \"value\": -2.0621116816515426, \"source\": \"mcmc\"}, {\"idx\": 6, \"row\": 0, \"col\": 5, \"value\": -2.7294349457107443, \"source\": \"mcmc\"}, {\"idx\": 7, \"row\": 0, \"col\": 5, \"value\": -3.0842452235086135, \"source\": \"mcmc\"}, {\"idx\": 8, \"row\": 0, \"col\": 5, \"value\": -2.2542502243385574, \"source\": \"mcmc\"}, {\"idx\": 9, \"row\": 0, \"col\": 5, \"value\": -2.38489062144289, \"source\": \"mcmc\"}, {\"idx\": 10, \"row\": 0, \"col\": 5, \"value\": -2.5403572573839255, \"source\": \"mcmc\"}, {\"idx\": 11, \"row\": 0, \"col\": 5, \"value\": -3.219920457040712, \"source\": \"mcmc\"}, {\"idx\": 12, \"row\": 0, \"col\": 5, \"value\": -2.1360209266834005, \"source\": \"mcmc\"}, {\"idx\": 13, \"row\": 0, \"col\": 5, \"value\": -1.9896479327364238, \"source\": \"mcmc\"}, {\"idx\": 14, \"row\": 0, \"col\": 5, \"value\": -2.6417959875765953, \"source\": \"mcmc\"}, {\"idx\": 15, \"row\": 0, \"col\": 5, \"value\": -1.8937736836084818, \"source\": \"mcmc\"}, {\"idx\": 16, \"row\": 0, \"col\": 5, \"value\": -1.8079844552072108, \"source\": \"mcmc\"}, {\"idx\": 17, \"row\": 0, \"col\": 5, \"value\": -2.4489879130809578, \"source\": \"mcmc\"}, {\"idx\": 18, \"row\": 0, \"col\": 5, \"value\": -2.692603949178218, \"source\": \"mcmc\"}, {\"idx\": 19, \"row\": 0, \"col\": 5, \"value\": -2.8308043273928716, \"source\": \"mcmc\"}, {\"idx\": 20, \"row\": 0, \"col\": 5, \"value\": -2.4774713546223937, \"source\": \"mcmc\"}, {\"idx\": 21, \"row\": 0, \"col\": 5, \"value\": -2.318072881982127, \"source\": \"mcmc\"}, {\"idx\": 22, \"row\": 0, \"col\": 5, \"value\": -1.9279050822564767, \"source\": \"mcmc\"}, {\"idx\": 23, \"row\": 0, \"col\": 5, \"value\": -1.9555534390965426, \"source\": \"mcmc\"}, {\"idx\": 24, \"row\": 0, \"col\": 5, \"value\": -2.7094309386287376, \"source\": \"mcmc\"}, {\"idx\": 25, \"row\": 0, \"col\": 5, \"value\": -2.1548438202695332, \"source\": \"mcmc\"}, {\"idx\": 26, \"row\": 0, \"col\": 5, \"value\": -1.8300900762913754, \"source\": \"mcmc\"}, {\"idx\": 27, \"row\": 0, \"col\": 5, \"value\": -2.2447059345257987, \"source\": \"mcmc\"}, {\"idx\": 28, \"row\": 0, \"col\": 5, \"value\": -2.1547268468088348, \"source\": \"mcmc\"}, {\"idx\": 29, \"row\": 0, \"col\": 5, \"value\": -2.0220113331741194, \"source\": \"mcmc\"}, {\"idx\": 30, \"row\": 0, \"col\": 5, \"value\": -2.5277570948153727, \"source\": \"mcmc\"}, {\"idx\": 31, \"row\": 0, \"col\": 5, \"value\": -2.1287168215039176, \"source\": \"mcmc\"}, {\"idx\": 32, \"row\": 0, \"col\": 5, \"value\": -1.9842166559300651, \"source\": \"mcmc\"}, {\"idx\": 33, \"row\": 0, \"col\": 5, \"value\": -2.4040806233886007, \"source\": \"mcmc\"}, {\"idx\": 34, \"row\": 0, \"col\": 5, \"value\": -2.369653634578876, \"source\": \"mcmc\"}, {\"idx\": 35, \"row\": 0, \"col\": 5, \"value\": -2.456911652040055, \"source\": \"mcmc\"}, {\"idx\": 36, \"row\": 0, \"col\": 5, \"value\": -2.309532890639961, \"source\": \"mcmc\"}, {\"idx\": 37, \"row\": 0, \"col\": 5, \"value\": -2.1477338548844296, \"source\": \"mcmc\"}, {\"idx\": 38, \"row\": 0, \"col\": 5, \"value\": -2.0670271755027696, \"source\": \"mcmc\"}, {\"idx\": 39, \"row\": 0, \"col\": 5, \"value\": -2.116545167313353, \"source\": \"mcmc\"}, {\"idx\": 40, \"row\": 0, \"col\": 5, \"value\": -2.3242669224483206, \"source\": \"mcmc\"}, {\"idx\": 41, \"row\": 0, \"col\": 5, \"value\": -1.9003152520934505, \"source\": \"mcmc\"}, {\"idx\": 42, \"row\": 0, \"col\": 5, \"value\": -2.0444760416242076, \"source\": \"mcmc\"}, {\"idx\": 43, \"row\": 0, \"col\": 5, \"value\": -2.1612375443308385, \"source\": \"mcmc\"}, {\"idx\": 44, \"row\": 0, \"col\": 5, \"value\": -2.002273328571085, \"source\": \"mcmc\"}, {\"idx\": 45, \"row\": 0, \"col\": 5, \"value\": -2.293962646385561, \"source\": \"mcmc\"}, {\"idx\": 46, \"row\": 0, \"col\": 5, \"value\": -1.777818298214392, \"source\": \"mcmc\"}, {\"idx\": 47, \"row\": 0, \"col\": 5, \"value\": -2.7311241204850187, \"source\": \"mcmc\"}, {\"idx\": 48, \"row\": 0, \"col\": 5, \"value\": -2.3939654247256135, \"source\": \"mcmc\"}, {\"idx\": 49, \"row\": 0, \"col\": 5, \"value\": -2.4269597636094655, \"source\": \"mcmc\"}, {\"idx\": 50, \"row\": 0, \"col\": 5, \"value\": -2.349448730734565, \"source\": \"mcmc\"}, {\"idx\": 51, \"row\": 0, \"col\": 5, \"value\": -1.9608142144892713, \"source\": \"mcmc\"}, {\"idx\": 52, \"row\": 0, \"col\": 5, \"value\": -2.3506434555544624, \"source\": \"mcmc\"}, {\"idx\": 53, \"row\": 0, \"col\": 5, \"value\": -2.2023534357534382, \"source\": \"mcmc\"}, {\"idx\": 54, \"row\": 0, \"col\": 5, \"value\": -2.0778936244894735, \"source\": \"mcmc\"}, {\"idx\": 55, \"row\": 0, \"col\": 5, \"value\": -1.9643872866740528, \"source\": \"mcmc\"}, {\"idx\": 56, \"row\": 0, \"col\": 5, \"value\": -2.0661339229833673, \"source\": \"mcmc\"}, {\"idx\": 57, \"row\": 0, \"col\": 5, \"value\": -2.20668254481071, \"source\": \"mcmc\"}, {\"idx\": 58, \"row\": 0, \"col\": 5, \"value\": -2.687115346373401, \"source\": \"mcmc\"}, {\"idx\": 59, \"row\": 0, \"col\": 5, \"value\": -2.8420718104512557, \"source\": \"mcmc\"}, {\"idx\": 60, \"row\": 0, \"col\": 5, \"value\": -2.692719013326627, \"source\": \"mcmc\"}, {\"idx\": 61, \"row\": 0, \"col\": 5, \"value\": -2.6152004824469177, \"source\": \"mcmc\"}, {\"idx\": 62, \"row\": 0, \"col\": 5, \"value\": -2.690594300823398, \"source\": \"mcmc\"}, {\"idx\": 63, \"row\": 0, \"col\": 5, \"value\": -2.269676627959578, \"source\": \"mcmc\"}, {\"idx\": 64, \"row\": 0, \"col\": 5, \"value\": -2.404253051421627, \"source\": \"mcmc\"}, {\"idx\": 65, \"row\": 0, \"col\": 5, \"value\": -2.273174075073468, \"source\": \"mcmc\"}, {\"idx\": 66, \"row\": 0, \"col\": 5, \"value\": -1.9400819744204947, \"source\": \"mcmc\"}, {\"idx\": 67, \"row\": 0, \"col\": 5, \"value\": -1.5612009042650696, \"source\": \"mcmc\"}, {\"idx\": 68, \"row\": 0, \"col\": 5, \"value\": -2.1609676727768967, \"source\": \"mcmc\"}, {\"idx\": 69, \"row\": 0, \"col\": 5, \"value\": -2.5575348787880157, \"source\": \"mcmc\"}, {\"idx\": 70, \"row\": 0, \"col\": 5, \"value\": -1.6161573949211618, \"source\": \"mcmc\"}, {\"idx\": 71, \"row\": 0, \"col\": 5, \"value\": -2.0040382912291324, \"source\": \"mcmc\"}, {\"idx\": 72, \"row\": 0, \"col\": 5, \"value\": -2.563676192623748, \"source\": \"mcmc\"}, {\"idx\": 73, \"row\": 0, \"col\": 5, \"value\": -1.8047119909921356, \"source\": \"mcmc\"}, {\"idx\": 74, \"row\": 0, \"col\": 5, \"value\": -2.5918447338961457, \"source\": \"mcmc\"}, {\"idx\": 75, \"row\": 0, \"col\": 5, \"value\": -2.186299889596684, \"source\": \"mcmc\"}, {\"idx\": 76, \"row\": 0, \"col\": 5, \"value\": -2.05672118699344, \"source\": \"mcmc\"}, {\"idx\": 77, \"row\": 0, \"col\": 5, \"value\": -1.932126080486848, \"source\": \"mcmc\"}, {\"idx\": 78, \"row\": 0, \"col\": 5, \"value\": -2.4568640556581895, \"source\": \"mcmc\"}, {\"idx\": 79, \"row\": 0, \"col\": 5, \"value\": -2.1808786846358035, \"source\": \"mcmc\"}, {\"idx\": 80, \"row\": 0, \"col\": 5, \"value\": -1.904206105890116, \"source\": \"mcmc\"}, {\"idx\": 81, \"row\": 0, \"col\": 5, \"value\": -1.5266248319325635, \"source\": \"mcmc\"}, {\"idx\": 82, \"row\": 0, \"col\": 5, \"value\": -2.642646432959613, \"source\": \"mcmc\"}, {\"idx\": 83, \"row\": 0, \"col\": 5, \"value\": -1.858693506225808, \"source\": \"mcmc\"}, {\"idx\": 84, \"row\": 0, \"col\": 5, \"value\": -2.0655823898546126, \"source\": \"mcmc\"}, {\"idx\": 85, \"row\": 0, \"col\": 5, \"value\": -2.148322564684344, \"source\": \"mcmc\"}, {\"idx\": 86, \"row\": 0, \"col\": 5, \"value\": -2.4265857206313193, \"source\": \"mcmc\"}, {\"idx\": 87, \"row\": 0, \"col\": 5, \"value\": -2.5565740556230665, \"source\": \"mcmc\"}, {\"idx\": 88, \"row\": 0, \"col\": 5, \"value\": -2.106091741925771, \"source\": \"mcmc\"}, {\"idx\": 89, \"row\": 0, \"col\": 5, \"value\": -2.1208170570585048, \"source\": \"mcmc\"}, {\"idx\": 90, \"row\": 0, \"col\": 5, \"value\": -2.864532563215154, \"source\": \"mcmc\"}, {\"idx\": 91, \"row\": 0, \"col\": 5, \"value\": -1.8920978399550128, \"source\": \"mcmc\"}, {\"idx\": 92, \"row\": 0, \"col\": 5, \"value\": -2.234428653729012, \"source\": \"mcmc\"}, {\"idx\": 93, \"row\": 0, \"col\": 5, \"value\": -2.227246285986994, \"source\": \"mcmc\"}, {\"idx\": 94, \"row\": 0, \"col\": 5, \"value\": -2.4157407743703105, \"source\": \"mcmc\"}, {\"idx\": 95, \"row\": 0, \"col\": 5, \"value\": -2.9154773480465157, \"source\": \"mcmc\"}, {\"idx\": 96, \"row\": 0, \"col\": 5, \"value\": -2.4706374878565898, \"source\": \"mcmc\"}, {\"idx\": 97, \"row\": 0, \"col\": 5, \"value\": -2.5499036905215235, \"source\": \"mcmc\"}, {\"idx\": 98, \"row\": 0, \"col\": 5, \"value\": -1.746908866234107, \"source\": \"mcmc\"}, {\"idx\": 99, \"row\": 0, \"col\": 5, \"value\": -2.3891108122010083, \"source\": \"mcmc\"}, {\"idx\": 0, \"row\": 0, \"col\": 0, \"value\": -2.7976411330298037, \"source\": \"smc2\"}, {\"idx\": 1, \"row\": 0, \"col\": 0, \"value\": -3.3684852330985304, \"source\": \"smc2\"}, {\"idx\": 2, \"row\": 0, \"col\": 0, \"value\": -1.4562753207223784, \"source\": \"smc2\"}, {\"idx\": 3, \"row\": 0, \"col\": 0, \"value\": -6.337162310512831, \"source\": \"smc2\"}, {\"idx\": 4, \"row\": 0, \"col\": 0, \"value\": -1.3472234223052797, \"source\": \"smc2\"}, {\"idx\": 5, \"row\": 0, \"col\": 0, \"value\": -3.0974218536744202, \"source\": \"smc2\"}, {\"idx\": 6, \"row\": 0, \"col\": 0, \"value\": -0.849017578377991, \"source\": \"smc2\"}, {\"idx\": 7, \"row\": 0, \"col\": 0, \"value\": -1.5552590961206927, \"source\": \"smc2\"}, {\"idx\": 8, \"row\": 0, \"col\": 0, \"value\": -2.2773844616209953, \"source\": \"smc2\"}, {\"idx\": 9, \"row\": 0, \"col\": 0, \"value\": -5.27616275038258, \"source\": \"smc2\"}, {\"idx\": 0, \"row\": 0, \"col\": 1, \"value\": 4.741232850022806, \"source\": \"smc2\"}, {\"idx\": 1, \"row\": 0, \"col\": 1, \"value\": 2.7011099707261934, \"source\": \"smc2\"}, {\"idx\": 2, \"row\": 0, \"col\": 1, \"value\": -0.29149014982689336, \"source\": \"smc2\"}, {\"idx\": 3, \"row\": 0, \"col\": 1, \"value\": 3.738431981189179, \"source\": \"smc2\"}, {\"idx\": 4, \"row\": 0, \"col\": 1, \"value\": 2.360367741397922, \"source\": \"smc2\"}, {\"idx\": 5, \"row\": 0, \"col\": 1, \"value\": 3.616372190760578, \"source\": \"smc2\"}, {\"idx\": 6, \"row\": 0, \"col\": 1, \"value\": 1.3234244097664805, \"source\": \"smc2\"}, {\"idx\": 7, \"row\": 0, \"col\": 1, \"value\": 1.2135713285424634, \"source\": \"smc2\"}, {\"idx\": 8, \"row\": 0, \"col\": 1, \"value\": 2.545639767302283, \"source\": \"smc2\"}, {\"idx\": 9, \"row\": 0, \"col\": 1, \"value\": -0.38637768971121816, \"source\": \"smc2\"}, {\"idx\": 0, \"row\": 0, \"col\": 2, \"value\": -2.045536262077776, \"source\": \"smc2\"}, {\"idx\": 1, \"row\": 0, \"col\": 2, \"value\": -1.781868676041357, \"source\": \"smc2\"}, {\"idx\": 2, \"row\": 0, \"col\": 2, \"value\": -1.265423082215932, \"source\": \"smc2\"}, {\"idx\": 3, \"row\": 0, \"col\": 2, \"value\": -3.5348201098896417, \"source\": \"smc2\"}, {\"idx\": 4, \"row\": 0, \"col\": 2, \"value\": -1.0682358446699203, \"source\": \"smc2\"}, {\"idx\": 5, \"row\": 0, \"col\": 2, \"value\": -2.831401136330454, \"source\": \"smc2\"}, {\"idx\": 6, \"row\": 0, \"col\": 2, \"value\": -2.3322281973157284, \"source\": \"smc2\"}, {\"idx\": 7, \"row\": 0, \"col\": 2, \"value\": -0.6928603605018119, \"source\": \"smc2\"}, {\"idx\": 8, \"row\": 0, \"col\": 2, \"value\": -3.8984651380576087, \"source\": \"smc2\"}, {\"idx\": 9, \"row\": 0, \"col\": 2, \"value\": -4.277987002579409, \"source\": \"smc2\"}, {\"idx\": 0, \"row\": 0, \"col\": 3, \"value\": -1.7515403477268792, \"source\": \"smc2\"}, {\"idx\": 1, \"row\": 0, \"col\": 3, \"value\": 0.5325556105087239, \"source\": \"smc2\"}, {\"idx\": 2, \"row\": 0, \"col\": 3, \"value\": -0.32293977991450273, \"source\": \"smc2\"}, {\"idx\": 3, \"row\": 0, \"col\": 3, \"value\": -3.9424916128819083, \"source\": \"smc2\"}, {\"idx\": 4, \"row\": 0, \"col\": 3, \"value\": -3.9012116626933655, \"source\": \"smc2\"}, {\"idx\": 5, \"row\": 0, \"col\": 3, \"value\": -3.2083049100419125, \"source\": \"smc2\"}, {\"idx\": 6, \"row\": 0, \"col\": 3, \"value\": -2.0356593195993784, \"source\": \"smc2\"}, {\"idx\": 7, \"row\": 0, \"col\": 3, \"value\": -0.029112145045985638, \"source\": \"smc2\"}, {\"idx\": 8, \"row\": 0, \"col\": 3, \"value\": -1.0648380157570443, \"source\": \"smc2\"}, {\"idx\": 9, \"row\": 0, \"col\": 3, \"value\": -1.4221373919223579, \"source\": \"smc2\"}, {\"idx\": 0, \"row\": 0, \"col\": 4, \"value\": 1.940113372080682, \"source\": \"smc2\"}, {\"idx\": 1, \"row\": 0, \"col\": 4, \"value\": -1.6546788203738525, \"source\": \"smc2\"}, {\"idx\": 2, \"row\": 0, \"col\": 4, \"value\": 1.1550269392115178, \"source\": \"smc2\"}, {\"idx\": 3, \"row\": 0, \"col\": 4, \"value\": -2.208116108798873, \"source\": \"smc2\"}, {\"idx\": 4, \"row\": 0, \"col\": 4, \"value\": 0.6569259351615095, \"source\": \"smc2\"}, {\"idx\": 5, \"row\": 0, \"col\": 4, \"value\": 1.8243883477826626, \"source\": \"smc2\"}, {\"idx\": 6, \"row\": 0, \"col\": 4, \"value\": 1.0635609810867865, \"source\": \"smc2\"}, {\"idx\": 7, \"row\": 0, \"col\": 4, \"value\": 0.09550867812726596, \"source\": \"smc2\"}, {\"idx\": 8, \"row\": 0, \"col\": 4, \"value\": -1.0463343208152334, \"source\": \"smc2\"}, {\"idx\": 9, \"row\": 0, \"col\": 4, \"value\": 1.241998417089079, \"source\": \"smc2\"}, {\"idx\": 0, \"row\": 0, \"col\": 5, \"value\": -6.418611654369157, \"source\": \"smc2\"}, {\"idx\": 1, \"row\": 0, \"col\": 5, \"value\": -8.249805259523756, \"source\": \"smc2\"}, {\"idx\": 2, \"row\": 0, \"col\": 5, \"value\": -5.460548472592393, \"source\": \"smc2\"}, {\"idx\": 3, \"row\": 0, \"col\": 5, \"value\": -13.501136495290359, \"source\": \"smc2\"}, {\"idx\": 4, \"row\": 0, \"col\": 5, \"value\": -5.65121062444875, \"source\": \"smc2\"}, {\"idx\": 5, \"row\": 0, \"col\": 5, \"value\": -8.659734866143829, \"source\": \"smc2\"}, {\"idx\": 6, \"row\": 0, \"col\": 5, \"value\": -18.75376419057694, \"source\": \"smc2\"}, {\"idx\": 7, \"row\": 0, \"col\": 5, \"value\": -2.639351700022553, \"source\": \"smc2\"}, {\"idx\": 8, \"row\": 0, \"col\": 5, \"value\": -11.777862774124435, \"source\": \"smc2\"}, {\"idx\": 9, \"row\": 0, \"col\": 5, \"value\": -6.476338654897727, \"source\": \"smc2\"}]}}, {\"mode\": \"vega-lite\"});\n",
       "</script>"
      ],
      "text/plain": [
       "alt.Chart(...)"
      ]
     },
     "execution_count": 15,
     "metadata": {},
     "output_type": "execute_result"
    }
   ],
   "source": [
    "param = 'alpha'\n",
    "df = get_post_df(ps_mcmc[param]) \n",
    "df['source'] = 'mcmc'\n",
    "\n",
    "\n",
    "df3 = get_post_df(ps_smc2[param]) \n",
    "df3['source'] = 'smc2'\n",
    "\n",
    "plot_density(pd.concat([df, df3]), height=100)"
   ]
  },
  {
   "cell_type": "markdown",
   "metadata": {},
   "source": [
    "## Plot quantiles"
   ]
  },
  {
   "cell_type": "code",
   "execution_count": 16,
   "metadata": {},
   "outputs": [
    {
     "data": {
      "text/html": [
       "\n",
       "<div id=\"altair-viz-3130d00f06ea436a91692f4fcf5b2f91\"></div>\n",
       "<script type=\"text/javascript\">\n",
       "  (function(spec, embedOpt){\n",
       "    let outputDiv = document.currentScript.previousElementSibling;\n",
       "    if (outputDiv.id !== \"altair-viz-3130d00f06ea436a91692f4fcf5b2f91\") {\n",
       "      outputDiv = document.getElementById(\"altair-viz-3130d00f06ea436a91692f4fcf5b2f91\");\n",
       "    }\n",
       "    const paths = {\n",
       "      \"vega\": \"https://cdn.jsdelivr.net/npm//vega@5?noext\",\n",
       "      \"vega-lib\": \"https://cdn.jsdelivr.net/npm//vega-lib?noext\",\n",
       "      \"vega-lite\": \"https://cdn.jsdelivr.net/npm//vega-lite@4.8.1?noext\",\n",
       "      \"vega-embed\": \"https://cdn.jsdelivr.net/npm//vega-embed@6?noext\",\n",
       "    };\n",
       "\n",
       "    function loadScript(lib) {\n",
       "      return new Promise(function(resolve, reject) {\n",
       "        var s = document.createElement('script');\n",
       "        s.src = paths[lib];\n",
       "        s.async = true;\n",
       "        s.onload = () => resolve(paths[lib]);\n",
       "        s.onerror = () => reject(`Error loading script: ${paths[lib]}`);\n",
       "        document.getElementsByTagName(\"head\")[0].appendChild(s);\n",
       "      });\n",
       "    }\n",
       "\n",
       "    function showError(err) {\n",
       "      outputDiv.innerHTML = `<div class=\"error\" style=\"color:red;\">${err}</div>`;\n",
       "      throw err;\n",
       "    }\n",
       "\n",
       "    function displayChart(vegaEmbed) {\n",
       "      vegaEmbed(outputDiv, spec, embedOpt)\n",
       "        .catch(err => showError(`Javascript Error: ${err.message}<br>This usually means there's a typo in your chart specification. See the javascript console for the full traceback.`));\n",
       "    }\n",
       "\n",
       "    if(typeof define === \"function\" && define.amd) {\n",
       "      requirejs.config({paths});\n",
       "      require([\"vega-embed\"], displayChart, err => showError(`Error loading script: ${err.message}`));\n",
       "    } else if (typeof vegaEmbed === \"function\") {\n",
       "      displayChart(vegaEmbed);\n",
       "    } else {\n",
       "      loadScript(\"vega\")\n",
       "        .then(() => loadScript(\"vega-lite\"))\n",
       "        .then(() => loadScript(\"vega-embed\"))\n",
       "        .catch(showError)\n",
       "        .then(() => displayChart(vegaEmbed));\n",
       "    }\n",
       "  })({\"config\": {\"view\": {\"continuousWidth\": 400, \"continuousHeight\": 300}}, \"data\": {\"name\": \"data-f472f9f2e569cc9a0dff1c83b802cbb9\"}, \"mark\": {\"type\": \"bar\", \"opacity\": 0.6}, \"encoding\": {\"color\": {\"type\": \"nominal\", \"field\": \"source\"}, \"column\": {\"type\": \"quantitative\", \"field\": \"col\"}, \"row\": {\"type\": \"quantitative\", \"field\": \"row\"}, \"x\": {\"type\": \"quantitative\", \"field\": \"q1\", \"title\": null}, \"x2\": {\"field\": \"q2\", \"title\": null}}, \"$schema\": \"https://vega.github.io/schema/vega-lite/v4.8.1.json\", \"datasets\": {\"data-f472f9f2e569cc9a0dff1c83b802cbb9\": [{\"row\": 0, \"col\": 0, \"q1\": 0.27717296375620865, \"q2\": 3.4198449202510703, \"source\": \"smc2\"}]}}, {\"mode\": \"vega-lite\"});\n",
       "</script>"
      ],
      "text/plain": [
       "alt.Chart(...)"
      ]
     },
     "execution_count": 16,
     "metadata": {},
     "output_type": "execute_result"
    }
   ],
   "source": [
    "param = 'beta'\n",
    "df = get_post_df(ps_smc2[param])\n",
    "df_quant = df.groupby(['row', 'col'])[['value']].quantile(0.025).reset_index()\n",
    "df_quant.rename({'value':'q1'}, axis=1, inplace=True)\n",
    "df_quant2 = df.groupby(['row', 'col'])[['value']].quantile(0.975).reset_index()\n",
    "df_quant2.rename({'value':'q2'}, axis=1, inplace=True)\n",
    "\n",
    "df = df_quant.merge(df_quant2, on=['row', 'col'])\n",
    "\n",
    "# simple quantile chart\n",
    "df['source'] = 'smc2'\n",
    "c1 = alt.Chart(df[df.row==0]).mark_bar(opacity=0.6).encode(\n",
    "        alt.X('q1', title=None),\n",
    "        alt.X2('q2', title=None),\n",
    "        alt.Row('row'),\n",
    "        alt.Column('col'),\n",
    "        alt.Color('source')\n",
    ")\n",
    "c1"
   ]
  },
  {
   "cell_type": "markdown",
   "metadata": {},
   "source": [
    "## chart overlaying quantiles with real data"
   ]
  },
  {
   "cell_type": "code",
   "execution_count": 17,
   "metadata": {},
   "outputs": [],
   "source": [
    "df['index'] = 'r_' + df.row.astype(str)+'.c_'+df.col.astype(str)\n",
    "df = df.loc[:,['index', 'q1', 'q2']]\n",
    "df['source'] = 'smc2'\n",
    "dd = pd.DataFrame(exp_data1.raw_data['beta'], columns=['data'])\n",
    "dd['col'] = 0\n",
    "dd['row'] = np.arange(6)\n",
    "dd['index'] = 'r_' + dd.row.astype(str)+'.c_'+dd.col.astype(str)\n",
    "dd = dd.loc[:,['index', 'data']]\n",
    "plot_data = df.merge(dd, on=['index'])"
   ]
  },
  {
   "cell_type": "code",
   "execution_count": 18,
   "metadata": {
    "scrolled": false
   },
   "outputs": [
    {
     "data": {
      "text/html": [
       "\n",
       "<div id=\"altair-viz-9af7ee1313ee4895b5779d5a696010b6\"></div>\n",
       "<script type=\"text/javascript\">\n",
       "  (function(spec, embedOpt){\n",
       "    let outputDiv = document.currentScript.previousElementSibling;\n",
       "    if (outputDiv.id !== \"altair-viz-9af7ee1313ee4895b5779d5a696010b6\") {\n",
       "      outputDiv = document.getElementById(\"altair-viz-9af7ee1313ee4895b5779d5a696010b6\");\n",
       "    }\n",
       "    const paths = {\n",
       "      \"vega\": \"https://cdn.jsdelivr.net/npm//vega@5?noext\",\n",
       "      \"vega-lib\": \"https://cdn.jsdelivr.net/npm//vega-lib?noext\",\n",
       "      \"vega-lite\": \"https://cdn.jsdelivr.net/npm//vega-lite@4.8.1?noext\",\n",
       "      \"vega-embed\": \"https://cdn.jsdelivr.net/npm//vega-embed@6?noext\",\n",
       "    };\n",
       "\n",
       "    function loadScript(lib) {\n",
       "      return new Promise(function(resolve, reject) {\n",
       "        var s = document.createElement('script');\n",
       "        s.src = paths[lib];\n",
       "        s.async = true;\n",
       "        s.onload = () => resolve(paths[lib]);\n",
       "        s.onerror = () => reject(`Error loading script: ${paths[lib]}`);\n",
       "        document.getElementsByTagName(\"head\")[0].appendChild(s);\n",
       "      });\n",
       "    }\n",
       "\n",
       "    function showError(err) {\n",
       "      outputDiv.innerHTML = `<div class=\"error\" style=\"color:red;\">${err}</div>`;\n",
       "      throw err;\n",
       "    }\n",
       "\n",
       "    function displayChart(vegaEmbed) {\n",
       "      vegaEmbed(outputDiv, spec, embedOpt)\n",
       "        .catch(err => showError(`Javascript Error: ${err.message}<br>This usually means there's a typo in your chart specification. See the javascript console for the full traceback.`));\n",
       "    }\n",
       "\n",
       "    if(typeof define === \"function\" && define.amd) {\n",
       "      requirejs.config({paths});\n",
       "      require([\"vega-embed\"], displayChart, err => showError(`Error loading script: ${err.message}`));\n",
       "    } else if (typeof vegaEmbed === \"function\") {\n",
       "      displayChart(vegaEmbed);\n",
       "    } else {\n",
       "      loadScript(\"vega\")\n",
       "        .then(() => loadScript(\"vega-lite\"))\n",
       "        .then(() => loadScript(\"vega-embed\"))\n",
       "        .catch(showError)\n",
       "        .then(() => displayChart(vegaEmbed));\n",
       "    }\n",
       "  })({\"config\": {\"view\": {\"continuousWidth\": 400, \"continuousHeight\": 300}}, \"data\": {\"name\": \"data-6bcb3082c0a6830983d65b4226106f9a\"}, \"facet\": {\"type\": \"nominal\", \"field\": \"index\"}, \"spec\": {\"layer\": [{\"mark\": {\"type\": \"bar\", \"opacity\": 0.6}, \"encoding\": {\"color\": {\"type\": \"nominal\", \"field\": \"source\"}, \"x\": {\"type\": \"quantitative\", \"field\": \"q1\", \"scale\": {\"domain\": [-2, 2]}, \"title\": null}, \"x2\": {\"field\": \"q2\", \"title\": null}}}, {\"mark\": {\"type\": \"point\", \"color\": \"red\", \"opacity\": 1}, \"encoding\": {\"x\": {\"type\": \"quantitative\", \"field\": \"data\", \"title\": null}}}]}, \"columns\": 1, \"$schema\": \"https://vega.github.io/schema/vega-lite/v4.8.1.json\", \"datasets\": {\"data-6bcb3082c0a6830983d65b4226106f9a\": [{\"index\": \"r_0.c_0\", \"q1\": 0.27717296375620865, \"q2\": 3.4198449202510703, \"source\": \"smc2\", \"data\": 1.0}]}}, {\"mode\": \"vega-lite\"});\n",
       "</script>"
      ],
      "text/plain": [
       "alt.FacetChart(...)"
      ]
     },
     "execution_count": 18,
     "metadata": {},
     "output_type": "execute_result"
    }
   ],
   "source": [
    "plot_data = plot_data[plot_data['index']=='r_0.c_0']\n",
    "\n",
    "c1 = alt.Chart(plot_data).mark_bar(opacity=0.6).encode(\n",
    "    alt.X('q1', title=None,  scale=alt.Scale(domain=[-2,2])),\n",
    "    alt.X2('q2', title=None),\n",
    "    alt.Color('source'),    \n",
    ")\n",
    "    \n",
    "\n",
    "c2 = alt.Chart(plot_data).mark_point(opacity=1, color='red').encode(\n",
    "        alt.X('data', title=None),\n",
    ")\n",
    "(c1+c2).facet(\n",
    "       'index',\n",
    "    columns=1\n",
    "    )\n"
   ]
  },
  {
   "cell_type": "markdown",
   "metadata": {},
   "source": [
    "\n",
    "## chart overlaying quantiles with real data"
   ]
  },
  {
   "cell_type": "code",
   "execution_count": 19,
   "metadata": {},
   "outputs": [
    {
     "data": {
      "text/html": [
       "\n",
       "<div id=\"altair-viz-083b7460a1794351b6f0564386fde25d\"></div>\n",
       "<script type=\"text/javascript\">\n",
       "  (function(spec, embedOpt){\n",
       "    let outputDiv = document.currentScript.previousElementSibling;\n",
       "    if (outputDiv.id !== \"altair-viz-083b7460a1794351b6f0564386fde25d\") {\n",
       "      outputDiv = document.getElementById(\"altair-viz-083b7460a1794351b6f0564386fde25d\");\n",
       "    }\n",
       "    const paths = {\n",
       "      \"vega\": \"https://cdn.jsdelivr.net/npm//vega@5?noext\",\n",
       "      \"vega-lib\": \"https://cdn.jsdelivr.net/npm//vega-lib?noext\",\n",
       "      \"vega-lite\": \"https://cdn.jsdelivr.net/npm//vega-lite@4.8.1?noext\",\n",
       "      \"vega-embed\": \"https://cdn.jsdelivr.net/npm//vega-embed@6?noext\",\n",
       "    };\n",
       "\n",
       "    function loadScript(lib) {\n",
       "      return new Promise(function(resolve, reject) {\n",
       "        var s = document.createElement('script');\n",
       "        s.src = paths[lib];\n",
       "        s.async = true;\n",
       "        s.onload = () => resolve(paths[lib]);\n",
       "        s.onerror = () => reject(`Error loading script: ${paths[lib]}`);\n",
       "        document.getElementsByTagName(\"head\")[0].appendChild(s);\n",
       "      });\n",
       "    }\n",
       "\n",
       "    function showError(err) {\n",
       "      outputDiv.innerHTML = `<div class=\"error\" style=\"color:red;\">${err}</div>`;\n",
       "      throw err;\n",
       "    }\n",
       "\n",
       "    function displayChart(vegaEmbed) {\n",
       "      vegaEmbed(outputDiv, spec, embedOpt)\n",
       "        .catch(err => showError(`Javascript Error: ${err.message}<br>This usually means there's a typo in your chart specification. See the javascript console for the full traceback.`));\n",
       "    }\n",
       "\n",
       "    if(typeof define === \"function\" && define.amd) {\n",
       "      requirejs.config({paths});\n",
       "      require([\"vega-embed\"], displayChart, err => showError(`Error loading script: ${err.message}`));\n",
       "    } else if (typeof vegaEmbed === \"function\") {\n",
       "      displayChart(vegaEmbed);\n",
       "    } else {\n",
       "      loadScript(\"vega\")\n",
       "        .then(() => loadScript(\"vega-lite\"))\n",
       "        .then(() => loadScript(\"vega-embed\"))\n",
       "        .catch(showError)\n",
       "        .then(() => displayChart(vegaEmbed));\n",
       "    }\n",
       "  })({\"config\": {\"view\": {\"continuousWidth\": 400, \"continuousHeight\": 300}}, \"data\": {\"name\": \"data-7b68a1556be48948a4b91af63e6df861\"}, \"mark\": {\"type\": \"bar\", \"opacity\": 0.6}, \"encoding\": {\"color\": {\"type\": \"nominal\", \"field\": \"source\"}, \"column\": {\"type\": \"quantitative\", \"field\": \"col\"}, \"row\": {\"type\": \"quantitative\", \"field\": \"row\"}, \"x\": {\"type\": \"quantitative\", \"field\": \"q1\", \"title\": null}, \"x2\": {\"field\": \"q2\", \"title\": null}}, \"$schema\": \"https://vega.github.io/schema/vega-lite/v4.8.1.json\", \"datasets\": {\"data-7b68a1556be48948a4b91af63e6df861\": [{\"row\": 0, \"col\": 0, \"q1\": -6.098437409483524, \"q2\": -0.9611138932616308, \"source\": \"smc2\"}, {\"row\": 0, \"col\": 1, \"q1\": -0.3650279932372451, \"q2\": 4.515602654535241, \"source\": \"smc2\"}, {\"row\": 0, \"col\": 2, \"q1\": -4.192594583062004, \"q2\": -0.7773198444396361, \"source\": \"smc2\"}, {\"row\": 0, \"col\": 3, \"q1\": -3.933203624089486, \"q2\": 0.4061803655089145, \"source\": \"smc2\"}, {\"row\": 0, \"col\": 4, \"q1\": -2.0835927189032435, \"q2\": 1.9140752416136277, \"source\": \"smc2\"}, {\"row\": 0, \"col\": 5, \"q1\": -17.57192295913746, \"q2\": -3.2741209738507657, \"source\": \"smc2\"}]}}, {\"mode\": \"vega-lite\"});\n",
       "</script>"
      ],
      "text/plain": [
       "alt.Chart(...)"
      ]
     },
     "execution_count": 19,
     "metadata": {},
     "output_type": "execute_result"
    }
   ],
   "source": [
    "param = 'alpha'\n",
    "df = get_post_df(ps_smc2[param])\n",
    "df_quant = df.groupby(['row', 'col'])[['value']].quantile(0.025).reset_index()\n",
    "df_quant.rename({'value':'q1'}, axis=1, inplace=True)\n",
    "df_quant2 = df.groupby(['row', 'col'])[['value']].quantile(0.975).reset_index()\n",
    "df_quant2.rename({'value':'q2'}, axis=1, inplace=True)\n",
    "\n",
    "df = df_quant.merge(df_quant2, on=['row', 'col'])\n",
    "\n",
    "# simple quantile chart\n",
    "df['source'] = 'smc2'\n",
    "c1 = alt.Chart(df).mark_bar(opacity=0.6).encode(\n",
    "        alt.X('q1', title=None),\n",
    "        alt.X2('q2', title=None),\n",
    "        alt.Row('row'),\n",
    "        alt.Column('col'),\n",
    "        alt.Color('source')\n",
    ")\n",
    "c1"
   ]
  },
  {
   "cell_type": "code",
   "execution_count": 20,
   "metadata": {},
   "outputs": [],
   "source": [
    "df['index'] = 'r_' + df.row.astype(str)+'.c_'+df.col.astype(str)\n",
    "df = df.loc[:,['index', 'q1', 'q2']]\n",
    "df['source'] = 'smc2'\n",
    "dd = pd.DataFrame(exp_data1.raw_data['alpha'], columns=['data'])\n",
    "dd['col'] = np.arange(6)\n",
    "dd['row'] = 0\n",
    "dd['index'] = 'r_' + dd.row.astype(str)+'.c_'+dd.col.astype(str)\n",
    "dd = dd.loc[:,['index', 'data']]\n",
    "plot_data = df.merge(dd, on=['index'])"
   ]
  },
  {
   "cell_type": "code",
   "execution_count": 21,
   "metadata": {
    "scrolled": false
   },
   "outputs": [
    {
     "data": {
      "text/html": [
       "\n",
       "<div id=\"altair-viz-9277464f20b44ebfa3eb833ffe147dfc\"></div>\n",
       "<script type=\"text/javascript\">\n",
       "  (function(spec, embedOpt){\n",
       "    let outputDiv = document.currentScript.previousElementSibling;\n",
       "    if (outputDiv.id !== \"altair-viz-9277464f20b44ebfa3eb833ffe147dfc\") {\n",
       "      outputDiv = document.getElementById(\"altair-viz-9277464f20b44ebfa3eb833ffe147dfc\");\n",
       "    }\n",
       "    const paths = {\n",
       "      \"vega\": \"https://cdn.jsdelivr.net/npm//vega@5?noext\",\n",
       "      \"vega-lib\": \"https://cdn.jsdelivr.net/npm//vega-lib?noext\",\n",
       "      \"vega-lite\": \"https://cdn.jsdelivr.net/npm//vega-lite@4.8.1?noext\",\n",
       "      \"vega-embed\": \"https://cdn.jsdelivr.net/npm//vega-embed@6?noext\",\n",
       "    };\n",
       "\n",
       "    function loadScript(lib) {\n",
       "      return new Promise(function(resolve, reject) {\n",
       "        var s = document.createElement('script');\n",
       "        s.src = paths[lib];\n",
       "        s.async = true;\n",
       "        s.onload = () => resolve(paths[lib]);\n",
       "        s.onerror = () => reject(`Error loading script: ${paths[lib]}`);\n",
       "        document.getElementsByTagName(\"head\")[0].appendChild(s);\n",
       "      });\n",
       "    }\n",
       "\n",
       "    function showError(err) {\n",
       "      outputDiv.innerHTML = `<div class=\"error\" style=\"color:red;\">${err}</div>`;\n",
       "      throw err;\n",
       "    }\n",
       "\n",
       "    function displayChart(vegaEmbed) {\n",
       "      vegaEmbed(outputDiv, spec, embedOpt)\n",
       "        .catch(err => showError(`Javascript Error: ${err.message}<br>This usually means there's a typo in your chart specification. See the javascript console for the full traceback.`));\n",
       "    }\n",
       "\n",
       "    if(typeof define === \"function\" && define.amd) {\n",
       "      requirejs.config({paths});\n",
       "      require([\"vega-embed\"], displayChart, err => showError(`Error loading script: ${err.message}`));\n",
       "    } else if (typeof vegaEmbed === \"function\") {\n",
       "      displayChart(vegaEmbed);\n",
       "    } else {\n",
       "      loadScript(\"vega\")\n",
       "        .then(() => loadScript(\"vega-lite\"))\n",
       "        .then(() => loadScript(\"vega-embed\"))\n",
       "        .catch(showError)\n",
       "        .then(() => displayChart(vegaEmbed));\n",
       "    }\n",
       "  })({\"config\": {\"view\": {\"continuousWidth\": 400, \"continuousHeight\": 300}}, \"data\": {\"name\": \"data-ed127146a7b2debc02ba0d8570190e59\"}, \"facet\": {\"type\": \"nominal\", \"field\": \"index\"}, \"spec\": {\"layer\": [{\"mark\": {\"type\": \"bar\", \"opacity\": 0.6}, \"encoding\": {\"color\": {\"type\": \"nominal\", \"field\": \"source\"}, \"x\": {\"type\": \"quantitative\", \"field\": \"q1\", \"scale\": {\"domain\": [-5, 5]}, \"title\": null}, \"x2\": {\"field\": \"q2\", \"title\": null}}}, {\"mark\": {\"type\": \"point\", \"color\": \"red\", \"opacity\": 1}, \"encoding\": {\"x\": {\"type\": \"quantitative\", \"field\": \"data\", \"title\": null}}}]}, \"columns\": 1, \"$schema\": \"https://vega.github.io/schema/vega-lite/v4.8.1.json\", \"datasets\": {\"data-ed127146a7b2debc02ba0d8570190e59\": [{\"index\": \"r_0.c_0\", \"q1\": -6.098437409483524, \"q2\": -0.9611138932616308, \"source\": \"smc2\", \"data\": -0.53}, {\"index\": \"r_0.c_1\", \"q1\": -0.3650279932372451, \"q2\": 4.515602654535241, \"source\": \"smc2\", \"data\": 0.35}, {\"index\": \"r_0.c_2\", \"q1\": -4.192594583062004, \"q2\": -0.7773198444396361, \"source\": \"smc2\", \"data\": -1.4}, {\"index\": \"r_0.c_3\", \"q1\": -3.933203624089486, \"q2\": 0.4061803655089145, \"source\": \"smc2\", \"data\": -1.4}, {\"index\": \"r_0.c_4\", \"q1\": -2.0835927189032435, \"q2\": 1.9140752416136277, \"source\": \"smc2\", \"data\": -0.96}, {\"index\": \"r_0.c_5\", \"q1\": -17.57192295913746, \"q2\": -3.2741209738507657, \"source\": \"smc2\", \"data\": -2.33}]}}, {\"mode\": \"vega-lite\"});\n",
       "</script>"
      ],
      "text/plain": [
       "alt.FacetChart(...)"
      ]
     },
     "execution_count": 21,
     "metadata": {},
     "output_type": "execute_result"
    }
   ],
   "source": [
    "c1 = alt.Chart(plot_data).mark_bar(opacity=0.6).encode(\n",
    "    alt.X('q1', title=None,  scale=alt.Scale(domain=[-5,5])),\n",
    "    alt.X2('q2', title=None),\n",
    "    alt.Color('source'),    \n",
    ")\n",
    "    \n",
    "\n",
    "c2 = alt.Chart(plot_data).mark_point(opacity=1, color='red').encode(\n",
    "        alt.X('data', title=None),\n",
    ")\n",
    "(c1+c2).facet(\n",
    "       'index',\n",
    "    columns=1\n",
    "    )\n"
   ]
  },
  {
   "cell_type": "code",
   "execution_count": null,
   "metadata": {},
   "outputs": [],
   "source": []
  },
  {
   "cell_type": "code",
   "execution_count": null,
   "metadata": {},
   "outputs": [],
   "source": []
  },
  {
   "cell_type": "code",
   "execution_count": null,
   "metadata": {},
   "outputs": [],
   "source": []
  }
 ],
 "metadata": {
  "kernelspec": {
   "display_name": "Python 3",
   "language": "python",
   "name": "python3"
  },
  "language_info": {
   "codemirror_mode": {
    "name": "ipython",
    "version": 3
   },
   "file_extension": ".py",
   "mimetype": "text/x-python",
   "name": "python",
   "nbconvert_exporter": "python",
   "pygments_lexer": "ipython3",
   "version": "3.7.6"
  }
 },
 "nbformat": 4,
 "nbformat_minor": 2
}
