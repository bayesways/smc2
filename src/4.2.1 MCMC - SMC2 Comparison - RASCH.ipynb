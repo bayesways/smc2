{
 "cells": [
  {
   "cell_type": "code",
   "execution_count": 1,
   "metadata": {},
   "outputs": [
    {
     "data": {
      "text/plain": [
       "DataTransformerRegistry.enable('default')"
      ]
     },
     "execution_count": 1,
     "metadata": {},
     "output_type": "execute_result"
    }
   ],
   "source": [
    "import pandas as pd\n",
    "import numpy as np\n",
    "from codebase.file_utils import (\n",
    "    save_obj,\n",
    "    load_obj,\n",
    ")\n",
    "from codebase.plot import plot_density, plot_histogram, plot_line, get_post_df\n",
    "from codebase.ibis import post_process_sign, exp_and_normalise\n",
    "import altair as alt\n",
    "from codebase.classes_data import Data\n",
    "from codebase.file_utils import (\n",
    "    save_obj,\n",
    "    load_obj,\n",
    "    make_folder,\n",
    "    path_backslash\n",
    ")\n",
    "from pdb import set_trace\n",
    "\n",
    "alt.data_transformers.disable_max_rows()\n"
   ]
  },
  {
   "cell_type": "code",
   "execution_count": 2,
   "metadata": {},
   "outputs": [],
   "source": [
    "log_dir1 = 'log/20210302_193140_mcmc_rasch/'\n",
    "exp_data1 = load_obj( 'complete_data', log_dir1)\n",
    "ps_mcmc = load_obj('mcmc_post_samples', log_dir1)\n"
   ]
  },
  {
   "cell_type": "code",
   "execution_count": 3,
   "metadata": {},
   "outputs": [
    {
     "name": "stdout",
     "output_type": "stream",
     "text": [
      "45\n"
     ]
    }
   ],
   "source": [
    "# log_dir3 = 'log/20210302_203421_rash01/'\n",
    "# log_dir3 = 'log/20210302_211048_rash01/'\n",
    "# log_dir3 = 'log/20210303_062256_rash02/'\n",
    "# log_dir3 = 'log/20210303_102221_rash03/'\n",
    "log_dir3 = 'log/20210304_101206_smc2_test/'\n",
    "exp_data3 = load_obj('data', log_dir3)\n",
    "t = load_obj('t', log_dir3)\n",
    "print(t)\n"
   ]
  },
  {
   "cell_type": "code",
   "execution_count": 4,
   "metadata": {
    "scrolled": true
   },
   "outputs": [
    {
     "data": {
      "text/plain": [
       "array([0., 0., 0., 0., 0., 0., 0., 0., 0., 0., 0., 0., 0., 0., 0., 0., 0.,\n",
       "       0., 0., 0., 0., 0., 0., 0., 0., 0., 0., 0., 0., 0., 0., 0., 0., 0.,\n",
       "       0., 0., 0., 0., 0., 0., 0., 0., 0., 0., 0., 0., 0., 0., 0., 0.])"
      ]
     },
     "execution_count": 4,
     "metadata": {},
     "output_type": "execute_result"
    }
   ],
   "source": [
    "particles = load_obj('particles', log_dir3)\n",
    "ps_smc2 = dict()\n",
    "for name in particles.param_names:\n",
    "    ps_smc2[name] = particles.extract_particles_in_numpy_array(name)\n",
    "particles.weights"
   ]
  },
  {
   "cell_type": "code",
   "execution_count": 5,
   "metadata": {},
   "outputs": [
    {
     "data": {
      "text/plain": [
       "array([1. , 0.9, 0.9, 0.4, 0.8, 0.9, 0.8, 0.7, 0.8, 1. , 0.9, 0.6, 1. ,\n",
       "       0.7, 0.8, 0.9, 0.9, 0.7, 0.9, 1. , 0.9, 0.9, 0.7, 0.9, 0.7, 0.8,\n",
       "       0.7, 0.7, 0.8, 0.6, 0.8, 0.6, 0.6, 0.1, 0.7, 0.1, 0.8, 0.8, 0.5,\n",
       "       0.8, 0.9, 1. , 0.7, 0.9, 0.9, 0.6])"
      ]
     },
     "execution_count": 5,
     "metadata": {},
     "output_type": "execute_result"
    }
   ],
   "source": [
    "particles.get_acceptance_rate_for_particle_m(0)"
   ]
  },
  {
   "cell_type": "code",
   "execution_count": 6,
   "metadata": {},
   "outputs": [
    {
     "data": {
      "text/plain": [
       "0.58"
      ]
     },
     "execution_count": 6,
     "metadata": {},
     "output_type": "execute_result"
    }
   ],
   "source": [
    "particles.get_threshold_ess_indicator().sum()/exp_data3.size"
   ]
  },
  {
   "cell_type": "code",
   "execution_count": 18,
   "metadata": {},
   "outputs": [
    {
     "data": {
      "text/plain": [
       "{'beta': array([[0.21359815],\n",
       "        [0.21359815],\n",
       "        [0.21359815],\n",
       "        [0.21359815],\n",
       "        [0.21359815],\n",
       "        [0.21359815]]),\n",
       " 'alpha': array([-0.05341806,  0.2215603 ,  0.09778092,  0.16073001,  0.25037914,\n",
       "        -0.02977073])}"
      ]
     },
     "execution_count": 18,
     "metadata": {},
     "output_type": "execute_result"
    }
   ],
   "source": [
    "load_obj('jitter_corrs', log_dir3)[t]"
   ]
  },
  {
   "cell_type": "code",
   "execution_count": 8,
   "metadata": {},
   "outputs": [],
   "source": [
    "# particles = load_obj('particles', log_dir3)\n",
    "particles.resample_particles_bundles()\n",
    "# ps_smc2 = dict()\n",
    "# for name in particles.param_names:\n",
    "#     ps_smc2[name] = particles.extract_particles_in_numpy_array(name)\n"
   ]
  },
  {
   "cell_type": "markdown",
   "metadata": {},
   "source": [
    "##"
   ]
  },
  {
   "cell_type": "markdown",
   "metadata": {},
   "source": [
    "## Or load existing directory"
   ]
  },
  {
   "cell_type": "code",
   "execution_count": 9,
   "metadata": {},
   "outputs": [],
   "source": [
    "ps_mcmc = post_process_sign(ps_mcmc)\n",
    "ps_smc2 = post_process_sign(ps_smc2)\n"
   ]
  },
  {
   "cell_type": "markdown",
   "metadata": {},
   "source": [
    "## Plot MCMC samples"
   ]
  },
  {
   "cell_type": "code",
   "execution_count": 10,
   "metadata": {},
   "outputs": [
    {
     "name": "stderr",
     "output_type": "stream",
     "text": [
      "INFO:numexpr.utils:Note: NumExpr detected 24 cores but \"NUMEXPR_MAX_THREADS\" not set, so enforcing safe limit of 8.\n",
      "INFO:numexpr.utils:NumExpr defaulting to 8 threads.\n"
     ]
    },
    {
     "data": {
      "text/html": [
       "\n",
       "<div id=\"altair-viz-2248d190e0784c77bd2c150a802b76ef\"></div>\n",
       "<script type=\"text/javascript\">\n",
       "  (function(spec, embedOpt){\n",
       "    let outputDiv = document.currentScript.previousElementSibling;\n",
       "    if (outputDiv.id !== \"altair-viz-2248d190e0784c77bd2c150a802b76ef\") {\n",
       "      outputDiv = document.getElementById(\"altair-viz-2248d190e0784c77bd2c150a802b76ef\");\n",
       "    }\n",
       "    const paths = {\n",
       "      \"vega\": \"https://cdn.jsdelivr.net/npm//vega@5?noext\",\n",
       "      \"vega-lib\": \"https://cdn.jsdelivr.net/npm//vega-lib?noext\",\n",
       "      \"vega-lite\": \"https://cdn.jsdelivr.net/npm//vega-lite@4.8.1?noext\",\n",
       "      \"vega-embed\": \"https://cdn.jsdelivr.net/npm//vega-embed@6?noext\",\n",
       "    };\n",
       "\n",
       "    function loadScript(lib) {\n",
       "      return new Promise(function(resolve, reject) {\n",
       "        var s = document.createElement('script');\n",
       "        s.src = paths[lib];\n",
       "        s.async = true;\n",
       "        s.onload = () => resolve(paths[lib]);\n",
       "        s.onerror = () => reject(`Error loading script: ${paths[lib]}`);\n",
       "        document.getElementsByTagName(\"head\")[0].appendChild(s);\n",
       "      });\n",
       "    }\n",
       "\n",
       "    function showError(err) {\n",
       "      outputDiv.innerHTML = `<div class=\"error\" style=\"color:red;\">${err}</div>`;\n",
       "      throw err;\n",
       "    }\n",
       "\n",
       "    function displayChart(vegaEmbed) {\n",
       "      vegaEmbed(outputDiv, spec, embedOpt)\n",
       "        .catch(err => showError(`Javascript Error: ${err.message}<br>This usually means there's a typo in your chart specification. See the javascript console for the full traceback.`));\n",
       "    }\n",
       "\n",
       "    if(typeof define === \"function\" && define.amd) {\n",
       "      requirejs.config({paths});\n",
       "      require([\"vega-embed\"], displayChart, err => showError(`Error loading script: ${err.message}`));\n",
       "    } else if (typeof vegaEmbed === \"function\") {\n",
       "      displayChart(vegaEmbed);\n",
       "    } else {\n",
       "      loadScript(\"vega\")\n",
       "        .then(() => loadScript(\"vega-lite\"))\n",
       "        .then(() => loadScript(\"vega-embed\"))\n",
       "        .catch(showError)\n",
       "        .then(() => displayChart(vegaEmbed));\n",
       "    }\n",
       "  })({\"config\": {\"view\": {\"continuousWidth\": 400, \"continuousHeight\": 300}}, \"data\": {\"name\": \"data-e0d33aeb7f5532fbe87e25b81ea89b56\"}, \"mark\": {\"type\": \"area\", \"opacity\": 0.5}, \"encoding\": {\"color\": {\"type\": \"nominal\", \"field\": \"source\"}, \"column\": {\"type\": \"quantitative\", \"field\": \"col\"}, \"row\": {\"type\": \"quantitative\", \"field\": \"row\"}, \"x\": {\"type\": \"quantitative\", \"field\": \"value\", \"title\": null}, \"y\": {\"type\": \"quantitative\", \"field\": \"density\"}}, \"height\": 100, \"resolve\": {\"scale\": {\"x\": \"independent\"}}, \"transform\": [{\"fold\": [\"value\"]}, {\"density\": \"value\", \"groupby\": [\"cn\", \"row\", \"col\", \"source\"]}], \"width\": 300, \"$schema\": \"https://vega.github.io/schema/vega-lite/v4.8.1.json\", \"datasets\": {\"data-e0d33aeb7f5532fbe87e25b81ea89b56\": [{\"idx\": 0, \"row\": 0, \"col\": 0, \"value\": 0.501579403990581, \"source\": \"mcmc\"}, {\"idx\": 1, \"row\": 0, \"col\": 0, \"value\": 0.6564511311013481, \"source\": \"mcmc\"}, {\"idx\": 2, \"row\": 0, \"col\": 0, \"value\": 0.7935756161047168, \"source\": \"mcmc\"}, {\"idx\": 3, \"row\": 0, \"col\": 0, \"value\": 0.8977804462926403, \"source\": \"mcmc\"}, {\"idx\": 4, \"row\": 0, \"col\": 0, \"value\": 1.3390817100427683, \"source\": \"mcmc\"}, {\"idx\": 5, \"row\": 0, \"col\": 0, \"value\": 1.0701384035469796, \"source\": \"mcmc\"}, {\"idx\": 6, \"row\": 0, \"col\": 0, \"value\": 1.1591017288786398, \"source\": \"mcmc\"}, {\"idx\": 7, \"row\": 0, \"col\": 0, \"value\": 1.1321210356406595, \"source\": \"mcmc\"}, {\"idx\": 8, \"row\": 0, \"col\": 0, \"value\": 1.0484056411845872, \"source\": \"mcmc\"}, {\"idx\": 9, \"row\": 0, \"col\": 0, \"value\": 0.8415825964322632, \"source\": \"mcmc\"}, {\"idx\": 10, \"row\": 0, \"col\": 0, \"value\": 0.7405020761884409, \"source\": \"mcmc\"}, {\"idx\": 11, \"row\": 0, \"col\": 0, \"value\": 1.2175499385530184, \"source\": \"mcmc\"}, {\"idx\": 12, \"row\": 0, \"col\": 0, \"value\": 1.0288107000425288, \"source\": \"mcmc\"}, {\"idx\": 13, \"row\": 0, \"col\": 0, \"value\": 0.6540181948207822, \"source\": \"mcmc\"}, {\"idx\": 14, \"row\": 0, \"col\": 0, \"value\": 1.0015656539599558, \"source\": \"mcmc\"}, {\"idx\": 15, \"row\": 0, \"col\": 0, \"value\": 1.3479037413035662, \"source\": \"mcmc\"}, {\"idx\": 16, \"row\": 0, \"col\": 0, \"value\": 1.2895418305614588, \"source\": \"mcmc\"}, {\"idx\": 17, \"row\": 0, \"col\": 0, \"value\": 1.1273751604321602, \"source\": \"mcmc\"}, {\"idx\": 18, \"row\": 0, \"col\": 0, \"value\": 0.9148675862318445, \"source\": \"mcmc\"}, {\"idx\": 19, \"row\": 0, \"col\": 0, \"value\": 0.7651967080028845, \"source\": \"mcmc\"}, {\"idx\": 20, \"row\": 0, \"col\": 0, \"value\": 0.8773204994768268, \"source\": \"mcmc\"}, {\"idx\": 21, \"row\": 0, \"col\": 0, \"value\": 0.7414564329505396, \"source\": \"mcmc\"}, {\"idx\": 22, \"row\": 0, \"col\": 0, \"value\": 0.7714429988395715, \"source\": \"mcmc\"}, {\"idx\": 23, \"row\": 0, \"col\": 0, \"value\": 1.2595056524077448, \"source\": \"mcmc\"}, {\"idx\": 24, \"row\": 0, \"col\": 0, \"value\": 1.0578140497028294, \"source\": \"mcmc\"}, {\"idx\": 25, \"row\": 0, \"col\": 0, \"value\": 1.3286534622885713, \"source\": \"mcmc\"}, {\"idx\": 26, \"row\": 0, \"col\": 0, \"value\": 1.1742620870840552, \"source\": \"mcmc\"}, {\"idx\": 27, \"row\": 0, \"col\": 0, \"value\": 1.2172025127751191, \"source\": \"mcmc\"}, {\"idx\": 28, \"row\": 0, \"col\": 0, \"value\": 0.9878419179600163, \"source\": \"mcmc\"}, {\"idx\": 29, \"row\": 0, \"col\": 0, \"value\": 1.5079764555224584, \"source\": \"mcmc\"}, {\"idx\": 30, \"row\": 0, \"col\": 0, \"value\": 1.289365163227045, \"source\": \"mcmc\"}, {\"idx\": 31, \"row\": 0, \"col\": 0, \"value\": 0.9834685246812241, \"source\": \"mcmc\"}, {\"idx\": 32, \"row\": 0, \"col\": 0, \"value\": 1.1580004377441526, \"source\": \"mcmc\"}, {\"idx\": 33, \"row\": 0, \"col\": 0, \"value\": 1.0630150795996618, \"source\": \"mcmc\"}, {\"idx\": 34, \"row\": 0, \"col\": 0, \"value\": 1.072743041366944, \"source\": \"mcmc\"}, {\"idx\": 35, \"row\": 0, \"col\": 0, \"value\": 1.192469015146656, \"source\": \"mcmc\"}, {\"idx\": 36, \"row\": 0, \"col\": 0, \"value\": 1.0240628864065249, \"source\": \"mcmc\"}, {\"idx\": 37, \"row\": 0, \"col\": 0, \"value\": 0.824457971487306, \"source\": \"mcmc\"}, {\"idx\": 38, \"row\": 0, \"col\": 0, \"value\": 0.7663380831531591, \"source\": \"mcmc\"}, {\"idx\": 39, \"row\": 0, \"col\": 0, \"value\": 1.066041629522896, \"source\": \"mcmc\"}, {\"idx\": 40, \"row\": 0, \"col\": 0, \"value\": 0.952833568220933, \"source\": \"mcmc\"}, {\"idx\": 41, \"row\": 0, \"col\": 0, \"value\": 1.091444825543657, \"source\": \"mcmc\"}, {\"idx\": 42, \"row\": 0, \"col\": 0, \"value\": 0.9164372519886628, \"source\": \"mcmc\"}, {\"idx\": 43, \"row\": 0, \"col\": 0, \"value\": 1.0948494000079478, \"source\": \"mcmc\"}, {\"idx\": 44, \"row\": 0, \"col\": 0, \"value\": 1.0496300071742801, \"source\": \"mcmc\"}, {\"idx\": 45, \"row\": 0, \"col\": 0, \"value\": 1.1975504595018767, \"source\": \"mcmc\"}, {\"idx\": 46, \"row\": 0, \"col\": 0, \"value\": 0.9490835805405973, \"source\": \"mcmc\"}, {\"idx\": 47, \"row\": 0, \"col\": 0, \"value\": 0.8625593808424158, \"source\": \"mcmc\"}, {\"idx\": 48, \"row\": 0, \"col\": 0, \"value\": 0.8711475455270488, \"source\": \"mcmc\"}, {\"idx\": 49, \"row\": 0, \"col\": 0, \"value\": 0.9384947704452237, \"source\": \"mcmc\"}, {\"idx\": 50, \"row\": 0, \"col\": 0, \"value\": 1.1081888714487227, \"source\": \"mcmc\"}, {\"idx\": 51, \"row\": 0, \"col\": 0, \"value\": 0.792645675885903, \"source\": \"mcmc\"}, {\"idx\": 52, \"row\": 0, \"col\": 0, \"value\": 0.9511888525523223, \"source\": \"mcmc\"}, {\"idx\": 53, \"row\": 0, \"col\": 0, \"value\": 0.9339137197948462, \"source\": \"mcmc\"}, {\"idx\": 54, \"row\": 0, \"col\": 0, \"value\": 1.1074569496637239, \"source\": \"mcmc\"}, {\"idx\": 55, \"row\": 0, \"col\": 0, \"value\": 1.1286116027859676, \"source\": \"mcmc\"}, {\"idx\": 56, \"row\": 0, \"col\": 0, \"value\": 0.8445003737654136, \"source\": \"mcmc\"}, {\"idx\": 57, \"row\": 0, \"col\": 0, \"value\": 0.6811274707424486, \"source\": \"mcmc\"}, {\"idx\": 58, \"row\": 0, \"col\": 0, \"value\": 0.8446727969783115, \"source\": \"mcmc\"}, {\"idx\": 59, \"row\": 0, \"col\": 0, \"value\": 0.8717691019889944, \"source\": \"mcmc\"}, {\"idx\": 60, \"row\": 0, \"col\": 0, \"value\": 1.0628862499889202, \"source\": \"mcmc\"}, {\"idx\": 61, \"row\": 0, \"col\": 0, \"value\": 1.0872973024687012, \"source\": \"mcmc\"}, {\"idx\": 62, \"row\": 0, \"col\": 0, \"value\": 1.220929598809387, \"source\": \"mcmc\"}, {\"idx\": 63, \"row\": 0, \"col\": 0, \"value\": 1.1167447974413018, \"source\": \"mcmc\"}, {\"idx\": 64, \"row\": 0, \"col\": 0, \"value\": 1.3799295265739642, \"source\": \"mcmc\"}, {\"idx\": 65, \"row\": 0, \"col\": 0, \"value\": 1.7441169009768152, \"source\": \"mcmc\"}, {\"idx\": 66, \"row\": 0, \"col\": 0, \"value\": 1.216755329244695, \"source\": \"mcmc\"}, {\"idx\": 67, \"row\": 0, \"col\": 0, \"value\": 1.3449144991173008, \"source\": \"mcmc\"}, {\"idx\": 68, \"row\": 0, \"col\": 0, \"value\": 1.0633047757330485, \"source\": \"mcmc\"}, {\"idx\": 69, \"row\": 0, \"col\": 0, \"value\": 0.9082427383700625, \"source\": \"mcmc\"}, {\"idx\": 70, \"row\": 0, \"col\": 0, \"value\": 0.9896141007654368, \"source\": \"mcmc\"}, {\"idx\": 71, \"row\": 0, \"col\": 0, \"value\": 0.9616543627971385, \"source\": \"mcmc\"}, {\"idx\": 72, \"row\": 0, \"col\": 0, \"value\": 1.244001195862267, \"source\": \"mcmc\"}, {\"idx\": 73, \"row\": 0, \"col\": 0, \"value\": 1.0232580200059074, \"source\": \"mcmc\"}, {\"idx\": 74, \"row\": 0, \"col\": 0, \"value\": 1.2209930967254357, \"source\": \"mcmc\"}, {\"idx\": 75, \"row\": 0, \"col\": 0, \"value\": 1.1534857057897854, \"source\": \"mcmc\"}, {\"idx\": 76, \"row\": 0, \"col\": 0, \"value\": 1.4906252445123305, \"source\": \"mcmc\"}, {\"idx\": 77, \"row\": 0, \"col\": 0, \"value\": 1.10388779109089, \"source\": \"mcmc\"}, {\"idx\": 78, \"row\": 0, \"col\": 0, \"value\": 1.0838588708569064, \"source\": \"mcmc\"}, {\"idx\": 79, \"row\": 0, \"col\": 0, \"value\": 0.9276714514882763, \"source\": \"mcmc\"}, {\"idx\": 80, \"row\": 0, \"col\": 0, \"value\": 0.9688213518154524, \"source\": \"mcmc\"}, {\"idx\": 81, \"row\": 0, \"col\": 0, \"value\": 0.657839876689222, \"source\": \"mcmc\"}, {\"idx\": 82, \"row\": 0, \"col\": 0, \"value\": 0.8884224134402984, \"source\": \"mcmc\"}, {\"idx\": 83, \"row\": 0, \"col\": 0, \"value\": 0.9791815036225926, \"source\": \"mcmc\"}, {\"idx\": 84, \"row\": 0, \"col\": 0, \"value\": 1.2058950116219707, \"source\": \"mcmc\"}, {\"idx\": 85, \"row\": 0, \"col\": 0, \"value\": 1.2951173302972245, \"source\": \"mcmc\"}, {\"idx\": 86, \"row\": 0, \"col\": 0, \"value\": 1.5074395386012476, \"source\": \"mcmc\"}, {\"idx\": 87, \"row\": 0, \"col\": 0, \"value\": 1.3236009935149342, \"source\": \"mcmc\"}, {\"idx\": 88, \"row\": 0, \"col\": 0, \"value\": 1.0445951515039202, \"source\": \"mcmc\"}, {\"idx\": 89, \"row\": 0, \"col\": 0, \"value\": 1.1301389660573595, \"source\": \"mcmc\"}, {\"idx\": 90, \"row\": 0, \"col\": 0, \"value\": 0.9785782062234466, \"source\": \"mcmc\"}, {\"idx\": 91, \"row\": 0, \"col\": 0, \"value\": 0.7796067329751194, \"source\": \"mcmc\"}, {\"idx\": 92, \"row\": 0, \"col\": 0, \"value\": 1.0626435751002212, \"source\": \"mcmc\"}, {\"idx\": 93, \"row\": 0, \"col\": 0, \"value\": 1.0545653346110049, \"source\": \"mcmc\"}, {\"idx\": 94, \"row\": 0, \"col\": 0, \"value\": 0.9932134980397415, \"source\": \"mcmc\"}, {\"idx\": 95, \"row\": 0, \"col\": 0, \"value\": 0.7110800584173256, \"source\": \"mcmc\"}, {\"idx\": 96, \"row\": 0, \"col\": 0, \"value\": 0.7748318354373814, \"source\": \"mcmc\"}, {\"idx\": 97, \"row\": 0, \"col\": 0, \"value\": 0.9893563423962236, \"source\": \"mcmc\"}, {\"idx\": 98, \"row\": 0, \"col\": 0, \"value\": 1.013599616341862, \"source\": \"mcmc\"}, {\"idx\": 99, \"row\": 0, \"col\": 0, \"value\": 1.1783811342068045, \"source\": \"mcmc\"}, {\"idx\": 0, \"row\": 0, \"col\": 0, \"value\": 1.4762077429663907, \"source\": \"smc2\"}, {\"idx\": 1, \"row\": 0, \"col\": 0, \"value\": 1.190661580588578, \"source\": \"smc2\"}, {\"idx\": 2, \"row\": 0, \"col\": 0, \"value\": 1.3549293429781348, \"source\": \"smc2\"}, {\"idx\": 3, \"row\": 0, \"col\": 0, \"value\": 1.6607682717019845, \"source\": \"smc2\"}, {\"idx\": 4, \"row\": 0, \"col\": 0, \"value\": 0.845037792049331, \"source\": \"smc2\"}, {\"idx\": 5, \"row\": 0, \"col\": 0, \"value\": 1.1645893535691494, \"source\": \"smc2\"}, {\"idx\": 6, \"row\": 0, \"col\": 0, \"value\": 1.1298777415144017, \"source\": \"smc2\"}, {\"idx\": 7, \"row\": 0, \"col\": 0, \"value\": 1.3953484337687638, \"source\": \"smc2\"}, {\"idx\": 8, \"row\": 0, \"col\": 0, \"value\": 1.1183930603758558, \"source\": \"smc2\"}, {\"idx\": 9, \"row\": 0, \"col\": 0, \"value\": 0.7573706176883785, \"source\": \"smc2\"}, {\"idx\": 10, \"row\": 0, \"col\": 0, \"value\": 0.5806834311339064, \"source\": \"smc2\"}, {\"idx\": 11, \"row\": 0, \"col\": 0, \"value\": 1.074290825776304, \"source\": \"smc2\"}, {\"idx\": 12, \"row\": 0, \"col\": 0, \"value\": 0.9069893638078187, \"source\": \"smc2\"}, {\"idx\": 13, \"row\": 0, \"col\": 0, \"value\": 1.458955580052928, \"source\": \"smc2\"}, {\"idx\": 14, \"row\": 0, \"col\": 0, \"value\": 0.870778546635804, \"source\": \"smc2\"}, {\"idx\": 15, \"row\": 0, \"col\": 0, \"value\": 0.867914363215441, \"source\": \"smc2\"}, {\"idx\": 16, \"row\": 0, \"col\": 0, \"value\": 1.146113795323047, \"source\": \"smc2\"}, {\"idx\": 17, \"row\": 0, \"col\": 0, \"value\": 1.2730473413439911, \"source\": \"smc2\"}, {\"idx\": 18, \"row\": 0, \"col\": 0, \"value\": 1.3738639492917086, \"source\": \"smc2\"}, {\"idx\": 19, \"row\": 0, \"col\": 0, \"value\": 1.0958111056769313, \"source\": \"smc2\"}, {\"idx\": 20, \"row\": 0, \"col\": 0, \"value\": 1.1887050880370993, \"source\": \"smc2\"}, {\"idx\": 21, \"row\": 0, \"col\": 0, \"value\": 1.4156776006169904, \"source\": \"smc2\"}, {\"idx\": 22, \"row\": 0, \"col\": 0, \"value\": 1.337549877103269, \"source\": \"smc2\"}, {\"idx\": 23, \"row\": 0, \"col\": 0, \"value\": 2.12212767434561, \"source\": \"smc2\"}, {\"idx\": 24, \"row\": 0, \"col\": 0, \"value\": 1.164697707805955, \"source\": \"smc2\"}, {\"idx\": 25, \"row\": 0, \"col\": 0, \"value\": 1.5044912339986731, \"source\": \"smc2\"}, {\"idx\": 26, \"row\": 0, \"col\": 0, \"value\": 0.6739664284848184, \"source\": \"smc2\"}, {\"idx\": 27, \"row\": 0, \"col\": 0, \"value\": 0.5478380649777013, \"source\": \"smc2\"}, {\"idx\": 28, \"row\": 0, \"col\": 0, \"value\": 1.0211944116736755, \"source\": \"smc2\"}, {\"idx\": 29, \"row\": 0, \"col\": 0, \"value\": 0.7828509787987736, \"source\": \"smc2\"}, {\"idx\": 30, \"row\": 0, \"col\": 0, \"value\": 0.9942619977434484, \"source\": \"smc2\"}, {\"idx\": 31, \"row\": 0, \"col\": 0, \"value\": 1.0689775809821727, \"source\": \"smc2\"}, {\"idx\": 32, \"row\": 0, \"col\": 0, \"value\": 1.2684798715626757, \"source\": \"smc2\"}, {\"idx\": 33, \"row\": 0, \"col\": 0, \"value\": 0.6690027900945669, \"source\": \"smc2\"}, {\"idx\": 34, \"row\": 0, \"col\": 0, \"value\": 1.2610569234569087, \"source\": \"smc2\"}, {\"idx\": 35, \"row\": 0, \"col\": 0, \"value\": 1.153585332977062, \"source\": \"smc2\"}, {\"idx\": 36, \"row\": 0, \"col\": 0, \"value\": 1.2178787934880793, \"source\": \"smc2\"}, {\"idx\": 37, \"row\": 0, \"col\": 0, \"value\": 0.5774215950392307, \"source\": \"smc2\"}, {\"idx\": 38, \"row\": 0, \"col\": 0, \"value\": 1.4124368098862288, \"source\": \"smc2\"}, {\"idx\": 39, \"row\": 0, \"col\": 0, \"value\": 1.1635568474656206, \"source\": \"smc2\"}, {\"idx\": 40, \"row\": 0, \"col\": 0, \"value\": 1.0591251917371962, \"source\": \"smc2\"}, {\"idx\": 41, \"row\": 0, \"col\": 0, \"value\": 0.7651247920860311, \"source\": \"smc2\"}, {\"idx\": 42, \"row\": 0, \"col\": 0, \"value\": 0.5409573857343963, \"source\": \"smc2\"}, {\"idx\": 43, \"row\": 0, \"col\": 0, \"value\": 1.0958621243624418, \"source\": \"smc2\"}, {\"idx\": 44, \"row\": 0, \"col\": 0, \"value\": 2.045606665860517, \"source\": \"smc2\"}, {\"idx\": 45, \"row\": 0, \"col\": 0, \"value\": 0.5436787484845589, \"source\": \"smc2\"}, {\"idx\": 46, \"row\": 0, \"col\": 0, \"value\": 1.1302383038914718, \"source\": \"smc2\"}, {\"idx\": 47, \"row\": 0, \"col\": 0, \"value\": 0.8988659962364931, \"source\": \"smc2\"}, {\"idx\": 48, \"row\": 0, \"col\": 0, \"value\": 0.7051434167909906, \"source\": \"smc2\"}, {\"idx\": 49, \"row\": 0, \"col\": 0, \"value\": 1.2664816157209002, \"source\": \"smc2\"}]}}, {\"mode\": \"vega-lite\"});\n",
       "</script>"
      ],
      "text/plain": [
       "alt.Chart(...)"
      ]
     },
     "execution_count": 10,
     "metadata": {},
     "output_type": "execute_result"
    }
   ],
   "source": [
    "param = 'beta'\n",
    "df = get_post_df(ps_mcmc[param]) \n",
    "df = df[df.row==0]\n",
    "df['source'] = 'mcmc'\n",
    "\n",
    "\n",
    "df3 = get_post_df(ps_smc2[param]) \n",
    "df3 = df3[df3.row==0]\n",
    "df3['source'] = 'smc2'\n",
    "\n",
    "plot_density(pd.concat([df, df3]), height=100) "
   ]
  },
  {
   "cell_type": "code",
   "execution_count": 11,
   "metadata": {},
   "outputs": [
    {
     "data": {
      "text/html": [
       "\n",
       "<div id=\"altair-viz-68aec851c7a34254800df4acdec3e158\"></div>\n",
       "<script type=\"text/javascript\">\n",
       "  (function(spec, embedOpt){\n",
       "    let outputDiv = document.currentScript.previousElementSibling;\n",
       "    if (outputDiv.id !== \"altair-viz-68aec851c7a34254800df4acdec3e158\") {\n",
       "      outputDiv = document.getElementById(\"altair-viz-68aec851c7a34254800df4acdec3e158\");\n",
       "    }\n",
       "    const paths = {\n",
       "      \"vega\": \"https://cdn.jsdelivr.net/npm//vega@5?noext\",\n",
       "      \"vega-lib\": \"https://cdn.jsdelivr.net/npm//vega-lib?noext\",\n",
       "      \"vega-lite\": \"https://cdn.jsdelivr.net/npm//vega-lite@4.8.1?noext\",\n",
       "      \"vega-embed\": \"https://cdn.jsdelivr.net/npm//vega-embed@6?noext\",\n",
       "    };\n",
       "\n",
       "    function loadScript(lib) {\n",
       "      return new Promise(function(resolve, reject) {\n",
       "        var s = document.createElement('script');\n",
       "        s.src = paths[lib];\n",
       "        s.async = true;\n",
       "        s.onload = () => resolve(paths[lib]);\n",
       "        s.onerror = () => reject(`Error loading script: ${paths[lib]}`);\n",
       "        document.getElementsByTagName(\"head\")[0].appendChild(s);\n",
       "      });\n",
       "    }\n",
       "\n",
       "    function showError(err) {\n",
       "      outputDiv.innerHTML = `<div class=\"error\" style=\"color:red;\">${err}</div>`;\n",
       "      throw err;\n",
       "    }\n",
       "\n",
       "    function displayChart(vegaEmbed) {\n",
       "      vegaEmbed(outputDiv, spec, embedOpt)\n",
       "        .catch(err => showError(`Javascript Error: ${err.message}<br>This usually means there's a typo in your chart specification. See the javascript console for the full traceback.`));\n",
       "    }\n",
       "\n",
       "    if(typeof define === \"function\" && define.amd) {\n",
       "      requirejs.config({paths});\n",
       "      require([\"vega-embed\"], displayChart, err => showError(`Error loading script: ${err.message}`));\n",
       "    } else if (typeof vegaEmbed === \"function\") {\n",
       "      displayChart(vegaEmbed);\n",
       "    } else {\n",
       "      loadScript(\"vega\")\n",
       "        .then(() => loadScript(\"vega-lite\"))\n",
       "        .then(() => loadScript(\"vega-embed\"))\n",
       "        .catch(showError)\n",
       "        .then(() => displayChart(vegaEmbed));\n",
       "    }\n",
       "  })({\"config\": {\"view\": {\"continuousWidth\": 400, \"continuousHeight\": 300}}, \"data\": {\"name\": \"data-2dd6ca912cea4007e4c35daf1aa943ec\"}, \"mark\": {\"type\": \"area\", \"opacity\": 0.5}, \"encoding\": {\"color\": {\"type\": \"nominal\", \"field\": \"source\"}, \"column\": {\"type\": \"quantitative\", \"field\": \"col\"}, \"row\": {\"type\": \"quantitative\", \"field\": \"row\"}, \"x\": {\"type\": \"quantitative\", \"field\": \"value\", \"title\": null}, \"y\": {\"type\": \"quantitative\", \"field\": \"density\"}}, \"height\": 100, \"resolve\": {\"scale\": {\"x\": \"independent\"}}, \"transform\": [{\"fold\": [\"value\"]}, {\"density\": \"value\", \"groupby\": [\"cn\", \"row\", \"col\", \"source\"]}], \"width\": 300, \"$schema\": \"https://vega.github.io/schema/vega-lite/v4.8.1.json\", \"datasets\": {\"data-2dd6ca912cea4007e4c35daf1aa943ec\": [{\"idx\": 0, \"row\": 0, \"col\": 0, \"value\": -0.5075589566834606, \"source\": \"mcmc\"}, {\"idx\": 1, \"row\": 0, \"col\": 0, \"value\": -0.6407661048868074, \"source\": \"mcmc\"}, {\"idx\": 2, \"row\": 0, \"col\": 0, \"value\": -0.5785019035749362, \"source\": \"mcmc\"}, {\"idx\": 3, \"row\": 0, \"col\": 0, \"value\": -0.11206482887880698, \"source\": \"mcmc\"}, {\"idx\": 4, \"row\": 0, \"col\": 0, \"value\": -0.4306125607439364, \"source\": \"mcmc\"}, {\"idx\": 5, \"row\": 0, \"col\": 0, \"value\": -0.4871643135741872, \"source\": \"mcmc\"}, {\"idx\": 6, \"row\": 0, \"col\": 0, \"value\": -0.2711236440215636, \"source\": \"mcmc\"}, {\"idx\": 7, \"row\": 0, \"col\": 0, \"value\": -0.6172139692781565, \"source\": \"mcmc\"}, {\"idx\": 8, \"row\": 0, \"col\": 0, \"value\": -0.7525165267848147, \"source\": \"mcmc\"}, {\"idx\": 9, \"row\": 0, \"col\": 0, \"value\": -0.528973668802322, \"source\": \"mcmc\"}, {\"idx\": 10, \"row\": 0, \"col\": 0, \"value\": -0.5157397827930152, \"source\": \"mcmc\"}, {\"idx\": 11, \"row\": 0, \"col\": 0, \"value\": -1.0159471918043814, \"source\": \"mcmc\"}, {\"idx\": 12, \"row\": 0, \"col\": 0, \"value\": -0.9665978603846485, \"source\": \"mcmc\"}, {\"idx\": 13, \"row\": 0, \"col\": 0, \"value\": -0.6505451569602413, \"source\": \"mcmc\"}, {\"idx\": 14, \"row\": 0, \"col\": 0, \"value\": -0.7064093085185219, \"source\": \"mcmc\"}, {\"idx\": 15, \"row\": 0, \"col\": 0, \"value\": -0.549193831952536, \"source\": \"mcmc\"}, {\"idx\": 16, \"row\": 0, \"col\": 0, \"value\": -0.6906846319924974, \"source\": \"mcmc\"}, {\"idx\": 17, \"row\": 0, \"col\": 0, \"value\": -0.6998404948507133, \"source\": \"mcmc\"}, {\"idx\": 18, \"row\": 0, \"col\": 0, \"value\": -0.49959207114069326, \"source\": \"mcmc\"}, {\"idx\": 19, \"row\": 0, \"col\": 0, \"value\": -0.5631879612764984, \"source\": \"mcmc\"}, {\"idx\": 20, \"row\": 0, \"col\": 0, \"value\": -0.45433879350976963, \"source\": \"mcmc\"}, {\"idx\": 21, \"row\": 0, \"col\": 0, \"value\": -0.4108147260587489, \"source\": \"mcmc\"}, {\"idx\": 22, \"row\": 0, \"col\": 0, \"value\": -0.7125208546906385, \"source\": \"mcmc\"}, {\"idx\": 23, \"row\": 0, \"col\": 0, \"value\": -0.2844239220187834, \"source\": \"mcmc\"}, {\"idx\": 24, \"row\": 0, \"col\": 0, \"value\": -0.3036991046209513, \"source\": \"mcmc\"}, {\"idx\": 25, \"row\": 0, \"col\": 0, \"value\": -0.37020775023316665, \"source\": \"mcmc\"}, {\"idx\": 26, \"row\": 0, \"col\": 0, \"value\": -0.16648243893623516, \"source\": \"mcmc\"}, {\"idx\": 27, \"row\": 0, \"col\": 0, \"value\": -0.33054796386025764, \"source\": \"mcmc\"}, {\"idx\": 28, \"row\": 0, \"col\": 0, \"value\": -0.7283663237279712, \"source\": \"mcmc\"}, {\"idx\": 29, \"row\": 0, \"col\": 0, \"value\": -0.41909273847391176, \"source\": \"mcmc\"}, {\"idx\": 30, \"row\": 0, \"col\": 0, \"value\": -0.5835047233614189, \"source\": \"mcmc\"}, {\"idx\": 31, \"row\": 0, \"col\": 0, \"value\": -0.045688493036085714, \"source\": \"mcmc\"}, {\"idx\": 32, \"row\": 0, \"col\": 0, \"value\": -0.3866184576976541, \"source\": \"mcmc\"}, {\"idx\": 33, \"row\": 0, \"col\": 0, \"value\": -0.40309616997080905, \"source\": \"mcmc\"}, {\"idx\": 34, \"row\": 0, \"col\": 0, \"value\": -0.4392219174385773, \"source\": \"mcmc\"}, {\"idx\": 35, \"row\": 0, \"col\": 0, \"value\": -0.5802685273964174, \"source\": \"mcmc\"}, {\"idx\": 36, \"row\": 0, \"col\": 0, \"value\": -0.5536018180300333, \"source\": \"mcmc\"}, {\"idx\": 37, \"row\": 0, \"col\": 0, \"value\": -0.703516536075647, \"source\": \"mcmc\"}, {\"idx\": 38, \"row\": 0, \"col\": 0, \"value\": -0.9064062822046488, \"source\": \"mcmc\"}, {\"idx\": 39, \"row\": 0, \"col\": 0, \"value\": -0.3305070453645238, \"source\": \"mcmc\"}, {\"idx\": 40, \"row\": 0, \"col\": 0, \"value\": -0.4556980247646376, \"source\": \"mcmc\"}, {\"idx\": 41, \"row\": 0, \"col\": 0, \"value\": -0.5930226309704468, \"source\": \"mcmc\"}, {\"idx\": 42, \"row\": 0, \"col\": 0, \"value\": -0.3458841192329211, \"source\": \"mcmc\"}, {\"idx\": 43, \"row\": 0, \"col\": 0, \"value\": -0.5767310583705076, \"source\": \"mcmc\"}, {\"idx\": 44, \"row\": 0, \"col\": 0, \"value\": -0.5517121096952308, \"source\": \"mcmc\"}, {\"idx\": 45, \"row\": 0, \"col\": 0, \"value\": -0.5273074315469488, \"source\": \"mcmc\"}, {\"idx\": 46, \"row\": 0, \"col\": 0, \"value\": -0.3679250331513759, \"source\": \"mcmc\"}, {\"idx\": 47, \"row\": 0, \"col\": 0, \"value\": -0.4219765298468768, \"source\": \"mcmc\"}, {\"idx\": 48, \"row\": 0, \"col\": 0, \"value\": -0.5284917739930729, \"source\": \"mcmc\"}, {\"idx\": 49, \"row\": 0, \"col\": 0, \"value\": -0.7750354341553036, \"source\": \"mcmc\"}, {\"idx\": 50, \"row\": 0, \"col\": 0, \"value\": -0.47105440868444687, \"source\": \"mcmc\"}, {\"idx\": 51, \"row\": 0, \"col\": 0, \"value\": -0.08736190977181227, \"source\": \"mcmc\"}, {\"idx\": 52, \"row\": 0, \"col\": 0, \"value\": -0.6403267639230955, \"source\": \"mcmc\"}, {\"idx\": 53, \"row\": 0, \"col\": 0, \"value\": -0.7894806195355761, \"source\": \"mcmc\"}, {\"idx\": 54, \"row\": 0, \"col\": 0, \"value\": -0.7532629218436664, \"source\": \"mcmc\"}, {\"idx\": 55, \"row\": 0, \"col\": 0, \"value\": -0.6486975258436011, \"source\": \"mcmc\"}, {\"idx\": 56, \"row\": 0, \"col\": 0, \"value\": -0.3953487093655931, \"source\": \"mcmc\"}, {\"idx\": 57, \"row\": 0, \"col\": 0, \"value\": -0.41893032220737647, \"source\": \"mcmc\"}, {\"idx\": 58, \"row\": 0, \"col\": 0, \"value\": -0.5479696387936089, \"source\": \"mcmc\"}, {\"idx\": 59, \"row\": 0, \"col\": 0, \"value\": -0.5487291145558197, \"source\": \"mcmc\"}, {\"idx\": 60, \"row\": 0, \"col\": 0, \"value\": -0.34830998379380773, \"source\": \"mcmc\"}, {\"idx\": 61, \"row\": 0, \"col\": 0, \"value\": -0.18847276919394645, \"source\": \"mcmc\"}, {\"idx\": 62, \"row\": 0, \"col\": 0, \"value\": -0.49960814384591734, \"source\": \"mcmc\"}, {\"idx\": 63, \"row\": 0, \"col\": 0, \"value\": -0.4495314352328252, \"source\": \"mcmc\"}, {\"idx\": 64, \"row\": 0, \"col\": 0, \"value\": -0.5914353827698114, \"source\": \"mcmc\"}, {\"idx\": 65, \"row\": 0, \"col\": 0, \"value\": -0.4173535459423478, \"source\": \"mcmc\"}, {\"idx\": 66, \"row\": 0, \"col\": 0, \"value\": -0.7055691202091063, \"source\": \"mcmc\"}, {\"idx\": 67, \"row\": 0, \"col\": 0, \"value\": -0.5641024724621286, \"source\": \"mcmc\"}, {\"idx\": 68, \"row\": 0, \"col\": 0, \"value\": -0.9677213554935405, \"source\": \"mcmc\"}, {\"idx\": 69, \"row\": 0, \"col\": 0, \"value\": -0.6216560167950841, \"source\": \"mcmc\"}, {\"idx\": 70, \"row\": 0, \"col\": 0, \"value\": -0.35177294059057174, \"source\": \"mcmc\"}, {\"idx\": 71, \"row\": 0, \"col\": 0, \"value\": -0.11196329895430027, \"source\": \"mcmc\"}, {\"idx\": 72, \"row\": 0, \"col\": 0, \"value\": -0.5785141249457401, \"source\": \"mcmc\"}, {\"idx\": 73, \"row\": 0, \"col\": 0, \"value\": -0.34472156206942234, \"source\": \"mcmc\"}, {\"idx\": 74, \"row\": 0, \"col\": 0, \"value\": -0.9383391443111224, \"source\": \"mcmc\"}, {\"idx\": 75, \"row\": 0, \"col\": 0, \"value\": -0.18903611347019356, \"source\": \"mcmc\"}, {\"idx\": 76, \"row\": 0, \"col\": 0, \"value\": -0.37720504749241235, \"source\": \"mcmc\"}, {\"idx\": 77, \"row\": 0, \"col\": 0, \"value\": -0.27174284829980017, \"source\": \"mcmc\"}, {\"idx\": 78, \"row\": 0, \"col\": 0, \"value\": -0.49451070376425976, \"source\": \"mcmc\"}, {\"idx\": 79, \"row\": 0, \"col\": 0, \"value\": -0.5402296573468729, \"source\": \"mcmc\"}, {\"idx\": 80, \"row\": 0, \"col\": 0, \"value\": -0.529269225655089, \"source\": \"mcmc\"}, {\"idx\": 81, \"row\": 0, \"col\": 0, \"value\": -0.6690361455351755, \"source\": \"mcmc\"}, {\"idx\": 82, \"row\": 0, \"col\": 0, \"value\": -0.9780244049686458, \"source\": \"mcmc\"}, {\"idx\": 83, \"row\": 0, \"col\": 0, \"value\": -0.7017705998450616, \"source\": \"mcmc\"}, {\"idx\": 84, \"row\": 0, \"col\": 0, \"value\": -0.543172085880333, \"source\": \"mcmc\"}, {\"idx\": 85, \"row\": 0, \"col\": 0, \"value\": -0.45191534799986144, \"source\": \"mcmc\"}, {\"idx\": 86, \"row\": 0, \"col\": 0, \"value\": -1.0205511347350886, \"source\": \"mcmc\"}, {\"idx\": 87, \"row\": 0, \"col\": 0, \"value\": -0.43354584054791456, \"source\": \"mcmc\"}, {\"idx\": 88, \"row\": 0, \"col\": 0, \"value\": -0.3909010609063158, \"source\": \"mcmc\"}, {\"idx\": 89, \"row\": 0, \"col\": 0, \"value\": -0.34369227113086687, \"source\": \"mcmc\"}, {\"idx\": 90, \"row\": 0, \"col\": 0, \"value\": -0.5797476117243373, \"source\": \"mcmc\"}, {\"idx\": 91, \"row\": 0, \"col\": 0, \"value\": -0.8263882184606316, \"source\": \"mcmc\"}, {\"idx\": 92, \"row\": 0, \"col\": 0, \"value\": -0.09183699094544837, \"source\": \"mcmc\"}, {\"idx\": 93, \"row\": 0, \"col\": 0, \"value\": -0.24893531375436617, \"source\": \"mcmc\"}, {\"idx\": 94, \"row\": 0, \"col\": 0, \"value\": -0.1060820966168553, \"source\": \"mcmc\"}, {\"idx\": 95, \"row\": 0, \"col\": 0, \"value\": -1.1436784132081503, \"source\": \"mcmc\"}, {\"idx\": 96, \"row\": 0, \"col\": 0, \"value\": -0.7870956269096663, \"source\": \"mcmc\"}, {\"idx\": 97, \"row\": 0, \"col\": 0, \"value\": -0.6532750867132655, \"source\": \"mcmc\"}, {\"idx\": 98, \"row\": 0, \"col\": 0, \"value\": -0.19503075532816638, \"source\": \"mcmc\"}, {\"idx\": 99, \"row\": 0, \"col\": 0, \"value\": -0.660914327875722, \"source\": \"mcmc\"}, {\"idx\": 0, \"row\": 0, \"col\": 1, \"value\": 0.6102479454734899, \"source\": \"mcmc\"}, {\"idx\": 1, \"row\": 0, \"col\": 1, \"value\": 0.7214815528432829, \"source\": \"mcmc\"}, {\"idx\": 2, \"row\": 0, \"col\": 1, \"value\": 0.47514308366693614, \"source\": \"mcmc\"}, {\"idx\": 3, \"row\": 0, \"col\": 1, \"value\": 0.16651183176255602, \"source\": \"mcmc\"}, {\"idx\": 4, \"row\": 0, \"col\": 1, \"value\": 0.979212140475447, \"source\": \"mcmc\"}, {\"idx\": 5, \"row\": 0, \"col\": 1, \"value\": 0.8624000106267705, \"source\": \"mcmc\"}, {\"idx\": 6, \"row\": 0, \"col\": 1, \"value\": 0.6855666347288567, \"source\": \"mcmc\"}, {\"idx\": 7, \"row\": 0, \"col\": 1, \"value\": 0.861345153144348, \"source\": \"mcmc\"}, {\"idx\": 8, \"row\": 0, \"col\": 1, \"value\": 0.5036186539767096, \"source\": \"mcmc\"}, {\"idx\": 9, \"row\": 0, \"col\": 1, \"value\": 0.20909631628745162, \"source\": \"mcmc\"}, {\"idx\": 10, \"row\": 0, \"col\": 1, \"value\": 0.4298193161194816, \"source\": \"mcmc\"}, {\"idx\": 11, \"row\": 0, \"col\": 1, \"value\": 0.5927739365542197, \"source\": \"mcmc\"}, {\"idx\": 12, \"row\": 0, \"col\": 1, \"value\": 0.2992108349172758, \"source\": \"mcmc\"}, {\"idx\": 13, \"row\": 0, \"col\": 1, \"value\": 0.3922209647832872, \"source\": \"mcmc\"}, {\"idx\": 14, \"row\": 0, \"col\": 1, \"value\": 0.6429465269570002, \"source\": \"mcmc\"}, {\"idx\": 15, \"row\": 0, \"col\": 1, \"value\": 0.20038903473144853, \"source\": \"mcmc\"}, {\"idx\": 16, \"row\": 0, \"col\": 1, \"value\": 0.1670387328840518, \"source\": \"mcmc\"}, {\"idx\": 17, \"row\": 0, \"col\": 1, \"value\": 0.19611524571653852, \"source\": \"mcmc\"}, {\"idx\": 18, \"row\": 0, \"col\": 1, \"value\": 0.28113033558762585, \"source\": \"mcmc\"}, {\"idx\": 19, \"row\": 0, \"col\": 1, \"value\": 0.48006719940857984, \"source\": \"mcmc\"}, {\"idx\": 20, \"row\": 0, \"col\": 1, \"value\": 0.487925285985065, \"source\": \"mcmc\"}, {\"idx\": 21, \"row\": 0, \"col\": 1, \"value\": 0.5336846558808008, \"source\": \"mcmc\"}, {\"idx\": 22, \"row\": 0, \"col\": 1, \"value\": 0.6063637670593084, \"source\": \"mcmc\"}, {\"idx\": 23, \"row\": 0, \"col\": 1, \"value\": 0.40847493318466255, \"source\": \"mcmc\"}, {\"idx\": 24, \"row\": 0, \"col\": 1, \"value\": 0.3138230058327722, \"source\": \"mcmc\"}, {\"idx\": 25, \"row\": 0, \"col\": 1, \"value\": 0.6552015016573951, \"source\": \"mcmc\"}, {\"idx\": 26, \"row\": 0, \"col\": 1, \"value\": 0.5995049244662626, \"source\": \"mcmc\"}, {\"idx\": 27, \"row\": 0, \"col\": 1, \"value\": 0.5154223763240852, \"source\": \"mcmc\"}, {\"idx\": 28, \"row\": 0, \"col\": 1, \"value\": 0.8077601391530341, \"source\": \"mcmc\"}, {\"idx\": 29, \"row\": 0, \"col\": 1, \"value\": 0.9276710938260253, \"source\": \"mcmc\"}, {\"idx\": 30, \"row\": 0, \"col\": 1, \"value\": 0.6812268918757212, \"source\": \"mcmc\"}, {\"idx\": 31, \"row\": 0, \"col\": 1, \"value\": 1.0580439616126445, \"source\": \"mcmc\"}, {\"idx\": 32, \"row\": 0, \"col\": 1, \"value\": 0.8739888133162547, \"source\": \"mcmc\"}, {\"idx\": 33, \"row\": 0, \"col\": 1, \"value\": 0.6075335648761186, \"source\": \"mcmc\"}, {\"idx\": 34, \"row\": 0, \"col\": 1, \"value\": 1.0590302981964435, \"source\": \"mcmc\"}, {\"idx\": 35, \"row\": 0, \"col\": 1, \"value\": 0.7477476043404626, \"source\": \"mcmc\"}, {\"idx\": 36, \"row\": 0, \"col\": 1, \"value\": 0.6115172966138462, \"source\": \"mcmc\"}, {\"idx\": 37, \"row\": 0, \"col\": 1, \"value\": 0.5525347466964394, \"source\": \"mcmc\"}, {\"idx\": 38, \"row\": 0, \"col\": 1, \"value\": 0.8588375330705708, \"source\": \"mcmc\"}, {\"idx\": 39, \"row\": 0, \"col\": 1, \"value\": 0.28809697491277864, \"source\": \"mcmc\"}, {\"idx\": 40, \"row\": 0, \"col\": 1, \"value\": 0.5086887578636168, \"source\": \"mcmc\"}, {\"idx\": 41, \"row\": 0, \"col\": 1, \"value\": 0.14259301556972842, \"source\": \"mcmc\"}, {\"idx\": 42, \"row\": 0, \"col\": 1, \"value\": 0.5407438494093686, \"source\": \"mcmc\"}, {\"idx\": 43, \"row\": 0, \"col\": 1, \"value\": 0.14534967598123744, \"source\": \"mcmc\"}, {\"idx\": 44, \"row\": 0, \"col\": 1, \"value\": 0.5147200872065028, \"source\": \"mcmc\"}, {\"idx\": 45, \"row\": 0, \"col\": 1, \"value\": 0.41896111288660637, \"source\": \"mcmc\"}, {\"idx\": 46, \"row\": 0, \"col\": 1, \"value\": 0.6002632776983153, \"source\": \"mcmc\"}, {\"idx\": 47, \"row\": 0, \"col\": 1, \"value\": 0.25399126142168676, \"source\": \"mcmc\"}, {\"idx\": 48, \"row\": 0, \"col\": 1, \"value\": 0.5064130461104862, \"source\": \"mcmc\"}, {\"idx\": 49, \"row\": 0, \"col\": 1, \"value\": 0.5217598713358779, \"source\": \"mcmc\"}, {\"idx\": 50, \"row\": 0, \"col\": 1, \"value\": 0.4215423481416394, \"source\": \"mcmc\"}, {\"idx\": 51, \"row\": 0, \"col\": 1, \"value\": 1.1682575702485254, \"source\": \"mcmc\"}, {\"idx\": 52, \"row\": 0, \"col\": 1, \"value\": 0.7566259849196116, \"source\": \"mcmc\"}, {\"idx\": 53, \"row\": 0, \"col\": 1, \"value\": 0.8283479083866435, \"source\": \"mcmc\"}, {\"idx\": 54, \"row\": 0, \"col\": 1, \"value\": 0.5590222884288896, \"source\": \"mcmc\"}, {\"idx\": 55, \"row\": 0, \"col\": 1, \"value\": 0.37567805693744855, \"source\": \"mcmc\"}, {\"idx\": 56, \"row\": 0, \"col\": 1, \"value\": -0.017298402291578682, \"source\": \"mcmc\"}, {\"idx\": 57, \"row\": 0, \"col\": 1, \"value\": 0.5011337507247333, \"source\": \"mcmc\"}, {\"idx\": 58, \"row\": 0, \"col\": 1, \"value\": 0.22704897330002854, \"source\": \"mcmc\"}, {\"idx\": 59, \"row\": 0, \"col\": 1, \"value\": 0.36687454659275937, \"source\": \"mcmc\"}, {\"idx\": 60, \"row\": 0, \"col\": 1, \"value\": 0.7623106769415497, \"source\": \"mcmc\"}, {\"idx\": 61, \"row\": 0, \"col\": 1, \"value\": 0.6609791404276446, \"source\": \"mcmc\"}, {\"idx\": 62, \"row\": 0, \"col\": 1, \"value\": 0.6938316753616195, \"source\": \"mcmc\"}, {\"idx\": 63, \"row\": 0, \"col\": 1, \"value\": 0.5428301824722054, \"source\": \"mcmc\"}, {\"idx\": 64, \"row\": 0, \"col\": 1, \"value\": 0.23397071107152376, \"source\": \"mcmc\"}, {\"idx\": 65, \"row\": 0, \"col\": 1, \"value\": 0.3633637496563629, \"source\": \"mcmc\"}, {\"idx\": 66, \"row\": 0, \"col\": 1, \"value\": 0.5168170177181768, \"source\": \"mcmc\"}, {\"idx\": 67, \"row\": 0, \"col\": 1, \"value\": 0.10535117930545293, \"source\": \"mcmc\"}, {\"idx\": 68, \"row\": 0, \"col\": 1, \"value\": 0.40261273887636634, \"source\": \"mcmc\"}, {\"idx\": 69, \"row\": 0, \"col\": 1, \"value\": 0.6458769306253822, \"source\": \"mcmc\"}, {\"idx\": 70, \"row\": 0, \"col\": 1, \"value\": 0.34641559868092814, \"source\": \"mcmc\"}, {\"idx\": 71, \"row\": 0, \"col\": 1, \"value\": 0.17375099059766738, \"source\": \"mcmc\"}, {\"idx\": 72, \"row\": 0, \"col\": 1, \"value\": 0.4661473170338803, \"source\": \"mcmc\"}, {\"idx\": 73, \"row\": 0, \"col\": 1, \"value\": 0.27781783965677787, \"source\": \"mcmc\"}, {\"idx\": 74, \"row\": 0, \"col\": 1, \"value\": 0.9228307109731679, \"source\": \"mcmc\"}, {\"idx\": 75, \"row\": 0, \"col\": 1, \"value\": 0.5712356965311429, \"source\": \"mcmc\"}, {\"idx\": 76, \"row\": 0, \"col\": 1, \"value\": 0.11791315496308598, \"source\": \"mcmc\"}, {\"idx\": 77, \"row\": 0, \"col\": 1, \"value\": 0.6726658227001515, \"source\": \"mcmc\"}, {\"idx\": 78, \"row\": 0, \"col\": 1, \"value\": 0.6750231448299607, \"source\": \"mcmc\"}, {\"idx\": 79, \"row\": 0, \"col\": 1, \"value\": 0.969178673712899, \"source\": \"mcmc\"}, {\"idx\": 80, \"row\": 0, \"col\": 1, \"value\": 0.49944869525290553, \"source\": \"mcmc\"}, {\"idx\": 81, \"row\": 0, \"col\": 1, \"value\": 0.5889668396778877, \"source\": \"mcmc\"}, {\"idx\": 82, \"row\": 0, \"col\": 1, \"value\": 0.25795747132396796, \"source\": \"mcmc\"}, {\"idx\": 83, \"row\": 0, \"col\": 1, \"value\": 0.27741269870676993, \"source\": \"mcmc\"}, {\"idx\": 84, \"row\": 0, \"col\": 1, \"value\": 0.2928787277223993, \"source\": \"mcmc\"}, {\"idx\": 85, \"row\": 0, \"col\": 1, \"value\": 0.046432237778620836, \"source\": \"mcmc\"}, {\"idx\": 86, \"row\": 0, \"col\": 1, \"value\": 0.3402225897236573, \"source\": \"mcmc\"}, {\"idx\": 87, \"row\": 0, \"col\": 1, \"value\": 0.1851989748713018, \"source\": \"mcmc\"}, {\"idx\": 88, \"row\": 0, \"col\": 1, \"value\": 0.6385019857087126, \"source\": \"mcmc\"}, {\"idx\": 89, \"row\": 0, \"col\": 1, \"value\": 0.21619440198848164, \"source\": \"mcmc\"}, {\"idx\": 90, \"row\": 0, \"col\": 1, \"value\": 0.6360802622183354, \"source\": \"mcmc\"}, {\"idx\": 91, \"row\": 0, \"col\": 1, \"value\": 0.49863030747839393, \"source\": \"mcmc\"}, {\"idx\": 92, \"row\": 0, \"col\": 1, \"value\": 0.5305214031935045, \"source\": \"mcmc\"}, {\"idx\": 93, \"row\": 0, \"col\": 1, \"value\": 0.7198391659029311, \"source\": \"mcmc\"}, {\"idx\": 94, \"row\": 0, \"col\": 1, \"value\": 0.5790654910883813, \"source\": \"mcmc\"}, {\"idx\": 95, \"row\": 0, \"col\": 1, \"value\": 0.17576563539904813, \"source\": \"mcmc\"}, {\"idx\": 96, \"row\": 0, \"col\": 1, \"value\": 0.296829316956513, \"source\": \"mcmc\"}, {\"idx\": 97, \"row\": 0, \"col\": 1, \"value\": 0.7919417001975723, \"source\": \"mcmc\"}, {\"idx\": 98, \"row\": 0, \"col\": 1, \"value\": 0.6748352982301394, \"source\": \"mcmc\"}, {\"idx\": 99, \"row\": 0, \"col\": 1, \"value\": 0.9973662100490257, \"source\": \"mcmc\"}, {\"idx\": 0, \"row\": 0, \"col\": 2, \"value\": -0.9602701210436071, \"source\": \"mcmc\"}, {\"idx\": 1, \"row\": 0, \"col\": 2, \"value\": -1.288311416186557, \"source\": \"mcmc\"}, {\"idx\": 2, \"row\": 0, \"col\": 2, \"value\": -1.5978582389448555, \"source\": \"mcmc\"}, {\"idx\": 3, \"row\": 0, \"col\": 2, \"value\": -2.0528600500026077, \"source\": \"mcmc\"}, {\"idx\": 4, \"row\": 0, \"col\": 2, \"value\": -1.1763085669098345, \"source\": \"mcmc\"}, {\"idx\": 5, \"row\": 0, \"col\": 2, \"value\": -1.8751061950349548, \"source\": \"mcmc\"}, {\"idx\": 6, \"row\": 0, \"col\": 2, \"value\": -1.9317359096809188, \"source\": \"mcmc\"}, {\"idx\": 7, \"row\": 0, \"col\": 2, \"value\": -1.7016041266305135, \"source\": \"mcmc\"}, {\"idx\": 8, \"row\": 0, \"col\": 2, \"value\": -1.7791903170186238, \"source\": \"mcmc\"}, {\"idx\": 9, \"row\": 0, \"col\": 2, \"value\": -1.328977724220237, \"source\": \"mcmc\"}, {\"idx\": 10, \"row\": 0, \"col\": 2, \"value\": -1.8445348740108027, \"source\": \"mcmc\"}, {\"idx\": 11, \"row\": 0, \"col\": 2, \"value\": -1.6432573478996009, \"source\": \"mcmc\"}, {\"idx\": 12, \"row\": 0, \"col\": 2, \"value\": -1.8660692363097668, \"source\": \"mcmc\"}, {\"idx\": 13, \"row\": 0, \"col\": 2, \"value\": -1.7420042310373067, \"source\": \"mcmc\"}, {\"idx\": 14, \"row\": 0, \"col\": 2, \"value\": -1.3608919466487353, \"source\": \"mcmc\"}, {\"idx\": 15, \"row\": 0, \"col\": 2, \"value\": -1.8655303182224507, \"source\": \"mcmc\"}, {\"idx\": 16, \"row\": 0, \"col\": 2, \"value\": -1.2133592344495345, \"source\": \"mcmc\"}, {\"idx\": 17, \"row\": 0, \"col\": 2, \"value\": -2.256307626350469, \"source\": \"mcmc\"}, {\"idx\": 18, \"row\": 0, \"col\": 2, \"value\": -1.6715685171702486, \"source\": \"mcmc\"}, {\"idx\": 19, \"row\": 0, \"col\": 2, \"value\": -1.4498741065926783, \"source\": \"mcmc\"}, {\"idx\": 20, \"row\": 0, \"col\": 2, \"value\": -1.5180412851524678, \"source\": \"mcmc\"}, {\"idx\": 21, \"row\": 0, \"col\": 2, \"value\": -1.6200095415057423, \"source\": \"mcmc\"}, {\"idx\": 22, \"row\": 0, \"col\": 2, \"value\": -1.7342213454918811, \"source\": \"mcmc\"}, {\"idx\": 23, \"row\": 0, \"col\": 2, \"value\": -1.5457332637086751, \"source\": \"mcmc\"}, {\"idx\": 24, \"row\": 0, \"col\": 2, \"value\": -1.564212687113133, \"source\": \"mcmc\"}, {\"idx\": 25, \"row\": 0, \"col\": 2, \"value\": -1.9784073839331682, \"source\": \"mcmc\"}, {\"idx\": 26, \"row\": 0, \"col\": 2, \"value\": -1.4209538249783304, \"source\": \"mcmc\"}, {\"idx\": 27, \"row\": 0, \"col\": 2, \"value\": -1.3746204494381502, \"source\": \"mcmc\"}, {\"idx\": 28, \"row\": 0, \"col\": 2, \"value\": -1.6983584053584928, \"source\": \"mcmc\"}, {\"idx\": 29, \"row\": 0, \"col\": 2, \"value\": -0.9530064143241073, \"source\": \"mcmc\"}, {\"idx\": 30, \"row\": 0, \"col\": 2, \"value\": -1.5081211923201734, \"source\": \"mcmc\"}, {\"idx\": 31, \"row\": 0, \"col\": 2, \"value\": -1.4782752844542042, \"source\": \"mcmc\"}, {\"idx\": 32, \"row\": 0, \"col\": 2, \"value\": -1.222793132635568, \"source\": \"mcmc\"}, {\"idx\": 33, \"row\": 0, \"col\": 2, \"value\": -1.2342650842220777, \"source\": \"mcmc\"}, {\"idx\": 34, \"row\": 0, \"col\": 2, \"value\": -1.372693238187651, \"source\": \"mcmc\"}, {\"idx\": 35, \"row\": 0, \"col\": 2, \"value\": -1.249162507139369, \"source\": \"mcmc\"}, {\"idx\": 36, \"row\": 0, \"col\": 2, \"value\": -1.4887553249306975, \"source\": \"mcmc\"}, {\"idx\": 37, \"row\": 0, \"col\": 2, \"value\": -1.0815912154535257, \"source\": \"mcmc\"}, {\"idx\": 38, \"row\": 0, \"col\": 2, \"value\": -1.6329924860390035, \"source\": \"mcmc\"}, {\"idx\": 39, \"row\": 0, \"col\": 2, \"value\": -1.867738697698445, \"source\": \"mcmc\"}, {\"idx\": 40, \"row\": 0, \"col\": 2, \"value\": -1.963152787382317, \"source\": \"mcmc\"}, {\"idx\": 41, \"row\": 0, \"col\": 2, \"value\": -1.8542902242940507, \"source\": \"mcmc\"}, {\"idx\": 42, \"row\": 0, \"col\": 2, \"value\": -2.0059184577680234, \"source\": \"mcmc\"}, {\"idx\": 43, \"row\": 0, \"col\": 2, \"value\": -1.950496874547933, \"source\": \"mcmc\"}, {\"idx\": 44, \"row\": 0, \"col\": 2, \"value\": -1.7999754426793346, \"source\": \"mcmc\"}, {\"idx\": 45, \"row\": 0, \"col\": 2, \"value\": -1.9038975507877303, \"source\": \"mcmc\"}, {\"idx\": 46, \"row\": 0, \"col\": 2, \"value\": -1.3089203805712588, \"source\": \"mcmc\"}, {\"idx\": 47, \"row\": 0, \"col\": 2, \"value\": -1.4088421642458804, \"source\": \"mcmc\"}, {\"idx\": 48, \"row\": 0, \"col\": 2, \"value\": -1.0463480385036257, \"source\": \"mcmc\"}, {\"idx\": 49, \"row\": 0, \"col\": 2, \"value\": -1.2905883002217238, \"source\": \"mcmc\"}, {\"idx\": 50, \"row\": 0, \"col\": 2, \"value\": -1.1407776652644785, \"source\": \"mcmc\"}, {\"idx\": 51, \"row\": 0, \"col\": 2, \"value\": -1.681592396703069, \"source\": \"mcmc\"}, {\"idx\": 52, \"row\": 0, \"col\": 2, \"value\": -2.307223484756296, \"source\": \"mcmc\"}, {\"idx\": 53, \"row\": 0, \"col\": 2, \"value\": -1.7593374560175545, \"source\": \"mcmc\"}, {\"idx\": 54, \"row\": 0, \"col\": 2, \"value\": -1.6126246892293108, \"source\": \"mcmc\"}, {\"idx\": 55, \"row\": 0, \"col\": 2, \"value\": -1.9426827979465553, \"source\": \"mcmc\"}, {\"idx\": 56, \"row\": 0, \"col\": 2, \"value\": -1.5769802743374066, \"source\": \"mcmc\"}, {\"idx\": 57, \"row\": 0, \"col\": 2, \"value\": -1.75795309106915, \"source\": \"mcmc\"}, {\"idx\": 58, \"row\": 0, \"col\": 2, \"value\": -1.5320061239920764, \"source\": \"mcmc\"}, {\"idx\": 59, \"row\": 0, \"col\": 2, \"value\": -1.5667858346024774, \"source\": \"mcmc\"}, {\"idx\": 60, \"row\": 0, \"col\": 2, \"value\": -1.655295076515415, \"source\": \"mcmc\"}, {\"idx\": 61, \"row\": 0, \"col\": 2, \"value\": -1.6711972970771671, \"source\": \"mcmc\"}, {\"idx\": 62, \"row\": 0, \"col\": 2, \"value\": -1.6796675623195618, \"source\": \"mcmc\"}, {\"idx\": 63, \"row\": 0, \"col\": 2, \"value\": -1.7059648004922718, \"source\": \"mcmc\"}, {\"idx\": 64, \"row\": 0, \"col\": 2, \"value\": -1.8991912405675784, \"source\": \"mcmc\"}, {\"idx\": 65, \"row\": 0, \"col\": 2, \"value\": -2.358492521761449, \"source\": \"mcmc\"}, {\"idx\": 66, \"row\": 0, \"col\": 2, \"value\": -1.609381177199766, \"source\": \"mcmc\"}, {\"idx\": 67, \"row\": 0, \"col\": 2, \"value\": -1.5205566390657008, \"source\": \"mcmc\"}, {\"idx\": 68, \"row\": 0, \"col\": 2, \"value\": -1.902899644227779, \"source\": \"mcmc\"}, {\"idx\": 69, \"row\": 0, \"col\": 2, \"value\": -1.3727974744957627, \"source\": \"mcmc\"}, {\"idx\": 70, \"row\": 0, \"col\": 2, \"value\": -1.841400474790466, \"source\": \"mcmc\"}, {\"idx\": 71, \"row\": 0, \"col\": 2, \"value\": -2.0377243357283183, \"source\": \"mcmc\"}, {\"idx\": 72, \"row\": 0, \"col\": 2, \"value\": -2.1579258932117518, \"source\": \"mcmc\"}, {\"idx\": 73, \"row\": 0, \"col\": 2, \"value\": -1.150533756557123, \"source\": \"mcmc\"}, {\"idx\": 74, \"row\": 0, \"col\": 2, \"value\": -1.4709880848417087, \"source\": \"mcmc\"}, {\"idx\": 75, \"row\": 0, \"col\": 2, \"value\": -1.1476575807618243, \"source\": \"mcmc\"}, {\"idx\": 76, \"row\": 0, \"col\": 2, \"value\": -1.2310722515912784, \"source\": \"mcmc\"}, {\"idx\": 77, \"row\": 0, \"col\": 2, \"value\": -1.3531657421874153, \"source\": \"mcmc\"}, {\"idx\": 78, \"row\": 0, \"col\": 2, \"value\": -1.794080428584763, \"source\": \"mcmc\"}, {\"idx\": 79, \"row\": 0, \"col\": 2, \"value\": -1.8566365744177293, \"source\": \"mcmc\"}, {\"idx\": 80, \"row\": 0, \"col\": 2, \"value\": -1.2727046083910918, \"source\": \"mcmc\"}, {\"idx\": 81, \"row\": 0, \"col\": 2, \"value\": -1.8680724486296674, \"source\": \"mcmc\"}, {\"idx\": 82, \"row\": 0, \"col\": 2, \"value\": -1.4798832093273977, \"source\": \"mcmc\"}, {\"idx\": 83, \"row\": 0, \"col\": 2, \"value\": -1.816269103694387, \"source\": \"mcmc\"}, {\"idx\": 84, \"row\": 0, \"col\": 2, \"value\": -1.973423619213958, \"source\": \"mcmc\"}, {\"idx\": 85, \"row\": 0, \"col\": 2, \"value\": -1.7898519342844952, \"source\": \"mcmc\"}, {\"idx\": 86, \"row\": 0, \"col\": 2, \"value\": -1.2937244215965873, \"source\": \"mcmc\"}, {\"idx\": 87, \"row\": 0, \"col\": 2, \"value\": -1.8798398640123528, \"source\": \"mcmc\"}, {\"idx\": 88, \"row\": 0, \"col\": 2, \"value\": -1.6035100863362477, \"source\": \"mcmc\"}, {\"idx\": 89, \"row\": 0, \"col\": 2, \"value\": -1.3599910881016868, \"source\": \"mcmc\"}, {\"idx\": 90, \"row\": 0, \"col\": 2, \"value\": -1.8239667099046692, \"source\": \"mcmc\"}, {\"idx\": 91, \"row\": 0, \"col\": 2, \"value\": -1.7075195113165458, \"source\": \"mcmc\"}, {\"idx\": 92, \"row\": 0, \"col\": 2, \"value\": -1.666439570831719, \"source\": \"mcmc\"}, {\"idx\": 93, \"row\": 0, \"col\": 2, \"value\": -1.0206436150369338, \"source\": \"mcmc\"}, {\"idx\": 94, \"row\": 0, \"col\": 2, \"value\": -1.5357774273240605, \"source\": \"mcmc\"}, {\"idx\": 95, \"row\": 0, \"col\": 2, \"value\": -1.2528886996030693, \"source\": \"mcmc\"}, {\"idx\": 96, \"row\": 0, \"col\": 2, \"value\": -2.2462579115084225, \"source\": \"mcmc\"}, {\"idx\": 97, \"row\": 0, \"col\": 2, \"value\": -1.835222045963581, \"source\": \"mcmc\"}, {\"idx\": 98, \"row\": 0, \"col\": 2, \"value\": -1.40872006866349, \"source\": \"mcmc\"}, {\"idx\": 99, \"row\": 0, \"col\": 2, \"value\": -1.886823274075828, \"source\": \"mcmc\"}, {\"idx\": 0, \"row\": 0, \"col\": 3, \"value\": -1.0632349374080718, \"source\": \"mcmc\"}, {\"idx\": 1, \"row\": 0, \"col\": 3, \"value\": -0.8890018014264011, \"source\": \"mcmc\"}, {\"idx\": 2, \"row\": 0, \"col\": 3, \"value\": -1.5912988555734393, \"source\": \"mcmc\"}, {\"idx\": 3, \"row\": 0, \"col\": 3, \"value\": -1.4448507336186245, \"source\": \"mcmc\"}, {\"idx\": 4, \"row\": 0, \"col\": 3, \"value\": -1.8168490790678473, \"source\": \"mcmc\"}, {\"idx\": 5, \"row\": 0, \"col\": 3, \"value\": -1.4455190659277144, \"source\": \"mcmc\"}, {\"idx\": 6, \"row\": 0, \"col\": 3, \"value\": -1.6283591602466136, \"source\": \"mcmc\"}, {\"idx\": 7, \"row\": 0, \"col\": 3, \"value\": -1.815716566156161, \"source\": \"mcmc\"}, {\"idx\": 8, \"row\": 0, \"col\": 3, \"value\": -2.2023601312268624, \"source\": \"mcmc\"}, {\"idx\": 9, \"row\": 0, \"col\": 3, \"value\": -1.6614169145432138, \"source\": \"mcmc\"}, {\"idx\": 10, \"row\": 0, \"col\": 3, \"value\": -0.944144557312049, \"source\": \"mcmc\"}, {\"idx\": 11, \"row\": 0, \"col\": 3, \"value\": -1.825235637288934, \"source\": \"mcmc\"}, {\"idx\": 12, \"row\": 0, \"col\": 3, \"value\": -1.7568041862608645, \"source\": \"mcmc\"}, {\"idx\": 13, \"row\": 0, \"col\": 3, \"value\": -1.567063108534032, \"source\": \"mcmc\"}, {\"idx\": 14, \"row\": 0, \"col\": 3, \"value\": -1.645322208707478, \"source\": \"mcmc\"}, {\"idx\": 15, \"row\": 0, \"col\": 3, \"value\": -1.5080436389489393, \"source\": \"mcmc\"}, {\"idx\": 16, \"row\": 0, \"col\": 3, \"value\": -1.9650744746214253, \"source\": \"mcmc\"}, {\"idx\": 17, \"row\": 0, \"col\": 3, \"value\": -1.7566125136695814, \"source\": \"mcmc\"}, {\"idx\": 18, \"row\": 0, \"col\": 3, \"value\": -1.328433701626206, \"source\": \"mcmc\"}, {\"idx\": 19, \"row\": 0, \"col\": 3, \"value\": -0.9127511437863539, \"source\": \"mcmc\"}, {\"idx\": 20, \"row\": 0, \"col\": 3, \"value\": -1.4890113045714903, \"source\": \"mcmc\"}, {\"idx\": 21, \"row\": 0, \"col\": 3, \"value\": -1.6434692289222936, \"source\": \"mcmc\"}, {\"idx\": 22, \"row\": 0, \"col\": 3, \"value\": -1.5680683132279858, \"source\": \"mcmc\"}, {\"idx\": 23, \"row\": 0, \"col\": 3, \"value\": -1.560520036056418, \"source\": \"mcmc\"}, {\"idx\": 24, \"row\": 0, \"col\": 3, \"value\": -1.7366508271582035, \"source\": \"mcmc\"}, {\"idx\": 25, \"row\": 0, \"col\": 3, \"value\": -1.5384415569494834, \"source\": \"mcmc\"}, {\"idx\": 26, \"row\": 0, \"col\": 3, \"value\": -1.3743843871757964, \"source\": \"mcmc\"}, {\"idx\": 27, \"row\": 0, \"col\": 3, \"value\": -1.7742219958465095, \"source\": \"mcmc\"}, {\"idx\": 28, \"row\": 0, \"col\": 3, \"value\": -1.0416713572856484, \"source\": \"mcmc\"}, {\"idx\": 29, \"row\": 0, \"col\": 3, \"value\": -1.5768872977922628, \"source\": \"mcmc\"}, {\"idx\": 30, \"row\": 0, \"col\": 3, \"value\": -1.5657654512897872, \"source\": \"mcmc\"}, {\"idx\": 31, \"row\": 0, \"col\": 3, \"value\": -1.3689471659951087, \"source\": \"mcmc\"}, {\"idx\": 32, \"row\": 0, \"col\": 3, \"value\": -1.299563201746674, \"source\": \"mcmc\"}, {\"idx\": 33, \"row\": 0, \"col\": 3, \"value\": -1.6574004827501843, \"source\": \"mcmc\"}, {\"idx\": 34, \"row\": 0, \"col\": 3, \"value\": -0.8901927742303495, \"source\": \"mcmc\"}, {\"idx\": 35, \"row\": 0, \"col\": 3, \"value\": -1.1066238128698986, \"source\": \"mcmc\"}, {\"idx\": 36, \"row\": 0, \"col\": 3, \"value\": -1.0960586051129027, \"source\": \"mcmc\"}, {\"idx\": 37, \"row\": 0, \"col\": 3, \"value\": -1.0339236563078174, \"source\": \"mcmc\"}, {\"idx\": 38, \"row\": 0, \"col\": 3, \"value\": -1.1128792706637638, \"source\": \"mcmc\"}, {\"idx\": 39, \"row\": 0, \"col\": 3, \"value\": -1.287283786181772, \"source\": \"mcmc\"}, {\"idx\": 40, \"row\": 0, \"col\": 3, \"value\": -1.4427268611979134, \"source\": \"mcmc\"}, {\"idx\": 41, \"row\": 0, \"col\": 3, \"value\": -2.056765271957055, \"source\": \"mcmc\"}, {\"idx\": 42, \"row\": 0, \"col\": 3, \"value\": -1.6043685791084399, \"source\": \"mcmc\"}, {\"idx\": 43, \"row\": 0, \"col\": 3, \"value\": -1.8117777538902509, \"source\": \"mcmc\"}, {\"idx\": 44, \"row\": 0, \"col\": 3, \"value\": -1.8526104413391966, \"source\": \"mcmc\"}, {\"idx\": 45, \"row\": 0, \"col\": 3, \"value\": -1.3903141571051185, \"source\": \"mcmc\"}, {\"idx\": 46, \"row\": 0, \"col\": 3, \"value\": -1.6929657052052076, \"source\": \"mcmc\"}, {\"idx\": 47, \"row\": 0, \"col\": 3, \"value\": -1.2678905988316793, \"source\": \"mcmc\"}, {\"idx\": 48, \"row\": 0, \"col\": 3, \"value\": -1.261767177496129, \"source\": \"mcmc\"}, {\"idx\": 49, \"row\": 0, \"col\": 3, \"value\": -1.2160117041820178, \"source\": \"mcmc\"}, {\"idx\": 50, \"row\": 0, \"col\": 3, \"value\": -1.2331593765816427, \"source\": \"mcmc\"}, {\"idx\": 51, \"row\": 0, \"col\": 3, \"value\": -1.2915448239701568, \"source\": \"mcmc\"}, {\"idx\": 52, \"row\": 0, \"col\": 3, \"value\": -1.473499939864334, \"source\": \"mcmc\"}, {\"idx\": 53, \"row\": 0, \"col\": 3, \"value\": -2.011840705999527, \"source\": \"mcmc\"}, {\"idx\": 54, \"row\": 0, \"col\": 3, \"value\": -1.8442863005474304, \"source\": \"mcmc\"}, {\"idx\": 55, \"row\": 0, \"col\": 3, \"value\": -1.8351537902292943, \"source\": \"mcmc\"}, {\"idx\": 56, \"row\": 0, \"col\": 3, \"value\": -1.483747866078701, \"source\": \"mcmc\"}, {\"idx\": 57, \"row\": 0, \"col\": 3, \"value\": -1.354790402835659, \"source\": \"mcmc\"}, {\"idx\": 58, \"row\": 0, \"col\": 3, \"value\": -1.6628316818289528, \"source\": \"mcmc\"}, {\"idx\": 59, \"row\": 0, \"col\": 3, \"value\": -1.108386327343623, \"source\": \"mcmc\"}, {\"idx\": 60, \"row\": 0, \"col\": 3, \"value\": -1.3838359163883391, \"source\": \"mcmc\"}, {\"idx\": 61, \"row\": 0, \"col\": 3, \"value\": -1.5181065625857602, \"source\": \"mcmc\"}, {\"idx\": 62, \"row\": 0, \"col\": 3, \"value\": -2.142405903780352, \"source\": \"mcmc\"}, {\"idx\": 63, \"row\": 0, \"col\": 3, \"value\": -1.5182105505255985, \"source\": \"mcmc\"}, {\"idx\": 64, \"row\": 0, \"col\": 3, \"value\": -1.582238420443453, \"source\": \"mcmc\"}, {\"idx\": 65, \"row\": 0, \"col\": 3, \"value\": -1.3731475888236344, \"source\": \"mcmc\"}, {\"idx\": 66, \"row\": 0, \"col\": 3, \"value\": -1.590649814469814, \"source\": \"mcmc\"}, {\"idx\": 67, \"row\": 0, \"col\": 3, \"value\": -2.2040330997586035, \"source\": \"mcmc\"}, {\"idx\": 68, \"row\": 0, \"col\": 3, \"value\": -1.2858849556278238, \"source\": \"mcmc\"}, {\"idx\": 69, \"row\": 0, \"col\": 3, \"value\": -1.0157872150839904, \"source\": \"mcmc\"}, {\"idx\": 70, \"row\": 0, \"col\": 3, \"value\": -1.1203804183638253, \"source\": \"mcmc\"}, {\"idx\": 71, \"row\": 0, \"col\": 3, \"value\": -1.2766459757512587, \"source\": \"mcmc\"}, {\"idx\": 72, \"row\": 0, \"col\": 3, \"value\": -1.1195725831332335, \"source\": \"mcmc\"}, {\"idx\": 73, \"row\": 0, \"col\": 3, \"value\": -1.3350074194012937, \"source\": \"mcmc\"}, {\"idx\": 74, \"row\": 0, \"col\": 3, \"value\": -1.5660974855811447, \"source\": \"mcmc\"}, {\"idx\": 75, \"row\": 0, \"col\": 3, \"value\": -1.2655018963405031, \"source\": \"mcmc\"}, {\"idx\": 76, \"row\": 0, \"col\": 3, \"value\": -1.2980136016824264, \"source\": \"mcmc\"}, {\"idx\": 77, \"row\": 0, \"col\": 3, \"value\": -1.3651545241777838, \"source\": \"mcmc\"}, {\"idx\": 78, \"row\": 0, \"col\": 3, \"value\": -1.412261450734774, \"source\": \"mcmc\"}, {\"idx\": 79, \"row\": 0, \"col\": 3, \"value\": -1.3093370175232464, \"source\": \"mcmc\"}, {\"idx\": 80, \"row\": 0, \"col\": 3, \"value\": -1.5343390918510489, \"source\": \"mcmc\"}, {\"idx\": 81, \"row\": 0, \"col\": 3, \"value\": -1.4222469912281361, \"source\": \"mcmc\"}, {\"idx\": 82, \"row\": 0, \"col\": 3, \"value\": -1.5403942572377063, \"source\": \"mcmc\"}, {\"idx\": 83, \"row\": 0, \"col\": 3, \"value\": -1.8669426678224867, \"source\": \"mcmc\"}, {\"idx\": 84, \"row\": 0, \"col\": 3, \"value\": -1.3311836485695494, \"source\": \"mcmc\"}, {\"idx\": 85, \"row\": 0, \"col\": 3, \"value\": -2.0478855095119175, \"source\": \"mcmc\"}, {\"idx\": 86, \"row\": 0, \"col\": 3, \"value\": -1.4608813859616918, \"source\": \"mcmc\"}, {\"idx\": 87, \"row\": 0, \"col\": 3, \"value\": -1.836900329522083, \"source\": \"mcmc\"}, {\"idx\": 88, \"row\": 0, \"col\": 3, \"value\": -1.867827484101767, \"source\": \"mcmc\"}, {\"idx\": 89, \"row\": 0, \"col\": 3, \"value\": -1.2686426670046391, \"source\": \"mcmc\"}, {\"idx\": 90, \"row\": 0, \"col\": 3, \"value\": -1.5127365954345928, \"source\": \"mcmc\"}, {\"idx\": 91, \"row\": 0, \"col\": 3, \"value\": -1.28733059358452, \"source\": \"mcmc\"}, {\"idx\": 92, \"row\": 0, \"col\": 3, \"value\": -2.1724763862788894, \"source\": \"mcmc\"}, {\"idx\": 93, \"row\": 0, \"col\": 3, \"value\": -1.0268724550963373, \"source\": \"mcmc\"}, {\"idx\": 94, \"row\": 0, \"col\": 3, \"value\": -2.2711879461162687, \"source\": \"mcmc\"}, {\"idx\": 95, \"row\": 0, \"col\": 3, \"value\": -0.9109796396557023, \"source\": \"mcmc\"}, {\"idx\": 96, \"row\": 0, \"col\": 3, \"value\": -1.2605919337970728, \"source\": \"mcmc\"}, {\"idx\": 97, \"row\": 0, \"col\": 3, \"value\": -1.1631473159275427, \"source\": \"mcmc\"}, {\"idx\": 98, \"row\": 0, \"col\": 3, \"value\": -1.3608958710698722, \"source\": \"mcmc\"}, {\"idx\": 99, \"row\": 0, \"col\": 3, \"value\": -1.3727044238190151, \"source\": \"mcmc\"}, {\"idx\": 0, \"row\": 0, \"col\": 4, \"value\": -0.6431822559430731, \"source\": \"mcmc\"}, {\"idx\": 1, \"row\": 0, \"col\": 4, \"value\": -1.178413883743201, \"source\": \"mcmc\"}, {\"idx\": 2, \"row\": 0, \"col\": 4, \"value\": -1.036750353565906, \"source\": \"mcmc\"}, {\"idx\": 3, \"row\": 0, \"col\": 4, \"value\": -1.3153257439808326, \"source\": \"mcmc\"}, {\"idx\": 4, \"row\": 0, \"col\": 4, \"value\": -0.43762574225555817, \"source\": \"mcmc\"}, {\"idx\": 5, \"row\": 0, \"col\": 4, \"value\": -0.558842272338483, \"source\": \"mcmc\"}, {\"idx\": 6, \"row\": 0, \"col\": 4, \"value\": -0.758750385772081, \"source\": \"mcmc\"}, {\"idx\": 7, \"row\": 0, \"col\": 4, \"value\": -0.9362036394149776, \"source\": \"mcmc\"}, {\"idx\": 8, \"row\": 0, \"col\": 4, \"value\": -1.247667006624081, \"source\": \"mcmc\"}, {\"idx\": 9, \"row\": 0, \"col\": 4, \"value\": -1.238602830047934, \"source\": \"mcmc\"}, {\"idx\": 10, \"row\": 0, \"col\": 4, \"value\": -1.1423940150392893, \"source\": \"mcmc\"}, {\"idx\": 11, \"row\": 0, \"col\": 4, \"value\": -1.0800120150979722, \"source\": \"mcmc\"}, {\"idx\": 12, \"row\": 0, \"col\": 4, \"value\": -1.174990981742475, \"source\": \"mcmc\"}, {\"idx\": 13, \"row\": 0, \"col\": 4, \"value\": -1.0347904114222695, \"source\": \"mcmc\"}, {\"idx\": 14, \"row\": 0, \"col\": 4, \"value\": -0.619871016082179, \"source\": \"mcmc\"}, {\"idx\": 15, \"row\": 0, \"col\": 4, \"value\": -0.811701933247516, \"source\": \"mcmc\"}, {\"idx\": 16, \"row\": 0, \"col\": 4, \"value\": -1.047842008447999, \"source\": \"mcmc\"}, {\"idx\": 17, \"row\": 0, \"col\": 4, \"value\": -1.111203443001316, \"source\": \"mcmc\"}, {\"idx\": 18, \"row\": 0, \"col\": 4, \"value\": -1.127380389717266, \"source\": \"mcmc\"}, {\"idx\": 19, \"row\": 0, \"col\": 4, \"value\": -0.7959107838027223, \"source\": \"mcmc\"}, {\"idx\": 20, \"row\": 0, \"col\": 4, \"value\": -0.47578480423047004, \"source\": \"mcmc\"}, {\"idx\": 21, \"row\": 0, \"col\": 4, \"value\": -0.6763453832596331, \"source\": \"mcmc\"}, {\"idx\": 22, \"row\": 0, \"col\": 4, \"value\": -0.42684607633018923, \"source\": \"mcmc\"}, {\"idx\": 23, \"row\": 0, \"col\": 4, \"value\": -0.9543042990435239, \"source\": \"mcmc\"}, {\"idx\": 24, \"row\": 0, \"col\": 4, \"value\": -1.2549875601722333, \"source\": \"mcmc\"}, {\"idx\": 25, \"row\": 0, \"col\": 4, \"value\": -1.0151922483273397, \"source\": \"mcmc\"}, {\"idx\": 26, \"row\": 0, \"col\": 4, \"value\": -0.9421022776406901, \"source\": \"mcmc\"}, {\"idx\": 27, \"row\": 0, \"col\": 4, \"value\": -1.0321194488059424, \"source\": \"mcmc\"}, {\"idx\": 28, \"row\": 0, \"col\": 4, \"value\": -0.9051618800023595, \"source\": \"mcmc\"}, {\"idx\": 29, \"row\": 0, \"col\": 4, \"value\": -1.0149087860187729, \"source\": \"mcmc\"}, {\"idx\": 30, \"row\": 0, \"col\": 4, \"value\": -1.4270217071281053, \"source\": \"mcmc\"}, {\"idx\": 31, \"row\": 0, \"col\": 4, \"value\": -0.8103104676334625, \"source\": \"mcmc\"}, {\"idx\": 32, \"row\": 0, \"col\": 4, \"value\": -0.9655955939169606, \"source\": \"mcmc\"}, {\"idx\": 33, \"row\": 0, \"col\": 4, \"value\": -0.8468599331594876, \"source\": \"mcmc\"}, {\"idx\": 34, \"row\": 0, \"col\": 4, \"value\": -0.7690998227977587, \"source\": \"mcmc\"}, {\"idx\": 35, \"row\": 0, \"col\": 4, \"value\": -0.9115833832714546, \"source\": \"mcmc\"}, {\"idx\": 36, \"row\": 0, \"col\": 4, \"value\": -1.1449685341914115, \"source\": \"mcmc\"}, {\"idx\": 37, \"row\": 0, \"col\": 4, \"value\": -0.6429176318022861, \"source\": \"mcmc\"}, {\"idx\": 38, \"row\": 0, \"col\": 4, \"value\": -1.2020165653455253, \"source\": \"mcmc\"}, {\"idx\": 39, \"row\": 0, \"col\": 4, \"value\": -0.9841881633805463, \"source\": \"mcmc\"}, {\"idx\": 40, \"row\": 0, \"col\": 4, \"value\": -0.6611625263057508, \"source\": \"mcmc\"}, {\"idx\": 41, \"row\": 0, \"col\": 4, \"value\": -1.4217182745103236, \"source\": \"mcmc\"}, {\"idx\": 42, \"row\": 0, \"col\": 4, \"value\": -1.4298312595382212, \"source\": \"mcmc\"}, {\"idx\": 43, \"row\": 0, \"col\": 4, \"value\": -1.0328440905266294, \"source\": \"mcmc\"}, {\"idx\": 44, \"row\": 0, \"col\": 4, \"value\": -1.0935360998555885, \"source\": \"mcmc\"}, {\"idx\": 45, \"row\": 0, \"col\": 4, \"value\": -0.7677350407545752, \"source\": \"mcmc\"}, {\"idx\": 46, \"row\": 0, \"col\": 4, \"value\": -1.1122478754719727, \"source\": \"mcmc\"}, {\"idx\": 47, \"row\": 0, \"col\": 4, \"value\": -0.9747857477547932, \"source\": \"mcmc\"}, {\"idx\": 48, \"row\": 0, \"col\": 4, \"value\": -0.4974775379663974, \"source\": \"mcmc\"}, {\"idx\": 49, \"row\": 0, \"col\": 4, \"value\": -1.3857557884950882, \"source\": \"mcmc\"}, {\"idx\": 50, \"row\": 0, \"col\": 4, \"value\": -0.3735713897880776, \"source\": \"mcmc\"}, {\"idx\": 51, \"row\": 0, \"col\": 4, \"value\": -0.9845332498176288, \"source\": \"mcmc\"}, {\"idx\": 52, \"row\": 0, \"col\": 4, \"value\": -0.7365449712561456, \"source\": \"mcmc\"}, {\"idx\": 53, \"row\": 0, \"col\": 4, \"value\": -1.2836376177253803, \"source\": \"mcmc\"}, {\"idx\": 54, \"row\": 0, \"col\": 4, \"value\": -1.2831698935460785, \"source\": \"mcmc\"}, {\"idx\": 55, \"row\": 0, \"col\": 4, \"value\": -0.9489868555709974, \"source\": \"mcmc\"}, {\"idx\": 56, \"row\": 0, \"col\": 4, \"value\": -0.7451336481503633, \"source\": \"mcmc\"}, {\"idx\": 57, \"row\": 0, \"col\": 4, \"value\": -0.9838298106885557, \"source\": \"mcmc\"}, {\"idx\": 58, \"row\": 0, \"col\": 4, \"value\": -0.43484444313429765, \"source\": \"mcmc\"}, {\"idx\": 59, \"row\": 0, \"col\": 4, \"value\": -1.0284320400452356, \"source\": \"mcmc\"}, {\"idx\": 60, \"row\": 0, \"col\": 4, \"value\": -0.8427212026624344, \"source\": \"mcmc\"}, {\"idx\": 61, \"row\": 0, \"col\": 4, \"value\": -1.2514617016460046, \"source\": \"mcmc\"}, {\"idx\": 62, \"row\": 0, \"col\": 4, \"value\": -1.1446497260275823, \"source\": \"mcmc\"}, {\"idx\": 63, \"row\": 0, \"col\": 4, \"value\": -1.2615459700282394, \"source\": \"mcmc\"}, {\"idx\": 64, \"row\": 0, \"col\": 4, \"value\": -1.0226019423422537, \"source\": \"mcmc\"}, {\"idx\": 65, \"row\": 0, \"col\": 4, \"value\": -0.8535952324756109, \"source\": \"mcmc\"}, {\"idx\": 66, \"row\": 0, \"col\": 4, \"value\": -0.7741697983854172, \"source\": \"mcmc\"}, {\"idx\": 67, \"row\": 0, \"col\": 4, \"value\": -0.8771443268873448, \"source\": \"mcmc\"}, {\"idx\": 68, \"row\": 0, \"col\": 4, \"value\": -0.7829109160386226, \"source\": \"mcmc\"}, {\"idx\": 69, \"row\": 0, \"col\": 4, \"value\": -0.9931636065941027, \"source\": \"mcmc\"}, {\"idx\": 70, \"row\": 0, \"col\": 4, \"value\": -1.1115919946555552, \"source\": \"mcmc\"}, {\"idx\": 71, \"row\": 0, \"col\": 4, \"value\": -1.0354597752949837, \"source\": \"mcmc\"}, {\"idx\": 72, \"row\": 0, \"col\": 4, \"value\": -0.46087158734373684, \"source\": \"mcmc\"}, {\"idx\": 73, \"row\": 0, \"col\": 4, \"value\": -0.4452664690491394, \"source\": \"mcmc\"}, {\"idx\": 74, \"row\": 0, \"col\": 4, \"value\": -0.5717902112450431, \"source\": \"mcmc\"}, {\"idx\": 75, \"row\": 0, \"col\": 4, \"value\": -0.7404065250372047, \"source\": \"mcmc\"}, {\"idx\": 76, \"row\": 0, \"col\": 4, \"value\": -1.0122888312215197, \"source\": \"mcmc\"}, {\"idx\": 77, \"row\": 0, \"col\": 4, \"value\": -1.0230812316423998, \"source\": \"mcmc\"}, {\"idx\": 78, \"row\": 0, \"col\": 4, \"value\": -0.8406282502396175, \"source\": \"mcmc\"}, {\"idx\": 79, \"row\": 0, \"col\": 4, \"value\": -0.8365047031837798, \"source\": \"mcmc\"}, {\"idx\": 80, \"row\": 0, \"col\": 4, \"value\": -0.883539402838859, \"source\": \"mcmc\"}, {\"idx\": 81, \"row\": 0, \"col\": 4, \"value\": -0.9749425131633815, \"source\": \"mcmc\"}, {\"idx\": 82, \"row\": 0, \"col\": 4, \"value\": -0.6439705333890224, \"source\": \"mcmc\"}, {\"idx\": 83, \"row\": 0, \"col\": 4, \"value\": -1.2047110101239389, \"source\": \"mcmc\"}, {\"idx\": 84, \"row\": 0, \"col\": 4, \"value\": -1.059340383862654, \"source\": \"mcmc\"}, {\"idx\": 85, \"row\": 0, \"col\": 4, \"value\": -1.225835337297137, \"source\": \"mcmc\"}, {\"idx\": 86, \"row\": 0, \"col\": 4, \"value\": -1.2360990475314881, \"source\": \"mcmc\"}, {\"idx\": 87, \"row\": 0, \"col\": 4, \"value\": -1.0650012617728828, \"source\": \"mcmc\"}, {\"idx\": 88, \"row\": 0, \"col\": 4, \"value\": -0.9817047653511737, \"source\": \"mcmc\"}, {\"idx\": 89, \"row\": 0, \"col\": 4, \"value\": -1.5425535642765813, \"source\": \"mcmc\"}, {\"idx\": 90, \"row\": 0, \"col\": 4, \"value\": -1.293094133904603, \"source\": \"mcmc\"}, {\"idx\": 91, \"row\": 0, \"col\": 4, \"value\": -1.284140034203458, \"source\": \"mcmc\"}, {\"idx\": 92, \"row\": 0, \"col\": 4, \"value\": -0.708144131849515, \"source\": \"mcmc\"}, {\"idx\": 93, \"row\": 0, \"col\": 4, \"value\": -0.5354263985257166, \"source\": \"mcmc\"}, {\"idx\": 94, \"row\": 0, \"col\": 4, \"value\": -1.0924532026919485, \"source\": \"mcmc\"}, {\"idx\": 95, \"row\": 0, \"col\": 4, \"value\": -1.023507810416253, \"source\": \"mcmc\"}, {\"idx\": 96, \"row\": 0, \"col\": 4, \"value\": -1.1962582912994786, \"source\": \"mcmc\"}, {\"idx\": 97, \"row\": 0, \"col\": 4, \"value\": -1.1168548602294028, \"source\": \"mcmc\"}, {\"idx\": 98, \"row\": 0, \"col\": 4, \"value\": -1.2601562779497937, \"source\": \"mcmc\"}, {\"idx\": 99, \"row\": 0, \"col\": 4, \"value\": -0.45568822691274197, \"source\": \"mcmc\"}, {\"idx\": 0, \"row\": 0, \"col\": 5, \"value\": -2.5303679837609483, \"source\": \"mcmc\"}, {\"idx\": 1, \"row\": 0, \"col\": 5, \"value\": -2.610164856932548, \"source\": \"mcmc\"}, {\"idx\": 2, \"row\": 0, \"col\": 5, \"value\": -1.9558548520305008, \"source\": \"mcmc\"}, {\"idx\": 3, \"row\": 0, \"col\": 5, \"value\": -2.723080196764613, \"source\": \"mcmc\"}, {\"idx\": 4, \"row\": 0, \"col\": 5, \"value\": -2.753676851629622, \"source\": \"mcmc\"}, {\"idx\": 5, \"row\": 0, \"col\": 5, \"value\": -2.5916649868351604, \"source\": \"mcmc\"}, {\"idx\": 6, \"row\": 0, \"col\": 5, \"value\": -2.601129707610669, \"source\": \"mcmc\"}, {\"idx\": 7, \"row\": 0, \"col\": 5, \"value\": -2.001585869877543, \"source\": \"mcmc\"}, {\"idx\": 8, \"row\": 0, \"col\": 5, \"value\": -2.522591587094306, \"source\": \"mcmc\"}, {\"idx\": 9, \"row\": 0, \"col\": 5, \"value\": -2.1874456828119673, \"source\": \"mcmc\"}, {\"idx\": 10, \"row\": 0, \"col\": 5, \"value\": -2.361315662903276, \"source\": \"mcmc\"}, {\"idx\": 11, \"row\": 0, \"col\": 5, \"value\": -2.063319731188306, \"source\": \"mcmc\"}, {\"idx\": 12, \"row\": 0, \"col\": 5, \"value\": -2.0613227124453832, \"source\": \"mcmc\"}, {\"idx\": 13, \"row\": 0, \"col\": 5, \"value\": -2.1723708719357826, \"source\": \"mcmc\"}, {\"idx\": 14, \"row\": 0, \"col\": 5, \"value\": -2.732907822243166, \"source\": \"mcmc\"}, {\"idx\": 15, \"row\": 0, \"col\": 5, \"value\": -2.5708111211594895, \"source\": \"mcmc\"}, {\"idx\": 16, \"row\": 0, \"col\": 5, \"value\": -2.366404326636815, \"source\": \"mcmc\"}, {\"idx\": 17, \"row\": 0, \"col\": 5, \"value\": -2.588873963210085, \"source\": \"mcmc\"}, {\"idx\": 18, \"row\": 0, \"col\": 5, \"value\": -2.6420796235578496, \"source\": \"mcmc\"}, {\"idx\": 19, \"row\": 0, \"col\": 5, \"value\": -2.0410044353840058, \"source\": \"mcmc\"}, {\"idx\": 20, \"row\": 0, \"col\": 5, \"value\": -2.5056086522337546, \"source\": \"mcmc\"}, {\"idx\": 21, \"row\": 0, \"col\": 5, \"value\": -2.471322513589158, \"source\": \"mcmc\"}, {\"idx\": 22, \"row\": 0, \"col\": 5, \"value\": -1.8800393745415702, \"source\": \"mcmc\"}, {\"idx\": 23, \"row\": 0, \"col\": 5, \"value\": -2.1508633041131393, \"source\": \"mcmc\"}, {\"idx\": 24, \"row\": 0, \"col\": 5, \"value\": -2.5486434460299963, \"source\": \"mcmc\"}, {\"idx\": 25, \"row\": 0, \"col\": 5, \"value\": -3.251059878504975, \"source\": \"mcmc\"}, {\"idx\": 26, \"row\": 0, \"col\": 5, \"value\": -2.7772005241478217, \"source\": \"mcmc\"}, {\"idx\": 27, \"row\": 0, \"col\": 5, \"value\": -2.193625239656101, \"source\": \"mcmc\"}, {\"idx\": 28, \"row\": 0, \"col\": 5, \"value\": -2.2318356976529383, \"source\": \"mcmc\"}, {\"idx\": 29, \"row\": 0, \"col\": 5, \"value\": -2.578206187855761, \"source\": \"mcmc\"}, {\"idx\": 30, \"row\": 0, \"col\": 5, \"value\": -2.270197352905753, \"source\": \"mcmc\"}, {\"idx\": 31, \"row\": 0, \"col\": 5, \"value\": -2.2484106093783707, \"source\": \"mcmc\"}, {\"idx\": 32, \"row\": 0, \"col\": 5, \"value\": -2.3680088190370676, \"source\": \"mcmc\"}, {\"idx\": 33, \"row\": 0, \"col\": 5, \"value\": -2.075213476626518, \"source\": \"mcmc\"}, {\"idx\": 34, \"row\": 0, \"col\": 5, \"value\": -2.376894473918459, \"source\": \"mcmc\"}, {\"idx\": 35, \"row\": 0, \"col\": 5, \"value\": -1.9764439807262628, \"source\": \"mcmc\"}, {\"idx\": 36, \"row\": 0, \"col\": 5, \"value\": -2.881363541918127, \"source\": \"mcmc\"}, {\"idx\": 37, \"row\": 0, \"col\": 5, \"value\": -1.9341885375842751, \"source\": \"mcmc\"}, {\"idx\": 38, \"row\": 0, \"col\": 5, \"value\": -2.8580730912930274, \"source\": \"mcmc\"}, {\"idx\": 39, \"row\": 0, \"col\": 5, \"value\": -2.604913319355056, \"source\": \"mcmc\"}, {\"idx\": 40, \"row\": 0, \"col\": 5, \"value\": -2.379422246651111, \"source\": \"mcmc\"}, {\"idx\": 41, \"row\": 0, \"col\": 5, \"value\": -2.550640938045969, \"source\": \"mcmc\"}, {\"idx\": 42, \"row\": 0, \"col\": 5, \"value\": -2.6940429034645743, \"source\": \"mcmc\"}, {\"idx\": 43, \"row\": 0, \"col\": 5, \"value\": -2.360516540484726, \"source\": \"mcmc\"}, {\"idx\": 44, \"row\": 0, \"col\": 5, \"value\": -2.093082371688207, \"source\": \"mcmc\"}, {\"idx\": 45, \"row\": 0, \"col\": 5, \"value\": -2.439668412456758, \"source\": \"mcmc\"}, {\"idx\": 46, \"row\": 0, \"col\": 5, \"value\": -2.6420938809646204, \"source\": \"mcmc\"}, {\"idx\": 47, \"row\": 0, \"col\": 5, \"value\": -2.1070996061391116, \"source\": \"mcmc\"}, {\"idx\": 48, \"row\": 0, \"col\": 5, \"value\": -1.9776039010509985, \"source\": \"mcmc\"}, {\"idx\": 49, \"row\": 0, \"col\": 5, \"value\": -2.1381785862147424, \"source\": \"mcmc\"}, {\"idx\": 50, \"row\": 0, \"col\": 5, \"value\": -2.6394949780447146, \"source\": \"mcmc\"}, {\"idx\": 51, \"row\": 0, \"col\": 5, \"value\": -1.5888032926466373, \"source\": \"mcmc\"}, {\"idx\": 52, \"row\": 0, \"col\": 5, \"value\": -2.3488011248929825, \"source\": \"mcmc\"}, {\"idx\": 53, \"row\": 0, \"col\": 5, \"value\": -2.2509208795738034, \"source\": \"mcmc\"}, {\"idx\": 54, \"row\": 0, \"col\": 5, \"value\": -2.4873615786994616, \"source\": \"mcmc\"}, {\"idx\": 55, \"row\": 0, \"col\": 5, \"value\": -2.8099455854154805, \"source\": \"mcmc\"}, {\"idx\": 56, \"row\": 0, \"col\": 5, \"value\": -2.3670198424369726, \"source\": \"mcmc\"}, {\"idx\": 57, \"row\": 0, \"col\": 5, \"value\": -2.030484854141808, \"source\": \"mcmc\"}, {\"idx\": 58, \"row\": 0, \"col\": 5, \"value\": -2.6734227678072453, \"source\": \"mcmc\"}, {\"idx\": 59, \"row\": 0, \"col\": 5, \"value\": -2.5396756834756973, \"source\": \"mcmc\"}, {\"idx\": 60, \"row\": 0, \"col\": 5, \"value\": -2.596027394822073, \"source\": \"mcmc\"}, {\"idx\": 61, \"row\": 0, \"col\": 5, \"value\": -2.1514530272989782, \"source\": \"mcmc\"}, {\"idx\": 62, \"row\": 0, \"col\": 5, \"value\": -2.7524399108167605, \"source\": \"mcmc\"}, {\"idx\": 63, \"row\": 0, \"col\": 5, \"value\": -2.2924951907431064, \"source\": \"mcmc\"}, {\"idx\": 64, \"row\": 0, \"col\": 5, \"value\": -3.2189693265358716, \"source\": \"mcmc\"}, {\"idx\": 65, \"row\": 0, \"col\": 5, \"value\": -2.6749700142561874, \"source\": \"mcmc\"}, {\"idx\": 66, \"row\": 0, \"col\": 5, \"value\": -2.2285878666847325, \"source\": \"mcmc\"}, {\"idx\": 67, \"row\": 0, \"col\": 5, \"value\": -2.2529131536872646, \"source\": \"mcmc\"}, {\"idx\": 68, \"row\": 0, \"col\": 5, \"value\": -1.6082212229018356, \"source\": \"mcmc\"}, {\"idx\": 69, \"row\": 0, \"col\": 5, \"value\": -1.607179565510319, \"source\": \"mcmc\"}, {\"idx\": 70, \"row\": 0, \"col\": 5, \"value\": -2.6709244253711146, \"source\": \"mcmc\"}, {\"idx\": 71, \"row\": 0, \"col\": 5, \"value\": -2.156439764567503, \"source\": \"mcmc\"}, {\"idx\": 72, \"row\": 0, \"col\": 5, \"value\": -1.8687054327000483, \"source\": \"mcmc\"}, {\"idx\": 73, \"row\": 0, \"col\": 5, \"value\": -2.3567627105079674, \"source\": \"mcmc\"}, {\"idx\": 74, \"row\": 0, \"col\": 5, \"value\": -2.1130408674150067, \"source\": \"mcmc\"}, {\"idx\": 75, \"row\": 0, \"col\": 5, \"value\": -1.8405503798587866, \"source\": \"mcmc\"}, {\"idx\": 76, \"row\": 0, \"col\": 5, \"value\": -1.91039732412755, \"source\": \"mcmc\"}, {\"idx\": 77, \"row\": 0, \"col\": 5, \"value\": -2.7738186080234746, \"source\": \"mcmc\"}, {\"idx\": 78, \"row\": 0, \"col\": 5, \"value\": -2.527761689960028, \"source\": \"mcmc\"}, {\"idx\": 79, \"row\": 0, \"col\": 5, \"value\": -2.371587866290618, \"source\": \"mcmc\"}, {\"idx\": 80, \"row\": 0, \"col\": 5, \"value\": -2.6533022995215503, \"source\": \"mcmc\"}, {\"idx\": 81, \"row\": 0, \"col\": 5, \"value\": -1.961575634007255, \"source\": \"mcmc\"}, {\"idx\": 82, \"row\": 0, \"col\": 5, \"value\": -2.0237103396572946, \"source\": \"mcmc\"}, {\"idx\": 83, \"row\": 0, \"col\": 5, \"value\": -2.7006119801180164, \"source\": \"mcmc\"}, {\"idx\": 84, \"row\": 0, \"col\": 5, \"value\": -2.3256945296980867, \"source\": \"mcmc\"}, {\"idx\": 85, \"row\": 0, \"col\": 5, \"value\": -1.9910315576974373, \"source\": \"mcmc\"}, {\"idx\": 86, \"row\": 0, \"col\": 5, \"value\": -2.5667672305299303, \"source\": \"mcmc\"}, {\"idx\": 87, \"row\": 0, \"col\": 5, \"value\": -2.6936612672530216, \"source\": \"mcmc\"}, {\"idx\": 88, \"row\": 0, \"col\": 5, \"value\": -2.2940805203851284, \"source\": \"mcmc\"}, {\"idx\": 89, \"row\": 0, \"col\": 5, \"value\": -2.4412484709242896, \"source\": \"mcmc\"}, {\"idx\": 90, \"row\": 0, \"col\": 5, \"value\": -2.471575342749013, \"source\": \"mcmc\"}, {\"idx\": 91, \"row\": 0, \"col\": 5, \"value\": -2.717248421736757, \"source\": \"mcmc\"}, {\"idx\": 92, \"row\": 0, \"col\": 5, \"value\": -2.4333736910001336, \"source\": \"mcmc\"}, {\"idx\": 93, \"row\": 0, \"col\": 5, \"value\": -2.151333714358206, \"source\": \"mcmc\"}, {\"idx\": 94, \"row\": 0, \"col\": 5, \"value\": -2.161739013381869, \"source\": \"mcmc\"}, {\"idx\": 95, \"row\": 0, \"col\": 5, \"value\": -2.2682666149990753, \"source\": \"mcmc\"}, {\"idx\": 96, \"row\": 0, \"col\": 5, \"value\": -2.1726371441391934, \"source\": \"mcmc\"}, {\"idx\": 97, \"row\": 0, \"col\": 5, \"value\": -2.0177116026940376, \"source\": \"mcmc\"}, {\"idx\": 98, \"row\": 0, \"col\": 5, \"value\": -2.3550848241942073, \"source\": \"mcmc\"}, {\"idx\": 99, \"row\": 0, \"col\": 5, \"value\": -2.188296577021107, \"source\": \"mcmc\"}, {\"idx\": 0, \"row\": 0, \"col\": 0, \"value\": -0.7574553361626318, \"source\": \"smc2\"}, {\"idx\": 1, \"row\": 0, \"col\": 0, \"value\": -1.0423522333997397, \"source\": \"smc2\"}, {\"idx\": 2, \"row\": 0, \"col\": 0, \"value\": -0.9559647729070048, \"source\": \"smc2\"}, {\"idx\": 3, \"row\": 0, \"col\": 0, \"value\": -0.04233252950098862, \"source\": \"smc2\"}, {\"idx\": 4, \"row\": 0, \"col\": 0, \"value\": -0.429909555902759, \"source\": \"smc2\"}, {\"idx\": 5, \"row\": 0, \"col\": 0, \"value\": 0.20721775575009835, \"source\": \"smc2\"}, {\"idx\": 6, \"row\": 0, \"col\": 0, \"value\": -0.3839385170103548, \"source\": \"smc2\"}, {\"idx\": 7, \"row\": 0, \"col\": 0, \"value\": -0.9798784712089554, \"source\": \"smc2\"}, {\"idx\": 8, \"row\": 0, \"col\": 0, \"value\": -0.5575791271511498, \"source\": \"smc2\"}, {\"idx\": 9, \"row\": 0, \"col\": 0, \"value\": -0.13122886762732694, \"source\": \"smc2\"}, {\"idx\": 10, \"row\": 0, \"col\": 0, \"value\": -1.2155329732041862, \"source\": \"smc2\"}, {\"idx\": 11, \"row\": 0, \"col\": 0, \"value\": -0.27664208729768563, \"source\": \"smc2\"}, {\"idx\": 12, \"row\": 0, \"col\": 0, \"value\": -0.8885953832307563, \"source\": \"smc2\"}, {\"idx\": 13, \"row\": 0, \"col\": 0, \"value\": -0.26378440213016846, \"source\": \"smc2\"}, {\"idx\": 14, \"row\": 0, \"col\": 0, \"value\": -0.5974209041438145, \"source\": \"smc2\"}, {\"idx\": 15, \"row\": 0, \"col\": 0, \"value\": -0.743894792496612, \"source\": \"smc2\"}, {\"idx\": 16, \"row\": 0, \"col\": 0, \"value\": -0.03136450670633076, \"source\": \"smc2\"}, {\"idx\": 17, \"row\": 0, \"col\": 0, \"value\": -0.7418020429696169, \"source\": \"smc2\"}, {\"idx\": 18, \"row\": 0, \"col\": 0, \"value\": -0.886269499931562, \"source\": \"smc2\"}, {\"idx\": 19, \"row\": 0, \"col\": 0, \"value\": -0.4320177918013841, \"source\": \"smc2\"}, {\"idx\": 20, \"row\": 0, \"col\": 0, \"value\": -0.7843386688073217, \"source\": \"smc2\"}, {\"idx\": 21, \"row\": 0, \"col\": 0, \"value\": -0.40621304013673537, \"source\": \"smc2\"}, {\"idx\": 22, \"row\": 0, \"col\": 0, \"value\": -0.685780340914664, \"source\": \"smc2\"}, {\"idx\": 23, \"row\": 0, \"col\": 0, \"value\": -1.2954245649999863, \"source\": \"smc2\"}, {\"idx\": 24, \"row\": 0, \"col\": 0, \"value\": 0.25220673443539754, \"source\": \"smc2\"}, {\"idx\": 25, \"row\": 0, \"col\": 0, \"value\": -0.7239783016574645, \"source\": \"smc2\"}, {\"idx\": 26, \"row\": 0, \"col\": 0, \"value\": -0.10048771321971776, \"source\": \"smc2\"}, {\"idx\": 27, \"row\": 0, \"col\": 0, \"value\": 0.08306708166936294, \"source\": \"smc2\"}, {\"idx\": 28, \"row\": 0, \"col\": 0, \"value\": -0.2900235770787537, \"source\": \"smc2\"}, {\"idx\": 29, \"row\": 0, \"col\": 0, \"value\": -0.47110828083541173, \"source\": \"smc2\"}, {\"idx\": 30, \"row\": 0, \"col\": 0, \"value\": -0.5771518829773536, \"source\": \"smc2\"}, {\"idx\": 31, \"row\": 0, \"col\": 0, \"value\": -0.13212049294507963, \"source\": \"smc2\"}, {\"idx\": 32, \"row\": 0, \"col\": 0, \"value\": -0.19357649945946048, \"source\": \"smc2\"}, {\"idx\": 33, \"row\": 0, \"col\": 0, \"value\": -0.5009058607067947, \"source\": \"smc2\"}, {\"idx\": 34, \"row\": 0, \"col\": 0, \"value\": -0.28269700898303546, \"source\": \"smc2\"}, {\"idx\": 35, \"row\": 0, \"col\": 0, \"value\": -1.1105930154469226, \"source\": \"smc2\"}, {\"idx\": 36, \"row\": 0, \"col\": 0, \"value\": -0.1696966315616568, \"source\": \"smc2\"}, {\"idx\": 37, \"row\": 0, \"col\": 0, \"value\": -0.007027387894975104, \"source\": \"smc2\"}, {\"idx\": 38, \"row\": 0, \"col\": 0, \"value\": -0.59818720437185, \"source\": \"smc2\"}, {\"idx\": 39, \"row\": 0, \"col\": 0, \"value\": -0.0011278325067992367, \"source\": \"smc2\"}, {\"idx\": 40, \"row\": 0, \"col\": 0, \"value\": -0.4394500545648487, \"source\": \"smc2\"}, {\"idx\": 41, \"row\": 0, \"col\": 0, \"value\": -0.7519098713138284, \"source\": \"smc2\"}, {\"idx\": 42, \"row\": 0, \"col\": 0, \"value\": -0.14756372769569634, \"source\": \"smc2\"}, {\"idx\": 43, \"row\": 0, \"col\": 0, \"value\": -0.6070468381230818, \"source\": \"smc2\"}, {\"idx\": 44, \"row\": 0, \"col\": 0, \"value\": -1.4012727768989819, \"source\": \"smc2\"}, {\"idx\": 45, \"row\": 0, \"col\": 0, \"value\": -0.4474144557380377, \"source\": \"smc2\"}, {\"idx\": 46, \"row\": 0, \"col\": 0, \"value\": 0.34514453166658443, \"source\": \"smc2\"}, {\"idx\": 47, \"row\": 0, \"col\": 0, \"value\": -0.3950517110185403, \"source\": \"smc2\"}, {\"idx\": 48, \"row\": 0, \"col\": 0, \"value\": -0.2500522300586274, \"source\": \"smc2\"}, {\"idx\": 49, \"row\": 0, \"col\": 0, \"value\": 0.12225033350918289, \"source\": \"smc2\"}, {\"idx\": 0, \"row\": 0, \"col\": 1, \"value\": 0.39946988439622083, \"source\": \"smc2\"}, {\"idx\": 1, \"row\": 0, \"col\": 1, \"value\": 0.4090360215398874, \"source\": \"smc2\"}, {\"idx\": 2, \"row\": 0, \"col\": 1, \"value\": -0.9686155830577196, \"source\": \"smc2\"}, {\"idx\": 3, \"row\": 0, \"col\": 1, \"value\": 0.26198487892268757, \"source\": \"smc2\"}, {\"idx\": 4, \"row\": 0, \"col\": 1, \"value\": 0.22337377840243947, \"source\": \"smc2\"}, {\"idx\": 5, \"row\": 0, \"col\": 1, \"value\": -0.03138338743266268, \"source\": \"smc2\"}, {\"idx\": 6, \"row\": 0, \"col\": 1, \"value\": -0.17299480214471208, \"source\": \"smc2\"}, {\"idx\": 7, \"row\": 0, \"col\": 1, \"value\": -0.806518278619049, \"source\": \"smc2\"}, {\"idx\": 8, \"row\": 0, \"col\": 1, \"value\": -0.26963640047577325, \"source\": \"smc2\"}, {\"idx\": 9, \"row\": 0, \"col\": 1, \"value\": 0.29572943460682183, \"source\": \"smc2\"}, {\"idx\": 10, \"row\": 0, \"col\": 1, \"value\": -0.025745791120716958, \"source\": \"smc2\"}, {\"idx\": 11, \"row\": 0, \"col\": 1, \"value\": -0.16795242019400125, \"source\": \"smc2\"}, {\"idx\": 12, \"row\": 0, \"col\": 1, \"value\": 0.41941177981282607, \"source\": \"smc2\"}, {\"idx\": 13, \"row\": 0, \"col\": 1, \"value\": 0.5953981799831344, \"source\": \"smc2\"}, {\"idx\": 14, \"row\": 0, \"col\": 1, \"value\": -0.2656919579350224, \"source\": \"smc2\"}, {\"idx\": 15, \"row\": 0, \"col\": 1, \"value\": -0.03664833183999666, \"source\": \"smc2\"}, {\"idx\": 16, \"row\": 0, \"col\": 1, \"value\": -0.0637183022852361, \"source\": \"smc2\"}, {\"idx\": 17, \"row\": 0, \"col\": 1, \"value\": -0.39494294442850986, \"source\": \"smc2\"}, {\"idx\": 18, \"row\": 0, \"col\": 1, \"value\": -0.35333104794382775, \"source\": \"smc2\"}, {\"idx\": 19, \"row\": 0, \"col\": 1, \"value\": 0.31391550786253974, \"source\": \"smc2\"}, {\"idx\": 20, \"row\": 0, \"col\": 1, \"value\": -0.27894347161895244, \"source\": \"smc2\"}, {\"idx\": 21, \"row\": 0, \"col\": 1, \"value\": -0.1952370338024094, \"source\": \"smc2\"}, {\"idx\": 22, \"row\": 0, \"col\": 1, \"value\": 0.2754801772537039, \"source\": \"smc2\"}, {\"idx\": 23, \"row\": 0, \"col\": 1, \"value\": -0.6937240311064461, \"source\": \"smc2\"}, {\"idx\": 24, \"row\": 0, \"col\": 1, \"value\": -0.20678762161730746, \"source\": \"smc2\"}, {\"idx\": 25, \"row\": 0, \"col\": 1, \"value\": -0.36736228157237927, \"source\": \"smc2\"}, {\"idx\": 26, \"row\": 0, \"col\": 1, \"value\": 0.12463200860709106, \"source\": \"smc2\"}, {\"idx\": 27, \"row\": 0, \"col\": 1, \"value\": -0.03908353131005264, \"source\": \"smc2\"}, {\"idx\": 28, \"row\": 0, \"col\": 1, \"value\": -0.18895518205348677, \"source\": \"smc2\"}, {\"idx\": 29, \"row\": 0, \"col\": 1, \"value\": -0.07617485872870843, \"source\": \"smc2\"}, {\"idx\": 30, \"row\": 0, \"col\": 1, \"value\": 0.18484757813085756, \"source\": \"smc2\"}, {\"idx\": 31, \"row\": 0, \"col\": 1, \"value\": -0.48648566945615546, \"source\": \"smc2\"}, {\"idx\": 32, \"row\": 0, \"col\": 1, \"value\": 0.5463683319753512, \"source\": \"smc2\"}, {\"idx\": 33, \"row\": 0, \"col\": 1, \"value\": 0.28765932078419476, \"source\": \"smc2\"}, {\"idx\": 34, \"row\": 0, \"col\": 1, \"value\": 0.36707351175548736, \"source\": \"smc2\"}, {\"idx\": 35, \"row\": 0, \"col\": 1, \"value\": 0.5259735608015114, \"source\": \"smc2\"}, {\"idx\": 36, \"row\": 0, \"col\": 1, \"value\": 0.6216663595643426, \"source\": \"smc2\"}, {\"idx\": 37, \"row\": 0, \"col\": 1, \"value\": 0.4437972665909189, \"source\": \"smc2\"}, {\"idx\": 38, \"row\": 0, \"col\": 1, \"value\": -0.4825935339686709, \"source\": \"smc2\"}, {\"idx\": 39, \"row\": 0, \"col\": 1, \"value\": -0.08450977848588784, \"source\": \"smc2\"}, {\"idx\": 40, \"row\": 0, \"col\": 1, \"value\": 0.4440473580342563, \"source\": \"smc2\"}, {\"idx\": 41, \"row\": 0, \"col\": 1, \"value\": -0.1812454107314429, \"source\": \"smc2\"}, {\"idx\": 42, \"row\": 0, \"col\": 1, \"value\": 0.6200817743859246, \"source\": \"smc2\"}, {\"idx\": 43, \"row\": 0, \"col\": 1, \"value\": -0.22968070544637303, \"source\": \"smc2\"}, {\"idx\": 44, \"row\": 0, \"col\": 1, \"value\": -1.1474799772433912, \"source\": \"smc2\"}, {\"idx\": 45, \"row\": 0, \"col\": 1, \"value\": -0.2754876485749623, \"source\": \"smc2\"}, {\"idx\": 46, \"row\": 0, \"col\": 1, \"value\": 0.5596508271663835, \"source\": \"smc2\"}, {\"idx\": 47, \"row\": 0, \"col\": 1, \"value\": -0.48884758047852306, \"source\": \"smc2\"}, {\"idx\": 48, \"row\": 0, \"col\": 1, \"value\": 0.3617510977766305, \"source\": \"smc2\"}, {\"idx\": 49, \"row\": 0, \"col\": 1, \"value\": 0.4108238418865491, \"source\": \"smc2\"}, {\"idx\": 0, \"row\": 0, \"col\": 2, \"value\": -2.073640027248816, \"source\": \"smc2\"}, {\"idx\": 1, \"row\": 0, \"col\": 2, \"value\": -2.3189764054819313, \"source\": \"smc2\"}, {\"idx\": 2, \"row\": 0, \"col\": 2, \"value\": -0.96796975701663, \"source\": \"smc2\"}, {\"idx\": 3, \"row\": 0, \"col\": 2, \"value\": -2.585760979449521, \"source\": \"smc2\"}, {\"idx\": 4, \"row\": 0, \"col\": 2, \"value\": -2.074480976808326, \"source\": \"smc2\"}, {\"idx\": 5, \"row\": 0, \"col\": 2, \"value\": -1.3327955070341246, \"source\": \"smc2\"}, {\"idx\": 6, \"row\": 0, \"col\": 2, \"value\": -1.7704391678603364, \"source\": \"smc2\"}, {\"idx\": 7, \"row\": 0, \"col\": 2, \"value\": -1.7263779136210347, \"source\": \"smc2\"}, {\"idx\": 8, \"row\": 0, \"col\": 2, \"value\": -2.596338689854118, \"source\": \"smc2\"}, {\"idx\": 9, \"row\": 0, \"col\": 2, \"value\": -1.657157764260615, \"source\": \"smc2\"}, {\"idx\": 10, \"row\": 0, \"col\": 2, \"value\": -1.3807131085914919, \"source\": \"smc2\"}, {\"idx\": 11, \"row\": 0, \"col\": 2, \"value\": -2.031561943074369, \"source\": \"smc2\"}, {\"idx\": 12, \"row\": 0, \"col\": 2, \"value\": -1.8379943560851906, \"source\": \"smc2\"}, {\"idx\": 13, \"row\": 0, \"col\": 2, \"value\": -1.638469391426617, \"source\": \"smc2\"}, {\"idx\": 14, \"row\": 0, \"col\": 2, \"value\": -1.884061482273875, \"source\": \"smc2\"}, {\"idx\": 15, \"row\": 0, \"col\": 2, \"value\": -1.690541837433055, \"source\": \"smc2\"}, {\"idx\": 16, \"row\": 0, \"col\": 2, \"value\": -2.4527261600052475, \"source\": \"smc2\"}, {\"idx\": 17, \"row\": 0, \"col\": 2, \"value\": -0.6294998350772896, \"source\": \"smc2\"}, {\"idx\": 18, \"row\": 0, \"col\": 2, \"value\": -2.3263633130238954, \"source\": \"smc2\"}, {\"idx\": 19, \"row\": 0, \"col\": 2, \"value\": -0.9898473265587482, \"source\": \"smc2\"}, {\"idx\": 20, \"row\": 0, \"col\": 2, \"value\": -2.7193090828145325, \"source\": \"smc2\"}, {\"idx\": 21, \"row\": 0, \"col\": 2, \"value\": -3.1421888225858, \"source\": \"smc2\"}, {\"idx\": 22, \"row\": 0, \"col\": 2, \"value\": -2.4060862433307997, \"source\": \"smc2\"}, {\"idx\": 23, \"row\": 0, \"col\": 2, \"value\": -1.9273903267135934, \"source\": \"smc2\"}, {\"idx\": 24, \"row\": 0, \"col\": 2, \"value\": -1.7540245164029193, \"source\": \"smc2\"}, {\"idx\": 25, \"row\": 0, \"col\": 2, \"value\": -2.1449959478387304, \"source\": \"smc2\"}, {\"idx\": 26, \"row\": 0, \"col\": 2, \"value\": -2.5059423566376475, \"source\": \"smc2\"}, {\"idx\": 27, \"row\": 0, \"col\": 2, \"value\": -1.6756615874283707, \"source\": \"smc2\"}, {\"idx\": 28, \"row\": 0, \"col\": 2, \"value\": -2.221775359374649, \"source\": \"smc2\"}, {\"idx\": 29, \"row\": 0, \"col\": 2, \"value\": -1.670755444636904, \"source\": \"smc2\"}, {\"idx\": 30, \"row\": 0, \"col\": 2, \"value\": -1.9543233525695825, \"source\": \"smc2\"}, {\"idx\": 31, \"row\": 0, \"col\": 2, \"value\": -3.011423351963994, \"source\": \"smc2\"}, {\"idx\": 32, \"row\": 0, \"col\": 2, \"value\": -1.102872732679327, \"source\": \"smc2\"}, {\"idx\": 33, \"row\": 0, \"col\": 2, \"value\": -1.2468386339391244, \"source\": \"smc2\"}, {\"idx\": 34, \"row\": 0, \"col\": 2, \"value\": -1.7521257089625042, \"source\": \"smc2\"}, {\"idx\": 35, \"row\": 0, \"col\": 2, \"value\": -2.0708899451904994, \"source\": \"smc2\"}, {\"idx\": 36, \"row\": 0, \"col\": 2, \"value\": -1.9331592637315274, \"source\": \"smc2\"}, {\"idx\": 37, \"row\": 0, \"col\": 2, \"value\": -1.822406755116853, \"source\": \"smc2\"}, {\"idx\": 38, \"row\": 0, \"col\": 2, \"value\": -1.8868507145433964, \"source\": \"smc2\"}, {\"idx\": 39, \"row\": 0, \"col\": 2, \"value\": -2.217539720584566, \"source\": \"smc2\"}, {\"idx\": 40, \"row\": 0, \"col\": 2, \"value\": -1.9944997510590583, \"source\": \"smc2\"}, {\"idx\": 41, \"row\": 0, \"col\": 2, \"value\": -1.8775830357733407, \"source\": \"smc2\"}, {\"idx\": 42, \"row\": 0, \"col\": 2, \"value\": -1.5226811036322696, \"source\": \"smc2\"}, {\"idx\": 43, \"row\": 0, \"col\": 2, \"value\": -2.9830839267814055, \"source\": \"smc2\"}, {\"idx\": 44, \"row\": 0, \"col\": 2, \"value\": -3.8196725985491953, \"source\": \"smc2\"}, {\"idx\": 45, \"row\": 0, \"col\": 2, \"value\": -1.5805940610648075, \"source\": \"smc2\"}, {\"idx\": 46, \"row\": 0, \"col\": 2, \"value\": -0.8420445595703592, \"source\": \"smc2\"}, {\"idx\": 47, \"row\": 0, \"col\": 2, \"value\": -1.1031909683495449, \"source\": \"smc2\"}, {\"idx\": 48, \"row\": 0, \"col\": 2, \"value\": -2.812409711084267, \"source\": \"smc2\"}, {\"idx\": 49, \"row\": 0, \"col\": 2, \"value\": -2.3880541621676183, \"source\": \"smc2\"}, {\"idx\": 0, \"row\": 0, \"col\": 3, \"value\": -2.7895130811522018, \"source\": \"smc2\"}, {\"idx\": 1, \"row\": 0, \"col\": 3, \"value\": -1.7242485523925501, \"source\": \"smc2\"}, {\"idx\": 2, \"row\": 0, \"col\": 3, \"value\": -2.1054052423539718, \"source\": \"smc2\"}, {\"idx\": 3, \"row\": 0, \"col\": 3, \"value\": -1.6591009789594768, \"source\": \"smc2\"}, {\"idx\": 4, \"row\": 0, \"col\": 3, \"value\": -2.142411873719555, \"source\": \"smc2\"}, {\"idx\": 5, \"row\": 0, \"col\": 3, \"value\": -2.921986950352104, \"source\": \"smc2\"}, {\"idx\": 6, \"row\": 0, \"col\": 3, \"value\": -2.7898542835470224, \"source\": \"smc2\"}, {\"idx\": 7, \"row\": 0, \"col\": 3, \"value\": -2.3648770594460387, \"source\": \"smc2\"}, {\"idx\": 8, \"row\": 0, \"col\": 3, \"value\": -1.635643427199501, \"source\": \"smc2\"}, {\"idx\": 9, \"row\": 0, \"col\": 3, \"value\": -1.8359546338295114, \"source\": \"smc2\"}, {\"idx\": 10, \"row\": 0, \"col\": 3, \"value\": -2.133184293085451, \"source\": \"smc2\"}, {\"idx\": 11, \"row\": 0, \"col\": 3, \"value\": -1.4520883661087476, \"source\": \"smc2\"}, {\"idx\": 12, \"row\": 0, \"col\": 3, \"value\": -1.3520704280649167, \"source\": \"smc2\"}, {\"idx\": 13, \"row\": 0, \"col\": 3, \"value\": -1.9338905407184743, \"source\": \"smc2\"}, {\"idx\": 14, \"row\": 0, \"col\": 3, \"value\": -1.6107881250115625, \"source\": \"smc2\"}, {\"idx\": 15, \"row\": 0, \"col\": 3, \"value\": -2.1229067093382366, \"source\": \"smc2\"}, {\"idx\": 16, \"row\": 0, \"col\": 3, \"value\": -2.1851898321002534, \"source\": \"smc2\"}, {\"idx\": 17, \"row\": 0, \"col\": 3, \"value\": -2.2683293615016127, \"source\": \"smc2\"}, {\"idx\": 18, \"row\": 0, \"col\": 3, \"value\": -2.8378806230108897, \"source\": \"smc2\"}, {\"idx\": 19, \"row\": 0, \"col\": 3, \"value\": -1.7496331399780574, \"source\": \"smc2\"}, {\"idx\": 20, \"row\": 0, \"col\": 3, \"value\": -3.1781864386177756, \"source\": \"smc2\"}, {\"idx\": 21, \"row\": 0, \"col\": 3, \"value\": -2.7049297128523886, \"source\": \"smc2\"}, {\"idx\": 22, \"row\": 0, \"col\": 3, \"value\": -2.285325669858671, \"source\": \"smc2\"}, {\"idx\": 23, \"row\": 0, \"col\": 3, \"value\": -2.357376482039962, \"source\": \"smc2\"}, {\"idx\": 24, \"row\": 0, \"col\": 3, \"value\": -1.6097929047472588, \"source\": \"smc2\"}, {\"idx\": 25, \"row\": 0, \"col\": 3, \"value\": -2.388745871186342, \"source\": \"smc2\"}, {\"idx\": 26, \"row\": 0, \"col\": 3, \"value\": -1.906610182887685, \"source\": \"smc2\"}, {\"idx\": 27, \"row\": 0, \"col\": 3, \"value\": -1.5050857157286177, \"source\": \"smc2\"}, {\"idx\": 28, \"row\": 0, \"col\": 3, \"value\": -2.4083075047033913, \"source\": \"smc2\"}, {\"idx\": 29, \"row\": 0, \"col\": 3, \"value\": -2.055967531445704, \"source\": \"smc2\"}, {\"idx\": 30, \"row\": 0, \"col\": 3, \"value\": -1.1586549743152421, \"source\": \"smc2\"}, {\"idx\": 31, \"row\": 0, \"col\": 3, \"value\": -1.717431568776833, \"source\": \"smc2\"}, {\"idx\": 32, \"row\": 0, \"col\": 3, \"value\": -3.0848212875239254, \"source\": \"smc2\"}, {\"idx\": 33, \"row\": 0, \"col\": 3, \"value\": -1.9649610058515252, \"source\": \"smc2\"}, {\"idx\": 34, \"row\": 0, \"col\": 3, \"value\": -1.7621948849212252, \"source\": \"smc2\"}, {\"idx\": 35, \"row\": 0, \"col\": 3, \"value\": -3.2061289977117844, \"source\": \"smc2\"}, {\"idx\": 36, \"row\": 0, \"col\": 3, \"value\": -2.416859081812263, \"source\": \"smc2\"}, {\"idx\": 37, \"row\": 0, \"col\": 3, \"value\": -1.5532610283902901, \"source\": \"smc2\"}, {\"idx\": 38, \"row\": 0, \"col\": 3, \"value\": -2.2575098266759626, \"source\": \"smc2\"}, {\"idx\": 39, \"row\": 0, \"col\": 3, \"value\": -2.174292483759555, \"source\": \"smc2\"}, {\"idx\": 40, \"row\": 0, \"col\": 3, \"value\": -2.550312612050724, \"source\": \"smc2\"}, {\"idx\": 41, \"row\": 0, \"col\": 3, \"value\": -1.4399547302575604, \"source\": \"smc2\"}, {\"idx\": 42, \"row\": 0, \"col\": 3, \"value\": -3.0585211422032987, \"source\": \"smc2\"}, {\"idx\": 43, \"row\": 0, \"col\": 3, \"value\": -2.057713736372175, \"source\": \"smc2\"}, {\"idx\": 44, \"row\": 0, \"col\": 3, \"value\": -3.4302805841148896, \"source\": \"smc2\"}, {\"idx\": 45, \"row\": 0, \"col\": 3, \"value\": -3.0511472636977266, \"source\": \"smc2\"}, {\"idx\": 46, \"row\": 0, \"col\": 3, \"value\": -1.3942438924450964, \"source\": \"smc2\"}, {\"idx\": 47, \"row\": 0, \"col\": 3, \"value\": -1.7734873028637612, \"source\": \"smc2\"}, {\"idx\": 48, \"row\": 0, \"col\": 3, \"value\": -1.930413993511893, \"source\": \"smc2\"}, {\"idx\": 49, \"row\": 0, \"col\": 3, \"value\": -1.64777046045325, \"source\": \"smc2\"}, {\"idx\": 0, \"row\": 0, \"col\": 4, \"value\": -0.6564464927443541, \"source\": \"smc2\"}, {\"idx\": 1, \"row\": 0, \"col\": 4, \"value\": -1.4164141003279591, \"source\": \"smc2\"}, {\"idx\": 2, \"row\": 0, \"col\": 4, \"value\": -1.6246138967878583, \"source\": \"smc2\"}, {\"idx\": 3, \"row\": 0, \"col\": 4, \"value\": -1.12733170560481, \"source\": \"smc2\"}, {\"idx\": 4, \"row\": 0, \"col\": 4, \"value\": -1.1667268584538668, \"source\": \"smc2\"}, {\"idx\": 5, \"row\": 0, \"col\": 4, \"value\": -1.3055362175704908, \"source\": \"smc2\"}, {\"idx\": 6, \"row\": 0, \"col\": 4, \"value\": -1.8825207209155688, \"source\": \"smc2\"}, {\"idx\": 7, \"row\": 0, \"col\": 4, \"value\": -0.8915471891680277, \"source\": \"smc2\"}, {\"idx\": 8, \"row\": 0, \"col\": 4, \"value\": -0.8039102283598244, \"source\": \"smc2\"}, {\"idx\": 9, \"row\": 0, \"col\": 4, \"value\": -1.0147203666060864, \"source\": \"smc2\"}, {\"idx\": 10, \"row\": 0, \"col\": 4, \"value\": -1.6683116265142135, \"source\": \"smc2\"}, {\"idx\": 11, \"row\": 0, \"col\": 4, \"value\": -1.0542609084717436, \"source\": \"smc2\"}, {\"idx\": 12, \"row\": 0, \"col\": 4, \"value\": -1.1658379553571743, \"source\": \"smc2\"}, {\"idx\": 13, \"row\": 0, \"col\": 4, \"value\": -1.3988935274524337, \"source\": \"smc2\"}, {\"idx\": 14, \"row\": 0, \"col\": 4, \"value\": -1.5044362324426852, \"source\": \"smc2\"}, {\"idx\": 15, \"row\": 0, \"col\": 4, \"value\": -1.1293424002790657, \"source\": \"smc2\"}, {\"idx\": 16, \"row\": 0, \"col\": 4, \"value\": -1.220715189359749, \"source\": \"smc2\"}, {\"idx\": 17, \"row\": 0, \"col\": 4, \"value\": -1.1276933251878098, \"source\": \"smc2\"}, {\"idx\": 18, \"row\": 0, \"col\": 4, \"value\": -1.194260305634339, \"source\": \"smc2\"}, {\"idx\": 19, \"row\": 0, \"col\": 4, \"value\": -1.3886828583201285, \"source\": \"smc2\"}, {\"idx\": 20, \"row\": 0, \"col\": 4, \"value\": -1.576040612867829, \"source\": \"smc2\"}, {\"idx\": 21, \"row\": 0, \"col\": 4, \"value\": -0.9171043362655794, \"source\": \"smc2\"}, {\"idx\": 22, \"row\": 0, \"col\": 4, \"value\": -1.3590555389472134, \"source\": \"smc2\"}, {\"idx\": 23, \"row\": 0, \"col\": 4, \"value\": -1.3893109939557235, \"source\": \"smc2\"}, {\"idx\": 24, \"row\": 0, \"col\": 4, \"value\": -1.1600000138032163, \"source\": \"smc2\"}, {\"idx\": 25, \"row\": 0, \"col\": 4, \"value\": -1.4528644903559753, \"source\": \"smc2\"}, {\"idx\": 26, \"row\": 0, \"col\": 4, \"value\": -0.43920492810524814, \"source\": \"smc2\"}, {\"idx\": 27, \"row\": 0, \"col\": 4, \"value\": -0.9847183403254566, \"source\": \"smc2\"}, {\"idx\": 28, \"row\": 0, \"col\": 4, \"value\": -1.4282627270252164, \"source\": \"smc2\"}, {\"idx\": 29, \"row\": 0, \"col\": 4, \"value\": -1.2509807902355488, \"source\": \"smc2\"}, {\"idx\": 30, \"row\": 0, \"col\": 4, \"value\": -1.2314795484207515, \"source\": \"smc2\"}, {\"idx\": 31, \"row\": 0, \"col\": 4, \"value\": -0.8942802099047337, \"source\": \"smc2\"}, {\"idx\": 32, \"row\": 0, \"col\": 4, \"value\": -1.2865915508563093, \"source\": \"smc2\"}, {\"idx\": 33, \"row\": 0, \"col\": 4, \"value\": -1.201197905102102, \"source\": \"smc2\"}, {\"idx\": 34, \"row\": 0, \"col\": 4, \"value\": -0.7825913128103067, \"source\": \"smc2\"}, {\"idx\": 35, \"row\": 0, \"col\": 4, \"value\": -1.5505583275175208, \"source\": \"smc2\"}, {\"idx\": 36, \"row\": 0, \"col\": 4, \"value\": -0.8085332687470802, \"source\": \"smc2\"}, {\"idx\": 37, \"row\": 0, \"col\": 4, \"value\": -1.1998048935760637, \"source\": \"smc2\"}, {\"idx\": 38, \"row\": 0, \"col\": 4, \"value\": -0.6453101091119583, \"source\": \"smc2\"}, {\"idx\": 39, \"row\": 0, \"col\": 4, \"value\": -1.087850168482654, \"source\": \"smc2\"}, {\"idx\": 40, \"row\": 0, \"col\": 4, \"value\": -1.033491621085093, \"source\": \"smc2\"}, {\"idx\": 41, \"row\": 0, \"col\": 4, \"value\": -0.5257847521508762, \"source\": \"smc2\"}, {\"idx\": 42, \"row\": 0, \"col\": 4, \"value\": -1.0064533215887563, \"source\": \"smc2\"}, {\"idx\": 43, \"row\": 0, \"col\": 4, \"value\": -1.0433375551603181, \"source\": \"smc2\"}, {\"idx\": 44, \"row\": 0, \"col\": 4, \"value\": -1.44311654470316, \"source\": \"smc2\"}, {\"idx\": 45, \"row\": 0, \"col\": 4, \"value\": -0.8141622058988932, \"source\": \"smc2\"}, {\"idx\": 46, \"row\": 0, \"col\": 4, \"value\": -0.6773507913894492, \"source\": \"smc2\"}, {\"idx\": 47, \"row\": 0, \"col\": 4, \"value\": -0.010736515050794489, \"source\": \"smc2\"}, {\"idx\": 48, \"row\": 0, \"col\": 4, \"value\": -0.6318111469242826, \"source\": \"smc2\"}, {\"idx\": 49, \"row\": 0, \"col\": 4, \"value\": -1.0834687442075546, \"source\": \"smc2\"}, {\"idx\": 0, \"row\": 0, \"col\": 5, \"value\": -3.8138477681025345, \"source\": \"smc2\"}, {\"idx\": 1, \"row\": 0, \"col\": 5, \"value\": -3.8406865074206276, \"source\": \"smc2\"}, {\"idx\": 2, \"row\": 0, \"col\": 5, \"value\": -4.282842502828634, \"source\": \"smc2\"}, {\"idx\": 3, \"row\": 0, \"col\": 5, \"value\": -3.5992595819483553, \"source\": \"smc2\"}, {\"idx\": 4, \"row\": 0, \"col\": 5, \"value\": -2.8637868981365724, \"source\": \"smc2\"}, {\"idx\": 5, \"row\": 0, \"col\": 5, \"value\": -3.1183728363205288, \"source\": \"smc2\"}, {\"idx\": 6, \"row\": 0, \"col\": 5, \"value\": -3.6213772491414944, \"source\": \"smc2\"}, {\"idx\": 7, \"row\": 0, \"col\": 5, \"value\": -5.434777367225329, \"source\": \"smc2\"}, {\"idx\": 8, \"row\": 0, \"col\": 5, \"value\": -3.402726121105033, \"source\": \"smc2\"}, {\"idx\": 9, \"row\": 0, \"col\": 5, \"value\": -3.4424160108254185, \"source\": \"smc2\"}, {\"idx\": 10, \"row\": 0, \"col\": 5, \"value\": -3.5727802012670327, \"source\": \"smc2\"}, {\"idx\": 11, \"row\": 0, \"col\": 5, \"value\": -4.91246986268007, \"source\": \"smc2\"}, {\"idx\": 12, \"row\": 0, \"col\": 5, \"value\": -3.4061322895693116, \"source\": \"smc2\"}, {\"idx\": 13, \"row\": 0, \"col\": 5, \"value\": -2.7926960464596453, \"source\": \"smc2\"}, {\"idx\": 14, \"row\": 0, \"col\": 5, \"value\": -2.1908574595158656, \"source\": \"smc2\"}, {\"idx\": 15, \"row\": 0, \"col\": 5, \"value\": -4.361920589651419, \"source\": \"smc2\"}, {\"idx\": 16, \"row\": 0, \"col\": 5, \"value\": -7.123229365307263, \"source\": \"smc2\"}, {\"idx\": 17, \"row\": 0, \"col\": 5, \"value\": -3.2018841828835516, \"source\": \"smc2\"}, {\"idx\": 18, \"row\": 0, \"col\": 5, \"value\": -3.899287179928216, \"source\": \"smc2\"}, {\"idx\": 19, \"row\": 0, \"col\": 5, \"value\": -3.4455911343724535, \"source\": \"smc2\"}, {\"idx\": 20, \"row\": 0, \"col\": 5, \"value\": -3.9664186302781905, \"source\": \"smc2\"}, {\"idx\": 21, \"row\": 0, \"col\": 5, \"value\": -4.654669182462314, \"source\": \"smc2\"}, {\"idx\": 22, \"row\": 0, \"col\": 5, \"value\": -3.856914355302935, \"source\": \"smc2\"}, {\"idx\": 23, \"row\": 0, \"col\": 5, \"value\": -3.368150364202444, \"source\": \"smc2\"}, {\"idx\": 24, \"row\": 0, \"col\": 5, \"value\": -4.917934980841462, \"source\": \"smc2\"}, {\"idx\": 25, \"row\": 0, \"col\": 5, \"value\": -3.547047538918774, \"source\": \"smc2\"}, {\"idx\": 26, \"row\": 0, \"col\": 5, \"value\": -5.126762060323125, \"source\": \"smc2\"}, {\"idx\": 27, \"row\": 0, \"col\": 5, \"value\": -2.593446128969262, \"source\": \"smc2\"}, {\"idx\": 28, \"row\": 0, \"col\": 5, \"value\": -4.633732066479022, \"source\": \"smc2\"}, {\"idx\": 29, \"row\": 0, \"col\": 5, \"value\": -3.959459987016838, \"source\": \"smc2\"}, {\"idx\": 30, \"row\": 0, \"col\": 5, \"value\": -3.185862211417115, \"source\": \"smc2\"}, {\"idx\": 31, \"row\": 0, \"col\": 5, \"value\": -3.118372546745843, \"source\": \"smc2\"}, {\"idx\": 32, \"row\": 0, \"col\": 5, \"value\": -3.751264313671873, \"source\": \"smc2\"}, {\"idx\": 33, \"row\": 0, \"col\": 5, \"value\": -1.8968438095870952, \"source\": \"smc2\"}, {\"idx\": 34, \"row\": 0, \"col\": 5, \"value\": -4.073447106850016, \"source\": \"smc2\"}, {\"idx\": 35, \"row\": 0, \"col\": 5, \"value\": -2.6805905955996674, \"source\": \"smc2\"}, {\"idx\": 36, \"row\": 0, \"col\": 5, \"value\": -3.787713347444541, \"source\": \"smc2\"}, {\"idx\": 37, \"row\": 0, \"col\": 5, \"value\": -1.8984004199908584, \"source\": \"smc2\"}, {\"idx\": 38, \"row\": 0, \"col\": 5, \"value\": -3.7914960560130426, \"source\": \"smc2\"}, {\"idx\": 39, \"row\": 0, \"col\": 5, \"value\": -2.0216861161115456, \"source\": \"smc2\"}, {\"idx\": 40, \"row\": 0, \"col\": 5, \"value\": -2.415634138377466, \"source\": \"smc2\"}, {\"idx\": 41, \"row\": 0, \"col\": 5, \"value\": -2.8918471549808302, \"source\": \"smc2\"}, {\"idx\": 42, \"row\": 0, \"col\": 5, \"value\": -3.722420377324784, \"source\": \"smc2\"}, {\"idx\": 43, \"row\": 0, \"col\": 5, \"value\": -3.303291173029854, \"source\": \"smc2\"}, {\"idx\": 44, \"row\": 0, \"col\": 5, \"value\": -6.723326766339582, \"source\": \"smc2\"}, {\"idx\": 45, \"row\": 0, \"col\": 5, \"value\": -3.267877339588592, \"source\": \"smc2\"}, {\"idx\": 46, \"row\": 0, \"col\": 5, \"value\": -5.084030190685991, \"source\": \"smc2\"}, {\"idx\": 47, \"row\": 0, \"col\": 5, \"value\": -3.625514776476412, \"source\": \"smc2\"}, {\"idx\": 48, \"row\": 0, \"col\": 5, \"value\": -5.469637031931401, \"source\": \"smc2\"}, {\"idx\": 49, \"row\": 0, \"col\": 5, \"value\": -3.514191152218497, \"source\": \"smc2\"}]}}, {\"mode\": \"vega-lite\"});\n",
       "</script>"
      ],
      "text/plain": [
       "alt.Chart(...)"
      ]
     },
     "execution_count": 11,
     "metadata": {},
     "output_type": "execute_result"
    }
   ],
   "source": [
    "param = 'alpha'\n",
    "df = get_post_df(ps_mcmc[param]) \n",
    "df['source'] = 'mcmc'\n",
    "\n",
    "\n",
    "df3 = get_post_df(ps_smc2[param]) \n",
    "df3['source'] = 'smc2'\n",
    "\n",
    "plot_density(pd.concat([df, df3]), height=100)"
   ]
  },
  {
   "cell_type": "markdown",
   "metadata": {},
   "source": [
    "## Plot quantiles"
   ]
  },
  {
   "cell_type": "code",
   "execution_count": 12,
   "metadata": {},
   "outputs": [
    {
     "data": {
      "text/html": [
       "\n",
       "<div id=\"altair-viz-024bab8311b44d6aa3891fe0328358e8\"></div>\n",
       "<script type=\"text/javascript\">\n",
       "  (function(spec, embedOpt){\n",
       "    let outputDiv = document.currentScript.previousElementSibling;\n",
       "    if (outputDiv.id !== \"altair-viz-024bab8311b44d6aa3891fe0328358e8\") {\n",
       "      outputDiv = document.getElementById(\"altair-viz-024bab8311b44d6aa3891fe0328358e8\");\n",
       "    }\n",
       "    const paths = {\n",
       "      \"vega\": \"https://cdn.jsdelivr.net/npm//vega@5?noext\",\n",
       "      \"vega-lib\": \"https://cdn.jsdelivr.net/npm//vega-lib?noext\",\n",
       "      \"vega-lite\": \"https://cdn.jsdelivr.net/npm//vega-lite@4.8.1?noext\",\n",
       "      \"vega-embed\": \"https://cdn.jsdelivr.net/npm//vega-embed@6?noext\",\n",
       "    };\n",
       "\n",
       "    function loadScript(lib) {\n",
       "      return new Promise(function(resolve, reject) {\n",
       "        var s = document.createElement('script');\n",
       "        s.src = paths[lib];\n",
       "        s.async = true;\n",
       "        s.onload = () => resolve(paths[lib]);\n",
       "        s.onerror = () => reject(`Error loading script: ${paths[lib]}`);\n",
       "        document.getElementsByTagName(\"head\")[0].appendChild(s);\n",
       "      });\n",
       "    }\n",
       "\n",
       "    function showError(err) {\n",
       "      outputDiv.innerHTML = `<div class=\"error\" style=\"color:red;\">${err}</div>`;\n",
       "      throw err;\n",
       "    }\n",
       "\n",
       "    function displayChart(vegaEmbed) {\n",
       "      vegaEmbed(outputDiv, spec, embedOpt)\n",
       "        .catch(err => showError(`Javascript Error: ${err.message}<br>This usually means there's a typo in your chart specification. See the javascript console for the full traceback.`));\n",
       "    }\n",
       "\n",
       "    if(typeof define === \"function\" && define.amd) {\n",
       "      requirejs.config({paths});\n",
       "      require([\"vega-embed\"], displayChart, err => showError(`Error loading script: ${err.message}`));\n",
       "    } else if (typeof vegaEmbed === \"function\") {\n",
       "      displayChart(vegaEmbed);\n",
       "    } else {\n",
       "      loadScript(\"vega\")\n",
       "        .then(() => loadScript(\"vega-lite\"))\n",
       "        .then(() => loadScript(\"vega-embed\"))\n",
       "        .catch(showError)\n",
       "        .then(() => displayChart(vegaEmbed));\n",
       "    }\n",
       "  })({\"config\": {\"view\": {\"continuousWidth\": 400, \"continuousHeight\": 300}}, \"data\": {\"name\": \"data-993f87400bef274db58ffe3f9b53db48\"}, \"mark\": {\"type\": \"bar\", \"opacity\": 0.6}, \"encoding\": {\"color\": {\"type\": \"nominal\", \"field\": \"source\"}, \"column\": {\"type\": \"quantitative\", \"field\": \"col\"}, \"row\": {\"type\": \"quantitative\", \"field\": \"row\"}, \"x\": {\"type\": \"quantitative\", \"field\": \"q1\", \"title\": null}, \"x2\": {\"field\": \"q2\", \"title\": null}}, \"$schema\": \"https://vega.github.io/schema/vega-lite/v4.8.1.json\", \"datasets\": {\"data-993f87400bef274db58ffe3f9b53db48\": [{\"row\": 0, \"col\": 0, \"q1\": 0.5446145946955159, \"q2\": 1.9590180271748467, \"source\": \"smc2\"}]}}, {\"mode\": \"vega-lite\"});\n",
       "</script>"
      ],
      "text/plain": [
       "alt.Chart(...)"
      ]
     },
     "execution_count": 12,
     "metadata": {},
     "output_type": "execute_result"
    }
   ],
   "source": [
    "param = 'beta'\n",
    "df = get_post_df(ps_smc2[param])\n",
    "df_quant = df.groupby(['row', 'col'])[['value']].quantile(0.025).reset_index()\n",
    "df_quant.rename({'value':'q1'}, axis=1, inplace=True)\n",
    "df_quant2 = df.groupby(['row', 'col'])[['value']].quantile(0.975).reset_index()\n",
    "df_quant2.rename({'value':'q2'}, axis=1, inplace=True)\n",
    "\n",
    "df = df_quant.merge(df_quant2, on=['row', 'col'])\n",
    "\n",
    "# simple quantile chart\n",
    "df['source'] = 'smc2'\n",
    "c1 = alt.Chart(df[df.row==0]).mark_bar(opacity=0.6).encode(\n",
    "        alt.X('q1', title=None),\n",
    "        alt.X2('q2', title=None),\n",
    "        alt.Row('row'),\n",
    "        alt.Column('col'),\n",
    "        alt.Color('source')\n",
    ")\n",
    "c1"
   ]
  },
  {
   "cell_type": "markdown",
   "metadata": {},
   "source": [
    "## chart overlaying quantiles with real data"
   ]
  },
  {
   "cell_type": "code",
   "execution_count": 13,
   "metadata": {},
   "outputs": [],
   "source": [
    "df['index'] = 'r_' + df.row.astype(str)+'.c_'+df.col.astype(str)\n",
    "df = df.loc[:,['index', 'q1', 'q2']]\n",
    "df['source'] = 'smc2'\n",
    "dd = pd.DataFrame(exp_data1.raw_data['beta'], columns=['data'])\n",
    "dd['col'] = 0\n",
    "dd['row'] = np.arange(6)\n",
    "dd['index'] = 'r_' + dd.row.astype(str)+'.c_'+dd.col.astype(str)\n",
    "dd = dd.loc[:,['index', 'data']]\n",
    "plot_data = df.merge(dd, on=['index'])"
   ]
  },
  {
   "cell_type": "code",
   "execution_count": 14,
   "metadata": {
    "scrolled": false
   },
   "outputs": [
    {
     "data": {
      "text/html": [
       "\n",
       "<div id=\"altair-viz-df2489fafc014cea980fbed0b1c958ee\"></div>\n",
       "<script type=\"text/javascript\">\n",
       "  (function(spec, embedOpt){\n",
       "    let outputDiv = document.currentScript.previousElementSibling;\n",
       "    if (outputDiv.id !== \"altair-viz-df2489fafc014cea980fbed0b1c958ee\") {\n",
       "      outputDiv = document.getElementById(\"altair-viz-df2489fafc014cea980fbed0b1c958ee\");\n",
       "    }\n",
       "    const paths = {\n",
       "      \"vega\": \"https://cdn.jsdelivr.net/npm//vega@5?noext\",\n",
       "      \"vega-lib\": \"https://cdn.jsdelivr.net/npm//vega-lib?noext\",\n",
       "      \"vega-lite\": \"https://cdn.jsdelivr.net/npm//vega-lite@4.8.1?noext\",\n",
       "      \"vega-embed\": \"https://cdn.jsdelivr.net/npm//vega-embed@6?noext\",\n",
       "    };\n",
       "\n",
       "    function loadScript(lib) {\n",
       "      return new Promise(function(resolve, reject) {\n",
       "        var s = document.createElement('script');\n",
       "        s.src = paths[lib];\n",
       "        s.async = true;\n",
       "        s.onload = () => resolve(paths[lib]);\n",
       "        s.onerror = () => reject(`Error loading script: ${paths[lib]}`);\n",
       "        document.getElementsByTagName(\"head\")[0].appendChild(s);\n",
       "      });\n",
       "    }\n",
       "\n",
       "    function showError(err) {\n",
       "      outputDiv.innerHTML = `<div class=\"error\" style=\"color:red;\">${err}</div>`;\n",
       "      throw err;\n",
       "    }\n",
       "\n",
       "    function displayChart(vegaEmbed) {\n",
       "      vegaEmbed(outputDiv, spec, embedOpt)\n",
       "        .catch(err => showError(`Javascript Error: ${err.message}<br>This usually means there's a typo in your chart specification. See the javascript console for the full traceback.`));\n",
       "    }\n",
       "\n",
       "    if(typeof define === \"function\" && define.amd) {\n",
       "      requirejs.config({paths});\n",
       "      require([\"vega-embed\"], displayChart, err => showError(`Error loading script: ${err.message}`));\n",
       "    } else if (typeof vegaEmbed === \"function\") {\n",
       "      displayChart(vegaEmbed);\n",
       "    } else {\n",
       "      loadScript(\"vega\")\n",
       "        .then(() => loadScript(\"vega-lite\"))\n",
       "        .then(() => loadScript(\"vega-embed\"))\n",
       "        .catch(showError)\n",
       "        .then(() => displayChart(vegaEmbed));\n",
       "    }\n",
       "  })({\"config\": {\"view\": {\"continuousWidth\": 400, \"continuousHeight\": 300}}, \"data\": {\"name\": \"data-e12b1113ddf56c6951ac356d59464db0\"}, \"facet\": {\"type\": \"nominal\", \"field\": \"index\"}, \"spec\": {\"layer\": [{\"mark\": {\"type\": \"bar\", \"opacity\": 0.6}, \"encoding\": {\"color\": {\"type\": \"nominal\", \"field\": \"source\"}, \"x\": {\"type\": \"quantitative\", \"field\": \"q1\", \"scale\": {\"domain\": [-2, 2]}, \"title\": null}, \"x2\": {\"field\": \"q2\", \"title\": null}}}, {\"mark\": {\"type\": \"point\", \"color\": \"red\", \"opacity\": 1}, \"encoding\": {\"x\": {\"type\": \"quantitative\", \"field\": \"data\", \"title\": null}}}]}, \"columns\": 1, \"$schema\": \"https://vega.github.io/schema/vega-lite/v4.8.1.json\", \"datasets\": {\"data-e12b1113ddf56c6951ac356d59464db0\": [{\"index\": \"r_0.c_0\", \"q1\": 0.5446145946955159, \"q2\": 1.9590180271748467, \"source\": \"smc2\", \"data\": 1.0}]}}, {\"mode\": \"vega-lite\"});\n",
       "</script>"
      ],
      "text/plain": [
       "alt.FacetChart(...)"
      ]
     },
     "execution_count": 14,
     "metadata": {},
     "output_type": "execute_result"
    }
   ],
   "source": [
    "plot_data = plot_data[plot_data['index']=='r_0.c_0']\n",
    "\n",
    "c1 = alt.Chart(plot_data).mark_bar(opacity=0.6).encode(\n",
    "    alt.X('q1', title=None,  scale=alt.Scale(domain=[-2,2])),\n",
    "    alt.X2('q2', title=None),\n",
    "    alt.Color('source'),    \n",
    ")\n",
    "    \n",
    "\n",
    "c2 = alt.Chart(plot_data).mark_point(opacity=1, color='red').encode(\n",
    "        alt.X('data', title=None),\n",
    ")\n",
    "(c1+c2).facet(\n",
    "       'index',\n",
    "    columns=1\n",
    "    )\n"
   ]
  },
  {
   "cell_type": "markdown",
   "metadata": {},
   "source": [
    "\n",
    "## chart overlaying quantiles with real data"
   ]
  },
  {
   "cell_type": "code",
   "execution_count": 15,
   "metadata": {},
   "outputs": [
    {
     "data": {
      "text/html": [
       "\n",
       "<div id=\"altair-viz-63e52de4967b4080bca5a90bb01c4b87\"></div>\n",
       "<script type=\"text/javascript\">\n",
       "  (function(spec, embedOpt){\n",
       "    let outputDiv = document.currentScript.previousElementSibling;\n",
       "    if (outputDiv.id !== \"altair-viz-63e52de4967b4080bca5a90bb01c4b87\") {\n",
       "      outputDiv = document.getElementById(\"altair-viz-63e52de4967b4080bca5a90bb01c4b87\");\n",
       "    }\n",
       "    const paths = {\n",
       "      \"vega\": \"https://cdn.jsdelivr.net/npm//vega@5?noext\",\n",
       "      \"vega-lib\": \"https://cdn.jsdelivr.net/npm//vega-lib?noext\",\n",
       "      \"vega-lite\": \"https://cdn.jsdelivr.net/npm//vega-lite@4.8.1?noext\",\n",
       "      \"vega-embed\": \"https://cdn.jsdelivr.net/npm//vega-embed@6?noext\",\n",
       "    };\n",
       "\n",
       "    function loadScript(lib) {\n",
       "      return new Promise(function(resolve, reject) {\n",
       "        var s = document.createElement('script');\n",
       "        s.src = paths[lib];\n",
       "        s.async = true;\n",
       "        s.onload = () => resolve(paths[lib]);\n",
       "        s.onerror = () => reject(`Error loading script: ${paths[lib]}`);\n",
       "        document.getElementsByTagName(\"head\")[0].appendChild(s);\n",
       "      });\n",
       "    }\n",
       "\n",
       "    function showError(err) {\n",
       "      outputDiv.innerHTML = `<div class=\"error\" style=\"color:red;\">${err}</div>`;\n",
       "      throw err;\n",
       "    }\n",
       "\n",
       "    function displayChart(vegaEmbed) {\n",
       "      vegaEmbed(outputDiv, spec, embedOpt)\n",
       "        .catch(err => showError(`Javascript Error: ${err.message}<br>This usually means there's a typo in your chart specification. See the javascript console for the full traceback.`));\n",
       "    }\n",
       "\n",
       "    if(typeof define === \"function\" && define.amd) {\n",
       "      requirejs.config({paths});\n",
       "      require([\"vega-embed\"], displayChart, err => showError(`Error loading script: ${err.message}`));\n",
       "    } else if (typeof vegaEmbed === \"function\") {\n",
       "      displayChart(vegaEmbed);\n",
       "    } else {\n",
       "      loadScript(\"vega\")\n",
       "        .then(() => loadScript(\"vega-lite\"))\n",
       "        .then(() => loadScript(\"vega-embed\"))\n",
       "        .catch(showError)\n",
       "        .then(() => displayChart(vegaEmbed));\n",
       "    }\n",
       "  })({\"config\": {\"view\": {\"continuousWidth\": 400, \"continuousHeight\": 300}}, \"data\": {\"name\": \"data-f5224982126c5d615738227c82de653e\"}, \"mark\": {\"type\": \"bar\", \"opacity\": 0.6}, \"encoding\": {\"color\": {\"type\": \"nominal\", \"field\": \"source\"}, \"column\": {\"type\": \"quantitative\", \"field\": \"col\"}, \"row\": {\"type\": \"quantitative\", \"field\": \"row\"}, \"x\": {\"type\": \"quantitative\", \"field\": \"q1\", \"title\": null}, \"x2\": {\"field\": \"q2\", \"title\": null}}, \"$schema\": \"https://vega.github.io/schema/vega-lite/v4.8.1.json\", \"datasets\": {\"data-f5224982126c5d615738227c82de653e\": [{\"row\": 0, \"col\": 0, \"q1\": -1.2774489568459313, \"q2\": 0.24208421423120516, \"source\": \"smc2\"}, {\"row\": 0, \"col\": 1, \"q1\": -0.9321436895590187, \"q2\": 0.6145279656452968, \"source\": \"smc2\"}, {\"row\": 0, \"col\": 2, \"q1\": -3.1127665916958938, \"q2\": -0.8703777289957703, \"source\": \"smc2\"}, {\"row\": 0, \"col\": 3, \"q1\": -3.1998419219156324, \"q2\": -1.3615594575504573, \"source\": \"smc2\"}, {\"row\": 0, \"col\": 4, \"q1\": -1.6584796373257835, \"q2\": -0.45868538851551455, \"source\": \"smc2\"}, {\"row\": 0, \"col\": 5, \"q1\": -6.4412465760977415, \"q2\": -1.9261397016180133, \"source\": \"smc2\"}]}}, {\"mode\": \"vega-lite\"});\n",
       "</script>"
      ],
      "text/plain": [
       "alt.Chart(...)"
      ]
     },
     "execution_count": 15,
     "metadata": {},
     "output_type": "execute_result"
    }
   ],
   "source": [
    "param = 'alpha'\n",
    "df = get_post_df(ps_smc2[param])\n",
    "df_quant = df.groupby(['row', 'col'])[['value']].quantile(0.025).reset_index()\n",
    "df_quant.rename({'value':'q1'}, axis=1, inplace=True)\n",
    "df_quant2 = df.groupby(['row', 'col'])[['value']].quantile(0.975).reset_index()\n",
    "df_quant2.rename({'value':'q2'}, axis=1, inplace=True)\n",
    "\n",
    "df = df_quant.merge(df_quant2, on=['row', 'col'])\n",
    "\n",
    "# simple quantile chart\n",
    "df['source'] = 'smc2'\n",
    "c1 = alt.Chart(df).mark_bar(opacity=0.6).encode(\n",
    "        alt.X('q1', title=None),\n",
    "        alt.X2('q2', title=None),\n",
    "        alt.Row('row'),\n",
    "        alt.Column('col'),\n",
    "        alt.Color('source')\n",
    ")\n",
    "c1"
   ]
  },
  {
   "cell_type": "code",
   "execution_count": 16,
   "metadata": {},
   "outputs": [],
   "source": [
    "df['index'] = 'r_' + df.row.astype(str)+'.c_'+df.col.astype(str)\n",
    "df = df.loc[:,['index', 'q1', 'q2']]\n",
    "df['source'] = 'smc2'\n",
    "dd = pd.DataFrame(exp_data1.raw_data['alpha'], columns=['data'])\n",
    "dd['col'] = np.arange(6)\n",
    "dd['row'] = 0\n",
    "dd['index'] = 'r_' + dd.row.astype(str)+'.c_'+dd.col.astype(str)\n",
    "dd = dd.loc[:,['index', 'data']]\n",
    "plot_data = df.merge(dd, on=['index'])"
   ]
  },
  {
   "cell_type": "code",
   "execution_count": 17,
   "metadata": {
    "scrolled": false
   },
   "outputs": [
    {
     "data": {
      "text/html": [
       "\n",
       "<div id=\"altair-viz-8fef8459c4094067869e8af2051eb014\"></div>\n",
       "<script type=\"text/javascript\">\n",
       "  (function(spec, embedOpt){\n",
       "    let outputDiv = document.currentScript.previousElementSibling;\n",
       "    if (outputDiv.id !== \"altair-viz-8fef8459c4094067869e8af2051eb014\") {\n",
       "      outputDiv = document.getElementById(\"altair-viz-8fef8459c4094067869e8af2051eb014\");\n",
       "    }\n",
       "    const paths = {\n",
       "      \"vega\": \"https://cdn.jsdelivr.net/npm//vega@5?noext\",\n",
       "      \"vega-lib\": \"https://cdn.jsdelivr.net/npm//vega-lib?noext\",\n",
       "      \"vega-lite\": \"https://cdn.jsdelivr.net/npm//vega-lite@4.8.1?noext\",\n",
       "      \"vega-embed\": \"https://cdn.jsdelivr.net/npm//vega-embed@6?noext\",\n",
       "    };\n",
       "\n",
       "    function loadScript(lib) {\n",
       "      return new Promise(function(resolve, reject) {\n",
       "        var s = document.createElement('script');\n",
       "        s.src = paths[lib];\n",
       "        s.async = true;\n",
       "        s.onload = () => resolve(paths[lib]);\n",
       "        s.onerror = () => reject(`Error loading script: ${paths[lib]}`);\n",
       "        document.getElementsByTagName(\"head\")[0].appendChild(s);\n",
       "      });\n",
       "    }\n",
       "\n",
       "    function showError(err) {\n",
       "      outputDiv.innerHTML = `<div class=\"error\" style=\"color:red;\">${err}</div>`;\n",
       "      throw err;\n",
       "    }\n",
       "\n",
       "    function displayChart(vegaEmbed) {\n",
       "      vegaEmbed(outputDiv, spec, embedOpt)\n",
       "        .catch(err => showError(`Javascript Error: ${err.message}<br>This usually means there's a typo in your chart specification. See the javascript console for the full traceback.`));\n",
       "    }\n",
       "\n",
       "    if(typeof define === \"function\" && define.amd) {\n",
       "      requirejs.config({paths});\n",
       "      require([\"vega-embed\"], displayChart, err => showError(`Error loading script: ${err.message}`));\n",
       "    } else if (typeof vegaEmbed === \"function\") {\n",
       "      displayChart(vegaEmbed);\n",
       "    } else {\n",
       "      loadScript(\"vega\")\n",
       "        .then(() => loadScript(\"vega-lite\"))\n",
       "        .then(() => loadScript(\"vega-embed\"))\n",
       "        .catch(showError)\n",
       "        .then(() => displayChart(vegaEmbed));\n",
       "    }\n",
       "  })({\"config\": {\"view\": {\"continuousWidth\": 400, \"continuousHeight\": 300}}, \"data\": {\"name\": \"data-8dc7a1d195b1fd1a9503d05aef610e45\"}, \"facet\": {\"type\": \"nominal\", \"field\": \"index\"}, \"spec\": {\"layer\": [{\"mark\": {\"type\": \"bar\", \"opacity\": 0.6}, \"encoding\": {\"color\": {\"type\": \"nominal\", \"field\": \"source\"}, \"x\": {\"type\": \"quantitative\", \"field\": \"q1\", \"scale\": {\"domain\": [-3, 3]}, \"title\": null}, \"x2\": {\"field\": \"q2\", \"title\": null}}}, {\"mark\": {\"type\": \"point\", \"color\": \"red\", \"opacity\": 1}, \"encoding\": {\"x\": {\"type\": \"quantitative\", \"field\": \"data\", \"title\": null}}}]}, \"columns\": 1, \"$schema\": \"https://vega.github.io/schema/vega-lite/v4.8.1.json\", \"datasets\": {\"data-8dc7a1d195b1fd1a9503d05aef610e45\": [{\"index\": \"r_0.c_0\", \"q1\": -1.2774489568459313, \"q2\": 0.24208421423120516, \"source\": \"smc2\", \"data\": -0.53}, {\"index\": \"r_0.c_1\", \"q1\": -0.9321436895590187, \"q2\": 0.6145279656452968, \"source\": \"smc2\", \"data\": 0.35}, {\"index\": \"r_0.c_2\", \"q1\": -3.1127665916958938, \"q2\": -0.8703777289957703, \"source\": \"smc2\", \"data\": -1.4}, {\"index\": \"r_0.c_3\", \"q1\": -3.1998419219156324, \"q2\": -1.3615594575504573, \"source\": \"smc2\", \"data\": -1.4}, {\"index\": \"r_0.c_4\", \"q1\": -1.6584796373257835, \"q2\": -0.45868538851551455, \"source\": \"smc2\", \"data\": -0.96}, {\"index\": \"r_0.c_5\", \"q1\": -6.4412465760977415, \"q2\": -1.9261397016180133, \"source\": \"smc2\", \"data\": -2.33}]}}, {\"mode\": \"vega-lite\"});\n",
       "</script>"
      ],
      "text/plain": [
       "alt.FacetChart(...)"
      ]
     },
     "execution_count": 17,
     "metadata": {},
     "output_type": "execute_result"
    }
   ],
   "source": [
    "c1 = alt.Chart(plot_data).mark_bar(opacity=0.6).encode(\n",
    "    alt.X('q1', title=None,  scale=alt.Scale(domain=[-3,3])),\n",
    "    alt.X2('q2', title=None),\n",
    "    alt.Color('source'),    \n",
    ")\n",
    "    \n",
    "\n",
    "c2 = alt.Chart(plot_data).mark_point(opacity=1, color='red').encode(\n",
    "        alt.X('data', title=None),\n",
    ")\n",
    "(c1+c2).facet(\n",
    "       'index',\n",
    "    columns=1\n",
    "    )\n"
   ]
  },
  {
   "cell_type": "code",
   "execution_count": null,
   "metadata": {},
   "outputs": [],
   "source": []
  },
  {
   "cell_type": "code",
   "execution_count": null,
   "metadata": {},
   "outputs": [],
   "source": []
  },
  {
   "cell_type": "code",
   "execution_count": null,
   "metadata": {},
   "outputs": [],
   "source": []
  }
 ],
 "metadata": {
  "kernelspec": {
   "display_name": "Python 3",
   "language": "python",
   "name": "python3"
  },
  "language_info": {
   "codemirror_mode": {
    "name": "ipython",
    "version": 3
   },
   "file_extension": ".py",
   "mimetype": "text/x-python",
   "name": "python",
   "nbconvert_exporter": "python",
   "pygments_lexer": "ipython3",
   "version": "3.7.4"
  }
 },
 "nbformat": 4,
 "nbformat_minor": 2
}
