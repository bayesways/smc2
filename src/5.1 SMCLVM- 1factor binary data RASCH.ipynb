{
 "cells": [
  {
   "cell_type": "code",
   "execution_count": 1,
   "metadata": {},
   "outputs": [],
   "source": [
    "from codebase.classes_data import Data\n",
    "import argparse\n",
    "import numpy as np\n",
    "from codebase.file_utils import save_obj, load_obj, make_folder, path_backslash\n",
    "from codebase.ibis import exp_and_normalise\n",
    "from run_smclvm import run_smclvm\n",
    "from scipy.special import logsumexp\n",
    "from pdb import set_trace\n"
   ]
  },
  {
   "cell_type": "code",
   "execution_count": 2,
   "metadata": {},
   "outputs": [
    {
     "name": "stdout",
     "output_type": "stream",
     "text": [
      "\n",
      "\n",
      "Creating new directory: ./log/20210331_173416_lvm_refactor/\n"
     ]
    }
   ],
   "source": [
    "existing_directory = None\n",
    "task_handle = 'lvm_refactor'\n",
    "gen_model = False\n",
    "\n",
    "if existing_directory is None:\n",
    "    log_dir = make_folder(task_handle)\n",
    "    print(\"\\n\\nCreating new directory: %s\" % log_dir)\n",
    "\n",
    "else:\n",
    "    log_dir = existing_directory\n",
    "    log_dir = path_backslash(log_dir)\n",
    "    print(\"\\n\\nReading from existing directory: %s\" % log_dir)\n",
    "\n"
   ]
  },
  {
   "cell_type": "code",
   "execution_count": 3,
   "metadata": {},
   "outputs": [],
   "source": [
    "# generate data\n",
    "exp_data = Data(name=task_handle, model_num=1, size=100, random_seed=2)\n",
    "\n",
    "\n",
    "exp_data.generate()\n",
    "save_obj(exp_data, \"data\", log_dir)\n",
    "model_num = 1\n"
   ]
  },
  {
   "cell_type": "code",
   "execution_count": 4,
   "metadata": {},
   "outputs": [
    {
     "name": "stderr",
     "output_type": "stream",
     "text": [
      "100%|██████████| 100/100 [43:18<00:00, 25.99s/it]"
     ]
    },
    {
     "name": "stdout",
     "output_type": "stream",
     "text": [
      "\n",
      "\n",
      "\n",
      "Marginal Likelihood 8.19440\n",
      "time: 43min 18s (started: 2021-03-31 17:34:16 -04:00)\n"
     ]
    },
    {
     "name": "stderr",
     "output_type": "stream",
     "text": [
      "\n"
     ]
    }
   ],
   "source": [
    "%load_ext autotime\n",
    "\n",
    "ibislvm = run_smclvm(exp_data, model_num, 200, gen_model, log_dir)\n"
   ]
  },
  {
   "cell_type": "markdown",
   "metadata": {},
   "source": [
    "##"
   ]
  },
  {
   "cell_type": "code",
   "execution_count": 5,
   "metadata": {},
   "outputs": [
    {
     "ename": "NameError",
     "evalue": "name 'particles' is not defined",
     "output_type": "error",
     "traceback": [
      "\u001b[0;31m---------------------------------------\u001b[0m",
      "\u001b[0;31mNameError\u001b[0mTraceback (most recent call last)",
      "\u001b[0;32m<ipython-input-5-d3a5b090dfcb>\u001b[0m in \u001b[0;36m<module>\u001b[0;34m\u001b[0m\n\u001b[0;32m----> 1\u001b[0;31m \u001b[0mparticles\u001b[0m\u001b[0;34m.\u001b[0m\u001b[0mextract_particles_in_numpy_array\u001b[0m\u001b[0;34m(\u001b[0m\u001b[0;34m'alpha'\u001b[0m\u001b[0;34m)\u001b[0m\u001b[0;34m\u001b[0m\u001b[0;34m\u001b[0m\u001b[0m\n\u001b[0m",
      "\u001b[0;31mNameError\u001b[0m: name 'particles' is not defined"
     ]
    },
    {
     "name": "stdout",
     "output_type": "stream",
     "text": [
      "time: 10.6 ms (started: 2021-03-31 18:17:35 -04:00)\n"
     ]
    }
   ],
   "source": [
    "particles.extract_particles_in_numpy_array('alpha')"
   ]
  },
  {
   "cell_type": "code",
   "execution_count": null,
   "metadata": {},
   "outputs": [],
   "source": [
    "corrs = load_obj('jitter_corrs', log_dir)\n",
    "corrs['beta']"
   ]
  },
  {
   "cell_type": "code",
   "execution_count": null,
   "metadata": {},
   "outputs": [],
   "source": [
    "particles.get_acceptance_rate_for_particle_m(0)[particles.get_threshold_ess_indicator()]"
   ]
  },
  {
   "cell_type": "code",
   "execution_count": null,
   "metadata": {},
   "outputs": [],
   "source": [
    "particles.get_acceptance_rate_for_particle_m(2)[particles.get_threshold_ess_indicator()]"
   ]
  },
  {
   "cell_type": "code",
   "execution_count": null,
   "metadata": {},
   "outputs": [],
   "source": [
    "particles.get_threshold_ess_indicator()"
   ]
  },
  {
   "cell_type": "code",
   "execution_count": null,
   "metadata": {},
   "outputs": [],
   "source": [
    "particles.resample_particles_bundles()\n",
    "\n",
    "# particles.gather_latent_variables_up_to_t(\n",
    "#     t+1, \n",
    "#     exp_data.get_stan_data_upto_t(t+1)\n",
    "# )\n",
    "\n",
    "# particles.jitter_bundles_and_pick_one(exp_data.get_stan_data_upto_t(t + 1))\n",
    "# particles.check_latent_particles_are_distinct()\n",
    "\n",
    "# particles.jitter(exp_data.get_stan_data_upto_t(t + 1))"
   ]
  },
  {
   "cell_type": "code",
   "execution_count": null,
   "metadata": {},
   "outputs": [],
   "source": [
    "ps_smc2 = dict()\n",
    "for name in particles.param_names:\n",
    "    ps_smc2[name] = particles.extract_particles_in_numpy_array(name)\n"
   ]
  },
  {
   "cell_type": "code",
   "execution_count": null,
   "metadata": {},
   "outputs": [],
   "source": [
    "ps_smc2 = post_process_sign(ps_smc2)\n"
   ]
  },
  {
   "cell_type": "markdown",
   "metadata": {},
   "source": [
    "## Plot"
   ]
  },
  {
   "cell_type": "code",
   "execution_count": null,
   "metadata": {},
   "outputs": [],
   "source": [
    "param = 'beta'\n",
    "df = get_post_df(ps_smc2[param]) \n",
    "df['source'] = 'smc2'\n",
    "plot_density(df, height=100)"
   ]
  },
  {
   "cell_type": "code",
   "execution_count": null,
   "metadata": {},
   "outputs": [],
   "source": [
    "param = 'alpha'\n",
    "df = get_post_df(ps_smc2[param]) \n",
    "df['source'] = 'smc2'\n",
    "plot_density(df, height=100)"
   ]
  },
  {
   "cell_type": "markdown",
   "metadata": {},
   "source": [
    "## Plot MCMC samples"
   ]
  },
  {
   "cell_type": "code",
   "execution_count": null,
   "metadata": {},
   "outputs": [],
   "source": [
    "param = 'beta'\n",
    "df = get_post_df(ps_smc2[param])\n",
    "df_quant = df.groupby(['row', 'col'])[['value']].quantile(0.025).reset_index()\n",
    "df_quant.rename({'value':'q1'}, axis=1, inplace=True)\n",
    "df_quant2 = df.groupby(['row', 'col'])[['value']].quantile(0.975).reset_index()\n",
    "df_quant2.rename({'value':'q2'}, axis=1, inplace=True)\n",
    "\n",
    "df = df_quant.merge(df_quant2, on=['row', 'col'])\n",
    "\n",
    "# simple quantile chart\n",
    "df['source'] = 'smc2'\n",
    "c1 = alt.Chart(df).mark_bar(opacity=0.6).encode(\n",
    "        alt.X('q1', title=None),\n",
    "        alt.X2('q2', title=None),\n",
    "        alt.Row('row'),\n",
    "        alt.Column('col'),\n",
    "        alt.Color('source')\n",
    ")\n",
    "c1"
   ]
  },
  {
   "cell_type": "code",
   "execution_count": null,
   "metadata": {},
   "outputs": [],
   "source": [
    "df['index'] = 'r_' + df.row.astype(str)+'.c_'+df.col.astype(str)\n",
    "df = df.loc[:,['index', 'q1', 'q2']]\n",
    "df['source'] = 'smc2'\n",
    "dd = pd.DataFrame(exp_data.raw_data['beta'], columns=['data'])\n",
    "dd['col'] = 0\n",
    "dd['row'] = np.arange(6)\n",
    "dd['index'] = 'r_' + dd.row.astype(str)+'.c_'+dd.col.astype(str)\n",
    "dd = dd.loc[:,['index', 'data']]\n",
    "plot_data = df.merge(dd, on=['index'])"
   ]
  },
  {
   "cell_type": "code",
   "execution_count": null,
   "metadata": {},
   "outputs": [],
   "source": [
    "c1 = alt.Chart(plot_data).mark_bar(opacity=0.6).encode(\n",
    "    alt.X('q1', title=None,  scale=alt.Scale(domain=[-2,2])),\n",
    "    alt.X2('q2', title=None),\n",
    "    alt.Color('source'),    \n",
    ")\n",
    "    \n",
    "\n",
    "c2 = alt.Chart(plot_data).mark_point(opacity=1, color='red').encode(\n",
    "        alt.X('data', title=None),\n",
    ")\n",
    "(c1+c2).facet(\n",
    "       'index',\n",
    "    columns=1\n",
    "    )\n"
   ]
  },
  {
   "cell_type": "code",
   "execution_count": null,
   "metadata": {},
   "outputs": [],
   "source": [
    "load_obj('marg_lklhd', log_dir)"
   ]
  },
  {
   "cell_type": "code",
   "execution_count": null,
   "metadata": {},
   "outputs": [],
   "source": []
  },
  {
   "cell_type": "code",
   "execution_count": null,
   "metadata": {},
   "outputs": [],
   "source": []
  }
 ],
 "metadata": {
  "kernelspec": {
   "display_name": "Python 3",
   "language": "python",
   "name": "python3"
  },
  "language_info": {
   "codemirror_mode": {
    "name": "ipython",
    "version": 3
   },
   "file_extension": ".py",
   "mimetype": "text/x-python",
   "name": "python",
   "nbconvert_exporter": "python",
   "pygments_lexer": "ipython3",
   "version": "3.7.4"
  }
 },
 "nbformat": 4,
 "nbformat_minor": 2
}
