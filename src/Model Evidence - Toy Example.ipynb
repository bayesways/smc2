{
 "cells": [
  {
   "cell_type": "code",
   "execution_count": 1,
   "metadata": {},
   "outputs": [],
   "source": [
    "# from codebase.classes import Particles\n",
    "# from codebase.classes_data import Data\n",
    "import pandas as pd\n",
    "import numpy as np\n",
    "from codebase.file_utils import (\n",
    "    save_obj,\n",
    "    load_obj,\n",
    "    make_folder,\n",
    "    path_backslash\n",
    ")\n",
    "from scipy.special import logsumexp\n",
    "from scipy.stats import norm, invgamma\n",
    "import altair as alt\n",
    "alt.data_transformers.disable_max_rows()\n",
    "\n",
    "\n",
    "import pystan"
   ]
  },
  {
   "cell_type": "markdown",
   "metadata": {},
   "source": [
    "## Load Model Evidence"
   ]
  },
  {
   "cell_type": "code",
   "execution_count": 2,
   "metadata": {
    "scrolled": true
   },
   "outputs": [],
   "source": [
    "log_dirs = dict()\n",
    "log_dirs['ibis'] = 'log/20210902_191203_toy_m12/'\n",
    "\n",
    "model_nums = ['ibis']\n",
    "# load existing results\n",
    "bf = dict()\n",
    "\n",
    "for model in model_nums:\n",
    "    bf[str(model)] = load_obj('log_lklhds', log_dirs[str(model)])\n",
    "\n"
   ]
  },
  {
   "cell_type": "markdown",
   "metadata": {},
   "source": [
    "## data"
   ]
  },
  {
   "cell_type": "code",
   "execution_count": 3,
   "metadata": {},
   "outputs": [
    {
     "data": {
      "text/plain": [
       "{'random_seed': 0,\n",
       " 'N': 100,\n",
       " 'J': 1,\n",
       " 'alpha': array([0.]),\n",
       " 'sigma': array([1.]),\n",
       " 'Marg_cov': array([[1.]]),\n",
       " 'y': array([[ 1.76405235],\n",
       "        [ 0.40015721],\n",
       "        [ 0.97873798],\n",
       "        [ 2.2408932 ],\n",
       "        [ 1.86755799],\n",
       "        [-0.97727788],\n",
       "        [ 0.95008842],\n",
       "        [-0.15135721],\n",
       "        [-0.10321885],\n",
       "        [ 0.4105985 ],\n",
       "        [ 0.14404357],\n",
       "        [ 1.45427351],\n",
       "        [ 0.76103773],\n",
       "        [ 0.12167502],\n",
       "        [ 0.44386323],\n",
       "        [ 0.33367433],\n",
       "        [ 1.49407907],\n",
       "        [-0.20515826],\n",
       "        [ 0.3130677 ],\n",
       "        [-0.85409574],\n",
       "        [-2.55298982],\n",
       "        [ 0.6536186 ],\n",
       "        [ 0.8644362 ],\n",
       "        [-0.74216502],\n",
       "        [ 2.26975462],\n",
       "        [-1.45436567],\n",
       "        [ 0.04575852],\n",
       "        [-0.18718385],\n",
       "        [ 1.53277921],\n",
       "        [ 1.46935877],\n",
       "        [ 0.15494743],\n",
       "        [ 0.37816252],\n",
       "        [-0.88778575],\n",
       "        [-1.98079647],\n",
       "        [-0.34791215],\n",
       "        [ 0.15634897],\n",
       "        [ 1.23029068],\n",
       "        [ 1.20237985],\n",
       "        [-0.38732682],\n",
       "        [-0.30230275],\n",
       "        [-1.04855297],\n",
       "        [-1.42001794],\n",
       "        [-1.70627019],\n",
       "        [ 1.9507754 ],\n",
       "        [-0.50965218],\n",
       "        [-0.4380743 ],\n",
       "        [-1.25279536],\n",
       "        [ 0.77749036],\n",
       "        [-1.61389785],\n",
       "        [-0.21274028],\n",
       "        [-0.89546656],\n",
       "        [ 0.3869025 ],\n",
       "        [-0.51080514],\n",
       "        [-1.18063218],\n",
       "        [-0.02818223],\n",
       "        [ 0.42833187],\n",
       "        [ 0.06651722],\n",
       "        [ 0.3024719 ],\n",
       "        [-0.63432209],\n",
       "        [-0.36274117],\n",
       "        [-0.67246045],\n",
       "        [-0.35955316],\n",
       "        [-0.81314628],\n",
       "        [-1.7262826 ],\n",
       "        [ 0.17742614],\n",
       "        [-0.40178094],\n",
       "        [-1.63019835],\n",
       "        [ 0.46278226],\n",
       "        [-0.90729836],\n",
       "        [ 0.0519454 ],\n",
       "        [ 0.72909056],\n",
       "        [ 0.12898291],\n",
       "        [ 1.13940068],\n",
       "        [-1.23482582],\n",
       "        [ 0.40234164],\n",
       "        [-0.68481009],\n",
       "        [-0.87079715],\n",
       "        [-0.57884966],\n",
       "        [-0.31155253],\n",
       "        [ 0.05616534],\n",
       "        [-1.16514984],\n",
       "        [ 0.90082649],\n",
       "        [ 0.46566244],\n",
       "        [-1.53624369],\n",
       "        [ 1.48825219],\n",
       "        [ 1.89588918],\n",
       "        [ 1.17877957],\n",
       "        [-0.17992484],\n",
       "        [-1.07075262],\n",
       "        [ 1.05445173],\n",
       "        [-0.40317695],\n",
       "        [ 1.22244507],\n",
       "        [ 0.20827498],\n",
       "        [ 0.97663904],\n",
       "        [ 0.3563664 ],\n",
       "        [ 0.70657317],\n",
       "        [ 0.01050002],\n",
       "        [ 1.78587049],\n",
       "        [ 0.12691209],\n",
       "        [ 0.40198936]]),\n",
       " 'stan_constants': ['N', 'J'],\n",
       " 'stan_data': ['y']}"
      ]
     },
     "execution_count": 3,
     "metadata": {},
     "output_type": "execute_result"
    }
   ],
   "source": [
    "data = load_obj('data', log_dirs['ibis'])\n",
    "data.raw_data\n"
   ]
  },
  {
   "cell_type": "markdown",
   "metadata": {},
   "source": [
    "## IBIS estimate"
   ]
  },
  {
   "cell_type": "code",
   "execution_count": 15,
   "metadata": {},
   "outputs": [
    {
     "data": {
      "text/plain": [
       "-148.30623839842207"
      ]
     },
     "execution_count": 15,
     "metadata": {},
     "output_type": "execute_result"
    }
   ],
   "source": [
    "bf['ibis'].sum()"
   ]
  },
  {
   "cell_type": "markdown",
   "metadata": {},
   "source": [
    "## Analytical estimate"
   ]
  },
  {
   "cell_type": "code",
   "execution_count": 5,
   "metadata": {},
   "outputs": [
    {
     "name": "stdout",
     "output_type": "stream",
     "text": [
      "mu=1.00, sigma^2 =1.44\n",
      "-176.0908557661174\n",
      "-2.872212983841113\n",
      "-31.929316673736466\n"
     ]
    },
    {
     "data": {
      "text/plain": [
       "-147.03375207622202"
      ]
     },
     "execution_count": 5,
     "metadata": {},
     "output_type": "execute_result"
    }
   ],
   "source": [
    "def loglikelihood(x, mu, sigma):\n",
    "    return norm.logpdf(x, loc=mu, scale=sigma).sum()\n",
    "\n",
    "def logprior(mu, sigma):\n",
    "    a = invgamma.logpdf(x=sigma**2, a=1, scale=1)\n",
    "    b = norm.logpdf(x=mu, loc=0, scale=sigma)\n",
    "    return (a+b)\n",
    "\n",
    "def logposterior(x, mu, sigma): \n",
    "    n = x.shape[0]\n",
    "    xavg = np.mean(x)\n",
    "    ssquare = np.sum((x-xavg)**2)\n",
    "    a = norm.logpdf(\n",
    "        x = mu,\n",
    "        loc=n*xavg/(n+1) ,\n",
    "        scale = (sigma/np.sqrt((n+1)))\n",
    "        )\n",
    "    \n",
    "    b = invgamma.logpdf(\n",
    "        x=sigma**2, \n",
    "        a=(n+2)*0.5,\n",
    "        scale=0.5 * (2+ssquare+((n*(xavg**2))/(n+1))) ## note in python's parametrization scale = 1/beta\n",
    "    )\n",
    "    return a+b\n",
    "\n",
    "\n",
    "n=1000\n",
    "m1 = 1\n",
    "s1 = 1.2\n",
    "print(\"mu=%.2f, sigma^2 =%.2f\"%(m1, s1**2))\n",
    "\n",
    "# y = norm.rvs(loc=m1, scale=s1, size=n)\n",
    "y = data.raw_data['y']\n",
    "\n",
    "print(loglikelihood(y , m1, s1))\n",
    "print(logprior(m1, s1))\n",
    "print(logposterior(y , m1, s1))\n",
    "\n",
    "logmodel_evidence = (\n",
    "    loglikelihood(y, m1, s1) +\n",
    "    logprior(m1, s1) -\n",
    "    logposterior(y, m1, s1)\n",
    ")\n",
    "logmodel_evidence"
   ]
  },
  {
   "cell_type": "markdown",
   "metadata": {},
   "source": [
    "## checking analytical posterior"
   ]
  },
  {
   "cell_type": "code",
   "execution_count": 6,
   "metadata": {},
   "outputs": [
    {
     "data": {
      "text/plain": [
       "array([3.97958980e-03, 6.61780611e+00])"
      ]
     },
     "execution_count": 6,
     "metadata": {},
     "output_type": "execute_result"
    }
   ],
   "source": [
    "from scipy.stats import invgamma, norm\n",
    "def loglikelihood(x, mu, sigma):\n",
    "    return -norm.logpdf(x, loc=mu, scale=sigma).sum()\n",
    "\n",
    "def draw_prior(size):\n",
    "    draws = np.empty((size, 2))\n",
    "    sigmasquare = invgamma.rvs(a=1, scale=1, size=size)\n",
    "    draws[:,1] = sigmasquare\n",
    "    for i in range(size):\n",
    "        mu = norm.rvs(loc=0, scale=np.sqrt(sigmasquare[i]))\n",
    "        draws[i,0] = mu\n",
    "\n",
    "#     draws[:,0] = norm.rvs(loc=0, scale=np.sqrt(sigmasquare))\n",
    "    return draws\n",
    "\n",
    "def draw_posterior(x, size): \n",
    "    n = x.shape[0]\n",
    "    xavg = np.mean(x)\n",
    "    ssquare = np.sum((x-xavg)**2)\n",
    "    draws = np.empty((size, 2))\n",
    "    sigmasquare = invgamma.rvs(\n",
    "        a=(n+2)/2.,\n",
    "        scale=0.5*(2+ssquare+((n*xavg**2)/(n+1))),\n",
    "        size=size\n",
    "    )\n",
    "    draws[:,1] = sigmasquare\n",
    "    for i in range(size):\n",
    "        mu = norm.rvs(\n",
    "            loc=n*xavg/(n+1) ,\n",
    "            scale = np.sqrt((sigmasquare[i]/(n+1)))\n",
    "            )\n",
    "        draws[i,0] = mu\n",
    "        \n",
    "#     draws[:,0] = norm.rvs(\n",
    "#         loc=n*xavg/(n+1) ,\n",
    "#         scale = np.sqrt((sigmasquare/(n+1))),\n",
    "#         size=size\n",
    "#         )\n",
    "    return draws\n",
    "            \n",
    "draw_prior(1000).mean(0)\n"
   ]
  },
  {
   "cell_type": "code",
   "execution_count": 7,
   "metadata": {},
   "outputs": [
    {
     "name": "stdout",
     "output_type": "stream",
     "text": [
      "mu=1.00, sigma^2 =1.44\n"
     ]
    },
    {
     "data": {
      "text/plain": [
       "array([0.94, 1.45])"
      ]
     },
     "execution_count": 7,
     "metadata": {},
     "output_type": "execute_result"
    }
   ],
   "source": [
    "n=1000\n",
    "m1 = 1\n",
    "s1 = 1.2\n",
    "print(\"mu=%.2f, sigma^2 =%.2f\"%(m1, s1**2))\n",
    "\n",
    "y = norm.rvs(loc=m1, scale=s1, size=n)\n",
    "draw_posterior(y, 1000).mean(0).round(2)\n"
   ]
  },
  {
   "cell_type": "code",
   "execution_count": 14,
   "metadata": {},
   "outputs": [
    {
     "name": "stdout",
     "output_type": "stream",
     "text": [
      "mu=1.00, sigma^2 =1.44\n",
      "3.3474417400845346e-77\n",
      "1.6092053795801171\n",
      "1.3591705557037268e-14\n"
     ]
    },
    {
     "data": {
      "text/plain": [
       "-143.68579858827778"
      ]
     },
     "execution_count": 14,
     "metadata": {},
     "output_type": "execute_result"
    }
   ],
   "source": [
    "def likelihood(x, mu, sigma):\n",
    "    return np.exp(norm.logpdf(x, loc=mu, scale=sigma).sum())\n",
    "\n",
    "def prior(mu, sigma):\n",
    "    a = invgamma.pdf(x=sigma**2, a=1, scale=1)\n",
    "    b = norm.pdf(x=mu, loc=0, scale=sigma)\n",
    "    return np.exp(a+b)\n",
    "\n",
    "def posterior(x, mu, sigma): \n",
    "    n = x.shape[0]\n",
    "    xavg = np.mean(x)\n",
    "    ssquare = np.sum((x-xavg)**2)\n",
    "    a = norm.logpdf(\n",
    "        x = mu,\n",
    "        loc=n*xavg/(n+1) ,\n",
    "        scale = (sigma/np.sqrt((n+1)))\n",
    "        )\n",
    "    \n",
    "    b = invgamma.logpdf(\n",
    "        x=sigma**2, \n",
    "        a=(n+2)*0.5,\n",
    "        scale=0.5 * (2+ssquare+((n*(xavg**2))/(n+1))) ## note in python's parametrization scale = 1/beta\n",
    "    )\n",
    "    return np.exp(a+b)\n",
    "\n",
    "\n",
    "n=1000\n",
    "m1 = 1\n",
    "s1 = 1.2\n",
    "print(\"mu=%.2f, sigma^2 =%.2f\"%(m1, s1**2))\n",
    "\n",
    "# y = norm.rvs(loc=m1, scale=s1, size=n)\n",
    "y = data.raw_data['y']\n",
    "\n",
    "print(likelihood(y , m1, s1))\n",
    "print(prior(m1, s1))\n",
    "print(posterior(y , m1, s1))\n",
    "\n",
    "model_evidence = (\n",
    "    likelihood(y, m1, s1) * prior(m1, s1) / posterior(y, m1, s1)\n",
    ")\n",
    "np.log(model_evidence)"
   ]
  },
  {
   "cell_type": "code",
   "execution_count": null,
   "metadata": {},
   "outputs": [],
   "source": []
  }
 ],
 "metadata": {
  "kernelspec": {
   "display_name": "Python 3",
   "language": "python",
   "name": "python3"
  },
  "language_info": {
   "codemirror_mode": {
    "name": "ipython",
    "version": 3
   },
   "file_extension": ".py",
   "mimetype": "text/x-python",
   "name": "python",
   "nbconvert_exporter": "python",
   "pygments_lexer": "ipython3",
   "version": "3.7.4"
  }
 },
 "nbformat": 4,
 "nbformat_minor": 2
}
