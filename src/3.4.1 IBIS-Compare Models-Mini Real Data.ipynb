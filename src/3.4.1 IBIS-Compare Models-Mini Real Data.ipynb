{
 "cells": [
  {
   "cell_type": "code",
   "execution_count": 1,
   "metadata": {},
   "outputs": [],
   "source": [
    "from codebase.classes import Particles\n",
    "from codebase.classes_data import Data\n",
    "import pandas as pd\n",
    "import numpy as np\n",
    "from codebase.file_utils import (\n",
    "    save_obj,\n",
    "    load_obj,\n",
    "    make_folder,\n",
    "    path_backslash\n",
    ")\n",
    "from codebase.ibis import essl, exp_and_normalise, model_phonebook, run_mcmc\n",
    "from codebase.plot import get_post_df, plot_density\n",
    "from codebase.run_tlk import model_phonebook\n",
    "from tqdm import tqdm\n",
    "from scipy.special import logsumexp\n",
    "import altair as alt\n",
    "alt.data_transformers.disable_max_rows()\n",
    "\n",
    "\n",
    "import pystan"
   ]
  },
  {
   "cell_type": "markdown",
   "metadata": {},
   "source": [
    "## Load Model Evidence"
   ]
  },
  {
   "cell_type": "code",
   "execution_count": 2,
   "metadata": {
    "scrolled": true
   },
   "outputs": [],
   "source": [
    "log_dirs = dict()\n",
    "log_dirs['m6'] = 'log/fabian_real_muthen/20210829_151703_minibig5_m6/'\n",
    "log_dirs['m11'] = 'log/fabian_real_muthen/20210829_151657_minibig5_m11/'\n",
    "log_dirs['m10'] = 'log/fabian_real_muthen/20210829_151659_minibig5_m10/'\n",
    "log_dirs['m9'] = 'log/fabian_real_muthen/20210829_151702_minibig5_m9/'\n",
    "\n",
    "# load existing results\n",
    "bf = dict()\n",
    "for model in [6,9,10,11]:\n",
    "    bf['m'+str(model)] = load_obj('log_lklhds', log_dirs['m'+str(model)])\n"
   ]
  },
  {
   "cell_type": "code",
   "execution_count": 3,
   "metadata": {},
   "outputs": [
    {
     "name": "stderr",
     "output_type": "stream",
     "text": [
      "INFO:numexpr.utils:NumExpr defaulting to 8 threads.\n"
     ]
    }
   ],
   "source": [
    "bfdf = pd.DataFrame.from_dict(bf)\n",
    "\n",
    "bfdf['t']  = np.arange(len(bfdf))\n",
    "for i in [9,10,11]:\n",
    "    bfdf['m6/m'+str(i)] = bfdf['m6']/bfdf['m'+str(i)]\n",
    "bfdf.drop(['m6', 'm9', 'm10', 'm11'], axis=1, inplace=True)\n",
    "bfdf = bfdf.melt(id_vars='t', var_name='model')\n",
    "bfdf = bfdf[bfdf.t>=30]"
   ]
  },
  {
   "cell_type": "code",
   "execution_count": 4,
   "metadata": {},
   "outputs": [
    {
     "data": {
      "text/html": [
       "\n",
       "<div id=\"altair-viz-d9a1484b496242eb9a4649bc1fce7188\"></div>\n",
       "<script type=\"text/javascript\">\n",
       "  (function(spec, embedOpt){\n",
       "    let outputDiv = document.currentScript.previousElementSibling;\n",
       "    if (outputDiv.id !== \"altair-viz-d9a1484b496242eb9a4649bc1fce7188\") {\n",
       "      outputDiv = document.getElementById(\"altair-viz-d9a1484b496242eb9a4649bc1fce7188\");\n",
       "    }\n",
       "    const paths = {\n",
       "      \"vega\": \"https://cdn.jsdelivr.net/npm//vega@5?noext\",\n",
       "      \"vega-lib\": \"https://cdn.jsdelivr.net/npm//vega-lib?noext\",\n",
       "      \"vega-lite\": \"https://cdn.jsdelivr.net/npm//vega-lite@4.8.1?noext\",\n",
       "      \"vega-embed\": \"https://cdn.jsdelivr.net/npm//vega-embed@6?noext\",\n",
       "    };\n",
       "\n",
       "    function loadScript(lib) {\n",
       "      return new Promise(function(resolve, reject) {\n",
       "        var s = document.createElement('script');\n",
       "        s.src = paths[lib];\n",
       "        s.async = true;\n",
       "        s.onload = () => resolve(paths[lib]);\n",
       "        s.onerror = () => reject(`Error loading script: ${paths[lib]}`);\n",
       "        document.getElementsByTagName(\"head\")[0].appendChild(s);\n",
       "      });\n",
       "    }\n",
       "\n",
       "    function showError(err) {\n",
       "      outputDiv.innerHTML = `<div class=\"error\" style=\"color:red;\">${err}</div>`;\n",
       "      throw err;\n",
       "    }\n",
       "\n",
       "    function displayChart(vegaEmbed) {\n",
       "      vegaEmbed(outputDiv, spec, embedOpt)\n",
       "        .catch(err => showError(`Javascript Error: ${err.message}<br>This usually means there's a typo in your chart specification. See the javascript console for the full traceback.`));\n",
       "    }\n",
       "\n",
       "    if(typeof define === \"function\" && define.amd) {\n",
       "      requirejs.config({paths});\n",
       "      require([\"vega-embed\"], displayChart, err => showError(`Error loading script: ${err.message}`));\n",
       "    } else if (typeof vegaEmbed === \"function\") {\n",
       "      displayChart(vegaEmbed);\n",
       "    } else {\n",
       "      loadScript(\"vega\")\n",
       "        .then(() => loadScript(\"vega-lite\"))\n",
       "        .then(() => loadScript(\"vega-embed\"))\n",
       "        .catch(showError)\n",
       "        .then(() => displayChart(vegaEmbed));\n",
       "    }\n",
       "  })({\"config\": {\"view\": {\"continuousWidth\": 400, \"continuousHeight\": 300}}, \"data\": {\"name\": \"data-b26e7aa22329bee7a625b66a4801679f\"}, \"mark\": {\"type\": \"line\", \"strokeWidth\": 1}, \"encoding\": {\"color\": {\"type\": \"nominal\", \"field\": \"model\"}, \"x\": {\"type\": \"quantitative\", \"field\": \"t\", \"title\": null}, \"y\": {\"type\": \"quantitative\", \"field\": \"value\"}}, \"height\": 400, \"selection\": {\"selector001\": {\"type\": \"interval\", \"bind\": \"scales\", \"encodings\": [\"x\", \"y\"]}}, \"width\": 600, \"$schema\": \"https://vega.github.io/schema/vega-lite/v4.8.1.json\", \"datasets\": {\"data-b26e7aa22329bee7a625b66a4801679f\": [{\"t\": 30, \"model\": \"m6/m9\", \"value\": 1.0033392665368184}, {\"t\": 31, \"model\": \"m6/m9\", \"value\": 1.1546984768575375}, {\"t\": 32, \"model\": \"m6/m9\", \"value\": 0.9893127570083335}, {\"t\": 33, \"model\": \"m6/m9\", \"value\": 0.9194960687731608}, {\"t\": 34, \"model\": \"m6/m9\", \"value\": 0.905673034896954}, {\"t\": 35, \"model\": \"m6/m9\", \"value\": 0.9299723741576278}, {\"t\": 36, \"model\": \"m6/m9\", \"value\": 0.8866331301514017}, {\"t\": 37, \"model\": \"m6/m9\", \"value\": 0.9384668082436305}, {\"t\": 38, \"model\": \"m6/m9\", \"value\": 0.9503746294663831}, {\"t\": 39, \"model\": \"m6/m9\", \"value\": 0.9754205240938845}, {\"t\": 40, \"model\": \"m6/m9\", \"value\": 0.9572250747259679}, {\"t\": 41, \"model\": \"m6/m9\", \"value\": 0.9564574261735187}, {\"t\": 42, \"model\": \"m6/m9\", \"value\": 0.9466606854773036}, {\"t\": 43, \"model\": \"m6/m9\", \"value\": 0.9827891949495182}, {\"t\": 44, \"model\": \"m6/m9\", \"value\": 0.932967545082477}, {\"t\": 45, \"model\": \"m6/m9\", \"value\": 1.019985947589114}, {\"t\": 46, \"model\": \"m6/m9\", \"value\": 1.00952499873955}, {\"t\": 47, \"model\": \"m6/m9\", \"value\": 1.0207587062501022}, {\"t\": 48, \"model\": \"m6/m9\", \"value\": 0.9443441312352938}, {\"t\": 49, \"model\": \"m6/m9\", \"value\": 1.0520321679351898}, {\"t\": 30, \"model\": \"m6/m10\", \"value\": 0.9735686754963859}, {\"t\": 31, \"model\": \"m6/m10\", \"value\": 1.1926162861478562}, {\"t\": 32, \"model\": \"m6/m10\", \"value\": 0.977843701495452}, {\"t\": 33, \"model\": \"m6/m10\", \"value\": 0.9219205370970048}, {\"t\": 34, \"model\": \"m6/m10\", \"value\": 0.897036903469048}, {\"t\": 35, \"model\": \"m6/m10\", \"value\": 0.9866885835959269}, {\"t\": 36, \"model\": \"m6/m10\", \"value\": 0.8801906732174057}, {\"t\": 37, \"model\": \"m6/m10\", \"value\": 0.9366175112527154}, {\"t\": 38, \"model\": \"m6/m10\", \"value\": 1.1200037660005333}, {\"t\": 39, \"model\": \"m6/m10\", \"value\": 0.9732576787204802}, {\"t\": 40, \"model\": \"m6/m10\", \"value\": 0.9144126037877909}, {\"t\": 41, \"model\": \"m6/m10\", \"value\": 0.9524207654130447}, {\"t\": 42, \"model\": \"m6/m10\", \"value\": 0.9407859867951179}, {\"t\": 43, \"model\": \"m6/m10\", \"value\": 0.9854151884154668}, {\"t\": 44, \"model\": \"m6/m10\", \"value\": 0.9365418138537404}, {\"t\": 45, \"model\": \"m6/m10\", \"value\": 1.038644744143035}, {\"t\": 46, \"model\": \"m6/m10\", \"value\": 0.9869315714779703}, {\"t\": 47, \"model\": \"m6/m10\", \"value\": 1.0082779244870992}, {\"t\": 48, \"model\": \"m6/m10\", \"value\": 0.931124139767817}, {\"t\": 49, \"model\": \"m6/m10\", \"value\": 1.0243137495677093}, {\"t\": 30, \"model\": \"m6/m11\", \"value\": 0.8600755156200498}, {\"t\": 31, \"model\": \"m6/m11\", \"value\": 0.9383747118013661}, {\"t\": 32, \"model\": \"m6/m11\", \"value\": 0.9542947178298871}, {\"t\": 33, \"model\": \"m6/m11\", \"value\": 1.023362645478335}, {\"t\": 34, \"model\": \"m6/m11\", \"value\": 1.0153198793866736}, {\"t\": 35, \"model\": \"m6/m11\", \"value\": 0.9790078477924169}, {\"t\": 36, \"model\": \"m6/m11\", \"value\": 0.9863494383191402}, {\"t\": 37, \"model\": \"m6/m11\", \"value\": 0.9951493227444612}, {\"t\": 38, \"model\": \"m6/m11\", \"value\": 1.0570600121314941}, {\"t\": 39, \"model\": \"m6/m11\", \"value\": 0.9630757492657974}, {\"t\": 40, \"model\": \"m6/m11\", \"value\": 0.9763780989781449}, {\"t\": 41, \"model\": \"m6/m11\", \"value\": 1.0056881765235162}, {\"t\": 42, \"model\": \"m6/m11\", \"value\": 0.99630686831575}, {\"t\": 43, \"model\": \"m6/m11\", \"value\": 0.9793617978179959}, {\"t\": 44, \"model\": \"m6/m11\", \"value\": 1.0317472084310921}, {\"t\": 45, \"model\": \"m6/m11\", \"value\": 1.0225935720424988}, {\"t\": 46, \"model\": \"m6/m11\", \"value\": 0.9867288458340452}, {\"t\": 47, \"model\": \"m6/m11\", \"value\": 1.0128207743334774}, {\"t\": 48, \"model\": \"m6/m11\", \"value\": 0.9731998432749286}, {\"t\": 49, \"model\": \"m6/m11\", \"value\": 0.9445308626772513}]}}, {\"mode\": \"vega-lite\"});\n",
       "</script>"
      ],
      "text/plain": [
       "alt.Chart(...)"
      ]
     },
     "execution_count": 4,
     "metadata": {},
     "output_type": "execute_result"
    }
   ],
   "source": [
    "width = 600\n",
    "height = 400\n",
    "c = alt.Chart(bfdf).mark_line(\n",
    "    strokeWidth = 1,\n",
    "    ).encode(\n",
    "    alt.X('t:Q', title=None),\n",
    "    alt.Y('value:Q'),\n",
    "    alt.Color('model')\n",
    "    ).properties(width=width, height=height).interactive()\n",
    "c"
   ]
  },
  {
   "cell_type": "markdown",
   "metadata": {},
   "source": [
    "## Scoring Rules\n"
   ]
  },
  {
   "cell_type": "code",
   "execution_count": 5,
   "metadata": {},
   "outputs": [],
   "source": [
    "log_dirs = dict()\n",
    "log_dirs['m6'] = 'log/fabian_real_muthen/20210829_151703_minibig5_m6/'\n",
    "log_dirs['m11'] = 'log/fabian_real_muthen/20210829_151657_minibig5_m11/'\n",
    "log_dirs['m10'] = 'log/fabian_real_muthen/20210829_151659_minibig5_m10/'\n",
    "log_dirs['m9'] = 'log/fabian_real_muthen/20210829_151702_minibig5_m9/'\n",
    "\n",
    "# load existing results\n",
    "scrl = dict()\n",
    "for model in [6,9,10,11]:\n",
    "    scrl['m'+str(model)] = load_obj('scoring_rule', log_dirs['m'+str(model)])\n"
   ]
  },
  {
   "cell_type": "code",
   "execution_count": 6,
   "metadata": {},
   "outputs": [],
   "source": [
    "scrldf = pd.DataFrame.from_dict(bf)\n",
    "\n",
    "scrldf['t']  = np.arange(len(scrldf))\n",
    "# for i in [9,10,11]:\n",
    "#     scrldf['m6/m'+str(i)] = scrldf['m6']/scrldf['m'+str(i)]\n",
    "# scrldf.drop(['m6', 'm9', 'm10', 'm11'], axis=1, inplace=True)\n",
    "scrldf = scrldf.melt(id_vars='t', var_name='model')\n",
    "scrldf = scrldf[scrldf.t>=30]\n",
    "scrldf['cval'] = scrldf.value.cumsum()"
   ]
  },
  {
   "cell_type": "code",
   "execution_count": 7,
   "metadata": {},
   "outputs": [
    {
     "data": {
      "text/html": [
       "\n",
       "<div id=\"altair-viz-33cc457b29f2411b8d309972c907448b\"></div>\n",
       "<script type=\"text/javascript\">\n",
       "  (function(spec, embedOpt){\n",
       "    let outputDiv = document.currentScript.previousElementSibling;\n",
       "    if (outputDiv.id !== \"altair-viz-33cc457b29f2411b8d309972c907448b\") {\n",
       "      outputDiv = document.getElementById(\"altair-viz-33cc457b29f2411b8d309972c907448b\");\n",
       "    }\n",
       "    const paths = {\n",
       "      \"vega\": \"https://cdn.jsdelivr.net/npm//vega@5?noext\",\n",
       "      \"vega-lib\": \"https://cdn.jsdelivr.net/npm//vega-lib?noext\",\n",
       "      \"vega-lite\": \"https://cdn.jsdelivr.net/npm//vega-lite@4.8.1?noext\",\n",
       "      \"vega-embed\": \"https://cdn.jsdelivr.net/npm//vega-embed@6?noext\",\n",
       "    };\n",
       "\n",
       "    function loadScript(lib) {\n",
       "      return new Promise(function(resolve, reject) {\n",
       "        var s = document.createElement('script');\n",
       "        s.src = paths[lib];\n",
       "        s.async = true;\n",
       "        s.onload = () => resolve(paths[lib]);\n",
       "        s.onerror = () => reject(`Error loading script: ${paths[lib]}`);\n",
       "        document.getElementsByTagName(\"head\")[0].appendChild(s);\n",
       "      });\n",
       "    }\n",
       "\n",
       "    function showError(err) {\n",
       "      outputDiv.innerHTML = `<div class=\"error\" style=\"color:red;\">${err}</div>`;\n",
       "      throw err;\n",
       "    }\n",
       "\n",
       "    function displayChart(vegaEmbed) {\n",
       "      vegaEmbed(outputDiv, spec, embedOpt)\n",
       "        .catch(err => showError(`Javascript Error: ${err.message}<br>This usually means there's a typo in your chart specification. See the javascript console for the full traceback.`));\n",
       "    }\n",
       "\n",
       "    if(typeof define === \"function\" && define.amd) {\n",
       "      requirejs.config({paths});\n",
       "      require([\"vega-embed\"], displayChart, err => showError(`Error loading script: ${err.message}`));\n",
       "    } else if (typeof vegaEmbed === \"function\") {\n",
       "      displayChart(vegaEmbed);\n",
       "    } else {\n",
       "      loadScript(\"vega\")\n",
       "        .then(() => loadScript(\"vega-lite\"))\n",
       "        .then(() => loadScript(\"vega-embed\"))\n",
       "        .catch(showError)\n",
       "        .then(() => displayChart(vegaEmbed));\n",
       "    }\n",
       "  })({\"config\": {\"view\": {\"continuousWidth\": 400, \"continuousHeight\": 300}}, \"data\": {\"name\": \"data-5e79516d09aeada95aa788842b2c4a7d\"}, \"mark\": {\"type\": \"line\", \"strokeWidth\": 1}, \"encoding\": {\"color\": {\"type\": \"nominal\", \"field\": \"model\"}, \"x\": {\"type\": \"quantitative\", \"field\": \"t\", \"title\": null}, \"y\": {\"type\": \"quantitative\", \"field\": \"cval\"}}, \"height\": 400, \"selection\": {\"selector002\": {\"type\": \"interval\", \"bind\": \"scales\", \"encodings\": [\"x\", \"y\"]}}, \"width\": 600, \"$schema\": \"https://vega.github.io/schema/vega-lite/v4.8.1.json\", \"datasets\": {\"data-5e79516d09aeada95aa788842b2c4a7d\": [{\"t\": 30, \"model\": \"m6\", \"value\": -25.143769339034154, \"cval\": -25.143769339034154}, {\"t\": 31, \"model\": \"m6\", \"value\": -34.641469573587415, \"cval\": -59.785238912621566}, {\"t\": 32, \"model\": \"m6\", \"value\": -18.74703808559828, \"cval\": -78.53227699821984}, {\"t\": 33, \"model\": \"m6\", \"value\": -18.920757227626172, \"cval\": -97.45303422584601}, {\"t\": 34, \"model\": \"m6\", \"value\": -16.39441745501113, \"cval\": -113.84745168085715}, {\"t\": 35, \"model\": \"m6\", \"value\": -17.401436666299663, \"cval\": -131.24888834715682}, {\"t\": 36, \"model\": \"m6\", \"value\": -26.52095524208791, \"cval\": -157.76984358924474}, {\"t\": 37, \"model\": \"m6\", \"value\": -15.963907841990764, \"cval\": -173.7337514312355}, {\"t\": 38, \"model\": \"m6\", \"value\": -29.327678685522006, \"cval\": -203.06143011675752}, {\"t\": 39, \"model\": \"m6\", \"value\": -18.338770590902058, \"cval\": -221.40020070765956}, {\"t\": 40, \"model\": \"m6\", \"value\": -15.299624868326628, \"cval\": -236.69982557598618}, {\"t\": 41, \"model\": \"m6\", \"value\": -21.309071971120858, \"cval\": -258.00889754710704}, {\"t\": 42, \"model\": \"m6\", \"value\": -19.162996142248613, \"cval\": -277.17189368935567}, {\"t\": 43, \"model\": \"m6\", \"value\": -18.393283779673723, \"cval\": -295.5651774690294}, {\"t\": 44, \"model\": \"m6\", \"value\": -18.5427471780344, \"cval\": -314.1079246470638}, {\"t\": 45, \"model\": \"m6\", \"value\": -21.214424532262, \"cval\": -335.3223491793258}, {\"t\": 46, \"model\": \"m6\", \"value\": -19.30293511279531, \"cval\": -354.6252842921211}, {\"t\": 47, \"model\": \"m6\", \"value\": -22.51669690994242, \"cval\": -377.1419812020635}, {\"t\": 48, \"model\": \"m6\", \"value\": -13.886955307805518, \"cval\": -391.028936509869}, {\"t\": 49, \"model\": \"m6\", \"value\": -22.299273488925007, \"cval\": -413.328209998794}, {\"t\": 30, \"model\": \"m9\", \"value\": -25.06008702900843, \"cval\": -438.3882970278024}, {\"t\": 31, \"model\": \"m9\", \"value\": -30.000446235854312, \"cval\": -468.38874326365675}, {\"t\": 32, \"model\": \"m9\", \"value\": -18.949556601583744, \"cval\": -487.3382998652405}, {\"t\": 33, \"model\": \"m9\", \"value\": -20.577311714743082, \"cval\": -507.9156115799836}, {\"t\": 34, \"model\": \"m9\", \"value\": -18.101916280279294, \"cval\": -526.0175278602629}, {\"t\": 35, \"model\": \"m9\", \"value\": -18.711778059065406, \"cval\": -544.7293059193283}, {\"t\": 36, \"model\": \"m9\", \"value\": -29.911983141842654, \"cval\": -574.6412890611709}, {\"t\": 37, \"model\": \"m9\", \"value\": -17.010625950498675, \"cval\": -591.6519150116696}, {\"t\": 38, \"model\": \"m9\", \"value\": -30.859071545279917, \"cval\": -622.5109865569495}, {\"t\": 39, \"model\": \"m9\", \"value\": -18.800886528338978, \"cval\": -641.3118730852885}, {\"t\": 40, \"model\": \"m9\", \"value\": -15.98330974844821, \"cval\": -657.2951828337367}, {\"t\": 41, \"model\": \"m9\", \"value\": -22.279164119590416, \"cval\": -679.5743469533271}, {\"t\": 42, \"model\": \"m9\", \"value\": -20.242729455471878, \"cval\": -699.817076408799}, {\"t\": 43, \"model\": \"m9\", \"value\": -18.715390720813236, \"cval\": -718.5324671296123}, {\"t\": 44, \"model\": \"m9\", \"value\": -19.875018456719378, \"cval\": -738.4074855863317}, {\"t\": 45, \"model\": \"m9\", \"value\": -20.79874196542158, \"cval\": -759.2062275517533}, {\"t\": 46, \"model\": \"m9\", \"value\": -19.120809427102976, \"cval\": -778.3270369788562}, {\"t\": 47, \"model\": \"m9\", \"value\": -22.0587850704312, \"cval\": -800.3858220492874}, {\"t\": 48, \"model\": \"m9\", \"value\": -14.705396950622262, \"cval\": -815.0912189999096}, {\"t\": 49, \"model\": \"m9\", \"value\": -21.196379890827394, \"cval\": -836.2875988907371}, {\"t\": 30, \"model\": \"m10\", \"value\": -25.82639517054541, \"cval\": -862.1139940612825}, {\"t\": 31, \"model\": \"m10\", \"value\": -29.04661790715534, \"cval\": -891.1606119684378}, {\"t\": 32, \"model\": \"m10\", \"value\": -19.171814531225955, \"cval\": -910.3324264996638}, {\"t\": 33, \"model\": \"m10\", \"value\": -20.523197462554545, \"cval\": -930.8556239622184}, {\"t\": 34, \"model\": \"m10\", \"value\": -18.27619063564737, \"cval\": -949.1318145978657}, {\"t\": 35, \"model\": \"m10\", \"value\": -17.63619946111181, \"cval\": -966.7680140589775}, {\"t\": 36, \"model\": \"m10\", \"value\": -30.130920548322234, \"cval\": -996.8989346072998}, {\"t\": 37, \"model\": \"m10\", \"value\": -17.04421244552562, \"cval\": -1013.9431470528255}, {\"t\": 38, \"model\": \"m10\", \"value\": -26.18533934957147, \"cval\": -1040.128486402397}, {\"t\": 39, \"model\": \"m10\", \"value\": -18.84266725232687, \"cval\": -1058.9711536547238}, {\"t\": 40, \"model\": \"m10\", \"value\": -16.7316425921413, \"cval\": -1075.702796246865}, {\"t\": 41, \"model\": \"m10\", \"value\": -22.37359027118604, \"cval\": -1098.076386518051}, {\"t\": 42, \"model\": \"m10\", \"value\": -20.36913433152771, \"cval\": -1118.4455208495788}, {\"t\": 43, \"model\": \"m10\", \"value\": -18.665516825704557, \"cval\": -1137.1110376752833}, {\"t\": 44, \"model\": \"m10\", \"value\": -19.799166362613917, \"cval\": -1156.9102040378973}, {\"t\": 45, \"model\": \"m10\", \"value\": -20.425101702859525, \"cval\": -1177.335305740757}, {\"t\": 46, \"model\": \"m10\", \"value\": -19.55853442188335, \"cval\": -1196.8938401626403}, {\"t\": 47, \"model\": \"m10\", \"value\": -22.331835660684963, \"cval\": -1219.2256758233252}, {\"t\": 48, \"model\": \"m10\", \"value\": -14.91418245398335, \"cval\": -1234.1398582773086}, {\"t\": 49, \"model\": \"m10\", \"value\": -21.769964035273333, \"cval\": -1255.9098223125818}, {\"t\": 30, \"model\": \"m11\", \"value\": -29.234374054826322, \"cval\": -1285.144196367408}, {\"t\": 31, \"model\": \"m11\", \"value\": -36.91645686730769, \"cval\": -1322.0606532347158}, {\"t\": 32, \"model\": \"m11\", \"value\": -19.644914443443596, \"cval\": -1341.7055676781595}, {\"t\": 33, \"model\": \"m11\", \"value\": -18.488809720802664, \"cval\": -1360.1943773989622}, {\"t\": 34, \"model\": \"m11\", \"value\": -16.147046647914095, \"cval\": -1376.3414240468762}, {\"t\": 35, \"model\": \"m11\", \"value\": -17.77456299818075, \"cval\": -1394.115987045057}, {\"t\": 36, \"model\": \"m11\", \"value\": -26.88799142754403, \"cval\": -1421.003978472601}, {\"t\": 37, \"model\": \"m11\", \"value\": -16.041721053444405, \"cval\": -1437.0456995260454}, {\"t\": 38, \"model\": \"m11\", \"value\": -27.744573012826976, \"cval\": -1464.7902725388724}, {\"t\": 39, \"model\": \"m11\", \"value\": -19.04187765591923, \"cval\": -1483.8321501947917}, {\"t\": 40, \"model\": \"m11\", \"value\": -15.669774736179425, \"cval\": -1499.5019249309712}, {\"t\": 41, \"model\": \"m11\", \"value\": -21.188547771121762, \"cval\": -1520.6904727020928}, {\"t\": 42, \"model\": \"m11\", \"value\": -19.234029947664144, \"cval\": -1539.924502649757}, {\"t\": 43, \"model\": \"m11\", \"value\": -18.780887533752793, \"cval\": -1558.7053901835097}, {\"t\": 44, \"model\": \"m11\", \"value\": -17.9721806141168, \"cval\": -1576.6775707976265}, {\"t\": 45, \"model\": \"m11\", \"value\": -20.745704952837638, \"cval\": -1597.4232757504642}, {\"t\": 46, \"model\": \"m11\", \"value\": -19.56255276643834, \"cval\": -1616.9858285169025}, {\"t\": 47, \"model\": \"m11\", \"value\": -22.231669689793176, \"cval\": -1639.2174982066956}, {\"t\": 48, \"model\": \"m11\", \"value\": -14.269376843582638, \"cval\": -1653.4868750502783}, {\"t\": 49, \"model\": \"m11\", \"value\": -23.60883521129021, \"cval\": -1677.0957102615685}]}}, {\"mode\": \"vega-lite\"});\n",
       "</script>"
      ],
      "text/plain": [
       "alt.Chart(...)"
      ]
     },
     "execution_count": 7,
     "metadata": {},
     "output_type": "execute_result"
    }
   ],
   "source": [
    "width = 600\n",
    "height = 400\n",
    "c = alt.Chart(scrldf).mark_line(\n",
    "    strokeWidth = 1,\n",
    "    ).encode(\n",
    "    alt.X('t:Q', title=None),\n",
    "    alt.Y('cval:Q'),\n",
    "    alt.Color('model')\n",
    "    ).properties(width=width, height=height).interactive()\n",
    "c"
   ]
  },
  {
   "cell_type": "code",
   "execution_count": null,
   "metadata": {},
   "outputs": [],
   "source": []
  }
 ],
 "metadata": {
  "kernelspec": {
   "display_name": "Python 3",
   "language": "python",
   "name": "python3"
  },
  "language_info": {
   "codemirror_mode": {
    "name": "ipython",
    "version": 3
   },
   "file_extension": ".py",
   "mimetype": "text/x-python",
   "name": "python",
   "nbconvert_exporter": "python",
   "pygments_lexer": "ipython3",
   "version": "3.7.6"
  }
 },
 "nbformat": 4,
 "nbformat_minor": 2
}
