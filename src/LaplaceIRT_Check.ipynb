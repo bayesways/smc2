{
 "cells": [
  {
   "cell_type": "code",
   "execution_count": 1,
   "metadata": {},
   "outputs": [],
   "source": [
    "import numpy as np\n",
    "from scipy.stats import norm\n",
    "from sklearn.neighbors import KernelDensity\n",
    "import matplotlib\n",
    "import matplotlib.pyplot as plt\n",
    "from scipy import stats"
   ]
  },
  {
   "cell_type": "code",
   "execution_count": 2,
   "metadata": {},
   "outputs": [],
   "source": [
    "#sigmoid funciton\n",
    "def sigma(x):\n",
    "    return 1/(1+np.exp(-x))"
   ]
  },
  {
   "cell_type": "markdown",
   "metadata": {},
   "source": [
    "Set parameters for logistic IRT models, 5 items - 1 factor - 1 observed individual"
   ]
  },
  {
   "cell_type": "code",
   "execution_count": 3,
   "metadata": {},
   "outputs": [
    {
     "name": "stdout",
     "output_type": "stream",
     "text": [
      "[ 0.   0.1 -0.1 -0.2  0.2] [1.  0.8 0.9 0.5 1.3]\n"
     ]
    }
   ],
   "source": [
    "beta = np.array([1,0.8,0.9,0.5,1.3])\n",
    "alpha = np.array([0, 0.1, -0.1,-0.2,0.2])\n",
    "print(alpha,beta)"
   ]
  },
  {
   "cell_type": "markdown",
   "metadata": {},
   "source": [
    "Define log likeihood and log prior "
   ]
  },
  {
   "cell_type": "code",
   "execution_count": 15,
   "metadata": {},
   "outputs": [],
   "source": [
    "def loglikelihood(y,alpha,beta,z):\n",
    "    pis = sigma(alpha+beta*z)\n",
    "    return np.sum(y*np.log(pis)+(1-y)*np.log(1-pis))\n",
    "def logprior(z):\n",
    "    return norm.logpdf(z)"
   ]
  },
  {
   "cell_type": "markdown",
   "metadata": {},
   "source": [
    "Simulate data for the single individual"
   ]
  },
  {
   "cell_type": "code",
   "execution_count": 25,
   "metadata": {},
   "outputs": [
    {
     "data": {
      "text/plain": [
       "array([0, 1, 0, 1, 0])"
      ]
     },
     "execution_count": 25,
     "metadata": {},
     "output_type": "execute_result"
    }
   ],
   "source": [
    "np.random.seed(5)\n",
    "z = -2\n",
    "pis = sigma(alpha+beta*z)\n",
    "y = np.random.binomial(1,pis)\n",
    "y"
   ]
  },
  {
   "cell_type": "code",
   "execution_count": 26,
   "metadata": {},
   "outputs": [
    {
     "data": {
      "text/plain": [
       "array([0.11920292, 0.18242552, 0.13010847, 0.23147522, 0.0831727 ])"
      ]
     },
     "execution_count": 26,
     "metadata": {},
     "output_type": "execute_result"
    }
   ],
   "source": [
    "pis"
   ]
  },
  {
   "cell_type": "code",
   "execution_count": 29,
   "metadata": {},
   "outputs": [
    {
     "data": {
      "text/plain": [
       "-3.5178466668006667"
      ]
     },
     "execution_count": 29,
     "metadata": {},
     "output_type": "execute_result"
    }
   ],
   "source": [
    "loglikelihood(y, alpha, beta, z) "
   ]
  },
  {
   "cell_type": "markdown",
   "metadata": {},
   "source": [
    "Get posterior via MCMC - random walk Metropolis"
   ]
  },
  {
   "cell_type": "code",
   "execution_count": 161,
   "metadata": {},
   "outputs": [
    {
     "name": "stdout",
     "output_type": "stream",
     "text": [
      "33.01\n"
     ]
    },
    {
     "data": {
      "image/png": "[encoded data removed]",
      "text/plain": [
       "<Figure size 432x288 with 1 Axes>"
      ]
     },
     "metadata": {
      "needs_background": "light"
     },
     "output_type": "display_data"
    }
   ],
   "source": [
    "N = 10000\n",
    "Zs = np.zeros(N)\n",
    "z = 1\n",
    "logPost = loglikelihood(y,alpha,beta,z) + logprior(z)\n",
    "#logPost = loglikelihood(y,alpha,beta,z) \n",
    "std=2.5\n",
    "\n",
    "for i in range(N):\n",
    "    Zs[i] = z\n",
    "    z1 = z+std*np.random.randn(1)\n",
    "    #z1 = np.random.randn(1)\n",
    "    logPost1 = loglikelihood(y,alpha,beta,z1) + logprior(z1)\n",
    "    #logPost1 = loglikelihood(y,alpha,beta,z1) \n",
    "    acc = logPost1-logPost\n",
    "    if acc> np.log(np.random.rand(1)):\n",
    "        z = z1\n",
    "        logPost = logPost1\n",
    "        \n",
    "accrate = 100*(N-np.sum(np.diff(Zs)==0))/N  \n",
    "print(accrate)\n",
    "fig, ax = plt.subplots()\n",
    "ax.plot(Zs)\n",
    "x = np.linspace(-3,3,1000)\n",
    "estf = stats.gaussian_kde(Zs)"
   ]
  },
  {
   "cell_type": "markdown",
   "metadata": {},
   "source": [
    "Get posterior by direct computation, calculate normalising constant numerically"
   ]
  },
  {
   "cell_type": "code",
   "execution_count": 162,
   "metadata": {},
   "outputs": [],
   "source": [
    "lposts = np.zeros(1000)\n",
    "for i in range(1000):\n",
    "    lposts[i] = loglikelihood(y,alpha,beta,x[i]) + logprior(x[i])\n",
    "posts = np.exp(lposts)\n",
    "posts = posts/np.sum(posts*6/1000)"
   ]
  },
  {
   "cell_type": "markdown",
   "metadata": {},
   "source": [
    "Get Laplace approximation"
   ]
  },
  {
   "cell_type": "code",
   "execution_count": 163,
   "metadata": {},
   "outputs": [],
   "source": [
    "M = x[np.argmax(posts)] # mean at the mode\n",
    "h = 0.000001  # numerical second derivative\n",
    "f1 = loglikelihood(y,alpha,beta,M+h) + logprior(M+h)\n",
    "f2 = loglikelihood(y,alpha,beta,M) + logprior(M)\n",
    "f3 = loglikelihood(y,alpha,beta,M-h) + logprior(M-h)\n",
    "V=-(h*h)/(f1-2*f2+f3) # variance being 2nd derivative evaluated at the mode."
   ]
  },
  {
   "cell_type": "markdown",
   "metadata": {},
   "source": [
    "Compare in a plot"
   ]
  },
  {
   "cell_type": "code",
   "execution_count": 167,
   "metadata": {},
   "outputs": [
    {
     "data": {
      "text/plain": [
       "<matplotlib.legend.Legend at 0x12641b430>"
      ]
     },
     "execution_count": 167,
     "metadata": {},
     "output_type": "execute_result"
    },
    {
     "data": {
      "image/png": "[encoded data removed]",
      "text/plain": [
       "<Figure size 432x288 with 1 Axes>"
      ]
     },
     "metadata": {
      "needs_background": "light"
     },
     "output_type": "display_data"
    }
   ],
   "source": [
    "plt.plot(x,norm.pdf(x),label='prior')\n",
    "plt.plot(x,estf(x),label='KDE')\n",
    "plt.plot(x,posts,label='MCMC')\n",
    "plt.plot(x,norm.pdf(x,M,np.sqrt(V)),label='posterior')\n",
    "plt.legend()"
   ]
  }
 ],
 "metadata": {
  "kernelspec": {
   "display_name": "Python 3",
   "language": "python",
   "name": "python3"
  },
  "language_info": {
   "codemirror_mode": {
    "name": "ipython",
    "version": 3
   },
   "file_extension": ".py",
   "mimetype": "text/x-python",
   "name": "python",
   "nbconvert_exporter": "python",
   "pygments_lexer": "ipython3",
   "version": "3.7.4"
  }
 },
 "nbformat": 4,
 "nbformat_minor": 4
}
