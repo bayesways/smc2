{
 "cells": [
  {
   "cell_type": "code",
   "execution_count": 16,
   "metadata": {},
   "outputs": [
    {
     "data": {
      "text/plain": [
       "DataTransformerRegistry.enable('default')"
      ]
     },
     "execution_count": 16,
     "metadata": {},
     "output_type": "execute_result"
    }
   ],
   "source": [
    "import numpy as np\n",
    "from codebase.file_utils import save_obj, load_obj, make_folder, path_backslash\n",
    "from numpy.linalg import inv\n",
    "from pdb import set_trace\n",
    "from scipy.stats import multivariate_normal, norm\n",
    "from scipy.optimize import minimize\n",
    "from codebase.plot import *\n",
    "from scipy import stats\n",
    "import matplotlib.pyplot as plt\n",
    "\n",
    "alt.data_transformers.disable_max_rows()\n"
   ]
  },
  {
   "cell_type": "code",
   "execution_count": 2,
   "metadata": {},
   "outputs": [],
   "source": [
    "def get_pi_z(z, alpha, beta):\n",
    "    exp_eta = np.exp(alpha +  z.reshape(1,2) @ beta.T)\n",
    "    return exp_eta/(1+exp_eta)\n"
   ]
  },
  {
   "cell_type": "code",
   "execution_count": 3,
   "metadata": {},
   "outputs": [
    {
     "data": {
      "text/plain": [
       "array([[0, 1, 0, 1, 0]])"
      ]
     },
     "execution_count": 3,
     "metadata": {},
     "output_type": "execute_result"
    }
   ],
   "source": [
    "\n",
    "np.random.seed(5)\n",
    "theta_t=dict()\n",
    "alpha = np.array([0, 0.1, -0.1,-0.2,0.2])\n",
    "beta = np.array([[1,0.8,0.9,0.5,1.3],[.1,0.8,0.2,0.5,1]]).T\n",
    "z_t = np.array([-2,1])\n",
    "\n",
    "y_t = np.random.binomial(1, get_pi_z(z_t, alpha, beta))\n",
    "y_t"
   ]
  },
  {
   "cell_type": "code",
   "execution_count": 4,
   "metadata": {},
   "outputs": [
    {
     "data": {
      "text/plain": [
       "(2,)"
      ]
     },
     "execution_count": 4,
     "metadata": {},
     "output_type": "execute_result"
    }
   ],
   "source": [
    "z_t.shape"
   ]
  },
  {
   "cell_type": "code",
   "execution_count": 5,
   "metadata": {},
   "outputs": [
    {
     "data": {
      "text/plain": [
       "-2.733962295358593"
      ]
     },
     "execution_count": 5,
     "metadata": {},
     "output_type": "execute_result"
    }
   ],
   "source": [
    "def get_log_likelihood(z,y,alpha, beta):\n",
    "    pi_z = get_pi_z(z, alpha, beta)\n",
    "    s1 = np.sum(y*np.log(pi_z)+((1.-y)*np.log(1.-pi_z)))\n",
    "#     s2 = -.5 * np.sum(z**2)\n",
    "    return s1\n",
    "\n",
    "def logprior(z):\n",
    "    return np.sum(multivariate_normal.logpdf(z))\n",
    "\n",
    "def get_neg_log_likelihood(z,y,alpha, beta):\n",
    "    return - get_log_likelihood(z,y,alpha, beta)\n",
    "\n",
    "def get_neg_posterior(z,y,alpha, beta):\n",
    "    return - (get_log_likelihood(z,y,alpha, beta)+ logprior(z))\n",
    "\n",
    "\n",
    "lglk = get_log_likelihood(z_t, y_t, alpha, beta) \n",
    "lglk"
   ]
  },
  {
   "cell_type": "code",
   "execution_count": 6,
   "metadata": {},
   "outputs": [
    {
     "data": {
      "text/plain": [
       "array([0.11318026, 0.22171287, 0.13060575, 0.22171287, 0.1586849 ])"
      ]
     },
     "execution_count": 6,
     "metadata": {},
     "output_type": "execute_result"
    }
   ],
   "source": [
    "def get_g(z, alpha, beta):\n",
    "    exp_eta = np.exp(alpha +  z @ beta.T)\n",
    "    return exp_eta/(1+exp_eta)**2\n",
    "get_g(z_t, alpha, beta)\n",
    "\n"
   ]
  },
  {
   "cell_type": "code",
   "execution_count": 7,
   "metadata": {},
   "outputs": [
    {
     "data": {
      "text/plain": [
       "array([[0.11318026, 0.01131803],\n",
       "       [0.1773703 , 0.1773703 ],\n",
       "       [0.11754517, 0.02612115],\n",
       "       [0.11085644, 0.11085644],\n",
       "       [0.20629037, 0.1586849 ]])"
      ]
     },
     "execution_count": 7,
     "metadata": {},
     "output_type": "execute_result"
    }
   ],
   "source": [
    "def get_jacobian(z, alpha, beta):\n",
    "    K = beta.shape[1]\n",
    "    jac = np.empty_like(beta)\n",
    "    g = get_g(z, alpha, beta)\n",
    "    for i in range(K):\n",
    "        jac[:,i] = beta[:,i] * g\n",
    "    return jac\n",
    "\n",
    "get_jacobian(z_t, alpha, beta)\n"
   ]
  },
  {
   "cell_type": "code",
   "execution_count": 8,
   "metadata": {},
   "outputs": [
    {
     "data": {
      "text/plain": [
       "array([[0.11318026, 0.22171287, 0.13060575, 0.22171287, 0.1586849 ]])"
      ]
     },
     "execution_count": 8,
     "metadata": {},
     "output_type": "execute_result"
    }
   ],
   "source": [
    "def get_c(z, alpha, beta):\n",
    "    pi_z = get_pi_z(z, alpha, beta)\n",
    "    return (pi_z*(1.-pi_z))\n",
    "\n",
    "get_c(z_t, alpha, beta)\n"
   ]
  },
  {
   "cell_type": "code",
   "execution_count": 13,
   "metadata": {},
   "outputs": [
    {
     "data": {
      "text/plain": [
       "array([[1.68447285, 0.43844188],\n",
       "       [0.43844188, 1.36236539]])"
      ]
     },
     "execution_count": 13,
     "metadata": {},
     "output_type": "execute_result"
    }
   ],
   "source": [
    "def get_fisher_information(z, alpha, beta):\n",
    "#     P = beta.shape[0]\n",
    "    K = beta.shape[1]\n",
    "    \n",
    "    fm = np.empty((K,K))\n",
    "    cc = get_c(z_t, alpha, beta)\n",
    "    jj = get_jacobian(z_t, alpha, beta)\n",
    "    for i in range(K):\n",
    "        fm[i,i] = 1+np.sum(jj[:,i]**2/cc)\n",
    "        for j in range(i):\n",
    "            fm_ij = np.sum((jj[:,i]*jj[:,j])/cc)\n",
    "            fm[i,j] = fm_ij\n",
    "            fm[j,i] = fm_ij\n",
    "    return fm\n",
    "\n",
    "get_fisher_information(z_t, alpha, beta)"
   ]
  },
  {
   "cell_type": "code",
   "execution_count": 14,
   "metadata": {},
   "outputs": [
    {
     "data": {
      "text/plain": [
       "7.071839361767939"
      ]
     },
     "execution_count": 14,
     "metadata": {},
     "output_type": "execute_result"
    }
   ],
   "source": [
    "get_neg_posterior(z_t,y_t,alpha, beta)"
   ]
  },
  {
   "cell_type": "code",
   "execution_count": 17,
   "metadata": {},
   "outputs": [],
   "source": [
    "def get_laplace_approx(y, alpha, beta):\n",
    "    res = minimize(get_neg_posterior, np.array([[-2,1]]), args=(y, alpha, beta), method='BFGS')\n",
    "    cov_matrix = get_fisher_information(res.x, alpha, beta)\n",
    "    return multivariate_normal(mean = res.x, cov = inv(cov_matrix))\n",
    "lapldist =  get_laplace_approx(y_t, alpha, beta)\n",
    "laplace_samples = lapldist.rvs(size = 10000)"
   ]
  },
  {
   "cell_type": "code",
   "execution_count": 29,
   "metadata": {},
   "outputs": [],
   "source": []
  },
  {
   "cell_type": "code",
   "execution_count": 33,
   "metadata": {},
   "outputs": [
    {
     "data": {
      "text/plain": [
       "<matplotlib.legend.Legend at 0x7f1679af9c10>"
      ]
     },
     "execution_count": 33,
     "metadata": {},
     "output_type": "execute_result"
    },
    {
     "data": {
      "image/png": "[encoded data removed]",
      "text/plain": [
       "<Figure size 432x288 with 1 Axes>"
      ]
     },
     "metadata": {
      "needs_background": "light"
     },
     "output_type": "display_data"
    }
   ],
   "source": [
    "\n",
    "x = np.ones((1000,2)) \n",
    "x[:,0] = np.linspace(-3,3,1000)\n",
    "laplace_pdf1 = lapldist.pdf(x)\n",
    "\n",
    "y = np.ones((1000,2)) \n",
    "y[:,1] = np.linspace(-3,3,1000)\n",
    "laplace_pdf2 = lapldist.pdf(y)\n",
    "\n",
    "plt.plot(x[:,0],laplace_pdf1,label='my_laplace_1factor')\n",
    "plt.plot(y[:,1],laplace_pdf2,label='my_laplace_2factor')\n",
    "plt.legend()"
   ]
  },
  {
   "cell_type": "code",
   "execution_count": null,
   "metadata": {},
   "outputs": [],
   "source": []
  }
 ],
 "metadata": {
  "kernelspec": {
   "display_name": "Python 3",
   "language": "python",
   "name": "python3"
  },
  "language_info": {
   "codemirror_mode": {
    "name": "ipython",
    "version": 3
   },
   "file_extension": ".py",
   "mimetype": "text/x-python",
   "name": "python",
   "nbconvert_exporter": "python",
   "pygments_lexer": "ipython3",
   "version": "3.7.4"
  }
 },
 "nbformat": 4,
 "nbformat_minor": 2
}
