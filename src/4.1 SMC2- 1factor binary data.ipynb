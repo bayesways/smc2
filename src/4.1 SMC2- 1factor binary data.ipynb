{
 "cells": [
  {
   "cell_type": "code",
   "execution_count": 1,
   "metadata": {},
   "outputs": [
    {
     "data": {
      "text/plain": [
       "DataTransformerRegistry.enable('default')"
      ]
     },
     "execution_count": 1,
     "metadata": {},
     "output_type": "execute_result"
    }
   ],
   "source": [
    "import pandas as pd\n",
    "import numpy as np\n",
    "from codebase.file_utils import (\n",
    "    save_obj,\n",
    "    load_obj,\n",
    ")\n",
    "from codebase.plot import plot_density, plot_line, get_post_df\n",
    "import altair as alt\n",
    "from codebase.classes_data import Data\n",
    "from codebase.ibis import exp_and_normalise\n",
    "from run_smc2 import run_smc2\n",
    "from codebase.file_utils import (\n",
    "    save_obj,\n",
    "    load_obj,\n",
    "    make_folder,\n",
    "    path_backslash\n",
    ")\n",
    "from codebase.ibis import post_process_sign\n",
    "from pdb import set_trace\n",
    "\n",
    "\n",
    "alt.data_transformers.disable_max_rows()\n"
   ]
  },
  {
   "cell_type": "code",
   "execution_count": 12,
   "metadata": {},
   "outputs": [
    {
     "name": "stdout",
     "output_type": "stream",
     "text": [
      "199\n"
     ]
    }
   ],
   "source": [
    "log_dir = 'log/20210204_224313_run50//'\n",
    "exp_data = load_obj('data', log_dir)\n",
    "t = load_obj('t', log_dir)\n",
    "print(t)"
   ]
  },
  {
   "cell_type": "markdown",
   "metadata": {},
   "source": [
    "##"
   ]
  },
  {
   "cell_type": "code",
   "execution_count": 13,
   "metadata": {},
   "outputs": [],
   "source": [
    "particles = load_obj('particles', log_dir)\n",
    "# particles.particles[5].particles['beta']"
   ]
  },
  {
   "cell_type": "code",
   "execution_count": 14,
   "metadata": {},
   "outputs": [],
   "source": [
    "particles.resample_particles_bundles()\n",
    "\n",
    "particles.gather_latent_variables_up_to_t(\n",
    "    t+1, \n",
    "    exp_data.get_stan_data_upto_t(t+1)\n",
    ")\n",
    "\n",
    "particles.jitter_bundles_and_pick_one(exp_data.get_stan_data_upto_t(t + 1))\n",
    "particles.check_latent_particles_are_distinct()\n",
    "\n",
    "particles.jitter(exp_data.get_stan_data_upto_t(t + 1))"
   ]
  },
  {
   "cell_type": "code",
   "execution_count": 22,
   "metadata": {},
   "outputs": [],
   "source": [
    "ps_smc2 = dict()\n",
    "for name in particles.param_names:\n",
    "    ps_smc2[name] = particles.extract_particles_in_numpy_array(name)\n"
   ]
  },
  {
   "cell_type": "code",
   "execution_count": 27,
   "metadata": {},
   "outputs": [],
   "source": [
    "ps_smc2 = post_process_sign(ps_smc2)\n"
   ]
  },
  {
   "cell_type": "markdown",
   "metadata": {},
   "source": [
    "## Plot"
   ]
  },
  {
   "cell_type": "code",
   "execution_count": 28,
   "metadata": {},
   "outputs": [
    {
     "data": {
      "text/html": [
       "\n",
       "<div id=\"altair-viz-f45932a92ea1463abb2cb1d01cf1e330\"></div>\n",
       "<script type=\"text/javascript\">\n",
       "  (function(spec, embedOpt){\n",
       "    let outputDiv = document.currentScript.previousElementSibling;\n",
       "    if (outputDiv.id !== \"altair-viz-f45932a92ea1463abb2cb1d01cf1e330\") {\n",
       "      outputDiv = document.getElementById(\"altair-viz-f45932a92ea1463abb2cb1d01cf1e330\");\n",
       "    }\n",
       "    const paths = {\n",
       "      \"vega\": \"https://cdn.jsdelivr.net/npm//vega@5?noext\",\n",
       "      \"vega-lib\": \"https://cdn.jsdelivr.net/npm//vega-lib?noext\",\n",
       "      \"vega-lite\": \"https://cdn.jsdelivr.net/npm//vega-lite@4.8.1?noext\",\n",
       "      \"vega-embed\": \"https://cdn.jsdelivr.net/npm//vega-embed@6?noext\",\n",
       "    };\n",
       "\n",
       "    function loadScript(lib) {\n",
       "      return new Promise(function(resolve, reject) {\n",
       "        var s = document.createElement('script');\n",
       "        s.src = paths[lib];\n",
       "        s.async = true;\n",
       "        s.onload = () => resolve(paths[lib]);\n",
       "        s.onerror = () => reject(`Error loading script: ${paths[lib]}`);\n",
       "        document.getElementsByTagName(\"head\")[0].appendChild(s);\n",
       "      });\n",
       "    }\n",
       "\n",
       "    function showError(err) {\n",
       "      outputDiv.innerHTML = `<div class=\"error\" style=\"color:red;\">${err}</div>`;\n",
       "      throw err;\n",
       "    }\n",
       "\n",
       "    function displayChart(vegaEmbed) {\n",
       "      vegaEmbed(outputDiv, spec, embedOpt)\n",
       "        .catch(err => showError(`Javascript Error: ${err.message}<br>This usually means there's a typo in your chart specification. See the javascript console for the full traceback.`));\n",
       "    }\n",
       "\n",
       "    if(typeof define === \"function\" && define.amd) {\n",
       "      requirejs.config({paths});\n",
       "      require([\"vega-embed\"], displayChart, err => showError(`Error loading script: ${err.message}`));\n",
       "    } else if (typeof vegaEmbed === \"function\") {\n",
       "      displayChart(vegaEmbed);\n",
       "    } else {\n",
       "      loadScript(\"vega\")\n",
       "        .then(() => loadScript(\"vega-lite\"))\n",
       "        .then(() => loadScript(\"vega-embed\"))\n",
       "        .catch(showError)\n",
       "        .then(() => displayChart(vegaEmbed));\n",
       "    }\n",
       "  })({\"config\": {\"view\": {\"continuousWidth\": 400, \"continuousHeight\": 300}}, \"data\": {\"name\": \"data-a1130b854c7621c11c2512aa65de37ed\"}, \"mark\": {\"type\": \"area\", \"opacity\": 0.5}, \"encoding\": {\"color\": {\"type\": \"nominal\", \"field\": \"source\"}, \"column\": {\"type\": \"quantitative\", \"field\": \"col\"}, \"row\": {\"type\": \"quantitative\", \"field\": \"row\"}, \"x\": {\"type\": \"quantitative\", \"field\": \"value\", \"title\": null}, \"y\": {\"type\": \"quantitative\", \"field\": \"density\"}}, \"height\": 100, \"resolve\": {\"scale\": {\"x\": \"independent\"}}, \"transform\": [{\"fold\": [\"value\"]}, {\"density\": \"value\", \"groupby\": [\"cn\", \"row\", \"col\", \"source\"]}], \"width\": 300, \"$schema\": \"https://vega.github.io/schema/vega-lite/v4.8.1.json\", \"datasets\": {\"data-a1130b854c7621c11c2512aa65de37ed\": [{\"idx\": 0, \"row\": 0, \"col\": 0, \"value\": 0.36315257614256824, \"source\": \"smc2\"}, {\"idx\": 1, \"row\": 0, \"col\": 0, \"value\": 0.11326795633122536, \"source\": \"smc2\"}, {\"idx\": 2, \"row\": 0, \"col\": 0, \"value\": 0.2234621091480112, \"source\": \"smc2\"}, {\"idx\": 3, \"row\": 0, \"col\": 0, \"value\": 0.1851591131632441, \"source\": \"smc2\"}, {\"idx\": 4, \"row\": 0, \"col\": 0, \"value\": 0.09651767717593285, \"source\": \"smc2\"}, {\"idx\": 5, \"row\": 0, \"col\": 0, \"value\": 0.09562234549147251, \"source\": \"smc2\"}, {\"idx\": 6, \"row\": 0, \"col\": 0, \"value\": 0.12140828374525418, \"source\": \"smc2\"}, {\"idx\": 7, \"row\": 0, \"col\": 0, \"value\": 0.19518187304853513, \"source\": \"smc2\"}, {\"idx\": 8, \"row\": 0, \"col\": 0, \"value\": 0.08055376742303916, \"source\": \"smc2\"}, {\"idx\": 9, \"row\": 0, \"col\": 0, \"value\": 0.27792420237335197, \"source\": \"smc2\"}, {\"idx\": 10, \"row\": 0, \"col\": 0, \"value\": 0.16416834188882845, \"source\": \"smc2\"}, {\"idx\": 11, \"row\": 0, \"col\": 0, \"value\": 0.03415639400567919, \"source\": \"smc2\"}, {\"idx\": 12, \"row\": 0, \"col\": 0, \"value\": 0.04183446255875136, \"source\": \"smc2\"}, {\"idx\": 13, \"row\": 0, \"col\": 0, \"value\": 0.17873110062583458, \"source\": \"smc2\"}, {\"idx\": 14, \"row\": 0, \"col\": 0, \"value\": 0.02984677454443498, \"source\": \"smc2\"}, {\"idx\": 15, \"row\": 0, \"col\": 0, \"value\": 0.17980805098347435, \"source\": \"smc2\"}, {\"idx\": 16, \"row\": 0, \"col\": 0, \"value\": 0.8028046778251868, \"source\": \"smc2\"}, {\"idx\": 17, \"row\": 0, \"col\": 0, \"value\": 0.17681640855841957, \"source\": \"smc2\"}, {\"idx\": 18, \"row\": 0, \"col\": 0, \"value\": 0.06155808934657757, \"source\": \"smc2\"}, {\"idx\": 19, \"row\": 0, \"col\": 0, \"value\": 0.3461968296402875, \"source\": \"smc2\"}, {\"idx\": 20, \"row\": 0, \"col\": 0, \"value\": 0.40971556977306356, \"source\": \"smc2\"}, {\"idx\": 21, \"row\": 0, \"col\": 0, \"value\": 0.3414473525473067, \"source\": \"smc2\"}, {\"idx\": 22, \"row\": 0, \"col\": 0, \"value\": 0.1859996237937518, \"source\": \"smc2\"}, {\"idx\": 23, \"row\": 0, \"col\": 0, \"value\": 0.15965912735402016, \"source\": \"smc2\"}, {\"idx\": 24, \"row\": 0, \"col\": 0, \"value\": 0.010195708172314383, \"source\": \"smc2\"}, {\"idx\": 25, \"row\": 0, \"col\": 0, \"value\": 0.09733162812880515, \"source\": \"smc2\"}, {\"idx\": 26, \"row\": 0, \"col\": 0, \"value\": 0.6608476377757677, \"source\": \"smc2\"}, {\"idx\": 27, \"row\": 0, \"col\": 0, \"value\": 0.2523345213392153, \"source\": \"smc2\"}, {\"idx\": 28, \"row\": 0, \"col\": 0, \"value\": 0.07844359990691002, \"source\": \"smc2\"}, {\"idx\": 29, \"row\": 0, \"col\": 0, \"value\": 0.7511117665855678, \"source\": \"smc2\"}, {\"idx\": 30, \"row\": 0, \"col\": 0, \"value\": 0.6164447376657753, \"source\": \"smc2\"}, {\"idx\": 31, \"row\": 0, \"col\": 0, \"value\": 0.26803175787326367, \"source\": \"smc2\"}, {\"idx\": 32, \"row\": 0, \"col\": 0, \"value\": 0.5478716160588845, \"source\": \"smc2\"}, {\"idx\": 33, \"row\": 0, \"col\": 0, \"value\": 0.18712260955591478, \"source\": \"smc2\"}, {\"idx\": 34, \"row\": 0, \"col\": 0, \"value\": 0.004374115629222394, \"source\": \"smc2\"}, {\"idx\": 35, \"row\": 0, \"col\": 0, \"value\": 0.23569639947843984, \"source\": \"smc2\"}, {\"idx\": 36, \"row\": 0, \"col\": 0, \"value\": 0.33160949603726564, \"source\": \"smc2\"}, {\"idx\": 37, \"row\": 0, \"col\": 0, \"value\": 0.0784328293307897, \"source\": \"smc2\"}, {\"idx\": 38, \"row\": 0, \"col\": 0, \"value\": 0.27791663670799743, \"source\": \"smc2\"}, {\"idx\": 39, \"row\": 0, \"col\": 0, \"value\": 0.1960518590768487, \"source\": \"smc2\"}, {\"idx\": 40, \"row\": 0, \"col\": 0, \"value\": 0.4412912570502601, \"source\": \"smc2\"}, {\"idx\": 41, \"row\": 0, \"col\": 0, \"value\": 0.3033134095327127, \"source\": \"smc2\"}, {\"idx\": 42, \"row\": 0, \"col\": 0, \"value\": 0.2886405956833933, \"source\": \"smc2\"}, {\"idx\": 43, \"row\": 0, \"col\": 0, \"value\": 0.4820820443066105, \"source\": \"smc2\"}, {\"idx\": 44, \"row\": 0, \"col\": 0, \"value\": 0.042033548591988094, \"source\": \"smc2\"}, {\"idx\": 45, \"row\": 0, \"col\": 0, \"value\": 0.2511466575742626, \"source\": \"smc2\"}, {\"idx\": 46, \"row\": 0, \"col\": 0, \"value\": 0.0320720427623787, \"source\": \"smc2\"}, {\"idx\": 47, \"row\": 0, \"col\": 0, \"value\": 0.08503190494063753, \"source\": \"smc2\"}, {\"idx\": 48, \"row\": 0, \"col\": 0, \"value\": 0.6120204225752112, \"source\": \"smc2\"}, {\"idx\": 49, \"row\": 0, \"col\": 0, \"value\": 0.06209650989482038, \"source\": \"smc2\"}, {\"idx\": 50, \"row\": 0, \"col\": 0, \"value\": 0.056899794299833745, \"source\": \"smc2\"}, {\"idx\": 51, \"row\": 0, \"col\": 0, \"value\": 0.1649749136361223, \"source\": \"smc2\"}, {\"idx\": 52, \"row\": 0, \"col\": 0, \"value\": 0.20821250848271866, \"source\": \"smc2\"}, {\"idx\": 53, \"row\": 0, \"col\": 0, \"value\": 0.16835306599860844, \"source\": \"smc2\"}, {\"idx\": 54, \"row\": 0, \"col\": 0, \"value\": 0.24958864646986537, \"source\": \"smc2\"}, {\"idx\": 55, \"row\": 0, \"col\": 0, \"value\": 0.26617791806437646, \"source\": \"smc2\"}, {\"idx\": 56, \"row\": 0, \"col\": 0, \"value\": 0.11891606377543544, \"source\": \"smc2\"}, {\"idx\": 57, \"row\": 0, \"col\": 0, \"value\": 0.08980155555767691, \"source\": \"smc2\"}, {\"idx\": 58, \"row\": 0, \"col\": 0, \"value\": 0.3408200851770755, \"source\": \"smc2\"}, {\"idx\": 59, \"row\": 0, \"col\": 0, \"value\": 0.2957850495548111, \"source\": \"smc2\"}, {\"idx\": 60, \"row\": 0, \"col\": 0, \"value\": 0.47640331783134876, \"source\": \"smc2\"}, {\"idx\": 61, \"row\": 0, \"col\": 0, \"value\": 0.010759239557517918, \"source\": \"smc2\"}, {\"idx\": 62, \"row\": 0, \"col\": 0, \"value\": 0.311927904069179, \"source\": \"smc2\"}, {\"idx\": 63, \"row\": 0, \"col\": 0, \"value\": 0.21447630772389614, \"source\": \"smc2\"}, {\"idx\": 64, \"row\": 0, \"col\": 0, \"value\": 0.06874545924441934, \"source\": \"smc2\"}, {\"idx\": 65, \"row\": 0, \"col\": 0, \"value\": 0.46891283785585774, \"source\": \"smc2\"}, {\"idx\": 66, \"row\": 0, \"col\": 0, \"value\": 0.10026865412087183, \"source\": \"smc2\"}, {\"idx\": 67, \"row\": 0, \"col\": 0, \"value\": 0.45418929650423184, \"source\": \"smc2\"}, {\"idx\": 68, \"row\": 0, \"col\": 0, \"value\": 0.2296730109892478, \"source\": \"smc2\"}, {\"idx\": 69, \"row\": 0, \"col\": 0, \"value\": 0.04064873025582585, \"source\": \"smc2\"}, {\"idx\": 70, \"row\": 0, \"col\": 0, \"value\": 0.49137711320981936, \"source\": \"smc2\"}, {\"idx\": 71, \"row\": 0, \"col\": 0, \"value\": 0.29537418361533685, \"source\": \"smc2\"}, {\"idx\": 72, \"row\": 0, \"col\": 0, \"value\": 0.6767199493043146, \"source\": \"smc2\"}, {\"idx\": 73, \"row\": 0, \"col\": 0, \"value\": 0.30074703628015265, \"source\": \"smc2\"}, {\"idx\": 74, \"row\": 0, \"col\": 0, \"value\": 0.40976869379010933, \"source\": \"smc2\"}, {\"idx\": 75, \"row\": 0, \"col\": 0, \"value\": 0.5763904262504759, \"source\": \"smc2\"}, {\"idx\": 76, \"row\": 0, \"col\": 0, \"value\": 0.3447757308575933, \"source\": \"smc2\"}, {\"idx\": 77, \"row\": 0, \"col\": 0, \"value\": 0.7639296782347665, \"source\": \"smc2\"}, {\"idx\": 78, \"row\": 0, \"col\": 0, \"value\": 0.5779503589449931, \"source\": \"smc2\"}, {\"idx\": 79, \"row\": 0, \"col\": 0, \"value\": 0.16309812794836584, \"source\": \"smc2\"}, {\"idx\": 80, \"row\": 0, \"col\": 0, \"value\": 0.46042794669012554, \"source\": \"smc2\"}, {\"idx\": 81, \"row\": 0, \"col\": 0, \"value\": 0.39577648486189704, \"source\": \"smc2\"}, {\"idx\": 82, \"row\": 0, \"col\": 0, \"value\": 0.02163654076243787, \"source\": \"smc2\"}, {\"idx\": 83, \"row\": 0, \"col\": 0, \"value\": 0.20545408600193554, \"source\": \"smc2\"}, {\"idx\": 84, \"row\": 0, \"col\": 0, \"value\": 0.4132119793916902, \"source\": \"smc2\"}, {\"idx\": 85, \"row\": 0, \"col\": 0, \"value\": 0.2078785013760415, \"source\": \"smc2\"}, {\"idx\": 86, \"row\": 0, \"col\": 0, \"value\": 0.07889523079585857, \"source\": \"smc2\"}, {\"idx\": 87, \"row\": 0, \"col\": 0, \"value\": 0.1632948647386927, \"source\": \"smc2\"}, {\"idx\": 88, \"row\": 0, \"col\": 0, \"value\": 0.1053867205051801, \"source\": \"smc2\"}, {\"idx\": 89, \"row\": 0, \"col\": 0, \"value\": 0.0006101326894619175, \"source\": \"smc2\"}, {\"idx\": 90, \"row\": 0, \"col\": 0, \"value\": 0.18297529241806101, \"source\": \"smc2\"}, {\"idx\": 91, \"row\": 0, \"col\": 0, \"value\": 0.08107167616910847, \"source\": \"smc2\"}, {\"idx\": 92, \"row\": 0, \"col\": 0, \"value\": 0.37785362611687245, \"source\": \"smc2\"}, {\"idx\": 93, \"row\": 0, \"col\": 0, \"value\": 0.3976934930667952, \"source\": \"smc2\"}, {\"idx\": 94, \"row\": 0, \"col\": 0, \"value\": 0.14853449252653841, \"source\": \"smc2\"}, {\"idx\": 95, \"row\": 0, \"col\": 0, \"value\": 0.21864125168969187, \"source\": \"smc2\"}, {\"idx\": 96, \"row\": 0, \"col\": 0, \"value\": 0.22968178864005076, \"source\": \"smc2\"}, {\"idx\": 97, \"row\": 0, \"col\": 0, \"value\": 0.45732269892698013, \"source\": \"smc2\"}, {\"idx\": 98, \"row\": 0, \"col\": 0, \"value\": 0.03133542763190993, \"source\": \"smc2\"}, {\"idx\": 99, \"row\": 0, \"col\": 0, \"value\": 0.10694762323385519, \"source\": \"smc2\"}, {\"idx\": 0, \"row\": 1, \"col\": 0, \"value\": 0.16213664418064214, \"source\": \"smc2\"}, {\"idx\": 1, \"row\": 1, \"col\": 0, \"value\": -0.12376294819858671, \"source\": \"smc2\"}, {\"idx\": 2, \"row\": 1, \"col\": 0, \"value\": -0.3025257617775122, \"source\": \"smc2\"}, {\"idx\": 3, \"row\": 1, \"col\": 0, \"value\": 0.10799217584135352, \"source\": \"smc2\"}, {\"idx\": 4, \"row\": 1, \"col\": 0, \"value\": -0.08562820612073949, \"source\": \"smc2\"}, {\"idx\": 5, \"row\": 1, \"col\": 0, \"value\": 0.006030697251970432, \"source\": \"smc2\"}, {\"idx\": 6, \"row\": 1, \"col\": 0, \"value\": -0.08821098413516379, \"source\": \"smc2\"}, {\"idx\": 7, \"row\": 1, \"col\": 0, \"value\": 0.08896373663167706, \"source\": \"smc2\"}, {\"idx\": 8, \"row\": 1, \"col\": 0, \"value\": 0.18750631401089266, \"source\": \"smc2\"}, {\"idx\": 9, \"row\": 1, \"col\": 0, \"value\": 0.06671907887825412, \"source\": \"smc2\"}, {\"idx\": 10, \"row\": 1, \"col\": 0, \"value\": -0.10401911930384028, \"source\": \"smc2\"}, {\"idx\": 11, \"row\": 1, \"col\": 0, \"value\": 0.03570188718207928, \"source\": \"smc2\"}, {\"idx\": 12, \"row\": 1, \"col\": 0, \"value\": 0.09279992197685133, \"source\": \"smc2\"}, {\"idx\": 13, \"row\": 1, \"col\": 0, \"value\": 0.0733401076478341, \"source\": \"smc2\"}, {\"idx\": 14, \"row\": 1, \"col\": 0, \"value\": -0.1476965088186406, \"source\": \"smc2\"}, {\"idx\": 15, \"row\": 1, \"col\": 0, \"value\": -0.02037335664075893, \"source\": \"smc2\"}, {\"idx\": 16, \"row\": 1, \"col\": 0, \"value\": 0.6686437701199119, \"source\": \"smc2\"}, {\"idx\": 17, \"row\": 1, \"col\": 0, \"value\": 0.04359358164474145, \"source\": \"smc2\"}, {\"idx\": 18, \"row\": 1, \"col\": 0, \"value\": 0.03964557212466519, \"source\": \"smc2\"}, {\"idx\": 19, \"row\": 1, \"col\": 0, \"value\": 0.10365350529211197, \"source\": \"smc2\"}, {\"idx\": 20, \"row\": 1, \"col\": 0, \"value\": 0.17208008194846236, \"source\": \"smc2\"}, {\"idx\": 21, \"row\": 1, \"col\": 0, \"value\": 0.40374787796065226, \"source\": \"smc2\"}, {\"idx\": 22, \"row\": 1, \"col\": 0, \"value\": -0.014476430315522835, \"source\": \"smc2\"}, {\"idx\": 23, \"row\": 1, \"col\": 0, \"value\": 0.7720021345098117, \"source\": \"smc2\"}, {\"idx\": 24, \"row\": 1, \"col\": 0, \"value\": -0.17277114727511167, \"source\": \"smc2\"}, {\"idx\": 25, \"row\": 1, \"col\": 0, \"value\": -0.0028691442684167616, \"source\": \"smc2\"}, {\"idx\": 26, \"row\": 1, \"col\": 0, \"value\": 0.20690720029904652, \"source\": \"smc2\"}, {\"idx\": 27, \"row\": 1, \"col\": 0, \"value\": 0.23502104651584935, \"source\": \"smc2\"}, {\"idx\": 28, \"row\": 1, \"col\": 0, \"value\": -0.2654101139768294, \"source\": \"smc2\"}, {\"idx\": 29, \"row\": 1, \"col\": 0, \"value\": 0.6710461095269843, \"source\": \"smc2\"}, {\"idx\": 30, \"row\": 1, \"col\": 0, \"value\": 0.16100104479327954, \"source\": \"smc2\"}, {\"idx\": 31, \"row\": 1, \"col\": 0, \"value\": 0.39082784223162464, \"source\": \"smc2\"}, {\"idx\": 32, \"row\": 1, \"col\": 0, \"value\": -0.022729850772029075, \"source\": \"smc2\"}, {\"idx\": 33, \"row\": 1, \"col\": 0, \"value\": -0.05118805999552115, \"source\": \"smc2\"}, {\"idx\": 34, \"row\": 1, \"col\": 0, \"value\": -0.5023079119085523, \"source\": \"smc2\"}, {\"idx\": 35, \"row\": 1, \"col\": 0, \"value\": 0.5928093624473707, \"source\": \"smc2\"}, {\"idx\": 36, \"row\": 1, \"col\": 0, \"value\": 0.7887565344662242, \"source\": \"smc2\"}, {\"idx\": 37, \"row\": 1, \"col\": 0, \"value\": 0.33279219893091233, \"source\": \"smc2\"}, {\"idx\": 38, \"row\": 1, \"col\": 0, \"value\": 0.2433320296271142, \"source\": \"smc2\"}, {\"idx\": 39, \"row\": 1, \"col\": 0, \"value\": 0.27451284578109025, \"source\": \"smc2\"}, {\"idx\": 40, \"row\": 1, \"col\": 0, \"value\": 0.46576979383894596, \"source\": \"smc2\"}, {\"idx\": 41, \"row\": 1, \"col\": 0, \"value\": -0.06730218947613914, \"source\": \"smc2\"}, {\"idx\": 42, \"row\": 1, \"col\": 0, \"value\": 0.14709362910684523, \"source\": \"smc2\"}, {\"idx\": 43, \"row\": 1, \"col\": 0, \"value\": 0.12827535341774426, \"source\": \"smc2\"}, {\"idx\": 44, \"row\": 1, \"col\": 0, \"value\": -0.05491420849765745, \"source\": \"smc2\"}, {\"idx\": 45, \"row\": 1, \"col\": 0, \"value\": 0.20520299783717896, \"source\": \"smc2\"}, {\"idx\": 46, \"row\": 1, \"col\": 0, \"value\": -0.08610402223513777, \"source\": \"smc2\"}, {\"idx\": 47, \"row\": 1, \"col\": 0, \"value\": -0.29743455315132666, \"source\": \"smc2\"}, {\"idx\": 48, \"row\": 1, \"col\": 0, \"value\": 0.1690294006993543, \"source\": \"smc2\"}, {\"idx\": 49, \"row\": 1, \"col\": 0, \"value\": 0.15961199072174176, \"source\": \"smc2\"}, {\"idx\": 50, \"row\": 1, \"col\": 0, \"value\": 0.24033661665265943, \"source\": \"smc2\"}, {\"idx\": 51, \"row\": 1, \"col\": 0, \"value\": 0.5922968243493901, \"source\": \"smc2\"}, {\"idx\": 52, \"row\": 1, \"col\": 0, \"value\": 0.14652494375851843, \"source\": \"smc2\"}, {\"idx\": 53, \"row\": 1, \"col\": 0, \"value\": 0.3828498058938371, \"source\": \"smc2\"}, {\"idx\": 54, \"row\": 1, \"col\": 0, \"value\": 0.1259128532823859, \"source\": \"smc2\"}, {\"idx\": 55, \"row\": 1, \"col\": 0, \"value\": -0.041506970422267496, \"source\": \"smc2\"}, {\"idx\": 56, \"row\": 1, \"col\": 0, \"value\": 0.1689995790265873, \"source\": \"smc2\"}, {\"idx\": 57, \"row\": 1, \"col\": 0, \"value\": -0.20472951715161555, \"source\": \"smc2\"}, {\"idx\": 58, \"row\": 1, \"col\": 0, \"value\": -0.11125931589580779, \"source\": \"smc2\"}, {\"idx\": 59, \"row\": 1, \"col\": 0, \"value\": 0.0029946005302921574, \"source\": \"smc2\"}, {\"idx\": 60, \"row\": 1, \"col\": 0, \"value\": 0.33818297302624406, \"source\": \"smc2\"}, {\"idx\": 61, \"row\": 1, \"col\": 0, \"value\": 0.23203946455366964, \"source\": \"smc2\"}, {\"idx\": 62, \"row\": 1, \"col\": 0, \"value\": 0.11170286706476326, \"source\": \"smc2\"}, {\"idx\": 63, \"row\": 1, \"col\": 0, \"value\": 0.06449092436921189, \"source\": \"smc2\"}, {\"idx\": 64, \"row\": 1, \"col\": 0, \"value\": 0.10845972480062661, \"source\": \"smc2\"}, {\"idx\": 65, \"row\": 1, \"col\": 0, \"value\": -0.2395816582732829, \"source\": \"smc2\"}, {\"idx\": 66, \"row\": 1, \"col\": 0, \"value\": 0.41287782334769585, \"source\": \"smc2\"}, {\"idx\": 67, \"row\": 1, \"col\": 0, \"value\": 0.005195344372799504, \"source\": \"smc2\"}, {\"idx\": 68, \"row\": 1, \"col\": 0, \"value\": 0.2451713547222835, \"source\": \"smc2\"}, {\"idx\": 69, \"row\": 1, \"col\": 0, \"value\": -0.4273396795873054, \"source\": \"smc2\"}, {\"idx\": 70, \"row\": 1, \"col\": 0, \"value\": 0.22386237296208908, \"source\": \"smc2\"}, {\"idx\": 71, \"row\": 1, \"col\": 0, \"value\": 0.455848613385741, \"source\": \"smc2\"}, {\"idx\": 72, \"row\": 1, \"col\": 0, \"value\": 0.23244095935268033, \"source\": \"smc2\"}, {\"idx\": 73, \"row\": 1, \"col\": 0, \"value\": 0.7010184423264053, \"source\": \"smc2\"}, {\"idx\": 74, \"row\": 1, \"col\": 0, \"value\": 0.719882866755517, \"source\": \"smc2\"}, {\"idx\": 75, \"row\": 1, \"col\": 0, \"value\": 0.5468016426072264, \"source\": \"smc2\"}, {\"idx\": 76, \"row\": 1, \"col\": 0, \"value\": 0.6838591079944113, \"source\": \"smc2\"}, {\"idx\": 77, \"row\": 1, \"col\": 0, \"value\": 0.7198077801397547, \"source\": \"smc2\"}, {\"idx\": 78, \"row\": 1, \"col\": 0, \"value\": 0.5252582315288311, \"source\": \"smc2\"}, {\"idx\": 79, \"row\": 1, \"col\": 0, \"value\": 0.7566490364791663, \"source\": \"smc2\"}, {\"idx\": 80, \"row\": 1, \"col\": 0, \"value\": 0.3635936407705697, \"source\": \"smc2\"}, {\"idx\": 81, \"row\": 1, \"col\": 0, \"value\": 0.15725677138678715, \"source\": \"smc2\"}, {\"idx\": 82, \"row\": 1, \"col\": 0, \"value\": 0.09359878842033789, \"source\": \"smc2\"}, {\"idx\": 83, \"row\": 1, \"col\": 0, \"value\": 0.05996750516631546, \"source\": \"smc2\"}, {\"idx\": 84, \"row\": 1, \"col\": 0, \"value\": 0.21323969362348708, \"source\": \"smc2\"}, {\"idx\": 85, \"row\": 1, \"col\": 0, \"value\": 0.44798232953638617, \"source\": \"smc2\"}, {\"idx\": 86, \"row\": 1, \"col\": 0, \"value\": 0.36327967511940173, \"source\": \"smc2\"}, {\"idx\": 87, \"row\": 1, \"col\": 0, \"value\": -0.05853729526485095, \"source\": \"smc2\"}, {\"idx\": 88, \"row\": 1, \"col\": 0, \"value\": -0.005754548019600493, \"source\": \"smc2\"}, {\"idx\": 89, \"row\": 1, \"col\": 0, \"value\": -0.09050713182714376, \"source\": \"smc2\"}, {\"idx\": 90, \"row\": 1, \"col\": 0, \"value\": 0.04298179366871949, \"source\": \"smc2\"}, {\"idx\": 91, \"row\": 1, \"col\": 0, \"value\": 0.04942481571835553, \"source\": \"smc2\"}, {\"idx\": 92, \"row\": 1, \"col\": 0, \"value\": -0.11604617971867535, \"source\": \"smc2\"}, {\"idx\": 93, \"row\": 1, \"col\": 0, \"value\": -0.29472917558083855, \"source\": \"smc2\"}, {\"idx\": 94, \"row\": 1, \"col\": 0, \"value\": 0.2497978023950304, \"source\": \"smc2\"}, {\"idx\": 95, \"row\": 1, \"col\": 0, \"value\": -0.41059010097993404, \"source\": \"smc2\"}, {\"idx\": 96, \"row\": 1, \"col\": 0, \"value\": 0.17261661281644664, \"source\": \"smc2\"}, {\"idx\": 97, \"row\": 1, \"col\": 0, \"value\": 0.06043067307962252, \"source\": \"smc2\"}, {\"idx\": 98, \"row\": 1, \"col\": 0, \"value\": -0.261559143736092, \"source\": \"smc2\"}, {\"idx\": 99, \"row\": 1, \"col\": 0, \"value\": -0.36199120088528525, \"source\": \"smc2\"}, {\"idx\": 0, \"row\": 2, \"col\": 0, \"value\": 0.1232005425741869, \"source\": \"smc2\"}, {\"idx\": 1, \"row\": 2, \"col\": 0, \"value\": 0.10101013871809109, \"source\": \"smc2\"}, {\"idx\": 2, \"row\": 2, \"col\": 0, \"value\": 0.2409353089233131, \"source\": \"smc2\"}, {\"idx\": 3, \"row\": 2, \"col\": 0, \"value\": -0.3678268478263505, \"source\": \"smc2\"}, {\"idx\": 4, \"row\": 2, \"col\": 0, \"value\": 0.2719363760422314, \"source\": \"smc2\"}, {\"idx\": 5, \"row\": 2, \"col\": 0, \"value\": -0.11828901118124743, \"source\": \"smc2\"}, {\"idx\": 6, \"row\": 2, \"col\": 0, \"value\": 0.07679901363893453, \"source\": \"smc2\"}, {\"idx\": 7, \"row\": 2, \"col\": 0, \"value\": 0.14072829820365002, \"source\": \"smc2\"}, {\"idx\": 8, \"row\": 2, \"col\": 0, \"value\": 0.22628849498163933, \"source\": \"smc2\"}, {\"idx\": 9, \"row\": 2, \"col\": 0, \"value\": 0.18185029123238539, \"source\": \"smc2\"}, {\"idx\": 10, \"row\": 2, \"col\": 0, \"value\": -0.017184598238166007, \"source\": \"smc2\"}, {\"idx\": 11, \"row\": 2, \"col\": 0, \"value\": 0.3087373542367082, \"source\": \"smc2\"}, {\"idx\": 12, \"row\": 2, \"col\": 0, \"value\": -0.1492331638851649, \"source\": \"smc2\"}, {\"idx\": 13, \"row\": 2, \"col\": 0, \"value\": 0.2913406917499466, \"source\": \"smc2\"}, {\"idx\": 14, \"row\": 2, \"col\": 0, \"value\": 0.049791109087720914, \"source\": \"smc2\"}, {\"idx\": 15, \"row\": 2, \"col\": 0, \"value\": 0.02354188947647896, \"source\": \"smc2\"}, {\"idx\": 16, \"row\": 2, \"col\": 0, \"value\": 0.2980152428733366, \"source\": \"smc2\"}, {\"idx\": 17, \"row\": 2, \"col\": 0, \"value\": 0.13988278552560626, \"source\": \"smc2\"}, {\"idx\": 18, \"row\": 2, \"col\": 0, \"value\": 0.0060883928171386985, \"source\": \"smc2\"}, {\"idx\": 19, \"row\": 2, \"col\": 0, \"value\": 0.067361319379616, \"source\": \"smc2\"}, {\"idx\": 20, \"row\": 2, \"col\": 0, \"value\": 0.47402031014964974, \"source\": \"smc2\"}, {\"idx\": 21, \"row\": 2, \"col\": 0, \"value\": -0.19892982696477401, \"source\": \"smc2\"}, {\"idx\": 22, \"row\": 2, \"col\": 0, \"value\": -0.1758793644950634, \"source\": \"smc2\"}, {\"idx\": 23, \"row\": 2, \"col\": 0, \"value\": 0.11286927606098293, \"source\": \"smc2\"}, {\"idx\": 24, \"row\": 2, \"col\": 0, \"value\": -0.03264435024583476, \"source\": \"smc2\"}, {\"idx\": 25, \"row\": 2, \"col\": 0, \"value\": 0.0708233449452349, \"source\": \"smc2\"}, {\"idx\": 26, \"row\": 2, \"col\": 0, \"value\": 0.19248469539985644, \"source\": \"smc2\"}, {\"idx\": 27, \"row\": 2, \"col\": 0, \"value\": 0.07071060377540547, \"source\": \"smc2\"}, {\"idx\": 28, \"row\": 2, \"col\": 0, \"value\": -0.45490282831335466, \"source\": \"smc2\"}, {\"idx\": 29, \"row\": 2, \"col\": 0, \"value\": 0.5764747839021513, \"source\": \"smc2\"}, {\"idx\": 30, \"row\": 2, \"col\": 0, \"value\": 0.051268276967542145, \"source\": \"smc2\"}, {\"idx\": 31, \"row\": 2, \"col\": 0, \"value\": 0.40508424220816247, \"source\": \"smc2\"}, {\"idx\": 32, \"row\": 2, \"col\": 0, \"value\": 0.6061362810620466, \"source\": \"smc2\"}, {\"idx\": 33, \"row\": 2, \"col\": 0, \"value\": 0.7607965947061412, \"source\": \"smc2\"}, {\"idx\": 34, \"row\": 2, \"col\": 0, \"value\": -0.00019287458673530877, \"source\": \"smc2\"}, {\"idx\": 35, \"row\": 2, \"col\": 0, \"value\": -0.20390378006616014, \"source\": \"smc2\"}, {\"idx\": 36, \"row\": 2, \"col\": 0, \"value\": 0.8139626900812535, \"source\": \"smc2\"}, {\"idx\": 37, \"row\": 2, \"col\": 0, \"value\": -0.25478816743467647, \"source\": \"smc2\"}, {\"idx\": 38, \"row\": 2, \"col\": 0, \"value\": 0.1009545969358091, \"source\": \"smc2\"}, {\"idx\": 39, \"row\": 2, \"col\": 0, \"value\": -0.1451696089125889, \"source\": \"smc2\"}, {\"idx\": 40, \"row\": 2, \"col\": 0, \"value\": 0.07886827530448129, \"source\": \"smc2\"}, {\"idx\": 41, \"row\": 2, \"col\": 0, \"value\": 0.246378305514509, \"source\": \"smc2\"}, {\"idx\": 42, \"row\": 2, \"col\": 0, \"value\": -0.5397890134615632, \"source\": \"smc2\"}, {\"idx\": 43, \"row\": 2, \"col\": 0, \"value\": 0.5378542290038278, \"source\": \"smc2\"}, {\"idx\": 44, \"row\": 2, \"col\": 0, \"value\": 0.5263497826222712, \"source\": \"smc2\"}, {\"idx\": 45, \"row\": 2, \"col\": 0, \"value\": 0.24632323927238864, \"source\": \"smc2\"}, {\"idx\": 46, \"row\": 2, \"col\": 0, \"value\": 0.23577483061207502, \"source\": \"smc2\"}, {\"idx\": 47, \"row\": 2, \"col\": 0, \"value\": -0.4356818836396064, \"source\": \"smc2\"}, {\"idx\": 48, \"row\": 2, \"col\": 0, \"value\": 0.3305306921158112, \"source\": \"smc2\"}, {\"idx\": 49, \"row\": 2, \"col\": 0, \"value\": 0.07819043623259016, \"source\": \"smc2\"}, {\"idx\": 50, \"row\": 2, \"col\": 0, \"value\": 0.3709343159006178, \"source\": \"smc2\"}, {\"idx\": 51, \"row\": 2, \"col\": 0, \"value\": 0.35098943890140166, \"source\": \"smc2\"}, {\"idx\": 52, \"row\": 2, \"col\": 0, \"value\": 0.07419051561622585, \"source\": \"smc2\"}, {\"idx\": 53, \"row\": 2, \"col\": 0, \"value\": -0.11916043155348272, \"source\": \"smc2\"}, {\"idx\": 54, \"row\": 2, \"col\": 0, \"value\": 0.15343612935390752, \"source\": \"smc2\"}, {\"idx\": 55, \"row\": 2, \"col\": 0, \"value\": 0.46082969966658505, \"source\": \"smc2\"}, {\"idx\": 56, \"row\": 2, \"col\": 0, \"value\": 0.18003170930464718, \"source\": \"smc2\"}, {\"idx\": 57, \"row\": 2, \"col\": 0, \"value\": 0.14854658501367587, \"source\": \"smc2\"}, {\"idx\": 58, \"row\": 2, \"col\": 0, \"value\": 0.6541565649775166, \"source\": \"smc2\"}, {\"idx\": 59, \"row\": 2, \"col\": 0, \"value\": 0.20662430844770438, \"source\": \"smc2\"}, {\"idx\": 60, \"row\": 2, \"col\": 0, \"value\": 0.1391938771115518, \"source\": \"smc2\"}, {\"idx\": 61, \"row\": 2, \"col\": 0, \"value\": 0.14246831654178418, \"source\": \"smc2\"}, {\"idx\": 62, \"row\": 2, \"col\": 0, \"value\": 0.534012302404241, \"source\": \"smc2\"}, {\"idx\": 63, \"row\": 2, \"col\": 0, \"value\": -0.4332910649374639, \"source\": \"smc2\"}, {\"idx\": 64, \"row\": 2, \"col\": 0, \"value\": -0.5105420101974901, \"source\": \"smc2\"}, {\"idx\": 65, \"row\": 2, \"col\": 0, \"value\": 0.25013247750669754, \"source\": \"smc2\"}, {\"idx\": 66, \"row\": 2, \"col\": 0, \"value\": 0.4455947699054331, \"source\": \"smc2\"}, {\"idx\": 67, \"row\": 2, \"col\": 0, \"value\": 0.5026623455672403, \"source\": \"smc2\"}, {\"idx\": 68, \"row\": 2, \"col\": 0, \"value\": 0.051583603557200264, \"source\": \"smc2\"}, {\"idx\": 69, \"row\": 2, \"col\": 0, \"value\": 0.33150478017863694, \"source\": \"smc2\"}, {\"idx\": 70, \"row\": 2, \"col\": 0, \"value\": 0.0586485561755072, \"source\": \"smc2\"}, {\"idx\": 71, \"row\": 2, \"col\": 0, \"value\": -0.08194617809984851, \"source\": \"smc2\"}, {\"idx\": 72, \"row\": 2, \"col\": 0, \"value\": 0.06945237416808955, \"source\": \"smc2\"}, {\"idx\": 73, \"row\": 2, \"col\": 0, \"value\": 0.9486943330003406, \"source\": \"smc2\"}, {\"idx\": 74, \"row\": 2, \"col\": 0, \"value\": 0.3628032567062916, \"source\": \"smc2\"}, {\"idx\": 75, \"row\": 2, \"col\": 0, \"value\": 0.779221997670426, \"source\": \"smc2\"}, {\"idx\": 76, \"row\": 2, \"col\": 0, \"value\": 0.9573399512411854, \"source\": \"smc2\"}, {\"idx\": 77, \"row\": 2, \"col\": 0, \"value\": 0.11071071831717247, \"source\": \"smc2\"}, {\"idx\": 78, \"row\": 2, \"col\": 0, \"value\": 0.08280137740628163, \"source\": \"smc2\"}, {\"idx\": 79, \"row\": 2, \"col\": 0, \"value\": 0.35158926381666133, \"source\": \"smc2\"}, {\"idx\": 80, \"row\": 2, \"col\": 0, \"value\": 0.31337470149242624, \"source\": \"smc2\"}, {\"idx\": 81, \"row\": 2, \"col\": 0, \"value\": -0.16330403919899095, \"source\": \"smc2\"}, {\"idx\": 82, \"row\": 2, \"col\": 0, \"value\": 0.25279604823646573, \"source\": \"smc2\"}, {\"idx\": 83, \"row\": 2, \"col\": 0, \"value\": 0.26842797014677927, \"source\": \"smc2\"}, {\"idx\": 84, \"row\": 2, \"col\": 0, \"value\": 0.31296556106102513, \"source\": \"smc2\"}, {\"idx\": 85, \"row\": 2, \"col\": 0, \"value\": 0.6387565313399077, \"source\": \"smc2\"}, {\"idx\": 86, \"row\": 2, \"col\": 0, \"value\": 0.15469347948459042, \"source\": \"smc2\"}, {\"idx\": 87, \"row\": 2, \"col\": 0, \"value\": 0.0385313594923154, \"source\": \"smc2\"}, {\"idx\": 88, \"row\": 2, \"col\": 0, \"value\": -0.15018988998622182, \"source\": \"smc2\"}, {\"idx\": 89, \"row\": 2, \"col\": 0, \"value\": 0.03761481123971217, \"source\": \"smc2\"}, {\"idx\": 90, \"row\": 2, \"col\": 0, \"value\": 0.29487530907142423, \"source\": \"smc2\"}, {\"idx\": 91, \"row\": 2, \"col\": 0, \"value\": 0.2700487855118907, \"source\": \"smc2\"}, {\"idx\": 92, \"row\": 2, \"col\": 0, \"value\": 0.14435067282572026, \"source\": \"smc2\"}, {\"idx\": 93, \"row\": 2, \"col\": 0, \"value\": -0.42864979882966664, \"source\": \"smc2\"}, {\"idx\": 94, \"row\": 2, \"col\": 0, \"value\": -0.014232249410897346, \"source\": \"smc2\"}, {\"idx\": 95, \"row\": 2, \"col\": 0, \"value\": -0.3248506060629096, \"source\": \"smc2\"}, {\"idx\": 96, \"row\": 2, \"col\": 0, \"value\": -0.598646971936155, \"source\": \"smc2\"}, {\"idx\": 97, \"row\": 2, \"col\": 0, \"value\": 0.49857712190935394, \"source\": \"smc2\"}, {\"idx\": 98, \"row\": 2, \"col\": 0, \"value\": -0.7936094550468993, \"source\": \"smc2\"}, {\"idx\": 99, \"row\": 2, \"col\": 0, \"value\": -0.7186357516095965, \"source\": \"smc2\"}, {\"idx\": 0, \"row\": 3, \"col\": 0, \"value\": -0.008078449650913623, \"source\": \"smc2\"}, {\"idx\": 1, \"row\": 3, \"col\": 0, \"value\": -0.528172575495571, \"source\": \"smc2\"}, {\"idx\": 2, \"row\": 3, \"col\": 0, \"value\": 0.05028363377752189, \"source\": \"smc2\"}, {\"idx\": 3, \"row\": 3, \"col\": 0, \"value\": 0.3688290870124485, \"source\": \"smc2\"}, {\"idx\": 4, \"row\": 3, \"col\": 0, \"value\": -0.34067801138325576, \"source\": \"smc2\"}, {\"idx\": 5, \"row\": 3, \"col\": 0, \"value\": 0.059873940726111165, \"source\": \"smc2\"}, {\"idx\": 6, \"row\": 3, \"col\": 0, \"value\": -0.5301413448709221, \"source\": \"smc2\"}, {\"idx\": 7, \"row\": 3, \"col\": 0, \"value\": -0.3977563414385903, \"source\": \"smc2\"}, {\"idx\": 8, \"row\": 3, \"col\": 0, \"value\": -0.06062716154709593, \"source\": \"smc2\"}, {\"idx\": 9, \"row\": 3, \"col\": 0, \"value\": -0.7125059596083176, \"source\": \"smc2\"}, {\"idx\": 10, \"row\": 3, \"col\": 0, \"value\": -0.31478692260737207, \"source\": \"smc2\"}, {\"idx\": 11, \"row\": 3, \"col\": 0, \"value\": -0.09351792420891239, \"source\": \"smc2\"}, {\"idx\": 12, \"row\": 3, \"col\": 0, \"value\": -0.07673939966046905, \"source\": \"smc2\"}, {\"idx\": 13, \"row\": 3, \"col\": 0, \"value\": 0.16413823782792744, \"source\": \"smc2\"}, {\"idx\": 14, \"row\": 3, \"col\": 0, \"value\": -0.17493297702758154, \"source\": \"smc2\"}, {\"idx\": 15, \"row\": 3, \"col\": 0, \"value\": 0.2729196904164038, \"source\": \"smc2\"}, {\"idx\": 16, \"row\": 3, \"col\": 0, \"value\": 0.34747987303321176, \"source\": \"smc2\"}, {\"idx\": 17, \"row\": 3, \"col\": 0, \"value\": 0.10223009994504219, \"source\": \"smc2\"}, {\"idx\": 18, \"row\": 3, \"col\": 0, \"value\": 0.18863402870420154, \"source\": \"smc2\"}, {\"idx\": 19, \"row\": 3, \"col\": 0, \"value\": -0.34079772348019777, \"source\": \"smc2\"}, {\"idx\": 20, \"row\": 3, \"col\": 0, \"value\": -0.17621863508807273, \"source\": \"smc2\"}, {\"idx\": 21, \"row\": 3, \"col\": 0, \"value\": 0.4996526223791679, \"source\": \"smc2\"}, {\"idx\": 22, \"row\": 3, \"col\": 0, \"value\": 0.25403500672469664, \"source\": \"smc2\"}, {\"idx\": 23, \"row\": 3, \"col\": 0, \"value\": -0.31659046729832996, \"source\": \"smc2\"}, {\"idx\": 24, \"row\": 3, \"col\": 0, \"value\": 0.07477720976489827, \"source\": \"smc2\"}, {\"idx\": 25, \"row\": 3, \"col\": 0, \"value\": -0.1227332911605888, \"source\": \"smc2\"}, {\"idx\": 26, \"row\": 3, \"col\": 0, \"value\": 0.49671598741578743, \"source\": \"smc2\"}, {\"idx\": 27, \"row\": 3, \"col\": 0, \"value\": 0.3736433803749413, \"source\": \"smc2\"}, {\"idx\": 28, \"row\": 3, \"col\": 0, \"value\": -0.02660392856790593, \"source\": \"smc2\"}, {\"idx\": 29, \"row\": 3, \"col\": 0, \"value\": 1.0619879891609045, \"source\": \"smc2\"}, {\"idx\": 30, \"row\": 3, \"col\": 0, \"value\": 0.6992539295316577, \"source\": \"smc2\"}, {\"idx\": 31, \"row\": 3, \"col\": 0, \"value\": 0.5277097807863615, \"source\": \"smc2\"}, {\"idx\": 32, \"row\": 3, \"col\": 0, \"value\": 0.5871601610036411, \"source\": \"smc2\"}, {\"idx\": 33, \"row\": 3, \"col\": 0, \"value\": -0.18567583839203936, \"source\": \"smc2\"}, {\"idx\": 34, \"row\": 3, \"col\": 0, \"value\": -0.3269153333221414, \"source\": \"smc2\"}, {\"idx\": 35, \"row\": 3, \"col\": 0, \"value\": -0.044507266154349225, \"source\": \"smc2\"}, {\"idx\": 36, \"row\": 3, \"col\": 0, \"value\": 0.57478755959677, \"source\": \"smc2\"}, {\"idx\": 37, \"row\": 3, \"col\": 0, \"value\": -0.07975155565561405, \"source\": \"smc2\"}, {\"idx\": 38, \"row\": 3, \"col\": 0, \"value\": 0.1477985488053438, \"source\": \"smc2\"}, {\"idx\": 39, \"row\": 3, \"col\": 0, \"value\": 0.5478295334622085, \"source\": \"smc2\"}, {\"idx\": 40, \"row\": 3, \"col\": 0, \"value\": 0.17772181561508393, \"source\": \"smc2\"}, {\"idx\": 41, \"row\": 3, \"col\": 0, \"value\": -0.2624107612421412, \"source\": \"smc2\"}, {\"idx\": 42, \"row\": 3, \"col\": 0, \"value\": 0.009919596626231106, \"source\": \"smc2\"}, {\"idx\": 43, \"row\": 3, \"col\": 0, \"value\": 0.0732647090160118, \"source\": \"smc2\"}, {\"idx\": 44, \"row\": 3, \"col\": 0, \"value\": -0.2979423063818329, \"source\": \"smc2\"}, {\"idx\": 45, \"row\": 3, \"col\": 0, \"value\": 0.2587881362018794, \"source\": \"smc2\"}, {\"idx\": 46, \"row\": 3, \"col\": 0, \"value\": -0.27460260378590057, \"source\": \"smc2\"}, {\"idx\": 47, \"row\": 3, \"col\": 0, \"value\": -0.56955678310965, \"source\": \"smc2\"}, {\"idx\": 48, \"row\": 3, \"col\": 0, \"value\": 0.1468145322757272, \"source\": \"smc2\"}, {\"idx\": 49, \"row\": 3, \"col\": 0, \"value\": -0.0003989441498871149, \"source\": \"smc2\"}, {\"idx\": 50, \"row\": 3, \"col\": 0, \"value\": 0.08692068548280975, \"source\": \"smc2\"}, {\"idx\": 51, \"row\": 3, \"col\": 0, \"value\": 0.020804578403467708, \"source\": \"smc2\"}, {\"idx\": 52, \"row\": 3, \"col\": 0, \"value\": -0.2947577779721806, \"source\": \"smc2\"}, {\"idx\": 53, \"row\": 3, \"col\": 0, \"value\": 0.21412106457002045, \"source\": \"smc2\"}, {\"idx\": 54, \"row\": 3, \"col\": 0, \"value\": -0.21123280334097744, \"source\": \"smc2\"}, {\"idx\": 55, \"row\": 3, \"col\": 0, \"value\": 0.42645115877334694, \"source\": \"smc2\"}, {\"idx\": 56, \"row\": 3, \"col\": 0, \"value\": 0.3160554872855698, \"source\": \"smc2\"}, {\"idx\": 57, \"row\": 3, \"col\": 0, \"value\": -0.49010106342106663, \"source\": \"smc2\"}, {\"idx\": 58, \"row\": 3, \"col\": 0, \"value\": 0.29290162361357075, \"source\": \"smc2\"}, {\"idx\": 59, \"row\": 3, \"col\": 0, \"value\": 0.10019318872457762, \"source\": \"smc2\"}, {\"idx\": 60, \"row\": 3, \"col\": 0, \"value\": -0.05393097118350449, \"source\": \"smc2\"}, {\"idx\": 61, \"row\": 3, \"col\": 0, \"value\": -0.07992277124837868, \"source\": \"smc2\"}, {\"idx\": 62, \"row\": 3, \"col\": 0, \"value\": -0.11060294540059046, \"source\": \"smc2\"}, {\"idx\": 63, \"row\": 3, \"col\": 0, \"value\": 0.05819209253319018, \"source\": \"smc2\"}, {\"idx\": 64, \"row\": 3, \"col\": 0, \"value\": 0.4562433097831245, \"source\": \"smc2\"}, {\"idx\": 65, \"row\": 3, \"col\": 0, \"value\": -0.5438108332642073, \"source\": \"smc2\"}, {\"idx\": 66, \"row\": 3, \"col\": 0, \"value\": -0.32049087980952556, \"source\": \"smc2\"}, {\"idx\": 67, \"row\": 3, \"col\": 0, \"value\": -0.22455050031637472, \"source\": \"smc2\"}, {\"idx\": 68, \"row\": 3, \"col\": 0, \"value\": -0.014753681860638752, \"source\": \"smc2\"}, {\"idx\": 69, \"row\": 3, \"col\": 0, \"value\": 0.09244996163382906, \"source\": \"smc2\"}, {\"idx\": 70, \"row\": 3, \"col\": 0, \"value\": 0.11052611414090635, \"source\": \"smc2\"}, {\"idx\": 71, \"row\": 3, \"col\": 0, \"value\": -0.6708476880653942, \"source\": \"smc2\"}, {\"idx\": 72, \"row\": 3, \"col\": 0, \"value\": 0.28937409927889585, \"source\": \"smc2\"}, {\"idx\": 73, \"row\": 3, \"col\": 0, \"value\": 0.13029917290871443, \"source\": \"smc2\"}, {\"idx\": 74, \"row\": 3, \"col\": 0, \"value\": -0.11564492156346132, \"source\": \"smc2\"}, {\"idx\": 75, \"row\": 3, \"col\": 0, \"value\": 0.34082258294459367, \"source\": \"smc2\"}, {\"idx\": 76, \"row\": 3, \"col\": 0, \"value\": 0.16380057588924804, \"source\": \"smc2\"}, {\"idx\": 77, \"row\": 3, \"col\": 0, \"value\": 0.5097088622322948, \"source\": \"smc2\"}, {\"idx\": 78, \"row\": 3, \"col\": 0, \"value\": 0.3296424011690719, \"source\": \"smc2\"}, {\"idx\": 79, \"row\": 3, \"col\": 0, \"value\": 0.05870289380803529, \"source\": \"smc2\"}, {\"idx\": 80, \"row\": 3, \"col\": 0, \"value\": 0.2317365812869066, \"source\": \"smc2\"}, {\"idx\": 81, \"row\": 3, \"col\": 0, \"value\": 0.32012907656874007, \"source\": \"smc2\"}, {\"idx\": 82, \"row\": 3, \"col\": 0, \"value\": 0.3786818946056273, \"source\": \"smc2\"}, {\"idx\": 83, \"row\": 3, \"col\": 0, \"value\": -0.4828233443692209, \"source\": \"smc2\"}, {\"idx\": 84, \"row\": 3, \"col\": 0, \"value\": 0.5792345108121804, \"source\": \"smc2\"}, {\"idx\": 85, \"row\": 3, \"col\": 0, \"value\": 0.3862548130227372, \"source\": \"smc2\"}, {\"idx\": 86, \"row\": 3, \"col\": 0, \"value\": -0.09010094739211365, \"source\": \"smc2\"}, {\"idx\": 87, \"row\": 3, \"col\": 0, \"value\": -0.3598611365034763, \"source\": \"smc2\"}, {\"idx\": 88, \"row\": 3, \"col\": 0, \"value\": 0.7519097541500517, \"source\": \"smc2\"}, {\"idx\": 89, \"row\": 3, \"col\": 0, \"value\": 0.10617883343655257, \"source\": \"smc2\"}, {\"idx\": 90, \"row\": 3, \"col\": 0, \"value\": -0.014409799533501366, \"source\": \"smc2\"}, {\"idx\": 91, \"row\": 3, \"col\": 0, \"value\": -0.4173329947503423, \"source\": \"smc2\"}, {\"idx\": 92, \"row\": 3, \"col\": 0, \"value\": -0.2390133850732981, \"source\": \"smc2\"}, {\"idx\": 93, \"row\": 3, \"col\": 0, \"value\": -0.28165032886458635, \"source\": \"smc2\"}, {\"idx\": 94, \"row\": 3, \"col\": 0, \"value\": -0.24943373323881765, \"source\": \"smc2\"}, {\"idx\": 95, \"row\": 3, \"col\": 0, \"value\": -0.2217486512800129, \"source\": \"smc2\"}, {\"idx\": 96, \"row\": 3, \"col\": 0, \"value\": 0.23236710680437528, \"source\": \"smc2\"}, {\"idx\": 97, \"row\": 3, \"col\": 0, \"value\": -0.047626749510805394, \"source\": \"smc2\"}, {\"idx\": 98, \"row\": 3, \"col\": 0, \"value\": 0.7190228915046526, \"source\": \"smc2\"}, {\"idx\": 99, \"row\": 3, \"col\": 0, \"value\": 0.19906765235064172, \"source\": \"smc2\"}, {\"idx\": 0, \"row\": 4, \"col\": 0, \"value\": -0.029202475989470074, \"source\": \"smc2\"}, {\"idx\": 1, \"row\": 4, \"col\": 0, \"value\": 0.07280525451044983, \"source\": \"smc2\"}, {\"idx\": 2, \"row\": 4, \"col\": 0, \"value\": 0.07419464405499987, \"source\": \"smc2\"}, {\"idx\": 3, \"row\": 4, \"col\": 0, \"value\": 0.051597527254184324, \"source\": \"smc2\"}, {\"idx\": 4, \"row\": 4, \"col\": 0, \"value\": 0.38763831694999146, \"source\": \"smc2\"}, {\"idx\": 5, \"row\": 4, \"col\": 0, \"value\": 0.10418726845116769, \"source\": \"smc2\"}, {\"idx\": 6, \"row\": 4, \"col\": 0, \"value\": -0.023303602191245, \"source\": \"smc2\"}, {\"idx\": 7, \"row\": 4, \"col\": 0, \"value\": -0.022412834236079954, \"source\": \"smc2\"}, {\"idx\": 8, \"row\": 4, \"col\": 0, \"value\": -0.1765874635725062, \"source\": \"smc2\"}, {\"idx\": 9, \"row\": 4, \"col\": 0, \"value\": -0.3147101856872365, \"source\": \"smc2\"}, {\"idx\": 10, \"row\": 4, \"col\": 0, \"value\": 0.023119115845511087, \"source\": \"smc2\"}, {\"idx\": 11, \"row\": 4, \"col\": 0, \"value\": 0.19419129555841388, \"source\": \"smc2\"}, {\"idx\": 12, \"row\": 4, \"col\": 0, \"value\": -0.030605006886783928, \"source\": \"smc2\"}, {\"idx\": 13, \"row\": 4, \"col\": 0, \"value\": -0.13582346568237297, \"source\": \"smc2\"}, {\"idx\": 14, \"row\": 4, \"col\": 0, \"value\": 0.1673042529616154, \"source\": \"smc2\"}, {\"idx\": 15, \"row\": 4, \"col\": 0, \"value\": 0.22128756410852746, \"source\": \"smc2\"}, {\"idx\": 16, \"row\": 4, \"col\": 0, \"value\": 0.4145581586081664, \"source\": \"smc2\"}, {\"idx\": 17, \"row\": 4, \"col\": 0, \"value\": 0.30304816136980606, \"source\": \"smc2\"}, {\"idx\": 18, \"row\": 4, \"col\": 0, \"value\": 0.26764749245424724, \"source\": \"smc2\"}, {\"idx\": 19, \"row\": 4, \"col\": 0, \"value\": 0.6256929874065154, \"source\": \"smc2\"}, {\"idx\": 20, \"row\": 4, \"col\": 0, \"value\": 0.09073721126478712, \"source\": \"smc2\"}, {\"idx\": 21, \"row\": 4, \"col\": 0, \"value\": 0.2460549271244474, \"source\": \"smc2\"}, {\"idx\": 22, \"row\": 4, \"col\": 0, \"value\": 0.6954163138596358, \"source\": \"smc2\"}, {\"idx\": 23, \"row\": 4, \"col\": 0, \"value\": 0.8896913208725948, \"source\": \"smc2\"}, {\"idx\": 24, \"row\": 4, \"col\": 0, \"value\": -0.25361651802441915, \"source\": \"smc2\"}, {\"idx\": 25, \"row\": 4, \"col\": 0, \"value\": -0.20305466763018937, \"source\": \"smc2\"}, {\"idx\": 26, \"row\": 4, \"col\": 0, \"value\": 0.1760250167911255, \"source\": \"smc2\"}, {\"idx\": 27, \"row\": 4, \"col\": 0, \"value\": 0.38441396653920107, \"source\": \"smc2\"}, {\"idx\": 28, \"row\": 4, \"col\": 0, \"value\": -0.4356591164208926, \"source\": \"smc2\"}, {\"idx\": 29, \"row\": 4, \"col\": 0, \"value\": 0.30654666936272135, \"source\": \"smc2\"}, {\"idx\": 30, \"row\": 4, \"col\": 0, \"value\": 0.5565375099143867, \"source\": \"smc2\"}, {\"idx\": 31, \"row\": 4, \"col\": 0, \"value\": 0.7572872606561657, \"source\": \"smc2\"}, {\"idx\": 32, \"row\": 4, \"col\": 0, \"value\": 0.22509077273983627, \"source\": \"smc2\"}, {\"idx\": 33, \"row\": 4, \"col\": 0, \"value\": 0.16466383527811337, \"source\": \"smc2\"}, {\"idx\": 34, \"row\": 4, \"col\": 0, \"value\": -0.06062770997037152, \"source\": \"smc2\"}, {\"idx\": 35, \"row\": 4, \"col\": 0, \"value\": -0.6659385994763564, \"source\": \"smc2\"}, {\"idx\": 36, \"row\": 4, \"col\": 0, \"value\": 0.9614967761857318, \"source\": \"smc2\"}, {\"idx\": 37, \"row\": 4, \"col\": 0, \"value\": -0.06190577259635356, \"source\": \"smc2\"}, {\"idx\": 38, \"row\": 4, \"col\": 0, \"value\": -0.2863876829507224, \"source\": \"smc2\"}, {\"idx\": 39, \"row\": 4, \"col\": 0, \"value\": -0.03847653240229338, \"source\": \"smc2\"}, {\"idx\": 40, \"row\": 4, \"col\": 0, \"value\": 0.08133745516995225, \"source\": \"smc2\"}, {\"idx\": 41, \"row\": 4, \"col\": 0, \"value\": -0.25199130943450576, \"source\": \"smc2\"}, {\"idx\": 42, \"row\": 4, \"col\": 0, \"value\": -0.3825028384553761, \"source\": \"smc2\"}, {\"idx\": 43, \"row\": 4, \"col\": 0, \"value\": 0.03185502869388905, \"source\": \"smc2\"}, {\"idx\": 44, \"row\": 4, \"col\": 0, \"value\": 0.18260701360441456, \"source\": \"smc2\"}, {\"idx\": 45, \"row\": 4, \"col\": 0, \"value\": 0.7111103061031999, \"source\": \"smc2\"}, {\"idx\": 46, \"row\": 4, \"col\": 0, \"value\": 0.11107538431735171, \"source\": \"smc2\"}, {\"idx\": 47, \"row\": 4, \"col\": 0, \"value\": -0.07175076020157915, \"source\": \"smc2\"}, {\"idx\": 48, \"row\": 4, \"col\": 0, \"value\": 0.4092619813910008, \"source\": \"smc2\"}, {\"idx\": 49, \"row\": 4, \"col\": 0, \"value\": 0.6981449217110571, \"source\": \"smc2\"}, {\"idx\": 50, \"row\": 4, \"col\": 0, \"value\": 0.24133018620290228, \"source\": \"smc2\"}, {\"idx\": 51, \"row\": 4, \"col\": 0, \"value\": 0.6359777555730224, \"source\": \"smc2\"}, {\"idx\": 52, \"row\": 4, \"col\": 0, \"value\": 0.009197524129292575, \"source\": \"smc2\"}, {\"idx\": 53, \"row\": 4, \"col\": 0, \"value\": -0.018730767165357376, \"source\": \"smc2\"}, {\"idx\": 54, \"row\": 4, \"col\": 0, \"value\": 0.3358487117478576, \"source\": \"smc2\"}, {\"idx\": 55, \"row\": 4, \"col\": 0, \"value\": 0.044859064458694795, \"source\": \"smc2\"}, {\"idx\": 56, \"row\": 4, \"col\": 0, \"value\": 0.2232412124363138, \"source\": \"smc2\"}, {\"idx\": 57, \"row\": 4, \"col\": 0, \"value\": 0.423582864265115, \"source\": \"smc2\"}, {\"idx\": 58, \"row\": 4, \"col\": 0, \"value\": 0.23043834661524032, \"source\": \"smc2\"}, {\"idx\": 59, \"row\": 4, \"col\": 0, \"value\": 0.45426199575835774, \"source\": \"smc2\"}, {\"idx\": 60, \"row\": 4, \"col\": 0, \"value\": 0.305133054203073, \"source\": \"smc2\"}, {\"idx\": 61, \"row\": 4, \"col\": 0, \"value\": 0.20262135147988075, \"source\": \"smc2\"}, {\"idx\": 62, \"row\": 4, \"col\": 0, \"value\": 0.38724964894378283, \"source\": \"smc2\"}, {\"idx\": 63, \"row\": 4, \"col\": 0, \"value\": -0.3461692298323221, \"source\": \"smc2\"}, {\"idx\": 64, \"row\": 4, \"col\": 0, \"value\": 0.2675373009213271, \"source\": \"smc2\"}, {\"idx\": 65, \"row\": 4, \"col\": 0, \"value\": 0.0018518283431827737, \"source\": \"smc2\"}, {\"idx\": 66, \"row\": 4, \"col\": 0, \"value\": 0.35796246650493635, \"source\": \"smc2\"}, {\"idx\": 67, \"row\": 4, \"col\": 0, \"value\": 0.34068880744035007, \"source\": \"smc2\"}, {\"idx\": 68, \"row\": 4, \"col\": 0, \"value\": 0.2576177439525616, \"source\": \"smc2\"}, {\"idx\": 69, \"row\": 4, \"col\": 0, \"value\": -0.032720672226372774, \"source\": \"smc2\"}, {\"idx\": 70, \"row\": 4, \"col\": 0, \"value\": -0.2534904064571949, \"source\": \"smc2\"}, {\"idx\": 71, \"row\": 4, \"col\": 0, \"value\": -0.4956344398944422, \"source\": \"smc2\"}, {\"idx\": 72, \"row\": 4, \"col\": 0, \"value\": 0.37902841923479264, \"source\": \"smc2\"}, {\"idx\": 73, \"row\": 4, \"col\": 0, \"value\": -0.026272485339272327, \"source\": \"smc2\"}, {\"idx\": 74, \"row\": 4, \"col\": 0, \"value\": 0.43691596906554414, \"source\": \"smc2\"}, {\"idx\": 75, \"row\": 4, \"col\": 0, \"value\": 0.4928069469848301, \"source\": \"smc2\"}, {\"idx\": 76, \"row\": 4, \"col\": 0, \"value\": 0.8028382266088789, \"source\": \"smc2\"}, {\"idx\": 77, \"row\": 4, \"col\": 0, \"value\": 1.2798007980862625, \"source\": \"smc2\"}, {\"idx\": 78, \"row\": 4, \"col\": 0, \"value\": 0.2675103239091306, \"source\": \"smc2\"}, {\"idx\": 79, \"row\": 4, \"col\": 0, \"value\": 0.16081944459258968, \"source\": \"smc2\"}, {\"idx\": 80, \"row\": 4, \"col\": 0, \"value\": 0.3833730058546937, \"source\": \"smc2\"}, {\"idx\": 81, \"row\": 4, \"col\": 0, \"value\": 0.5535707629234949, \"source\": \"smc2\"}, {\"idx\": 82, \"row\": 4, \"col\": 0, \"value\": 0.0679846811536867, \"source\": \"smc2\"}, {\"idx\": 83, \"row\": 4, \"col\": 0, \"value\": 0.07502359727790964, \"source\": \"smc2\"}, {\"idx\": 84, \"row\": 4, \"col\": 0, \"value\": 0.2914678319946733, \"source\": \"smc2\"}, {\"idx\": 85, \"row\": 4, \"col\": 0, \"value\": 0.1479327428416552, \"source\": \"smc2\"}, {\"idx\": 86, \"row\": 4, \"col\": 0, \"value\": 0.017879588304053, \"source\": \"smc2\"}, {\"idx\": 87, \"row\": 4, \"col\": 0, \"value\": -0.10962825989568942, \"source\": \"smc2\"}, {\"idx\": 88, \"row\": 4, \"col\": 0, \"value\": 8.611444594540385e-05, \"source\": \"smc2\"}, {\"idx\": 89, \"row\": 4, \"col\": 0, \"value\": -0.3746898384997885, \"source\": \"smc2\"}, {\"idx\": 90, \"row\": 4, \"col\": 0, \"value\": 0.05660777906725821, \"source\": \"smc2\"}, {\"idx\": 91, \"row\": 4, \"col\": 0, \"value\": -0.3482318651038621, \"source\": \"smc2\"}, {\"idx\": 92, \"row\": 4, \"col\": 0, \"value\": 0.029544615351249758, \"source\": \"smc2\"}, {\"idx\": 93, \"row\": 4, \"col\": 0, \"value\": -0.1939716372812553, \"source\": \"smc2\"}, {\"idx\": 94, \"row\": 4, \"col\": 0, \"value\": 0.368391964796722, \"source\": \"smc2\"}, {\"idx\": 95, \"row\": 4, \"col\": 0, \"value\": 0.11359455414596245, \"source\": \"smc2\"}, {\"idx\": 96, \"row\": 4, \"col\": 0, \"value\": -0.25723763329250066, \"source\": \"smc2\"}, {\"idx\": 97, \"row\": 4, \"col\": 0, \"value\": 0.29528949071366845, \"source\": \"smc2\"}, {\"idx\": 98, \"row\": 4, \"col\": 0, \"value\": -0.43909158848911994, \"source\": \"smc2\"}, {\"idx\": 99, \"row\": 4, \"col\": 0, \"value\": -0.1115805109320073, \"source\": \"smc2\"}, {\"idx\": 0, \"row\": 5, \"col\": 0, \"value\": 0.08672370447410806, \"source\": \"smc2\"}, {\"idx\": 1, \"row\": 5, \"col\": 0, \"value\": -0.1761296586259205, \"source\": \"smc2\"}, {\"idx\": 2, \"row\": 5, \"col\": 0, \"value\": 0.3313357190279103, \"source\": \"smc2\"}, {\"idx\": 3, \"row\": 5, \"col\": 0, \"value\": 0.4750855823568033, \"source\": \"smc2\"}, {\"idx\": 4, \"row\": 5, \"col\": 0, \"value\": -0.08248598745058755, \"source\": \"smc2\"}, {\"idx\": 5, \"row\": 5, \"col\": 0, \"value\": 0.09475700461065188, \"source\": \"smc2\"}, {\"idx\": 6, \"row\": 5, \"col\": 0, \"value\": -0.23012206880500427, \"source\": \"smc2\"}, {\"idx\": 7, \"row\": 5, \"col\": 0, \"value\": 0.05788327947067158, \"source\": \"smc2\"}, {\"idx\": 8, \"row\": 5, \"col\": 0, \"value\": 0.21827335147614907, \"source\": \"smc2\"}, {\"idx\": 9, \"row\": 5, \"col\": 0, \"value\": -0.7651309836441588, \"source\": \"smc2\"}, {\"idx\": 10, \"row\": 5, \"col\": 0, \"value\": 0.23053594324315896, \"source\": \"smc2\"}, {\"idx\": 11, \"row\": 5, \"col\": 0, \"value\": -0.20370508824688435, \"source\": \"smc2\"}, {\"idx\": 12, \"row\": 5, \"col\": 0, \"value\": -0.002009422483005456, \"source\": \"smc2\"}, {\"idx\": 13, \"row\": 5, \"col\": 0, \"value\": -0.09886298829572948, \"source\": \"smc2\"}, {\"idx\": 14, \"row\": 5, \"col\": 0, \"value\": -0.10707165202828736, \"source\": \"smc2\"}, {\"idx\": 15, \"row\": 5, \"col\": 0, \"value\": 0.8414620763178121, \"source\": \"smc2\"}, {\"idx\": 16, \"row\": 5, \"col\": 0, \"value\": 0.47289268795786454, \"source\": \"smc2\"}, {\"idx\": 17, \"row\": 5, \"col\": 0, \"value\": 0.6407988296388414, \"source\": \"smc2\"}, {\"idx\": 18, \"row\": 5, \"col\": 0, \"value\": 0.2948183883806053, \"source\": \"smc2\"}, {\"idx\": 19, \"row\": 5, \"col\": 0, \"value\": -0.29564864373588273, \"source\": \"smc2\"}, {\"idx\": 20, \"row\": 5, \"col\": 0, \"value\": -0.01707578393203041, \"source\": \"smc2\"}, {\"idx\": 21, \"row\": 5, \"col\": 0, \"value\": 0.3496598255699586, \"source\": \"smc2\"}, {\"idx\": 22, \"row\": 5, \"col\": 0, \"value\": 0.18570952514765748, \"source\": \"smc2\"}, {\"idx\": 23, \"row\": 5, \"col\": 0, \"value\": 0.38509182994667823, \"source\": \"smc2\"}, {\"idx\": 24, \"row\": 5, \"col\": 0, \"value\": -0.3822954584484993, \"source\": \"smc2\"}, {\"idx\": 25, \"row\": 5, \"col\": 0, \"value\": -0.3239549247173006, \"source\": \"smc2\"}, {\"idx\": 26, \"row\": 5, \"col\": 0, \"value\": 0.07106926551217921, \"source\": \"smc2\"}, {\"idx\": 27, \"row\": 5, \"col\": 0, \"value\": -0.0022039567789316292, \"source\": \"smc2\"}, {\"idx\": 28, \"row\": 5, \"col\": 0, \"value\": -0.00742011991471269, \"source\": \"smc2\"}, {\"idx\": 29, \"row\": 5, \"col\": 0, \"value\": -0.21961598482891545, \"source\": \"smc2\"}, {\"idx\": 30, \"row\": 5, \"col\": 0, \"value\": 0.3647383462023242, \"source\": \"smc2\"}, {\"idx\": 31, \"row\": 5, \"col\": 0, \"value\": 0.9026955582913422, \"source\": \"smc2\"}, {\"idx\": 32, \"row\": 5, \"col\": 0, \"value\": 0.024939184462234566, \"source\": \"smc2\"}, {\"idx\": 33, \"row\": 5, \"col\": 0, \"value\": 0.4307973715847699, \"source\": \"smc2\"}, {\"idx\": 34, \"row\": 5, \"col\": 0, \"value\": -0.3423031855188753, \"source\": \"smc2\"}, {\"idx\": 35, \"row\": 5, \"col\": 0, \"value\": -0.43625636267033885, \"source\": \"smc2\"}, {\"idx\": 36, \"row\": 5, \"col\": 0, \"value\": -0.1937908385199247, \"source\": \"smc2\"}, {\"idx\": 37, \"row\": 5, \"col\": 0, \"value\": 0.4440023082044425, \"source\": \"smc2\"}, {\"idx\": 38, \"row\": 5, \"col\": 0, \"value\": 0.09721858190946399, \"source\": \"smc2\"}, {\"idx\": 39, \"row\": 5, \"col\": 0, \"value\": 0.8290060270530621, \"source\": \"smc2\"}, {\"idx\": 40, \"row\": 5, \"col\": 0, \"value\": 0.13160225486427468, \"source\": \"smc2\"}, {\"idx\": 41, \"row\": 5, \"col\": 0, \"value\": -0.20768126714923674, \"source\": \"smc2\"}, {\"idx\": 42, \"row\": 5, \"col\": 0, \"value\": -0.7163140512684992, \"source\": \"smc2\"}, {\"idx\": 43, \"row\": 5, \"col\": 0, \"value\": -0.41286220817756974, \"source\": \"smc2\"}, {\"idx\": 44, \"row\": 5, \"col\": 0, \"value\": -0.4223216396082436, \"source\": \"smc2\"}, {\"idx\": 45, \"row\": 5, \"col\": 0, \"value\": 0.6740554129942824, \"source\": \"smc2\"}, {\"idx\": 46, \"row\": 5, \"col\": 0, \"value\": 0.125831138227822, \"source\": \"smc2\"}, {\"idx\": 47, \"row\": 5, \"col\": 0, \"value\": -0.10877551766273481, \"source\": \"smc2\"}, {\"idx\": 48, \"row\": 5, \"col\": 0, \"value\": -0.12113285429544679, \"source\": \"smc2\"}, {\"idx\": 49, \"row\": 5, \"col\": 0, \"value\": -0.2648312587408389, \"source\": \"smc2\"}, {\"idx\": 50, \"row\": 5, \"col\": 0, \"value\": 0.05365668872046578, \"source\": \"smc2\"}, {\"idx\": 51, \"row\": 5, \"col\": 0, \"value\": -0.1864924741281784, \"source\": \"smc2\"}, {\"idx\": 52, \"row\": 5, \"col\": 0, \"value\": -0.2949286005468265, \"source\": \"smc2\"}, {\"idx\": 53, \"row\": 5, \"col\": 0, \"value\": 0.4296479697375236, \"source\": \"smc2\"}, {\"idx\": 54, \"row\": 5, \"col\": 0, \"value\": -0.23576392043105668, \"source\": \"smc2\"}, {\"idx\": 55, \"row\": 5, \"col\": 0, \"value\": -0.4417653140604886, \"source\": \"smc2\"}, {\"idx\": 56, \"row\": 5, \"col\": 0, \"value\": 0.13921578955506161, \"source\": \"smc2\"}, {\"idx\": 57, \"row\": 5, \"col\": 0, \"value\": 0.08175528773571702, \"source\": \"smc2\"}, {\"idx\": 58, \"row\": 5, \"col\": 0, \"value\": -0.5188385963382433, \"source\": \"smc2\"}, {\"idx\": 59, \"row\": 5, \"col\": 0, \"value\": 0.8860914546339194, \"source\": \"smc2\"}, {\"idx\": 60, \"row\": 5, \"col\": 0, \"value\": -0.5510011595357062, \"source\": \"smc2\"}, {\"idx\": 61, \"row\": 5, \"col\": 0, \"value\": 0.24069886174983454, \"source\": \"smc2\"}, {\"idx\": 62, \"row\": 5, \"col\": 0, \"value\": 0.6860104335256206, \"source\": \"smc2\"}, {\"idx\": 63, \"row\": 5, \"col\": 0, \"value\": 0.6695385791410843, \"source\": \"smc2\"}, {\"idx\": 64, \"row\": 5, \"col\": 0, \"value\": -0.07643767938167653, \"source\": \"smc2\"}, {\"idx\": 65, \"row\": 5, \"col\": 0, \"value\": -0.12330956964175181, \"source\": \"smc2\"}, {\"idx\": 66, \"row\": 5, \"col\": 0, \"value\": -0.5094751671797763, \"source\": \"smc2\"}, {\"idx\": 67, \"row\": 5, \"col\": 0, \"value\": -0.6629841708015177, \"source\": \"smc2\"}, {\"idx\": 68, \"row\": 5, \"col\": 0, \"value\": 0.3653850623971473, \"source\": \"smc2\"}, {\"idx\": 69, \"row\": 5, \"col\": 0, \"value\": -0.46456131068258466, \"source\": \"smc2\"}, {\"idx\": 70, \"row\": 5, \"col\": 0, \"value\": 0.8964129032573621, \"source\": \"smc2\"}, {\"idx\": 71, \"row\": 5, \"col\": 0, \"value\": 0.5446935586097977, \"source\": \"smc2\"}, {\"idx\": 72, \"row\": 5, \"col\": 0, \"value\": 0.05706871455443381, \"source\": \"smc2\"}, {\"idx\": 73, \"row\": 5, \"col\": 0, \"value\": 0.1717085701654203, \"source\": \"smc2\"}, {\"idx\": 74, \"row\": 5, \"col\": 0, \"value\": 0.40966028218221484, \"source\": \"smc2\"}, {\"idx\": 75, \"row\": 5, \"col\": 0, \"value\": 0.43616413666206755, \"source\": \"smc2\"}, {\"idx\": 76, \"row\": 5, \"col\": 0, \"value\": 0.8313124181785341, \"source\": \"smc2\"}, {\"idx\": 77, \"row\": 5, \"col\": 0, \"value\": 0.04116481784978644, \"source\": \"smc2\"}, {\"idx\": 78, \"row\": 5, \"col\": 0, \"value\": 0.5547275745866064, \"source\": \"smc2\"}, {\"idx\": 79, \"row\": 5, \"col\": 0, \"value\": 0.5964897289713544, \"source\": \"smc2\"}, {\"idx\": 80, \"row\": 5, \"col\": 0, \"value\": 0.539421766439301, \"source\": \"smc2\"}, {\"idx\": 81, \"row\": 5, \"col\": 0, \"value\": 0.9315352808586915, \"source\": \"smc2\"}, {\"idx\": 82, \"row\": 5, \"col\": 0, \"value\": -0.1742486511157202, \"source\": \"smc2\"}, {\"idx\": 83, \"row\": 5, \"col\": 0, \"value\": 0.16175307081535073, \"source\": \"smc2\"}, {\"idx\": 84, \"row\": 5, \"col\": 0, \"value\": 0.29164368195574825, \"source\": \"smc2\"}, {\"idx\": 85, \"row\": 5, \"col\": 0, \"value\": 0.2822743813117071, \"source\": \"smc2\"}, {\"idx\": 86, \"row\": 5, \"col\": 0, \"value\": 0.2307313793206291, \"source\": \"smc2\"}, {\"idx\": 87, \"row\": 5, \"col\": 0, \"value\": -0.0855286885583547, \"source\": \"smc2\"}, {\"idx\": 88, \"row\": 5, \"col\": 0, \"value\": 0.4905683061642406, \"source\": \"smc2\"}, {\"idx\": 89, \"row\": 5, \"col\": 0, \"value\": -0.14324062379476862, \"source\": \"smc2\"}, {\"idx\": 90, \"row\": 5, \"col\": 0, \"value\": -0.15721438914159352, \"source\": \"smc2\"}, {\"idx\": 91, \"row\": 5, \"col\": 0, \"value\": -0.36648191482296405, \"source\": \"smc2\"}, {\"idx\": 92, \"row\": 5, \"col\": 0, \"value\": 0.054165923315546205, \"source\": \"smc2\"}, {\"idx\": 93, \"row\": 5, \"col\": 0, \"value\": -0.059852954065998366, \"source\": \"smc2\"}, {\"idx\": 94, \"row\": 5, \"col\": 0, \"value\": 0.4522611782153497, \"source\": \"smc2\"}, {\"idx\": 95, \"row\": 5, \"col\": 0, \"value\": -0.42330972765413516, \"source\": \"smc2\"}, {\"idx\": 96, \"row\": 5, \"col\": 0, \"value\": 0.5272985773585975, \"source\": \"smc2\"}, {\"idx\": 97, \"row\": 5, \"col\": 0, \"value\": -0.41085462742193823, \"source\": \"smc2\"}, {\"idx\": 98, \"row\": 5, \"col\": 0, \"value\": 0.17652088505312838, \"source\": \"smc2\"}, {\"idx\": 99, \"row\": 5, \"col\": 0, \"value\": 0.4894486482664742, \"source\": \"smc2\"}]}}, {\"mode\": \"vega-lite\"});\n",
       "</script>"
      ],
      "text/plain": [
       "alt.Chart(...)"
      ]
     },
     "execution_count": 28,
     "metadata": {},
     "output_type": "execute_result"
    }
   ],
   "source": [
    "param = 'beta'\n",
    "df = get_post_df(ps_smc2[param]) \n",
    "df['source'] = 'smc2'\n",
    "plot_density(df, height=100)"
   ]
  },
  {
   "cell_type": "markdown",
   "metadata": {},
   "source": [
    "## Plot MCMC samples"
   ]
  },
  {
   "cell_type": "code",
   "execution_count": 29,
   "metadata": {},
   "outputs": [
    {
     "data": {
      "text/html": [
       "\n",
       "<div id=\"altair-viz-88d17938d4bc44d7a1b3b145e9d176f4\"></div>\n",
       "<script type=\"text/javascript\">\n",
       "  (function(spec, embedOpt){\n",
       "    let outputDiv = document.currentScript.previousElementSibling;\n",
       "    if (outputDiv.id !== \"altair-viz-88d17938d4bc44d7a1b3b145e9d176f4\") {\n",
       "      outputDiv = document.getElementById(\"altair-viz-88d17938d4bc44d7a1b3b145e9d176f4\");\n",
       "    }\n",
       "    const paths = {\n",
       "      \"vega\": \"https://cdn.jsdelivr.net/npm//vega@5?noext\",\n",
       "      \"vega-lib\": \"https://cdn.jsdelivr.net/npm//vega-lib?noext\",\n",
       "      \"vega-lite\": \"https://cdn.jsdelivr.net/npm//vega-lite@4.8.1?noext\",\n",
       "      \"vega-embed\": \"https://cdn.jsdelivr.net/npm//vega-embed@6?noext\",\n",
       "    };\n",
       "\n",
       "    function loadScript(lib) {\n",
       "      return new Promise(function(resolve, reject) {\n",
       "        var s = document.createElement('script');\n",
       "        s.src = paths[lib];\n",
       "        s.async = true;\n",
       "        s.onload = () => resolve(paths[lib]);\n",
       "        s.onerror = () => reject(`Error loading script: ${paths[lib]}`);\n",
       "        document.getElementsByTagName(\"head\")[0].appendChild(s);\n",
       "      });\n",
       "    }\n",
       "\n",
       "    function showError(err) {\n",
       "      outputDiv.innerHTML = `<div class=\"error\" style=\"color:red;\">${err}</div>`;\n",
       "      throw err;\n",
       "    }\n",
       "\n",
       "    function displayChart(vegaEmbed) {\n",
       "      vegaEmbed(outputDiv, spec, embedOpt)\n",
       "        .catch(err => showError(`Javascript Error: ${err.message}<br>This usually means there's a typo in your chart specification. See the javascript console for the full traceback.`));\n",
       "    }\n",
       "\n",
       "    if(typeof define === \"function\" && define.amd) {\n",
       "      requirejs.config({paths});\n",
       "      require([\"vega-embed\"], displayChart, err => showError(`Error loading script: ${err.message}`));\n",
       "    } else if (typeof vegaEmbed === \"function\") {\n",
       "      displayChart(vegaEmbed);\n",
       "    } else {\n",
       "      loadScript(\"vega\")\n",
       "        .then(() => loadScript(\"vega-lite\"))\n",
       "        .then(() => loadScript(\"vega-embed\"))\n",
       "        .catch(showError)\n",
       "        .then(() => displayChart(vegaEmbed));\n",
       "    }\n",
       "  })({\"config\": {\"view\": {\"continuousWidth\": 400, \"continuousHeight\": 300}}, \"data\": {\"name\": \"data-a244ff46c53115b30feeb33a1b572bf6\"}, \"mark\": {\"type\": \"bar\", \"opacity\": 0.6}, \"encoding\": {\"color\": {\"type\": \"nominal\", \"field\": \"source\"}, \"column\": {\"type\": \"quantitative\", \"field\": \"col\"}, \"row\": {\"type\": \"quantitative\", \"field\": \"row\"}, \"x\": {\"type\": \"quantitative\", \"field\": \"q1\", \"title\": null}, \"x2\": {\"field\": \"q2\", \"title\": null}}, \"$schema\": \"https://vega.github.io/schema/vega-lite/v4.8.1.json\", \"datasets\": {\"data-a244ff46c53115b30feeb33a1b572bf6\": [{\"row\": 0, \"col\": 0, \"q1\": 0.010463385580286063, \"q2\": 0.7157756533769719, \"source\": \"smc2\"}, {\"row\": 1, \"col\": 0, \"q1\": -0.38750562343497585, \"q2\": 0.7391851058604326, \"source\": \"smc2\"}, {\"row\": 2, \"col\": 0, \"q1\": -0.5706894416607239, \"q2\": 0.7974608611861101, \"source\": \"smc2\"}, {\"row\": 3, \"col\": 0, \"q1\": -0.5573274569330647, \"q2\": 0.7096326345674798, \"source\": \"smc2\"}, {\"row\": 4, \"col\": 0, \"q1\": -0.43746116425671194, \"q2\": 0.848436101097329, \"source\": \"smc2\"}, {\"row\": 5, \"col\": 0, \"q1\": -0.6097922404502573, \"q2\": 0.8915102151612267, \"source\": \"smc2\"}]}}, {\"mode\": \"vega-lite\"});\n",
       "</script>"
      ],
      "text/plain": [
       "alt.Chart(...)"
      ]
     },
     "execution_count": 29,
     "metadata": {},
     "output_type": "execute_result"
    }
   ],
   "source": [
    "param = 'beta'\n",
    "df = get_post_df(ps_smc2[param])\n",
    "df_quant = df.groupby(['row', 'col'])[['value']].quantile(0.025).reset_index()\n",
    "df_quant.rename({'value':'q1'}, axis=1, inplace=True)\n",
    "df_quant2 = df.groupby(['row', 'col'])[['value']].quantile(0.975).reset_index()\n",
    "df_quant2.rename({'value':'q2'}, axis=1, inplace=True)\n",
    "\n",
    "df = df_quant.merge(df_quant2, on=['row', 'col'])\n",
    "\n",
    "# simple quantile chart\n",
    "df['source'] = 'smc2'\n",
    "c1 = alt.Chart(df).mark_bar(opacity=0.6).encode(\n",
    "        alt.X('q1', title=None),\n",
    "        alt.X2('q2', title=None),\n",
    "        alt.Row('row'),\n",
    "        alt.Column('col'),\n",
    "        alt.Color('source')\n",
    ")\n",
    "c1"
   ]
  },
  {
   "cell_type": "code",
   "execution_count": 30,
   "metadata": {},
   "outputs": [],
   "source": [
    "df['index'] = 'r_' + df.row.astype(str)+'.c_'+df.col.astype(str)\n",
    "df = df.loc[:,['index', 'q1', 'q2']]\n",
    "df['source'] = 'smc2'\n",
    "dd = pd.DataFrame(exp_data.raw_data['beta'], columns=['data'])\n",
    "dd['col'] = 0\n",
    "dd['row'] = np.arange(6)\n",
    "dd['index'] = 'r_' + dd.row.astype(str)+'.c_'+dd.col.astype(str)\n",
    "dd = dd.loc[:,['index', 'data']]\n",
    "plot_data = df.merge(dd, on=['index'])"
   ]
  },
  {
   "cell_type": "code",
   "execution_count": 31,
   "metadata": {},
   "outputs": [
    {
     "data": {
      "text/html": [
       "\n",
       "<div id=\"altair-viz-e118b437ba0b409797ffc06d792c67b3\"></div>\n",
       "<script type=\"text/javascript\">\n",
       "  (function(spec, embedOpt){\n",
       "    let outputDiv = document.currentScript.previousElementSibling;\n",
       "    if (outputDiv.id !== \"altair-viz-e118b437ba0b409797ffc06d792c67b3\") {\n",
       "      outputDiv = document.getElementById(\"altair-viz-e118b437ba0b409797ffc06d792c67b3\");\n",
       "    }\n",
       "    const paths = {\n",
       "      \"vega\": \"https://cdn.jsdelivr.net/npm//vega@5?noext\",\n",
       "      \"vega-lib\": \"https://cdn.jsdelivr.net/npm//vega-lib?noext\",\n",
       "      \"vega-lite\": \"https://cdn.jsdelivr.net/npm//vega-lite@4.8.1?noext\",\n",
       "      \"vega-embed\": \"https://cdn.jsdelivr.net/npm//vega-embed@6?noext\",\n",
       "    };\n",
       "\n",
       "    function loadScript(lib) {\n",
       "      return new Promise(function(resolve, reject) {\n",
       "        var s = document.createElement('script');\n",
       "        s.src = paths[lib];\n",
       "        s.async = true;\n",
       "        s.onload = () => resolve(paths[lib]);\n",
       "        s.onerror = () => reject(`Error loading script: ${paths[lib]}`);\n",
       "        document.getElementsByTagName(\"head\")[0].appendChild(s);\n",
       "      });\n",
       "    }\n",
       "\n",
       "    function showError(err) {\n",
       "      outputDiv.innerHTML = `<div class=\"error\" style=\"color:red;\">${err}</div>`;\n",
       "      throw err;\n",
       "    }\n",
       "\n",
       "    function displayChart(vegaEmbed) {\n",
       "      vegaEmbed(outputDiv, spec, embedOpt)\n",
       "        .catch(err => showError(`Javascript Error: ${err.message}<br>This usually means there's a typo in your chart specification. See the javascript console for the full traceback.`));\n",
       "    }\n",
       "\n",
       "    if(typeof define === \"function\" && define.amd) {\n",
       "      requirejs.config({paths});\n",
       "      require([\"vega-embed\"], displayChart, err => showError(`Error loading script: ${err.message}`));\n",
       "    } else if (typeof vegaEmbed === \"function\") {\n",
       "      displayChart(vegaEmbed);\n",
       "    } else {\n",
       "      loadScript(\"vega\")\n",
       "        .then(() => loadScript(\"vega-lite\"))\n",
       "        .then(() => loadScript(\"vega-embed\"))\n",
       "        .catch(showError)\n",
       "        .then(() => displayChart(vegaEmbed));\n",
       "    }\n",
       "  })({\"config\": {\"view\": {\"continuousWidth\": 400, \"continuousHeight\": 300}}, \"data\": {\"name\": \"data-688cc4e8376f2597f681db17c60f3e2c\"}, \"facet\": {\"type\": \"nominal\", \"field\": \"index\"}, \"spec\": {\"layer\": [{\"mark\": {\"type\": \"bar\", \"opacity\": 0.6}, \"encoding\": {\"color\": {\"type\": \"nominal\", \"field\": \"source\"}, \"x\": {\"type\": \"quantitative\", \"field\": \"q1\", \"scale\": {\"domain\": [-2, 2]}, \"title\": null}, \"x2\": {\"field\": \"q2\", \"title\": null}}}, {\"mark\": {\"type\": \"point\", \"color\": \"red\", \"opacity\": 1}, \"encoding\": {\"x\": {\"type\": \"quantitative\", \"field\": \"data\", \"title\": null}}}]}, \"columns\": 1, \"$schema\": \"https://vega.github.io/schema/vega-lite/v4.8.1.json\", \"datasets\": {\"data-688cc4e8376f2597f681db17c60f3e2c\": [{\"index\": \"r_0.c_0\", \"q1\": 0.010463385580286063, \"q2\": 0.7157756533769719, \"source\": \"smc2\", \"data\": 1.0}, {\"index\": \"r_1.c_0\", \"q1\": -0.38750562343497585, \"q2\": 0.7391851058604326, \"source\": \"smc2\", \"data\": 0.7}, {\"index\": \"r_2.c_0\", \"q1\": -0.5706894416607239, \"q2\": 0.7974608611861101, \"source\": \"smc2\", \"data\": 0.8}, {\"index\": \"r_3.c_0\", \"q1\": -0.5573274569330647, \"q2\": 0.7096326345674798, \"source\": \"smc2\", \"data\": 0.5}, {\"index\": \"r_4.c_0\", \"q1\": -0.43746116425671194, \"q2\": 0.848436101097329, \"source\": \"smc2\", \"data\": 0.9}, {\"index\": \"r_5.c_0\", \"q1\": -0.6097922404502573, \"q2\": 0.8915102151612267, \"source\": \"smc2\", \"data\": 0.6}]}}, {\"mode\": \"vega-lite\"});\n",
       "</script>"
      ],
      "text/plain": [
       "alt.FacetChart(...)"
      ]
     },
     "execution_count": 31,
     "metadata": {},
     "output_type": "execute_result"
    }
   ],
   "source": [
    "c1 = alt.Chart(plot_data).mark_bar(opacity=0.6).encode(\n",
    "    alt.X('q1', title=None,  scale=alt.Scale(domain=[-2,2])),\n",
    "    alt.X2('q2', title=None),\n",
    "    alt.Color('source'),    \n",
    ")\n",
    "    \n",
    "\n",
    "c2 = alt.Chart(plot_data).mark_point(opacity=1, color='red').encode(\n",
    "        alt.X('data', title=None),\n",
    ")\n",
    "(c1+c2).facet(\n",
    "       'index',\n",
    "    columns=1\n",
    "    )\n"
   ]
  },
  {
   "cell_type": "code",
   "execution_count": 32,
   "metadata": {},
   "outputs": [
    {
     "data": {
      "text/plain": [
       "8.840333720190472"
      ]
     },
     "execution_count": 32,
     "metadata": {},
     "output_type": "execute_result"
    }
   ],
   "source": [
    "load_obj('marg_lklhd', log_dir)"
   ]
  },
  {
   "cell_type": "code",
   "execution_count": null,
   "metadata": {},
   "outputs": [],
   "source": []
  },
  {
   "cell_type": "code",
   "execution_count": null,
   "metadata": {},
   "outputs": [],
   "source": []
  }
 ],
 "metadata": {
  "kernelspec": {
   "display_name": "Python 3",
   "language": "python",
   "name": "python3"
  },
  "language_info": {
   "codemirror_mode": {
    "name": "ipython",
    "version": 3
   },
   "file_extension": ".py",
   "mimetype": "text/x-python",
   "name": "python",
   "nbconvert_exporter": "python",
   "pygments_lexer": "ipython3",
   "version": "3.7.4"
  }
 },
 "nbformat": 4,
 "nbformat_minor": 2
}
