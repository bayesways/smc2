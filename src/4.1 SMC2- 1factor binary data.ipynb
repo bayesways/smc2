{
 "cells": [
  {
   "cell_type": "code",
   "execution_count": 27,
   "metadata": {},
   "outputs": [
    {
     "data": {
      "text/plain": [
       "DataTransformerRegistry.enable('default')"
      ]
     },
     "execution_count": 27,
     "metadata": {},
     "output_type": "execute_result"
    }
   ],
   "source": [
    "import pandas as pd\n",
    "import numpy as np\n",
    "from codebase.file_utils import (\n",
    "    save_obj,\n",
    "    load_obj,\n",
    ")\n",
    "from codebase.plot import plot_density, plot_line, get_post_df\n",
    "import altair as alt\n",
    "from codebase.classes_data import Data\n",
    "from codebase.ibis import exp_and_normalise\n",
    "from run_ibis_lvm import run_ibis_lvm\n",
    "from codebase.file_utils import (\n",
    "    save_obj,\n",
    "    load_obj,\n",
    "    make_folder,\n",
    "    path_backslash\n",
    ")\n",
    "from pdb import set_trace\n",
    "from copy import copy\n",
    "\n",
    "\n",
    "alt.data_transformers.disable_max_rows()\n"
   ]
  },
  {
   "cell_type": "code",
   "execution_count": 32,
   "metadata": {},
   "outputs": [
    {
     "name": "stdout",
     "output_type": "stream",
     "text": [
      "197\n"
     ]
    }
   ],
   "source": [
    "log_dir = 'log/20210129_225154_testsmc2_second/'\n",
    "exp_data = load_obj('data', log_dir)\n",
    "t = load_obj('t', log_dir)\n",
    "print(t)"
   ]
  },
  {
   "cell_type": "markdown",
   "metadata": {},
   "source": [
    "##"
   ]
  },
  {
   "cell_type": "code",
   "execution_count": 33,
   "metadata": {},
   "outputs": [
    {
     "ename": "ModuleNotFoundError",
     "evalue": "No module named 'codebase.classes_ibis_lvm2'",
     "output_type": "error",
     "traceback": [
      "\u001b[0;31m---------------------------------------------------------------------\u001b[0m",
      "\u001b[0;31mModuleNotFoundError\u001b[0m                 Traceback (most recent call last)",
      "\u001b[0;32m<ipython-input-33-a6d175fa28b2>\u001b[0m in \u001b[0;36m<module>\u001b[0;34m\u001b[0m\n\u001b[0;32m----> 1\u001b[0;31m \u001b[0mparticles\u001b[0m \u001b[0;34m=\u001b[0m \u001b[0mload_obj\u001b[0m\u001b[0;34m(\u001b[0m\u001b[0;34m'particles'\u001b[0m\u001b[0;34m,\u001b[0m \u001b[0mlog_dir\u001b[0m\u001b[0;34m)\u001b[0m\u001b[0;34m\u001b[0m\u001b[0;34m\u001b[0m\u001b[0m\n\u001b[0m\u001b[1;32m      2\u001b[0m \u001b[0;31m# particles.particles[5].particles['beta']\u001b[0m\u001b[0;34m\u001b[0m\u001b[0;34m\u001b[0m\u001b[0;34m\u001b[0m\u001b[0m\n",
      "\u001b[0;32m~/myPhD/smc2/src/codebase/file_utils.py\u001b[0m in \u001b[0;36mload_obj\u001b[0;34m(name, dir)\u001b[0m\n\u001b[1;32m     14\u001b[0m \u001b[0;32mdef\u001b[0m \u001b[0mload_obj\u001b[0m\u001b[0;34m(\u001b[0m\u001b[0mname\u001b[0m\u001b[0;34m,\u001b[0m \u001b[0mdir\u001b[0m \u001b[0;34m)\u001b[0m\u001b[0;34m:\u001b[0m\u001b[0;34m\u001b[0m\u001b[0;34m\u001b[0m\u001b[0m\n\u001b[1;32m     15\u001b[0m     \u001b[0;32mwith\u001b[0m \u001b[0mopen\u001b[0m\u001b[0;34m(\u001b[0m\u001b[0mdir\u001b[0m\u001b[0;34m+\u001b[0m \u001b[0mname\u001b[0m \u001b[0;34m+\u001b[0m \u001b[0;34m'.p'\u001b[0m\u001b[0;34m,\u001b[0m \u001b[0;34m'rb'\u001b[0m\u001b[0;34m)\u001b[0m \u001b[0;32mas\u001b[0m \u001b[0mf\u001b[0m\u001b[0;34m:\u001b[0m\u001b[0;34m\u001b[0m\u001b[0;34m\u001b[0m\u001b[0m\n\u001b[0;32m---> 16\u001b[0;31m         \u001b[0;32mreturn\u001b[0m \u001b[0mpickle\u001b[0m\u001b[0;34m.\u001b[0m\u001b[0mload\u001b[0m\u001b[0;34m(\u001b[0m\u001b[0mf\u001b[0m\u001b[0;34m)\u001b[0m\u001b[0;34m\u001b[0m\u001b[0;34m\u001b[0m\u001b[0m\n\u001b[0m\u001b[1;32m     17\u001b[0m \u001b[0;34m\u001b[0m\u001b[0m\n\u001b[1;32m     18\u001b[0m \u001b[0;32mdef\u001b[0m \u001b[0mmake_folder\u001b[0m\u001b[0;34m(\u001b[0m\u001b[0mtask_handle\u001b[0m\u001b[0;34m)\u001b[0m\u001b[0;34m:\u001b[0m\u001b[0;34m\u001b[0m\u001b[0;34m\u001b[0m\u001b[0m\n",
      "\u001b[0;31mModuleNotFoundError\u001b[0m: No module named 'codebase.classes_ibis_lvm2'"
     ]
    }
   ],
   "source": [
    "particles = load_obj('particles', log_dir)\n",
    "# particles.particles[5].particles['beta']"
   ]
  },
  {
   "cell_type": "code",
   "execution_count": 14,
   "metadata": {},
   "outputs": [
    {
     "data": {
      "text/plain": [
       "50"
      ]
     },
     "execution_count": 14,
     "metadata": {},
     "output_type": "execute_result"
    }
   ],
   "source": [
    "exp_data.size"
   ]
  },
  {
   "cell_type": "code",
   "execution_count": 15,
   "metadata": {},
   "outputs": [
    {
     "data": {
      "text/plain": [
       "array([False,  True, False,  True, False, False, False,  True, False,\n",
       "       False,  True,  True, False,  True, False, False,  True,  True,\n",
       "       False, False,  True, False, False, False,  True, False, False,\n",
       "       False, False,  True, False, False, False, False, False,  True,\n",
       "       False, False, False, False, False, False,  True, False, False,\n",
       "        True, False, False, False, False])"
      ]
     },
     "execution_count": 15,
     "metadata": {},
     "output_type": "execute_result"
    }
   ],
   "source": [
    "particles.get_threshold_ess_indicator()"
   ]
  },
  {
   "cell_type": "code",
   "execution_count": 16,
   "metadata": {},
   "outputs": [
    {
     "data": {
      "text/plain": [
       "array([1.        , 1.        , 1.        , 0.84615385, 0.58333333,\n",
       "       0.5       , 0.08333333, 1.        , 1.        , 0.72727273,\n",
       "       0.72727273, 0.8       , 1.        , 0.55555556, 1.        ,\n",
       "       1.        , 1.        , 1.        , 0.83333333, 1.        ,\n",
       "       1.        , 1.        , 0.8       , 0.8       , 1.        ,\n",
       "       1.        , 0.75      , 1.        , 1.        , 1.        ,\n",
       "       1.        , 1.        , 1.        , 1.        , 0.66666667,\n",
       "       1.        , 1.        , 1.        , 1.        , 1.        ,\n",
       "       1.        , 1.        , 1.        , 1.        , 1.        ,\n",
       "       1.        ,        nan,        nan,        nan,        nan])"
      ]
     },
     "execution_count": 16,
     "metadata": {},
     "output_type": "execute_result"
    }
   ],
   "source": [
    "particles.get_acceptance_rate_for_particle_m(0)"
   ]
  },
  {
   "cell_type": "code",
   "execution_count": 17,
   "metadata": {},
   "outputs": [
    {
     "ename": "AttributeError",
     "evalue": "'ParticlesLVM' object has no attribute 'jitter_corrs'",
     "output_type": "error",
     "traceback": [
      "\u001b[0;31m---------------------------------------------------------------------\u001b[0m",
      "\u001b[0;31mAttributeError\u001b[0m                      Traceback (most recent call last)",
      "\u001b[0;32m<ipython-input-17-8c9b6b744967>\u001b[0m in \u001b[0;36m<module>\u001b[0;34m\u001b[0m\n\u001b[0;32m----> 1\u001b[0;31m \u001b[0mparticles\u001b[0m\u001b[0;34m.\u001b[0m\u001b[0mjitter_corrs\u001b[0m\u001b[0;34m\u001b[0m\u001b[0;34m\u001b[0m\u001b[0m\n\u001b[0m",
      "\u001b[0;31mAttributeError\u001b[0m: 'ParticlesLVM' object has no attribute 'jitter_corrs'"
     ]
    }
   ],
   "source": [
    "particles.jitter_corrs"
   ]
  },
  {
   "cell_type": "code",
   "execution_count": 18,
   "metadata": {},
   "outputs": [
    {
     "ename": "NameError",
     "evalue": "name 'accs' is not defined",
     "output_type": "error",
     "traceback": [
      "\u001b[0;31m---------------------------------------------------------------------\u001b[0m",
      "\u001b[0;31mNameError\u001b[0m                           Traceback (most recent call last)",
      "\u001b[0;32m<ipython-input-18-9373f0cf5a8e>\u001b[0m in \u001b[0;36m<module>\u001b[0;34m\u001b[0m\n\u001b[0;32m----> 1\u001b[0;31m \u001b[0maccs\u001b[0m\u001b[0;34m/\u001b[0m\u001b[0mtrials\u001b[0m\u001b[0;34m\u001b[0m\u001b[0;34m\u001b[0m\u001b[0m\n\u001b[0m",
      "\u001b[0;31mNameError\u001b[0m: name 'accs' is not defined"
     ]
    }
   ],
   "source": [
    "accs/trials"
   ]
  },
  {
   "cell_type": "code",
   "execution_count": 19,
   "metadata": {},
   "outputs": [],
   "source": [
    "particles.resample_particles_bundles()"
   ]
  },
  {
   "cell_type": "code",
   "execution_count": 5,
   "metadata": {},
   "outputs": [],
   "source": [
    "particles.jitter(exp_data.get_stan_data_upto_t(t + 1))\n"
   ]
  },
  {
   "cell_type": "code",
   "execution_count": 20,
   "metadata": {},
   "outputs": [],
   "source": [
    "ps = dict()\n",
    "samples = np.empty((particles.size, 1, 6))\n",
    "for i in range(particles.size):\n",
    "    samples[i] = particles.particles[i].particles['alpha']\n",
    "ps['alpha'] = samples\n",
    "samples = np.empty((particles.size, 6, 1))\n",
    "for i in range(particles.size):\n",
    "    samples[i] = particles.particles[i].particles['beta']\n",
    "ps['beta'] = samples"
   ]
  },
  {
   "cell_type": "markdown",
   "metadata": {},
   "source": [
    "## Or load existing directory"
   ]
  },
  {
   "cell_type": "code",
   "execution_count": 7,
   "metadata": {},
   "outputs": [],
   "source": [
    "# log_dir = '/log/20210122_173348_mcmc_ibis_adapt9/'\n",
    "# ps = load_obj( 'mcmc_post_samples', log_dir)\n",
    "# ps['beta'] = ps['beta'][num_warmup:].copy()"
   ]
  },
  {
   "cell_type": "code",
   "execution_count": 8,
   "metadata": {},
   "outputs": [
    {
     "data": {
      "text/plain": [
       "(1000, 6, 1)"
      ]
     },
     "execution_count": 8,
     "metadata": {},
     "output_type": "execute_result"
    }
   ],
   "source": [
    "ps['beta'].shape"
   ]
  },
  {
   "cell_type": "markdown",
   "metadata": {},
   "source": [
    "## Post process loadings for sign flips"
   ]
  },
  {
   "cell_type": "code",
   "execution_count": 21,
   "metadata": {},
   "outputs": [],
   "source": [
    "nsim = ps['beta'].shape[0]\n",
    "nrows = ps['beta'].shape[1]\n",
    "for n in range(nsim):\n",
    "    for i in range(nrows):\n",
    "        sign = np.sign(ps['beta'][n,0])\n",
    "        ps['beta'][n] = sign * ps['beta'][n,]"
   ]
  },
  {
   "cell_type": "code",
   "execution_count": 22,
   "metadata": {},
   "outputs": [
    {
     "name": "stderr",
     "output_type": "stream",
     "text": [
      "INFO:numexpr.utils:Note: NumExpr detected 24 cores but \"NUMEXPR_MAX_THREADS\" not set, so enforcing safe limit of 8.\n",
      "INFO:numexpr.utils:NumExpr defaulting to 8 threads.\n"
     ]
    },
    {
     "data": {
      "text/html": [
       "\n",
       "<div id=\"altair-viz-5903253d799e4a5b8919f0938805712f\"></div>\n",
       "<script type=\"text/javascript\">\n",
       "  (function(spec, embedOpt){\n",
       "    let outputDiv = document.currentScript.previousElementSibling;\n",
       "    if (outputDiv.id !== \"altair-viz-5903253d799e4a5b8919f0938805712f\") {\n",
       "      outputDiv = document.getElementById(\"altair-viz-5903253d799e4a5b8919f0938805712f\");\n",
       "    }\n",
       "    const paths = {\n",
       "      \"vega\": \"https://cdn.jsdelivr.net/npm//vega@5?noext\",\n",
       "      \"vega-lib\": \"https://cdn.jsdelivr.net/npm//vega-lib?noext\",\n",
       "      \"vega-lite\": \"https://cdn.jsdelivr.net/npm//vega-lite@4.8.1?noext\",\n",
       "      \"vega-embed\": \"https://cdn.jsdelivr.net/npm//vega-embed@6?noext\",\n",
       "    };\n",
       "\n",
       "    function loadScript(lib) {\n",
       "      return new Promise(function(resolve, reject) {\n",
       "        var s = document.createElement('script');\n",
       "        s.src = paths[lib];\n",
       "        s.async = true;\n",
       "        s.onload = () => resolve(paths[lib]);\n",
       "        s.onerror = () => reject(`Error loading script: ${paths[lib]}`);\n",
       "        document.getElementsByTagName(\"head\")[0].appendChild(s);\n",
       "      });\n",
       "    }\n",
       "\n",
       "    function showError(err) {\n",
       "      outputDiv.innerHTML = `<div class=\"error\" style=\"color:red;\">${err}</div>`;\n",
       "      throw err;\n",
       "    }\n",
       "\n",
       "    function displayChart(vegaEmbed) {\n",
       "      vegaEmbed(outputDiv, spec, embedOpt)\n",
       "        .catch(err => showError(`Javascript Error: ${err.message}<br>This usually means there's a typo in your chart specification. See the javascript console for the full traceback.`));\n",
       "    }\n",
       "\n",
       "    if(typeof define === \"function\" && define.amd) {\n",
       "      requirejs.config({paths});\n",
       "      require([\"vega-embed\"], displayChart, err => showError(`Error loading script: ${err.message}`));\n",
       "    } else if (typeof vegaEmbed === \"function\") {\n",
       "      displayChart(vegaEmbed);\n",
       "    } else {\n",
       "      loadScript(\"vega\")\n",
       "        .then(() => loadScript(\"vega-lite\"))\n",
       "        .then(() => loadScript(\"vega-embed\"))\n",
       "        .catch(showError)\n",
       "        .then(() => displayChart(vegaEmbed));\n",
       "    }\n",
       "  })({\"config\": {\"view\": {\"continuousWidth\": 400, \"continuousHeight\": 300}}, \"data\": {\"name\": \"data-ab74b4f6917e76a505b2fbbcb2f52f1b\"}, \"mark\": {\"type\": \"area\", \"opacity\": 0.5}, \"encoding\": {\"color\": {\"type\": \"nominal\", \"field\": \"source\"}, \"column\": {\"type\": \"quantitative\", \"field\": \"col\"}, \"row\": {\"type\": \"quantitative\", \"field\": \"row\"}, \"x\": {\"type\": \"quantitative\", \"field\": \"value\", \"title\": null}, \"y\": {\"type\": \"quantitative\", \"field\": \"density\"}}, \"height\": 100, \"resolve\": {\"scale\": {\"x\": \"independent\"}}, \"transform\": [{\"fold\": [\"value\"]}, {\"density\": \"value\", \"groupby\": [\"cn\", \"row\", \"col\", \"source\"]}], \"width\": 300, \"$schema\": \"https://vega.github.io/schema/vega-lite/v4.8.1.json\", \"datasets\": {\"data-ab74b4f6917e76a505b2fbbcb2f52f1b\": [{\"idx\": 0, \"row\": 0, \"col\": 0, \"value\": 0.12787955932173733, \"source\": \"mcmc\"}, {\"idx\": 1, \"row\": 0, \"col\": 0, \"value\": 0.12787955932173733, \"source\": \"mcmc\"}, {\"idx\": 2, \"row\": 0, \"col\": 0, \"value\": 0.12787955932173733, \"source\": \"mcmc\"}, {\"idx\": 3, \"row\": 0, \"col\": 0, \"value\": 0.12787955932173733, \"source\": \"mcmc\"}, {\"idx\": 4, \"row\": 0, \"col\": 0, \"value\": 0.12787955932173733, \"source\": \"mcmc\"}, {\"idx\": 5, \"row\": 0, \"col\": 0, \"value\": 0.12787955932173733, \"source\": \"mcmc\"}, {\"idx\": 6, \"row\": 0, \"col\": 0, \"value\": 0.12787955932173733, \"source\": \"mcmc\"}, {\"idx\": 7, \"row\": 0, \"col\": 0, \"value\": 0.12787955932173733, \"source\": \"mcmc\"}, {\"idx\": 8, \"row\": 0, \"col\": 0, \"value\": 0.12787955932173733, \"source\": \"mcmc\"}, {\"idx\": 9, \"row\": 0, \"col\": 0, \"value\": 0.12787955932173733, \"source\": \"mcmc\"}, {\"idx\": 0, \"row\": 1, \"col\": 0, \"value\": -0.06508962843453737, \"source\": \"mcmc\"}, {\"idx\": 1, \"row\": 1, \"col\": 0, \"value\": -0.06508962843453737, \"source\": \"mcmc\"}, {\"idx\": 2, \"row\": 1, \"col\": 0, \"value\": -0.06508962843453737, \"source\": \"mcmc\"}, {\"idx\": 3, \"row\": 1, \"col\": 0, \"value\": -0.06508962843453737, \"source\": \"mcmc\"}, {\"idx\": 4, \"row\": 1, \"col\": 0, \"value\": -0.06508962843453737, \"source\": \"mcmc\"}, {\"idx\": 5, \"row\": 1, \"col\": 0, \"value\": -0.06508962843453737, \"source\": \"mcmc\"}, {\"idx\": 6, \"row\": 1, \"col\": 0, \"value\": -0.06508962843453737, \"source\": \"mcmc\"}, {\"idx\": 7, \"row\": 1, \"col\": 0, \"value\": -0.06508962843453737, \"source\": \"mcmc\"}, {\"idx\": 8, \"row\": 1, \"col\": 0, \"value\": -0.06508962843453737, \"source\": \"mcmc\"}, {\"idx\": 9, \"row\": 1, \"col\": 0, \"value\": -0.06508962843453737, \"source\": \"mcmc\"}, {\"idx\": 0, \"row\": 2, \"col\": 0, \"value\": 0.778312270608075, \"source\": \"mcmc\"}, {\"idx\": 1, \"row\": 2, \"col\": 0, \"value\": 0.778312270608075, \"source\": \"mcmc\"}, {\"idx\": 2, \"row\": 2, \"col\": 0, \"value\": 0.778312270608075, \"source\": \"mcmc\"}, {\"idx\": 3, \"row\": 2, \"col\": 0, \"value\": 0.778312270608075, \"source\": \"mcmc\"}, {\"idx\": 4, \"row\": 2, \"col\": 0, \"value\": 0.778312270608075, \"source\": \"mcmc\"}, {\"idx\": 5, \"row\": 2, \"col\": 0, \"value\": 0.778312270608075, \"source\": \"mcmc\"}, {\"idx\": 6, \"row\": 2, \"col\": 0, \"value\": 0.778312270608075, \"source\": \"mcmc\"}, {\"idx\": 7, \"row\": 2, \"col\": 0, \"value\": 0.778312270608075, \"source\": \"mcmc\"}, {\"idx\": 8, \"row\": 2, \"col\": 0, \"value\": 0.778312270608075, \"source\": \"mcmc\"}, {\"idx\": 9, \"row\": 2, \"col\": 0, \"value\": 0.778312270608075, \"source\": \"mcmc\"}, {\"idx\": 0, \"row\": 3, \"col\": 0, \"value\": 0.3292935193640175, \"source\": \"mcmc\"}, {\"idx\": 1, \"row\": 3, \"col\": 0, \"value\": 0.3292935193640175, \"source\": \"mcmc\"}, {\"idx\": 2, \"row\": 3, \"col\": 0, \"value\": 0.3292935193640175, \"source\": \"mcmc\"}, {\"idx\": 3, \"row\": 3, \"col\": 0, \"value\": 0.3292935193640175, \"source\": \"mcmc\"}, {\"idx\": 4, \"row\": 3, \"col\": 0, \"value\": 0.3292935193640175, \"source\": \"mcmc\"}, {\"idx\": 5, \"row\": 3, \"col\": 0, \"value\": 0.3292935193640175, \"source\": \"mcmc\"}, {\"idx\": 6, \"row\": 3, \"col\": 0, \"value\": 0.3292935193640175, \"source\": \"mcmc\"}, {\"idx\": 7, \"row\": 3, \"col\": 0, \"value\": 0.3292935193640175, \"source\": \"mcmc\"}, {\"idx\": 8, \"row\": 3, \"col\": 0, \"value\": 0.3292935193640175, \"source\": \"mcmc\"}, {\"idx\": 9, \"row\": 3, \"col\": 0, \"value\": 0.3292935193640175, \"source\": \"mcmc\"}, {\"idx\": 0, \"row\": 4, \"col\": 0, \"value\": -0.3349349581190836, \"source\": \"mcmc\"}, {\"idx\": 1, \"row\": 4, \"col\": 0, \"value\": -0.3349349581190836, \"source\": \"mcmc\"}, {\"idx\": 2, \"row\": 4, \"col\": 0, \"value\": -0.3349349581190836, \"source\": \"mcmc\"}, {\"idx\": 3, \"row\": 4, \"col\": 0, \"value\": -0.3349349581190836, \"source\": \"mcmc\"}, {\"idx\": 4, \"row\": 4, \"col\": 0, \"value\": -0.3349349581190836, \"source\": \"mcmc\"}, {\"idx\": 5, \"row\": 4, \"col\": 0, \"value\": -0.3349349581190836, \"source\": \"mcmc\"}, {\"idx\": 6, \"row\": 4, \"col\": 0, \"value\": -0.3349349581190836, \"source\": \"mcmc\"}, {\"idx\": 7, \"row\": 4, \"col\": 0, \"value\": -0.3349349581190836, \"source\": \"mcmc\"}, {\"idx\": 8, \"row\": 4, \"col\": 0, \"value\": -0.3349349581190836, \"source\": \"mcmc\"}, {\"idx\": 9, \"row\": 4, \"col\": 0, \"value\": -0.3349349581190836, \"source\": \"mcmc\"}, {\"idx\": 0, \"row\": 5, \"col\": 0, \"value\": 0.20469201621114055, \"source\": \"mcmc\"}, {\"idx\": 1, \"row\": 5, \"col\": 0, \"value\": 0.20469201621114055, \"source\": \"mcmc\"}, {\"idx\": 2, \"row\": 5, \"col\": 0, \"value\": 0.20469201621114055, \"source\": \"mcmc\"}, {\"idx\": 3, \"row\": 5, \"col\": 0, \"value\": 0.20469201621114055, \"source\": \"mcmc\"}, {\"idx\": 4, \"row\": 5, \"col\": 0, \"value\": 0.20469201621114055, \"source\": \"mcmc\"}, {\"idx\": 5, \"row\": 5, \"col\": 0, \"value\": 0.20469201621114055, \"source\": \"mcmc\"}, {\"idx\": 6, \"row\": 5, \"col\": 0, \"value\": 0.20469201621114055, \"source\": \"mcmc\"}, {\"idx\": 7, \"row\": 5, \"col\": 0, \"value\": 0.20469201621114055, \"source\": \"mcmc\"}, {\"idx\": 8, \"row\": 5, \"col\": 0, \"value\": 0.20469201621114055, \"source\": \"mcmc\"}, {\"idx\": 9, \"row\": 5, \"col\": 0, \"value\": 0.20469201621114055, \"source\": \"mcmc\"}]}}, {\"mode\": \"vega-lite\"});\n",
       "</script>"
      ],
      "text/plain": [
       "alt.Chart(...)"
      ]
     },
     "execution_count": 22,
     "metadata": {},
     "output_type": "execute_result"
    }
   ],
   "source": [
    "param = 'beta'\n",
    "df = get_post_df(ps[param]) \n",
    "df['source'] = 'mcmc'\n",
    "plot_density(df, height=100)"
   ]
  },
  {
   "cell_type": "markdown",
   "metadata": {},
   "source": [
    "## Plot MCMC samples"
   ]
  },
  {
   "cell_type": "code",
   "execution_count": 10,
   "metadata": {},
   "outputs": [
    {
     "name": "stderr",
     "output_type": "stream",
     "text": [
      "INFO:numexpr.utils:Note: NumExpr detected 24 cores but \"NUMEXPR_MAX_THREADS\" not set, so enforcing safe limit of 8.\n",
      "INFO:numexpr.utils:NumExpr defaulting to 8 threads.\n"
     ]
    },
    {
     "data": {
      "text/html": [
       "\n",
       "<div id=\"altair-viz-f2a1cb0e953a4fb987e9c119a14586cf\"></div>\n",
       "<script type=\"text/javascript\">\n",
       "  (function(spec, embedOpt){\n",
       "    let outputDiv = document.currentScript.previousElementSibling;\n",
       "    if (outputDiv.id !== \"altair-viz-f2a1cb0e953a4fb987e9c119a14586cf\") {\n",
       "      outputDiv = document.getElementById(\"altair-viz-f2a1cb0e953a4fb987e9c119a14586cf\");\n",
       "    }\n",
       "    const paths = {\n",
       "      \"vega\": \"https://cdn.jsdelivr.net/npm//vega@5?noext\",\n",
       "      \"vega-lib\": \"https://cdn.jsdelivr.net/npm//vega-lib?noext\",\n",
       "      \"vega-lite\": \"https://cdn.jsdelivr.net/npm//vega-lite@4.8.1?noext\",\n",
       "      \"vega-embed\": \"https://cdn.jsdelivr.net/npm//vega-embed@6?noext\",\n",
       "    };\n",
       "\n",
       "    function loadScript(lib) {\n",
       "      return new Promise(function(resolve, reject) {\n",
       "        var s = document.createElement('script');\n",
       "        s.src = paths[lib];\n",
       "        s.async = true;\n",
       "        s.onload = () => resolve(paths[lib]);\n",
       "        s.onerror = () => reject(`Error loading script: ${paths[lib]}`);\n",
       "        document.getElementsByTagName(\"head\")[0].appendChild(s);\n",
       "      });\n",
       "    }\n",
       "\n",
       "    function showError(err) {\n",
       "      outputDiv.innerHTML = `<div class=\"error\" style=\"color:red;\">${err}</div>`;\n",
       "      throw err;\n",
       "    }\n",
       "\n",
       "    function displayChart(vegaEmbed) {\n",
       "      vegaEmbed(outputDiv, spec, embedOpt)\n",
       "        .catch(err => showError(`Javascript Error: ${err.message}<br>This usually means there's a typo in your chart specification. See the javascript console for the full traceback.`));\n",
       "    }\n",
       "\n",
       "    if(typeof define === \"function\" && define.amd) {\n",
       "      requirejs.config({paths});\n",
       "      require([\"vega-embed\"], displayChart, err => showError(`Error loading script: ${err.message}`));\n",
       "    } else if (typeof vegaEmbed === \"function\") {\n",
       "      displayChart(vegaEmbed);\n",
       "    } else {\n",
       "      loadScript(\"vega\")\n",
       "        .then(() => loadScript(\"vega-lite\"))\n",
       "        .then(() => loadScript(\"vega-embed\"))\n",
       "        .catch(showError)\n",
       "        .then(() => displayChart(vegaEmbed));\n",
       "    }\n",
       "  })({\"config\": {\"view\": {\"continuousWidth\": 400, \"continuousHeight\": 300}}, \"data\": {\"name\": \"data-639da62a2c1b1bb55d35169753655acf\"}, \"mark\": {\"type\": \"bar\", \"opacity\": 0.6}, \"encoding\": {\"color\": {\"type\": \"nominal\", \"field\": \"source\"}, \"column\": {\"type\": \"quantitative\", \"field\": \"col\"}, \"row\": {\"type\": \"quantitative\", \"field\": \"row\"}, \"x\": {\"type\": \"quantitative\", \"field\": \"q1\", \"title\": null}, \"x2\": {\"field\": \"q2\", \"title\": null}}, \"$schema\": \"https://vega.github.io/schema/vega-lite/v4.8.1.json\", \"datasets\": {\"data-639da62a2c1b1bb55d35169753655acf\": [{\"row\": 0, \"col\": 0, \"q1\": 0.1592850832075438, \"q2\": 1.1943825298226642, \"source\": \"smc2\"}, {\"row\": 1, \"col\": 0, \"q1\": 0.4612195043384965, \"q2\": 1.773144583474583, \"source\": \"smc2\"}, {\"row\": 2, \"col\": 0, \"q1\": 0.39873605891851976, \"q2\": 1.7162642705338103, \"source\": \"smc2\"}, {\"row\": 3, \"col\": 0, \"q1\": 0.2076343228544457, \"q2\": 1.2707196233264373, \"source\": \"smc2\"}, {\"row\": 4, \"col\": 0, \"q1\": 0.5578341719751558, \"q2\": 1.9048571615308398, \"source\": \"smc2\"}, {\"row\": 5, \"col\": 0, \"q1\": -0.10904677766317011, \"q2\": 1.089155285112003, \"source\": \"smc2\"}]}}, {\"mode\": \"vega-lite\"});\n",
       "</script>"
      ],
      "text/plain": [
       "alt.Chart(...)"
      ]
     },
     "execution_count": 10,
     "metadata": {},
     "output_type": "execute_result"
    }
   ],
   "source": [
    "param = 'beta'\n",
    "df = get_post_df(ps[param])\n",
    "df_quant = df.groupby(['row', 'col'])[['value']].quantile(0.025).reset_index()\n",
    "df_quant.rename({'value':'q1'}, axis=1, inplace=True)\n",
    "df_quant2 = df.groupby(['row', 'col'])[['value']].quantile(0.975).reset_index()\n",
    "df_quant2.rename({'value':'q2'}, axis=1, inplace=True)\n",
    "\n",
    "df = df_quant.merge(df_quant2, on=['row', 'col'])\n",
    "\n",
    "# simple quantile chart\n",
    "df['source'] = 'smc2'\n",
    "c1 = alt.Chart(df).mark_bar(opacity=0.6).encode(\n",
    "        alt.X('q1', title=None),\n",
    "        alt.X2('q2', title=None),\n",
    "        alt.Row('row'),\n",
    "        alt.Column('col'),\n",
    "        alt.Color('source')\n",
    ")\n",
    "c1"
   ]
  },
  {
   "cell_type": "code",
   "execution_count": 11,
   "metadata": {},
   "outputs": [],
   "source": [
    "df['index'] = 'r_' + df.row.astype(str)+'.c_'+df.col.astype(str)\n",
    "df = df.loc[:,['index', 'q1', 'q2', 'source']]\n",
    "\n",
    "dd = pd.DataFrame(exp_data.raw_data['beta'], columns=['data'])\n",
    "dd['col'] = 0\n",
    "dd['row'] = np.arange(6)\n",
    "dd['index'] = 'r_' + dd.row.astype(str)+'.c_'+dd.col.astype(str)\n",
    "dd = dd.loc[:,['index', 'data']]\n",
    "plot_data = df.merge(dd, on=['index'])"
   ]
  },
  {
   "cell_type": "code",
   "execution_count": 12,
   "metadata": {},
   "outputs": [
    {
     "data": {
      "text/html": [
       "\n",
       "<div id=\"altair-viz-b2682e5f6156425d933a779736714ef7\"></div>\n",
       "<script type=\"text/javascript\">\n",
       "  (function(spec, embedOpt){\n",
       "    let outputDiv = document.currentScript.previousElementSibling;\n",
       "    if (outputDiv.id !== \"altair-viz-b2682e5f6156425d933a779736714ef7\") {\n",
       "      outputDiv = document.getElementById(\"altair-viz-b2682e5f6156425d933a779736714ef7\");\n",
       "    }\n",
       "    const paths = {\n",
       "      \"vega\": \"https://cdn.jsdelivr.net/npm//vega@5?noext\",\n",
       "      \"vega-lib\": \"https://cdn.jsdelivr.net/npm//vega-lib?noext\",\n",
       "      \"vega-lite\": \"https://cdn.jsdelivr.net/npm//vega-lite@4.8.1?noext\",\n",
       "      \"vega-embed\": \"https://cdn.jsdelivr.net/npm//vega-embed@6?noext\",\n",
       "    };\n",
       "\n",
       "    function loadScript(lib) {\n",
       "      return new Promise(function(resolve, reject) {\n",
       "        var s = document.createElement('script');\n",
       "        s.src = paths[lib];\n",
       "        s.async = true;\n",
       "        s.onload = () => resolve(paths[lib]);\n",
       "        s.onerror = () => reject(`Error loading script: ${paths[lib]}`);\n",
       "        document.getElementsByTagName(\"head\")[0].appendChild(s);\n",
       "      });\n",
       "    }\n",
       "\n",
       "    function showError(err) {\n",
       "      outputDiv.innerHTML = `<div class=\"error\" style=\"color:red;\">${err}</div>`;\n",
       "      throw err;\n",
       "    }\n",
       "\n",
       "    function displayChart(vegaEmbed) {\n",
       "      vegaEmbed(outputDiv, spec, embedOpt)\n",
       "        .catch(err => showError(`Javascript Error: ${err.message}<br>This usually means there's a typo in your chart specification. See the javascript console for the full traceback.`));\n",
       "    }\n",
       "\n",
       "    if(typeof define === \"function\" && define.amd) {\n",
       "      requirejs.config({paths});\n",
       "      require([\"vega-embed\"], displayChart, err => showError(`Error loading script: ${err.message}`));\n",
       "    } else if (typeof vegaEmbed === \"function\") {\n",
       "      displayChart(vegaEmbed);\n",
       "    } else {\n",
       "      loadScript(\"vega\")\n",
       "        .then(() => loadScript(\"vega-lite\"))\n",
       "        .then(() => loadScript(\"vega-embed\"))\n",
       "        .catch(showError)\n",
       "        .then(() => displayChart(vegaEmbed));\n",
       "    }\n",
       "  })({\"config\": {\"view\": {\"continuousWidth\": 400, \"continuousHeight\": 300}}, \"data\": {\"name\": \"data-795eca7f2d92ab2edc12b6bc250c57b4\"}, \"facet\": {\"type\": \"nominal\", \"field\": \"index\"}, \"spec\": {\"layer\": [{\"mark\": {\"type\": \"bar\", \"opacity\": 0.6}, \"encoding\": {\"color\": {\"type\": \"nominal\", \"field\": \"source\"}, \"x\": {\"type\": \"quantitative\", \"field\": \"q1\", \"scale\": {\"domain\": [-2, 2]}, \"title\": null}, \"x2\": {\"field\": \"q2\", \"title\": null}}}, {\"mark\": {\"type\": \"point\", \"color\": \"red\", \"opacity\": 1}, \"encoding\": {\"x\": {\"type\": \"quantitative\", \"field\": \"data\", \"title\": null}}}]}, \"columns\": 1, \"$schema\": \"https://vega.github.io/schema/vega-lite/v4.8.1.json\", \"datasets\": {\"data-795eca7f2d92ab2edc12b6bc250c57b4\": [{\"index\": \"r_0.c_0\", \"q1\": 0.1592850832075438, \"q2\": 1.1943825298226642, \"source\": \"smc2\", \"data\": 1.0}, {\"index\": \"r_1.c_0\", \"q1\": 0.4612195043384965, \"q2\": 1.773144583474583, \"source\": \"smc2\", \"data\": 0.7}, {\"index\": \"r_2.c_0\", \"q1\": 0.39873605891851976, \"q2\": 1.7162642705338103, \"source\": \"smc2\", \"data\": 0.8}, {\"index\": \"r_3.c_0\", \"q1\": 0.2076343228544457, \"q2\": 1.2707196233264373, \"source\": \"smc2\", \"data\": 0.5}, {\"index\": \"r_4.c_0\", \"q1\": 0.5578341719751558, \"q2\": 1.9048571615308398, \"source\": \"smc2\", \"data\": 0.9}, {\"index\": \"r_5.c_0\", \"q1\": -0.10904677766317011, \"q2\": 1.089155285112003, \"source\": \"smc2\", \"data\": 0.6}]}}, {\"mode\": \"vega-lite\"});\n",
       "</script>"
      ],
      "text/plain": [
       "alt.FacetChart(...)"
      ]
     },
     "execution_count": 12,
     "metadata": {},
     "output_type": "execute_result"
    }
   ],
   "source": [
    "c1 = alt.Chart(plot_data).mark_bar(opacity=0.6).encode(\n",
    "    alt.X('q1', title=None,  scale=alt.Scale(domain=[-2,2])),\n",
    "    alt.X2('q2', title=None),\n",
    "    alt.Color('source'),    \n",
    ")\n",
    "    \n",
    "\n",
    "c2 = alt.Chart(plot_data).mark_point(opacity=1, color='red').encode(\n",
    "        alt.X('data', title=None),\n",
    ")\n",
    "(c1+c2).facet(\n",
    "       'index',\n",
    "    columns=1\n",
    "    )\n"
   ]
  },
  {
   "cell_type": "code",
   "execution_count": 22,
   "metadata": {},
   "outputs": [
    {
     "data": {
      "text/plain": [
       "6.673016586834312"
      ]
     },
     "execution_count": 22,
     "metadata": {},
     "output_type": "execute_result"
    }
   ],
   "source": [
    "from scipy.special import logsumexp\n",
    "\n",
    "log_lklhds = load_obj(\"log_lklhds\", log_dir)[:(t+1)]\n",
    "marg_lklhd = np.exp(logsumexp(log_lklhds))\n",
    "marg_lklhd"
   ]
  },
  {
   "cell_type": "code",
   "execution_count": null,
   "metadata": {},
   "outputs": [],
   "source": []
  },
  {
   "cell_type": "code",
   "execution_count": null,
   "metadata": {},
   "outputs": [],
   "source": []
  },
  {
   "cell_type": "code",
   "execution_count": null,
   "metadata": {},
   "outputs": [],
   "source": []
  }
 ],
 "metadata": {
  "kernelspec": {
   "display_name": "Python 3",
   "language": "python",
   "name": "python3"
  },
  "language_info": {
   "codemirror_mode": {
    "name": "ipython",
    "version": 3
   },
   "file_extension": ".py",
   "mimetype": "text/x-python",
   "name": "python",
   "nbconvert_exporter": "python",
   "pygments_lexer": "ipython3",
   "version": "3.7.4"
  }
 },
 "nbformat": 4,
 "nbformat_minor": 2
}
